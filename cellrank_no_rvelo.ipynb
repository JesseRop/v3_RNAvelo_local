{
 "cells": [
  {
   "cell_type": "markdown",
   "id": "7aef9204-8215-4cce-9c7a-9aeed45eeef2",
   "metadata": {},
   "source": [
    "Importing modules from conda environment '/lustre/scratch118/malaria/team222/jr35/phd/envs_py/scv_jupcon/'"
   ]
  },
  {
   "cell_type": "code",
   "execution_count": null,
   "id": "b1105056-6be2-49e0-977e-d80ff3a32c8b",
   "metadata": {},
   "outputs": [],
   "source": [
    "import seaborn as sns\n",
    "import pandas as pd\n",
    "## import scrublet as scr\n",
    "import leidenalg\n",
    "import matplotlib.pyplot as plt\n",
    "import numpy as np\n",
    "import scvelo as scv\n",
    "import scanpy as sc\n",
    "import scipy.io\n",
    "import loompy as lp\n",
    "import anndata\n",
    "import cellrank as cr\n",
    "from cellrank.tl.kernels import VelocityKernel\n",
    "from cellrank.tl.kernels import ConnectivityKernel\n",
    "from cellrank.tl.estimators import GPCCA\n",
    "import bbknn"
   ]
  },
  {
   "cell_type": "code",
   "execution_count": null,
   "id": "18c5c0d2-37b6-47a4-b8bc-a64d13993908",
   "metadata": {},
   "outputs": [],
   "source": [
    "import plotly.express as px\n",
    "import pickle\n",
    "from IPython.display import display\n",
    "from upsetplot import generate_counts, plot \n",
    "import string\n"
   ]
  },
  {
   "cell_type": "code",
   "execution_count": null,
   "id": "9146ec93-a9ab-4f47-b027-c43a1a5e727f",
   "metadata": {},
   "outputs": [],
   "source": [
    "import warnings\n",
    "import re\n",
    "warnings.filterwarnings(action='ignore')\n",
    "warnings.simplefilter(\"ignore\", category=UserWarning)\n",
    "warnings.simplefilter(\"ignore\", category=FutureWarning)\n",
    "warnings.simplefilter(\"ignore\", category=DeprecationWarning)"
   ]
  },
  {
   "cell_type": "code",
   "execution_count": null,
   "id": "6fd1db4c-8a1a-440b-9ec9-429d14a118a3",
   "metadata": {},
   "outputs": [],
   "source": [
    "import os\n",
    "os.chdir('/Users/jr35/Google Drive/My Drive/PHD_documents/malaria_phd/sc_velo/')"
   ]
  },
  {
   "cell_type": "code",
   "execution_count": null,
   "id": "c8b575c4-6fb5-4940-8c21-6b5ec5dffb59",
   "metadata": {},
   "outputs": [],
   "source": [
    "os.getcwd()"
   ]
  },
  {
   "cell_type": "code",
   "execution_count": null,
   "id": "e46e4422-e6cc-46d2-a52b-9e2911ad50e1",
   "metadata": {},
   "outputs": [],
   "source": []
  },
  {
   "cell_type": "code",
   "execution_count": null,
   "id": "b4c20c8a-8980-4376-bb6c-9ab6e9732d84",
   "metadata": {},
   "outputs": [],
   "source": [
    "# import warnings\n",
    "\n",
    "# def function_that_warns():\n",
    "#     warnings.warn(\"deprecated\", DeprecationWarning)\n",
    "\n",
    "# with warnings.catch_warnings():\n",
    "#     warnings.simplefilter(\"ignore\")\n",
    "#     function_that_warns()  # this will not show a warning\n"
   ]
  },
  {
   "cell_type": "markdown",
   "id": "49cabcb7-5571-4b7b-b1b8-6ddea440b467",
   "metadata": {},
   "source": [
    "Check module version"
   ]
  },
  {
   "cell_type": "code",
   "execution_count": null,
   "id": "8595e0f0-527a-4b7f-b6d3-26546ca44888",
   "metadata": {},
   "outputs": [],
   "source": [
    "# print(cr.__version__)"
   ]
  },
  {
   "cell_type": "code",
   "execution_count": null,
   "id": "f69e66de-7bb4-43ab-b0c5-94f613c11380",
   "metadata": {},
   "outputs": [],
   "source": [
    "# unload module\n",
    "# del str"
   ]
  },
  {
   "cell_type": "code",
   "execution_count": null,
   "id": "bece32ad-1a9d-4458-bc20-1f17f986716f",
   "metadata": {},
   "outputs": [],
   "source": [
    "import importlib\n",
    "importlib.reload(cr)"
   ]
  },
  {
   "cell_type": "code",
   "execution_count": null,
   "id": "39c215aa-a4ba-4c54-a8fe-564f178cea3a",
   "metadata": {},
   "outputs": [],
   "source": [
    "cr.logging.print_versions()"
   ]
  },
  {
   "cell_type": "code",
   "execution_count": null,
   "id": "8e09c197-fb47-47c2-910d-b17ae5bd3f70",
   "metadata": {},
   "outputs": [],
   "source": [
    "cr.logging.print_versions()"
   ]
  },
  {
   "cell_type": "code",
   "execution_count": null,
   "id": "9a654482-1b60-4fa2-b016-11912139b4fd",
   "metadata": {
    "tags": []
   },
   "outputs": [],
   "source": [
    "# import holoviews as hv  # needed for scatter, scatterc and dpt\n",
    "# hv.extension('bokeh')\n",
    "\n",
    "# import interactive_plotting as ipl  \n",
    "\n",
    "# from bokeh.io import output_notebook\n",
    "# output_notebook()"
   ]
  },
  {
   "cell_type": "code",
   "execution_count": null,
   "id": "2a13fe58-11b1-45ed-8aa0-1648f0ec33c1",
   "metadata": {
    "tags": []
   },
   "outputs": [],
   "source": [
    "# # import scanpy.api as sc\n",
    "# import re\n",
    "# # import interactive_plotting as ipl\n",
    "# import holoviews as hv"
   ]
  },
  {
   "cell_type": "code",
   "execution_count": null,
   "id": "c6574ca8-363a-41a5-a8c2-20927c1641d1",
   "metadata": {
    "tags": []
   },
   "outputs": [],
   "source": [
    "# sc.logging.print_versions()\n",
    "# sc.settings.verbosity = 0"
   ]
  },
  {
   "cell_type": "code",
   "execution_count": null,
   "id": "af6ec55b-cccd-4448-861d-3bc155c50b68",
   "metadata": {
    "tags": []
   },
   "outputs": [],
   "source": [
    "# import interactive_plotting as ipl"
   ]
  },
  {
   "cell_type": "code",
   "execution_count": null,
   "id": "58615c9d-43a1-4e5b-bf0d-d75023dcf2ba",
   "metadata": {
    "tags": []
   },
   "outputs": [],
   "source": [
    "# import holoviews as hv"
   ]
  },
  {
   "cell_type": "code",
   "execution_count": null,
   "id": "7a591aff-a85a-460c-8276-a1ca1e747725",
   "metadata": {
    "tags": []
   },
   "outputs": [],
   "source": [
    "# hv.extension('bokeh')"
   ]
  },
  {
   "cell_type": "code",
   "execution_count": null,
   "id": "a2165d60-ae50-4533-937d-1eb9c070a76b",
   "metadata": {
    "tags": []
   },
   "outputs": [],
   "source": [
    "# from bokeh.io import output_notebook\n",
    "# output_notebook()"
   ]
  },
  {
   "cell_type": "code",
   "execution_count": null,
   "id": "386ee7a3-8aee-47cf-a3cd-c0666f921f56",
   "metadata": {},
   "outputs": [],
   "source": [
    "# scv.settings.verbosity = 3  # show errors(0), warnings(1), info(2), hints(3)\n",
    "# scv.settings.presenter_view = True  # set max width size for presenter view\n",
    "# scv.settings.set_figure_params('scvelo')  # for beautified visualization"
   ]
  },
  {
   "cell_type": "markdown",
   "id": "6bd6d30e-566b-4228-9c45-1876b840cb37",
   "metadata": {},
   "source": [
    "set some figure settings"
   ]
  },
  {
   "cell_type": "code",
   "execution_count": null,
   "id": "4cfb2f26-21b5-4463-8a1f-196c295d9fa0",
   "metadata": {},
   "outputs": [],
   "source": [
    "scv.set_figure_params(transparent=False, facecolor = 'white', frameon=True)"
   ]
  },
  {
   "cell_type": "code",
   "execution_count": null,
   "id": "201345db-53ad-49d5-9780-44b677797a15",
   "metadata": {},
   "outputs": [],
   "source": [
    "# packages installed with scrublet PyWavelets-1.1.1 annoy-1.17.0 cython-0.29.24 imageio-2.9.0 scikit-image-0.18.3 scrublet-0.2.3 tifffile-2021.8.30"
   ]
  },
  {
   "cell_type": "markdown",
   "id": "139f2562-dac7-41a9-abe8-784348ea062d",
   "metadata": {},
   "source": [
    "Initialize variables for some where the raw and processed data is"
   ]
  },
  {
   "cell_type": "code",
   "execution_count": null,
   "id": "b8f47152-a8b1-492c-b9c9-8d62f1563a12",
   "metadata": {},
   "outputs": [],
   "source": [
    "raw_data = 'data/raw/PfDB52e/'\n",
    "processed_data = 'data/processed/PfDB52e/'"
   ]
  },
  {
   "cell_type": "code",
   "execution_count": null,
   "id": "35679e3d-bc0e-4d12-8d2f-cb645df620f4",
   "metadata": {},
   "outputs": [],
   "source": [
    "##Read in in splice and unspliced matrices genereted by velocyto"
   ]
  },
  {
   "cell_type": "code",
   "execution_count": null,
   "id": "fc912f88-47a3-4b8b-972e-4444512e9871",
   "metadata": {},
   "outputs": [],
   "source": [
    "# from pathlib import Path\n",
    "# result = list(Path(\"data/processed/PfDB52e\").rglob(\"*.[lL][oO][oO][mM]\"))"
   ]
  },
  {
   "cell_type": "code",
   "execution_count": null,
   "id": "965c92ba-ae62-446a-bc43-b0b0a6a01831",
   "metadata": {
    "tags": []
   },
   "outputs": [],
   "source": [
    "# result"
   ]
  },
  {
   "cell_type": "markdown",
   "id": "38c223db-a91b-4d52-b0e1-e370fd5e1aeb",
   "metadata": {},
   "source": [
    "Combine day10 looms"
   ]
  },
  {
   "cell_type": "code",
   "execution_count": null,
   "id": "ec31022d-c368-40a8-a595-248d555abafd",
   "metadata": {},
   "outputs": [],
   "source": [
    "# loompy.combine(['data/processed/PfDB52e/day10/vcyto/possorted_genome_bam_7YCS2.loom', 'data/processed/PfDB52e/day10b/vcyto/possorted_genome_bam_09PD6.loom'], '/lustre/scratch118/malaria/team222/jr35/phd/V3_4TP/sc_velodata/processed/PfDB52e/d10_d10b/vcyto/possorted_genome_bam_d10_d10b.loom', key=\"Accession\")"
   ]
  },
  {
   "cell_type": "markdown",
   "id": "089dfbd0-7134-489d-82c7-dbeeac1e3198",
   "metadata": {},
   "source": [
    "Combine all looms"
   ]
  },
  {
   "cell_type": "code",
   "execution_count": null,
   "id": "91dcfd9a-4802-458a-8615-aaf29af2c68f",
   "metadata": {},
   "outputs": [],
   "source": [
    "# loompy.combine(['data/processed/PfDB52e/asexuals/vcyto/possorted_genome_bam_UZNXI.loom', 'data/processed/PfDB52e/day3/vcyto/possorted_genome_bam_ASHFZ.loom', 'data/processed/PfDB52e/day5/vcyto/possorted_genome_bam_H66NQ.loom','data/processed/PfDB52e/day10/vcyto/possorted_genome_bam_7YCS2.loom', 'data/processed/PfDB52e/day10b/vcyto/possorted_genome_bam_09PD6.loom'], '/lustre/scratch118/malaria/team222/jr35/phd/V3_4TP/sc_velodata/processed/PfDB52e/all_days/vcyto/possorted_genome_bam_all_days.loom', key=\"Accession\")"
   ]
  },
  {
   "cell_type": "code",
   "execution_count": null,
   "id": "28100b82-32b5-4171-9672-c616cfef60e5",
   "metadata": {},
   "outputs": [],
   "source": [
    "# d10_d10b_loom = scv.read_loom('/lustre/scratch118/malaria/team222/jr35/phd/V3_4TP/sc_velodata/processed/PfDB52e/d10_d10b/vcyto/possorted_genome_bam_d10_d10b.loom')"
   ]
  },
  {
   "cell_type": "code",
   "execution_count": null,
   "id": "3da335df-396b-46e9-bf55-586ac910a3cb",
   "metadata": {},
   "outputs": [],
   "source": [
    "# d5_filt_lp = scv.read_loom(processed_data + \"vcyto/possorted_genome_bam_H66NQ.loom\")"
   ]
  },
  {
   "cell_type": "markdown",
   "id": "3aa63702-16e6-46df-9ce4-17ce73155b3d",
   "metadata": {},
   "source": [
    "Read both day10s, format barcode names and combine and save as loom"
   ]
  },
  {
   "cell_type": "markdown",
   "id": "ee6639ff-d79c-464f-9d8a-b91d59f68ca8",
   "metadata": {},
   "source": [
    "Initialize variables for the different datasets/batches (days when sample was processed)"
   ]
  },
  {
   "cell_type": "code",
   "execution_count": null,
   "id": "64fa4496-9e3b-43be-9bd2-1149d6b15bbc",
   "metadata": {},
   "outputs": [],
   "source": [
    "# v3_days_d10 = ['day10', 'day10b']"
   ]
  },
  {
   "cell_type": "markdown",
   "id": "7b87d1c7-6307-4cf0-8200-f8d82c759696",
   "metadata": {},
   "source": [
    "Initialize variables for the loom files with spliced and unspliced matrices generated by velocyto for each of the different datasets/batches (days when sample was processed)"
   ]
  },
  {
   "cell_type": "code",
   "execution_count": null,
   "id": "19448329-433d-4669-9c39-4fe3ff2f004b",
   "metadata": {},
   "outputs": [],
   "source": [
    "# lp_name_d10 = [ 'possorted_genome_bam_7YCS2.loom', 'possorted_genome_bam_09PD6.loom']"
   ]
  },
  {
   "cell_type": "markdown",
   "id": "074b4044-40a3-4661-8757-535934d4e634",
   "metadata": {},
   "source": [
    "Reading in the loom files with spliced and unspliced matrices and formating barcodes to allow merging with seurat object"
   ]
  },
  {
   "cell_type": "code",
   "execution_count": null,
   "id": "645b9a22-6b88-4278-b010-45896ab7353a",
   "metadata": {},
   "outputs": [],
   "source": [
    "# bcode_days_d10 = ['D10a','D10b']"
   ]
  },
  {
   "cell_type": "code",
   "execution_count": null,
   "id": "f9f7a78c-37fd-422e-982a-7835345d7859",
   "metadata": {
    "tags": []
   },
   "outputs": [],
   "source": [
    "# filt_lp_d10 = []\n",
    "# for day, lp, v3_day in zip(v3_days_d10, lp_name_d10, bcode_days_d10):\n",
    "#     x = scv.read_loom('data/processed/PfDB52e/' + day + '/vcyto/' + lp)\n",
    "#     # scv.utils.clean_obs_names(x, alphabet='[AGTC]', id_length=12, inplace=True)\n",
    "#     x.obs_names = [v3_day+'_'+re.sub('^.*:|x$', '', i)+'-1' for i in x.obs_names]\n",
    "#     x.write_loom('data/processed/PfDB52e/' + day + '/vcyto/' + 'barcode_fmt_'+lp)\n",
    "#     filt_lp_d10.append(x)"
   ]
  },
  {
   "cell_type": "code",
   "execution_count": null,
   "id": "f350bea7-4d70-4f0c-852b-34322fcac358",
   "metadata": {},
   "outputs": [],
   "source": [
    "# loompy.combine(['data/processed/PfDB52e/day10/vcyto/barcode_fmt_possorted_genome_bam_7YCS2.loom', 'data/processed/PfDB52e/day10b/vcyto/barcode_fmt_possorted_genome_bam_09PD6.loom'], '/lustre/scratch118/malaria/team222/jr35/phd/V3_4TP/sc_velodata/processed/PfDB52e/d10_d10b/vcyto/barcode_fmt_possorted_genome_bam_d10_d10b.loom', key=\"Accession\")"
   ]
  },
  {
   "cell_type": "code",
   "execution_count": null,
   "id": "e20c1d0d-a703-40d5-b500-f77048896cb0",
   "metadata": {},
   "outputs": [],
   "source": [
    "##Copy loom files from farm to local using rsync (Had to set up ssh keys to enable the copying without asking for password)"
   ]
  },
  {
   "cell_type": "code",
   "execution_count": null,
   "id": "4ffd9146-0550-482e-89aa-49ec84043006",
   "metadata": {
    "tags": []
   },
   "outputs": [],
   "source": [
    "# %%bash\n",
    "# destination_day=(\"asexuals\" \"day3\" \"day5\" \"day10\" \"day10b\" \"d10_d10b\" \"all_days\")\n",
    "# lp_name=('possorted_genome_bam_UZNXI.loom' 'possorted_genome_bam_ASHFZ.loom' 'possorted_genome_bam_H66NQ.loom' 'possorted_genome_bam_7YCS2.loom' 'possorted_genome_bam_09PD6.loom' 'possorted_genome_bam_d10_d10b.loom' 'possorted_genome_bam_all_days.loom')\n",
    "# # w_dir='/Volumes/GoogleDrive/My\\ Drive/PHD_documents/malaria_phd/sc_velodata'\n",
    "# # echo $w_dir\n",
    "# for j in \"${!destination_day[@]}\";\n",
    "#     do\n",
    "#         mkdir -p /Volumes/GoogleDrive/My\\ Drive/PHD_documents/malaria_phd/sc_velodata/processed/PfDB52e/${destination_day[j]}/vcyto/\n",
    "#         rsync -av jr35@farm5-head1:/lustre/scratch118/malaria/team222/jr35/phd/V3_4TP/sc_velodata/processed/PfDB52e/${destination_day[j]}/vcyto/${lp_name[j]} /Volumes/GoogleDrive/My\\ Drive/PHD_documents/malaria_phd/sc_velodata/processed/PfDB52e/${destination_day[j]}/vcyto/\n",
    "#     done\n",
    "    "
   ]
  },
  {
   "cell_type": "markdown",
   "id": "18e77f83-5028-4416-a366-2eb665e23b14",
   "metadata": {},
   "source": [
    "Initialize variables for the different datasets/batches (days when sample was processed)"
   ]
  },
  {
   "cell_type": "code",
   "execution_count": null,
   "id": "c066b48f-2226-439b-aac2-0e3b7a20402b",
   "metadata": {},
   "outputs": [],
   "source": [
    "v3_days = ['asexuals', 'day3', 'day5', 'day10', 'day10b', 'd10_d10b', 'all_days']"
   ]
  },
  {
   "cell_type": "code",
   "execution_count": null,
   "id": "63c96d48-810f-4a07-a010-b5a3a2e6932c",
   "metadata": {},
   "outputs": [],
   "source": [
    "v3_days_all = ['asexuals', 'day3', 'day5', 'day10', 'day10b', 'd10_d10b', 'all_days', 'all']"
   ]
  },
  {
   "cell_type": "markdown",
   "id": "f742c430-4eba-4775-9b15-0f863bb1f649",
   "metadata": {},
   "source": [
    "Initialize variables for the loom files with spliced and unspliced matrices generated by velocyto for each of the different datasets/batches (days when sample was processed)"
   ]
  },
  {
   "cell_type": "code",
   "execution_count": null,
   "id": "5b3291aa-74f2-427c-98a1-ac26ab4db898",
   "metadata": {},
   "outputs": [],
   "source": [
    "# lp_name = ['possorted_genome_bam_UZNXI.loom', 'possorted_genome_bam_ASHFZ.loom', 'possorted_genome_bam_H66NQ.loom', 'possorted_genome_bam_7YCS2.loom', 'possorted_genome_bam_09PD6.loom', 'possorted_genome_bam_d10_d10b.loom', 'possorted_genome_bam_all_days.loom']"
   ]
  },
  {
   "cell_type": "code",
   "execution_count": null,
   "id": "82190172-1b59-49fd-bd57-588f6d40391c",
   "metadata": {},
   "outputs": [],
   "source": []
  },
  {
   "cell_type": "code",
   "execution_count": null,
   "id": "de1261f3-f4f2-4a95-8d53-d29196771c99",
   "metadata": {},
   "outputs": [],
   "source": [
    "# for day, lp in zip(v3_days[1:4], lp_name):\n",
    "#     print('data/processed/PfDB52e/' + day + '/' + lp)"
   ]
  },
  {
   "cell_type": "markdown",
   "id": "176f7b09-b2ac-441c-b2f2-480b49ec71fb",
   "metadata": {},
   "source": [
    "Reading in the loom files with spliced and unspliced matrices and formating barcodes to allow merging with seurat object"
   ]
  },
  {
   "cell_type": "code",
   "execution_count": null,
   "id": "cae6cbe5-fb0d-48d2-b0b5-94764ce3c490",
   "metadata": {},
   "outputs": [],
   "source": [
    "bcode_days = ['D0','D3','D5','D10a','D10b']"
   ]
  },
  {
   "cell_type": "code",
   "execution_count": null,
   "id": "486a132a-7f94-4492-97c3-bad4055f42af",
   "metadata": {},
   "outputs": [],
   "source": [
    "# filt_lp=[]\n",
    "\n",
    "# for j, lp in enumerate(lp_name):\n",
    "#     if j in range(0,5):\n",
    "#         x = scv.read_loom('data/processed/PfDB52e/' + v3_days[j] + '/vcyto/' + lp)\n",
    "#         # scv.utils.clean_obs_names(x, alphabet='[AGTC]', id_length=12, inplace=True)\n",
    "#         x.obs_names = [bcode_days[j]+'_'+re.sub('^.*:|x$', '', i)+'-1' for i in x.obs_names]\n",
    "#         filt_lp.append(x)\n",
    "#     else :\n",
    "#         x = scv.read_loom('data/processed/PfDB52e/' + v3_days[j] + '/vcyto/' + lp)\n",
    "#         # scv.utils.clean_obs_names(x, alphabet='[AGTC]', id_length=12, inplace=True)\n",
    "#         x.obs_names = [i.replace('possorted_genome_bam_UZNXI:', 'D0_').replace('possorted_genome_bam_ASHFZ:', 'D3_').replace('possorted_genome_bam_H66NQ:', 'D5_').replace('possorted_genome_bam_7YCS2:', 'D10a_').replace('possorted_genome_bam_09PD6:', 'D10b_').replace('x','-1')  for i in x.obs_names] \n",
    "#         filt_lp.append(x)"
   ]
  },
  {
   "cell_type": "code",
   "execution_count": null,
   "id": "ed019cf4-0184-415e-9e11-87324727fa9b",
   "metadata": {
    "tags": []
   },
   "outputs": [],
   "source": [
    "# filt_lp = []\n",
    "# for day, lp, v3_day in zip(v3_days, lp_name, bcode_days):\n",
    "#     x = scv.read_loom('data/processed/PfDB52e/' + day + '/vcyto/' + lp)\n",
    "#     # scv.utils.clean_obs_names(x, alphabet='[AGTC]', id_length=12, inplace=True)\n",
    "#     # x.obs_names = [v3_day+'_'+re.sub('^.*:|x$', '', i)+'-1' for i in x.obs_names]\n",
    "#     filt_lp.append(x)"
   ]
  },
  {
   "cell_type": "code",
   "execution_count": null,
   "id": "831f3231-e70b-40e7-bcad-46dedc0e5ff6",
   "metadata": {
    "tags": []
   },
   "outputs": [],
   "source": [
    "# filt_lp[6].obs_names"
   ]
  },
  {
   "cell_type": "markdown",
   "id": "5c04ba63-ce91-4bf2-a948-a7961bfd6f94",
   "metadata": {},
   "source": [
    "checking for duplicates in cell barcodes for merged day10 loom files as it is common for different batches to share the same barcodes"
   ]
  },
  {
   "cell_type": "code",
   "execution_count": null,
   "id": "f89cde81-a3c7-4cd6-9d35-f01d01762eb8",
   "metadata": {},
   "outputs": [],
   "source": [
    "# from collections import Counter\n",
    "# cc = Counter(filt_lp[6].obs_names)\n",
    "# cc.most_common(10)"
   ]
  },
  {
   "cell_type": "code",
   "execution_count": null,
   "id": "6a7ed76e-9f7b-4e08-8134-4097f6bec05b",
   "metadata": {},
   "outputs": [],
   "source": [
    "##scVelo using seurat umap"
   ]
  },
  {
   "cell_type": "markdown",
   "id": "f7ae2fe8-902c-425e-b0ca-23f6548fc833",
   "metadata": {},
   "source": [
    "Reading the raw data QCd by Elias"
   ]
  },
  {
   "cell_type": "code",
   "execution_count": null,
   "id": "832ecbb4-1a36-4c9b-8a5f-fec7f6877ce3",
   "metadata": {},
   "outputs": [],
   "source": [
    "ef_qcd = sc.read_h5ad(processed_data + '../RoadtoUMAP/Road2UMAP_raw.h5ad')"
   ]
  },
  {
   "cell_type": "code",
   "execution_count": null,
   "id": "227fd7fc-5645-4927-91fb-ad04dc9cf9ac",
   "metadata": {},
   "outputs": [],
   "source": [
    "\n",
    "# Raw data (for plotting)\n",
    "\n",
    "# We will use this object for gene trend plotting further down.\n",
    "\n",
    "# adata_raw = adata.copy()\n",
    "# sc.pp.filter_genes(adata_raw, min_cells=10)\n",
    "# scv.pp.normalize_per_cell(adata_raw)\n",
    "# sc.pp.log1p(adata_raw)\n",
    "\n",
    "# # annotate highly variable genes, but don't filter them out\n",
    "# sc.pp.highly_variable_genes(adata_raw)\n",
    "# print(f\"This detected {np.sum(adata_raw.var['highly_variable'])} highly variable genes. \")\n",
    "# adata.raw = adata_raw\n",
    "\n"
   ]
  },
  {
   "cell_type": "code",
   "execution_count": null,
   "id": "7b1cadb1-a37c-477e-8fca-c9a6f3cce53d",
   "metadata": {},
   "outputs": [],
   "source": [
    "ef_qcd_raw = ef_qcd.raw.to_adata().copy()"
   ]
  },
  {
   "cell_type": "code",
   "execution_count": null,
   "id": "e5da8c34-0100-4595-a993-7d62effd3bc3",
   "metadata": {},
   "outputs": [],
   "source": [
    "ef_nv_all = ef_qcd_raw[ef_qcd_raw.obs['Stage'].isin(['early ring', 'late ring', 'early trophozoite', 'late trophozoite', 'gametocyte (developing)', 'gametocyte (male)', 'gametocyte (female)'])]"
   ]
  },
  {
   "cell_type": "code",
   "execution_count": null,
   "id": "a533deed-edeb-43d2-9c77-8d651e04c422",
   "metadata": {},
   "outputs": [],
   "source": [
    "# ef_nv_all = ef_qcd.raw.to_adata().copy()"
   ]
  },
  {
   "cell_type": "code",
   "execution_count": null,
   "id": "71bc1e34-a6ea-4467-96de-d2a56803d52b",
   "metadata": {},
   "outputs": [],
   "source": [
    "ef_nv_all.obs['Stage'] = ef_nv_all.obs['Stage'].astype('category')\n",
    "# ef_nv_all.obs['rank3'] = ef_nv_all.obs['Stage'].astype('category')"
   ]
  },
  {
   "cell_type": "code",
   "execution_count": null,
   "id": "5a8ea3ec-bb4c-44c1-8d71-e01399fa154e",
   "metadata": {
    "tags": []
   },
   "outputs": [],
   "source": [
    "scv.pl.umap(ef_nv_all, color='assignment3', components='2,3')"
   ]
  },
  {
   "cell_type": "code",
   "execution_count": null,
   "id": "183379e6-b6d8-4b90-8d38-d5d80c41f84d",
   "metadata": {},
   "outputs": [],
   "source": [
    "ef_nv_all"
   ]
  },
  {
   "cell_type": "code",
   "execution_count": null,
   "id": "345ba3f0-1a72-448c-b0ae-4e2345478c01",
   "metadata": {},
   "outputs": [],
   "source": [
    "# filter, normalize total counts and log-transform\n",
    "sc.pp.filter_genes(ef_nv_all, min_cells=10)\n",
    "scv.pp.normalize_per_cell(ef_nv_all)\n",
    "sc.pp.log1p(ef_nv_all)"
   ]
  },
  {
   "cell_type": "code",
   "execution_count": null,
   "id": "641adfb8-c8f3-4849-a9d2-a90b1d1ac82a",
   "metadata": {},
   "outputs": [],
   "source": [
    "# hvg annotation\n",
    "sc.pp.highly_variable_genes(ef_nv_all)\n",
    "print(f\"This detected {np.sum(ef_nv_all.var['highly_variable'])} highly variable genes. \")"
   ]
  },
  {
   "cell_type": "code",
   "execution_count": null,
   "id": "9ff407ef-a937-475f-b166-a535aab93a14",
   "metadata": {},
   "outputs": [],
   "source": [
    "ef_nv_all_wot_raw = ef_nv_all.copy()"
   ]
  },
  {
   "cell_type": "code",
   "execution_count": null,
   "id": "c87f98d3-23bf-40df-8089-aa37e9979d2e",
   "metadata": {},
   "outputs": [],
   "source": [
    "# use scVelo's `moments` function for imputation - note that hack we're using here:\n",
    "# we're copying our `.X` matrix into the layers because that's where `scv.tl.moments`\n",
    "# expects to find counts for imputation\n",
    "ef_nv_all.layers[\"spliced\"] = ef_nv_all.X\n",
    "ef_nv_all.layers[\"unspliced\"] = ef_nv_all.X\n",
    "scv.pp.moments(ef_nv_all, n_pcs=15, n_neighbors=30)"
   ]
  },
  {
   "cell_type": "code",
   "execution_count": null,
   "id": "082035b7-4aed-46d2-a042-1206cb1eadd6",
   "metadata": {},
   "outputs": [],
   "source": [
    "ef_nv_all_ctk = ef_nv_all.copy()"
   ]
  },
  {
   "cell_type": "code",
   "execution_count": null,
   "id": "40be7a32-ff87-475c-8a36-350e992f7847",
   "metadata": {},
   "outputs": [],
   "source": []
  },
  {
   "cell_type": "code",
   "execution_count": null,
   "id": "d4aaca92-de81-418d-bb7a-e0995566295a",
   "metadata": {},
   "outputs": [],
   "source": []
  },
  {
   "cell_type": "code",
   "execution_count": null,
   "id": "a9fb3fdd-6e17-48b6-9772-894f5b1853af",
   "metadata": {},
   "outputs": [],
   "source": [
    "ef_nv_all.uns['iroot'] = np.flatnonzero(ef_nv_all.obs['assignment2'] == '3')[0]"
   ]
  },
  {
   "cell_type": "code",
   "execution_count": null,
   "id": "a7f451cc-68b3-4b0b-9425-dfda810d242b",
   "metadata": {},
   "outputs": [],
   "source": [
    "sc.tl.dpt(ef_nv_all)"
   ]
  },
  {
   "cell_type": "code",
   "execution_count": null,
   "id": "b366810a-16c7-422c-873c-18cd8b146f4b",
   "metadata": {},
   "outputs": [],
   "source": [
    "sc.pl.scatter(ef_nv_all, basis='umap', color=['dpt_pseudotime'], legend_loc='on data')"
   ]
  },
  {
   "cell_type": "code",
   "execution_count": null,
   "id": "20ce2f68-77c2-412d-843a-3df75c3a9d1c",
   "metadata": {},
   "outputs": [],
   "source": [
    "ef_nv_all"
   ]
  },
  {
   "cell_type": "code",
   "execution_count": null,
   "id": "eebbe58d-e813-4cd3-b415-f1498d0c828e",
   "metadata": {},
   "outputs": [],
   "source": [
    "ef_nv_ptk = cr.tl.kernels.PseudotimeKernel(ef_nv_all)"
   ]
  },
  {
   "cell_type": "code",
   "execution_count": null,
   "id": "e969a002-35c2-4baa-8b63-b46735284753",
   "metadata": {},
   "outputs": [],
   "source": [
    "sc.pl.violin(ef_nv_all, keys=[\"dpt_pseudotime\"], groupby=\"Stage\", rotation=90)"
   ]
  },
  {
   "cell_type": "code",
   "execution_count": null,
   "id": "0a72edf9-323e-4b97-8a53-2d17c90a64b9",
   "metadata": {},
   "outputs": [],
   "source": [
    "ef_nv_ptk.compute_transition_matrix(threshold_scheme=\"soft\", nu=0.5)"
   ]
  },
  {
   "cell_type": "code",
   "execution_count": null,
   "id": "cce69719-49af-4d0e-86e7-77df32a440b1",
   "metadata": {},
   "outputs": [],
   "source": [
    "print(ef_nv_ptk)"
   ]
  },
  {
   "cell_type": "code",
   "execution_count": null,
   "id": "3647901a-b0cc-480d-bf5f-815fd275e6e9",
   "metadata": {},
   "outputs": [],
   "source": []
  },
  {
   "cell_type": "code",
   "execution_count": null,
   "id": "51434088-d8cc-4585-889f-e0e6105d787e",
   "metadata": {},
   "outputs": [],
   "source": [
    "from cellrank.tl.kernels import ConnectivityKernel\n",
    "\n",
    "ef_nv_ck = ConnectivityKernel(ef_nv_all).compute_transition_matrix()"
   ]
  },
  {
   "cell_type": "code",
   "execution_count": null,
   "id": "88df88cd-252a-4098-a859-cc0217a7cdab",
   "metadata": {},
   "outputs": [],
   "source": [
    "combined_kernel = 0.5 * ef_nv_ck + 0.5 * ef_nv_ptk"
   ]
  },
  {
   "cell_type": "code",
   "execution_count": null,
   "id": "b42ff531-1cc0-45b2-a879-4c2fb08384f7",
   "metadata": {},
   "outputs": [],
   "source": [
    "print(combined_kernel)"
   ]
  },
  {
   "cell_type": "code",
   "execution_count": null,
   "id": "3afddb74-7f30-41b8-8a65-9e3c23b264af",
   "metadata": {},
   "outputs": [],
   "source": [
    "from cellrank.tl.estimators import GPCCA\n",
    "\n",
    "g = GPCCA(combined_kernel)\n",
    "print(g)"
   ]
  },
  {
   "cell_type": "code",
   "execution_count": null,
   "id": "a3ceb343-d2de-4ea9-aba3-a450e382dc9b",
   "metadata": {
    "jupyter": {
     "outputs_hidden": true
    },
    "tags": []
   },
   "outputs": [],
   "source": [
    "g.compute_schur(n_components=20)\n",
    "g.plot_spectrum()\n"
   ]
  },
  {
   "cell_type": "code",
   "execution_count": null,
   "id": "9f792e65-604f-4fd1-8d8f-6952cb09ac2e",
   "metadata": {},
   "outputs": [],
   "source": [
    "g.compute_macrostates(n_states=7, cluster_key=\"Stage\")"
   ]
  },
  {
   "cell_type": "code",
   "execution_count": null,
   "id": "6ee2e135-0571-4e21-b0bc-0879a3e8b13e",
   "metadata": {},
   "outputs": [],
   "source": [
    "g.plot_macrostates(components = '2,3')"
   ]
  },
  {
   "cell_type": "code",
   "execution_count": null,
   "id": "954941e3-671e-49c4-843c-dbfff8d34d09",
   "metadata": {},
   "outputs": [],
   "source": [
    "g.compute_terminal_states()"
   ]
  },
  {
   "cell_type": "code",
   "execution_count": null,
   "id": "60ae4240-97a1-4414-bc90-b1ac41852e4a",
   "metadata": {},
   "outputs": [],
   "source": [
    "g.plot_terminal_states()"
   ]
  },
  {
   "cell_type": "code",
   "execution_count": null,
   "id": "6d1cf474-d83a-4fd7-951c-e6f29e423a79",
   "metadata": {},
   "outputs": [],
   "source": [
    "g.set_terminal_states({\"Early gametocyte\": ef_nv_all[ef_nv_all.obs[\"anno_300cells\"] == \"Gametocytes (developing)\"].obs_names, \"Asexual commited Trophozoite\": ef_nv_all[ef_nv_all.obs[\"Stage\"] == \"late trophozoite\"].obs_names})"
   ]
  },
  {
   "cell_type": "code",
   "execution_count": null,
   "id": "62cbe8c7-7939-4884-85e9-c89c33ecf580",
   "metadata": {},
   "outputs": [],
   "source": [
    "g.compute_absorption_probabilities(solver='direct')"
   ]
  },
  {
   "cell_type": "code",
   "execution_count": null,
   "id": "1f6d0014-79e2-42c4-b58a-8f679c48d8c2",
   "metadata": {},
   "outputs": [],
   "source": [
    "ef_nv_bf1_d = g.compute_lineage_drivers(lineages=\"Early gametocyte\", return_drivers=True, cluster_key= 'Stage', clusters=['early ring','late ring'])"
   ]
  },
  {
   "cell_type": "code",
   "execution_count": null,
   "id": "6928daa4-268f-416d-a4a8-d6a59b2f6eda",
   "metadata": {},
   "outputs": [],
   "source": [
    "ef_nv_bf1_d"
   ]
  },
  {
   "cell_type": "code",
   "execution_count": null,
   "id": "5f64d5e4-e958-4961-9ef1-fefd31812963",
   "metadata": {},
   "outputs": [],
   "source": [
    "g.set_terminal_states({\"Male gametocytes\": ef_nv_all[ef_nv_all.obs[\"anno_300cells\"] == \"Gametocytes (late male)\"].obs_names, \"Female gametocytes\": ef_nv_all[ef_nv_all.obs[\"anno_300cells\"] == \"Gametocytes (late female)\"].obs_names, \"Asexual Trophozoite\": ef_nv_all[ef_nv_all.obs[\"assignment3\"] == \"35\"].obs_names})"
   ]
  },
  {
   "cell_type": "code",
   "execution_count": null,
   "id": "b9371f0c-dcfa-44e2-8d11-e75a32a90ec2",
   "metadata": {},
   "outputs": [],
   "source": [
    "g.compute_absorption_probabilities(solver='direct')"
   ]
  },
  {
   "cell_type": "code",
   "execution_count": null,
   "id": "ebc48beb-9a58-4b7c-bce2-52a5ee3a3565",
   "metadata": {},
   "outputs": [],
   "source": [
    "ef_nv_bf2_fd = g.compute_lineage_drivers(lineages=\"Female gametocytes\", return_drivers=True, cluster_key= 'anno_300cells', clusters=['Gametocytes (comitted)','Gametocytes (developing)'])"
   ]
  },
  {
   "cell_type": "code",
   "execution_count": null,
   "id": "b2c28fab-0b3e-40ab-a21b-d11cd2d2ceee",
   "metadata": {},
   "outputs": [],
   "source": [
    "ef_nv_bf2_md"
   ]
  },
  {
   "cell_type": "code",
   "execution_count": null,
   "id": "12b28fe6-a049-42b0-86ea-f7a620a35b8b",
   "metadata": {},
   "outputs": [],
   "source": [
    "ef_nv_bf2_md = g.compute_lineage_drivers(lineages=\"Male gametocytes\", return_drivers=True, cluster_key= 'anno_300cells', clusters=['Gametocytes (comitted)','Gametocytes (developing)'])"
   ]
  },
  {
   "cell_type": "code",
   "execution_count": null,
   "id": "6e02f1b4-28f1-474a-b3e8-6dc001eaed1f",
   "metadata": {},
   "outputs": [],
   "source": [
    "ef_nv_bf2_md"
   ]
  },
  {
   "cell_type": "code",
   "execution_count": null,
   "id": "4a02c3df-7561-4a76-b998-dad3679b04f2",
   "metadata": {},
   "outputs": [],
   "source": [
    "ef_nv_bf2_td = g.compute_lineage_drivers(lineages=\"Asexual Trophozoite\", return_drivers=True, cluster_key= 'Stage', clusters=['early ring','late ring', 'early trophozoite'])"
   ]
  },
  {
   "cell_type": "code",
   "execution_count": null,
   "id": "69f3605f-8602-4701-ba3b-492c72c225dc",
   "metadata": {},
   "outputs": [],
   "source": [
    "ef_nv_bf2_td"
   ]
  },
  {
   "cell_type": "code",
   "execution_count": null,
   "id": "c399b1ab-b8bd-41c9-803b-540fea394aa2",
   "metadata": {},
   "outputs": [],
   "source": [
    "ef_nv_all_ctk_c = ef_nv_all_ctk.copy()"
   ]
  },
  {
   "cell_type": "code",
   "execution_count": null,
   "id": "f1b7d670-565f-4b68-ae42-49fe3832421d",
   "metadata": {},
   "outputs": [],
   "source": [
    "ef_ctk = CytoTRACEKernel(ef_nv_all_ctk_c, backward=True).compute_cytotrace()"
   ]
  },
  {
   "cell_type": "code",
   "execution_count": null,
   "id": "983f1c39-327f-45ff-8776-d2e2a89470aa",
   "metadata": {},
   "outputs": [],
   "source": [
    "scv.pl.scatter(\n",
    "    ef_nv_all_ctk_c,\n",
    "    c=[\"ct_pseudotime\", \"Stage\"],\n",
    "    basis=\"umap\",\n",
    "    legend_loc=\"right\",\n",
    "    color_map=\"gnuplot2\",\n",
    ")\n"
   ]
  },
  {
   "cell_type": "code",
   "execution_count": null,
   "id": "52debd24-dbad-4f1d-8cd8-d682ba1bf41c",
   "metadata": {},
   "outputs": [],
   "source": [
    "ef_nv_all_ck = ef_nv_all.copy()"
   ]
  },
  {
   "cell_type": "code",
   "execution_count": null,
   "id": "17ace56d-406f-4333-9d3c-38aefce29c65",
   "metadata": {},
   "outputs": [],
   "source": [
    "ck = ConnectivityKernel(ef_nv_all_ck).compute_transition_matrix(density_normalize=False)"
   ]
  },
  {
   "cell_type": "code",
   "execution_count": null,
   "id": "f3715e1f-3242-4fb6-aa45-d511b1bd9b75",
   "metadata": {},
   "outputs": [],
   "source": [
    "ck.compute_projection()"
   ]
  },
  {
   "cell_type": "code",
   "execution_count": null,
   "id": "2fd22fd1-4ecc-4077-bfc0-afb49f44294e",
   "metadata": {},
   "outputs": [],
   "source": [
    "ef_nv_all_ck"
   ]
  },
  {
   "cell_type": "code",
   "execution_count": null,
   "id": "486108bf-125d-467b-a0de-407c84974d07",
   "metadata": {},
   "outputs": [],
   "source": []
  },
  {
   "cell_type": "code",
   "execution_count": null,
   "id": "3547ec5d-d4e4-4eb6-bd0f-2417050b8306",
   "metadata": {
    "jupyter": {
     "outputs_hidden": true
    },
    "tags": []
   },
   "outputs": [],
   "source": [
    "scv.pl.scatter(\n",
    "    ef_nv_all_ck,\n",
    "    c=[\"rank3\", \"Stage\"],\n",
    "    basis=\"umap\",\n",
    "    legend_loc=\"right\",\n",
    "    color_map=\"gnuplot2\",\n",
    ")\n"
   ]
  },
  {
   "cell_type": "code",
   "execution_count": null,
   "id": "dcee8af1-7805-4fe9-a495-62b61adc04d6",
   "metadata": {
    "jupyter": {
     "outputs_hidden": true
    },
    "tags": []
   },
   "outputs": [],
   "source": [
    "scv.pl.velocity_embedding_stream(adata, vkey='T_fwd')"
   ]
  },
  {
   "cell_type": "code",
   "execution_count": null,
   "id": "ec24fe4a-3148-489e-a53b-f7669cb27a14",
   "metadata": {
    "jupyter": {
     "outputs_hidden": true
    },
    "tags": []
   },
   "outputs": [],
   "source": [
    "# ef_nv_ptk.co(basis=\"umap\")\n",
    "scv.pl.velocity_embedding_stream(\n",
    "    ef_nv_all, color=\"Stage\", basis=\"umap\", legend_loc=\"right\", vkey= 'schur_matrix_fwd'\n",
    ")"
   ]
  },
  {
   "cell_type": "code",
   "execution_count": null,
   "id": "d3e40167-87b6-4e8f-9ceb-df61a6fcfaa8",
   "metadata": {
    "tags": []
   },
   "outputs": [],
   "source": [
    "# sc.tl.draw_graph(ef_nv_all)"
   ]
  },
  {
   "cell_type": "code",
   "execution_count": null,
   "id": "1b6fa9aa-8a50-40ee-add0-4b702dd3ee6e",
   "metadata": {},
   "outputs": [],
   "source": [
    "# scv.pl.scatter(ef_nv_all, basis=\"X_draw_graph_fa\", c=\"Stage\", legend_loc=\"right\")"
   ]
  },
  {
   "cell_type": "code",
   "execution_count": null,
   "id": "878d77ea-1bc1-4766-9cf9-dcb442629cab",
   "metadata": {},
   "outputs": [],
   "source": [
    "from cellrank.tl.kernels import CytoTRACEKernel\n",
    "\n",
    "ef_nv_ctk = cr.tl.kernels.CytoTRACEKernel(ef_nv_all)\n"
   ]
  },
  {
   "cell_type": "code",
   "execution_count": null,
   "id": "9ab1e877-063e-458b-b40c-1e33c10981c5",
   "metadata": {},
   "outputs": [],
   "source": [
    "ef_nv_ctk"
   ]
  },
  {
   "cell_type": "code",
   "execution_count": null,
   "id": "d16bea39-20f5-4607-809c-df85db22b589",
   "metadata": {
    "jupyter": {
     "outputs_hidden": true
    },
    "tags": []
   },
   "outputs": [],
   "source": [
    "# scv.pl.scatter(\n",
    "#     ef_nv_all,\n",
    "#     c=[ \"dpt_pseudotime\"],\n",
    "#     basis=\"X_umap\",\n",
    "#     legend_loc=\"right\",\n",
    "#     color_map=\"gnuplot2\",\n",
    "# )"
   ]
  },
  {
   "cell_type": "code",
   "execution_count": null,
   "id": "57aceb0d-1a76-4354-9ba1-844454d8dea8",
   "metadata": {},
   "outputs": [],
   "source": [
    "ef_nv_all"
   ]
  },
  {
   "cell_type": "code",
   "execution_count": null,
   "id": "4e170cb6-687b-4bbb-aec7-a3744dbef20e",
   "metadata": {},
   "outputs": [],
   "source": [
    "# cellrank.tl.kernels.PseudotimeKernel"
   ]
  },
  {
   "cell_type": "code",
   "execution_count": null,
   "id": "5fa9cc60-e486-40da-86c8-71f948288da6",
   "metadata": {},
   "outputs": [],
   "source": [
    "ef_nv_ctk.compute_transition_matrix(threshold_scheme=\"soft\", nu=0.5, time_key='dpt_pseudotime')"
   ]
  },
  {
   "cell_type": "code",
   "execution_count": null,
   "id": "cb65c9c5-3c8a-446b-b564-0a40bc1212bb",
   "metadata": {},
   "outputs": [],
   "source": [
    "scv.settings.verbosity = 3\n",
    "scv.settings.set_figure_params(\"scvelo\")\n",
    "cr.settings.verbosity = 2"
   ]
  },
  {
   "cell_type": "code",
   "execution_count": null,
   "id": "e3501a6f-db79-4d36-badf-22f45e3b1445",
   "metadata": {},
   "outputs": [],
   "source": [
    "ctk.compute_transition_matrix(threshold_scheme=\"soft\", nu=0.5)"
   ]
  },
  {
   "cell_type": "code",
   "execution_count": null,
   "id": "e6c46aeb-a836-449d-b5e5-cb429142c77b",
   "metadata": {},
   "outputs": [],
   "source": [
    "ctk.compute_projection(basis=\"force_directed\")\n",
    "scv.pl.velocity_embedding_stream(\n",
    "    adata, color=\"Stage\", vkey=\"T_fwd\", basis=\"force_directed\", legend_loc=\"right\"\n",
    ")"
   ]
  },
  {
   "cell_type": "code",
   "execution_count": null,
   "id": "eb238033-3817-4bb2-bc35-32524897b1b5",
   "metadata": {},
   "outputs": [],
   "source": [
    "scv.pl.scatter(\n",
    "    adata, basis=\"force_directed\", c=\"gt_terminal_states\", legend_loc=\"right\"\n",
    ")"
   ]
  },
  {
   "cell_type": "code",
   "execution_count": null,
   "id": "93cf2a15-019c-4664-a61b-44a4f2810db2",
   "metadata": {},
   "outputs": [],
   "source": [
    "ctk.plot_random_walks(\n",
    "    n_sims=15,\n",
    "    start_ixs={\"Stage\": \"03.3-HIGH\"},\n",
    "    basis=\"force_directed\",\n",
    "    color=\"Stage\",\n",
    "    legend_loc=\"right\",\n",
    "    seed=1,\n",
    ")"
   ]
  },
  {
   "cell_type": "code",
   "execution_count": null,
   "id": "085e1fb0-84e7-4dd2-a494-d851ecad2b7b",
   "metadata": {},
   "outputs": [],
   "source": [
    "from cellrank.tl.estimators import GPCCA\n",
    "\n",
    "g_fwd = GPCCA(ctk)\n",
    "print(g_fwd)"
   ]
  },
  {
   "cell_type": "code",
   "execution_count": null,
   "id": "c336ff38-b94e-4a8f-838c-a3e622778972",
   "metadata": {},
   "outputs": [],
   "source": [
    "g_fwd.compute_schur(n_components=20)\n",
    "g_fwd.plot_spectrum(real_only=True)"
   ]
  },
  {
   "cell_type": "code",
   "execution_count": null,
   "id": "c68af764-04e5-4bf4-b760-571d2593339c",
   "metadata": {},
   "outputs": [],
   "source": [
    "g_fwd.compute_macrostates(n_states=3, cluster_key=\"lineages\")\n",
    "g_fwd.plot_macrostates(\n",
    "    discrete=True, legend_loc=\"right\", size=100, basis=\"force_directed\"\n",
    ")"
   ]
  },
  {
   "cell_type": "code",
   "execution_count": null,
   "id": "ef792a76-7a8e-49e9-9dd3-a0bf88aa4c15",
   "metadata": {},
   "outputs": [],
   "source": [
    "g_fwd.compute_macrostates(n_states=3, cluster_key=\"Stage\")\n",
    "g_fwd.plot_macrostates(\n",
    "    discrete=True, legend_loc=\"right\", size=100, basis=\"force_directed\"\n",
    ")"
   ]
  },
  {
   "cell_type": "code",
   "execution_count": null,
   "id": "626a8468-fd8a-49cf-8f31-642818abd379",
   "metadata": {},
   "outputs": [],
   "source": [
    "g_fwd.plot_coarse_T()"
   ]
  },
  {
   "cell_type": "code",
   "execution_count": null,
   "id": "11c07837-3242-49e8-b3d6-77ddd6e54ba1",
   "metadata": {},
   "outputs": [],
   "source": [
    "g_fwd.compute_macrostates(n_states=3, cluster_key=\"lineages\")\n",
    "g_fwd.set_terminal_states_from_macrostates(names=[\"Prechordal Plate\", \"Notochord\"])"
   ]
  },
  {
   "cell_type": "code",
   "execution_count": null,
   "id": "bca6b69c-d9d4-4e1d-94a1-2e26795a17f3",
   "metadata": {},
   "outputs": [],
   "source": [
    "g_fwd.compute_absorption_probabilities()\n",
    "g_fwd.plot_absorption_probabilities(same_plot=False, size=50, basis=\"force_directed\")"
   ]
  },
  {
   "cell_type": "code",
   "execution_count": null,
   "id": "a027b63c-fb8d-4412-9b8e-96ff01b14c9f",
   "metadata": {},
   "outputs": [],
   "source": [
    "scv.pl.scatter(adata, basis=\"force_directed\", c=\"lineages\")"
   ]
  },
  {
   "cell_type": "code",
   "execution_count": null,
   "id": "1ebb609b-736c-4e3a-8ccb-8ca418198266",
   "metadata": {},
   "outputs": [],
   "source": []
  },
  {
   "cell_type": "code",
   "execution_count": null,
   "id": "f21bcd4f-8ccb-45c0-91c9-1076d74f1c3e",
   "metadata": {},
   "outputs": [],
   "source": [
    "##wot"
   ]
  },
  {
   "cell_type": "code",
   "execution_count": null,
   "id": "77a736ce-d21d-456b-85b9-1c137f2fe98d",
   "metadata": {},
   "outputs": [],
   "source": [
    "ef_nv_all_wot_raw"
   ]
  },
  {
   "cell_type": "code",
   "execution_count": null,
   "id": "db12d564-0388-4795-ae51-fa2bec511db4",
   "metadata": {},
   "outputs": [],
   "source": [
    "ef_nv_all_wot=ef_nv_all_wot_raw.copy()"
   ]
  },
  {
   "cell_type": "code",
   "execution_count": null,
   "id": "e1a8d0ae-6b7f-4cbe-bba9-9a904885b955",
   "metadata": {},
   "outputs": [],
   "source": [
    "sc.pp.neighbors(ef_nv_all_wot, random_state=0)"
   ]
  },
  {
   "cell_type": "code",
   "execution_count": null,
   "id": "1cf9dc9f-72e4-4963-8b81-0973119f2cd9",
   "metadata": {},
   "outputs": [],
   "source": [
    "from cellrank.external.kernels import WOTKernel"
   ]
  },
  {
   "cell_type": "code",
   "execution_count": null,
   "id": "cd14db9e-53db-4a89-a34f-0859c70acdd0",
   "metadata": {},
   "outputs": [],
   "source": [
    "scv.settings.set_figure_params(\n",
    "    \"scvelo\", dpi_save=400, dpi=80, transparent=True, fontsize=20, color_map=\"viridis\"\n",
    ")"
   ]
  },
  {
   "cell_type": "code",
   "execution_count": null,
   "id": "bb97b519-ec72-44fd-b040-fe54ee9aef95",
   "metadata": {},
   "outputs": [],
   "source": [
    "ef_nv_all_wot.obs['orig.ident'] = ef_nv_all_wot.obs['orig.ident'].astype('category')"
   ]
  },
  {
   "cell_type": "code",
   "execution_count": null,
   "id": "b39e89b6-0e90-4bf6-9f2d-97a07aa1c2e3",
   "metadata": {},
   "outputs": [],
   "source": [
    "ef_nv_all_wot.obs.replace({'orig.ident':{'D0':0,'D3':3,'D5':5,'D10a':10,'D10b':10}})['orig.ident']"
   ]
  },
  {
   "cell_type": "code",
   "execution_count": null,
   "id": "f78c09bb-7a5d-4d8d-9fbb-0453b8646356",
   "metadata": {},
   "outputs": [],
   "source": [
    "ef_nv_all_wot.obs.replace({'orig.ident':{'D0':0,'D3':3,'D5':5,'D10a':10,'D10b':10}}).value_counts('orig.ident')"
   ]
  },
  {
   "cell_type": "code",
   "execution_count": null,
   "id": "5d35dab1-6673-4b0a-a806-7ded3d5a38a3",
   "metadata": {
    "tags": []
   },
   "outputs": [],
   "source": [
    "# ef_nv_all_wot.obs.value_counts('orig.ident')"
   ]
  },
  {
   "cell_type": "code",
   "execution_count": null,
   "id": "9154dc69-672c-48ed-a078-b932be95782a",
   "metadata": {},
   "outputs": [],
   "source": [
    "ef_nv_all_wot.obs['orig.ident'] = ef_nv_all_wot.obs.replace({'orig.ident':{'D0':0,'D3':3,'D5':5,'D10a':10,'D10b':10}})['orig.ident']"
   ]
  },
  {
   "cell_type": "code",
   "execution_count": null,
   "id": "b3d9e2e6-85b9-42dd-bbb6-f1a3e4be4d71",
   "metadata": {
    "tags": []
   },
   "outputs": [],
   "source": [
    "nv_wk = WOTKernel(ef_nv_all_wot, time_key=\"orig.ident\")"
   ]
  },
  {
   "cell_type": "code",
   "execution_count": null,
   "id": "beaf0722-0880-42e9-a7b1-60e65df971ed",
   "metadata": {},
   "outputs": [],
   "source": [
    "nv_wk.compute_transition_matrix(\n",
    "    growth_iters=5, self_transitions=\"connectivities\"\n",
    ")"
   ]
  },
  {
   "cell_type": "code",
   "execution_count": null,
   "id": "6e9d056b-282a-4616-8f38-e173e1c7cee7",
   "metadata": {},
   "outputs": [],
   "source": [
    "nv_wk.plot_random_walks(\n",
    "    n_sims=300,\n",
    "    max_iter=200,\n",
    "    start_ixs={\"Stage\": 'early ring'},\n",
    "    basis=\"umap\",\n",
    "    c=\"orig.ident\",\n",
    "    legend_loc=\"none\",\n",
    "    linealpha=0.5,\n",
    "    dpi=150,\n",
    "    # components='2,3'\n",
    ")"
   ]
  },
  {
   "cell_type": "code",
   "execution_count": null,
   "id": "92924ad9-835b-4cd0-8740-5789cbd1d174",
   "metadata": {},
   "outputs": [],
   "source": [
    "ax = nv_wk.plot_single_flow(\n",
    "    cluster_key=\"Stage\",\n",
    "    time_key=\"orig.ident\",\n",
    "    cluster=\"early trophozoite\",\n",
    "    min_flow=0.1,\n",
    "    xticks_step_size=4,\n",
    "    show=False,\n",
    "    dpi=100,\n",
    "    clusters=['gametocyte (developing)', 'gametocyte (male)', 'gametocyte (female)'],\n",
    ")\n",
    "\n",
    "# prettify the plot a bit, rotate x-axis tick labels\n",
    "locs, labels = plt.xticks()\n",
    "ax.set_xticks(locs)\n",
    "ax.set_xticklabels(labels, rotation=90)\n",
    "\n",
    "plt.show()"
   ]
  },
  {
   "cell_type": "code",
   "execution_count": null,
   "id": "407c634d-5ea0-4ecf-aec7-0173b8ae9b30",
   "metadata": {},
   "outputs": [],
   "source": [
    "nv_ck = ConnectivityKernel(ef_nv_all_wot)\n",
    "nv_ck.compute_transition_matrix()\n",
    "\n",
    "nv_combined_kernel = 0.6 * nv_wk + 0.4 * nv_ck"
   ]
  },
  {
   "cell_type": "code",
   "execution_count": null,
   "id": "2de519ff-1f4e-4a4b-ba12-b6fb33788003",
   "metadata": {},
   "outputs": [],
   "source": [
    "nv_combined_kernel"
   ]
  },
  {
   "cell_type": "code",
   "execution_count": null,
   "id": "2a717827-bd83-483f-97ca-380ee7221844",
   "metadata": {},
   "outputs": [],
   "source": [
    "nv_g = GPCCA(nv_combined_kernel)"
   ]
  },
  {
   "cell_type": "code",
   "execution_count": null,
   "id": "de8b1a89-3308-4ddf-802a-aefbdc86c992",
   "metadata": {
    "jupyter": {
     "outputs_hidden": true
    },
    "tags": []
   },
   "outputs": [],
   "source": [
    "nv_g.compute_schur()\n",
    "nv_g.plot_spectrum(real_only=True)"
   ]
  },
  {
   "cell_type": "code",
   "execution_count": null,
   "id": "27bd35da-10da-46c1-9e97-6dc8cfd35bea",
   "metadata": {},
   "outputs": [],
   "source": [
    "nv_g.compute_macrostates(n_states=7, cluster_key=\"Stage\")\n",
    "nv_g.plot_macrostates(discrete=True, basis=\"umap\", legend_loc=\"right\")\n"
   ]
  },
  {
   "cell_type": "code",
   "execution_count": null,
   "id": "ae777003-67de-4ced-874b-4b293ecaedb9",
   "metadata": {},
   "outputs": [],
   "source": [
    "nv_g.plot_macrostate_composition(key=\"orig.ident\")"
   ]
  },
  {
   "cell_type": "code",
   "execution_count": null,
   "id": "69b4942a-c0ad-4a36-97a2-5adce2f66912",
   "metadata": {},
   "outputs": [],
   "source": []
  },
  {
   "cell_type": "code",
   "execution_count": null,
   "id": "aaff9494-961d-403a-b0fb-dd7df04488cd",
   "metadata": {},
   "outputs": [],
   "source": [
    "nv_g.set_terminal_states({\"Male\": ef_nv_all[ef_nv_all.obs[\"anno_300cells\"] == \"Gametocytes (late male)\"].obs_names, \"Female\": ef_nv_all[ef_nv_all.obs[\"anno_300cells\"] == \"Gametocytes (late female)\"].obs_names, \"Asexual Trophozoite\": ef_nv_all[ef_nv_all.obs[\"assignment3\"] == \"35\"].obs_names})"
   ]
  },
  {
   "cell_type": "code",
   "execution_count": null,
   "id": "e356b436-2926-4e90-8232-edb10a7c9230",
   "metadata": {},
   "outputs": [],
   "source": [
    "nv_g.compute_absorption_probabilities(solver=\"gmres\", use_petsc=True)"
   ]
  },
  {
   "cell_type": "code",
   "execution_count": null,
   "id": "3b528bcb-7cbb-4a2f-b944-e0be9e972db7",
   "metadata": {},
   "outputs": [],
   "source": [
    "nv_g.plot_absorption_probabilities(same_plot=False, basis=\"umap\", perc=[0, 99])"
   ]
  },
  {
   "cell_type": "code",
   "execution_count": null,
   "id": "eb9a695f-d3a3-43cc-9677-97013a94ab50",
   "metadata": {},
   "outputs": [],
   "source": [
    "nv_g.pl.circular_projection(adata, keys=[\"cell_sets\", \"day\"], legend_loc=\"none\", title=\"\")"
   ]
  },
  {
   "cell_type": "code",
   "execution_count": null,
   "id": "e4c3c623-de18-4f52-9660-0fcb213a9d01",
   "metadata": {},
   "outputs": [],
   "source": [
    "cr.pl.log_odds(\n",
    "    ef_nv_all_wot,\n",
    "    lineage_1=\"Female\",\n",
    "    lineage_2=None,\n",
    "    time_key=\"orig.ident\",\n",
    "    keys=[\"PF3D7-0936600\"],\n",
    "    threshold=0,\n",
    "    size=2,\n",
    "    xticks_step_size=4,\n",
    "    figsize=(9, 4),\n",
    "    legend_loc=\"upper right out\",\n",
    ")"
   ]
  },
  {
   "cell_type": "code",
   "execution_count": null,
   "id": "94275ac9-7d40-4266-8751-9391514fde5c",
   "metadata": {},
   "outputs": [],
   "source": [
    "cr.pl.log_odds(\n",
    "    ef_nv_all_wot,\n",
    "    lineage_1=\"Female\",\n",
    "    lineage_2=None,\n",
    "    time_key=\"orig.ident\",\n",
    "    keys=[\"Stage\"],\n",
    "    threshold=0,\n",
    "    size=2,\n",
    "    xticks_step_size=4,\n",
    "    figsize=(9, 4),\n",
    "    legend_loc=\"upper right out\",\n",
    ")"
   ]
  },
  {
   "cell_type": "code",
   "execution_count": null,
   "id": "fdb27e50-8309-4b53-a673-d903ed076f5d",
   "metadata": {},
   "outputs": [],
   "source": []
  },
  {
   "cell_type": "code",
   "execution_count": null,
   "id": "6da93442-95c3-41ed-bb5f-6e198675e83f",
   "metadata": {},
   "outputs": [],
   "source": [
    "nv_wot_bf2_fd = nv_g.compute_lineage_drivers(lineages=\"Female\", return_drivers=True, cluster_key= 'anno_300cells', clusters=['Gametocytes (comitted)','Gametocytes (developing)'])"
   ]
  },
  {
   "cell_type": "code",
   "execution_count": null,
   "id": "8881c2f7-b042-45fa-8551-aca6725fe55c",
   "metadata": {},
   "outputs": [],
   "source": [
    "nv_g.compute_lineage_drivers(lineages=\"Female\", return_drivers=False, cluster_key= 'anno_300cells', clusters=['Gametocytes (comitted)','Gametocytes (developing)'])"
   ]
  },
  {
   "cell_type": "code",
   "execution_count": null,
   "id": "68b1a5f1-7363-4e54-877f-5744e3d0378f",
   "metadata": {},
   "outputs": [],
   "source": [
    "nv_wot_bf2_fd"
   ]
  },
  {
   "cell_type": "code",
   "execution_count": null,
   "id": "a0d8bd53-bee1-4c84-87e1-6ce3161b1059",
   "metadata": {},
   "outputs": [],
   "source": [
    "nv_wot_bf2_md = nv_g.compute_lineage_drivers(lineages=\"Male\", return_drivers=True, cluster_key= 'anno_300cells', clusters=['Gametocytes (comitted)','Gametocytes (developing)'])"
   ]
  },
  {
   "cell_type": "code",
   "execution_count": null,
   "id": "d61d5011-5389-41f4-9f18-b5e47dff7181",
   "metadata": {},
   "outputs": [],
   "source": [
    "nv_g.compute_lineage_drivers(lineages=\"Male\", return_drivers=False, cluster_key= 'anno_300cells', clusters=['Gametocytes (comitted)','Gametocytes (developing)'])"
   ]
  },
  {
   "cell_type": "code",
   "execution_count": null,
   "id": "64cd1b37-247c-480b-a29d-fdd91fa60e05",
   "metadata": {},
   "outputs": [],
   "source": [
    "nv_wot_bf2_md"
   ]
  },
  {
   "cell_type": "code",
   "execution_count": null,
   "id": "ebf01a2f-b905-45cd-a6fc-9274208b3b1c",
   "metadata": {},
   "outputs": [],
   "source": [
    "nv_wot_bf2_td = nv_g.compute_lineage_drivers(lineages=\"Asexual Trophozoite\", return_drivers=True, cluster_key= 'Stage', clusters=['early ring','late ring', 'early trophozoite'])"
   ]
  },
  {
   "cell_type": "code",
   "execution_count": null,
   "id": "87cd2292-b142-44a5-8323-70d5962b63b3",
   "metadata": {},
   "outputs": [],
   "source": [
    "nv_g.compute_lineage_drivers(lineages=\"Asexual Trophozoite\", return_drivers=False, cluster_key= 'Stage', clusters=['early ring','late ring', 'early trophozoite'])"
   ]
  },
  {
   "cell_type": "code",
   "execution_count": null,
   "id": "e8644c7a-537a-424f-b6d8-c804be8b20c9",
   "metadata": {},
   "outputs": [],
   "source": [
    "nv_wot_bf2_td"
   ]
  },
  {
   "cell_type": "code",
   "execution_count": null,
   "id": "f17f5738-001b-412f-9fe7-af8d0bdd82b3",
   "metadata": {
    "jupyter": {
     "outputs_hidden": true
    },
    "tags": []
   },
   "outputs": [],
   "source": [
    "nv_g.compute_lineage_drivers(return_drivers=False)"
   ]
  },
  {
   "cell_type": "code",
   "execution_count": null,
   "id": "01dc6d9f-42f7-4b72-a45c-a35e9a1d20dd",
   "metadata": {},
   "outputs": [],
   "source": [
    "# define some gene sets\n",
    "female_genes = [\"PF3D7-1012400\", \"PF3D7-0500800\"]\n",
    "male_genes = [\"PF3D7-0423700\", \"PF3D7-1302100\"]\n",
    "asx_troph_genes = [\"PF3D7-0207600\", \"PF3D7-0207500\"]\n",
    "genes_oi = {\n",
    "    \"Female\": female_genes,\n",
    "    \"Male\": male_genes,\n",
    "    \"Asexual Trophozoite\": asx_troph_genes,\n",
    "}"
   ]
  },
  {
   "cell_type": "code",
   "execution_count": null,
   "id": "1bcad4c4-52bd-44bd-a359-ebe42788fc2e",
   "metadata": {},
   "outputs": [],
   "source": [
    "# compute mean gene expression across cells, so we have somethign nice to color the dots by\n",
    "ef_nv_all_wot.var[\"means\"] = ef_nv_all_wot.X.A.mean(axis=0)"
   ]
  },
  {
   "cell_type": "code",
   "execution_count": null,
   "id": "99c8864c-3cd5-468c-a495-92995d82f8b4",
   "metadata": {
    "tags": []
   },
   "outputs": [],
   "source": [
    "# call the actual plotting method via the estimator object\n",
    "nv_g.plot_lineage_drivers_correlation(\n",
    "    lineage_x=\"Female\",\n",
    "    lineage_y=\"Male\",\n",
    "    color=\"means\",\n",
    "    gene_sets=genes_oi,\n",
    "    legend_loc=\"none\",\n",
    "    figsize=(7, 7),\n",
    "    fontsize=20,\n",
    "    title=\"driver genes for trophoblast vs. neural differentiation\",\n",
    "    size=20\n",
    ")"
   ]
  },
  {
   "cell_type": "code",
   "execution_count": null,
   "id": "6ba99ecb-c33b-4810-8c2e-884069394034",
   "metadata": {},
   "outputs": [],
   "source": [
    "# scv.pl.scatter(ef_qcd_raw, basis=\"force_directed\", c=\"Stage\", legend_loc=\"right\")"
   ]
  },
  {
   "cell_type": "code",
   "execution_count": null,
   "id": "dcaaf1cd-14e9-4d53-88a7-eec40be86bcc",
   "metadata": {},
   "outputs": [],
   "source": [
    "type(ef_qcd_raw.obs['Stage'])"
   ]
  },
  {
   "cell_type": "markdown",
   "id": "52e7b0e6-d50a-4d73-a25d-931c1806e96d",
   "metadata": {},
   "source": [
    "Cleaning cell barcodes to remove the strings added at the beginning and end to allow merging with loom files containing spliced and unspliced counts"
   ]
  },
  {
   "cell_type": "code",
   "execution_count": null,
   "id": "27d191c7-20a3-4d03-a2af-5c276275f056",
   "metadata": {},
   "outputs": [],
   "source": [
    "def subset_seu_data(stages, day):\n",
    "    subset_ad = ef_qcd_raw[(ef_qcd_raw.obs['Stage'].isin(stages)) & (ef_qcd_raw.obs['orig.ident'] == day), ]\n",
    "    # scv.utils.clean_obs_names(subset_ad)\n",
    "    # scv.utils.clean_obs_names(subset_ad, alphabet='[AGTC]', id_length=12)\n",
    "    return subset_ad"
   ]
  },
  {
   "cell_type": "code",
   "execution_count": null,
   "id": "f4204f10-d72a-49cd-9a32-3e00ffe86e10",
   "metadata": {},
   "outputs": [],
   "source": [
    "# ef_qc_data = []\n",
    "# for i in ['D0', 'D3', 'D5', 'D10a', 'D10b']:\n",
    "#     x = subset_seu_data(stages= ['late ring', 'early trophozoite', 'late trophozoite', 'gametocyte (developing)'], day= i)\n",
    "#     ef_qc_data.append(x)"
   ]
  },
  {
   "cell_type": "code",
   "execution_count": null,
   "id": "b814a006-58f1-4409-bcf4-38e1cb9d94b5",
   "metadata": {},
   "outputs": [],
   "source": [
    "v3_days"
   ]
  },
  {
   "cell_type": "markdown",
   "id": "760209a1-8fb6-4934-9574-47f6b540e233",
   "metadata": {},
   "source": [
    "Subset datasets to contain only the stages of interest for the first bifurcation point"
   ]
  },
  {
   "cell_type": "code",
   "execution_count": null,
   "id": "ca53e3eb-e6bd-4eb6-bae3-46189c185fcc",
   "metadata": {},
   "outputs": [],
   "source": [
    "ef_qc_data_bf1 = []\n",
    "for i in ['D0', 'D3', 'D5', 'D10a', 'D10b']:\n",
    "    x = subset_seu_data(stages= ['late ring', 'early trophozoite', 'late trophozoite', 'gametocyte (developing)', 'gametocyte (male)', 'gametocyte (female)'], day= i)\n",
    "    ef_qc_data_bf1.append(x)"
   ]
  },
  {
   "cell_type": "markdown",
   "id": "a7d113f7-bebc-4ed0-9389-ff543baf0b49",
   "metadata": {},
   "source": [
    "Merging day10 and day10b(old) datasets and appending this to the list with all the other days ('asexuals', 'day3', 'day5', 'day10', 'day10b') for the first bifurcation point"
   ]
  },
  {
   "cell_type": "code",
   "execution_count": null,
   "id": "31ebd0b6-241e-4f3c-ab01-6d7fc106f1a2",
   "metadata": {
    "tags": []
   },
   "outputs": [],
   "source": [
    "ef_qc_data_bf1.append(ef_qcd_raw[(ef_qcd_raw.obs['Stage'].isin(['late ring', 'early trophozoite', 'late trophozoite', 'gametocyte (developing)', 'gametocyte (male)', 'gametocyte (female)'])) & (ef_qcd_raw.obs['orig.ident'].isin(['D10a', 'D10b']))])"
   ]
  },
  {
   "cell_type": "code",
   "execution_count": null,
   "id": "1a27f61a-830e-4a61-a02d-72ad662aade6",
   "metadata": {},
   "outputs": [],
   "source": [
    "ef_qc_data_bf1.append(ef_qcd_raw[ef_qcd_raw.obs['Stage'].isin(['late ring', 'early trophozoite', 'late trophozoite', 'gametocyte (developing)', 'gametocyte (male)', 'gametocyte (female)'])])"
   ]
  },
  {
   "cell_type": "code",
   "execution_count": null,
   "id": "b594d9e6-82df-4743-8afc-9d80c0048a48",
   "metadata": {},
   "outputs": [],
   "source": [
    "ef_qc_data_bf1.append(ef_qcd_raw)"
   ]
  },
  {
   "cell_type": "code",
   "execution_count": null,
   "id": "44128692-608f-4543-b6e1-d3c52c21b789",
   "metadata": {
    "tags": []
   },
   "outputs": [],
   "source": [
    "ef_qc_data_bf1"
   ]
  },
  {
   "cell_type": "code",
   "execution_count": null,
   "id": "7880ed70-bea8-449d-9dad-4810e269294d",
   "metadata": {},
   "outputs": [],
   "source": [
    "# ef_qc_data_bf1.append(ef_qc_data_bf1[3].concatenate(ef_qc_data_bf1[4]))"
   ]
  },
  {
   "cell_type": "code",
   "execution_count": null,
   "id": "e88a8b74-f476-448b-9b80-57d05b0d0eeb",
   "metadata": {},
   "outputs": [],
   "source": [
    "# for obj in ef_qc_data_bf1[5:]:\n",
    "#     obj.obs_names = [re.sub('-0$|-1$|-2$|-3$|-4$','', i) for i in obj.obs_names ]"
   ]
  },
  {
   "cell_type": "code",
   "execution_count": null,
   "id": "e32a9eab-5294-44de-a82b-618cb4ba619b",
   "metadata": {},
   "outputs": [],
   "source": [
    "ef_qc_data_bf1[6].obs_names"
   ]
  },
  {
   "cell_type": "markdown",
   "id": "47c5e070-09e0-49bd-8a02-ab13c723ee12",
   "metadata": {},
   "source": [
    "Cleaning cell barcodes to allow merging with loom files "
   ]
  },
  {
   "cell_type": "code",
   "execution_count": null,
   "id": "6cd2953a-f058-44c6-926c-b0ce06e0eb94",
   "metadata": {},
   "outputs": [],
   "source": [
    "# for obj in ef_qc_data_bf1:\n",
    "#     scv.utils.clean_obs_names(obj)"
   ]
  },
  {
   "cell_type": "code",
   "execution_count": null,
   "id": "27be8a7d-fae3-48f5-bd08-ba2963fb1f6c",
   "metadata": {},
   "outputs": [],
   "source": []
  },
  {
   "cell_type": "markdown",
   "id": "3e503114-831f-437f-b31d-1062562e7bec",
   "metadata": {},
   "source": [
    "Subset datasets to contain only the stages of interest for the second bifurcation point"
   ]
  },
  {
   "cell_type": "code",
   "execution_count": null,
   "id": "aefabae0-2a77-479f-827c-917a6fcc3dca",
   "metadata": {},
   "outputs": [],
   "source": [
    "ef_qc_data_bf2 = []\n",
    "for i in ['D5', 'D10a', 'D10b']:\n",
    "    x = subset_seu_data(stages= ['gametocyte (developing)', 'gametocyte (male)', 'gametocyte (female)'], day= i)\n",
    "    ef_qc_data_bf2.append(x)"
   ]
  },
  {
   "cell_type": "markdown",
   "id": "906953c5-2b03-4444-81ab-aff2edaeb2e7",
   "metadata": {},
   "source": [
    "Merging day10 and day10b(old) datasets and appending this to the list with all the other days ('asexuals', 'day3', 'day5', 'day10', 'day10b') for the second bifurcation point"
   ]
  },
  {
   "cell_type": "code",
   "execution_count": null,
   "id": "b8567f23-3f66-4baf-92c5-ef6db9860230",
   "metadata": {
    "tags": []
   },
   "outputs": [],
   "source": [
    "ef_qc_data_bf2.append(ef_qcd_raw[(ef_qcd_raw.obs['Stage'].isin(['gametocyte (developing)', 'gametocyte (male)', 'gametocyte (female)'])) & (ef_qcd_raw.obs['orig.ident'].isin(['D10a', 'D10b']))])"
   ]
  },
  {
   "cell_type": "code",
   "execution_count": null,
   "id": "ec4f915f-a391-4ae3-90c0-887cdfed41bb",
   "metadata": {},
   "outputs": [],
   "source": [
    "ef_qc_data_bf2.append(ef_qcd_raw[ef_qcd_raw.obs['Stage'].isin(['gametocyte (developing)', 'gametocyte (male)', 'gametocyte (female)'])])"
   ]
  },
  {
   "cell_type": "code",
   "execution_count": null,
   "id": "8eeb61cd-f666-4837-acea-8e339e005ac2",
   "metadata": {
    "tags": []
   },
   "outputs": [],
   "source": [
    "# ef_qc_data_bf2.append(ef_qc_data_bf2[1].concatenate(ef_qc_data_bf2[2]))"
   ]
  },
  {
   "cell_type": "code",
   "execution_count": null,
   "id": "a0baaed2-d0a5-4af9-9891-70cd08f85d58",
   "metadata": {},
   "outputs": [],
   "source": [
    "# for obj in ef_qc_data_bf2[2:]:\n",
    "#     obj.obs_names = [re.sub('-0$|-1$|-2$|-3$|-4$','', i) for i in obj.obs_names ]"
   ]
  },
  {
   "cell_type": "markdown",
   "id": "f0e3778a-1b1f-4991-bd31-9621ce05f910",
   "metadata": {},
   "source": [
    "Cleaning cell barcodes to allow merging with loom files ef_qc_data_bf2[3].obs_names"
   ]
  },
  {
   "cell_type": "code",
   "execution_count": null,
   "id": "b4b2b62a-c422-4f28-ae59-b8ec0ac96e2a",
   "metadata": {},
   "outputs": [],
   "source": [
    "# for obj in ef_qc_data_bf2:\n",
    "#     scv.utils.clean_obs_names(obj)"
   ]
  },
  {
   "cell_type": "code",
   "execution_count": null,
   "id": "1898559d-bb65-4f62-b021-d141602d378e",
   "metadata": {},
   "outputs": [],
   "source": [
    "ef_qc_data_bf2"
   ]
  },
  {
   "cell_type": "markdown",
   "id": "2a6d883b-fd66-4380-aa44-639dab80342d",
   "metadata": {},
   "source": [
    "Plotting umap of the subsetted datasets"
   ]
  },
  {
   "cell_type": "code",
   "execution_count": null,
   "id": "8c028180-e45e-4070-bb95-b9faf4b0b442",
   "metadata": {
    "tags": []
   },
   "outputs": [],
   "source": [
    "for inp in ef_qc_data_bf1:\n",
    "    inp.obs['Stage'] = inp.obs['Stage'].astype('category')\n",
    "    scv.pl.umap(inp, color='Stage', components='2,3')\n",
    "    # print(type(inp.obs['Stage']))"
   ]
  },
  {
   "cell_type": "code",
   "execution_count": null,
   "id": "81cbc41c-bc53-484e-aec9-d51d45f8a1f4",
   "metadata": {
    "tags": []
   },
   "outputs": [],
   "source": [
    "for inp in ef_qc_data_bf2:\n",
    "    inp.obs['Stage'] = inp.obs['Stage'].astype('category')\n",
    "    scv.pl.umap(inp, color='Stage', components='2,3')\n",
    "    # print(type(inp.obs['Stage']))"
   ]
  },
  {
   "cell_type": "code",
   "execution_count": null,
   "id": "8fcfd4e1-90ad-4969-8f48-6c258bbf560f",
   "metadata": {},
   "outputs": [],
   "source": [
    "# ef_qcd_raw_bf1_d5 = ef_qcd_raw[(ef_qcd_raw.obs['Stage'].isin(['gametocyte (developing)', 'gametocyte (male)', 'gametocyte (female)'])) & (ef_qcd_raw.obs['orig.ident'] == 'D5'), ]"
   ]
  },
  {
   "cell_type": "code",
   "execution_count": null,
   "id": "b2a83ba0-267f-4144-afdb-1b1cc12b6b35",
   "metadata": {},
   "outputs": [],
   "source": [
    "# ef_qcd_bf1 = sc.read_h5ad(processed_data + '../../RoadtoUMAP/ef_qcd_bf1.h5ad')"
   ]
  },
  {
   "cell_type": "code",
   "execution_count": null,
   "id": "74a3c08e-1ad2-469a-b644-9798bd1deb3c",
   "metadata": {},
   "outputs": [],
   "source": [
    "# ef_qcd_bf2 = sc.read_h5ad(processed_data + '../../RoadtoUMAP/ef_qcd_bf2.h5ad')"
   ]
  },
  {
   "cell_type": "code",
   "execution_count": null,
   "id": "26904b5d-6941-4896-823e-2f476d86481c",
   "metadata": {
    "tags": []
   },
   "outputs": [],
   "source": [
    "# sc.pl.umap(ef_qc_data_bf2[4].obs['Stage'].astype('category'), color='Stage', cmap='virid.in', projection='3d')"
   ]
  },
  {
   "cell_type": "code",
   "execution_count": null,
   "id": "e3cf0526-318b-491a-a48f-5d3b95fe6f5f",
   "metadata": {
    "tags": []
   },
   "outputs": [],
   "source": [
    "ef_qc_data_bf2[2].obs_names"
   ]
  },
  {
   "cell_type": "markdown",
   "id": "e60bbe2e-ce02-40a5-940c-5ab235e52e36",
   "metadata": {},
   "source": [
    "Plotting 3D umap for one example"
   ]
  },
  {
   "cell_type": "code",
   "execution_count": null,
   "id": "d8863f48-ecb8-4a6c-a321-40347e11f94d",
   "metadata": {},
   "outputs": [],
   "source": [
    "umap = ef_qc_data_bf1[1].obsm['X_umap']"
   ]
  },
  {
   "cell_type": "code",
   "execution_count": null,
   "id": "a884b802-3e8c-4572-baa7-8bcd27fdff98",
   "metadata": {},
   "outputs": [],
   "source": [
    "fig_3d = px.scatter_3d(x =umap[:, 0], y = umap[:, 1], z = umap[:, 2], color = ef_qc_data_bf1[1].obs.Stage)"
   ]
  },
  {
   "cell_type": "code",
   "execution_count": null,
   "id": "f5319891-4785-47f2-9d04-8c6bec58e4ef",
   "metadata": {
    "tags": []
   },
   "outputs": [],
   "source": [
    "fig_3d.update_traces(marker_size=1)\n",
    "\n",
    "\n",
    "fig_3d.show()"
   ]
  },
  {
   "cell_type": "code",
   "execution_count": null,
   "id": "07899b53-794f-404f-9d4a-bdecf8b982c0",
   "metadata": {},
   "outputs": [],
   "source": [
    "# A = [1,2,3,4,5,6,7,8,9]\n",
    "# B = [\"A\",\"B\",\"C\"]\n",
    "# Z = []\n",
    "# for i, a in enumerate(A):\n",
    "#     Z.append((a, B[i % len(B)]))"
   ]
  },
  {
   "cell_type": "code",
   "execution_count": null,
   "id": "c1438b75-e210-4266-a4ba-3f7f3daa63c4",
   "metadata": {},
   "outputs": [],
   "source": []
  },
  {
   "cell_type": "code",
   "execution_count": null,
   "id": "6e412dfd-bc96-4f7c-95cb-0a7ce5882b24",
   "metadata": {},
   "outputs": [],
   "source": [
    "##Write out a cell annotation for soneson replication"
   ]
  },
  {
   "cell_type": "code",
   "execution_count": null,
   "id": "14d4e0dc-9be2-4dd6-a39b-4b6aadc21279",
   "metadata": {},
   "outputs": [],
   "source": [
    "# d5_annotn_soneson = d5_trim_seu.obs[['Stage.course', 'Stage']]\n"
   ]
  },
  {
   "cell_type": "code",
   "execution_count": null,
   "id": "bd662782-75dd-4e15-84eb-75633bee9784",
   "metadata": {},
   "outputs": [],
   "source": [
    "##Formating names to match Soneson et al description\n",
    "# d5_annotn_soneson = d5_annotn_soneson.rename_axis(\"index\").reset_index().rename(columns={'Stage.course' : 'clusters_coarse', 'Stage' : 'clusters'})"
   ]
  },
  {
   "cell_type": "code",
   "execution_count": null,
   "id": "42fbd873-2d5d-4907-9e98-0749f37a44d3",
   "metadata": {},
   "outputs": [],
   "source": []
  },
  {
   "cell_type": "code",
   "execution_count": null,
   "id": "e782536b-1c5d-4d09-b5c8-c76873f4216d",
   "metadata": {},
   "outputs": [],
   "source": [
    "# d5_annotn_soneson.to_csv(\"data/processed/PfDB52e/day5/soneson_output/pf_d5_celltypes.csv\", index=False)"
   ]
  },
  {
   "cell_type": "code",
   "execution_count": null,
   "id": "cde8bb00-ac3b-422f-a27a-a071cb39264e",
   "metadata": {},
   "outputs": [],
   "source": [
    "# textfile = open(\"data/processed/PfDB52e/day5/jr_bif_qc_barcodes.tsv\", \"w\")\n",
    "\n",
    "# for element in d5_trim_seu.obs_names.to_list():\n",
    "\n",
    "#     textfile.write(element + \"\\n\")\n",
    "\n",
    "# textfile.close()"
   ]
  },
  {
   "cell_type": "markdown",
   "id": "316b8bd5-657a-4535-a15e-24cb8c478229",
   "metadata": {},
   "source": [
    "QC checks - Tabulating the number of Stage categories, check for duplicates and glimpse the counts"
   ]
  },
  {
   "cell_type": "code",
   "execution_count": null,
   "id": "1d425ece-34ec-4ba6-aeee-87eaf45b61ab",
   "metadata": {},
   "outputs": [],
   "source": [
    "ef_qc_data_bf2[1].obs['Stage'].value_counts()"
   ]
  },
  {
   "cell_type": "code",
   "execution_count": null,
   "id": "988777aa-8f16-4008-a8bc-bcc8c49c8c3b",
   "metadata": {
    "tags": []
   },
   "outputs": [],
   "source": [
    "for obj1 in ef_qc_data_bf1:\n",
    "    print(np.count_nonzero(obj1.obs_names.duplicated()))"
   ]
  },
  {
   "cell_type": "code",
   "execution_count": null,
   "id": "6c7ca53b-a9c6-4a9b-93f1-f4c6248fb081",
   "metadata": {
    "tags": []
   },
   "outputs": [],
   "source": [
    "for obj2 in ef_qc_data_bf2:\n",
    "    print(np.count_nonzero(obj2.obs_names.duplicated()))"
   ]
  },
  {
   "cell_type": "code",
   "execution_count": null,
   "id": "14b90a48-08d5-4323-addd-b4d2bab82d2b",
   "metadata": {
    "tags": []
   },
   "outputs": [],
   "source": [
    "# for obj in filt_lp:\n",
    "#     print(np.count_nonzero(obj.obs_names.duplicated()))"
   ]
  },
  {
   "cell_type": "code",
   "execution_count": null,
   "id": "48168799-aa04-41f6-9989-7128335ec9c2",
   "metadata": {
    "tags": []
   },
   "outputs": [],
   "source": [
    "for obj1 in ef_qc_data_bf1:\n",
    "    print(np.count_nonzero(obj1.obs_names.duplicated()))\n",
    "    print(len(obj1.var_names))\n",
    "    print(obj1.var_names[1:2])"
   ]
  },
  {
   "cell_type": "code",
   "execution_count": null,
   "id": "463f2a0a-09ed-4426-b921-ee75af75f9cd",
   "metadata": {
    "tags": []
   },
   "outputs": [],
   "source": [
    "for obj2 in ef_qc_data_bf2:\n",
    "    print(np.count_nonzero(obj2.obs_names.duplicated()))\n",
    "    print(len(obj2.var_names))\n",
    "    print(obj2.var_names[1:2])"
   ]
  },
  {
   "cell_type": "code",
   "execution_count": null,
   "id": "f00830ba-0c06-4a8f-8336-9682769d7ef7",
   "metadata": {
    "tags": []
   },
   "outputs": [],
   "source": [
    "# for obj in filt_lp:\n",
    "#     print(np.count_nonzero(obj.obs_names.duplicated()))\n",
    "#     print(len(obj.var_names))\n",
    "#     print(obj.var_names[1:2])"
   ]
  },
  {
   "cell_type": "code",
   "execution_count": null,
   "id": "eb826a74-185b-4424-a84e-b116b057b57b",
   "metadata": {
    "tags": []
   },
   "outputs": [],
   "source": [
    "# for obj in filt_lp:\n",
    "#     print(obj.X[1:5,1:20])\n",
    "    "
   ]
  },
  {
   "cell_type": "markdown",
   "id": "c0799337-cd01-4ad1-94de-0b721de3dd74",
   "metadata": {},
   "source": [
    "Replacing '-' in variable/gene names with '_'"
   ]
  },
  {
   "cell_type": "code",
   "execution_count": null,
   "id": "6daa6240-679e-4f90-8c30-c9d6f0208334",
   "metadata": {},
   "outputs": [],
   "source": [
    "for obj1 in ef_qc_data_bf1:\n",
    "    obj1.var_names = [i.replace(\"-\", \"_\") for i in obj1.var_names]\n",
    "#     obj.var_names = [i.replace(\"-\", \"_\") for i in obj.var_names]\n",
    "# ef_qcd_bf1_d5.var_names = [i.replace(\"-\", \"_\") for i in ef_qcd_bf1_d5.var_names]"
   ]
  },
  {
   "cell_type": "code",
   "execution_count": null,
   "id": "979aaacd-8128-4ff1-a1d7-00ec6e37a226",
   "metadata": {},
   "outputs": [],
   "source": [
    "for obj2 in ef_qc_data_bf2:\n",
    "    obj2.var_names = [i.replace(\"-\", \"_\") for i in obj2.var_names]\n",
    "#     obj.var_names = [i.replace(\"-\", \"_\") for i in obj.var_names]\n",
    "# ef_qcd_bf1_d5.var_names = [i.replace(\"-\", \"_\") for i in ef_qcd_bf1_d5.var_names]"
   ]
  },
  {
   "cell_type": "code",
   "execution_count": null,
   "id": "e5a3fe39-f6c6-4d10-b748-f98124e3844e",
   "metadata": {},
   "outputs": [],
   "source": [
    "for obj1 in ef_qc_data_bf1:\n",
    "    print(obj1.var_names[1:2])"
   ]
  },
  {
   "cell_type": "code",
   "execution_count": null,
   "id": "460df908-0e23-4620-bcd4-28b828c71a25",
   "metadata": {},
   "outputs": [],
   "source": [
    "for obj2 in ef_qc_data_bf2:\n",
    "    print(obj2.var_names[1:2])"
   ]
  },
  {
   "cell_type": "code",
   "execution_count": null,
   "id": "e07af0bd-9aa9-4969-a6c6-08f57fd890d0",
   "metadata": {},
   "outputs": [],
   "source": [
    "ef_qc_data_bf2"
   ]
  },
  {
   "cell_type": "code",
   "execution_count": null,
   "id": "f845d06b-15f2-4c0b-9f2d-09c5b1e5ed1d",
   "metadata": {},
   "outputs": [],
   "source": [
    "ef_qc_data_bf1"
   ]
  },
  {
   "cell_type": "code",
   "execution_count": null,
   "id": "4630c65d-6fde-46c1-8835-4c20a57e9548",
   "metadata": {},
   "outputs": [],
   "source": [
    "# filt_lp[2:][3].obs_names"
   ]
  },
  {
   "cell_type": "markdown",
   "id": "149821ee-c49b-4ff8-afad-cf8349006975",
   "metadata": {},
   "source": [
    "Merge subsetted QCd objects from Elias with loom files with unspliced/spliced matrices\n",
    "\n",
    "The columns \"initial_size\", \"initial_size_unspliced\" and \"initial_size_spliced\" are added when calling scvelo.utils.merge. These are the counts per cell prior to subsetting, i.e. the initial size of the cell."
   ]
  },
  {
   "cell_type": "code",
   "execution_count": null,
   "id": "828a97d2-1f36-4349-b9a7-12c32eed8319",
   "metadata": {},
   "outputs": [],
   "source": [
    "# filt_lp_all = filt_lp.copy\n",
    "# filt_lp_all = filt_lp.append(filt_lp[6])"
   ]
  },
  {
   "cell_type": "code",
   "execution_count": null,
   "id": "0048b93d-3406-4f65-a4b7-ae098ab4e454",
   "metadata": {},
   "outputs": [],
   "source": [
    "# filt_lp.append(filt_lp[6])"
   ]
  },
  {
   "cell_type": "code",
   "execution_count": null,
   "id": "9b1c61bd-b43b-4c01-bc56-9af3f7cdc942",
   "metadata": {},
   "outputs": [],
   "source": [
    "# ef_qcd_bf1_scv = []\n",
    "# for obj_bf1, lp in zip(ef_qc_data_bf1, filt_lp):\n",
    "#     x = scv.utils.merge(obj_bf1, lp)\n",
    "#     ef_qcd_bf1_scv.append(x)\n"
   ]
  },
  {
   "cell_type": "code",
   "execution_count": null,
   "id": "99278eb8-40c3-48d4-ad96-3399f6ba2cec",
   "metadata": {},
   "outputs": [],
   "source": [
    "# ef_qcd_bf2_scv = []\n",
    "# for obj_bf2, lp2 in zip(ef_qc_data_bf2, filt_lp[2:7]):\n",
    "#     y = scv.utils.merge(obj_bf2, lp2)\n",
    "#     ef_qcd_bf2_scv.append(y)"
   ]
  },
  {
   "cell_type": "code",
   "execution_count": null,
   "id": "8074a67a-0df0-411e-8534-593653ccf131",
   "metadata": {
    "jupyter": {
     "outputs_hidden": true
    },
    "tags": []
   },
   "outputs": [],
   "source": [
    "ef_qcd_bf1_scv"
   ]
  },
  {
   "cell_type": "code",
   "execution_count": null,
   "id": "40b16fa4-0ac7-4069-916c-55d501e3584f",
   "metadata": {
    "jupyter": {
     "outputs_hidden": true
    },
    "tags": []
   },
   "outputs": [],
   "source": [
    "ef_qcd_bf2_scv"
   ]
  },
  {
   "cell_type": "markdown",
   "id": "2646b6e8-5063-4ef3-920f-577d4e4a774a",
   "metadata": {},
   "source": [
    "QC checks"
   ]
  },
  {
   "cell_type": "code",
   "execution_count": null,
   "id": "917db38a-e8aa-4cf8-bfaa-d18d3a2ea04f",
   "metadata": {
    "tags": []
   },
   "outputs": [],
   "source": [
    "ef_qcd_bf1_scv[7].obs_names[1:20].to_list()"
   ]
  },
  {
   "cell_type": "code",
   "execution_count": null,
   "id": "45fa0e7d-7e6d-43de-bc23-13054eb74033",
   "metadata": {},
   "outputs": [],
   "source": [
    "ef_qcd_bf1_scv[1].X"
   ]
  },
  {
   "cell_type": "code",
   "execution_count": null,
   "id": "d9536e15-2aba-49a0-af04-0c0e5bb0d205",
   "metadata": {},
   "outputs": [],
   "source": [
    "ef_qcd_bf1_scv[1]"
   ]
  },
  {
   "cell_type": "code",
   "execution_count": null,
   "id": "e331aa4b-5b26-4ff9-9e3a-f6b6bf7e3f42",
   "metadata": {},
   "outputs": [],
   "source": [
    "print(ef_qcd_bf1_scv[1][ef_qcd_bf1_scv[1].obs_names.isin(ef_qcd_bf1_scv[1].obs_names[1:10].to_list()),ef_qcd_bf1_scv[1].var_names.isin(ef_qcd_bf1_scv[1].var_names[1:10].to_list())].X)"
   ]
  },
  {
   "cell_type": "code",
   "execution_count": null,
   "id": "c6b54fb5-b352-4a42-a0c5-07fd6310c426",
   "metadata": {},
   "outputs": [],
   "source": [
    "# print(ef_qcd_bf1_scv[1][ef_qcd_bf1_scv[1].obs_names.isin(ef_qcd_bf1_scv[1].obs_names[1:10].to_list()),ef_qcd_bf1_scv[1].var_names.isin(ef_qcd_bf1_scv[1].var_names[1:10].to_list())].layers[\"spliced\"])"
   ]
  },
  {
   "cell_type": "code",
   "execution_count": null,
   "id": "41c59d20-8fc7-4950-bee1-e04a8386c4fd",
   "metadata": {
    "tags": []
   },
   "outputs": [],
   "source": [
    "# print(ef_qcd_bf1_d5_scv[1:3,ef_qcd_bf1_d5_scv.var_names.to_list()[1:30]].layers[\"X\"])"
   ]
  },
  {
   "cell_type": "code",
   "execution_count": null,
   "id": "914ba45a-4422-48d5-a406-f0d8b63b82df",
   "metadata": {
    "tags": []
   },
   "outputs": [],
   "source": [
    "# sc.pp.normalize_total(ef_qcd_bf1_d5_scv, target_sum=1e4)\n",
    "\n",
    "# sc.pp.log1p(ef_qcd_bf1_d5_scv)\n",
    "# print(ef_qcd_bf1_d5_scv[1:3,['PF3D7_0100100', 'PF3D7_0101300', 'PF3D7_0102200', 'PF3D7_0102500']].X)"
   ]
  },
  {
   "cell_type": "code",
   "execution_count": null,
   "id": "e7f74dc9-bcd2-496c-a5d7-04af16591453",
   "metadata": {},
   "outputs": [],
   "source": [
    "# ef_qcd_bf1_scv[1].var"
   ]
  },
  {
   "cell_type": "code",
   "execution_count": null,
   "id": "c92f8081-fff5-4b5d-b635-9711b7f1776d",
   "metadata": {},
   "outputs": [],
   "source": [
    "# (ef_qcd_bf1_d5_scv.layers[\"spliced\"]!=ef_qcd_bf1_d5_scv.X).nnz==0"
   ]
  },
  {
   "cell_type": "markdown",
   "id": "a6bc0733-bfd2-4b19-b04f-82043e1ede1b",
   "metadata": {},
   "source": [
    "Assignment of variables for the number of PCs and number of neighbours to use in calculating neighbours using UMAP as the default or sklearn and other methods\n",
    "The PCs and number of neighbours are also used to calculate first&second order moments for each cell across it's neighbours for spliced and unspliced counts\n",
    "\n",
    "This parameters can be played with to adjust visualization but we are using the default for both which is 30\n",
    "\n",
    "We use UMAPs calculated from seurat. So this step is not that key but to use scv generated UMAP follow there are some instructions here https://github.com/theislab/scvelo/issues/112#issuecomment-1034925572"
   ]
  },
  {
   "cell_type": "code",
   "execution_count": null,
   "id": "f6a29651-ecf7-4db6-afd9-d58734d25997",
   "metadata": {},
   "outputs": [],
   "source": [
    "bf1_pcs = [6, 6, 6, 6, 6, 6, 6,6]\n",
    "\n",
    "bf2_pcs = [6, 6, 6, 6, 6]\n",
    "\n",
    "bf1_neighbours = [30, 30, 30, 30, 30, 30, 30,30]\n",
    "\n",
    "bf2_neighbours = [30, 30, 30, 30, 30]"
   ]
  },
  {
   "cell_type": "code",
   "execution_count": null,
   "id": "50f6f1ae-5723-4c69-a93a-b23bafbfe66e",
   "metadata": {},
   "outputs": [],
   "source": [
    "##Day 10 BBKNN"
   ]
  },
  {
   "cell_type": "code",
   "execution_count": null,
   "id": "a49627c3-d5d2-4465-9775-1282b6e8e6ff",
   "metadata": {
    "tags": []
   },
   "outputs": [],
   "source": [
    "ef_qcd_bf2_scv"
   ]
  },
  {
   "cell_type": "code",
   "execution_count": null,
   "id": "502a6fb0-e1a0-4508-a531-8bff33661ccf",
   "metadata": {},
   "outputs": [],
   "source": [
    "# import bbknn"
   ]
  },
  {
   "cell_type": "code",
   "execution_count": null,
   "id": "fccd9332-e358-4b1e-90f9-66efaf766b56",
   "metadata": {
    "tags": []
   },
   "outputs": [],
   "source": [
    "# ef_qcd_bf2_scv[4]"
   ]
  },
  {
   "cell_type": "code",
   "execution_count": null,
   "id": "dfea116b-68ac-4bb5-803d-89181679fe2c",
   "metadata": {},
   "outputs": [],
   "source": [
    "# d10_bf2 = ef_qcd_bf2_scv[4].copy()"
   ]
  },
  {
   "cell_type": "code",
   "execution_count": null,
   "id": "cc25e6d7-6bf2-448e-af21-2e4522b1cc2d",
   "metadata": {},
   "outputs": [],
   "source": [
    "# d10_bf2"
   ]
  },
  {
   "cell_type": "code",
   "execution_count": null,
   "id": "c4ea3e30-5dda-4f7d-bdb0-efc2cf764cba",
   "metadata": {},
   "outputs": [],
   "source": [
    "# scv.pp.filter_and_normalize(d10_bf2, min_shared_counts=20, n_top_genes=3000)"
   ]
  },
  {
   "cell_type": "code",
   "execution_count": null,
   "id": "b218f491-9edf-4790-8545-e8295c99ff4e",
   "metadata": {},
   "outputs": [],
   "source": [
    "# d10_bf2.obs[['orig.ident', 'Stage']].value_counts()"
   ]
  },
  {
   "cell_type": "code",
   "execution_count": null,
   "id": "97ae87fb-8e4a-4337-ae98-aacd0bbdc30c",
   "metadata": {},
   "outputs": [],
   "source": [
    "# sc.external.pp.bbknn(d10_bf2, batch_key='orig.ident')"
   ]
  },
  {
   "cell_type": "code",
   "execution_count": null,
   "id": "9d6b5220-2b0b-4bd8-baf9-2061adf758ac",
   "metadata": {
    "tags": []
   },
   "outputs": [],
   "source": [
    "\n",
    "# sc.pp.pca(d10_bf2)\n",
    "# sc.tl.leiden(d10_bf2, resolution=0.4)\n",
    "# sc.pl.umap(d10_bf2, color = 'leiden')\n",
    "\n"
   ]
  },
  {
   "cell_type": "code",
   "execution_count": null,
   "id": "9b60033f-408f-4409-9476-5faab722f2fa",
   "metadata": {},
   "outputs": [],
   "source": []
  },
  {
   "cell_type": "code",
   "execution_count": null,
   "id": "9a169fb0-1cdc-4cab-9ac4-1e602aaf7cbb",
   "metadata": {},
   "outputs": [],
   "source": [
    "# bbknn.ridge_regression(d10_bf2, batch_key=['orig.ident'], confounder_key=['Stage'])\n",
    "# sc.pp.pca(d10_bf2)\n",
    "# bbknn.bbknn(d10_bf2, batch_key='orig.ident')\n",
    "# sc.tl.umap(d10_bf2)"
   ]
  },
  {
   "cell_type": "code",
   "execution_count": null,
   "id": "e98e5152-022f-4e8e-b6f1-1cd1bf60f90a",
   "metadata": {},
   "outputs": [],
   "source": [
    "# sc.pl.umap(d10_bf2, color=['orig.ident','Stage'])"
   ]
  },
  {
   "cell_type": "code",
   "execution_count": null,
   "id": "f183228d-ea49-47b6-8f8e-e707a88cd722",
   "metadata": {},
   "outputs": [],
   "source": [
    "# bbknn.ridge_regression(d10_bf2, batch_key=['orig.ident'], confounder_key=['Stage'])"
   ]
  },
  {
   "cell_type": "code",
   "execution_count": null,
   "id": "bad8d6ba-1ef2-498c-b94e-40f9a813697c",
   "metadata": {},
   "outputs": [],
   "source": [
    "# sc.pp.pca(d10_bf2)"
   ]
  },
  {
   "cell_type": "code",
   "execution_count": null,
   "id": "f128bc8c-cc97-4c1e-92d8-da6cd0da8d9a",
   "metadata": {},
   "outputs": [],
   "source": [
    "# sc.external.pp.bbknn(d10_bf2, batch_key='orig.ident')"
   ]
  },
  {
   "cell_type": "code",
   "execution_count": null,
   "id": "3c9053b8-2231-4b1b-baaf-d144676d9df4",
   "metadata": {},
   "outputs": [],
   "source": [
    "# sc.tl.umap(d10_bf2)\n",
    "# sc.pl.umap(d10_bf2, color=['orig.ident','celltype'])"
   ]
  },
  {
   "cell_type": "code",
   "execution_count": null,
   "id": "0c1b7052-ce6a-44d7-a396-6bbf89b74cb5",
   "metadata": {},
   "outputs": [],
   "source": [
    "# bbknn.bbknn(d10_bf2, batch_key='orig.ident')"
   ]
  },
  {
   "cell_type": "code",
   "execution_count": null,
   "id": "5c803a51-d423-4493-95b6-069fd3a4d393",
   "metadata": {},
   "outputs": [],
   "source": [
    "# bbknn.ridge_regression(adata, batch_key=['batch'], confounder_key=['leiden'])\n",
    "# sc.pp.pca(adata)\n",
    "# bbknn.bbknn(adata, batch_key='batch')\n",
    "# sc.tl.umap(adata)\n",
    "# sc.pl.umap(adata, color=['batch','celltype'])"
   ]
  },
  {
   "cell_type": "markdown",
   "id": "ac0fb85b-ab30-4f52-af06-72258e3c4189",
   "metadata": {},
   "source": [
    "Defining a function to perform: \n",
    "\n",
    "Filtering based on the minimum number of spliced and unspliced counts required for a gene (20 here. i.e we only want genes with atleast 20 spliced counts and 20 unspliced counts across all cells).\n",
    "Calculate PCs, neighbours, and moments\n",
    "\n",
    "scv.pp.moments returns \n",
    " - Ms (.layers) – dense matrix with first order moments of spliced counts.\n",
    " - Mu (.layers) – dense matrix with first order moments of unspliced counts.\n"
   ]
  },
  {
   "cell_type": "code",
   "execution_count": null,
   "id": "73c20c31-8592-4070-a8c4-f791d6a37775",
   "metadata": {},
   "outputs": [],
   "source": [
    "# filter, normalize total counts and log-transform\n",
    "sc.pp.filter_genes(adata, min_cells=10)\n",
    "scv.pp.normalize_per_cell(adata)\n",
    "sc.pp.log1p(adata)\n",
    "\n",
    "# hvg annotation\n",
    "sc.pp.highly_variable_genes(adata)\n",
    "print(f\"This detected {np.sum(adata.var['highly_variable'])} highly variable genes. \")\n",
    "\n",
    "# use scVelo's `moments` function for imputation - note that hack we're using here:\n",
    "# we're copying our `.X` matrix into the layers because that's where `scv.tl.moments`\n",
    "# expects to find counts for imputation\n",
    "adata.layers[\"spliced\"] = adata.X\n",
    "adata.layers[\"unspliced\"] = adata.X\n",
    "scv.pp.moments(adata, n_pcs=30, n_neighbors=30)"
   ]
  },
  {
   "cell_type": "code",
   "execution_count": null,
   "id": "afb71bfe-0952-4c9b-bd46-ddcc418ffc96",
   "metadata": {},
   "outputs": [],
   "source": []
  },
  {
   "cell_type": "code",
   "execution_count": null,
   "id": "02c06c8b-b749-4adf-8f55-f48a45bc2fef",
   "metadata": {},
   "outputs": [],
   "source": [
    "def velo_calc(subset_ad, nns, npcs):\n",
    "    scv.pp.filter_and_normalize(subset_ad, min_shared_counts=20, n_top_genes=3000)\n",
    "    print(subset_ad[1:3,subset_ad.var_names.to_list()[1:10]].X)\n",
    "    sc.tl.pca(subset_ad)\n",
    "    sc.pp.neighbors(subset_ad, n_pcs=npcs, n_neighbors=nns)\n",
    "    scv.pp.moments(subset_ad, n_pcs=None, n_neighbors=None)\n",
    "    print(subset_ad[1:3,subset_ad.var_names.to_list()[1:10]].layers[\"spliced\"])\n",
    "    return subset_ad\n"
   ]
  },
  {
   "cell_type": "code",
   "execution_count": null,
   "id": "b5d7df85-8e7e-4708-8e58-ef4a96eec570",
   "metadata": {
    "jupyter": {
     "outputs_hidden": true
    },
    "tags": []
   },
   "outputs": [],
   "source": [
    "for obj, nns, npcs in zip(ef_qcd_bf1_scv, bf1_neighbours, bf1_pcs):\n",
    "    obj = velo_calc(subset_ad = obj, nns=nns, npcs=npcs)"
   ]
  },
  {
   "cell_type": "code",
   "execution_count": null,
   "id": "7721a788-8006-4528-9600-538584de9184",
   "metadata": {
    "jupyter": {
     "outputs_hidden": true
    },
    "tags": []
   },
   "outputs": [],
   "source": [
    "ef_qcd_bf1_scv"
   ]
  },
  {
   "cell_type": "code",
   "execution_count": null,
   "id": "b5adb28b-e6d0-42b4-87fe-34831a9af116",
   "metadata": {
    "jupyter": {
     "outputs_hidden": true
    },
    "tags": []
   },
   "outputs": [],
   "source": [
    "for obj, nns, npcs in zip(ef_qcd_bf2_scv, bf2_neighbours, bf2_pcs):\n",
    "    obj = velo_calc(subset_ad = obj, nns=nns, npcs=npcs)"
   ]
  },
  {
   "cell_type": "code",
   "execution_count": null,
   "id": "1bca6de5-4408-4f80-9ea4-9e07118b5471",
   "metadata": {
    "jupyter": {
     "outputs_hidden": true
    },
    "tags": []
   },
   "outputs": [],
   "source": [
    "ef_qcd_bf2_scv"
   ]
  },
  {
   "cell_type": "code",
   "execution_count": null,
   "id": "39628a33-10c6-41f2-828f-a887a054c98e",
   "metadata": {},
   "outputs": [],
   "source": [
    "# for obj in ef_qcd_bf2_scv:\n",
    "#     obj = velo_calc(subset_ad = obj)"
   ]
  },
  {
   "cell_type": "code",
   "execution_count": null,
   "id": "912d2ae6-d607-497d-9b08-dae75bc0d4ac",
   "metadata": {},
   "outputs": [],
   "source": [
    "# ##Normalization and selection of HVG followed by calculation of moments\n",
    "# # scv.pp.filter_and_normalize(ef_qcd_bf1_d5_scv)\n",
    "# # scv.pp.moments(ef_qcd_bf1_d5_scv)\n",
    "# scv.pp.filter_and_normalize(ef_qcd_bf1_d5_scv, min_shared_counts=20, n_top_genes=3000)\n",
    "# # sc.pp.log1p(ef_qcd_bf1_d5_scv)\n",
    "# print(ef_qcd_bf1_d5_scv[1:3,ef_qcd_bf1_d5_scv.var_names.to_list()[1:10]].X)\n",
    "# sc.tl.pca(ef_qcd_bf1_d5_scv)\n",
    "# sc.pp.neighbors(ef_qcd_bf1_d5_scv, n_pcs=30, n_neighbors=30)\n",
    "# scv.pp.moments(ef_qcd_bf1_d5_scv, n_pcs=None, n_neighbors=None)\n",
    "# print(ef_qcd_bf1_d5_scv[1:3,ef_qcd_bf1_d5_scv.var_names.to_list()[1:10]].layers[\"spliced\"])\n"
   ]
  },
  {
   "cell_type": "markdown",
   "id": "f73804e4-33ce-476b-b7b4-382d9bb76b95",
   "metadata": {},
   "source": [
    "Saving the contents of var as csv"
   ]
  },
  {
   "cell_type": "code",
   "execution_count": null,
   "id": "6576f7ce-fb65-4b47-a996-4fb81f44fe5b",
   "metadata": {
    "tags": []
   },
   "outputs": [],
   "source": [
    "# for obj1, day in zip(ef_qcd_bf1_scv, v3_days):\n",
    "#     obj1.var.to_csv(\"data/processed/PfDB52e/day5/sone_ksc/ef_qcd_bf1_\" + day + \".csv\")\n"
   ]
  },
  {
   "cell_type": "code",
   "execution_count": null,
   "id": "9af3d61c-103c-4419-8d0e-eee4dcc6fd4a",
   "metadata": {},
   "outputs": [],
   "source": [
    "# for obj2, day in zip(ef_qcd_bf2_scv, v3_days[2:]):\n",
    "#     obj2.var.to_csv(\"data/processed/PfDB52e/day5/sone_ksc/ef_qcd_bf2_\" + day + \".csv\")"
   ]
  },
  {
   "cell_type": "code",
   "execution_count": null,
   "id": "543fdd07-97f1-4fe9-adc1-f5997f672bb8",
   "metadata": {},
   "outputs": [],
   "source": [
    "# ef_qcd_bf1_d5_scv.var.to_csv(\"pfvelo.csv\")"
   ]
  },
  {
   "cell_type": "code",
   "execution_count": null,
   "id": "eb91497e-d7a1-4d3c-b9d1-7244c3bdf1eb",
   "metadata": {},
   "outputs": [],
   "source": [
    "sc.pl.umap(ef_qcd_bf1_scv[1], color=\"Stage\", components='2,3')"
   ]
  },
  {
   "cell_type": "code",
   "execution_count": null,
   "id": "d0a6e12f-1063-423a-b964-0d237c8ed2bf",
   "metadata": {},
   "outputs": [],
   "source": [
    "sc.pl.umap(ef_qcd_bf1_scv[1], color=\"Stage\", components='2,3')"
   ]
  },
  {
   "cell_type": "code",
   "execution_count": null,
   "id": "50021ec6-4e37-439b-8999-da820abd7611",
   "metadata": {
    "tags": []
   },
   "outputs": [],
   "source": [
    "ef_qcd_bf1_scv"
   ]
  },
  {
   "cell_type": "markdown",
   "id": "102f8c51-6020-43ba-92b2-2a930baa1c55",
   "metadata": {},
   "source": [
    "Reading in plasmoDB data to merge with scv objects so as to get human readable gene names"
   ]
  },
  {
   "cell_type": "code",
   "execution_count": null,
   "id": "bb6fda9f-4c6b-4e6d-9612-59068f6cde49",
   "metadata": {},
   "outputs": [],
   "source": [
    "Pf3D7_genes_plasmoDB = pd.read_csv(\"data/raw/Pf3d7_Genes_Summary_190322.csv\")"
   ]
  },
  {
   "cell_type": "code",
   "execution_count": null,
   "id": "565372e4-ee8d-4de8-84f7-9f525678a116",
   "metadata": {},
   "outputs": [],
   "source": [
    "Pf3D7_genes_plasmoDB.columns"
   ]
  },
  {
   "cell_type": "markdown",
   "id": "af9371a9-9e84-429a-a141-76723f6588c5",
   "metadata": {},
   "source": [
    "Rename column name \"Gene Name or Symbol\" to \"Gene\" "
   ]
  },
  {
   "cell_type": "code",
   "execution_count": null,
   "id": "a3a27a74-af18-4bc7-8bde-159628f305e4",
   "metadata": {
    "tags": []
   },
   "outputs": [],
   "source": [
    "Pf3D7_genes_plasmoDB.rename(columns={\"Gene Name or Symbol\" : \"Gene\"}, inplace=True)"
   ]
  },
  {
   "cell_type": "markdown",
   "id": "16bece4e-b611-4e44-8b84-5d34d7a354ce",
   "metadata": {},
   "source": [
    "Set 'Gene ID' as index in preparation for merging with var DF in scvelo anndata object"
   ]
  },
  {
   "cell_type": "code",
   "execution_count": null,
   "id": "e055cf01-db78-46f1-8540-86dd0fb0551a",
   "metadata": {
    "tags": []
   },
   "outputs": [],
   "source": [
    "Pf3D7_genes_plasmoDB.set_index(keys = \"Gene ID\", drop=False, append=False, inplace=True, verify_integrity=False)"
   ]
  },
  {
   "cell_type": "markdown",
   "id": "111c4e59-ed3d-4887-a5d5-ff79c993833b",
   "metadata": {},
   "source": [
    "Remove rows with duplicated index (ie duplicated 'Gene ID')"
   ]
  },
  {
   "cell_type": "code",
   "execution_count": null,
   "id": "1ccf25c0-6d80-4a5b-b637-59f5650e9064",
   "metadata": {},
   "outputs": [],
   "source": [
    "Pf3D7_genes_plasmoDB = Pf3D7_genes_plasmoDB[~Pf3D7_genes_plasmoDB.index.duplicated(keep='first')]"
   ]
  },
  {
   "cell_type": "markdown",
   "id": "19b5bd32-3d45-4239-8945-4fb1c469d5ca",
   "metadata": {},
   "source": [
    "Replacing the NaNs in 'Gene' with pf 'Gene ID' ie the table index"
   ]
  },
  {
   "cell_type": "code",
   "execution_count": null,
   "id": "06f2b5de-9f7b-4274-a58b-102004de6bdb",
   "metadata": {},
   "outputs": [],
   "source": [
    "nan_strings = [\"{}\".format(i) for i in Pf3D7_genes_plasmoDB['Gene ID']]"
   ]
  },
  {
   "cell_type": "code",
   "execution_count": null,
   "id": "b3dcd42c-e0c7-4e1c-abba-4b1d0eb3ed12",
   "metadata": {},
   "outputs": [],
   "source": [
    "Pf_genes_noNA=pd.DataFrame(Pf3D7_genes_plasmoDB['Gene']).apply(lambda c: c.where(c.notnull(), nan_strings))"
   ]
  },
  {
   "cell_type": "code",
   "execution_count": null,
   "id": "6e65f5b4-a7ae-4b79-a311-6d299f7b3380",
   "metadata": {},
   "outputs": [],
   "source": [
    "from socket import socket"
   ]
  },
  {
   "cell_type": "markdown",
   "id": "604d5284-437a-4352-8aee-38887b7dfe6e",
   "metadata": {},
   "source": [
    "Sorting duplicates in 'Gene' such as VAR, RIF, AP2 by merging with 'Gene ID' to get all the gene IDs to be unique"
   ]
  },
  {
   "cell_type": "code",
   "execution_count": null,
   "id": "642e4a6f-ab84-4c82-9d3b-c2adffc151ec",
   "metadata": {
    "tags": []
   },
   "outputs": [],
   "source": [
    "gene_id_name = [m+'_'+str(n) for m,n in zip(Pf3D7_genes_plasmoDB['Gene ID'], Pf3D7_genes_plasmoDB['Gene'])]"
   ]
  },
  {
   "cell_type": "code",
   "execution_count": null,
   "id": "cea60342-2dd2-4ba3-bb67-bd6fe0f64360",
   "metadata": {
    "tags": []
   },
   "outputs": [],
   "source": [
    "Pf_genes_noNA_noDup=Pf_genes_noNA.apply(lambda c: c.where(~c.duplicated(), gene_id_name)).drop_duplicates(keep='first')"
   ]
  },
  {
   "cell_type": "code",
   "execution_count": null,
   "id": "3012a63b-b5c0-422a-ae81-b59f4a95576d",
   "metadata": {
    "tags": []
   },
   "outputs": [],
   "source": [
    "Pf_genes_noNA_noDup"
   ]
  },
  {
   "cell_type": "markdown",
   "id": "991bd7ee-3e56-4dee-9ea7-1e2786f6cec4",
   "metadata": {},
   "source": [
    "Merge Pf_genes_noNA_noDup which is an offshoot of Pf3D7_genes_plasmoDB that has formatted 'Gene' names with its parent table to keep only important variables\n",
    "\n",
    "Need to check to ensure that the was proper copying at the and not just referencing as is common python behavior"
   ]
  },
  {
   "cell_type": "code",
   "execution_count": null,
   "id": "b6f5071a-adf5-4d99-8bf8-3a360b136f83",
   "metadata": {},
   "outputs": [],
   "source": [
    "Pf_genes_cln = pd.merge(Pf_genes_noNA_noDup, Pf3D7_genes_plasmoDB[[\"source_id\", \"Gene ID\", \"NonSyn/Syn SNP Ratio All Strains\", \"# Exons in Gene\", 'Annotated 3\\' UTR length', 'Annotated 5\\' UTR length', 'Gene Strand', 'Transcript Length', 'Computed GO Functions', 'Computed GO Components', 'Computed GO Processes', 'Curated GO Components', 'Curated GO Functions', 'Curated GO Processes']], how='left', left_index = True, right_index = True)"
   ]
  },
  {
   "cell_type": "code",
   "execution_count": null,
   "id": "375f916d-0115-4114-998a-ec276e2a6736",
   "metadata": {
    "tags": []
   },
   "outputs": [],
   "source": [
    "pd.DataFrame(Pf_genes_cln)"
   ]
  },
  {
   "cell_type": "code",
   "execution_count": null,
   "id": "644efb5a-a96d-444a-aac7-be4fffdabf38",
   "metadata": {
    "tags": []
   },
   "outputs": [],
   "source": [
    "# pd.DataFrame(Pf_genes_cln)['Annotated 5\\' UTR length']"
   ]
  },
  {
   "cell_type": "markdown",
   "id": "56858c8e-a270-4ac9-9abd-734a66057911",
   "metadata": {},
   "source": [
    "Merging the formatted PlasmoDB gene names and other metadata with the var DF in the anndata and replacing any NAs in the Gene name with the var index which is the gene ID. "
   ]
  },
  {
   "cell_type": "code",
   "execution_count": null,
   "id": "0d3d2f42-f957-411c-8eef-2ab639423507",
   "metadata": {},
   "outputs": [],
   "source": [
    "##Incorporate Pf gene names\n",
    "# Pf3D7_gene_list_nonNA_bf1 = []\n",
    "# Pf3D7_gene_list_nonNA_bf2 = []\n",
    "for obj1 in ef_qcd_bf1_scv:\n",
    "    obj1.var = pd.merge(obj1.var, Pf_genes_cln[[\"source_id\", \"Gene\",  \"Gene ID\", \"NonSyn/Syn SNP Ratio All Strains\", \"# Exons in Gene\", 'Annotated 3\\' UTR length', 'Annotated 5\\' UTR length', 'Gene Strand', 'Transcript Length', 'Computed GO Functions', 'Computed GO Components', 'Computed GO Processes', 'Curated GO Components', 'Curated GO Functions', 'Curated GO Processes']], how='left', left_index = True, right_index = True)\n",
    "    ##Creating a vector of gene ids to use in stead of genes with no gene names\n",
    "    nan_strings = [\"{}\".format(i) for i in obj1.var.index]\n",
    "    ##Replacing the NaNs with pf gene IDS\n",
    "    obj1.var['Gene'] = pd.DataFrame(obj1.var.Gene).apply(lambda c: c.where(c.notnull(), nan_strings))\n",
    "    # Pf3D7_gene_list_nonNA_bf1.append(x)\n",
    "    # Pf3D7_gene_list_nonNA_bf2.append(y)\n",
    "    "
   ]
  },
  {
   "cell_type": "code",
   "execution_count": null,
   "id": "b95f0a8f-5b86-4eac-b8a3-34f8e6194ac1",
   "metadata": {},
   "outputs": [],
   "source": [
    "##Incorporate Pf gene names\n",
    "# Pf3D7_gene_list_nonNA_bf1 = []\n",
    "# Pf3D7_gene_list_nonNA_bf2 = []\n",
    "for obj2 in ef_qcd_bf2_scv:\n",
    "    obj2.var = pd.merge(obj2.var, Pf_genes_cln[[\"source_id\", \"Gene\",  \"Gene ID\", \"NonSyn/Syn SNP Ratio All Strains\", \"# Exons in Gene\", 'Annotated 3\\' UTR length', 'Annotated 5\\' UTR length', 'Gene Strand', 'Transcript Length', 'Computed GO Functions', 'Computed GO Components', 'Computed GO Processes', 'Curated GO Components', 'Curated GO Functions', 'Curated GO Processes']], how='left', left_index = True, right_index = True)\n",
    "    ##Creating a vector of gene ids to use in stead of genes with no gene names\n",
    "    ##Replacing the NaNs with pf gene IDS\n",
    "    # Pf3D7_gene_list_nonNA_bf1.append(x)\n",
    "    nan_strings = [\"{}\".format(i) for i in obj2.var.index]\n",
    "    obj2.var['Gene'] = pd.DataFrame(obj2.var.Gene).apply(lambda c: c.where(c.notnull(), nan_strings))\n",
    "    # Pf3D7_gene_list_nonNA_bf2.append(y)\n",
    "    "
   ]
  },
  {
   "cell_type": "markdown",
   "id": "a8bbc87b-0031-4f4a-9b94-db4b853eab81",
   "metadata": {},
   "source": [
    "Checking for duplicates in the Gene column of var"
   ]
  },
  {
   "cell_type": "code",
   "execution_count": null,
   "id": "955c9cf7-63fa-4bf9-b1bd-8f6489c40090",
   "metadata": {
    "tags": []
   },
   "outputs": [],
   "source": [
    "for obj1 in ef_qcd_bf1_scv:\n",
    "    print(pd.DataFrame(obj1.var.Gene).duplicated().any())\n"
   ]
  },
  {
   "cell_type": "code",
   "execution_count": null,
   "id": "cba2d51d-1161-44a5-9c84-c1ebbe22e23e",
   "metadata": {},
   "outputs": [],
   "source": [
    "for obj2 in ef_qcd_bf2_scv:\n",
    "    print(pd.DataFrame(obj2.var.Gene).duplicated().any())"
   ]
  },
  {
   "cell_type": "markdown",
   "id": "276da917-b8c6-4eed-bc63-568479f69747",
   "metadata": {},
   "source": [
    "setting Gene column in var DF to index and removing the index name"
   ]
  },
  {
   "cell_type": "code",
   "execution_count": null,
   "id": "87b81434-82f2-4aa0-bf76-23b1268b6fa9",
   "metadata": {},
   "outputs": [],
   "source": [
    "for obj1 in ef_qcd_bf1_scv:\n",
    "    obj1.var['Gene_ID'] = obj1.var.index\n",
    "    obj1.var.set_index(keys='Gene', append=False, inplace=True, verify_integrity=True, drop = False)\n",
    "    obj1.var.index.name = None"
   ]
  },
  {
   "cell_type": "code",
   "execution_count": null,
   "id": "6e5c6d0c-d6c0-4e88-a757-1ae5b3fe8103",
   "metadata": {},
   "outputs": [],
   "source": [
    "for obj2 in ef_qcd_bf2_scv:\n",
    "    obj2.var['Gene_ID'] = obj2.var.index\n",
    "    obj2.var.set_index(keys='Gene', append=False, inplace=True, verify_integrity=True, drop = False)\n",
    "    obj2.var.index.name = None"
   ]
  },
  {
   "cell_type": "code",
   "execution_count": null,
   "id": "11618039-3d9a-4dbb-949a-ad1f217989ca",
   "metadata": {
    "tags": []
   },
   "outputs": [],
   "source": [
    "# ef_qcd_bf2_scv[3]"
   ]
  },
  {
   "cell_type": "code",
   "execution_count": null,
   "id": "563f8d8b-7345-4cc8-9616-05959871fb6e",
   "metadata": {
    "tags": []
   },
   "outputs": [],
   "source": [
    "# if (duplicated := Pf3D7_gene_list_nonNA.duplicated(keep=False)).any():\n",
    "#     some_duplicates = Pf3D7_gene_list_nonNA[duplicated].sort_values(by=Pf3D7_gene_list_nonNA.columns.to_list())\n",
    "#     print(f\"Dataframe has one or more duplicated rows, for example:\\n{some_duplicates}\")"
   ]
  },
  {
   "cell_type": "code",
   "execution_count": null,
   "id": "dbfe76bc-a088-4e1c-a9bb-87d931b51b07",
   "metadata": {},
   "outputs": [],
   "source": [
    "ef_qcd_bf2_scv[1]"
   ]
  },
  {
   "cell_type": "markdown",
   "id": "820bcb25-6dde-4917-bae5-9c8c3be19c1f",
   "metadata": {},
   "source": [
    "Adding QC metrics for unspliced, spliced and ambigous counts"
   ]
  },
  {
   "cell_type": "code",
   "execution_count": null,
   "id": "1bf149fd-5cbc-4b3f-8261-084180448474",
   "metadata": {},
   "outputs": [],
   "source": [
    "for obj in ef_qcd_bf1_scv:\n",
    "    sc.pp.calculate_qc_metrics(obj, \n",
    "                               expr_type='unspliced', \n",
    "                               var_type='unspliced', \n",
    "                               percent_top=(50, 100), \n",
    "                               layer='unspliced', \n",
    "                               inplace=True, \n",
    "                               log1p=True)\n",
    "    sc.pp.calculate_qc_metrics(obj, \n",
    "                               expr_type='spliced', \n",
    "                               var_type='spliced', \n",
    "                               percent_top=(50, 100), \n",
    "                               layer='spliced', \n",
    "                               inplace=True, \n",
    "                               log1p=True)\n",
    "    sc.pp.calculate_qc_metrics(obj, \n",
    "                               expr_type='ambiguous', \n",
    "                               var_type='ambiguous', \n",
    "                               percent_top=(50, 100), \n",
    "                               layer='ambiguous', \n",
    "                               inplace=True, \n",
    "                               log1p=True)"
   ]
  },
  {
   "cell_type": "code",
   "execution_count": null,
   "id": "e83a5a25-63b3-49b9-903e-99b8fcc7326a",
   "metadata": {
    "tags": []
   },
   "outputs": [],
   "source": [
    "for obj in ef_qcd_bf2_scv:\n",
    "    sc.pp.calculate_qc_metrics(obj, \n",
    "                               expr_type='unspliced', \n",
    "                               var_type='unspliced', \n",
    "                               percent_top=(50, 100), \n",
    "                               layer='unspliced', \n",
    "                               inplace=True, \n",
    "                               log1p=True)\n",
    "    sc.pp.calculate_qc_metrics(obj, \n",
    "                               expr_type='spliced', \n",
    "                               var_type='spliced', \n",
    "                               percent_top=(50, 100), \n",
    "                               layer='spliced', \n",
    "                               inplace=True, \n",
    "                               log1p=True)\n",
    "    sc.pp.calculate_qc_metrics(obj, \n",
    "                               expr_type='ambiguous', \n",
    "                               var_type='ambiguous', \n",
    "                               percent_top=(50, 100), \n",
    "                               layer='ambiguous', \n",
    "                               inplace=True, \n",
    "                               log1p=True)"
   ]
  },
  {
   "cell_type": "code",
   "execution_count": null,
   "id": "e36dd154-0e1d-48e4-8cf2-336ab1754fe0",
   "metadata": {},
   "outputs": [],
   "source": [
    "ef_qcd_bf2_scv[1].var.columns"
   ]
  },
  {
   "cell_type": "code",
   "execution_count": null,
   "id": "b12aa66d-e3df-4526-9e94-8c94a4caaf2a",
   "metadata": {},
   "outputs": [],
   "source": [
    "import seaborn as sns"
   ]
  },
  {
   "cell_type": "code",
   "execution_count": null,
   "id": "902cef66-72fa-4dc3-bec0-73abb57b3172",
   "metadata": {},
   "outputs": [],
   "source": [
    "sns.jointplot(\n",
    "    data=ef_qcd_bf1_scv[1].var,\n",
    "    x=\"log1p_total_spliced\",\n",
    "    y=\"log1p_total_unspliced\",\n",
    "    kind=\"hex\",\n",
    ")"
   ]
  },
  {
   "cell_type": "code",
   "execution_count": null,
   "id": "9aab5645-29ab-4111-bae9-dbe642e1e093",
   "metadata": {},
   "outputs": [],
   "source": [
    "sns.scatterplot(\n",
    "    data=ef_qcd_bf1_scv[3].var,\n",
    "    x=\"total_spliced\",\n",
    "    y=\"total_unspliced\",\n",
    "    # kind=\"hex\",\n",
    ")"
   ]
  },
  {
   "cell_type": "code",
   "execution_count": null,
   "id": "7913df48-7fa9-4f09-8e0c-68f61bfcc06f",
   "metadata": {},
   "outputs": [],
   "source": [
    "sns.jointplot(\n",
    "    data=ef_qcd_bf2_scv[1].var,\n",
    "    x=\"# Exons in Gene\",\n",
    "    y=\"total_unspliced\",\n",
    "    kind=\"hex\",\n",
    ")"
   ]
  },
  {
   "cell_type": "code",
   "execution_count": null,
   "id": "0a4859bc-68f5-44df-b9be-2f54fb601c43",
   "metadata": {},
   "outputs": [],
   "source": [
    "sns.scatterplot(\n",
    "    data=ef_qcd_bf2_scv[1].var,\n",
    "    x=\"# Exons in Gene\",\n",
    "    y=\"log1p_total_unspliced\",\n",
    "    # kind=\"hex\",\n",
    ")"
   ]
  },
  {
   "cell_type": "code",
   "execution_count": null,
   "id": "1e65c6cf-7e28-4643-b4b1-6b48d75a2518",
   "metadata": {},
   "outputs": [],
   "source": [
    "sns.scatterplot(\n",
    "    data=ef_qcd_bf2_scv[1].var,\n",
    "    x=\"Annotated 3' UTR length\",\n",
    "    y=\"total_unspliced\",\n",
    "    # kind=\"hex\",\n",
    ")"
   ]
  },
  {
   "cell_type": "code",
   "execution_count": null,
   "id": "f96595e9-1028-4a83-ae1a-818d6044d6b6",
   "metadata": {},
   "outputs": [],
   "source": [
    "sns.scatterplot(\n",
    "    data=ef_qcd_bf2_scv[1].var,\n",
    "    x=\"Annotated 5' UTR length\",\n",
    "    y=\"total_unspliced\",\n",
    "    # kind=\"hex\",\n",
    ")"
   ]
  },
  {
   "cell_type": "code",
   "execution_count": null,
   "id": "722ab00d-d735-4f00-9c7a-130f2dade242",
   "metadata": {},
   "outputs": [],
   "source": [
    "sns.scatterplot(\n",
    "    data=ef_qcd_bf2_scv[1].var,\n",
    "    x=\"Transcript Length\",\n",
    "    y=\"total_unspliced\",\n",
    "    # kind=\"hex\",\n",
    ")"
   ]
  },
  {
   "cell_type": "code",
   "execution_count": null,
   "id": "e192ec83-b95e-4c54-82c5-379912e8eeba",
   "metadata": {},
   "outputs": [],
   "source": [
    "sns.scatterplot(\n",
    "    data=ef_qcd_bf2_scv[1].var,\n",
    "    x=\"NonSyn/Syn SNP Ratio All Strains\",\n",
    "    y=\"total_unspliced\",\n",
    "    # kind=\"hex\",\n",
    ")"
   ]
  },
  {
   "cell_type": "code",
   "execution_count": null,
   "id": "dafc20cb-cecf-495a-9587-1445d001a9cd",
   "metadata": {},
   "outputs": [],
   "source": [
    "sns.scatterplot(\n",
    "    data=ef_qcd_bf2_scv[1].var,\n",
    "    x=\"Transcript Length\",\n",
    "    y=\"total_unspliced\",\n",
    "    # kind=\"hex\",\n",
    ")"
   ]
  },
  {
   "cell_type": "markdown",
   "id": "16cd8e34-9b9d-4e92-a2f7-ee31a19836a8",
   "metadata": {},
   "source": [
    "Plotting correlation of spliced and unspliced counts"
   ]
  },
  {
   "cell_type": "code",
   "execution_count": null,
   "id": "9ce28cb8-303e-458c-89b3-ee25fc818b0a",
   "metadata": {
    "tags": []
   },
   "outputs": [],
   "source": [
    "for obj1 in ef_qcd_bf1_scv:\n",
    "    sc.pl.scatter(obj, x= 'initial_size_spliced', y='initial_size_unspliced')"
   ]
  },
  {
   "cell_type": "code",
   "execution_count": null,
   "id": "cf5582a3-5940-484c-a295-ff305bdf2383",
   "metadata": {
    "tags": []
   },
   "outputs": [],
   "source": [
    "for obj1 in ef_qcd_bf2_scv:\n",
    "    sc.pl.scatter(obj, x= 'initial_size_spliced', y='initial_size_unspliced')"
   ]
  },
  {
   "cell_type": "code",
   "execution_count": null,
   "id": "75203d56-52d6-449f-bd0d-a60c6925b820",
   "metadata": {},
   "outputs": [],
   "source": [
    "ef_qcd_bf2_scv[1].var"
   ]
  },
  {
   "cell_type": "code",
   "execution_count": null,
   "id": "661c21fe-f95d-484f-b1d1-0d7f9b17a881",
   "metadata": {},
   "outputs": [],
   "source": [
    "for obj2 in ef_qcd_bf1_scv:\n",
    "    sc.pl.scatter(obj, x= 'initial_size_spliced', y='initial_size')"
   ]
  },
  {
   "cell_type": "markdown",
   "id": "13150539-27ed-4b50-9e55-f70b12cc00b0",
   "metadata": {},
   "source": [
    "Plotting the spliced unspliced distribution"
   ]
  },
  {
   "cell_type": "code",
   "execution_count": null,
   "id": "390e96d1-c90b-41a1-a278-ab84175e3dd2",
   "metadata": {
    "tags": []
   },
   "outputs": [],
   "source": [
    "for obj1 in ef_qcd_bf1_scv:\n",
    "    sc.pl.violin(obj1, ['initial_size_spliced', 'initial_size_unspliced', 'initial_size'], jitter=0.4, multi_panel=True)\n"
   ]
  },
  {
   "cell_type": "code",
   "execution_count": null,
   "id": "16afb8b8-6b3f-4eb0-80fa-7f15475135cd",
   "metadata": {},
   "outputs": [],
   "source": [
    "\n",
    "\n",
    "# print(f\"Cd24a has unspliced counts in {(adata_raw[:, 'Cd24a'].layers['unspliced'] > 0).sum()}/{adata.n_obs} cells.\")\n",
    "# print(f\"Cd24a has spliced counts in {(adata_raw[:, 'Cd24a'].layers['spliced'] > 0).sum()}/{adata.n_obs} cells.\")\n",
    "\n"
   ]
  },
  {
   "cell_type": "code",
   "execution_count": null,
   "id": "4b963958-1b36-4476-a74c-b6a944ef39e4",
   "metadata": {
    "tags": []
   },
   "outputs": [],
   "source": [
    "for obj2 in ef_qcd_bf2_scv:\n",
    "    sc.pl.violin(obj2, ['initial_size_spliced', 'initial_size_unspliced', 'initial_size'], jitter=0.4, multi_panel=True)"
   ]
  },
  {
   "cell_type": "code",
   "execution_count": null,
   "id": "b827c903-7422-4b26-9af6-f69bb2917ea3",
   "metadata": {},
   "outputs": [],
   "source": [
    "#############      JUMP TO scv.tl.recover_dynamics()################"
   ]
  },
  {
   "cell_type": "markdown",
   "id": "ce3b7be9-bb05-4666-9981-12aabde1e3f2",
   "metadata": {},
   "source": [
    "Check scvelo version"
   ]
  },
  {
   "cell_type": "code",
   "execution_count": null,
   "id": "401e9ca0-0484-4e6b-8e49-67f7edf35f22",
   "metadata": {},
   "outputs": [],
   "source": [
    "scv.logging.print_version()"
   ]
  },
  {
   "cell_type": "code",
   "execution_count": null,
   "id": "ac09346b-654a-4b50-a89e-07e46f65c018",
   "metadata": {},
   "outputs": [],
   "source": [
    "#############      JUMP here scv.tl.recover_dynamics()################"
   ]
  },
  {
   "cell_type": "markdown",
   "id": "4e6f47bd-c9d0-4c3b-a129-2b44712aef6c",
   "metadata": {},
   "source": [
    "Plotting proportion of spliced and unspliced counts"
   ]
  },
  {
   "cell_type": "code",
   "execution_count": null,
   "id": "beae3d7a-69d9-48e2-9fe7-6863a570786b",
   "metadata": {
    "tags": []
   },
   "outputs": [],
   "source": [
    "for obj1, v3_day in zip(ef_qcd_bf1_scv, v3_days_all):\n",
    "    scv.pl.proportions(obj1, groupby=\"Stage\", save=\"plots/\"+v3_day+\"_bf1_splices_unsplices_props.png\")\n"
   ]
  },
  {
   "cell_type": "code",
   "execution_count": null,
   "id": "daa56366-529d-4a95-be2e-57d1ae5d4553",
   "metadata": {
    "tags": []
   },
   "outputs": [],
   "source": [
    "for obj2, v3_day in zip(ef_qcd_bf2_scv, v3_days[2:]):\n",
    "    scv.pl.proportions(obj2, groupby=\"anno_300cells\", save=\"plots/\"+v3_day+\"_bf2_splices_unsplices_props.png\")\n"
   ]
  },
  {
   "cell_type": "code",
   "execution_count": null,
   "id": "e6ef691f-ce50-4f7a-9389-2b00a33a0aab",
   "metadata": {},
   "outputs": [],
   "source": [
    "ef_qcd_bf1_scv[1].obs.columns"
   ]
  },
  {
   "cell_type": "code",
   "execution_count": null,
   "id": "a0a603ea-2088-49f5-8b34-3a3fddb45d5c",
   "metadata": {},
   "outputs": [],
   "source": [
    "# for col in adata.obs.columns:\n",
    "#     if pd.api.types.is_categorical_dtype(adata.obs[col]):\n",
    "#         adata.obs[col]=adata.obs[col].cat.add_categories(\"selfdefinedNA\").fillna('selfdefinedNA')"
   ]
  },
  {
   "cell_type": "code",
   "execution_count": null,
   "id": "f82d1fa2-041b-4ff9-8aa1-411a3531c7b6",
   "metadata": {
    "tags": []
   },
   "outputs": [],
   "source": [
    "# print(ef_qcd_bf2_scv[2].obs.head)"
   ]
  },
  {
   "cell_type": "code",
   "execution_count": null,
   "id": "13a887b6-bb09-4147-a58c-b256ff553d3c",
   "metadata": {},
   "outputs": [],
   "source": [
    "# ef_qcd_bf2_scv[2].obs.select_dtypes(include='number')"
   ]
  },
  {
   "cell_type": "code",
   "execution_count": null,
   "id": "272a2bf3-0e85-4542-bf90-4ed0fd5dc11d",
   "metadata": {
    "tags": []
   },
   "outputs": [],
   "source": [
    "# ef_qcd_bf2_scv[2].obs.drop(['pseudo_asex', 'pseudo_male', 'pseudo_female', 'rank2'], axis=1)"
   ]
  },
  {
   "cell_type": "code",
   "execution_count": null,
   "id": "495f3ea1-17eb-4a1c-8849-d1e06d453aa2",
   "metadata": {
    "tags": []
   },
   "outputs": [],
   "source": [
    "# ef_qcd_bf2_scv[2].obs.loc[:, ef_qcd_bf2_scv[2].obs.columns != ['pseudo_asex', 'pseudo_male', 'pseudo_female']]"
   ]
  },
  {
   "cell_type": "code",
   "execution_count": null,
   "id": "7269169e-21c6-48c1-8dc0-e7e6fa300552",
   "metadata": {},
   "outputs": [],
   "source": [
    "# ef_qcd_bf2_scv[2].obs.columns"
   ]
  },
  {
   "cell_type": "code",
   "execution_count": null,
   "id": "be774275-3adb-4a90-bff7-b6eb994abd57",
   "metadata": {
    "tags": []
   },
   "outputs": [],
   "source": [
    "# ef_qcd_bf2_scv[2].obs[['orig.ident', 'nCount_RNA', 'nFeature_RNA', 'seurat_clusters', 'Stage', 'anno_300cells', 'initial_size_spliced', 'initial_size_unspliced', 'initial_size', 'n_counts']]"
   ]
  },
  {
   "cell_type": "code",
   "execution_count": null,
   "id": "1027148d-b292-4600-8e77-213118e3d5f8",
   "metadata": {},
   "outputs": [],
   "source": [
    "# ef_qcd_bf2_scv[2].var"
   ]
  },
  {
   "cell_type": "code",
   "execution_count": null,
   "id": "47522358-cafc-46b4-87c5-c337beada849",
   "metadata": {
    "tags": []
   },
   "outputs": [],
   "source": [
    "# for col in ef_qcd_bf2_scv[1].obs.columns:\n",
    "#         if pd.api.types.is_categorical_dtype(ef_qcd_bf2_scv[1].obs[col]):\n",
    "#             ef_qcd_bf2_scv[1].obs[col].cat.add_categories(\"selfdefinedNA\").fillna('selfdefinedNA')\n",
    "#             print(ef_qcd_bf2_scv[1].obs.head)"
   ]
  },
  {
   "cell_type": "code",
   "execution_count": null,
   "id": "87f45d9c-8b46-4941-9c26-d3f52a8d65a0",
   "metadata": {},
   "outputs": [],
   "source": [
    "ef_qcd_bf1_scv[1].var"
   ]
  },
  {
   "cell_type": "code",
   "execution_count": null,
   "id": "671ba631-92b4-4d4c-ae9f-02f404f487d4",
   "metadata": {},
   "outputs": [],
   "source": [
    "ef_qcd_bf2_scv[1].var.fit_steady_u"
   ]
  },
  {
   "cell_type": "code",
   "execution_count": null,
   "id": "1edab2d1-6d76-4c00-afa2-0a4273f8a07e",
   "metadata": {},
   "outputs": [],
   "source": [
    "ef_qcd_bf2_scv[1]"
   ]
  },
  {
   "cell_type": "code",
   "execution_count": null,
   "id": "22b2bed6-475f-438e-8045-00728874f467",
   "metadata": {
    "tags": []
   },
   "outputs": [],
   "source": [
    "for obj in ef_qcd_bf2_scv:\n",
    "    print(obj.obs.Stage.value_counts())"
   ]
  },
  {
   "cell_type": "markdown",
   "id": "8c0e414d-afdd-4fd0-b829-c2e321819f90",
   "metadata": {},
   "source": [
    "Start - Kernels and estimators "
   ]
  },
  {
   "cell_type": "markdown",
   "id": "54645239-ddb8-4414-9f32-e0c0d5357c7c",
   "metadata": {},
   "source": [
    "Low level Kernels and estimators"
   ]
  },
  {
   "cell_type": "code",
   "execution_count": null,
   "id": "03a73a0a-a72f-45a0-bd32-dfaf26139340",
   "metadata": {
    "tags": []
   },
   "outputs": [],
   "source": [
    "vk_bf1 = []\n",
    "for obj in ef_qcd_bf1_scv:\n",
    "    x = VelocityKernel(obj).compute_transition_matrix()\n",
    "    vk_bf1.append(x)\n",
    "    # cr.tl.terminal_states(obj, cluster_key=\"Stage\", weight_connectivities=0.2)"
   ]
  },
  {
   "cell_type": "code",
   "execution_count": null,
   "id": "f6fcb4d8-4a0c-487a-914d-bd4fe5812abd",
   "metadata": {},
   "outputs": [],
   "source": [
    "vk_bf1"
   ]
  },
  {
   "cell_type": "code",
   "execution_count": null,
   "id": "89168108-363d-4ab1-bce8-b3b1bece2472",
   "metadata": {},
   "outputs": [],
   "source": [
    "vk_bf2 = []\n",
    "for obj in ef_qcd_bf2_scv:\n",
    "    x = VelocityKernel(obj).compute_transition_matrix()\n",
    "    vk_bf2.append(x)\n",
    "    # cr.tl.terminal_states(obj, cluster_key=\"Stage\", weight_connectivities=0.2)"
   ]
  },
  {
   "cell_type": "code",
   "execution_count": null,
   "id": "d6e138a4-056f-414c-a7e0-0399a39ba84f",
   "metadata": {},
   "outputs": [],
   "source": [
    "vk_bf2"
   ]
  },
  {
   "cell_type": "code",
   "execution_count": null,
   "id": "c2d2dc7f-fe7f-41c6-9a02-51ca2dbc5154",
   "metadata": {},
   "outputs": [],
   "source": [
    "# vk = VelocityKernel(ef_qcd_bf1_d5_scv)"
   ]
  },
  {
   "cell_type": "code",
   "execution_count": null,
   "id": "2055c9e1-f5f2-4938-a6e9-981a0cf1ac52",
   "metadata": {},
   "outputs": [],
   "source": [
    "from cellrank.tl.kernels import ConnectivityKernel"
   ]
  },
  {
   "cell_type": "code",
   "execution_count": null,
   "id": "0bc3d77f-ee77-40e9-9bf6-7bd6ae79a5ec",
   "metadata": {},
   "outputs": [],
   "source": [
    "ck_bf1 = []\n",
    "for obj in ef_qcd_bf1_scv:\n",
    "    x = ConnectivityKernel(obj).compute_transition_matrix()\n",
    "    ck_bf1.append(x)"
   ]
  },
  {
   "cell_type": "code",
   "execution_count": null,
   "id": "25fd1810-b029-4997-b81c-87489bfe55fa",
   "metadata": {
    "tags": []
   },
   "outputs": [],
   "source": [
    "ck_bf2 = []\n",
    "for obj in ef_qcd_bf2_scv:\n",
    "    x = ConnectivityKernel(obj).compute_transition_matrix()\n",
    "    ck_bf2.append(x)"
   ]
  },
  {
   "cell_type": "code",
   "execution_count": null,
   "id": "05dcd89a-741e-45fd-bffb-9d4441fe156d",
   "metadata": {},
   "outputs": [],
   "source": [
    "# from cellrank.tl.kernels import ConnectivityKernel\n",
    "\n",
    "# ck = ConnectivityKernel(ef_qcd_bf1_d5_scv).compute_transition_matrix()"
   ]
  },
  {
   "cell_type": "code",
   "execution_count": null,
   "id": "ac382d6c-6693-4b39-80b6-be06579c7344",
   "metadata": {},
   "outputs": [],
   "source": [
    "combined_kernel_bf1 = []\n",
    "for obj, vk, ck in zip(ef_qcd_bf1_scv, vk_bf1, ck_bf1):\n",
    "    x = 0.6 * vk + 0.4 * ck\n",
    "    combined_kernel_bf1.append(x)"
   ]
  },
  {
   "cell_type": "code",
   "execution_count": null,
   "id": "805e87be-ca07-4dce-84c4-db483e294922",
   "metadata": {},
   "outputs": [],
   "source": [
    "combined_kernel_bf2 = []\n",
    "for obj, vk, ck in zip(ef_qcd_bf2_scv, vk_bf2, ck_bf2):\n",
    "    x = 0.6 * vk + 0.4 * ck\n",
    "    combined_kernel_bf2.append(x)"
   ]
  },
  {
   "cell_type": "code",
   "execution_count": null,
   "id": "0b7d0e9e-54bb-4544-be66-b715bd4d6699",
   "metadata": {},
   "outputs": [],
   "source": [
    "# combined_kernel = 0.8 * vk + 0.2 * ck"
   ]
  },
  {
   "cell_type": "code",
   "execution_count": null,
   "id": "7d9160be-c51d-40b5-a403-6bbcc172024c",
   "metadata": {},
   "outputs": [],
   "source": [
    "print(combined_kernel_bf2)"
   ]
  },
  {
   "cell_type": "code",
   "execution_count": null,
   "id": "4b8e802b-3a6e-43e3-9cf1-7d21e4565ca4",
   "metadata": {},
   "outputs": [],
   "source": [
    "from cellrank.tl.estimators import GPCCA"
   ]
  },
  {
   "cell_type": "code",
   "execution_count": null,
   "id": "152fb956-3731-4803-8d6a-61131f202cba",
   "metadata": {},
   "outputs": [],
   "source": [
    "g_bf1 = []\n",
    "for ck in ck_bf1:\n",
    "    x = GPCCA(ck)\n",
    "    g_bf1.append(x)\n",
    "    "
   ]
  },
  {
   "cell_type": "code",
   "execution_count": null,
   "id": "57be28d7-b4d3-4134-b479-73805fb65903",
   "metadata": {},
   "outputs": [],
   "source": [
    "g_bf2 = []\n",
    "for ck in ck_bf2:\n",
    "    x = GPCCA(ck)\n",
    "    g_bf2.append(x)\n",
    "    "
   ]
  },
  {
   "cell_type": "code",
   "execution_count": null,
   "id": "f612cdc9-c380-4cb4-986c-2af003530a2d",
   "metadata": {},
   "outputs": [],
   "source": [
    "g_bf2"
   ]
  },
  {
   "cell_type": "code",
   "execution_count": null,
   "id": "4a3a545e-7a9a-47a9-9c70-a24a487175e3",
   "metadata": {
    "jupyter": {
     "outputs_hidden": true
    },
    "tags": []
   },
   "outputs": [],
   "source": [
    "for g in g_bf1:\n",
    "    g.compute_schur(n_components=20)\n",
    "    g.plot_spectrum()"
   ]
  },
  {
   "cell_type": "code",
   "execution_count": null,
   "id": "f59ffde5-d7f7-47fe-a7f0-f56513fd6ed5",
   "metadata": {
    "jupyter": {
     "outputs_hidden": true
    },
    "tags": []
   },
   "outputs": [],
   "source": [
    "for g in g_bf2:\n",
    "    g.compute_schur(n_components=20)\n",
    "    g.plot_spectrum()\n"
   ]
  },
  {
   "cell_type": "code",
   "execution_count": null,
   "id": "d4a2a1a3-298a-44bb-8400-a14b4c72c502",
   "metadata": {
    "jupyter": {
     "outputs_hidden": true
    },
    "tags": []
   },
   "outputs": [],
   "source": [
    "for g in g_bf1:\n",
    "    g.compute_macrostates(n_states=5, cluster_key=\"Stage\")\n",
    "    g.plot_macrostates()"
   ]
  },
  {
   "cell_type": "code",
   "execution_count": null,
   "id": "f43df258-481b-4560-8066-2a6abce2e53f",
   "metadata": {},
   "outputs": [],
   "source": []
  },
  {
   "cell_type": "code",
   "execution_count": null,
   "id": "1d42a5a9-fc3c-4587-903a-f7f0adfde232",
   "metadata": {
    "jupyter": {
     "outputs_hidden": true
    },
    "tags": []
   },
   "outputs": [],
   "source": [
    "for g in g_bf2:\n",
    "    g.compute_macrostates(n_states=3, cluster_key=\"Stage\")\n",
    "    g.plot_macrostates()"
   ]
  },
  {
   "cell_type": "code",
   "execution_count": null,
   "id": "68910cb4-d02b-4d7f-938b-466633a78afb",
   "metadata": {},
   "outputs": [],
   "source": [
    "# for g in g_bf2:\n",
    "#     g.compute_macrostates(n_states=6, cluster_key=\"anno_300cells\")\n",
    "#     g.plot_macrostates()"
   ]
  },
  {
   "cell_type": "code",
   "execution_count": null,
   "id": "e3366661-f50b-490d-a8fc-48d9dbbe9a76",
   "metadata": {
    "tags": []
   },
   "outputs": [],
   "source": [
    "for g in g_bf1:\n",
    "    g.plot_macrostates(discrete=True)\n"
   ]
  },
  {
   "cell_type": "code",
   "execution_count": null,
   "id": "3c865e88-95a4-477a-a77d-720fbd201037",
   "metadata": {
    "tags": []
   },
   "outputs": [],
   "source": [
    "# for g in g_bf1:\n",
    "#     g.compute_terminal_states()\n",
    "#     g.plot_terminal_states()"
   ]
  },
  {
   "cell_type": "code",
   "execution_count": null,
   "id": "01cb1300-22ec-48a7-8421-d306268603ee",
   "metadata": {},
   "outputs": [],
   "source": [
    "# g.compute_terminal_states()"
   ]
  },
  {
   "cell_type": "code",
   "execution_count": null,
   "id": "431269bc-c461-4952-b096-979a879984a1",
   "metadata": {},
   "outputs": [],
   "source": [
    "# sc.pl.umap(ef_qcd_bf1_d5_scv, color=\"Stage\")"
   ]
  },
  {
   "cell_type": "code",
   "execution_count": null,
   "id": "b1698e62-c32f-4468-b356-9fa02660e233",
   "metadata": {},
   "outputs": [],
   "source": [
    "# g.set_terminal_states({\"Male\": ef_qcd_bf1_d5_scv[ef_qcd_bf1_d5_scv.obs[\"Stage\"] == \"Male\"].obs_names, \"Female\": ef_qcd_bf1_d5_scv[ef_qcd_bf1_d5_scv.obs[\"Stage\"] == \"Female\"].obs_names, \"Trophozoite\": ef_qcd_bf1_d5_scv[ef_qcd_bf1_d5_scv.obs[\"Stage\"] == \"Female\"].obs_names})"
   ]
  },
  {
   "cell_type": "code",
   "execution_count": null,
   "id": "2c057205-6c16-45b6-9465-edd052cff2ca",
   "metadata": {},
   "outputs": [],
   "source": [
    "sc.pl.umap(ef_qcd_bf1_scv[6], color='Stage', components='2,3')"
   ]
  },
  {
   "cell_type": "code",
   "execution_count": null,
   "id": "a231a224-4a53-4a5c-9822-f5ec298c457f",
   "metadata": {},
   "outputs": [],
   "source": [
    "for g, obj in zip(g_bf1, ef_qcd_bf1_scv):\n",
    "    g.set_terminal_states({\"Early gametocyte\": obj[obj.obs[\"anno_300cells\"] == \"Gametocytes (developing)\"].obs_names, \"Asexual commited Trophozoite\": obj[obj.obs[\"Stage\"] == \"late trophozoite\"].obs_names})"
   ]
  },
  {
   "cell_type": "code",
   "execution_count": null,
   "id": "9e635c5d-5160-4edc-9c5b-96d0dab67045",
   "metadata": {
    "jupyter": {
     "outputs_hidden": true
    },
    "tags": []
   },
   "outputs": [],
   "source": [
    "# for g in g_bf1:\n",
    "#     g.plot_terminal_states()"
   ]
  },
  {
   "cell_type": "code",
   "execution_count": null,
   "id": "ee531e23-f7fa-4bf7-b8ef-b837763c2447",
   "metadata": {},
   "outputs": [],
   "source": [
    "v3_days[2:]"
   ]
  },
  {
   "cell_type": "code",
   "execution_count": null,
   "id": "bf62c43c-238c-4dd2-af58-65a7fd1e059e",
   "metadata": {},
   "outputs": [],
   "source": [
    "# for obj,v3_day in zip(ef_qcd_bf1_scv, v3_days):\n",
    "#     pickle.dump( obj, open( \"data/processed/PfDB52e/\"+v3_day+\"/scv_velocities.p\", \"wb\" ) )\n"
   ]
  },
  {
   "cell_type": "code",
   "execution_count": null,
   "id": "d902a302-62dd-4216-a973-c2a470a7844a",
   "metadata": {},
   "outputs": [],
   "source": [
    "# for obj,v3_day in zip(ef_qcd_bf2_scv, v3_days[2:]):\n",
    "#     pickle.dump( obj, open( \"data/processed/PfDB52e/\"+v3_day+\"/scv_velocities.p\", \"wb\" ) )"
   ]
  },
  {
   "cell_type": "code",
   "execution_count": null,
   "id": "d02a35af-b040-453b-a698-8ab4ba057138",
   "metadata": {},
   "outputs": [],
   "source": [
    "# # Load the dictionary back from the pickle file.\n",
    "# ef_qcd_bf1_scv_loaded=[]\n",
    "# for v3_day in v3_days:\n",
    "#     x = pickle.load(open( \"data/processed/PfDB52e/\"+v3_day+\"/scv_velocities.p\", \"rb\" ) )\n",
    "#     ef_qcd_bf1_scv_loaded.append(x)\n"
   ]
  },
  {
   "cell_type": "code",
   "execution_count": null,
   "id": "2fdb12e6-39e5-479d-9265-df627b88d86a",
   "metadata": {},
   "outputs": [],
   "source": [
    "# g.set_terminal_states({\"gametocyte (developing)\": ef_qcd_bf1_d5_scv[ef_qcd_bf1_d5_scv.obs[\"Stage\"] == \"gametocyte (developing)\"].obs_names, \"late trophozoite\": ef_qcd_bf1_d5_scv[ef_qcd_bf1_d5_scv.obs[\"Stage\"] == \"late trophozoite\"].obs_names})"
   ]
  },
  {
   "cell_type": "code",
   "execution_count": null,
   "id": "0433acd3-10ca-459a-97d3-9633c8dc2df0",
   "metadata": {
    "jupyter": {
     "outputs_hidden": true
    },
    "tags": []
   },
   "outputs": [],
   "source": [
    "for g in g_bf1:\n",
    "    g.compute_absorption_probabilities()"
   ]
  },
  {
   "cell_type": "code",
   "execution_count": null,
   "id": "0f073afa-9ca7-4c12-afc8-15fc03661886",
   "metadata": {
    "jupyter": {
     "outputs_hidden": true
    },
    "tags": []
   },
   "outputs": [],
   "source": [
    "for g in g_bf1:\n",
    "    g.plot_absorption_probabilities()"
   ]
  },
  {
   "cell_type": "code",
   "execution_count": null,
   "id": "56e845f6-2e72-4c1b-b2b0-8367b38157c4",
   "metadata": {},
   "outputs": [],
   "source": [
    "early_gam_drivers = []\n",
    "for g in g_bf1:\n",
    "    x = g.compute_lineage_drivers(lineages=\"Early gametocyte\", return_drivers=True, cluster_key = 'Stage', clusters= 'late ring')\n",
    "    early_gam_drivers.append(x)"
   ]
  },
  {
   "cell_type": "markdown",
   "id": "2aeeddd2-c674-4b45-afea-0a85ce7edf97",
   "metadata": {},
   "source": [
    "Computing driver genes in the gametocyte(branching) cluster that are driving cells to the male cluster"
   ]
  },
  {
   "cell_type": "code",
   "execution_count": null,
   "id": "cde44971-aa18-40c0-ac49-3e50bcb30bf6",
   "metadata": {},
   "outputs": [],
   "source": [
    "early_gam_drivers[1]"
   ]
  },
  {
   "cell_type": "markdown",
   "id": "fc6cf154-a561-436d-9757-dab5d3663c74",
   "metadata": {},
   "source": [
    "Plotting top 4 driver genes per timepoint"
   ]
  },
  {
   "cell_type": "markdown",
   "id": "722a4300-b4ce-4bb7-affd-c8cb5359fded",
   "metadata": {},
   "source": [
    "Upset plots to assess driver genes in branching gams that is shared between day10 new and day 10 old datasets and the 2 datasets combined using retaining only genes positively correlated to absorption probabilities towards terminal males where P < 0.001 as qvalue is NA https://github.com/theislab/cellrank/issues/819"
   ]
  },
  {
   "cell_type": "markdown",
   "id": "fe71ae82-78f7-4be6-a0a6-fa6ae36d08ee",
   "metadata": {},
   "source": [
    "Phase potraits highlighting behaviour of gene in 'Gametocytes (branching)' cluster. We should start seeing activation atleast in cells that will then on become female."
   ]
  },
  {
   "cell_type": "code",
   "execution_count": null,
   "id": "ede21fd1-eed1-43cf-9d1b-0722618038d4",
   "metadata": {
    "tags": []
   },
   "outputs": [],
   "source": [
    "for obj, dg in zip(ef_qcd_bf1_scv, early_gam_drivers):\n",
    "    scv.pl.scatter(obj, dg.index[0:4].to_list(), color=['anno_300cells'], add_outline=['Gametocytes (developing)','Gametocytes (branching)', 'Gametocytes (late male)', 'Gametocytes (late female)'])"
   ]
  },
  {
   "cell_type": "markdown",
   "id": "b98621e4-993a-488e-95b3-2e0f5c60f4ec",
   "metadata": {},
   "source": [
    "Phase potraits highlighting behaviour of gene in 'Gametocytes (early male)','Gametocytes (late male)' cluster. We should see activation"
   ]
  },
  {
   "cell_type": "code",
   "execution_count": null,
   "id": "620e4e4b-930d-4b89-9079-ed60493f7b56",
   "metadata": {
    "jupyter": {
     "outputs_hidden": true
    },
    "tags": []
   },
   "outputs": [],
   "source": [
    "for obj, dg in zip(ef_qcd_bf2_scv, branching_gam_drivers_m):\n",
    "    scv.pl.scatter(obj, dg.index[0:5].to_list(), color='anno_300cells', add_outline=['Gametocytes (early male)','Gametocytes (late male)'])"
   ]
  },
  {
   "cell_type": "code",
   "execution_count": null,
   "id": "bff40bba-05d8-41c6-9548-bb72928936ee",
   "metadata": {},
   "outputs": [],
   "source": [
    "early_gam_drivers = []\n",
    "for g in g_bf1:\n",
    "    x = g.compute_lineage_drivers(lineages=\"Early gametocyte\", return_drivers=True)\n",
    "    early_gam_drivers.append(x)"
   ]
  },
  {
   "cell_type": "code",
   "execution_count": null,
   "id": "2e2da5e6-e209-45c5-b00c-0dd61843562f",
   "metadata": {
    "tags": []
   },
   "outputs": [],
   "source": [
    "for g in g_bf1:\n",
    "    g.plot_lineage_drivers(\"Early gametocyte\", n_genes=4, components='2,3')"
   ]
  },
  {
   "cell_type": "code",
   "execution_count": null,
   "id": "c3d04cab-e925-423e-bf1d-e6ec06a7693a",
   "metadata": {
    "tags": []
   },
   "outputs": [],
   "source": [
    "ef_qcd_bf2_scv[1:]"
   ]
  },
  {
   "cell_type": "code",
   "execution_count": null,
   "id": "ebad32df-7c08-428b-8ed2-3d4fed6dd013",
   "metadata": {},
   "outputs": [],
   "source": [
    "# for g, obj in zip(g_bf2, ef_qcd_bf2_scv):\n",
    "#     g.set_terminal_states({\"Male\": obj[obj.obs[\"Stage\"] == \"gametocyte (male)\"].obs_names, \"Female\": obj[obj.obs[\"Stage\"] == \"gametocyte (female)\"].obs_names})"
   ]
  },
  {
   "cell_type": "code",
   "execution_count": null,
   "id": "4465987f-d5c2-4044-8855-496b242ee269",
   "metadata": {},
   "outputs": [],
   "source": [
    "for g, obj in zip(g_bf2[1:], ef_qcd_bf2_scv[1:]):\n",
    "    g.set_terminal_states({\"Late male\": obj[obj.obs[\"anno_300cells\"] == \"Gametocytes (late male)\"].obs_names, \"Late female\": obj[obj.obs[\"anno_300cells\"] == \"Gametocytes (late female)\"].obs_names})"
   ]
  },
  {
   "cell_type": "code",
   "execution_count": null,
   "id": "5b185727-e80c-4059-a2bf-c88fce6a2f3c",
   "metadata": {
    "tags": []
   },
   "outputs": [],
   "source": [
    "for g in g_bf2[1:]:\n",
    "    g.compute_absorption_probabilities()"
   ]
  },
  {
   "cell_type": "code",
   "execution_count": null,
   "id": "b728cfd5-fb6b-471b-9610-45e7e1a36c53",
   "metadata": {
    "tags": []
   },
   "outputs": [],
   "source": [
    "male_drivers = []\n",
    "for g in g_bf2[1:]:\n",
    "    x = g.compute_lineage_drivers(lineages=\"Late male\", return_drivers=True)\n",
    "    male_drivers.append(x)"
   ]
  },
  {
   "cell_type": "code",
   "execution_count": null,
   "id": "cbee8eab-cade-4c05-8661-e44c416779c6",
   "metadata": {
    "tags": []
   },
   "outputs": [],
   "source": [
    "# Male_drivers = g.compute_lineage_drivers(lineages=\"gametocyte (developing)\", return_drivers=True)\n",
    "# male_drivers[0]"
   ]
  },
  {
   "cell_type": "code",
   "execution_count": null,
   "id": "8ed57cb4-2111-406f-b865-06b33ba01714",
   "metadata": {
    "tags": []
   },
   "outputs": [],
   "source": [
    "for g in g_bf2[1:]:\n",
    "    g.plot_lineage_drivers(\"Late male\", n_genes=4)"
   ]
  },
  {
   "cell_type": "code",
   "execution_count": null,
   "id": "e4b70194-b89f-449f-8e8a-cdca125130d6",
   "metadata": {},
   "outputs": [],
   "source": [
    "female_drivers = []\n",
    "for g in g_bf2[1:]:\n",
    "    x = g.compute_lineage_drivers(lineages=\"Late female\", return_drivers=True)\n",
    "    female_drivers.append(x)"
   ]
  },
  {
   "cell_type": "code",
   "execution_count": null,
   "id": "9eb61213-1fe0-4313-9880-5b70c42819d2",
   "metadata": {
    "tags": []
   },
   "outputs": [],
   "source": [
    "# Male_drivers = g.compute_lineage_drivers(lineages=\"gametocyte (developing)\", return_drivers=True)\n",
    "female_drivers[2]"
   ]
  },
  {
   "cell_type": "code",
   "execution_count": null,
   "id": "4bb42a9a-7696-4720-af91-7052da1d2f93",
   "metadata": {
    "tags": []
   },
   "outputs": [],
   "source": [
    "for g in g_bf2[1:]:\n",
    "    g.plot_lineage_drivers(\"Late female\", n_genes=4)"
   ]
  },
  {
   "cell_type": "code",
   "execution_count": null,
   "id": "5c4afc51-d3d4-497f-ab70-591a62714649",
   "metadata": {
    "tags": []
   },
   "outputs": [],
   "source": [
    "sc.pl.umap(ef_qcd_bf1_scv[1], color='assignment2')"
   ]
  },
  {
   "cell_type": "code",
   "execution_count": null,
   "id": "4de2a500-9636-4fcc-b686-14113e70df0d",
   "metadata": {},
   "outputs": [],
   "source": [
    "ef_qcd_bf2_scv[1].obs.anno_300cells"
   ]
  },
  {
   "cell_type": "markdown",
   "id": "24c2fd8d-1eee-49e3-bb20-04e9fb8d0276",
   "metadata": {},
   "source": [
    "## Proper lineage driver analysis"
   ]
  },
  {
   "cell_type": "markdown",
   "id": "686086d8-af15-4dc0-a82c-743170bb55dc",
   "metadata": {},
   "source": [
    "Assessing genes involved in fate determination towards the male and female clusters with higher resolution using chunks generated by pseudotime"
   ]
  },
  {
   "cell_type": "markdown",
   "id": "9dc202d0-e431-4f66-b387-b1ee40629d76",
   "metadata": {},
   "source": [
    "day 5 has no late female and very few late male"
   ]
  },
  {
   "cell_type": "code",
   "execution_count": null,
   "id": "5446ce89-7fd5-4f1a-baee-750db62ff634",
   "metadata": {
    "tags": []
   },
   "outputs": [],
   "source": [
    "sc.pl.umap(ef_qcd_bf2_scv[3], color='anno_300cells')"
   ]
  },
  {
   "cell_type": "markdown",
   "id": "803fc6b8-008b-4e22-b042-7fcb09a25396",
   "metadata": {},
   "source": [
    "Manually setting terminal states\n",
    "Combining late males and early males as terminal state for day 5 and using late male for all the other timepoints\n",
    "Using Early female as terminal state for day 5 and using late female for all the other days"
   ]
  },
  {
   "cell_type": "code",
   "execution_count": null,
   "id": "939b9ae6-8824-47e8-8778-660ff20a2054",
   "metadata": {
    "tags": []
   },
   "outputs": [],
   "source": [
    "for i, g in enumerate(g_bf2):\n",
    "    if i == 0:\n",
    "        g.set_terminal_states({\"Male (early+late)\": ef_qcd_bf2_scv[i][ef_qcd_bf2_scv[i].obs[\"anno_300cells\"].isin([\"Gametocytes (late male)\", \"Gametocytes (early male)\"])].obs_names, \"Early female\": ef_qcd_bf2_scv[i][ef_qcd_bf2_scv[i].obs[\"anno_300cells\"] == \"Gametocytes (early female)\"].obs_names})\n",
    "    else:\n",
    "        g.set_terminal_states({\"Late male\": ef_qcd_bf2_scv[i][ef_qcd_bf2_scv[i].obs[\"anno_300cells\"] == \"Gametocytes (late male)\"].obs_names, \"Late female\": ef_qcd_bf2_scv[i][ef_qcd_bf2_scv[i].obs[\"anno_300cells\"] == \"Gametocytes (late female)\"].obs_names})        "
   ]
  },
  {
   "cell_type": "code",
   "execution_count": null,
   "id": "2f64be83-8044-4624-9f89-6580c6be9af0",
   "metadata": {},
   "outputs": [],
   "source": [
    "# for g, obj in zip(g_bf2[1:], ef_qcd_bf2_scv[1:]):\n",
    "#     g.set_terminal_states({\"Late male\": obj[obj.obs[\"anno_300cells\"] == \"Gametocytes (late male)\"].obs_names, \"Late female\": obj[obj.obs[\"anno_300cells\"] == \"Gametocytes (late female)\"].obs_names})"
   ]
  },
  {
   "cell_type": "code",
   "execution_count": null,
   "id": "f9061116-c053-4968-90f5-bc4dfd5943c6",
   "metadata": {},
   "outputs": [],
   "source": [
    "# for g, obj in g_bf2[1:]:\n",
    "#     g.compute_initial_states()\n"
   ]
  },
  {
   "cell_type": "code",
   "execution_count": null,
   "id": "208dccb7-df17-4c8d-834d-f614ab6765b6",
   "metadata": {
    "tags": []
   },
   "outputs": [],
   "source": [
    "for g in g_bf2:\n",
    "    g.compute_absorption_probabilities()"
   ]
  },
  {
   "cell_type": "code",
   "execution_count": null,
   "id": "e5440271-b9fa-4703-b4d2-e45ca85ec108",
   "metadata": {
    "jupyter": {
     "outputs_hidden": true
    },
    "tags": []
   },
   "outputs": [],
   "source": [
    "for g in g_bf2:\n",
    "    g.plot_absorption_probabilities()"
   ]
  },
  {
   "cell_type": "code",
   "execution_count": null,
   "id": "415f9711-6257-40bc-8480-d2e4cce029ba",
   "metadata": {},
   "outputs": [],
   "source": []
  },
  {
   "cell_type": "markdown",
   "id": "1c5122e5-e154-4283-894b-c840c8b506ea",
   "metadata": {},
   "source": [
    "Computing driver genes in the gametocyte(branching) cluster that are driving cells to the male cluster"
   ]
  },
  {
   "cell_type": "code",
   "execution_count": null,
   "id": "3a3d893d-b04a-46da-a4fd-e1672301a417",
   "metadata": {},
   "outputs": [],
   "source": [
    "branching_gam_drivers_m = []\n",
    "for i, g in enumerate(g_bf2):\n",
    "    if i == 0:\n",
    "        x = g.compute_lineage_drivers(lineages=\"Male (early+late)\", return_drivers=True, cluster_key = 'anno_300cells', clusters= 'Gametocytes (branching)')\n",
    "        branching_gam_drivers_m.append(x)    \n",
    "    else:\n",
    "        x = g.compute_lineage_drivers(lineages=\"Late male\", return_drivers=True, cluster_key = 'anno_300cells', clusters= 'Gametocytes (branching)')\n",
    "        branching_gam_drivers_m.append(x)"
   ]
  },
  {
   "cell_type": "code",
   "execution_count": null,
   "id": "5e212e5d-c8e0-4f26-b1ee-e1f187fe142e",
   "metadata": {},
   "outputs": [],
   "source": [
    "branching_gam_drivers_m[2]"
   ]
  },
  {
   "cell_type": "markdown",
   "id": "ac8c1d96-46ee-45de-8ee9-47be8a5434f0",
   "metadata": {},
   "source": [
    "Plotting top 4 driver genes per timepoint"
   ]
  },
  {
   "cell_type": "code",
   "execution_count": null,
   "id": "b95766ef-c4f7-44dd-9329-9e4c95170a92",
   "metadata": {
    "tags": []
   },
   "outputs": [],
   "source": [
    "for i, g in enumerate(g_bf2):\n",
    "    if i == 0:\n",
    "        g.plot_lineage_drivers(\"Male (early+late)\", n_genes=4)\n",
    "    else:\n",
    "        g.plot_lineage_drivers(\"Late male\", n_genes=4) "
   ]
  },
  {
   "cell_type": "markdown",
   "id": "aef0538e-8a67-4019-b9b0-ef01c04e21d4",
   "metadata": {},
   "source": [
    "Upset plots to assess driver genes in branching gams that is shared between day10 new and day 10 old datasets and the 2 datasets combined using retaining only genes positively correlated to absorption probabilities towards terminal males where P < 0.001 as qvalue is NA https://github.com/theislab/cellrank/issues/819"
   ]
  },
  {
   "cell_type": "code",
   "execution_count": null,
   "id": "1ed96949-aad3-43ec-a977-086f9d883de2",
   "metadata": {},
   "outputs": [],
   "source": [
    "branching_gam_drivers_m[1]['Late male_corr'].notna()"
   ]
  },
  {
   "cell_type": "code",
   "execution_count": null,
   "id": "e8bd21e8-47a4-40f1-816b-5f5a0ef0b8b0",
   "metadata": {},
   "outputs": [],
   "source": [
    "male_driver_in_gambranch = []\n",
    "for i, dg in enumerate(branching_gam_drivers_m):\n",
    "    if i == 0:\n",
    "        sig_gns = set(dg[(dg['Male (early+late)_pval'] < 0.001) & (dg['Male (early+late)_corr'] > 0)].index.to_list())\n",
    "        male_driver_in_gambranch.append(sig_gns)\n",
    "    else:\n",
    "        sig_gns = set(dg[(dg['Late male_pval'] < 0.001) & (dg['Late male_corr'] > 0)].index.to_list())\n",
    "        male_driver_in_gambranch.append(sig_gns)"
   ]
  },
  {
   "cell_type": "markdown",
   "id": "6be437ff-ffc6-483e-bc6f-ba46dacb392c",
   "metadata": {},
   "source": [
    "Phase potraits highlighting behaviour of gene in 'Gametocytes (branching)' cluster. We should start seeing activation atleast in cells that will then on become female."
   ]
  },
  {
   "cell_type": "code",
   "execution_count": null,
   "id": "3868ea17-59ea-42c4-b5d4-de63a26f0188",
   "metadata": {
    "tags": []
   },
   "outputs": [],
   "source": [
    "for obj, dg in zip(ef_qcd_bf2_scv, branching_gam_drivers_m):\n",
    "    scv.pl.scatter(obj, dg.index[0:5].to_list(), color=['anno_300cells'], add_outline='Gametocytes (branching)')"
   ]
  },
  {
   "cell_type": "markdown",
   "id": "a2362f7a-3b91-4348-a450-827c0296ee15",
   "metadata": {},
   "source": [
    "Phase potraits highlighting behaviour of gene in 'Gametocytes (early male)','Gametocytes (late male)' cluster. We should see activation"
   ]
  },
  {
   "cell_type": "code",
   "execution_count": null,
   "id": "c85092eb-1cd2-4b8a-8d1c-64bcdeb101b5",
   "metadata": {
    "tags": []
   },
   "outputs": [],
   "source": [
    "for obj, dg in zip(ef_qcd_bf2_scv, branching_gam_drivers_m):\n",
    "    scv.pl.scatter(obj, dg.index[0:5].to_list(), color='anno_300cells', add_outline=['Gametocytes (early male)','Gametocytes (late male)'])"
   ]
  },
  {
   "cell_type": "code",
   "execution_count": null,
   "id": "4fb7ad22-85ee-4c5d-a65e-a9625a8c1d46",
   "metadata": {},
   "outputs": [],
   "source": [
    "for obj, dg in zip(ef_qcd_bf2_scv, branching_gam_drivers_m):\n",
    "    scv.pl.scatter(obj, dg.index[0:5].to_list(), color='anno_300cells', add_outline=['Gametocytes (early female)','Gametocytes (late female)'])"
   ]
  },
  {
   "cell_type": "code",
   "execution_count": null,
   "id": "fad1a785-646e-420d-b953-1bcb9a0ea3f1",
   "metadata": {
    "tags": []
   },
   "outputs": [],
   "source": [
    "# male_driver_in_gambranch = []\n",
    "# set_names= v3_days[3:]\n",
    "# for v3_day, dg in zip(v3_days[3:], branching_gam_drivers_m):\n",
    "#     v3_day = set(dg[(dg['Late male_pval'] < 0.001) & (dg['Late male_corr'] > 0) & (dg['Late male_corr'].notna()) ].index.to_list())\n",
    "#     male_driver_in_gambranch.append(v3_day)"
   ]
  },
  {
   "cell_type": "code",
   "execution_count": null,
   "id": "47b315e6-f96f-4a42-97a3-40ffef1832d0",
   "metadata": {},
   "outputs": [],
   "source": [
    "set_names= v3_days[2:]\n"
   ]
  },
  {
   "cell_type": "code",
   "execution_count": null,
   "id": "f943f17f-b24f-437a-9a9b-2d26e39706cb",
   "metadata": {},
   "outputs": [],
   "source": [
    "all_elems = list(set().union(*male_driver_in_gambranch))\n",
    "\n",
    "df = pd.DataFrame([[e in st for st in male_driver_in_gambranch] for e in all_elems], columns = set_names)\n",
    "\n",
    "df_up = df.groupby(set_names).size()"
   ]
  },
  {
   "cell_type": "code",
   "execution_count": null,
   "id": "2ce49c84-bb13-4134-ab23-bd57a2a42de6",
   "metadata": {},
   "outputs": [],
   "source": [
    "plot(df_up, orientation='horizontal')"
   ]
  },
  {
   "cell_type": "code",
   "execution_count": null,
   "id": "3361ad15-8ea7-4463-9542-103c49be8b7a",
   "metadata": {
    "tags": []
   },
   "outputs": [],
   "source": [
    "Pf_genes_cln[Pf_genes_cln.Gene.isin(all_elems)]"
   ]
  },
  {
   "cell_type": "code",
   "execution_count": null,
   "id": "b4cf3201-8cec-4321-a33d-792295539b8d",
   "metadata": {},
   "outputs": [],
   "source": [
    "male_driver_in_gambranch_sgnf = []"
   ]
  },
  {
   "cell_type": "code",
   "execution_count": null,
   "id": "f54a5694-f33e-43c2-af56-90d962a5693a",
   "metadata": {
    "tags": []
   },
   "outputs": [],
   "source": [
    "for i, dg in enumerate(branching_gam_drivers_m):\n",
    "    if i == 0:\n",
    "        df=dg.copy()\n",
    "        # df = dg[(dg['Male (early+late)_pval'] < 0.001) & (dg['Male (early+late)_corr'] > 0)]\n",
    "        df.columns = df.columns.str.replace(' \\\\(early\\\\+late\\\\)', '')\n",
    "        df['Male composition'] = 'Early and Late'\n",
    "        male_driver_in_gambranch_sgnf.append(df)\n",
    "    else:\n",
    "        df=dg.copy()\n",
    "        # df = dg[(dg['Late male_pval'] < 0.001) & (dg['Late male_corr'] > 0)]\n",
    "        df.columns = df.columns.str.replace('Late male', 'Male')\n",
    "        df['Male composition'] = 'Late'\n",
    "        male_driver_in_gambranch_sgnf.append(df)"
   ]
  },
  {
   "cell_type": "code",
   "execution_count": null,
   "id": "287b7e2c-b0fd-42b0-8a9e-c22e3cb0edcf",
   "metadata": {},
   "outputs": [],
   "source": [
    "male_drivers_in_gambranch = pd.concat(male_driver_in_gambranch_sgnf, keys=v3_days[2:]).reset_index(level=0).rename(columns={'level_0':'Timepoint'})"
   ]
  },
  {
   "cell_type": "code",
   "execution_count": null,
   "id": "fcf5f397-2510-4dc9-aa33-d13d9371dcd5",
   "metadata": {
    "tags": []
   },
   "outputs": [],
   "source": [
    "m_d_g_freq = pd.DataFrame(pd.concat(male_driver_in_gambranch_sgnf, keys=v3_days[2:]).groupby(level=[1]).size()).rename(columns={0 : 'Timepoint_freq'})"
   ]
  },
  {
   "cell_type": "code",
   "execution_count": null,
   "id": "c0e29752-f9ce-44b5-a37b-e27ce0007cce",
   "metadata": {},
   "outputs": [],
   "source": [
    "male_drivers_in_gambranch_freq = pd.merge(male_drivers_in_gambranch, m_d_g_freq, how = 'left', left_index=True, right_index=True)"
   ]
  },
  {
   "cell_type": "code",
   "execution_count": null,
   "id": "5796dfdf-d75d-4266-b716-4801097df3e4",
   "metadata": {
    "tags": []
   },
   "outputs": [],
   "source": [
    "male_drivers_in_gambranch_PfDB =pd.merge(male_drivers_in_gambranch_freq, Pf_genes_cln, how='left', left_index=True, right_on='Gene')"
   ]
  },
  {
   "cell_type": "code",
   "execution_count": null,
   "id": "4c47d111-9b38-4258-9bca-5b35fcf41f6f",
   "metadata": {},
   "outputs": [],
   "source": [
    "male_drivers_in_gambranch_PfDB.to_csv(processed_data + '../../RoadtoUMAP/male_drivers_in_gambranch_PfDB.csv')"
   ]
  },
  {
   "cell_type": "code",
   "execution_count": null,
   "id": "3bce7df0-7673-48f4-8746-16901f5fd589",
   "metadata": {},
   "outputs": [],
   "source": [
    "Pf_genes_cln.loc[Pf_genes_cln.Gene.isin(branching_gam_drivers_m[2].index[:5].to_list())]"
   ]
  },
  {
   "cell_type": "markdown",
   "id": "b11a2a0d-d4fa-4150-a063-d377175e408a",
   "metadata": {},
   "source": [
    "Computing driver genes in the gametocyte(branching) cluster that are driving cells to the female cluster"
   ]
  },
  {
   "cell_type": "code",
   "execution_count": null,
   "id": "0277d36e-8381-4b17-b1ff-f9805bf1c1df",
   "metadata": {},
   "outputs": [],
   "source": [
    "branching_gam_drivers_f = []\n",
    "for i, g in enumerate(g_bf2):\n",
    "    if i == 0:\n",
    "        x = g.compute_lineage_drivers(lineages=\"Early female\", return_drivers=True, cluster_key = 'anno_300cells', clusters= 'Gametocytes (branching)')\n",
    "        branching_gam_drivers_f.append(x)    \n",
    "    else:\n",
    "        x = g.compute_lineage_drivers(lineages=\"Late female\", return_drivers=True, cluster_key = 'anno_300cells', clusters= 'Gametocytes (branching)')\n",
    "        branching_gam_drivers_f.append(x)"
   ]
  },
  {
   "cell_type": "markdown",
   "id": "793ed866-7406-40cf-864d-c23fdd3b22dd",
   "metadata": {},
   "source": [
    "Plotting top 4 driver genes per timepoint"
   ]
  },
  {
   "cell_type": "code",
   "execution_count": null,
   "id": "614fbce7-8759-4989-b1ec-b587afb79a0e",
   "metadata": {
    "tags": []
   },
   "outputs": [],
   "source": [
    "for i, g in enumerate(g_bf2):\n",
    "    if i == 0:\n",
    "        g.plot_lineage_drivers(\"Early female\", n_genes=4)\n",
    "    else:\n",
    "        g.plot_lineage_drivers(\"Late female\", n_genes=4) "
   ]
  },
  {
   "cell_type": "code",
   "execution_count": null,
   "id": "e17511cc-5d02-4b23-86fb-36b030b53558",
   "metadata": {},
   "outputs": [],
   "source": [
    "sc.pl.umap(ef_qcd_bf2_scv_b4CR_loaded[3], color = 'anno_300cells', components='2,3')"
   ]
  },
  {
   "cell_type": "code",
   "execution_count": null,
   "id": "ee1c1bfd-5143-45c9-bf2b-abf11c65f44d",
   "metadata": {},
   "outputs": [],
   "source": [
    "ef_qcd_bf2_scv[1]"
   ]
  },
  {
   "cell_type": "code",
   "execution_count": null,
   "id": "fb901a75-476b-464e-b7db-8fbab5673481",
   "metadata": {},
   "outputs": [],
   "source": []
  },
  {
   "cell_type": "code",
   "execution_count": null,
   "id": "9c820e6f-61d8-450b-8384-b0bd8f62e0fc",
   "metadata": {},
   "outputs": [],
   "source": [
    "for obj, dg in zip(ef_qcd_bf2_scv, branching_gam_drivers_f):\n",
    "    scv.pl.umap(obj,  layer='unspliced',  color=dg.index[0:5].to_list(), components='2,3')\n",
    "    # scv.pl.umap(ef_qcd_bf2_scv[], layer)"
   ]
  },
  {
   "cell_type": "code",
   "execution_count": null,
   "id": "0496b009-6d7a-45a2-949a-51ee5f5a655f",
   "metadata": {},
   "outputs": [],
   "source": [
    "for obj, dg in zip(ef_qcd_bf2_scv, branching_gam_drivers_f):\n",
    "    scv.pl.umap(obj,  layer='velocity',  color=dg.index[0:5].to_list(), components='2,3')"
   ]
  },
  {
   "cell_type": "code",
   "execution_count": null,
   "id": "1704a85a-215d-4662-b170-1ae647ec0844",
   "metadata": {},
   "outputs": [],
   "source": [
    "for obj, dg in zip(ef_qcd_bf2_scv, branching_gam_drivers_f):\n",
    "    scv.pl.umap(obj,  layer='velocity_u',  color=dg.index[0:5].to_list(), components='2,3')"
   ]
  },
  {
   "cell_type": "code",
   "execution_count": null,
   "id": "de7b5562-0131-44e4-ad5a-42170afab443",
   "metadata": {},
   "outputs": [],
   "source": [
    "for obj, dg in zip(ef_qcd_bf2_scv, branching_gam_drivers_f):\n",
    "    scv.pl.heatmap(obj,  layer='spliced',  var_names=dg.index.to_list())"
   ]
  },
  {
   "cell_type": "markdown",
   "id": "3aa22f18-20b4-40ad-b703-09b356a4bcb7",
   "metadata": {},
   "source": [
    "Phase potraits highlighting behaviour of gene in 'Gametocytes (branching)' cluster. We should start seeing activation atleast in cells that will then on become female."
   ]
  },
  {
   "cell_type": "code",
   "execution_count": null,
   "id": "c28b525d-c398-41f4-a8c9-fe7ed4333582",
   "metadata": {
    "tags": []
   },
   "outputs": [],
   "source": [
    "for obj, dg in zip(ef_qcd_bf2_scv, branching_gam_drivers_f):\n",
    "    scv.pl.scatter(obj, dg.index[0:5].to_list(), color=['anno_300cells'], add_outline='Gametocytes (branching)')"
   ]
  },
  {
   "cell_type": "code",
   "execution_count": null,
   "id": "a23c00ae-8475-4bbf-bfec-0393c5b3ae19",
   "metadata": {},
   "outputs": [],
   "source": [
    "scv.pl.umap(ef_qcd_bf2_scv[3], color='PF3D7_1416400', layer='unspliced', legend_loc='right', components='2,3')"
   ]
  },
  {
   "cell_type": "code",
   "execution_count": null,
   "id": "51540be0-9ea7-49fe-8ef6-16e53e7ddd42",
   "metadata": {},
   "outputs": [],
   "source": []
  },
  {
   "cell_type": "markdown",
   "id": "9161279b-0a1e-4591-acd5-78b8ce59e8b3",
   "metadata": {},
   "source": [
    "Phase potraits highlighting behaviour of gene in 'Gametocytes (late male)' cluster. Most should be repressed. "
   ]
  },
  {
   "cell_type": "code",
   "execution_count": null,
   "id": "95895f41-0110-4b3f-93f5-d05c66ec5569",
   "metadata": {
    "tags": []
   },
   "outputs": [],
   "source": [
    "for obj, dg in zip(ef_qcd_bf2_scv, branching_gam_drivers_f):\n",
    "    scv.pl.scatter(obj, dg.index[0:5].to_list(), color=['anno_300cells'], add_outline='Gametocytes (late male)')"
   ]
  },
  {
   "cell_type": "markdown",
   "id": "2ac1b2a0-51d8-4daf-b36d-5ef0ac0a4f42",
   "metadata": {},
   "source": [
    "Phase potraits highlighting behaviour of gene in 'Gametocytes (late female)' cluster. Most should be active "
   ]
  },
  {
   "cell_type": "code",
   "execution_count": null,
   "id": "660a54c1-8326-47bd-91cf-be552f71102c",
   "metadata": {
    "tags": []
   },
   "outputs": [],
   "source": [
    "for obj, dg in zip(ef_qcd_bf2_scv, branching_gam_drivers_f):\n",
    "    scv.pl.scatter(obj, dg.index[0:5].to_list(), color='anno_300cells', add_outline=['Gametocytes (early female)','Gametocytes (late female)'])"
   ]
  },
  {
   "cell_type": "code",
   "execution_count": null,
   "id": "7461800a-e793-4c93-9d04-f0c911da310e",
   "metadata": {},
   "outputs": [],
   "source": []
  },
  {
   "cell_type": "code",
   "execution_count": null,
   "id": "4a3fd491-f0c8-4bfe-be91-41eb695a5d18",
   "metadata": {},
   "outputs": [],
   "source": [
    "# branching_gam_drivers_f = []\n",
    "# for g in g_bf2[1:]:\n",
    "#     x = g.compute_lineage_drivers(lineages=\"Late female\", return_drivers=True, cluster_key = 'anno_300cells', clusters= 'Gametocytes (branching)')\n",
    "#     branching_gam_drivers_f.append(x)"
   ]
  },
  {
   "cell_type": "code",
   "execution_count": null,
   "id": "32a15aea-eedc-41c9-96d9-d41e5b4cea90",
   "metadata": {},
   "outputs": [],
   "source": [
    "# branching_gam_drivers_f[2]['Late female_pval']"
   ]
  },
  {
   "cell_type": "markdown",
   "id": "b380b305-9783-401c-9f6d-b42e820cf0bb",
   "metadata": {},
   "source": [
    "Upset plot for female"
   ]
  },
  {
   "cell_type": "markdown",
   "id": "666d683b-197d-483c-b02d-8dc1073833d5",
   "metadata": {},
   "source": [
    "Upset plots to assess driver genes in branching gams that is shared between day10 new and day 10 old datasets and the 2 datasets combined using retaining only genes positively correlated to absorption probabilities towards terminal males where P < 0.001 as qvalue is NA. bug in scvelo https://github.com/theislab/cellrank/issues/819"
   ]
  },
  {
   "cell_type": "code",
   "execution_count": null,
   "id": "194b00e1-6b04-4ff1-9970-9c5b92563752",
   "metadata": {},
   "outputs": [],
   "source": [
    "female_driver_in_gambranch = []\n",
    "for i, dg in enumerate(branching_gam_drivers_f):\n",
    "    if i == 0:\n",
    "        sig_gns = set(dg[(dg['Early female_pval'] < 0.001) & (dg['Early female_corr'] > 0)].index.to_list())\n",
    "        female_driver_in_gambranch.append(sig_gns)\n",
    "    else:\n",
    "        sig_gns = set(dg[(dg['Late female_pval'] < 0.001) & (dg['Late female_corr'] > 0)].index.to_list())\n",
    "        female_driver_in_gambranch.append(sig_gns)"
   ]
  },
  {
   "cell_type": "code",
   "execution_count": null,
   "id": "be90a14f-fe3d-44ef-af86-89fc485c29d6",
   "metadata": {
    "jupyter": {
     "outputs_hidden": true
    },
    "tags": []
   },
   "outputs": [],
   "source": []
  },
  {
   "cell_type": "code",
   "execution_count": null,
   "id": "cf390a1d-6e66-4b58-a32a-bdb14ba082eb",
   "metadata": {},
   "outputs": [],
   "source": [
    "set_names= v3_days[2:]\n"
   ]
  },
  {
   "cell_type": "code",
   "execution_count": null,
   "id": "c4a2430e-e21a-4941-9830-82b5ad067c9e",
   "metadata": {},
   "outputs": [],
   "source": [
    "all_elems = list(set().union(*female_driver_in_gambranch))\n",
    "\n",
    "df = pd.DataFrame([[e in st for st in female_driver_in_gambranch] for e in all_elems], columns = set_names)\n",
    "\n",
    "df_up = df.groupby(set_names).size()"
   ]
  },
  {
   "cell_type": "code",
   "execution_count": null,
   "id": "5110970d-a69b-4137-865a-236836cd6171",
   "metadata": {},
   "outputs": [],
   "source": [
    "plot(df_up, orientation='horizontal')"
   ]
  },
  {
   "cell_type": "code",
   "execution_count": null,
   "id": "ba0285d2-0a54-480e-9c28-8a3f1d9c4e4a",
   "metadata": {},
   "outputs": [],
   "source": [
    "female_driver_in_gambranch_sgnf = []"
   ]
  },
  {
   "cell_type": "markdown",
   "id": "bab96a86-3896-4221-8a6e-033a643224d7",
   "metadata": {},
   "source": [
    "Summary table of the female driver genes in the 'Gametocytes (branching)' for all timepoints"
   ]
  },
  {
   "cell_type": "code",
   "execution_count": null,
   "id": "54563464-19a9-4c4a-8f6b-356c282ade5e",
   "metadata": {
    "tags": []
   },
   "outputs": [],
   "source": [
    "for i, dg in enumerate(branching_gam_drivers_f):\n",
    "    if i == 0:\n",
    "        df=dg.copy()\n",
    "        # df = dg[(dg['Early female_pval'] < 0.001) & (dg['Early female_corr'] > 0)]\n",
    "        df.columns = df.columns.str.replace('Early female', 'Female')\n",
    "        df['Female composition'] = 'Early'        \n",
    "        female_driver_in_gambranch_sgnf.append(df)\n",
    "    else:\n",
    "        df=dg.copy()\n",
    "        df = dg[(dg['Late female_pval'] < 0.001) & (dg['Late female_corr'] > 0)]\n",
    "        df.columns = df.columns.str.replace('Late female', 'Female')\n",
    "        df['Female composition'] = 'Late'\n",
    "        female_driver_in_gambranch_sgnf.append(df)\n",
    "        \n"
   ]
  },
  {
   "cell_type": "code",
   "execution_count": null,
   "id": "63f0e45b-5491-453b-992f-11d89b1bc172",
   "metadata": {},
   "outputs": [],
   "source": [
    "female_drivers_in_gambranch = pd.concat(female_driver_in_gambranch_sgnf, keys=v3_days[2:]).reset_index(level=0).rename(columns={'level_0':'Timepoint'})"
   ]
  },
  {
   "cell_type": "code",
   "execution_count": null,
   "id": "e1705d86-d063-4c39-8aa5-8d1f83b89134",
   "metadata": {
    "tags": []
   },
   "outputs": [],
   "source": [
    "f_d_g_freq = pd.DataFrame(pd.concat(female_driver_in_gambranch_sgnf, keys=v3_days[2:]).groupby(level=[1]).size()).rename(columns={0 : 'Timepoint_freq'})"
   ]
  },
  {
   "cell_type": "code",
   "execution_count": null,
   "id": "379fedc1-c4f6-4d10-aba7-3dd267d64d4e",
   "metadata": {},
   "outputs": [],
   "source": [
    "female_drivers_in_gambranch_freq = pd.merge(female_drivers_in_gambranch, f_d_g_freq, how = 'left', left_index=True, right_index=True)"
   ]
  },
  {
   "cell_type": "code",
   "execution_count": null,
   "id": "90a4b86b-a306-45e7-9685-9b868cf78d22",
   "metadata": {
    "tags": []
   },
   "outputs": [],
   "source": [
    "female_drivers_in_gambranch_PfDB =pd.merge(female_drivers_in_gambranch_freq, Pf_genes_cln, how='left', left_index=True, right_on='Gene')"
   ]
  },
  {
   "cell_type": "code",
   "execution_count": null,
   "id": "1dfd0610-e8e4-4e7d-8270-2ad89feb65d5",
   "metadata": {},
   "outputs": [],
   "source": [
    "female_drivers_in_gambranch_PfDB.to_csv(processed_data + '../../RoadtoUMAP/female_drivers_in_gambranch_PfDB.csv')"
   ]
  },
  {
   "cell_type": "code",
   "execution_count": null,
   "id": "0edb8ebd-454c-46c7-958c-132582ad2978",
   "metadata": {},
   "outputs": [],
   "source": [
    "female_drivers_in_gambranch_PfDB.sort_values('Female_corr', ascending=False)"
   ]
  },
  {
   "cell_type": "code",
   "execution_count": null,
   "id": "e19fca02-85bc-47c8-907a-4de5b3683cfb",
   "metadata": {
    "tags": []
   },
   "outputs": [],
   "source": [
    "Pf_genes_cln.loc[Pf_genes_cln.Gene.isin(branching_gam_drivers_f[0].index[:5].to_list())]"
   ]
  },
  {
   "cell_type": "code",
   "execution_count": null,
   "id": "68304d64-2faf-428b-ae0c-0db21c9f3f6f",
   "metadata": {},
   "outputs": [],
   "source": []
  },
  {
   "cell_type": "markdown",
   "id": "91b29f3c-788f-4529-a2b8-865129835030",
   "metadata": {},
   "source": [
    "Computing driver genes in the 'Gametocytes (comitted)', 'Gametocytes (developing)' and 'Gametocytes (branching)' cluster that are driving cells to the male cluster"
   ]
  },
  {
   "cell_type": "code",
   "execution_count": null,
   "id": "5ac4c029-06a3-40e3-8627-84c9b65b160d",
   "metadata": {},
   "outputs": [],
   "source": [
    "sc.pl.umap(ef_qcd_bf2_scv[3], color='anno_300cells')"
   ]
  },
  {
   "cell_type": "code",
   "execution_count": null,
   "id": "916f30db-0d48-4545-8326-052126db3507",
   "metadata": {},
   "outputs": [],
   "source": [
    "male_drivers_CDB = []\n",
    "for i, g in enumerate(g_bf2):\n",
    "    if i == 0:\n",
    "        x = g.compute_lineage_drivers(lineages=\"Male (early+late)\", return_drivers=True, cluster_key = 'anno_300cells', clusters= ['Gametocytes (comitted)', 'Gametocytes (developing)'])\n",
    "        male_drivers_CDB.append(x)    \n",
    "    else:\n",
    "        x = g.compute_lineage_drivers(lineages=\"Late male\", return_drivers=True, cluster_key = 'anno_300cells', clusters= ['Gametocytes (comitted)', 'Gametocytes (developing)'])\n",
    "        male_drivers_CDB.append(x)"
   ]
  },
  {
   "cell_type": "code",
   "execution_count": null,
   "id": "5daa0792-4379-4fba-b47d-c26c0cb7251a",
   "metadata": {
    "tags": []
   },
   "outputs": [],
   "source": [
    "male_drivers_CDB[3]"
   ]
  },
  {
   "cell_type": "markdown",
   "id": "baf7aee5-d80a-4784-918e-7376b326dedb",
   "metadata": {},
   "source": [
    "Plotting top 4 driver genes per timepoint"
   ]
  },
  {
   "cell_type": "code",
   "execution_count": null,
   "id": "7c24d686-e310-4186-99ff-6ddf48845216",
   "metadata": {
    "tags": []
   },
   "outputs": [],
   "source": [
    "for i, g in enumerate(g_bf2):\n",
    "    if i == 0:\n",
    "        g.plot_lineage_drivers(\"Male (early+late)\", n_genes=4)\n",
    "    else:\n",
    "        g.plot_lineage_drivers(\"Late male\", n_genes=4) "
   ]
  },
  {
   "cell_type": "markdown",
   "id": "95f504e3-32da-44b8-bca5-6b5bc6966bff",
   "metadata": {},
   "source": [
    "Phase potraits highlighting behaviour of gene in 'Gametocytes (branching)' cluster. We should start seeing activation atleast in cells that will then on become female."
   ]
  },
  {
   "cell_type": "code",
   "execution_count": null,
   "id": "4e470c14-ba39-4dc2-97bb-1efd18bc8bfb",
   "metadata": {
    "tags": []
   },
   "outputs": [],
   "source": [
    "for obj, dg in zip(ef_qcd_bf2_scv, male_drivers_CDB):\n",
    "    scv.pl.scatter(obj, dg.index[0:5].to_list(), color=['anno_300cells'], add_outline=['Gametocytes (comitted)', 'Gametocytes (developing)', 'Gametocytes (branching)'])"
   ]
  },
  {
   "cell_type": "markdown",
   "id": "2fadf1a4-e994-49e3-b8f8-e579eeecf455",
   "metadata": {},
   "source": [
    "Phase potraits highlighting behaviour of gene in 'Gametocytes (early male)','Gametocytes (late male)' cluster. We should see activation"
   ]
  },
  {
   "cell_type": "code",
   "execution_count": null,
   "id": "dfd2b336-ae65-430b-b1f0-76266d419aa0",
   "metadata": {
    "tags": []
   },
   "outputs": [],
   "source": [
    "for obj, dg in zip(ef_qcd_bf2_scv, male_drivers_CDB):\n",
    "    scv.pl.scatter(obj, dg.index[0:5].to_list(), color='anno_300cells', add_outline=['Gametocytes (early male)','Gametocytes (late male)'])"
   ]
  },
  {
   "cell_type": "code",
   "execution_count": null,
   "id": "ca4ec2b2-ae63-4eb3-87d2-ba5879b8231a",
   "metadata": {},
   "outputs": [],
   "source": [
    "for obj, dg in zip(ef_qcd_bf2_scv, male_drivers_CDB):\n",
    "    scv.pl.scatter(obj, dg.index[0:5].to_list(), color='anno_300cells', add_outline=['Gametocytes (early female)','Gametocytes (late female)'])"
   ]
  },
  {
   "cell_type": "code",
   "execution_count": null,
   "id": "1086e2be-b922-4a7e-98d0-b6cf75afe542",
   "metadata": {},
   "outputs": [],
   "source": [
    "for obj, dg in zip(ef_qcd_bf2_scv, male_drivers_CDB):\n",
    "    scv.pl.scatter(obj, dg.index[0:5].to_list(), color='anno_300cells', add_outline=['Gametocytes (early female)','Gametocytes (late female)'])"
   ]
  },
  {
   "cell_type": "code",
   "execution_count": null,
   "id": "9ee0743b-902e-40c9-ac4a-379ac98a1f23",
   "metadata": {},
   "outputs": [],
   "source": [
    "scv.pl.umap(ef_qcd_bf2_scv[0], color='Pfg14-748', layer='unspliced', legend_loc='right', components='2,3')"
   ]
  },
  {
   "cell_type": "code",
   "execution_count": null,
   "id": "7c55bf5e-164d-4670-89ca-68d27edcff1b",
   "metadata": {},
   "outputs": [],
   "source": [
    "scv.pl.umap(ef_qcd_bf2_scv[0], color='Pfg14-748', layer='velocity_u', legend_loc='right', components='2,3')"
   ]
  },
  {
   "cell_type": "code",
   "execution_count": null,
   "id": "335f839d-4a9e-4d67-b3a3-e61e3d035352",
   "metadata": {},
   "outputs": [],
   "source": [
    "scv.pl.umap(ef_qcd_bf2_scv[1], color='PF3D7_1438800', layer='unspliced', legend_loc='right', components='2,3')"
   ]
  },
  {
   "cell_type": "code",
   "execution_count": null,
   "id": "fd40ec1a-b74d-46ff-92ec-324ea0120fd4",
   "metadata": {},
   "outputs": [],
   "source": [
    "scv.pl.umap(ef_qcd_bf2_scv[1], color='PF3D7_1438800', layer='velocity_u', legend_loc='right', components='2,3')"
   ]
  },
  {
   "cell_type": "code",
   "execution_count": null,
   "id": "6039a084-ca4d-43a7-9c07-83499e2abfd6",
   "metadata": {},
   "outputs": [],
   "source": [
    "scv.pl.umap(ef_qcd_bf2_scv[2], color='MYCBP', layer='unspliced', legend_loc='right', components='2,3')"
   ]
  },
  {
   "cell_type": "code",
   "execution_count": null,
   "id": "f01b750a-d8ea-4936-a06c-68608114e298",
   "metadata": {},
   "outputs": [],
   "source": [
    "scv.pl.umap(ef_qcd_bf2_scv[2], color='MYCBP', layer='velocity_u', legend_loc='right', components='2,3')"
   ]
  },
  {
   "cell_type": "code",
   "execution_count": null,
   "id": "ad1c95db-96c6-4917-9a53-7c3c0ad5c3b8",
   "metadata": {
    "tags": []
   },
   "outputs": [],
   "source": [
    "# scv.pl.umap(ef_qcd_bf2_scv[1], color='PF3D7_0918700', layer='unspliced', legend_loc='right', components='2,3')"
   ]
  },
  {
   "cell_type": "code",
   "execution_count": null,
   "id": "ba221e9a-3947-412e-b406-8f6ad329cc89",
   "metadata": {
    "tags": []
   },
   "outputs": [],
   "source": [
    "# scv.pl.umap(ef_qcd_bf2_scv[2], color='PF3D7_0424100', layer='velocity_u', legend_loc='right', components='2,3')"
   ]
  },
  {
   "cell_type": "code",
   "execution_count": null,
   "id": "1e80c3f0-07f0-4160-aab3-96d1b47e70e2",
   "metadata": {},
   "outputs": [],
   "source": [
    "scv.pl.umap(ef_qcd_bf2_scv[2], color='MYCBP', layer='velocity_u', legend_loc='right', components='2,3')"
   ]
  },
  {
   "cell_type": "code",
   "execution_count": null,
   "id": "f9cbdeb8-490b-43fe-8b30-aeafcec52316",
   "metadata": {},
   "outputs": [],
   "source": [
    "ef_qcd_bf2_scv[2].obs.columns"
   ]
  },
  {
   "cell_type": "code",
   "execution_count": null,
   "id": "8e3e2ada-529a-49d5-9ef4-2e2dca25d0f7",
   "metadata": {},
   "outputs": [],
   "source": [
    "for obj, dg in zip(ef_qcd_bf2_scv, branching_gam_drivers_f):\n",
    "    scv.pl.umap(obj,  layer='unspliced',  color=dg.index[0:5].to_list(), components='2,3')"
   ]
  },
  {
   "cell_type": "code",
   "execution_count": null,
   "id": "5df469d5-cb89-4d8b-86be-7e85aa5c18e0",
   "metadata": {},
   "outputs": [],
   "source": [
    "scv.pl.scatter(ef_qcd_bf2_scv[1], 'PF3D7_1438800', color='anno_300cells', add_outline=['Gametocytes (comitted)', 'Gametocytes (developing)', 'Gametocytes (branching)'], legend_loc='right')"
   ]
  },
  {
   "cell_type": "code",
   "execution_count": null,
   "id": "052d54a3-f696-4d95-8bf8-bfa1a0d0d2be",
   "metadata": {
    "tags": []
   },
   "outputs": [],
   "source": [
    "scv.pl.scatter(ef_qcd_bf2_scv[1], 'PF3D7_1438800', color='anno_300cells', add_outline=['Gametocytes (early female)','Gametocytes (late female)'], legend_loc='right')"
   ]
  },
  {
   "cell_type": "code",
   "execution_count": null,
   "id": "ef6b449c-caab-4919-9e53-9de265673fc5",
   "metadata": {
    "tags": []
   },
   "outputs": [],
   "source": [
    "scv.pl.scatter(ef_qcd_bf2_scv[1], 'PF3D7_1438800', color='anno_300cells', legend_loc='right')"
   ]
  },
  {
   "cell_type": "code",
   "execution_count": null,
   "id": "484b4cce-1f9c-422c-a301-4e023d689f0f",
   "metadata": {
    "tags": []
   },
   "outputs": [],
   "source": [
    "scv.pl.scatter(obj, 'PF3D7_1438800', color='anno_300cells', add_outline=['Gametocytes (comitted)', 'Gametocytes (developing)', 'Gametocytes (branching)'], legend_loc='right')"
   ]
  },
  {
   "cell_type": "code",
   "execution_count": null,
   "id": "330daa53-c7f6-4378-b1a6-46ea0def628e",
   "metadata": {},
   "outputs": [],
   "source": [
    "scv.pl.scatter(ef_qcd_bf2_scv[3], 'PF3D7_1438800', color='anno_300cells', add_outline=['Gametocytes (early male)','Gametocytes (late male)'], legend_loc='right')"
   ]
  },
  {
   "cell_type": "code",
   "execution_count": null,
   "id": "f7a65a81-a3ae-4306-b9db-57e1d827a37e",
   "metadata": {
    "tags": []
   },
   "outputs": [],
   "source": [
    "scv.pl.scatter(obj, 'PF3D7_1438800', color='anno_300cells', add_outline=['Gametocytes (early female)','Gametocytes (late female)'], legend_loc='right')"
   ]
  },
  {
   "cell_type": "code",
   "execution_count": null,
   "id": "fff0240b-4d23-4edc-8abe-fca30e878ad1",
   "metadata": {},
   "outputs": [],
   "source": [
    "scv.pl.scatter(obj, 'PF3D7_0603600', color='anno_300cells', add_outline=['Gametocytes (comitted)', 'Gametocytes (developing)', 'Gametocytes (branching)'], legend_loc='right')"
   ]
  },
  {
   "cell_type": "code",
   "execution_count": null,
   "id": "3cfb057c-691a-4545-9684-b31118957ec6",
   "metadata": {},
   "outputs": [],
   "source": [
    "scv.pl.scatter(obj, 'PF3D7_1146800', color='anno_300cells', add_outline=['Gametocytes (comitted)', 'Gametocytes (developing)', 'Gametocytes (branching)'], legend_loc='right')"
   ]
  },
  {
   "cell_type": "code",
   "execution_count": null,
   "id": "6d9bdd5f-d2cf-4c74-ba99-2f3758df9067",
   "metadata": {},
   "outputs": [],
   "source": [
    "scv.pl.scatter(obj, 'PF3D7_1146800', color='anno_300cells', add_outline=['Gametocytes (early male)','Gametocytes (late male)'], legend_loc='right')"
   ]
  },
  {
   "cell_type": "code",
   "execution_count": null,
   "id": "5935e15c-96a4-41ed-a606-2419588a2930",
   "metadata": {},
   "outputs": [],
   "source": [
    "scv.pl.scatter(obj, 'PF3D7_1146800', color='anno_300cells', add_outline=['Gametocytes (early female)','Gametocytes (late female)'], legend_loc='right')"
   ]
  },
  {
   "cell_type": "code",
   "execution_count": null,
   "id": "3b54cbf4-1722-479e-a704-c4aac2b12c79",
   "metadata": {},
   "outputs": [],
   "source": []
  },
  {
   "cell_type": "markdown",
   "id": "db331475-417a-4357-818d-ee180ef7ee07",
   "metadata": {},
   "source": [
    "Upset plots to assess driver genes in branching gams that is shared between day10 new and day 10 old datasets and the 2 datasets combined using retaining only genes positively correlated to absorption probabilities towards terminal males where P < 0.001 as qvalue is NA https://github.com/theislab/cellrank/issues/819"
   ]
  },
  {
   "cell_type": "code",
   "execution_count": null,
   "id": "2300fe91-175f-4c84-9e2c-b72c6854582b",
   "metadata": {},
   "outputs": [],
   "source": [
    "male_drivers_in_CDB_gns = []\n",
    "for i, dg in enumerate(male_drivers_CDB):\n",
    "    if i == 0:\n",
    "        sig_gns = set(dg[(dg['Male (early+late)_pval'] < 0.001) & (dg['Male (early+late)_corr'] > 0)].index.to_list())\n",
    "        male_drivers_in_CDB_gns.append(sig_gns)\n",
    "    else:\n",
    "        sig_gns = set(dg[(dg['Late male_pval'] < 0.001) & (dg['Late male_corr'] > 0)].index.to_list())\n",
    "        male_drivers_in_CDB_gns.append(sig_gns)"
   ]
  },
  {
   "cell_type": "code",
   "execution_count": null,
   "id": "06d2d609-d929-4b98-b634-ceceae223aa5",
   "metadata": {
    "tags": []
   },
   "outputs": [],
   "source": [
    "# male_drivers_in_CDB_gns = []\n",
    "# set_names= v3_days[3:]\n",
    "# for v3_day, dg in zip(v3_days[3:], male_drivers_CDB):\n",
    "#     v3_day = set(dg[(dg['Late male_pval'] < 0.001) & (dg['Late male_corr'] > 0) & (dg['Late male_corr'].notna()) ].index.to_list())\n",
    "#     male_drivers_in_CDB_gns.append(v3_day)"
   ]
  },
  {
   "cell_type": "code",
   "execution_count": null,
   "id": "8c27564f-d46c-44a6-abbe-d00346d97172",
   "metadata": {},
   "outputs": [],
   "source": [
    "set_names= v3_days[2:]\n"
   ]
  },
  {
   "cell_type": "code",
   "execution_count": null,
   "id": "0345cedb-9c3e-4e39-bd91-25f651eed6e2",
   "metadata": {},
   "outputs": [],
   "source": [
    "all_elems = list(set().union(*male_drivers_in_CDB_gns))\n",
    "\n",
    "df = pd.DataFrame([[e in st for st in male_drivers_in_CDB_gns] for e in all_elems], columns = set_names)\n",
    "\n",
    "df_up = df.groupby(set_names).size()"
   ]
  },
  {
   "cell_type": "code",
   "execution_count": null,
   "id": "6c547863-9e5b-4dcd-816e-eeecfd6eaf99",
   "metadata": {},
   "outputs": [],
   "source": [
    "plot(df_up, orientation='horizontal')"
   ]
  },
  {
   "cell_type": "code",
   "execution_count": null,
   "id": "6c280435-6cf2-4e40-9225-20fda59a0585",
   "metadata": {
    "tags": []
   },
   "outputs": [],
   "source": [
    "Pf_genes_cln[Pf_genes_cln.Gene.isin(all_elems)]"
   ]
  },
  {
   "cell_type": "code",
   "execution_count": null,
   "id": "ac7fdd7f-ffa1-48af-b16f-1282fdf752fc",
   "metadata": {},
   "outputs": [],
   "source": [
    "male_drivers_in_CDB_stbl = []"
   ]
  },
  {
   "cell_type": "code",
   "execution_count": null,
   "id": "bae5644a-4a1a-4215-a5bc-dd5d13c30474",
   "metadata": {
    "tags": []
   },
   "outputs": [],
   "source": [
    "for i, dg in enumerate(male_drivers_CDB):\n",
    "    if i == 0:\n",
    "        df = dg.copy()\n",
    "        # df = dg[(dg['Male (early+late)_pval'] < 0.001) & (dg['Male (early+late)_corr'] > 0)]\n",
    "        df.columns = df.columns.str.replace(' \\\\(early\\\\+late\\\\)', '')\n",
    "        df['Male composition'] = 'Early and Late'\n",
    "        male_drivers_in_CDB_stbl.append(df)\n",
    "    else:\n",
    "        df =dg.copy()\n",
    "        # df = dg[(dg['Late male_pval'] < 0.001) & (dg['Late male_corr'] > 0)]\n",
    "        df.columns = df.columns.str.replace('Late male', 'Male')\n",
    "        df['Male composition'] = 'Late'\n",
    "        male_drivers_in_CDB_stbl.append(df)"
   ]
  },
  {
   "cell_type": "code",
   "execution_count": null,
   "id": "f56cc40a-2e8a-4a71-96d8-ee9e92d05bd1",
   "metadata": {},
   "outputs": [],
   "source": [
    "male_drivers_in_CDB = pd.concat(male_drivers_in_CDB_stbl, keys=v3_days[2:]).reset_index(level=0).rename(columns={'level_0':'Timepoint'})"
   ]
  },
  {
   "cell_type": "code",
   "execution_count": null,
   "id": "1691569c-4261-4e0f-b0e7-69cb2f320b91",
   "metadata": {
    "tags": []
   },
   "outputs": [],
   "source": [
    "m_d_g_freq = pd.DataFrame(pd.concat(male_drivers_in_CDB_stbl, keys=v3_days[2:]).groupby(level=[1]).size()).rename(columns={0 : 'Timepoint_freq'})"
   ]
  },
  {
   "cell_type": "code",
   "execution_count": null,
   "id": "0557e4d5-6dc2-43ff-80b4-791fbd8c1f47",
   "metadata": {},
   "outputs": [],
   "source": [
    "male_drivers_in_CDB_freq = pd.merge(male_drivers_in_CDB, m_d_g_freq, how = 'left', left_index=True, right_index=True)"
   ]
  },
  {
   "cell_type": "code",
   "execution_count": null,
   "id": "71b88f11-5fe4-4b18-8fdd-2c199e54f12c",
   "metadata": {
    "tags": []
   },
   "outputs": [],
   "source": [
    "male_drivers_in_CDB_PfDB =pd.merge(male_drivers_in_CDB_freq, Pf_genes_cln, how='left', left_index=True, right_on='Gene')"
   ]
  },
  {
   "cell_type": "code",
   "execution_count": null,
   "id": "b2e5c7bc-0eb4-4336-b7cd-d9c5bfcfb2d8",
   "metadata": {},
   "outputs": [],
   "source": [
    "male_drivers_in_CDB_PfDB.to_csv(processed_data + '../../RoadtoUMAP/male_drivers_in_CDB_PfDB.csv')"
   ]
  },
  {
   "cell_type": "code",
   "execution_count": null,
   "id": "18498874-f632-4348-8a67-4e265a93c216",
   "metadata": {
    "tags": []
   },
   "outputs": [],
   "source": [
    "Pf_genes_cln.loc[Pf_genes_cln.Gene.isin(male_drivers_CDB[2].index[:5].to_list())]"
   ]
  },
  {
   "cell_type": "code",
   "execution_count": null,
   "id": "aa558680-4ea4-40fc-99c2-38cfb23d64c5",
   "metadata": {},
   "outputs": [],
   "source": []
  },
  {
   "cell_type": "markdown",
   "id": "945840dd-466a-4d4a-8191-475ce6fb9a20",
   "metadata": {},
   "source": [
    "Computing driver genes in the gametocyte(branching) cluster that are driving cells to the female cluster"
   ]
  },
  {
   "cell_type": "code",
   "execution_count": null,
   "id": "ec4abf25-6e69-416d-97b9-0dd0c09476ff",
   "metadata": {},
   "outputs": [],
   "source": [
    "female_drivers_CDB = []\n",
    "for i, g in enumerate(g_bf2):\n",
    "    if i == 0:\n",
    "        x = g.compute_lineage_drivers(lineages=\"Early female\", return_drivers=True, cluster_key = 'anno_300cells', clusters= ['Gametocytes (comitted)', 'Gametocytes (developing)'])\n",
    "        female_drivers_CDB.append(x)    \n",
    "    else:\n",
    "        x = g.compute_lineage_drivers(lineages=\"Late female\", return_drivers=True, cluster_key = 'anno_300cells', clusters= ['Gametocytes (comitted)', 'Gametocytes (developing)'])\n",
    "        female_drivers_CDB.append(x)"
   ]
  },
  {
   "cell_type": "markdown",
   "id": "8c48d4d8-32e3-4ab9-a39c-2e9575626323",
   "metadata": {},
   "source": [
    "Plotting top 4 driver genes per timepoint"
   ]
  },
  {
   "cell_type": "code",
   "execution_count": null,
   "id": "fd720a4b-d0e3-4d7d-91d3-df3f54691d89",
   "metadata": {
    "tags": []
   },
   "outputs": [],
   "source": [
    "for i, g in enumerate(g_bf2):\n",
    "    if i == 0:\n",
    "        g.plot_lineage_drivers(\"Early female\", n_genes=4)\n",
    "    else:\n",
    "        g.plot_lineage_drivers(\"Late female\", n_genes=4) "
   ]
  },
  {
   "cell_type": "markdown",
   "id": "ac0401e9-c7e5-45e3-9ed4-64c135c12fce",
   "metadata": {},
   "source": [
    "Phase potraits highlighting behaviour of gene in 'Gametocytes (branching)' cluster. We should start seeing activation atleast in cells that will then on become female."
   ]
  },
  {
   "cell_type": "code",
   "execution_count": null,
   "id": "115b81bb-2c6f-4322-ad40-c13a2b71fb4e",
   "metadata": {
    "tags": []
   },
   "outputs": [],
   "source": [
    "for obj, dg in zip(ef_qcd_bf2_scv, female_drivers_CDB):\n",
    "    scv.pl.scatter(obj, dg.index[0:5].to_list(), color=['anno_300cells'], add_outline=['Gametocytes (comitted)', 'Gametocytes (developing)'])"
   ]
  },
  {
   "cell_type": "markdown",
   "id": "1b464a1d-902b-4119-9ea7-92098ca804d9",
   "metadata": {},
   "source": [
    "Phase potraits highlighting behaviour of gene in 'Gametocytes (late female)' cluster. Most should be active "
   ]
  },
  {
   "cell_type": "code",
   "execution_count": null,
   "id": "3fc811cc-f437-4264-909b-22ead709327f",
   "metadata": {
    "tags": []
   },
   "outputs": [],
   "source": [
    "for obj, dg in zip(ef_qcd_bf2_scv, female_drivers_CDB):\n",
    "    scv.pl.scatter(obj, dg.index[0:5].to_list(), color='anno_300cells', add_outline=['Gametocytes (early female)','Gametocytes (late female)'])"
   ]
  },
  {
   "cell_type": "markdown",
   "id": "6a39fbd2-38f8-4087-a1d5-92b89a2c7dfd",
   "metadata": {},
   "source": [
    "Phase potraits highlighting behaviour of gene in 'Gametocytes (late male)' cluster. Most should be repressed. "
   ]
  },
  {
   "cell_type": "code",
   "execution_count": null,
   "id": "03aca05f-1250-4bb6-80e4-2c4a548d6fe8",
   "metadata": {
    "tags": []
   },
   "outputs": [],
   "source": [
    "for obj, dg in zip(ef_qcd_bf2_scv, female_drivers_CDB):\n",
    "    scv.pl.scatter(obj, dg.index[0:5].to_list(), color=['anno_300cells'], add_outline='Gametocytes (late male)')"
   ]
  },
  {
   "cell_type": "code",
   "execution_count": null,
   "id": "1c8d0dd4-1e85-4300-bab2-a08126824148",
   "metadata": {},
   "outputs": [],
   "source": [
    "# female_drivers_CDB = []\n",
    "# for g in g_bf2[1:]:\n",
    "#     x = g.compute_lineage_drivers(lineages=\"Late female\", return_drivers=True, cluster_key = 'anno_300cells', clusters= 'Gametocytes (branching)')\n",
    "#     female_drivers_CDB.append(x)"
   ]
  },
  {
   "cell_type": "code",
   "execution_count": null,
   "id": "c0a8c82d-0847-4629-9160-eff021fabf0d",
   "metadata": {},
   "outputs": [],
   "source": [
    "# female_drivers_CDB[2]['Late female_pval']"
   ]
  },
  {
   "cell_type": "markdown",
   "id": "f1905edf-fbbe-4bc2-b568-ee9c821f8c12",
   "metadata": {},
   "source": [
    "Upset plot for female"
   ]
  },
  {
   "cell_type": "markdown",
   "id": "8d17bf70-bcec-4423-a4e7-abddf475d13e",
   "metadata": {},
   "source": [
    "Upset plots to assess driver genes in branching gams that is shared between day10 new and day 10 old datasets and the 2 datasets combined using retaining only genes positively correlated to absorption probabilities towards terminal males where P < 0.001 as qvalue is NA. bug in scvelo https://github.com/theislab/cellrank/issues/819"
   ]
  },
  {
   "cell_type": "code",
   "execution_count": null,
   "id": "e26a4c7e-487d-4f49-85c3-b70df6259724",
   "metadata": {},
   "outputs": [],
   "source": [
    "female_drivers_in_CDB_gns = []\n",
    "for i, dg in enumerate(female_drivers_CDB):\n",
    "    if i == 0:\n",
    "        sig_gns = set(dg[(dg['Early female_pval'] < 0.001) & (dg['Early female_corr'] > 0)].index.to_list())\n",
    "        female_drivers_in_CDB_gns.append(sig_gns)\n",
    "    else:\n",
    "        sig_gns = set(dg[(dg['Late female_pval'] < 0.001) & (dg['Late female_corr'] > 0)].index.to_list())\n",
    "        female_drivers_in_CDB_gns.append(sig_gns)"
   ]
  },
  {
   "cell_type": "code",
   "execution_count": null,
   "id": "6b621180-d4cc-4373-bbf9-6c657ca4dc44",
   "metadata": {},
   "outputs": [],
   "source": [
    "set_names= v3_days[2:]\n"
   ]
  },
  {
   "cell_type": "code",
   "execution_count": null,
   "id": "0e3df223-f993-4b90-9b58-ec30571df049",
   "metadata": {},
   "outputs": [],
   "source": [
    "all_elems = list(set().union(*female_drivers_in_CDB_gns))\n",
    "\n",
    "df = pd.DataFrame([[e in st for st in female_drivers_in_CDB_gns] for e in all_elems], columns = set_names)\n",
    "\n",
    "df_up = df.groupby(set_names).size()"
   ]
  },
  {
   "cell_type": "code",
   "execution_count": null,
   "id": "9891646c-c6c0-4275-a549-8b08aeed122d",
   "metadata": {},
   "outputs": [],
   "source": [
    "plot(df_up, orientation='horizontal')"
   ]
  },
  {
   "cell_type": "code",
   "execution_count": null,
   "id": "1f4ce7e0-39cd-40bb-8153-a53b995280ce",
   "metadata": {},
   "outputs": [],
   "source": [
    "female_drivers_in_CDB_stbl = []"
   ]
  },
  {
   "cell_type": "markdown",
   "id": "4d47ddc9-f409-42b7-97f1-246cb5b61a6e",
   "metadata": {},
   "source": [
    "Summary table of the female driver genes in the 'Gametocytes (committed and developing)' for all timepoints"
   ]
  },
  {
   "cell_type": "code",
   "execution_count": null,
   "id": "48892857-407a-45da-a345-7d3357806377",
   "metadata": {
    "tags": []
   },
   "outputs": [],
   "source": [
    "for i, dg in enumerate(female_drivers_CDB):\n",
    "    if i == 0:\n",
    "        df =dg.copy()\n",
    "        # df = dg[(dg['Early female_pval'] < 0.001) & (dg['Early female_corr'] > 0)]\n",
    "        df.columns = df.columns.str.replace('Early female', 'Female')\n",
    "        df['Female composition'] = 'Early'\n",
    "        female_drivers_in_CDB_stbl.append(df)\n",
    "    else:\n",
    "        df =dg.copy()\n",
    "        # df = dg[(dg['Late female_pval'] < 0.001) & (dg['Late female_corr'] > 0)]\n",
    "        df.columns = df.columns.str.replace('Late female', 'Female')\n",
    "        df['Female composition'] = 'Late'\n",
    "        female_drivers_in_CDB_stbl.append(df)"
   ]
  },
  {
   "cell_type": "code",
   "execution_count": null,
   "id": "fb286558-0d17-4443-abef-3e41b7a20f57",
   "metadata": {},
   "outputs": [],
   "source": [
    "female_drivers_in_CDB = pd.concat(female_drivers_in_CDB_stbl, keys=v3_days[2:]).reset_index(level=0).rename(columns={'level_0':'Timepoint'})"
   ]
  },
  {
   "cell_type": "code",
   "execution_count": null,
   "id": "338c9864-9f57-41e0-aec4-811761da65a0",
   "metadata": {
    "tags": []
   },
   "outputs": [],
   "source": [
    "f_d_g_freq = pd.DataFrame(pd.concat(female_drivers_in_CDB_stbl, keys=v3_days[2:]).groupby(level=[1]).size()).rename(columns={0 : 'Timepoint_freq'})"
   ]
  },
  {
   "cell_type": "code",
   "execution_count": null,
   "id": "b27d907a-a556-4fa0-b5e3-9126d81de28e",
   "metadata": {},
   "outputs": [],
   "source": [
    "female_drivers_in_CDB_freq = pd.merge(female_drivers_in_CDB, f_d_g_freq, how = 'left', left_index=True, right_index=True)"
   ]
  },
  {
   "cell_type": "code",
   "execution_count": null,
   "id": "da959957-ab2a-4320-96cf-79d428cf3952",
   "metadata": {
    "tags": []
   },
   "outputs": [],
   "source": [
    "female_drivers_in_CDB_PfDB =pd.merge(female_drivers_in_CDB_freq, Pf_genes_cln, how='left', left_index=True, right_on='Gene')"
   ]
  },
  {
   "cell_type": "code",
   "execution_count": null,
   "id": "f0b4ba9a-fd54-4ad2-bf9e-746f055da680",
   "metadata": {},
   "outputs": [],
   "source": [
    "female_drivers_in_CDB_PfDB.to_csv(processed_data + '../../RoadtoUMAP/female_drivers_in_CDB_PfDB.csv')"
   ]
  },
  {
   "cell_type": "code",
   "execution_count": null,
   "id": "dfc1cead-c6d3-486f-9b88-9376e37a9cd5",
   "metadata": {
    "tags": []
   },
   "outputs": [],
   "source": [
    "female_drivers_in_CDB_PfDB.sort_values('Female_corr', ascending=False)"
   ]
  },
  {
   "cell_type": "code",
   "execution_count": null,
   "id": "a68acf22-785f-49c3-a5d9-ef1657bf3c3d",
   "metadata": {
    "tags": []
   },
   "outputs": [],
   "source": [
    "Pf_genes_cln.loc[Pf_genes_cln.Gene.isin(female_drivers_CDB[0].index[:5].to_list())]"
   ]
  },
  {
   "cell_type": "code",
   "execution_count": null,
   "id": "2c97f910-91ea-4462-a87f-2f773d5ac926",
   "metadata": {},
   "outputs": [],
   "source": [
    "# female_drivers_in_CDB_gns = []\n",
    "# for i, dg in enumerate(female_drivers_CDB):\n",
    "#     if i == 0:\n",
    "#         sig_gns = set(dg[(dg['Early female_pval'] < 0.001) & (dg['Early female_corr'] > 0)].index.to_list())\n",
    "#         female_drivers_in_CDB_gns.append(sig_gns)\n",
    "#     else:\n",
    "#         sig_gns = set(dg[(dg['Late female_pval'] < 0.001) & (dg['Late female_corr'] > 0)].index.to_list())\n",
    "#         female_drivers_in_CDB_gns.append(sig_gns)"
   ]
  },
  {
   "cell_type": "markdown",
   "id": "f4b0b3a2-91cd-4a94-8433-1261008b83dd",
   "metadata": {},
   "source": [
    "Fitting GAMs for assesment of gene expression clusters over latent time"
   ]
  },
  {
   "cell_type": "code",
   "execution_count": null,
   "id": "e11c9846-4239-4c3e-9dc7-1923ab5e00b1",
   "metadata": {},
   "outputs": [],
   "source": [
    "modelGAM_female_lineage_bf2 = []\n",
    "for obj in ef_qcd_bf2_scv:\n",
    "    model=cr.ul.models.GAM(obj)\n",
    "    modelGAM_female_lineage_bf2.append(model)\n"
   ]
  },
  {
   "cell_type": "markdown",
   "id": "0c349c36-14f8-44c1-ab8f-631105710884",
   "metadata": {},
   "source": [
    "Driver genes in CD positively correlated with progression to female fate"
   ]
  },
  {
   "cell_type": "code",
   "execution_count": null,
   "id": "eb87f847-c1f4-4ea4-8bd3-7210d986340a",
   "metadata": {},
   "outputs": [],
   "source": [
    "# female_drivers_CDB[1]"
   ]
  },
  {
   "cell_type": "code",
   "execution_count": null,
   "id": "ca3a262e-6dae-45bd-9dae-12c641fd107f",
   "metadata": {
    "jupyter": {
     "outputs_hidden": true
    },
    "tags": []
   },
   "outputs": [],
   "source": [
    "for i, obj in enumerate(ef_qcd_bf2_scv):\n",
    "    if i == 0:\n",
    "        cr.pl.cluster_lineage( \n",
    "            obj,\n",
    "            model = modelGAM_female_lineage_bf2[i],\n",
    "            genes=female_drivers_CDB[i].index[(female_drivers_CDB[i]['Early female_qval'] < 0.001) & (female_drivers_CDB[i]['Early female_corr'] > 0)].to_list(),\n",
    "            lineage=\"Early female\",\n",
    "            # time_key=\"dpt_pseudotime\",\n",
    "            show_progress_bar=False,\n",
    "            recompute=True,\n",
    "            sharey=True,\n",
    "            covariate_key=['anno_300cells']\n",
    "        )\n",
    "    else:\n",
    "        cr.pl.cluster_lineage(\n",
    "            obj,\n",
    "            model = modelGAM_female_lineage_bf2[i],\n",
    "            genes=female_drivers_CDB[i].index[(female_drivers_CDB[i]['Late female_qval'] < 0.001) & (female_drivers_CDB[i]['Late female_corr'] > 0)].to_list(),\n",
    "            lineage=\"Late female\",\n",
    "            # time_key=\"dpt_pseudotime\",\n",
    "            show_progress_bar=False,\n",
    "            recompute=True,\n",
    "            sharey=True,\n",
    "            covariate_key=['anno_300cells']\n",
    "        )\n"
   ]
  },
  {
   "cell_type": "markdown",
   "id": "0ccb8c6b-8839-4102-93ae-d10a166f285e",
   "metadata": {},
   "source": [
    "Driver genes in gambranch positively correlated with progression to female fate"
   ]
  },
  {
   "cell_type": "code",
   "execution_count": null,
   "id": "11daa38e-7a44-41af-8078-074a07241d2c",
   "metadata": {},
   "outputs": [],
   "source": []
  },
  {
   "cell_type": "markdown",
   "id": "a61c35f5-dd33-4e84-b137-a59527fa7c91",
   "metadata": {
    "jupyter": {
     "outputs_hidden": true
    },
    "tags": []
   },
   "source": [
    "branching_gam_drivers_f is the equivalent of female_drivers_CDB for the branching driver list. Care should be taken to avoid being confused by names"
   ]
  },
  {
   "cell_type": "code",
   "execution_count": null,
   "id": "d64f2650-b07f-4e62-a300-4d782cb0f41b",
   "metadata": {
    "jupyter": {
     "outputs_hidden": true
    },
    "tags": []
   },
   "outputs": [],
   "source": [
    "for i, obj in enumerate(ef_qcd_bf2_scv):\n",
    "    if i == 0:\n",
    "        cr.pl.cluster_lineage( \n",
    "            obj,\n",
    "            model = modelGAM_female_lineage_bf2[i],\n",
    "            genes=branching_gam_drivers_f[i].index[(branching_gam_drivers_f[i]['Early female_qval'] < 0.001) & (branching_gam_drivers_f[i]['Early female_corr'] > 0)].to_list(),\n",
    "            lineage=\"Early female\",\n",
    "            # time_key=\"dpt_pseudotime\",\n",
    "            show_progress_bar=False,\n",
    "            recompute=True,\n",
    "            sharey=True,\n",
    "            covariate_key=['anno_300cells']\n",
    "        )\n",
    "    else:\n",
    "        cr.pl.cluster_lineage(\n",
    "            obj,\n",
    "            model = modelGAM_female_lineage_bf2[i],\n",
    "            genes=branching_gam_drivers_f[i].index[(branching_gam_drivers_f[i]['Late female_qval'] < 0.001) & (branching_gam_drivers_f[i]['Late female_qval'] > 0)].to_list(),\n",
    "            lineage=\"Late female\",\n",
    "            # time_key=\"dpt_pseudotime\",\n",
    "            show_progress_bar=False,\n",
    "            recompute=True,\n",
    "            sharey=True,\n",
    "            covariate_key=['anno_300cells']\n",
    "        )\n"
   ]
  },
  {
   "cell_type": "code",
   "execution_count": null,
   "id": "b25d279f-81d8-4f99-87bd-6110eea3769a",
   "metadata": {},
   "outputs": [],
   "source": []
  },
  {
   "cell_type": "code",
   "execution_count": null,
   "id": "3c512bf1-d0c6-419c-954d-272ecd1c34d1",
   "metadata": {},
   "outputs": [],
   "source": [
    "modelGAM_male_lineage_bf2 = []\n",
    "for obj in ef_qcd_bf2_scv:\n",
    "    model=cr.ul.models.GAM(obj)\n",
    "    modelGAM_male_lineage_bf2.append(model)\n"
   ]
  },
  {
   "cell_type": "code",
   "execution_count": null,
   "id": "10d5e93a-8102-4ef7-b018-a28f343c8439",
   "metadata": {
    "jupyter": {
     "outputs_hidden": true
    },
    "tags": []
   },
   "outputs": [],
   "source": [
    "for i, obj in enumerate(ef_qcd_bf2_scv):\n",
    "    if i == 0:\n",
    "        cr.pl.cluster_lineage( \n",
    "            obj,\n",
    "            model = modelGAM_male_lineage_bf2[i],\n",
    "            genes=male_drivers_CDB[i].index[(male_drivers_CDB[i]['Male (early+late)_qval'] < 0.001) & (male_drivers_CDB[i]['Male (early+late)_corr'] > 0)].to_list(),\n",
    "            lineage=\"Male (early+late)\",\n",
    "            # time_key=\"dpt_pseudotime\",\n",
    "            show_progress_bar=False,\n",
    "            recompute=True,\n",
    "            sharey=True,\n",
    "            covariate_key=['anno_300cells']\n",
    "        )\n",
    "    else:\n",
    "        cr.pl.cluster_lineage(\n",
    "            obj,\n",
    "            model = modelGAM_male_lineage_bf2[i],\n",
    "            genes=male_drivers_CDB[i].index[(male_drivers_CDB[i]['Late male_qval'] < 0.001) & (male_drivers_CDB[i]['Late male_corr'] > 0)].to_list(),\n",
    "            lineage=\"Late male\",\n",
    "            # time_key=\"dpt_pseudotime\",\n",
    "            show_progress_bar=False,\n",
    "            recompute=True,\n",
    "            sharey=True,\n",
    "            covariate_key=['anno_300cells']\n",
    "        )\n"
   ]
  },
  {
   "cell_type": "code",
   "execution_count": null,
   "id": "98f74010-ce0e-4f61-b72b-5e1a7045bbf7",
   "metadata": {
    "tags": []
   },
   "outputs": [],
   "source": [
    "# for obj in ef_qcd_bf2_scv:\n",
    "#     model_bf1 = cr.ul.models.GAM(obj)\n",
    "#     cr.pl.gene_trends(\n",
    "#         obj,\n",
    "#         model=model_bf1,\n",
    "#         data_key=\"X\",\n",
    "#         genes=female_drivers_CDB[1].index[:5].to_list()[:4],\n",
    "#         ncols=3,\n",
    "#         time_key=\"latent_time\",\n",
    "#         same_plot=True,\n",
    "#         hide_cells=True,\n",
    "#         figsize=(15, 4),\n",
    "#         n_test_points=200)\n",
    "    \n",
    "#     # cr.tl.terminal_states(obj, cluster_key=\"Stage\", weight_connectivities=0.2)"
   ]
  },
  {
   "cell_type": "code",
   "execution_count": null,
   "id": "ba467923-ec6e-4a4b-b804-d384c0cf3023",
   "metadata": {
    "jupyter": {
     "outputs_hidden": true
    },
    "tags": []
   },
   "outputs": [],
   "source": [
    "ef_qcd_bf2_scv[1].uns[\"lineage_Late female_trend\"].obs"
   ]
  },
  {
   "cell_type": "code",
   "execution_count": null,
   "id": "0c8b6c7b-1cc2-497b-811b-bd80ef2d7678",
   "metadata": {},
   "outputs": [],
   "source": []
  },
  {
   "cell_type": "code",
   "execution_count": null,
   "id": "9fc04616-1f2f-42c2-b6dd-10f59aac83b2",
   "metadata": {
    "tags": []
   },
   "outputs": [],
   "source": [
    "# for obj in ef_qcd_bf1_scv:    \n",
    "#     k = cr.tl.transition_matrix(\n",
    "#         obj, weight_connectivities=0.2, softmax_scale=4, show_progress_bar=False\n",
    "#     )\n",
    "#     k.compute_projection(basis=\"umap\")\n",
    "#     scv.pl.velocity_embedding_stream(obj, vkey=\"T_fwd\", basis=\"umap\")"
   ]
  },
  {
   "cell_type": "code",
   "execution_count": null,
   "id": "b8f40de9-7e73-42b3-8a35-5e8b20ac5a10",
   "metadata": {},
   "outputs": [],
   "source": [
    "# for obj in ef_qcd_bf1_scv:   \n",
    "#     model = cr.ul.models.GAM(obj)\n",
    "#     cr.pl.cluster_lineage(\n",
    "#         obj,\n",
    "#         model,\n",
    "#         obj.var_names[:10],\n",
    "#         lineage=\"gametocyte (developing)\",\n",
    "#         time_key=\"dpt_pseudotime\",\n",
    "#         show_progress_bar=False,\n",
    "#     )\n"
   ]
  },
  {
   "cell_type": "markdown",
   "id": "2f16fa63-bfc3-47ff-81ac-32350ffbf334",
   "metadata": {},
   "source": [
    "End - Kernels and estimators"
   ]
  },
  {
   "cell_type": "markdown",
   "id": "4324ce6d-695c-4eda-a790-5e9ad090c746",
   "metadata": {},
   "source": [
    "## RNA velocity accounting for differential kinetics"
   ]
  },
  {
   "cell_type": "markdown",
   "id": "da145ca5-22e9-4261-8181-53968ea708ba",
   "metadata": {},
   "source": [
    "Analysis as per scvelo tuitorial and Accounting for differential kinetics before cellrank"
   ]
  },
  {
   "cell_type": "code",
   "execution_count": null,
   "id": "b7e39d02-c4d1-4d3b-9ead-8f18d031e628",
   "metadata": {},
   "outputs": [],
   "source": [
    "# # Load the dictionary back from the pickle file.\n",
    "ef_qcd_bf1_scv_b4CR_loaded=[]\n",
    "for v3_day in v3_days:\n",
    "    x = pickle.load(open( \"data/processed/PfDB52e/\"+v3_day+\"/scv_velocities_bf1_b4KE.p\", \"rb\" ) )\n",
    "    ef_qcd_bf1_scv_b4CR_loaded.append(x)\n"
   ]
  },
  {
   "cell_type": "code",
   "execution_count": null,
   "id": "bbfb1353-b9e6-4421-b34e-fe67b65b164c",
   "metadata": {},
   "outputs": [],
   "source": [
    "# # Load the dictionary back from the pickle file.\n",
    "ef_qcd_bf2_scv_b4CR_loaded=[]\n",
    "for v3_day in v3_days[2:]:\n",
    "    x = pickle.load(open( \"data/processed/PfDB52e/\"+v3_day+\"/scv_velocities_bf2_b4KE.p\", \"rb\" ) )\n",
    "    ef_qcd_bf2_scv_b4CR_loaded.append(x)"
   ]
  },
  {
   "cell_type": "code",
   "execution_count": null,
   "id": "0e939cd1-ba32-4a76-aae0-80baf5ad5739",
   "metadata": {
    "tags": []
   },
   "outputs": [],
   "source": [
    "ef_qcd_bf2_scv_b4CR_loaded[1].obs.columns"
   ]
  },
  {
   "cell_type": "code",
   "execution_count": null,
   "id": "65af35c3-2edb-4da3-a527-4012c9f42294",
   "metadata": {},
   "outputs": [],
   "source": [
    "ef_qcd_bf1_scv_varKine = ef_qcd_bf1_scv_b4CR_loaded.copy()"
   ]
  },
  {
   "cell_type": "code",
   "execution_count": null,
   "id": "2ca8d235-1b46-4137-94a8-fb325e4a2da5",
   "metadata": {},
   "outputs": [],
   "source": [
    "ef_qcd_bf2_scv_varKine = ef_qcd_bf2_scv_b4CR_loaded.copy()"
   ]
  },
  {
   "cell_type": "code",
   "execution_count": null,
   "id": "cc1a20fd-080b-4c51-8012-5ff95c672a50",
   "metadata": {},
   "outputs": [],
   "source": []
  },
  {
   "cell_type": "code",
   "execution_count": null,
   "id": "8b2cd247-6a24-4b80-bbad-27563d0bf316",
   "metadata": {},
   "outputs": [],
   "source": [
    "v3_days_report = v3_days[2:5]+v3_days[6:]"
   ]
  },
  {
   "cell_type": "code",
   "execution_count": null,
   "id": "8bba0161-d646-4e19-a503-afb1549ec972",
   "metadata": {},
   "outputs": [],
   "source": [
    "ef_qcd_all = scv.read(\"data/processed/PfDB52e/scv_all_bf1_b4CR.h5ad\")"
   ]
  },
  {
   "cell_type": "code",
   "execution_count": null,
   "id": "c5602af8-c5ed-4c9e-a363-c6ee9d7cb47f",
   "metadata": {},
   "outputs": [],
   "source": [
    "ef_qcd_all"
   ]
  },
  {
   "cell_type": "code",
   "execution_count": null,
   "id": "93dc0b4f-4bc0-49d5-ba89-a7e8e773f0aa",
   "metadata": {},
   "outputs": [],
   "source": [
    "scv.tl.velocity(ef_qcd_all, diff_kinetics=True, min_r2=0.1, perc=[7, 93])"
   ]
  },
  {
   "cell_type": "code",
   "execution_count": null,
   "id": "62d9a466-d490-44cd-b678-700f0d445eff",
   "metadata": {},
   "outputs": [],
   "source": [
    "scv.pl.velocity_embedding_stream(ef_qcd_all, basis='umap', projection=\"3d\", components='2,3')"
   ]
  },
  {
   "cell_type": "code",
   "execution_count": null,
   "id": "deb9dd30-05fa-48dc-ba91-d5a51c245770",
   "metadata": {},
   "outputs": [],
   "source": [
    "scv.pl.velocity_embedding_stream(ef_qcd_all, basis='umap', projection=\"3d\", components='2,3')"
   ]
  },
  {
   "cell_type": "code",
   "execution_count": null,
   "id": "dc0e49ce-b859-497a-bce8-b9b030cd6570",
   "metadata": {},
   "outputs": [],
   "source": [
    "ef_qcd_bf1_scv[7].write(\"data/processed/PfDB52e/scv_all_bf1_b4CR_vark_acc.h5ad\")"
   ]
  },
  {
   "cell_type": "code",
   "execution_count": null,
   "id": "dc27895e-b160-4533-98a5-fb95c0bfe2b3",
   "metadata": {},
   "outputs": [],
   "source": [
    "for obj in ef_qcd_bf2_scv_varKine:\n",
    "    scv.tl.velocity(obj, diff_kinetics=True, min_r2=0.1, perc=[7, 93])\n",
    "    scv.tl.velocity_graph(obj)\n",
    "\n"
   ]
  },
  {
   "cell_type": "code",
   "execution_count": null,
   "id": "8150bd2b-6a02-4fe5-a366-9174ac938bc5",
   "metadata": {},
   "outputs": [],
   "source": []
  },
  {
   "cell_type": "code",
   "execution_count": null,
   "id": "d423b93f-6c78-4b63-815a-12cfadbc3211",
   "metadata": {
    "tags": []
   },
   "outputs": [],
   "source": [
    "for obj, v3_day in zip(ef_qcd_bf2_scv_varKine, v3_days[2:]):\n",
    "    scv.pl.velocity_embedding(obj, dpi=120, arrow_size=4, arrow_length=2)\n",
    "    scv.pl.velocity_embedding_stream(obj, basis='umap', projection=\"3d\", save=\"plots/\"+v3_day+\"_bf1_rv_umap_2d.png\")\n"
   ]
  },
  {
   "cell_type": "code",
   "execution_count": null,
   "id": "664e6847-11f9-44de-8a6b-d1a292c8ab5e",
   "metadata": {},
   "outputs": [],
   "source": [
    "ef_qcd_bf1_scv[7].var.columns"
   ]
  },
  {
   "cell_type": "code",
   "execution_count": null,
   "id": "7de22b22-96a6-4af6-8405-e02e7da2d0c1",
   "metadata": {},
   "outputs": [],
   "source": [
    "ef_qcd_bf2_scv_varKine[1].var.columns"
   ]
  },
  {
   "cell_type": "code",
   "execution_count": null,
   "id": "2d342606-fea7-45e1-9543-db620fecceea",
   "metadata": {},
   "outputs": [],
   "source": []
  },
  {
   "cell_type": "code",
   "execution_count": null,
   "id": "b2d09e03-c825-4142-b8e8-bb7ed7b15c29",
   "metadata": {},
   "outputs": [],
   "source": [
    "d10_dyn_varK = pd.merge(pd.DataFrame(ef_qcd_bf2_scv[2].var.velocity_genes), pd.DataFrame(ef_qcd_bf2_scv_varKine[2].var.velocity_genes), left_index=True, right_index=True)"
   ]
  },
  {
   "cell_type": "code",
   "execution_count": null,
   "id": "438d494e-3f0f-4c19-bde5-2f9b9958c94e",
   "metadata": {},
   "outputs": [],
   "source": [
    "d10_dyn_varK"
   ]
  },
  {
   "cell_type": "code",
   "execution_count": null,
   "id": "71a065cf-c36e-4e1a-af84-78a836e9a2a1",
   "metadata": {},
   "outputs": [],
   "source": []
  },
  {
   "cell_type": "code",
   "execution_count": null,
   "id": "5579fa96-9995-4a30-a168-d5fa203bdeb0",
   "metadata": {},
   "outputs": [],
   "source": [
    "d10_dyn_varK.plot(x = 'fit_gamma', y= 'velocity_gamma')"
   ]
  },
  {
   "cell_type": "code",
   "execution_count": null,
   "id": "c6e7c0c5-9b56-4769-86cd-721999f37ef5",
   "metadata": {},
   "outputs": [],
   "source": [
    "ef_qcd_bf2_scv_varKine[1].var.fit_alpha"
   ]
  },
  {
   "cell_type": "markdown",
   "id": "48b5882f-ac41-4dd7-8070-7f2be515b9b7",
   "metadata": {},
   "source": [
    "Start - Kernels and estimators "
   ]
  },
  {
   "cell_type": "markdown",
   "id": "f8cf44e2-b1e3-47a8-b906-8a0bc17a2b89",
   "metadata": {},
   "source": [
    "Low level Kernels and estimators"
   ]
  },
  {
   "cell_type": "code",
   "execution_count": null,
   "id": "03f36adb-b2ee-4b85-8082-c671375464f5",
   "metadata": {
    "tags": []
   },
   "outputs": [],
   "source": [
    "vk_bf1 = []\n",
    "for obj in ef_qcd_bf1_scv_varKine:\n",
    "    x = VelocityKernel(obj).compute_transition_matrix()\n",
    "    vk_bf1.append(x)\n",
    "    # cr.tl.terminal_states(obj, cluster_key=\"Stage\", weight_connectivities=0.2)"
   ]
  },
  {
   "cell_type": "code",
   "execution_count": null,
   "id": "99410460-8975-484a-8eb7-014308df4e05",
   "metadata": {},
   "outputs": [],
   "source": [
    "vk_bf1"
   ]
  },
  {
   "cell_type": "code",
   "execution_count": null,
   "id": "760d3917-aca2-415b-a84a-94c19f634c12",
   "metadata": {},
   "outputs": [],
   "source": [
    "vk_bf2 = []\n",
    "for obj in ef_qcd_bf2_scv_varKine:\n",
    "    x = VelocityKernel(obj).compute_transition_matrix()\n",
    "    vk_bf2.append(x)\n",
    "    # cr.tl.terminal_states(obj, cluster_key=\"Stage\", weight_connectivities=0.2)"
   ]
  },
  {
   "cell_type": "code",
   "execution_count": null,
   "id": "61c9de79-a4d6-4845-9b04-c03e12e75c40",
   "metadata": {},
   "outputs": [],
   "source": [
    "vk_bf2"
   ]
  },
  {
   "cell_type": "code",
   "execution_count": null,
   "id": "c8e77d0e-4f51-4094-b518-81b0b764e31d",
   "metadata": {},
   "outputs": [],
   "source": [
    "# vk = VelocityKernel(ef_qcd_bf1_d5_scv)"
   ]
  },
  {
   "cell_type": "code",
   "execution_count": null,
   "id": "97aa6cde-12c9-423d-93d0-6f966fcc50e4",
   "metadata": {},
   "outputs": [],
   "source": [
    "from cellrank.tl.kernels import ConnectivityKernel"
   ]
  },
  {
   "cell_type": "code",
   "execution_count": null,
   "id": "fef0a25f-d3d6-4185-bb32-9a2497aa4035",
   "metadata": {},
   "outputs": [],
   "source": [
    "ck_bf1 = []\n",
    "for obj in ef_qcd_bf1_scv_varKine:\n",
    "    x = ConnectivityKernel(obj).compute_transition_matrix()\n",
    "    ck_bf1.append(x)"
   ]
  },
  {
   "cell_type": "code",
   "execution_count": null,
   "id": "0760cbb3-3681-4d9b-a86a-a3b13ee4b004",
   "metadata": {
    "tags": []
   },
   "outputs": [],
   "source": [
    "ck_bf2 = []\n",
    "for obj in ef_qcd_bf2_scv_varKine:\n",
    "    x = ConnectivityKernel(obj).compute_transition_matrix()\n",
    "    ck_bf2.append(x)"
   ]
  },
  {
   "cell_type": "code",
   "execution_count": null,
   "id": "586bdf36-dc96-4fc1-8316-ae465be5349f",
   "metadata": {},
   "outputs": [],
   "source": [
    "# from cellrank.tl.kernels import ConnectivityKernel\n",
    "\n",
    "# ck = ConnectivityKernel(ef_qcd_bf1_d5_scv).compute_transition_matrix()"
   ]
  },
  {
   "cell_type": "code",
   "execution_count": null,
   "id": "54535c56-bb6e-403a-8d2a-a9d12cc6f706",
   "metadata": {},
   "outputs": [],
   "source": [
    "combined_kernel_bf1 = []\n",
    "for obj, vk, ck in zip(ef_qcd_bf1_scv_varKine, vk_bf1, ck_bf1):\n",
    "    x = 0.8 * vk + 0.2 * ck\n",
    "    combined_kernel_bf1.append(x)"
   ]
  },
  {
   "cell_type": "code",
   "execution_count": null,
   "id": "912a2dff-d16a-4388-a244-ebc22e31dd85",
   "metadata": {},
   "outputs": [],
   "source": [
    "combined_kernel_bf2 = []\n",
    "for obj, vk, ck in zip(ef_qcd_bf2_scv_varKine, vk_bf2, ck_bf2):\n",
    "    x = 0.8 * vk + 0.2 * ck\n",
    "    combined_kernel_bf2.append(x)"
   ]
  },
  {
   "cell_type": "code",
   "execution_count": null,
   "id": "395aba6d-ad52-45eb-8ebd-4538e7bee877",
   "metadata": {},
   "outputs": [],
   "source": [
    "# combined_kernel = 0.8 * vk + 0.2 * ck"
   ]
  },
  {
   "cell_type": "code",
   "execution_count": null,
   "id": "8fdf4773-d2f0-4991-9684-164fa3239b8a",
   "metadata": {},
   "outputs": [],
   "source": [
    "print(combined_kernel_bf2)"
   ]
  },
  {
   "cell_type": "code",
   "execution_count": null,
   "id": "6f09fe21-be41-47f6-9072-066af85698e8",
   "metadata": {},
   "outputs": [],
   "source": [
    "from cellrank.tl.estimators import GPCCA"
   ]
  },
  {
   "cell_type": "code",
   "execution_count": null,
   "id": "6832705b-6edd-41e0-ac31-ddcdcb01acad",
   "metadata": {},
   "outputs": [],
   "source": [
    "g_bf1 = []\n",
    "for ck in ck_bf1:\n",
    "    x = GPCCA(ck)\n",
    "    g_bf1.append(x)\n",
    "    "
   ]
  },
  {
   "cell_type": "code",
   "execution_count": null,
   "id": "42f2d03b-1c27-4b7f-92c2-397568a95b94",
   "metadata": {},
   "outputs": [],
   "source": [
    "g_bf2 = []\n",
    "for ck in ck_bf2:\n",
    "    x = GPCCA(ck)\n",
    "    g_bf2.append(x)\n",
    "    "
   ]
  },
  {
   "cell_type": "code",
   "execution_count": null,
   "id": "632c3531-85e9-4ebe-85ca-d9c83920e970",
   "metadata": {},
   "outputs": [],
   "source": [
    "g_bf2"
   ]
  },
  {
   "cell_type": "code",
   "execution_count": null,
   "id": "72608f9f-aa39-4112-b226-f6769542167a",
   "metadata": {
    "jupyter": {
     "outputs_hidden": true
    },
    "tags": []
   },
   "outputs": [],
   "source": [
    "for g in g_bf1:\n",
    "    g.compute_schur(n_components=20)\n",
    "    g.plot_spectrum()"
   ]
  },
  {
   "cell_type": "code",
   "execution_count": null,
   "id": "7c3d53a7-9f27-450a-88f7-853101967c47",
   "metadata": {
    "jupyter": {
     "outputs_hidden": true
    },
    "tags": []
   },
   "outputs": [],
   "source": [
    "for g in g_bf2:\n",
    "    g.compute_schur(n_components=20)\n",
    "    g.plot_spectrum()\n"
   ]
  },
  {
   "cell_type": "code",
   "execution_count": null,
   "id": "85813de8-8755-4cb0-8b4e-4524851d6250",
   "metadata": {
    "tags": []
   },
   "outputs": [],
   "source": [
    "for g in g_bf1:\n",
    "    g.compute_macrostates(n_states=4, cluster_key=\"Stage\")\n",
    "    g.plot_macrostates()"
   ]
  },
  {
   "cell_type": "code",
   "execution_count": null,
   "id": "5bbf408f-9c79-495d-82fa-d482d97fa053",
   "metadata": {
    "tags": []
   },
   "outputs": [],
   "source": [
    "for g in g_bf2:\n",
    "    g.compute_macrostates(n_states=3, cluster_key=\"anno_300cells\")\n",
    "    g.plot_macrostates()"
   ]
  },
  {
   "cell_type": "code",
   "execution_count": null,
   "id": "75936a66-1b6e-4ba1-89de-2c361cde536c",
   "metadata": {},
   "outputs": [],
   "source": []
  },
  {
   "cell_type": "code",
   "execution_count": null,
   "id": "8f107ac2-10e6-4403-882d-938be5977809",
   "metadata": {
    "tags": []
   },
   "outputs": [],
   "source": [
    "for g in g_bf2:\n",
    "    g.compute_macrostates(n_states=3, cluster_key=\"Stage\")\n",
    "    g.plot_macrostates()"
   ]
  },
  {
   "cell_type": "code",
   "execution_count": null,
   "id": "0777e70c-651f-4592-bf08-92e784161cbc",
   "metadata": {},
   "outputs": [],
   "source": [
    "# g.compute_macrostates(n_states=2, cluster_key=\"Stage\")\n",
    "# g.plot_macrostates()\n"
   ]
  },
  {
   "cell_type": "code",
   "execution_count": null,
   "id": "b2770342-b4b1-4b83-a97e-4f36303bf7c2",
   "metadata": {
    "tags": []
   },
   "outputs": [],
   "source": [
    "for g in g_bf2:\n",
    "    g.plot_macrostates(same_plot=False)"
   ]
  },
  {
   "cell_type": "code",
   "execution_count": null,
   "id": "9fb6a623-9f70-442a-8f94-2d01a8697759",
   "metadata": {
    "tags": []
   },
   "outputs": [],
   "source": [
    "for g in g_bf2:\n",
    "    g.plot_macrostates(discrete=True)\n"
   ]
  },
  {
   "cell_type": "code",
   "execution_count": null,
   "id": "f5c70423-f061-424f-86d9-0dadc65675d2",
   "metadata": {
    "tags": []
   },
   "outputs": [],
   "source": [
    "for g in g_bf2:\n",
    "    g.compute_terminal_states()\n"
   ]
  },
  {
   "cell_type": "code",
   "execution_count": null,
   "id": "78c80c66-4928-4423-9a5c-a37d8ed5ea4a",
   "metadata": {
    "tags": []
   },
   "outputs": [],
   "source": [
    "# for g in g_bf2:\n",
    "#     scv.pl.scatter(g, c=['terminal_states', 'terminal_states_probs'], color_map='viridis')\n"
   ]
  },
  {
   "cell_type": "code",
   "execution_count": null,
   "id": "9890a75b-20ff-4cba-96fe-eb351a6a476e",
   "metadata": {},
   "outputs": [],
   "source": [
    "# sc.pl.umap(ef_qcd_bf1_d5_scv, color=\"Stage\")"
   ]
  },
  {
   "cell_type": "code",
   "execution_count": null,
   "id": "5442d37b-0a6d-4119-81c1-f47d1ca5367c",
   "metadata": {},
   "outputs": [],
   "source": [
    "# g.set_terminal_states({\"Male\": ef_qcd_bf1_d5_scv[ef_qcd_bf1_d5_scv.obs[\"Stage\"] == \"Male\"].obs_names, \"Female\": ef_qcd_bf1_d5_scv[ef_qcd_bf1_d5_scv.obs[\"Stage\"] == \"Female\"].obs_names, \"Trophozoite\": ef_qcd_bf1_d5_scv[ef_qcd_bf1_d5_scv.obs[\"Stage\"] == \"Female\"].obs_names})"
   ]
  },
  {
   "cell_type": "code",
   "execution_count": null,
   "id": "aff80177-8e33-4189-8515-2171a403a27d",
   "metadata": {},
   "outputs": [],
   "source": []
  },
  {
   "cell_type": "code",
   "execution_count": null,
   "id": "b1c23977-e75d-4e77-8fa9-cad0e97d87b7",
   "metadata": {},
   "outputs": [],
   "source": [
    "for g, obj in zip(g_bf1, ef_qcd_bf1_scv_varKine):\n",
    "    g.set_terminal_states({\"Early gametocyte\": obj[obj.obs[\"Stage\"] == \"gametocyte (developing)\"].obs_names, \"Asexual commited Trophozoite\": obj[obj.obs[\"Stage\"] == \"late trophozoite\"].obs_names})"
   ]
  },
  {
   "cell_type": "code",
   "execution_count": null,
   "id": "b57d0e5e-ad18-490a-9859-24407a6edbe2",
   "metadata": {},
   "outputs": [],
   "source": [
    "v3_days[2:]"
   ]
  },
  {
   "cell_type": "code",
   "execution_count": null,
   "id": "f6fcd194-cc0d-41d3-af72-57ab06695726",
   "metadata": {},
   "outputs": [],
   "source": [
    "# for obj,v3_day in zip(ef_qcd_bf1_scv_varKine, v3_days):\n",
    "#     pickle.dump( obj, open( \"data/processed/PfDB52e/\"+v3_day+\"/scv_velocities.p\", \"wb\" ) )\n"
   ]
  },
  {
   "cell_type": "code",
   "execution_count": null,
   "id": "7866e135-fcb1-413d-8b43-00641effd55e",
   "metadata": {},
   "outputs": [],
   "source": [
    "# for obj,v3_day in zip(ef_qcd_bf2_scv_varKine, v3_days[2:]):\n",
    "#     pickle.dump( obj, open( \"data/processed/PfDB52e/\"+v3_day+\"/scv_velocities.p\", \"wb\" ) )"
   ]
  },
  {
   "cell_type": "code",
   "execution_count": null,
   "id": "6df4edab-e3d3-417a-82fd-0a32bb8de118",
   "metadata": {},
   "outputs": [],
   "source": [
    "# # Load the dictionary back from the pickle file.\n",
    "# ef_qcd_bf1_scv_loaded=[]\n",
    "# for v3_day in v3_days:\n",
    "#     x = pickle.load(open( \"data/processed/PfDB52e/\"+v3_day+\"/scv_velocities.p\", \"rb\" ) )\n",
    "#     ef_qcd_bf1_scv_loaded.append(x)\n"
   ]
  },
  {
   "cell_type": "code",
   "execution_count": null,
   "id": "301c10e4-d302-4253-8a48-f50255a32e11",
   "metadata": {},
   "outputs": [],
   "source": [
    "# g.set_terminal_states({\"gametocyte (developing)\": ef_qcd_bf1_d5_scv[ef_qcd_bf1_d5_scv.obs[\"Stage\"] == \"gametocyte (developing)\"].obs_names, \"late trophozoite\": ef_qcd_bf1_d5_scv[ef_qcd_bf1_d5_scv.obs[\"Stage\"] == \"late trophozoite\"].obs_names})"
   ]
  },
  {
   "cell_type": "code",
   "execution_count": null,
   "id": "ad2ce65b-82af-420f-870e-c651a3f7f3eb",
   "metadata": {
    "tags": []
   },
   "outputs": [],
   "source": [
    "for g in g_bf1:\n",
    "    g.compute_absorption_probabilities()"
   ]
  },
  {
   "cell_type": "code",
   "execution_count": null,
   "id": "c6ce463d-0a5f-4b5b-bea0-482d60fc36ed",
   "metadata": {},
   "outputs": [],
   "source": [
    "# g.compute_absorption_probabilities()"
   ]
  },
  {
   "cell_type": "code",
   "execution_count": null,
   "id": "c73edcb8-48a8-49f9-9ed2-5269f3629429",
   "metadata": {},
   "outputs": [],
   "source": [
    "early_gam_drivers = []\n",
    "for g in g_bf1:\n",
    "    x = g.compute_lineage_drivers(lineages=\"Early gametocyte\", return_drivers=True)\n",
    "    early_gam_drivers.append(x)"
   ]
  },
  {
   "cell_type": "code",
   "execution_count": null,
   "id": "b9ed24ec-2e18-47ab-9303-ca4bd6072462",
   "metadata": {
    "tags": []
   },
   "outputs": [],
   "source": [
    "early_gam_drivers"
   ]
  },
  {
   "cell_type": "code",
   "execution_count": null,
   "id": "f4a10fca-74b3-47a0-92f0-9fa1b6f8e74a",
   "metadata": {
    "tags": []
   },
   "outputs": [],
   "source": [
    "for g in g_bf1:\n",
    "    g.plot_lineage_drivers(\"Early gametocyte\", n_genes=4)"
   ]
  },
  {
   "cell_type": "code",
   "execution_count": null,
   "id": "c01b4b2d-b675-4196-a936-07e36512b622",
   "metadata": {},
   "outputs": [],
   "source": [
    "for g, obj in zip(g_bf2, ef_qcd_bf2_scv_varKine):\n",
    "    g.set_terminal_states({\"Male\": obj[obj.obs[\"Stage\"] == \"gametocyte (male)\"].obs_names, \"Female\": obj[obj.obs[\"Stage\"] == \"gametocyte (female)\"].obs_names})"
   ]
  },
  {
   "cell_type": "code",
   "execution_count": null,
   "id": "4d9bf8a6-2ed6-4549-8cb0-e4d605c623ea",
   "metadata": {},
   "outputs": [],
   "source": [
    "# for g, obj in zip(g_bf2[1:], ef_qcd_bf2_scv_varKine[1:]):\n",
    "#     g.set_terminal_states({\"Late male\": obj[obj.obs[\"anno_300cells\"] == \"Gametocytes (late male)\"].obs_names, \"Late female\": obj[obj.obs[\"anno_300cells\"] == \"Gametocytes (late female)\"].obs_names})"
   ]
  },
  {
   "cell_type": "code",
   "execution_count": null,
   "id": "afc58f88-029f-4fa0-9fb1-6152a037039b",
   "metadata": {
    "tags": []
   },
   "outputs": [],
   "source": [
    "for g in g_bf2:\n",
    "    g.compute_absorption_probabilities()"
   ]
  },
  {
   "cell_type": "code",
   "execution_count": null,
   "id": "a74b17cb-7c11-407a-b1f9-b7b7bafaa19c",
   "metadata": {
    "tags": []
   },
   "outputs": [],
   "source": [
    "male_drivers = []\n",
    "for g in g_bf2:\n",
    "    x = g.compute_lineage_drivers(lineages=\"Male\", return_drivers=True)\n",
    "    male_drivers.append(x)"
   ]
  },
  {
   "cell_type": "code",
   "execution_count": null,
   "id": "21de0852-b12b-4a8b-97c4-65fa4a0c803c",
   "metadata": {
    "tags": []
   },
   "outputs": [],
   "source": [
    "# Male_drivers = g.compute_lineage_drivers(lineages=\"gametocyte (developing)\", return_drivers=True)\n",
    "male_drivers[0]"
   ]
  },
  {
   "cell_type": "code",
   "execution_count": null,
   "id": "519f8704-abd6-4c17-938c-f8811e35e070",
   "metadata": {
    "tags": []
   },
   "outputs": [],
   "source": [
    "for g in g_bf2:\n",
    "    g.plot_lineage_drivers(\"Male\", n_genes=4)"
   ]
  },
  {
   "cell_type": "code",
   "execution_count": null,
   "id": "153936f3-cfcf-465a-acb6-dc74cf98ce44",
   "metadata": {},
   "outputs": [],
   "source": [
    "female_drivers = []\n",
    "for g in g_bf2:\n",
    "    x = g.compute_lineage_drivers(lineages=\"Female\", return_drivers=True)\n",
    "    female_drivers.append(x)"
   ]
  },
  {
   "cell_type": "code",
   "execution_count": null,
   "id": "beefaaa4-d6ec-4ddd-9b15-818de37894a3",
   "metadata": {
    "tags": []
   },
   "outputs": [],
   "source": [
    "# Male_drivers = g.compute_lineage_drivers(lineages=\"gametocyte (developing)\", return_drivers=True)\n",
    "female_drivers[3]"
   ]
  },
  {
   "cell_type": "code",
   "execution_count": null,
   "id": "24f15cda-0c85-461a-8bcb-bf6b41c399ee",
   "metadata": {
    "tags": []
   },
   "outputs": [],
   "source": [
    "for g in g_bf2:\n",
    "    g.plot_lineage_drivers(\"Female\", n_genes=4)"
   ]
  },
  {
   "cell_type": "code",
   "execution_count": null,
   "id": "14ec1d45-6de7-42ef-8d4d-372b8cab67b8",
   "metadata": {},
   "outputs": [],
   "source": [
    "sc.pl.umap(ef_qcd_bf1_scv_varKine[1], color='assignment2')"
   ]
  },
  {
   "cell_type": "code",
   "execution_count": null,
   "id": "e515f806-7a6f-4701-960b-edaed2f5b2ff",
   "metadata": {},
   "outputs": [],
   "source": [
    "ef_qcd_bf2_scv_varKine[1].obs.anno_300cells"
   ]
  },
  {
   "cell_type": "markdown",
   "id": "409674a4-6ca3-4090-8b39-644a3b66423a",
   "metadata": {},
   "source": [
    "day 5 has no late female and very few late male"
   ]
  },
  {
   "cell_type": "code",
   "execution_count": null,
   "id": "d4b43e09-33c8-4fc6-be57-0d77b443ae71",
   "metadata": {},
   "outputs": [],
   "source": [
    "sc.pl.umap(ef_qcd_bf2_scv_varKine[0], color='anno_300cells')"
   ]
  },
  {
   "cell_type": "code",
   "execution_count": null,
   "id": "48a0c0e2-e304-4ea1-b985-cd171996808b",
   "metadata": {
    "tags": []
   },
   "outputs": [],
   "source": [
    "for i, g in enumerate(g_bf2):\n",
    "    if i == 0:\n",
    "        g.set_terminal_states({\"Male (early+late)\": ef_qcd_bf2_scv_varKine[i][ef_qcd_bf2_scv_varKine[i].obs[\"anno_300cells\"].isin([\"Gametocytes (late male)\", \"Gametocytes (early male)\"])].obs_names, \"Early female\": ef_qcd_bf2_scv_varKine[i][ef_qcd_bf2_scv_varKine[i].obs[\"anno_300cells\"] == \"Gametocytes (early female)\"].obs_names})\n",
    "    else:\n",
    "        g.set_terminal_states({\"Late male\": ef_qcd_bf2_scv_varKine[i][ef_qcd_bf2_scv_varKine[i].obs[\"anno_300cells\"] == \"Gametocytes (late male)\"].obs_names, \"Late female\": ef_qcd_bf2_scv_varKine[i][ef_qcd_bf2_scv_varKine[i].obs[\"anno_300cells\"] == \"Gametocytes (late female)\"].obs_names})        "
   ]
  },
  {
   "cell_type": "code",
   "execution_count": null,
   "id": "f9e3b79f-e924-43a8-a260-42b19fe99723",
   "metadata": {},
   "outputs": [],
   "source": [
    "# for g, obj in zip(g_bf2[1:], ef_qcd_bf2_scv_varKine[1:]):\n",
    "#     g.set_terminal_states({\"Late male\": obj[obj.obs[\"anno_300cells\"] == \"Gametocytes (late male)\"].obs_names, \"Late female\": obj[obj.obs[\"anno_300cells\"] == \"Gametocytes (late female)\"].obs_names})"
   ]
  },
  {
   "cell_type": "code",
   "execution_count": null,
   "id": "5858eebd-9f0b-4176-81c8-2b707bb4b2a1",
   "metadata": {},
   "outputs": [],
   "source": [
    "# for g, obj in g_bf2[1:]:\n",
    "#     g.compute_initial_states()\n"
   ]
  },
  {
   "cell_type": "code",
   "execution_count": null,
   "id": "19ce9805-560a-4232-92e3-da0641d9e41a",
   "metadata": {
    "tags": []
   },
   "outputs": [],
   "source": [
    "for g in g_bf2:\n",
    "    g.compute_absorption_probabilities()"
   ]
  },
  {
   "cell_type": "code",
   "execution_count": null,
   "id": "429f5914-fc82-4b33-a55d-82035efafa87",
   "metadata": {
    "tags": []
   },
   "outputs": [],
   "source": [
    "for g in g_bf2:\n",
    "    g.plot_absorption_probabilities()"
   ]
  },
  {
   "cell_type": "code",
   "execution_count": null,
   "id": "61b2a12f-f398-46f3-b221-9f49c86cc72b",
   "metadata": {},
   "outputs": [],
   "source": [
    "branching_gam_drivers_m = []\n",
    "for i, g in enumerate(g_bf2):\n",
    "    if i == 0:\n",
    "        x = g.compute_lineage_drivers(lineages=\"Male (early+late)\", return_drivers=True, cluster_key = 'anno_300cells', clusters= 'Gametocytes (branching)')\n",
    "        branching_gam_drivers_m.append(x)    \n",
    "    else:\n",
    "        x = g.compute_lineage_drivers(lineages=\"Late male\", return_drivers=True, cluster_key = 'anno_300cells', clusters= 'Gametocytes (branching)')\n",
    "        branching_gam_drivers_m.append(x)"
   ]
  },
  {
   "cell_type": "code",
   "execution_count": null,
   "id": "e8ecfbcf-d923-4274-a563-dc8b2576822f",
   "metadata": {},
   "outputs": [],
   "source": [
    "# branching_gam_drivers_m = []\n",
    "# for g in g_bf2[1:]:\n",
    "#     x = g.compute_lineage_drivers(lineages=\"Late male\", return_drivers=True, cluster_key = 'anno_300cells', clusters= 'Gametocytes (branching)')\n",
    "#     branching_gam_drivers_m.append(x)"
   ]
  },
  {
   "cell_type": "code",
   "execution_count": null,
   "id": "8b0f7c76-8ee0-48ea-b096-86c9eaf032f2",
   "metadata": {},
   "outputs": [],
   "source": [
    "branching_gam_drivers_m[2]"
   ]
  },
  {
   "cell_type": "code",
   "execution_count": null,
   "id": "a0224be9-4cff-44e7-9e37-f779c003862a",
   "metadata": {
    "tags": []
   },
   "outputs": [],
   "source": [
    "for i, g in enumerate(g_bf2):\n",
    "    if i == 0:\n",
    "        g.plot_lineage_drivers(\"Male (early+late)\", n_genes=4)\n",
    "    else:\n",
    "        g.plot_lineage_drivers(\"Late male\", n_genes=4) "
   ]
  },
  {
   "cell_type": "code",
   "execution_count": null,
   "id": "a7c0b6c0-7d4a-4ac7-bc0c-ae4374efccfe",
   "metadata": {},
   "outputs": [],
   "source": [
    "Pf_genes_cln.loc[Pf_genes_cln.Gene.isin(branching_gam_drivers_m[2].index[:5].to_list())]"
   ]
  },
  {
   "cell_type": "code",
   "execution_count": null,
   "id": "b8076369-8c80-42bc-bcac-56efbefe0a4a",
   "metadata": {},
   "outputs": [],
   "source": [
    "for obj, dg in zip(ef_qcd_bf2_scv_varKine, branching_gam_drivers_m):\n",
    "    scv.pl.scatter(obj, dg.index[0:5].to_list(), color=['anno_300cells'], add_outline='Gametocytes (branching)')"
   ]
  },
  {
   "cell_type": "code",
   "execution_count": null,
   "id": "f495983b-8f57-4d91-bf01-b44e52b43db5",
   "metadata": {},
   "outputs": [],
   "source": [
    "for obj, dg in zip(ef_qcd_bf2_scv_varKine, branching_gam_drivers_m):\n",
    "    scv.pl.scatter(obj, dg.index[0:5].to_list(), color=['anno_300cells'], add_outline='Gametocytes (branching)')"
   ]
  },
  {
   "cell_type": "code",
   "execution_count": null,
   "id": "446c10f8-b8c0-4e03-9266-2935dac3f6a5",
   "metadata": {},
   "outputs": [],
   "source": [
    "branching_gam_drivers_f = []\n",
    "for i, g in enumerate(g_bf2):\n",
    "    if i == 0:\n",
    "        x = g.compute_lineage_drivers(lineages=\"Early female\", return_drivers=True, cluster_key = 'anno_300cells', clusters= 'Gametocytes (branching)')\n",
    "        branching_gam_drivers_f.append(x)    \n",
    "    else:\n",
    "        x = g.compute_lineage_drivers(lineages=\"Late female\", return_drivers=True, cluster_key = 'anno_300cells', clusters= 'Gametocytes (branching)')\n",
    "        branching_gam_drivers_f.append(x)"
   ]
  },
  {
   "cell_type": "code",
   "execution_count": null,
   "id": "a30f83ed-1675-4cdd-8239-469160748882",
   "metadata": {
    "jupyter": {
     "outputs_hidden": true
    },
    "tags": []
   },
   "outputs": [],
   "source": [
    "for i, g in enumerate(g_bf2):\n",
    "    if i == 0:\n",
    "        g.plot_lineage_drivers(\"Early female\", n_genes=4)\n",
    "    else:\n",
    "        g.plot_lineage_drivers(\"Late female\", n_genes=4) "
   ]
  },
  {
   "cell_type": "code",
   "execution_count": null,
   "id": "dc5b53f3-a98e-446d-b886-8dd0005c70e5",
   "metadata": {},
   "outputs": [],
   "source": [
    "# branching_gam_drivers_f = []\n",
    "# for g in g_bf2[1:]:\n",
    "#     x = g.compute_lineage_drivers(lineages=\"Late female\", return_drivers=True, cluster_key = 'anno_300cells', clusters= 'Gametocytes (branching)')\n",
    "#     branching_gam_drivers_f.append(x)"
   ]
  },
  {
   "cell_type": "code",
   "execution_count": null,
   "id": "5165e312-d009-432f-a1ab-c609d9d33c28",
   "metadata": {
    "jupyter": {
     "outputs_hidden": true
    },
    "tags": []
   },
   "outputs": [],
   "source": [
    "# branching_gam_drivers_f[2]['Late female_pval']"
   ]
  },
  {
   "cell_type": "code",
   "execution_count": null,
   "id": "a54d3e9a-1803-48dd-982d-ad37ecf3ccfd",
   "metadata": {},
   "outputs": [],
   "source": [
    "Pf_genes_cln.loc[Pf_genes_cln.Gene.isin(branching_gam_drivers_f[0].index[:5].to_list())]"
   ]
  },
  {
   "cell_type": "code",
   "execution_count": null,
   "id": "bf5804e7-af9f-42d3-9b0f-0b0b21f45065",
   "metadata": {},
   "outputs": [],
   "source": [
    "ef_qcd_bf2_scv_varKine[1].obs.columns"
   ]
  },
  {
   "cell_type": "code",
   "execution_count": null,
   "id": "19a36e02-d547-4583-ab29-e74c66ec4a1f",
   "metadata": {},
   "outputs": [],
   "source": [
    "for obj, dg in zip(ef_qcd_bf2_scv_varKine, branching_gam_drivers_f):\n",
    "    scv.pl.scatter(obj, dg.index[0:5].to_list(), color=['anno_300cells'], add_outline='Gametocytes (branching)')"
   ]
  },
  {
   "cell_type": "code",
   "execution_count": null,
   "id": "ecd2b282-85b0-460c-97e4-e530e4cd8573",
   "metadata": {},
   "outputs": [],
   "source": [
    "for obj, dg in zip(ef_qcd_bf2_scv_varKine, branching_gam_drivers_f):\n",
    "    scv.pl.scatter(obj, dg.index[0:5].to_list(), color=['anno_300cells'], add_outline='Gametocytes (late male)')"
   ]
  },
  {
   "cell_type": "code",
   "execution_count": null,
   "id": "e85ce49f-7c97-4273-8a34-49ad011e1301",
   "metadata": {},
   "outputs": [],
   "source": [
    "for obj, dg in zip(ef_qcd_bf2_scv_varKine, branching_gam_drivers_f):\n",
    "    scv.pl.scatter(obj, dg.index[0:5].to_list(), color='anno_300cells', add_outline=['Gametocytes (early female)','Gametocytes (late female)'])"
   ]
  },
  {
   "cell_type": "code",
   "execution_count": null,
   "id": "f21738c1-530c-4e5b-bdaa-4f07d007436f",
   "metadata": {},
   "outputs": [],
   "source": []
  },
  {
   "cell_type": "code",
   "execution_count": null,
   "id": "cc1a3226-25ea-461e-86b7-94cf3f4f1f82",
   "metadata": {},
   "outputs": [],
   "source": [
    "branching_gam_drivers_fd = []\n",
    "for i, g in enumerate(g_bf2):\n",
    "    if i == 0:\n",
    "        x = g.compute_lineage_drivers(lineages=\"Early female\", return_drivers=True, cluster_key = 'anno_300cells', clusters= 'Gametocytes (developing)')\n",
    "        branching_gam_drivers_fd.append(x)    \n",
    "    else:\n",
    "        x = g.compute_lineage_drivers(lineages=\"Late female\", return_drivers=True, cluster_key = 'anno_300cells', clusters= 'Gametocytes (developing)')\n",
    "        branching_gam_drivers_fd.append(x)"
   ]
  },
  {
   "cell_type": "code",
   "execution_count": null,
   "id": "e9427239-174d-4d1e-8917-0a530bef8306",
   "metadata": {
    "jupyter": {
     "outputs_hidden": true
    },
    "tags": []
   },
   "outputs": [],
   "source": [
    "for i, g in enumerate(g_bf2):\n",
    "    if i == 0:\n",
    "        g.plot_lineage_drivers(\"Early female\", n_genes=4)\n",
    "    else:\n",
    "        g.plot_lineage_drivers(\"Late female\", n_genes=4) "
   ]
  },
  {
   "cell_type": "code",
   "execution_count": null,
   "id": "ac8b1b08-79be-46f6-bb26-00f90b0390f4",
   "metadata": {},
   "outputs": [],
   "source": [
    "# branching_gam_drivers_f = []\n",
    "# for g in g_bf2[1:]:\n",
    "#     x = g.compute_lineage_drivers(lineages=\"Late female\", return_drivers=True, cluster_key = 'anno_300cells', clusters= 'Gametocytes (branching)')\n",
    "#     branching_gam_drivers_f.append(x)"
   ]
  },
  {
   "cell_type": "code",
   "execution_count": null,
   "id": "e5d29556-6116-4008-9572-75bfc93b086c",
   "metadata": {
    "jupyter": {
     "outputs_hidden": true
    },
    "tags": []
   },
   "outputs": [],
   "source": [
    "# branching_gam_drivers_f[2]['Late female_pval']"
   ]
  },
  {
   "cell_type": "code",
   "execution_count": null,
   "id": "6960cb0e-b818-4356-82d6-e649c1bea509",
   "metadata": {},
   "outputs": [],
   "source": [
    "Pf_genes_cln.loc[Pf_genes_cln.Gene.isin(branching_gam_drivers_f[0].index[:5].to_list())]"
   ]
  },
  {
   "cell_type": "code",
   "execution_count": null,
   "id": "42920d58-6ac8-4ff8-9c2d-035f4441e12f",
   "metadata": {},
   "outputs": [],
   "source": [
    "ef_qcd_bf2_scv_varKine[1].obs.columns"
   ]
  },
  {
   "cell_type": "code",
   "execution_count": null,
   "id": "e1eb59cc-bbad-430c-9125-810095593669",
   "metadata": {},
   "outputs": [],
   "source": [
    "for obj, dg in zip(ef_qcd_bf2_scv_varKine, branching_gam_drivers_fd):\n",
    "    scv.pl.scatter(obj, dg.index[0:5].to_list(), color=['anno_300cells'], add_outline='Gametocytes (developing)')"
   ]
  },
  {
   "cell_type": "code",
   "execution_count": null,
   "id": "0da2e87d-d672-4184-be4e-7ecef02a7f24",
   "metadata": {},
   "outputs": [],
   "source": [
    "for obj, dg in zip(ef_qcd_bf2_scv_varKine, branching_gam_drivers_fd):\n",
    "    scv.pl.scatter(obj, dg.index[0:5].to_list(), color=['anno_300cells'], add_outline='Gametocytes (late male)')"
   ]
  },
  {
   "cell_type": "code",
   "execution_count": null,
   "id": "3bfa0e7d-4ff8-4b9d-af49-9024d78ea995",
   "metadata": {},
   "outputs": [],
   "source": [
    "for obj, dg in zip(ef_qcd_bf2_scv_varKine, branching_gam_drivers_f):\n",
    "    scv.pl.scatter(obj, dg.index[0:5].to_list(), color='anno_300cells', add_outline=['Gametocytes (early female)','Gametocytes (late female)'])"
   ]
  },
  {
   "cell_type": "code",
   "execution_count": null,
   "id": "7446d7b3-6d60-43c0-ae5e-94b74655aff9",
   "metadata": {
    "jupyter": {
     "outputs_hidden": true
    },
    "tags": []
   },
   "outputs": [],
   "source": [
    "ef_qcd_bf2_scv_varKine[1].obs"
   ]
  },
  {
   "cell_type": "code",
   "execution_count": null,
   "id": "be557cb3-7386-4e60-80be-cfd5e50ead8d",
   "metadata": {},
   "outputs": [],
   "source": [
    "# for g in g_bf1:\n",
    "#     g.compute_projection(basis=\"umap\")"
   ]
  },
  {
   "cell_type": "code",
   "execution_count": null,
   "id": "4ff04e7b-89b6-4b0d-9e08-674271d5ce9e",
   "metadata": {
    "tags": []
   },
   "outputs": [],
   "source": [
    "# for obj in ef_qcd_bf1_scv:    \n",
    "#     k = cr.tl.transition_matrix(\n",
    "#         obj, weight_connectivities=0.2, softmax_scale=4, show_progress_bar=False\n",
    "#     )\n",
    "#     k.compute_projection(basis=\"umap\")\n",
    "#     scv.pl.velocity_embedding_stream(obj, vkey=\"T_fwd\", basis=\"umap\")"
   ]
  },
  {
   "cell_type": "code",
   "execution_count": null,
   "id": "81fe8e45-6804-44b9-85c3-39a07817dfc1",
   "metadata": {},
   "outputs": [],
   "source": [
    "# for obj in ef_qcd_bf1_scv:   \n",
    "#     model = cr.ul.models.GAM(obj)\n",
    "#     cr.pl.cluster_lineage(\n",
    "#         obj,\n",
    "#         model,\n",
    "#         obj.var_names[:10],\n",
    "#         lineage=\"gametocyte (developing)\",\n",
    "#         time_key=\"dpt_pseudotime\",\n",
    "#         show_progress_bar=False,\n",
    "#     )\n"
   ]
  },
  {
   "cell_type": "code",
   "execution_count": null,
   "id": "7571812e-626d-44b6-a128-0685a3fe3aa3",
   "metadata": {},
   "outputs": [],
   "source": [
    "End - Kernels and estimators"
   ]
  },
  {
   "cell_type": "code",
   "execution_count": null,
   "id": "a5a52da4-5155-4ebf-835a-1b7ff64ea146",
   "metadata": {},
   "outputs": [],
   "source": [
    "End -Accounting for differential kinetics before cellrank"
   ]
  },
  {
   "cell_type": "markdown",
   "id": "85d8c85a-aa45-4c15-a79f-620b3240e80b",
   "metadata": {},
   "source": [
    "Performing Cellrank analysis as per the basic tuitorial here https://cellrank.readthedocs.io/en/stable/cellrank_basics.html"
   ]
  },
  {
   "cell_type": "code",
   "execution_count": null,
   "id": "563c2d4d-94fa-4fbe-bed3-701d2b0e6af9",
   "metadata": {},
   "outputs": [],
   "source": [
    "##Cell rank"
   ]
  },
  {
   "cell_type": "markdown",
   "id": "1758afb8-955b-40dd-b6e8-97b1bb62ab43",
   "metadata": {},
   "source": [
    "Uses pyGPCCA which is markov chain identifying macrostate (coarse-grained cluster) where its unlikely to leave once entered i.e there's slow-time scale dynamics of the process with stages as clustering"
   ]
  },
  {
   "cell_type": "code",
   "execution_count": null,
   "id": "468ddf3d-7c71-4bb6-a5e8-dced60197afc",
   "metadata": {},
   "outputs": [],
   "source": [
    "# ef_qcd_bf1_scv[1].obs.columns"
   ]
  },
  {
   "cell_type": "code",
   "execution_count": null,
   "id": "41752601-5aee-42b2-a289-b8f0d0e82e7d",
   "metadata": {
    "jupyter": {
     "outputs_hidden": true
    },
    "tags": []
   },
   "outputs": [],
   "source": [
    "ef_qcd_bf1_scv[1].obs.assignment2.value_counts()"
   ]
  },
  {
   "cell_type": "code",
   "execution_count": null,
   "id": "e860a07d-8b88-44e8-901c-98d8e4f23c17",
   "metadata": {
    "tags": []
   },
   "outputs": [],
   "source": [
    "for obj in ef_qcd_bf1_scv:\n",
    "    cr.tl.terminal_states(obj, cluster_key=\"Stage\", weight_connectivities=0.2)"
   ]
  },
  {
   "cell_type": "code",
   "execution_count": null,
   "id": "fc322a4e-26ab-49fa-a867-7629ef5e5c46",
   "metadata": {
    "tags": []
   },
   "outputs": [],
   "source": [
    "for obj in ef_qcd_bf2_scv:\n",
    "    cr.tl.terminal_states(obj, cluster_key=\"Stage\", weight_connectivities=0.2)"
   ]
  },
  {
   "cell_type": "code",
   "execution_count": null,
   "id": "4c5b84b2-ac50-4d96-8744-fd97d3cb5a52",
   "metadata": {},
   "outputs": [],
   "source": [
    "# cr.tl.terminal_states(ef_qcd_bf1_d5_scv, cluster_key=\"Stage\", weight_connectivities=0.2)"
   ]
  },
  {
   "cell_type": "markdown",
   "id": "6028afe0-2065-471a-aefd-3ac72e7dc354",
   "metadata": {},
   "source": [
    "Plotting determined automatically terminal states"
   ]
  },
  {
   "cell_type": "code",
   "execution_count": null,
   "id": "63346c6c-c18b-4574-a3d0-94ebcff5ce15",
   "metadata": {},
   "outputs": [],
   "source": [
    "for obj in ef_qcd_bf1_scv:\n",
    "    cr.pl.terminal_states(obj)"
   ]
  },
  {
   "cell_type": "code",
   "execution_count": null,
   "id": "f96eb502-c405-4486-a944-d557ab42cb3e",
   "metadata": {},
   "outputs": [],
   "source": [
    "for obj in ef_qcd_bf2_scv:\n",
    "    cr.pl.terminal_states(obj)"
   ]
  },
  {
   "cell_type": "code",
   "execution_count": null,
   "id": "f92f4169-9242-4656-b133-1c2698ffa348",
   "metadata": {},
   "outputs": [],
   "source": [
    "# cr.pl.terminal_states(ef_qcd_bf1_d5_scv)\n"
   ]
  },
  {
   "cell_type": "code",
   "execution_count": null,
   "id": "3e289079-ec3d-49ee-9496-6c339db4fdc8",
   "metadata": {},
   "outputs": [],
   "source": [
    "for obj in ef_qcd_bf1_scv:\n",
    "    cr.tl.initial_states(obj, cluster_key=\"Stage\")\n"
   ]
  },
  {
   "cell_type": "code",
   "execution_count": null,
   "id": "f9ebae9a-72b9-4da6-90ac-9cf7dc7f6f81",
   "metadata": {},
   "outputs": [],
   "source": [
    "for obj in ef_qcd_bf2_scv:\n",
    "    cr.tl.initial_states(obj, cluster_key=\"Stage\")"
   ]
  },
  {
   "cell_type": "code",
   "execution_count": null,
   "id": "8ccdd461-37b1-423b-ad83-90c7c49e0192",
   "metadata": {},
   "outputs": [],
   "source": []
  },
  {
   "cell_type": "code",
   "execution_count": null,
   "id": "26808f7c-d704-4e97-9a2f-8701393d6c1b",
   "metadata": {},
   "outputs": [],
   "source": [
    "# cr.tl.initial_states(ef_qcd_bf1_d5_scv, cluster_key=\"Stage\")"
   ]
  },
  {
   "cell_type": "code",
   "execution_count": null,
   "id": "3c3d4217-6a51-4456-ba5f-55869476582c",
   "metadata": {},
   "outputs": [],
   "source": [
    "for obj in ef_qcd_bf1_scv:\n",
    "    cr.pl.initial_states(obj, discrete=True)\n"
   ]
  },
  {
   "cell_type": "code",
   "execution_count": null,
   "id": "5ac171de-9dff-4c70-818e-a9c69061db79",
   "metadata": {},
   "outputs": [],
   "source": [
    "for obj in ef_qcd_bf2_scv:\n",
    "    cr.pl.initial_states(obj, discrete=True)\n"
   ]
  },
  {
   "cell_type": "code",
   "execution_count": null,
   "id": "84b77f4e-4da4-4bac-bc37-df71109bcc90",
   "metadata": {},
   "outputs": [],
   "source": [
    "# cr.pl.initial_states(ef_qcd_bf1_d5_scv, discrete=True)"
   ]
  },
  {
   "cell_type": "code",
   "execution_count": null,
   "id": "c9fe81e2-9ce7-4016-8aaf-de9bcb8e48a0",
   "metadata": {},
   "outputs": [],
   "source": [
    "for obj in ef_qcd_bf1_scv:\n",
    "    cr.tl.lineages(obj)\n",
    "    cr.pl.lineages(obj, same_plot=False)\n"
   ]
  },
  {
   "cell_type": "code",
   "execution_count": null,
   "id": "589737df-175b-42a5-b44d-93f88ed4e2a6",
   "metadata": {},
   "outputs": [],
   "source": [
    "for obj in ef_qcd_bf2_scv:\n",
    "    cr.tl.lineages(obj)\n",
    "    cr.pl.lineages(obj, same_plot=False)"
   ]
  },
  {
   "cell_type": "code",
   "execution_count": null,
   "id": "40915f07-af02-4115-8c19-904094f19d80",
   "metadata": {},
   "outputs": [],
   "source": [
    "# cr.tl.lineages(ef_qcd_bf1_d5_scv)\n",
    "# cr.pl.lineages(ef_qcd_bf1_d5_scv, same_plot=False)"
   ]
  },
  {
   "cell_type": "code",
   "execution_count": null,
   "id": "47fa836a-fda9-446b-9465-5de4127595c0",
   "metadata": {},
   "outputs": [],
   "source": [
    "for obj in ef_qcd_bf1_scv:\n",
    "    cr.pl.lineages(obj, same_plot=True)"
   ]
  },
  {
   "cell_type": "code",
   "execution_count": null,
   "id": "2d550fc0-6eb0-49e6-8711-e19e7819e0e3",
   "metadata": {},
   "outputs": [],
   "source": [
    "for obj in ef_qcd_bf2_scv:\n",
    "    cr.pl.lineages(obj, same_plot=True)"
   ]
  },
  {
   "cell_type": "code",
   "execution_count": null,
   "id": "f74549ce-ec9a-4c49-aa28-c67ed9e34a6f",
   "metadata": {},
   "outputs": [],
   "source": [
    "# cr.pl.lineages(ef_qcd_bf1_d5_scv, same_plot=True)"
   ]
  },
  {
   "cell_type": "code",
   "execution_count": null,
   "id": "3e193953-cde3-45be-a4fa-2aefbde4e218",
   "metadata": {},
   "outputs": [],
   "source": [
    "for obj in ef_qcd_bf1_scv:\n",
    "    scv.tl.recover_latent_time(obj, root_key=\"initial_states_probs\", end_key=\"terminal_states_probs\")"
   ]
  },
  {
   "cell_type": "code",
   "execution_count": null,
   "id": "a2733736-4870-47e2-af91-75807b6948bd",
   "metadata": {},
   "outputs": [],
   "source": [
    "for obj in ef_qcd_bf2_scv:\n",
    "    scv.tl.recover_latent_time(obj, root_key=\"initial_states_probs\", end_key=\"terminal_states_probs\")"
   ]
  },
  {
   "cell_type": "code",
   "execution_count": null,
   "id": "be9feda8-13bb-4300-abc0-39dd462696d7",
   "metadata": {},
   "outputs": [],
   "source": []
  },
  {
   "cell_type": "code",
   "execution_count": null,
   "id": "ba11d123-7c0e-482f-b7c6-d608e8ed6ae3",
   "metadata": {},
   "outputs": [],
   "source": [
    "for obj in ef_qcd_bf1_scv:\n",
    "    scv.tl.paga(\n",
    "        obj,\n",
    "        groups=\"Stage\",\n",
    "        root_key=\"initial_states_probs\",\n",
    "        end_key=\"terminal_states_probs\",\n",
    "        use_time_prior=\"velocity_pseudotime\")\n",
    "    "
   ]
  },
  {
   "cell_type": "code",
   "execution_count": null,
   "id": "ceee0fe3-dedd-442e-a75e-0eb7734fb372",
   "metadata": {},
   "outputs": [],
   "source": [
    "for obj in ef_qcd_bf2_scv:\n",
    "        scv.tl.paga(\n",
    "        obj,\n",
    "        groups=\"Stage\",\n",
    "        root_key=\"initial_states_probs\",\n",
    "        end_key=\"terminal_states_probs\",\n",
    "        use_time_prior=\"velocity_pseudotime\")"
   ]
  },
  {
   "cell_type": "code",
   "execution_count": null,
   "id": "2613ed07-cf77-4c4d-83e4-70b15b9b795e",
   "metadata": {},
   "outputs": [],
   "source": [
    "# for obj,v3_day in zip(ef_qcd_bf1_scv, v3_days):\n",
    "#     pickle.dump( obj, open( \"data/processed/PfDB52e/\"+v3_day+\"/scv_velocities.p\", \"wb\" ) )\n"
   ]
  },
  {
   "cell_type": "code",
   "execution_count": null,
   "id": "61a7e1b4-ce2d-45c5-ad9e-f30f0edc34a6",
   "metadata": {},
   "outputs": [],
   "source": [
    "# for obj,v3_day in zip(ef_qcd_bf2_scv, v3_days[2:]):\n",
    "#     pickle.dump( obj, open( \"data/processed/PfDB52e/\"+v3_day+\"/scv_velocities.p\", \"wb\" ) )"
   ]
  },
  {
   "cell_type": "code",
   "execution_count": null,
   "id": "1304bb2a-92a1-4315-a86d-2172117812cc",
   "metadata": {},
   "outputs": [],
   "source": [
    "# # Load the dictionary back from the pickle file.\n",
    "# ef_qcd_bf1_scv_loaded=[]\n",
    "# for v3_day in v3_days:\n",
    "#     x = pickle.load(open( \"data/processed/PfDB52e/\"+v3_day+\"/scv_velocities.p\", \"rb\" ) )\n",
    "#     ef_qcd_bf1_scv_loaded.append(x)\n"
   ]
  },
  {
   "cell_type": "code",
   "execution_count": null,
   "id": "dc3d6e03-4350-4183-a36a-839c7439c4d9",
   "metadata": {},
   "outputs": [],
   "source": [
    "# scv.tl.paga(\n",
    "#     ef_qcd_bf1_d5_scv,\n",
    "#     groups=\"Stage\",\n",
    "#     root_key=\"initial_states_probs\",\n",
    "#     end_key=\"terminal_states_probs\",\n",
    "#     use_time_prior=\"velocity_pseudotime\",\n",
    "# )\n"
   ]
  },
  {
   "cell_type": "code",
   "execution_count": null,
   "id": "c9e8629f-96ae-4bc1-b784-5317f8d0ef71",
   "metadata": {},
   "outputs": [],
   "source": [
    "for obj in ef_qcd_bf1_scv:\n",
    "    cr.pl.cluster_fates(\n",
    "        obj,\n",
    "        mode=\"paga_pie\",\n",
    "        cluster_key=\"Stage\",\n",
    "        basis=\"umap\",\n",
    "        legend_kwargs={\"loc\": \"top right out\"},\n",
    "        legend_loc=\"top left out\",\n",
    "        node_size_scale=5,\n",
    "        edge_width_scale=1,\n",
    "        max_edge_width=4,\n",
    "        title=\"directed PAGA\")\n",
    "    "
   ]
  },
  {
   "cell_type": "code",
   "execution_count": null,
   "id": "21c1500f-2a73-4a9f-84ea-726ac4b85c50",
   "metadata": {},
   "outputs": [],
   "source": [
    "for obj in ef_qcd_bf2_scv:\n",
    "    cr.pl.cluster_fates(\n",
    "        obj,\n",
    "        mode=\"paga_pie\",\n",
    "        cluster_key=\"Stage\",\n",
    "        basis=\"umap\",\n",
    "        legend_kwargs={\"loc\": \"top right out\"},\n",
    "        legend_loc=\"top left out\",\n",
    "        node_size_scale=5,\n",
    "        edge_width_scale=1,\n",
    "        max_edge_width=4,\n",
    "        title=\"directed PAGA\")\n"
   ]
  },
  {
   "cell_type": "code",
   "execution_count": null,
   "id": "d93f0ddf-49cc-4b75-8d23-3fd7f57b240f",
   "metadata": {},
   "outputs": [],
   "source": [
    "# cr.pl.cluster_fates(\n",
    "#     ef_qcd_bf1_d5_scv,\n",
    "#     mode=\"paga_pie\",\n",
    "#     cluster_key=\"Stage\",\n",
    "#     basis=\"umap\",\n",
    "#     legend_kwargs={\"loc\": \"top right out\"},\n",
    "#     legend_loc=\"top left out\",\n",
    "#     node_size_scale=5,\n",
    "#     edge_width_scale=1,\n",
    "#     max_edge_width=4,\n",
    "#     title=\"directed PAGA\",\n",
    "# )"
   ]
  },
  {
   "cell_type": "code",
   "execution_count": null,
   "id": "e5f92006-a888-4b9e-9a04-bce330d821ed",
   "metadata": {},
   "outputs": [],
   "source": [
    "# ef_qcd_bf1_d5_scv.var.columns"
   ]
  },
  {
   "cell_type": "code",
   "execution_count": null,
   "id": "236441e6-3f73-4dc2-b35d-0cc499fbbbbd",
   "metadata": {},
   "outputs": [],
   "source": [
    "for obj in ef_qcd_bf1_scv:\n",
    "    cr.tl.lineage_drivers(obj)"
   ]
  },
  {
   "cell_type": "code",
   "execution_count": null,
   "id": "3ffd3638-563e-4169-bfbe-c6174412c71e",
   "metadata": {},
   "outputs": [],
   "source": [
    "for obj in ef_qcd_bf2_scv:\n",
    "    cr.tl.lineage_drivers(obj)"
   ]
  },
  {
   "cell_type": "code",
   "execution_count": null,
   "id": "a818c211-e151-42a1-b432-c35a121fbe96",
   "metadata": {},
   "outputs": [],
   "source": [
    "# cr.tl.lineage_drivers(ef_qcd_bf1_d5_scv)"
   ]
  },
  {
   "cell_type": "code",
   "execution_count": null,
   "id": "02ea994f-a712-470e-ad17-8cefd073c53c",
   "metadata": {},
   "outputs": [],
   "source": [
    "ef_qcd_bf2_scv[1].varm['terminal_lineage_drivers'].sort_values(by=['gametocyte (female)_pval'])"
   ]
  },
  {
   "cell_type": "code",
   "execution_count": null,
   "id": "a8b6a89d-6ed2-401d-b7bc-03968b42895c",
   "metadata": {},
   "outputs": [],
   "source": [
    "ef_qcd_bf2_scv[1].varm['terminal_lineage_drivers'].sort_values(by=['gametocyte (female)_pval']).sort_values(by=['gametocyte (female)_corr'], ascending = False)"
   ]
  },
  {
   "cell_type": "code",
   "execution_count": null,
   "id": "28ed0d44-95d9-4705-9b8e-e25b91d0a6e5",
   "metadata": {},
   "outputs": [],
   "source": [
    "ef_qcd_bf2_scv[1].varm['terminal_lineage_drivers'].sort_values(by=['gametocyte (male)_pval']).sort_values(by=['gametocyte (male)_corr'], ascending = False)"
   ]
  },
  {
   "cell_type": "code",
   "execution_count": null,
   "id": "3ee0d9b3-b79f-40ba-98a4-d8112d35e02f",
   "metadata": {},
   "outputs": [],
   "source": [
    "ef_qcd_bf2_scv[1].varm['terminal_lineage_drivers'].sort_values(by=['gametocyte (female)_corr', 'gametocyte (female)_pval']).index[0:10].to_list()"
   ]
  },
  {
   "cell_type": "code",
   "execution_count": null,
   "id": "9e763875-66bb-42f4-b8d4-be252ec67dc6",
   "metadata": {},
   "outputs": [],
   "source": [
    "scv.pl.umap(ef_qcd_bf2_scv[1], color=ef_qcd_bf2_scv[1].varm['terminal_lineage_drivers'].sort_values(by=['gametocyte (female)_pval']).index[0:10].to_list())"
   ]
  },
  {
   "cell_type": "code",
   "execution_count": null,
   "id": "2d0c6be0-1807-4720-a765-f29ac2679824",
   "metadata": {},
   "outputs": [],
   "source": [
    "scv.pl.umap(ef_qcd_bf2_scv[1], color=ef_qcd_bf2_scv[1].varm['terminal_lineage_drivers'].sort_values(by=['gametocyte (female)_pval']).sort_values(by=['gametocyte (female)_corr'], ascending = False).index[0:10].to_list())"
   ]
  },
  {
   "cell_type": "code",
   "execution_count": null,
   "id": "f0837f50-46ef-4441-a0fe-c3345b12c894",
   "metadata": {},
   "outputs": [],
   "source": []
  },
  {
   "cell_type": "code",
   "execution_count": null,
   "id": "654a0f36-df57-43a5-83e4-297d4863661a",
   "metadata": {},
   "outputs": [],
   "source": [
    "# cr.pl.lineage_drivers(ef_qcd_bf1_d5_scv, lineage=\"Male\", n_genes=1)"
   ]
  },
  {
   "cell_type": "code",
   "execution_count": null,
   "id": "1becac64-cb5b-4d30-8517-0c29916fae49",
   "metadata": {},
   "outputs": [],
   "source": [
    "# root_idx = np.where(ef_qcd_bf1_d5_scv.obs[\"initial_states\"] == \"late ring\")[3][3]"
   ]
  },
  {
   "cell_type": "code",
   "execution_count": null,
   "id": "d840d0f9-2b6b-4bda-b184-8a94b61211a4",
   "metadata": {
    "tags": []
   },
   "outputs": [],
   "source": [
    "# # compue DPT, starting from CellRank defined root cell\n",
    "# root_idx = np.where(ef_qcd_bf1_d5_scv.obs[\"initial_states\"] == \"late ring\")\n",
    "# ef_qcd_bf1_d5_scv.uns[\"iroot\"] = root_idx\n",
    "# sc.tl.dpt(ef_qcd_bf1_d5_scv)\n",
    "\n",
    "# scv.pl.scatter(\n",
    "#     ef_qcd_bf1_d5_scv,\n",
    "#     color=[\"Stage\", root_idx, \"latent_time\", \"dpt_pseudotime\"],\n",
    "#     fontsize=16,\n",
    "#     cmap=\"viridis\",\n",
    "#     perc=[2, 98],\n",
    "#     colorbar=True,\n",
    "#     rescale_color=[0, 1],\n",
    "#     title=[\"Stage\", \"root cell\", \"latent time\", \"dpt pseudotime\"],\n",
    "# )"
   ]
  },
  {
   "cell_type": "code",
   "execution_count": null,
   "id": "3070c40c-565f-44ea-aee7-eb3fd30215df",
   "metadata": {},
   "outputs": [],
   "source": [
    "ef_qcd_bf1_scv[5].var_names"
   ]
  },
  {
   "cell_type": "code",
   "execution_count": null,
   "id": "d21ec447-a6d9-4260-9a67-947a61517126",
   "metadata": {
    "jupyter": {
     "outputs_hidden": true
    },
    "tags": []
   },
   "outputs": [],
   "source": [
    "for obj in ef_qcd_bf1_scv:\n",
    "    model_bf1 = cr.ul.models.GAM(obj)\n",
    "    cr.pl.gene_trends(\n",
    "        obj,\n",
    "        model=model_bf1,\n",
    "        data_key=\"X\",\n",
    "        genes=[ \"PF3D7_0111200\"],\n",
    "        ncols=3,\n",
    "        time_key=\"latent_time\",\n",
    "        same_plot=True,\n",
    "        hide_cells=True,\n",
    "        figsize=(15, 4),\n",
    "        n_test_points=200)\n",
    "    \n",
    "    # cr.tl.terminal_states(obj, cluster_key=\"Stage\", weight_connectivities=0.2)"
   ]
  },
  {
   "cell_type": "code",
   "execution_count": null,
   "id": "bf967ce7-f64a-47b5-bedd-614da5df88fc",
   "metadata": {
    "jupyter": {
     "outputs_hidden": true
    },
    "tags": []
   },
   "outputs": [],
   "source": [
    "for obj in ef_qcd_bf2_scv:\n",
    "    model_bf2 = cr.ul.models.GAM(obj)\n",
    "    cr.pl.gene_trends(\n",
    "        obj,\n",
    "        model=model_bf2,\n",
    "        data_key=\"X\",\n",
    "        genes=[\"PF3D7_0111200\"],\n",
    "        ncols=3,\n",
    "        time_key=\"latent_time\",\n",
    "        same_plot=True,\n",
    "        hide_cells=True,\n",
    "        figsize=(15, 4),\n",
    "        n_test_points=200)\n",
    "    \n",
    "    # cr.tl.terminal_states(obj, cluster_key=\"Stage\", weight_connectivities=0.2)"
   ]
  },
  {
   "cell_type": "code",
   "execution_count": null,
   "id": "cedd662c-75bf-4c71-9a90-13e9c71adcde",
   "metadata": {},
   "outputs": [],
   "source": []
  },
  {
   "cell_type": "code",
   "execution_count": null,
   "id": "e7e56fcb-0c12-4356-b0fc-a2bcb080a405",
   "metadata": {
    "tags": []
   },
   "outputs": [],
   "source": [
    "# model = cr.ul.models.GAM(ef_qcd_bf1_d5_scv)\n",
    "# cr.pl.gene_trends(\n",
    "#     ef_qcd_bf1_d5_scv,\n",
    "#     model=model,\n",
    "#     data_key=\"X\",\n",
    "#     genes=[\"PF3D7_0422300\", \"PF3D7_0414500\", \"PF3D7_1438800\"],\n",
    "#     ncols=3,\n",
    "#     time_key=\"latent_time\",\n",
    "#     same_plot=True,\n",
    "#     hide_cells=True,\n",
    "#     figsize=(15, 4),\n",
    "#     n_test_points=200,\n",
    "# )"
   ]
  },
  {
   "cell_type": "code",
   "execution_count": null,
   "id": "bc4af176-1509-47d2-84f7-7edd3ac1636f",
   "metadata": {},
   "outputs": [],
   "source": [
    "ef_qcd_bf1_scv[3].varm['terminal_lineage_drivers']"
   ]
  },
  {
   "cell_type": "code",
   "execution_count": null,
   "id": "ef9a5a69-e7c5-46fc-85d1-102a458a528f",
   "metadata": {},
   "outputs": [],
   "source": [
    "ef_qcd_bf1_scv[1]"
   ]
  },
  {
   "cell_type": "code",
   "execution_count": null,
   "id": "add17b96-4326-4e52-85ff-ed55347f9ac4",
   "metadata": {
    "tags": []
   },
   "outputs": [],
   "source": [
    "ef_qcd_bf1_scv[:1] + ef_qcd_bf1_scv[1+1:]"
   ]
  },
  {
   "cell_type": "code",
   "execution_count": null,
   "id": "1cb26540-ee6f-475c-86cd-a6a5760e46da",
   "metadata": {
    "tags": []
   },
   "outputs": [],
   "source": [
    "ef_qcd_bf1_scv[0].varm['terminal_lineage_drivers']"
   ]
  },
  {
   "cell_type": "code",
   "execution_count": null,
   "id": "813a1c84-53a3-4e6d-a220-232893b81f79",
   "metadata": {},
   "outputs": [],
   "source": [
    "ef_qcd_bf1_scv[4].varm['terminal_lineage_drivers'][\"gametocyte (developing)_corr\"].sort_values(ascending=False).index[:100]"
   ]
  },
  {
   "cell_type": "code",
   "execution_count": null,
   "id": "ed73cafc-6f16-4427-8991-ce194a91be53",
   "metadata": {
    "tags": []
   },
   "outputs": [],
   "source": [
    "for obj in ef_qcd_bf1_scv:\n",
    "    cr.pl.heatmap(\n",
    "        obj,\n",
    "        model_bf1,\n",
    "        genes=obj.varm['terminal_lineage_drivers'][\"gametocyte (developing)_corr\"].sort_values(ascending=False).index[:100],\n",
    "        show_absorption_probabilities=True,\n",
    "        lineages=\"gametocyte (developing)\",\n",
    "        n_jobs=1,\n",
    "        backend=\"loky\")\n"
   ]
  },
  {
   "cell_type": "code",
   "execution_count": null,
   "id": "97d1e729-6b63-4924-b63a-13d0441e2240",
   "metadata": {
    "jupyter": {
     "outputs_hidden": true
    },
    "tags": []
   },
   "outputs": [],
   "source": [
    "for obj in ef_qcd_bf2_scv[1:]:\n",
    "    cr.pl.heatmap(\n",
    "        obj,\n",
    "        model_bf2,\n",
    "        genes=obj.varm['terminal_lineage_drivers'][\"gametocyte (male)_corr\"].sort_values(ascending=False).index[:100],\n",
    "        show_absorption_probabilities=True,\n",
    "        lineages=\"gametocyte (male)\",\n",
    "        n_jobs=1,\n",
    "        backend=\"loky\")\n"
   ]
  },
  {
   "cell_type": "code",
   "execution_count": null,
   "id": "40f19f00-f13e-438c-9449-8975bec9a897",
   "metadata": {
    "jupyter": {
     "outputs_hidden": true
    },
    "tags": []
   },
   "outputs": [],
   "source": [
    "for obj in ef_qcd_bf2_scv[1:]:\n",
    "    cr.pl.heatmap(\n",
    "        obj,\n",
    "        model_bf2,\n",
    "        genes=obj.varm['terminal_lineage_drivers'][\"gametocyte (female)_corr\"].sort_values(ascending=False).index[:100],\n",
    "        show_absorption_probabilities=True,\n",
    "        lineages=\"gametocyte (female)\",\n",
    "        n_jobs=1,\n",
    "        backend=\"loky\")\n"
   ]
  },
  {
   "cell_type": "code",
   "execution_count": null,
   "id": "d1fba7d0-e4d9-41bb-ae8e-e35f54bf0862",
   "metadata": {
    "tags": []
   },
   "outputs": [],
   "source": [
    "ef_qcd_bf2_scv[2].varm['terminal_lineage_drivers'][\"gametocyte (female)_corr\"].sort_values(ascending=False).index[:100]"
   ]
  },
  {
   "cell_type": "code",
   "execution_count": null,
   "id": "81b67ca4-b6b8-4033-ae94-7beeeb10312d",
   "metadata": {
    "tags": []
   },
   "outputs": [],
   "source": [
    "ef_qcd_bf2_scv[1].varm['terminal_lineage_drivers'][\"gametocyte (female)_corr\"].sort_values(ascending=False).index[:100]"
   ]
  },
  {
   "cell_type": "code",
   "execution_count": null,
   "id": "d20119b2-9761-487b-b189-e8e2b6d5ab9d",
   "metadata": {
    "tags": []
   },
   "outputs": [],
   "source": [
    "# cr.pl.heatmap(\n",
    "#     ef_qcd_bf1_d5_scv,\n",
    "#     model,\n",
    "#     genes=ef_qcd_bf1_d5_scv.varm['terminal_lineage_drivers'][\"late trophozoite_1_corr\"].sort_values(ascending=False).index[:100],\n",
    "#     show_absorption_probabilities=True,\n",
    "#     lineages=\"gametocyte (developing)_1\",\n",
    "#     n_jobs=1,\n",
    "#     backend=\"loky\",\n",
    "# )\n"
   ]
  },
  {
   "cell_type": "code",
   "execution_count": null,
   "id": "4928ced5-7137-4c36-8fac-de4a25752310",
   "metadata": {},
   "outputs": [],
   "source": [
    "# scv.utils.show_proportions(ef_qcd_bf1_d5_scv)"
   ]
  },
  {
   "cell_type": "code",
   "execution_count": null,
   "id": "fd9bc7f4-56c3-4ae7-a779-d35e2cda1a5e",
   "metadata": {},
   "outputs": [],
   "source": [
    "##Cellrank kernels and estimators"
   ]
  },
  {
   "cell_type": "code",
   "execution_count": null,
   "id": "d073af2c-1d4b-454a-ab6c-bb62b5867a1d",
   "metadata": {},
   "outputs": [],
   "source": [
    "# for obj,v3_day in zip(ef_qcd_bf1_scv, v3_days):\n",
    "#     pickle.dump( obj, open( \"data/processed/PfDB52e/\"+v3_day+\"/scv_velocities_bf1_b4KE.p\", \"wb\" ) )\n"
   ]
  },
  {
   "cell_type": "code",
   "execution_count": null,
   "id": "2518020d-4718-4398-ba02-c8bbd6775168",
   "metadata": {},
   "outputs": [],
   "source": [
    "# for obj,v3_day in zip(ef_qcd_bf2_scv, v3_days[2:]):\n",
    "#     pickle.dump( obj, open( \"data/processed/PfDB52e/\"+v3_day+\"/scv_velocities_bf2_b4KE.p\", \"wb\" ) )"
   ]
  },
  {
   "cell_type": "code",
   "execution_count": null,
   "id": "1872a93a-ab63-41b9-9c25-cc4ead345079",
   "metadata": {},
   "outputs": [],
   "source": [
    "# Load the dictionary back from the pickle file.\n",
    "ef_qcd_bf1_scv_loaded=[]\n",
    "for v3_day in v3_days:\n",
    "    x = pickle.load(open( \"data/processed/PfDB52e/\"+v3_day+\"/scv_velocities_bf1_b4KE.p\", \"rb\" ) )\n",
    "    ef_qcd_bf1_scv_loaded.append(x)\n"
   ]
  },
  {
   "cell_type": "code",
   "execution_count": null,
   "id": "966858fa-affc-4ea2-8671-15e93edc3d96",
   "metadata": {},
   "outputs": [],
   "source": [
    "# Load the dictionary back from the pickle file.\n",
    "ef_qcd_bf2_scv_loaded=[]\n",
    "for v3_day in v3_days[2:]:\n",
    "    x = pickle.load(open( \"data/processed/PfDB52e/\"+v3_day+\"/scv_velocities_bf2_b4KE.p\", \"rb\" ) )\n",
    "    ef_qcd_bf2_scv_loaded.append(x)\n"
   ]
  },
  {
   "cell_type": "code",
   "execution_count": null,
   "id": "ed77d620-7959-4fd1-bc8e-15bbe20e1ae6",
   "metadata": {},
   "outputs": [],
   "source": [
    "v3_days[0:5]"
   ]
  },
  {
   "cell_type": "code",
   "execution_count": null,
   "id": "aaf83d59-b0ee-4c1a-9f26-05a9a0f8262a",
   "metadata": {},
   "outputs": [],
   "source": [
    "# # # Load the dictionary back from the pickle file.\n",
    "# ef_qcd_bf1_scv_loaded=[]\n",
    "# for v3_day in v3_days[0:5]:\n",
    "#     x = pickle.load(open( \"data/processed/PfDB52e/\"+v3_day+\"/scv_velocities.p\", \"rb\" ) )\n",
    "#     ef_qcd_bf1_scv_loaded.append(x)\n"
   ]
  },
  {
   "cell_type": "code",
   "execution_count": null,
   "id": "f84e3d85-97b8-4580-971e-730e5ded1e35",
   "metadata": {},
   "outputs": [],
   "source": [
    "# ef_qcd_bf2_scv_loaded=[]\n",
    "# for v3_day in v3_days[0:5]:\n",
    "#     x = pickle.load(open( \"data/processed/PfDB52e/\"+v3_day+\"/scv_velocities.p\", \"rb\" ) )\n",
    "#     ef_qcd_bf2_scv_loaded.append(x)"
   ]
  },
  {
   "cell_type": "code",
   "execution_count": null,
   "id": "688f2471-3460-4041-a020-97e8d8882780",
   "metadata": {
    "tags": []
   },
   "outputs": [],
   "source": [
    "pd.DataFrame(ef_qcd_bf2_scv_loaded[1].obs['Stage'])"
   ]
  },
  {
   "cell_type": "code",
   "execution_count": null,
   "id": "1212c1d2-b730-46d6-8719-803f4643f525",
   "metadata": {
    "tags": []
   },
   "outputs": [],
   "source": [
    "pd.DataFrame(ef_qcd_bf1_scv_loaded[1].obs['Stage'])"
   ]
  },
  {
   "cell_type": "code",
   "execution_count": null,
   "id": "41747f9b-0578-490d-91bd-382884359bf3",
   "metadata": {},
   "outputs": [],
   "source": [
    "## writeh5ad for veloviz\n",
    "# ef_qcd_bf1_scv_loaded=[]\n",
    "for v3_day, obj in zip(v3_days[0:5], ef_qcd_bf1_scv_loaded):\n",
    "    pd.DataFrame.sparse.from_spmatrix(obj.X, columns=obj.var_names).to_csv(\"data/processed/PfDB52e/\"+v3_day+\"/currentX.csv\")\n",
    "    pd.DataFrame(obj.layers['velocity'], columns = obj.var_names).to_csv(\"data/processed/PfDB52e/\"+v3_day+\"/velos.csv\")\n",
    "    with open(\"data/processed/PfDB52e/\"+v3_day+\"/cells.txt\", 'w') as f:\n",
    "        for item in obj.obs_names.to_list():\n",
    "            f.write(\"%s\\n\" % item)\n",
    "        \n",
    "        # file.writelines( \"%s\\n\" % item for item in list )"
   ]
  },
  {
   "cell_type": "code",
   "execution_count": null,
   "id": "a0d6ee7b-1206-4218-beae-0e26e11ff31b",
   "metadata": {},
   "outputs": [],
   "source": [
    "## writeh5ad for velovix\n",
    "# ef_qcd_bf1_scv_loaded=[]\n",
    "for v3_day, obj in zip(v3_days[0:5], ef_qcd_bf1_scv_loaded):\n",
    "    pd.DataFrame(obj.obs['Stage']).to_csv(\"data/processed/PfDB52e/\"+v3_day+\"/stages.csv\")\n",
    "        "
   ]
  },
  {
   "cell_type": "code",
   "execution_count": null,
   "id": "cff7d6ed-495a-480b-956b-b63a906d1715",
   "metadata": {},
   "outputs": [],
   "source": [
    "v3_days[1]"
   ]
  },
  {
   "cell_type": "code",
   "execution_count": null,
   "id": "6b9851d0-b28b-4956-9ac9-90f47aa7bef0",
   "metadata": {
    "tags": []
   },
   "outputs": [],
   "source": [
    "# ef_qcd_bf1_scv_loaded[1].write_h5ad(\"eg.h5\")"
   ]
  },
  {
   "cell_type": "code",
   "execution_count": null,
   "id": "411755c5-b669-440a-b3e3-c89738c19bdc",
   "metadata": {
    "tags": []
   },
   "outputs": [],
   "source": [
    "# ef_qcd_bf1_scv_loaded[1].write(\"data/processed/PfDB52e/\"+v3_days[1]+\"/\"+v3_days[1]+ \"_scvooo.h5ad\")"
   ]
  },
  {
   "cell_type": "code",
   "execution_count": null,
   "id": "8adf3216-14ed-4040-b55f-385b294ba318",
   "metadata": {},
   "outputs": [],
   "source": [
    "mca_pf_genes = pd.read_csv(\"mca_pf_genes.csv\", skiprows = 1)"
   ]
  },
  {
   "cell_type": "code",
   "execution_count": null,
   "id": "a27ef252-3a6f-4108-9f0b-72c878c2343c",
   "metadata": {},
   "outputs": [],
   "source": [
    "# sinfo(dependencies=True)"
   ]
  },
  {
   "cell_type": "code",
   "execution_count": null,
   "id": "5281d4bc-98c9-4ce7-b9dd-c270e544c717",
   "metadata": {
    "tags": []
   },
   "outputs": [],
   "source": [
    "ef_qcd_bf1_scv_loaded[1].var.columns"
   ]
  },
  {
   "cell_type": "code",
   "execution_count": null,
   "id": "46b2c16b-a65c-4245-8c4c-5c19defae94b",
   "metadata": {},
   "outputs": [],
   "source": [
    "ef_qcd_bf1_scv_loaded[1].var[(ef_qcd_bf1_scv_loaded[1].var.velocity_genes == True).to_list()]"
   ]
  },
  {
   "cell_type": "code",
   "execution_count": null,
   "id": "73e18a8f-5483-46f0-85c3-94fbae6c89b1",
   "metadata": {},
   "outputs": [],
   "source": [
    "mca_pf_genes"
   ]
  },
  {
   "cell_type": "code",
   "execution_count": null,
   "id": "8c50ec26-b8da-45c2-82e6-399d03287099",
   "metadata": {},
   "outputs": [],
   "source": [
    "v3_mca_pf = pd.merge(ef_qcd_bf1_scv_loaded[1].var[(ef_qcd_bf1_scv_loaded[1].var.velocity_genes == True).to_list()], mca_pf_genes, left_on= 'Accession', right_on='pf name')"
   ]
  },
  {
   "cell_type": "code",
   "execution_count": null,
   "id": "4906652c-2014-4889-b7c1-1eaf0ee4d036",
   "metadata": {},
   "outputs": [],
   "source": [
    "pd.merge(ef_qcd_bf1_scv_loaded[1].var[(ef_qcd_bf1_scv_loaded[1].var.velocity_genes == True).to_list()], mca_pf_genes, left_on= 'Accession', right_on='pf name').plot.scatter(x='fit_steady_u', y='t5.5_slope')"
   ]
  },
  {
   "cell_type": "code",
   "execution_count": null,
   "id": "234de920-42b7-418c-987d-5a6ee3e5764a",
   "metadata": {},
   "outputs": [],
   "source": [
    "# ef_qcd_bf1_scv = ef_qcd_bf1_scv_loaded"
   ]
  },
  {
   "cell_type": "code",
   "execution_count": null,
   "id": "acc9bb8d-5ef9-4ebe-81f9-c6d3c8dfec97",
   "metadata": {},
   "outputs": [],
   "source": [
    "ef_qcd_bf2_scv = ef_qcd_bf2_scv_loaded.copy()"
   ]
  },
  {
   "cell_type": "code",
   "execution_count": null,
   "id": "ab963dbf-e2cc-4532-a2a2-340f8e82c435",
   "metadata": {
    "jupyter": {
     "outputs_hidden": true
    },
    "tags": []
   },
   "outputs": [],
   "source": [
    "for inp in ef_qcd_bf1_scv:\n",
    "    inp.obs['Stage'] = inp.obs['Stage'].astype('category')\n",
    "    scv.pl.umap(inp, color='Stage')"
   ]
  },
  {
   "cell_type": "code",
   "execution_count": null,
   "id": "7e68a12c-fd12-4195-85c7-1116a3279f00",
   "metadata": {},
   "outputs": [],
   "source": [
    "sc.pl.umap(ef_qcd_bf1_d5_scv, color=[\"PF3D7_1145600\", \"RON5\", \"PF3D7_0414500\", \"USP13\", \"PF3D7_1437300\"], use_raw=False)"
   ]
  }
 ],
 "metadata": {
  "kernelspec": {
   "display_name": "Python 3 (ipykernel)",
   "language": "python",
   "name": "python3"
  },
  "language_info": {
   "codemirror_mode": {
    "name": "ipython",
    "version": 3
   },
   "file_extension": ".py",
   "mimetype": "text/x-python",
   "name": "python",
   "nbconvert_exporter": "python",
   "pygments_lexer": "ipython3",
   "version": "3.9.12"
  }
 },
 "nbformat": 4,
 "nbformat_minor": 5
}
