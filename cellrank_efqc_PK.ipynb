{
 "cells": [
  {
   "cell_type": "markdown",
   "id": "7aef9204-8215-4cce-9c7a-9aeed45eeef2",
   "metadata": {},
   "source": [
    "Importing modules from conda environment '/lustre/scratch118/malaria/team222/jr35/phd/envs_py/scv_jupcon/'"
   ]
  },
  {
   "cell_type": "code",
   "execution_count": null,
   "id": "b1105056-6be2-49e0-977e-d80ff3a32c8b",
   "metadata": {},
   "outputs": [],
   "source": [
    "import seaborn as sns\n",
    "import pandas as pd\n",
    "## import scrublet as scr\n",
    "import leidenalg\n",
    "import matplotlib.pyplot as plt\n",
    "import numpy as np\n",
    "import scvelo as scv\n",
    "import scanpy as sc\n",
    "import scipy.io\n",
    "import loompy as lp\n",
    "import anndata\n",
    "import cellrank as cr\n",
    "from cellrank.tl.kernels import VelocityKernel\n",
    "from cellrank.tl.kernels import PseudotimeKernel\n",
    "from cellrank.tl.kernels import ConnectivityKernel\n",
    "from cellrank.tl.estimators import GPCCA\n",
    "import bbknn\n",
    "import copy"
   ]
  },
  {
   "cell_type": "code",
   "execution_count": null,
   "id": "18c5c0d2-37b6-47a4-b8bc-a64d13993908",
   "metadata": {},
   "outputs": [],
   "source": [
    "import plotly.express as px\n",
    "import pickle\n",
    "from IPython.display import display\n",
    "from upsetplot import generate_counts, plot \n",
    "import string\n"
   ]
  },
  {
   "cell_type": "code",
   "execution_count": null,
   "id": "9146ec93-a9ab-4f47-b027-c43a1a5e727f",
   "metadata": {},
   "outputs": [],
   "source": [
    "import warnings\n",
    "import re\n",
    "# warnings.filterwarnings(action='ignore')\n",
    "warnings.simplefilter(\"ignore\", category=UserWarning)\n",
    "warnings.simplefilter(\"ignore\", category=FutureWarning)\n",
    "warnings.simplefilter(\"ignore\", category=DeprecationWarning)"
   ]
  },
  {
   "cell_type": "code",
   "execution_count": null,
   "id": "6fd1db4c-8a1a-440b-9ec9-429d14a118a3",
   "metadata": {},
   "outputs": [],
   "source": [
    "import os\n",
    "os.chdir('/Users/jr35/Google Drive/My Drive/PHD_documents/malaria_phd/sc_velo/')"
   ]
  },
  {
   "cell_type": "code",
   "execution_count": null,
   "id": "c8b575c4-6fb5-4940-8c21-6b5ec5dffb59",
   "metadata": {},
   "outputs": [],
   "source": [
    "os.getcwd()"
   ]
  },
  {
   "cell_type": "code",
   "execution_count": null,
   "id": "e46e4422-e6cc-46d2-a52b-9e2911ad50e1",
   "metadata": {},
   "outputs": [],
   "source": []
  },
  {
   "cell_type": "code",
   "execution_count": null,
   "id": "b4c20c8a-8980-4376-bb6c-9ab6e9732d84",
   "metadata": {},
   "outputs": [],
   "source": [
    "# import warnings\n",
    "\n",
    "# def function_that_warns():\n",
    "#     warnings.warn(\"deprecated\", DeprecationWarning)\n",
    "\n",
    "# with warnings.catch_warnings():\n",
    "#     warnings.simplefilter(\"ignore\")\n",
    "#     function_that_warns()  # this will not show a warning\n"
   ]
  },
  {
   "cell_type": "markdown",
   "id": "49cabcb7-5571-4b7b-b1b8-6ddea440b467",
   "metadata": {},
   "source": [
    "Check module version"
   ]
  },
  {
   "cell_type": "code",
   "execution_count": null,
   "id": "8595e0f0-527a-4b7f-b6d3-26546ca44888",
   "metadata": {},
   "outputs": [],
   "source": [
    "# print(cr.__version__)"
   ]
  },
  {
   "cell_type": "code",
   "execution_count": null,
   "id": "f69e66de-7bb4-43ab-b0c5-94f613c11380",
   "metadata": {},
   "outputs": [],
   "source": [
    "# unload module\n",
    "# del str"
   ]
  },
  {
   "cell_type": "code",
   "execution_count": null,
   "id": "8e09c197-fb47-47c2-910d-b17ae5bd3f70",
   "metadata": {},
   "outputs": [],
   "source": [
    "scv.logging.print_versions()"
   ]
  },
  {
   "cell_type": "markdown",
   "id": "6bd6d30e-566b-4228-9c45-1876b840cb37",
   "metadata": {},
   "source": [
    "set some figure settings"
   ]
  },
  {
   "cell_type": "code",
   "execution_count": null,
   "id": "4cfb2f26-21b5-4463-8a1f-196c295d9fa0",
   "metadata": {},
   "outputs": [],
   "source": [
    "scv.set_figure_params(transparent=False, facecolor = 'white', frameon=True)"
   ]
  },
  {
   "cell_type": "markdown",
   "id": "139f2562-dac7-41a9-abe8-784348ea062d",
   "metadata": {},
   "source": [
    "Initialize variables for some where the raw and processed data is"
   ]
  },
  {
   "cell_type": "code",
   "execution_count": null,
   "id": "b8f47152-a8b1-492c-b9c9-8d62f1563a12",
   "metadata": {},
   "outputs": [],
   "source": [
    "raw_data = 'data/raw/PfDB52e/'\n",
    "processed_data = 'data/processed/PfDB52e/'"
   ]
  },
  {
   "cell_type": "code",
   "execution_count": null,
   "id": "6632b429-a2fa-4679-8a0b-51f61775bf10",
   "metadata": {},
   "outputs": [],
   "source": [
    "raw_data"
   ]
  },
  {
   "cell_type": "code",
   "execution_count": null,
   "id": "35679e3d-bc0e-4d12-8d2f-cb645df620f4",
   "metadata": {},
   "outputs": [],
   "source": [
    "##Read in in splice and unspliced matrices genereted by velocyto"
   ]
  },
  {
   "cell_type": "code",
   "execution_count": null,
   "id": "fc912f88-47a3-4b8b-972e-4444512e9871",
   "metadata": {},
   "outputs": [],
   "source": [
    "# from pathlib import Path\n",
    "# result = list(Path(\"data/processed/PfDB52e\").rglob(\"*.[lL][oO][oO][mM]\"))"
   ]
  },
  {
   "cell_type": "code",
   "execution_count": null,
   "id": "965c92ba-ae62-446a-bc43-b0b0a6a01831",
   "metadata": {
    "tags": []
   },
   "outputs": [],
   "source": [
    "# result"
   ]
  },
  {
   "cell_type": "markdown",
   "id": "38c223db-a91b-4d52-b0e1-e370fd5e1aeb",
   "metadata": {},
   "source": [
    "Combine day10 looms"
   ]
  },
  {
   "cell_type": "code",
   "execution_count": null,
   "id": "ec31022d-c368-40a8-a595-248d555abafd",
   "metadata": {},
   "outputs": [],
   "source": [
    "# loompy.combine(['data/processed/PfDB52e/day10/vcyto/possorted_genome_bam_7YCS2.loom', 'data/processed/PfDB52e/day10b/vcyto/possorted_genome_bam_09PD6.loom'], '/lustre/scratch118/malaria/team222/jr35/phd/V3_4TP/sc_velodata/processed/PfDB52e/d10_d10b/vcyto/possorted_genome_bam_d10_d10b.loom', key=\"Accession\")"
   ]
  },
  {
   "cell_type": "markdown",
   "id": "089dfbd0-7134-489d-82c7-dbeeac1e3198",
   "metadata": {},
   "source": [
    "Combine all looms"
   ]
  },
  {
   "cell_type": "code",
   "execution_count": null,
   "id": "91dcfd9a-4802-458a-8615-aaf29af2c68f",
   "metadata": {},
   "outputs": [],
   "source": [
    "# loompy.combine(['data/processed/PfDB52e/asexuals/vcyto/possorted_genome_bam_UZNXI.loom', 'data/processed/PfDB52e/day3/vcyto/possorted_genome_bam_ASHFZ.loom', 'data/processed/PfDB52e/day5/vcyto/possorted_genome_bam_H66NQ.loom','data/processed/PfDB52e/day10/vcyto/possorted_genome_bam_7YCS2.loom', 'data/processed/PfDB52e/day10b/vcyto/possorted_genome_bam_09PD6.loom'], '/lustre/scratch118/malaria/team222/jr35/phd/V3_4TP/sc_velodata/processed/PfDB52e/all_days/vcyto/possorted_genome_bam_all_days.loom', key=\"Accession\")"
   ]
  },
  {
   "cell_type": "code",
   "execution_count": null,
   "id": "28100b82-32b5-4171-9672-c616cfef60e5",
   "metadata": {},
   "outputs": [],
   "source": [
    "# d10_d10b_loom = scv.read_loom('/lustre/scratch118/malaria/team222/jr35/phd/V3_4TP/sc_velodata/processed/PfDB52e/d10_d10b/vcyto/possorted_genome_bam_d10_d10b.loom')"
   ]
  },
  {
   "cell_type": "code",
   "execution_count": null,
   "id": "3da335df-396b-46e9-bf55-586ac910a3cb",
   "metadata": {},
   "outputs": [],
   "source": [
    "# d5_filt_lp = scv.read_loom(processed_data + \"vcyto/possorted_genome_bam_H66NQ.loom\")"
   ]
  },
  {
   "cell_type": "markdown",
   "id": "3aa63702-16e6-46df-9ce4-17ce73155b3d",
   "metadata": {},
   "source": [
    "Read both day10s, format barcode names and combine and save as loom"
   ]
  },
  {
   "cell_type": "markdown",
   "id": "ee6639ff-d79c-464f-9d8a-b91d59f68ca8",
   "metadata": {},
   "source": [
    "Initialize variables for the different datasets/batches (days when sample was processed)"
   ]
  },
  {
   "cell_type": "code",
   "execution_count": null,
   "id": "64fa4496-9e3b-43be-9bd2-1149d6b15bbc",
   "metadata": {},
   "outputs": [],
   "source": [
    "# v3_days_d10 = ['day10', 'day10b']"
   ]
  },
  {
   "cell_type": "markdown",
   "id": "7b87d1c7-6307-4cf0-8200-f8d82c759696",
   "metadata": {},
   "source": [
    "Initialize variables for the loom files with spliced and unspliced matrices generated by velocyto for each of the different datasets/batches (days when sample was processed)"
   ]
  },
  {
   "cell_type": "code",
   "execution_count": null,
   "id": "19448329-433d-4669-9c39-4fe3ff2f004b",
   "metadata": {},
   "outputs": [],
   "source": [
    "# lp_name_d10 = [ 'possorted_genome_bam_7YCS2.loom', 'possorted_genome_bam_09PD6.loom']"
   ]
  },
  {
   "cell_type": "markdown",
   "id": "074b4044-40a3-4661-8757-535934d4e634",
   "metadata": {},
   "source": [
    "Reading in the loom files with spliced and unspliced matrices and formating barcodes to allow merging with seurat object"
   ]
  },
  {
   "cell_type": "code",
   "execution_count": null,
   "id": "645b9a22-6b88-4278-b010-45896ab7353a",
   "metadata": {},
   "outputs": [],
   "source": [
    "# bcode_days_d10 = ['D10a','D10b']"
   ]
  },
  {
   "cell_type": "code",
   "execution_count": null,
   "id": "f9f7a78c-37fd-422e-982a-7835345d7859",
   "metadata": {
    "tags": []
   },
   "outputs": [],
   "source": [
    "# filt_lp_d10 = []\n",
    "# for day, lp, v3_day in zip(v3_days_d10, lp_name_d10, bcode_days_d10):\n",
    "#     x = scv.read_loom('data/processed/PfDB52e/' + day + '/vcyto/' + lp)\n",
    "#     # scv.utils.clean_obs_names(x, alphabet='[AGTC]', id_length=12, inplace=True)\n",
    "#     x.obs_names = [v3_day+'_'+re.sub('^.*:|x$', '', i)+'-1' for i in x.obs_names]\n",
    "#     x.write_loom('data/processed/PfDB52e/' + day + '/vcyto/' + 'barcode_fmt_'+lp)\n",
    "#     filt_lp_d10.append(x)"
   ]
  },
  {
   "cell_type": "code",
   "execution_count": null,
   "id": "f350bea7-4d70-4f0c-852b-34322fcac358",
   "metadata": {},
   "outputs": [],
   "source": [
    "# loompy.combine(['data/processed/PfDB52e/day10/vcyto/barcode_fmt_possorted_genome_bam_7YCS2.loom', 'data/processed/PfDB52e/day10b/vcyto/barcode_fmt_possorted_genome_bam_09PD6.loom'], '/lustre/scratch118/malaria/team222/jr35/phd/V3_4TP/sc_velodata/processed/PfDB52e/d10_d10b/vcyto/barcode_fmt_possorted_genome_bam_d10_d10b.loom', key=\"Accession\")"
   ]
  },
  {
   "cell_type": "code",
   "execution_count": null,
   "id": "e20c1d0d-a703-40d5-b500-f77048896cb0",
   "metadata": {},
   "outputs": [],
   "source": [
    "##Copy loom files from farm to local using rsync (Had to set up ssh keys to enable the copying without asking for password)"
   ]
  },
  {
   "cell_type": "code",
   "execution_count": null,
   "id": "4ffd9146-0550-482e-89aa-49ec84043006",
   "metadata": {
    "tags": []
   },
   "outputs": [],
   "source": [
    "# %%bash\n",
    "# destination_day=(\"asexuals\" \"day3\" \"day5\" \"day10\" \"day10b\" \"d10_d10b\" \"all_days\")\n",
    "# lp_name=('possorted_genome_bam_UZNXI.loom' 'possorted_genome_bam_ASHFZ.loom' 'possorted_genome_bam_H66NQ.loom' 'possorted_genome_bam_7YCS2.loom' 'possorted_genome_bam_09PD6.loom' 'possorted_genome_bam_d10_d10b.loom' 'possorted_genome_bam_all_days.loom')\n",
    "# # w_dir='/Volumes/GoogleDrive/My\\ Drive/PHD_documents/malaria_phd/sc_velodata'\n",
    "# # echo $w_dir\n",
    "# for j in \"${!destination_day[@]}\";\n",
    "#     do\n",
    "#         mkdir -p /Volumes/GoogleDrive/My\\ Drive/PHD_documents/malaria_phd/sc_velodata/processed/PfDB52e/${destination_day[j]}/vcyto/\n",
    "#         rsync -av jr35@farm5-head1:/lustre/scratch118/malaria/team222/jr35/phd/V3_4TP/sc_velodata/processed/PfDB52e/${destination_day[j]}/vcyto/${lp_name[j]} /Volumes/GoogleDrive/My\\ Drive/PHD_documents/malaria_phd/sc_velodata/processed/PfDB52e/${destination_day[j]}/vcyto/\n",
    "#     done\n",
    "    "
   ]
  },
  {
   "cell_type": "markdown",
   "id": "18e77f83-5028-4416-a366-2eb665e23b14",
   "metadata": {},
   "source": [
    "Initialize variables for the different datasets/batches (days when sample was processed)"
   ]
  },
  {
   "cell_type": "code",
   "execution_count": null,
   "id": "c066b48f-2226-439b-aac2-0e3b7a20402b",
   "metadata": {},
   "outputs": [],
   "source": [
    "v3_days = ['asexuals', 'day3', 'day5', 'day10', 'day10b', 'd10_d10b', 'all_days']"
   ]
  },
  {
   "cell_type": "code",
   "execution_count": null,
   "id": "63c96d48-810f-4a07-a010-b5a3a2e6932c",
   "metadata": {},
   "outputs": [],
   "source": [
    "v3_days_all = ['asexuals', 'day3', 'day5', 'day10', 'day10b', 'd10_d10b', 'all_days', 'all']"
   ]
  },
  {
   "cell_type": "markdown",
   "id": "f742c430-4eba-4775-9b15-0f863bb1f649",
   "metadata": {},
   "source": [
    "Initialize variables for the loom files with spliced and unspliced matrices generated by velocyto for each of the different datasets/batches (days when sample was processed)"
   ]
  },
  {
   "cell_type": "code",
   "execution_count": null,
   "id": "5b3291aa-74f2-427c-98a1-ac26ab4db898",
   "metadata": {},
   "outputs": [],
   "source": [
    "lp_name = ['possorted_genome_bam_UZNXI.loom', 'possorted_genome_bam_ASHFZ.loom', 'possorted_genome_bam_H66NQ.loom', 'possorted_genome_bam_7YCS2.loom', 'possorted_genome_bam_09PD6.loom', 'possorted_genome_bam_d10_d10b.loom', 'possorted_genome_bam_all_days.loom']"
   ]
  },
  {
   "cell_type": "code",
   "execution_count": null,
   "id": "82190172-1b59-49fd-bd57-588f6d40391c",
   "metadata": {},
   "outputs": [],
   "source": []
  },
  {
   "cell_type": "markdown",
   "id": "176f7b09-b2ac-441c-b2f2-480b49ec71fb",
   "metadata": {},
   "source": [
    "Reading in the loom files with spliced and unspliced matrices and formating barcodes to allow merging with seurat object"
   ]
  },
  {
   "cell_type": "code",
   "execution_count": null,
   "id": "cae6cbe5-fb0d-48d2-b0b5-94764ce3c490",
   "metadata": {},
   "outputs": [],
   "source": [
    "bcode_days = ['D0','D3','D5','D10a','D10b']"
   ]
  },
  {
   "cell_type": "code",
   "execution_count": null,
   "id": "486a132a-7f94-4492-97c3-bad4055f42af",
   "metadata": {},
   "outputs": [],
   "source": [
    "# filt_lp=[]\n",
    "\n",
    "# for j, lp in enumerate(lp_name):\n",
    "#     if j in range(0,5):\n",
    "#         x = scv.read_loom('data/processed/PfDB52e/' + v3_days[j] + '/vcyto/' + lp)\n",
    "#         # scv.utils.clean_obs_names(x, alphabet='[AGTC]', id_length=12, inplace=True)\n",
    "#         x.obs_names = [bcode_days[j]+'_'+re.sub('^.*:|x$', '', i)+'-1' for i in x.obs_names]\n",
    "#         filt_lp.append(x)\n",
    "#     else :\n",
    "#         x = scv.read_loom('data/processed/PfDB52e/' + v3_days[j] + '/vcyto/' + lp)\n",
    "#         # scv.utils.clean_obs_names(x, alphabet='[AGTC]', id_length=12, inplace=True)\n",
    "#         x.obs_names = [i.replace('possorted_genome_bam_UZNXI:', 'D0_').replace('possorted_genome_bam_ASHFZ:', 'D3_').replace('possorted_genome_bam_H66NQ:', 'D5_').replace('possorted_genome_bam_7YCS2:', 'D10a_').replace('possorted_genome_bam_09PD6:', 'D10b_').replace('x','-1')  for i in x.obs_names] \n",
    "#         filt_lp.append(x)"
   ]
  },
  {
   "cell_type": "code",
   "execution_count": null,
   "id": "0e5ba16f-f561-4ea6-8507-aa668ab4fcbc",
   "metadata": {},
   "outputs": [],
   "source": [
    "filt_lp = scv.read_loom('data/processed/PfDB52e/all_days/vcyto/possorted_genome_bam_all_days.loom')"
   ]
  },
  {
   "cell_type": "code",
   "execution_count": null,
   "id": "3501c09b-4974-4ea3-b61d-8ba048efb569",
   "metadata": {},
   "outputs": [],
   "source": [
    "filt_lp.obs_names = [i.replace('possorted_genome_bam_UZNXI:', 'D0_').replace('possorted_genome_bam_ASHFZ:', 'D3_').replace('possorted_genome_bam_H66NQ:', 'D5_').replace('possorted_genome_bam_7YCS2:', 'D10a_').replace('possorted_genome_bam_09PD6:', 'D10b_').replace('x','-1')  for i in filt_lp.obs_names] "
   ]
  },
  {
   "cell_type": "code",
   "execution_count": null,
   "id": "831f3231-e70b-40e7-bcad-46dedc0e5ff6",
   "metadata": {
    "tags": []
   },
   "outputs": [],
   "source": [
    "filt_lp.obs_names"
   ]
  },
  {
   "cell_type": "markdown",
   "id": "5c04ba63-ce91-4bf2-a948-a7961bfd6f94",
   "metadata": {},
   "source": [
    "checking for duplicates in cell barcodes for merged day10 loom files as it is common for different batches to share the same barcodes"
   ]
  },
  {
   "cell_type": "code",
   "execution_count": null,
   "id": "f89cde81-a3c7-4cd6-9d35-f01d01762eb8",
   "metadata": {},
   "outputs": [],
   "source": [
    "from collections import Counter\n",
    "cc = Counter(filt_lp.obs_names)\n",
    "cc.most_common(10)"
   ]
  },
  {
   "cell_type": "code",
   "execution_count": null,
   "id": "6a7ed76e-9f7b-4e08-8134-4097f6bec05b",
   "metadata": {},
   "outputs": [],
   "source": [
    "##scVelo using seurat umap"
   ]
  },
  {
   "cell_type": "markdown",
   "id": "f7ae2fe8-902c-425e-b0ca-23f6548fc833",
   "metadata": {},
   "source": [
    "Reading the raw data QCd by Elias"
   ]
  },
  {
   "cell_type": "code",
   "execution_count": null,
   "id": "832ecbb4-1a36-4c9b-8a5f-fec7f6877ce3",
   "metadata": {},
   "outputs": [],
   "source": [
    "ef_qcd = sc.read_h5ad(processed_data + '../RoadtoUMAP/Road2UMAP_raw.h5ad')"
   ]
  },
  {
   "cell_type": "code",
   "execution_count": null,
   "id": "7b1cadb1-a37c-477e-8fca-c9a6f3cce53d",
   "metadata": {},
   "outputs": [],
   "source": [
    "ef_qcd_raw = ef_qcd.raw.to_adata().copy()"
   ]
  },
  {
   "cell_type": "code",
   "execution_count": null,
   "id": "5350e62e-f3a5-42fd-9c95-e9f6e53cbbaf",
   "metadata": {
    "tags": []
   },
   "outputs": [],
   "source": [
    "# print(ef_qcd_raw.X)"
   ]
  },
  {
   "cell_type": "code",
   "execution_count": null,
   "id": "0b47b1eb-b281-4254-a0b2-ff6fd66a17cf",
   "metadata": {
    "tags": []
   },
   "outputs": [],
   "source": [
    "ef_qcd_raw.obs.value_counts('Stage')"
   ]
  },
  {
   "cell_type": "code",
   "execution_count": null,
   "id": "dcaaf1cd-14e9-4d53-88a7-eec40be86bcc",
   "metadata": {},
   "outputs": [],
   "source": [
    "type(ef_qcd_raw.obs['Stage'])"
   ]
  },
  {
   "cell_type": "markdown",
   "id": "52e7b0e6-d50a-4d73-a25d-931c1806e96d",
   "metadata": {},
   "source": [
    "Cleaning cell barcodes to remove the strings added at the beginning and end to allow merging with loom files containing spliced and unspliced counts"
   ]
  },
  {
   "cell_type": "code",
   "execution_count": null,
   "id": "27d191c7-20a3-4d03-a2af-5c276275f056",
   "metadata": {},
   "outputs": [],
   "source": [
    "def subset_seu_data(stages, day):\n",
    "    subset_ad = ef_qcd_raw[(ef_qcd_raw.obs['Stage'].isin(stages)) & (ef_qcd_raw.obs['orig.ident'] == day), ]\n",
    "    # scv.utils.clean_obs_names(subset_ad)\n",
    "    # scv.utils.clean_obs_names(subset_ad, alphabet='[AGTC]', id_length=12)\n",
    "    return subset_ad"
   ]
  },
  {
   "cell_type": "code",
   "execution_count": null,
   "id": "b814a006-58f1-4409-bcf4-38e1cb9d94b5",
   "metadata": {},
   "outputs": [],
   "source": [
    "v3_days"
   ]
  },
  {
   "cell_type": "code",
   "execution_count": null,
   "id": "0daf3449-fd47-472e-96dc-f0822951baac",
   "metadata": {},
   "outputs": [],
   "source": [
    "ef_qcd_raw.obs['stage_bfs'] = ef_qcd_raw.obs['anno_300cells']\n",
    "ef_qcd_raw.obs = ef_qcd_raw.obs.astype({\"stage_bfs\": str}, errors='raise')\n",
    "ef_qcd_raw.obs.loc[ef_qcd_raw.obs['stage_bfs'] == 'no assignment', 'stage_bfs'] = ef_qcd_raw.obs['Stage']\n",
    "ef_qcd_raw.obs.loc[ef_qcd_raw.obs['stage_bfs'] == 'Gametocytes (comitted)', 'stage_bfs'] = 'Gametocytes (committed)'\n",
    "ef_qcd_raw.obs['stage_bfs'] = ef_qcd_raw.obs['stage_bfs'].astype('category')"
   ]
  },
  {
   "cell_type": "code",
   "execution_count": null,
   "id": "a6d95626-b37f-4af3-8af7-f0afcb3d1846",
   "metadata": {},
   "outputs": [],
   "source": [
    "asx_gams_bf1_pts = pd.read_csv('data/processed/RoadtoUMAP/pseudotime_tradeseq/asx_gams_bf1_pts.csv')\n",
    "gams_bf2_pts = pd.read_csv('data/processed/RoadtoUMAP/pseudotime_tradeseq/gams_bf2_pts.csv')"
   ]
  },
  {
   "cell_type": "code",
   "execution_count": null,
   "id": "cf5c1b95-3a23-497f-b300-06691d6f0079",
   "metadata": {
    "tags": []
   },
   "outputs": [],
   "source": [
    "gams_bf2_pts.plot.scatter('slingPseudotime_1', 'slingPseudotime_2')"
   ]
  },
  {
   "cell_type": "code",
   "execution_count": null,
   "id": "82a5fa44-04f2-47f4-ae34-4c1ac36aeb8d",
   "metadata": {
    "tags": []
   },
   "outputs": [],
   "source": [
    "asx_gams_bf1_pts.plot.scatter('slingPseudotime_1', 'slingPseudotime_2')"
   ]
  },
  {
   "cell_type": "code",
   "execution_count": null,
   "id": "6d40be38-3847-4680-86c3-a6a06bc3c4c6",
   "metadata": {},
   "outputs": [],
   "source": [
    "ef_bf1_bf2=[]\n",
    "for i in range(2):\n",
    "    if i == 0:\n",
    "        x=ef_qcd_raw[ef_qcd_raw.obs['stage_bfs'].isin(['late ring', 'early trophozoite', 'Gametocytes (committed)', 'Gametocytes (developing)','late trophozoite'])& ~ef_qcd_raw.obs['Stage'].isin(['late schizont', 'early ring'])]\n",
    "        x.obs = pd.merge(x.obs,  asx_gams_bf1_pts.set_index('bcode'), how= 'left', left_index=True, right_index=True)\n",
    "        x.obs['pseudo_mg'] = x.obs.slingPseudotime_2.fillna(x.obs.slingPseudotime_1)\n",
    "        ef_bf1_bf2.append(x)\n",
    "    else:\n",
    "        x=ef_qcd_raw[ef_qcd_raw.obs['stage_bfs'].isin(['Gametocytes (developing)', 'Gametocytes (branching)', 'Gametocytes (early female)', 'Gametocytes (late female)', 'Gametocytes (early male)', 'Gametocytes (late male)'])]\n",
    "        x.obs = pd.merge(x.obs,  gams_bf2_pts.set_index('bcode'), how= 'left',  left_index=True, right_index=True)\n",
    "        x.obs['pseudo_mg'] = x.obs.slingPseudotime_2.fillna(x.obs.slingPseudotime_1)\n",
    "        ef_bf1_bf2.append(x)\n",
    "   "
   ]
  },
  {
   "cell_type": "code",
   "execution_count": null,
   "id": "f06221ca-0f16-4e8f-a2db-e5d093a1b2e5",
   "metadata": {},
   "outputs": [],
   "source": [
    "# ef_qcd_raw[ef_qcd_raw.obs['stage_bfs'].isin(['late ring', 'early trophozoite', 'Gametocytes (committed)', 'Gametocytes (developing)','late trophozoite'])].obs[['Stage','stage_bfs']]"
   ]
  },
  {
   "cell_type": "code",
   "execution_count": null,
   "id": "cd5faead-31f1-435c-8525-8083ac57f748",
   "metadata": {},
   "outputs": [],
   "source": [
    "# ef_qcd_raw[ef_qcd_raw.obs['stage_bfs'].isin(['late ring', 'early trophozoite', 'Gametocytes (committed)', 'Gametocytes (developing)','late trophozoite']) & ~ef_qcd_raw.obs['Stage'].isin(['late schizont', 'early ring'])].obs[['Stage','stage_bfs']]"
   ]
  },
  {
   "cell_type": "code",
   "execution_count": null,
   "id": "f01c2f2a-eeed-4294-8ce7-b86d051b3681",
   "metadata": {},
   "outputs": [],
   "source": [
    "# ef_bf1_bf2[0][ef_bf1_bf2[0].obs.pseudo_mg.isna()].obs[['Stage','stage_bfs']]"
   ]
  },
  {
   "cell_type": "markdown",
   "id": "2a6d883b-fd66-4380-aa44-639dab80342d",
   "metadata": {},
   "source": [
    "Plotting umap of the subsetted datasets"
   ]
  },
  {
   "cell_type": "code",
   "execution_count": null,
   "id": "8c028180-e45e-4070-bb95-b9faf4b0b442",
   "metadata": {
    "tags": []
   },
   "outputs": [],
   "source": [
    "for inp in ef_bf1_bf2:\n",
    "    inp.obs['Stage'] = inp.obs['Stage'].astype('category')\n",
    "    inp.obs['orig.ident'] = inp.obs['orig.ident'].astype('category')\n",
    "    scv.pl.umap(inp, color='Stage', components='2,3')\n",
    "    # print(type(inp.obs['Stage']))"
   ]
  },
  {
   "cell_type": "markdown",
   "id": "e60bbe2e-ce02-40a5-940c-5ab235e52e36",
   "metadata": {},
   "source": [
    "Plotting 3D umap for one example"
   ]
  },
  {
   "cell_type": "code",
   "execution_count": null,
   "id": "d8863f48-ecb8-4a6c-a321-40347e11f94d",
   "metadata": {},
   "outputs": [],
   "source": [
    "umap = ef_bf1_bf2[1].obsm['X_umap']"
   ]
  },
  {
   "cell_type": "code",
   "execution_count": null,
   "id": "a884b802-3e8c-4572-baa7-8bcd27fdff98",
   "metadata": {},
   "outputs": [],
   "source": [
    "fig_3d = px.scatter_3d(x =umap[:, 0], y = umap[:, 1], z = umap[:, 2], color = ef_bf1_bf2[1].obs.stage_bfs)"
   ]
  },
  {
   "cell_type": "code",
   "execution_count": null,
   "id": "f5319891-4785-47f2-9d04-8c6bec58e4ef",
   "metadata": {
    "tags": []
   },
   "outputs": [],
   "source": [
    "fig_3d.update_traces(marker_size=1)\n",
    "\n",
    "\n",
    "fig_3d.show()"
   ]
  },
  {
   "cell_type": "markdown",
   "id": "316b8bd5-657a-4535-a15e-24cb8c478229",
   "metadata": {},
   "source": [
    "QC checks - Tabulating the number of Stage categories, check for duplicates and glimpse the counts"
   ]
  },
  {
   "cell_type": "code",
   "execution_count": null,
   "id": "1d425ece-34ec-4ba6-aeee-87eaf45b61ab",
   "metadata": {},
   "outputs": [],
   "source": [
    "ef_bf1_bf2[1].obs['Stage'].value_counts()"
   ]
  },
  {
   "cell_type": "code",
   "execution_count": null,
   "id": "988777aa-8f16-4008-a8bc-bcc8c49c8c3b",
   "metadata": {
    "tags": []
   },
   "outputs": [],
   "source": [
    "for obj1 in ef_bf1_bf2:\n",
    "    print(np.count_nonzero(obj1.obs_names.duplicated()))"
   ]
  },
  {
   "cell_type": "code",
   "execution_count": null,
   "id": "14b90a48-08d5-4323-addd-b4d2bab82d2b",
   "metadata": {
    "tags": []
   },
   "outputs": [],
   "source": [
    "print(np.count_nonzero(filt_lp.obs_names.duplicated()))"
   ]
  },
  {
   "cell_type": "code",
   "execution_count": null,
   "id": "48168799-aa04-41f6-9989-7128335ec9c2",
   "metadata": {
    "tags": []
   },
   "outputs": [],
   "source": [
    "for obj1 in ef_bf1_bf2:\n",
    "    print(np.count_nonzero(obj1.obs_names.duplicated()))\n",
    "    print(len(obj1.var_names))\n",
    "    print(obj1.var_names[1:2])"
   ]
  },
  {
   "cell_type": "code",
   "execution_count": null,
   "id": "f00830ba-0c06-4a8f-8336-9682769d7ef7",
   "metadata": {
    "tags": []
   },
   "outputs": [],
   "source": [
    "print(np.count_nonzero(filt_lp.obs_names.duplicated()))\n",
    "print(len(filt_lp.var_names))\n",
    "print(filt_lp.var_names[1:2])"
   ]
  },
  {
   "cell_type": "code",
   "execution_count": null,
   "id": "eb826a74-185b-4424-a84e-b116b057b57b",
   "metadata": {
    "tags": []
   },
   "outputs": [],
   "source": [
    "print(filt_lp.X[1:5,1:20])\n",
    "    "
   ]
  },
  {
   "cell_type": "markdown",
   "id": "c0799337-cd01-4ad1-94de-0b721de3dd74",
   "metadata": {},
   "source": [
    "Replacing '-' in variable/gene names with '_'"
   ]
  },
  {
   "cell_type": "code",
   "execution_count": null,
   "id": "6daa6240-679e-4f90-8c30-c9d6f0208334",
   "metadata": {},
   "outputs": [],
   "source": [
    "for obj1 in ef_bf1_bf2:\n",
    "    obj1.var_names = [i.replace(\"-\", \"_\") for i in obj1.var_names]\n",
    "#     obj.var_names = [i.replace(\"-\", \"_\") for i in obj.var_names]\n",
    "# ef_qcd_bf1_d5.var_names = [i.replace(\"-\", \"_\") for i in ef_qcd_bf1_d5.var_names]"
   ]
  },
  {
   "cell_type": "code",
   "execution_count": null,
   "id": "e5a3fe39-f6c6-4d10-b748-f98124e3844e",
   "metadata": {},
   "outputs": [],
   "source": [
    "for obj1 in ef_bf1_bf2:\n",
    "    print(obj1.var_names[1:2])"
   ]
  },
  {
   "cell_type": "code",
   "execution_count": null,
   "id": "f845d06b-15f2-4c0b-9f2d-09c5b1e5ed1d",
   "metadata": {},
   "outputs": [],
   "source": [
    "ef_bf1_bf2"
   ]
  },
  {
   "cell_type": "code",
   "execution_count": null,
   "id": "4630c65d-6fde-46c1-8835-4c20a57e9548",
   "metadata": {},
   "outputs": [],
   "source": [
    "filt_lp.obs_names"
   ]
  },
  {
   "cell_type": "code",
   "execution_count": null,
   "id": "5a4123b1-26ac-4b50-987b-8db6e0c2d136",
   "metadata": {},
   "outputs": [],
   "source": [
    "filt_lp"
   ]
  },
  {
   "cell_type": "markdown",
   "id": "149821ee-c49b-4ff8-afad-cf8349006975",
   "metadata": {},
   "source": [
    "Merge subsetted QCd objects from Elias with loom files with unspliced/spliced matrices\n",
    "\n",
    "The columns \"initial_size\", \"initial_size_unspliced\" and \"initial_size_spliced\" are added when calling scvelo.utils.merge. These are the counts per cell prior to subsetting, i.e. the initial size of the cell."
   ]
  },
  {
   "cell_type": "code",
   "execution_count": null,
   "id": "d02c5205-baa4-4417-85d9-9f2d94ac0bae",
   "metadata": {},
   "outputs": [],
   "source": [
    "ef_bf1n2_s_us = []\n",
    "for obj in ef_bf1_bf2:\n",
    "    x = scv.utils.merge(obj, filt_lp)\n",
    "    ef_bf1n2_s_us.append(x)"
   ]
  },
  {
   "cell_type": "code",
   "execution_count": null,
   "id": "8074a67a-0df0-411e-8534-593653ccf131",
   "metadata": {
    "tags": []
   },
   "outputs": [],
   "source": [
    "ef_bf1n2_s_us"
   ]
  },
  {
   "cell_type": "markdown",
   "id": "2646b6e8-5063-4ef3-920f-577d4e4a774a",
   "metadata": {},
   "source": [
    "QC checks"
   ]
  },
  {
   "cell_type": "code",
   "execution_count": null,
   "id": "e331aa4b-5b26-4ff9-9e3a-f6b6bf7e3f42",
   "metadata": {},
   "outputs": [],
   "source": [
    "print(ef_bf1n2_s_us[1][ef_bf1n2_s_us[1].obs_names.isin(ef_bf1n2_s_us[1].obs_names[1:10].to_list()),ef_bf1n2_s_us[1].var_names.isin(ef_bf1n2_s_us[1].var_names[1:15].to_list())].X)"
   ]
  },
  {
   "cell_type": "markdown",
   "id": "a6bc0733-bfd2-4b19-b04f-82043e1ede1b",
   "metadata": {},
   "source": [
    "Assignment of variables for the number of PCs and number of neighbours to use in calculating neighbours using UMAP as the default or sklearn and other methods\n",
    "The PCs and number of neighbours are also used to calculate first&second order moments for each cell across it's neighbours for spliced and unspliced counts\n",
    "\n",
    "This parameters can be played with to adjust visualization but we are using the default for both which is 30\n",
    "\n",
    "We use UMAPs calculated from seurat. So this step is not that key but to use scv generated UMAP follow there are some instructions here https://github.com/theislab/scvelo/issues/112#issuecomment-1034925572"
   ]
  },
  {
   "cell_type": "code",
   "execution_count": null,
   "id": "f607de62-ae09-4485-bc21-195f07a8cc38",
   "metadata": {},
   "outputs": [],
   "source": [
    "bf1_pcs = [6, 6]\n",
    "\n",
    "bf1_neighbours = [30, 30]\n"
   ]
  },
  {
   "cell_type": "markdown",
   "id": "9a6f8144-61f8-4235-a8ac-2265ef1f0e86",
   "metadata": {},
   "source": [
    "### Filtering and calculating moments for recovery of dynamics and RNA velocity "
   ]
  },
  {
   "cell_type": "markdown",
   "id": "ac0fb85b-ab30-4f52-af06-72258e3c4189",
   "metadata": {},
   "source": [
    "Defining a function to perform: \n",
    "\n",
    "Filtering based on the minimum number of spliced and unspliced counts required for a gene (20 here. i.e we only want genes with atleast 20 spliced counts and 20 unspliced counts across all cells).\n",
    "Calculate PCs, neighbours, and moments\n",
    "\n",
    "scv.pp.moments returns \n",
    " - Ms (.layers) – dense matrix with first order moments of spliced counts.\n",
    " - Mu (.layers) – dense matrix with first order moments of unspliced counts.\n"
   ]
  },
  {
   "cell_type": "code",
   "execution_count": null,
   "id": "02c06c8b-b749-4adf-8f55-f48a45bc2fef",
   "metadata": {},
   "outputs": [],
   "source": [
    "def velo_calc(subset_ad, nns, npcs):\n",
    "    scv.pp.filter_and_normalize(subset_ad, min_shared_counts=20, n_top_genes=3000)\n",
    "    # print(subset_ad[1:2,subset_ad.var_names.to_list()[1:10]].X)\n",
    "    sc.tl.pca(subset_ad)\n",
    "    sc.pp.neighbors(subset_ad, n_pcs=npcs, n_neighbors=nns)\n",
    "    scv.pp.moments(subset_ad, n_pcs=None, n_neighbors=None)\n",
    "    # print(subset_ad[1:3,subset_ad.var_names.to_list()[1:10]].layers[\"spliced\"])\n",
    "    return subset_ad\n"
   ]
  },
  {
   "cell_type": "code",
   "execution_count": null,
   "id": "b5d7df85-8e7e-4708-8e58-ef4a96eec570",
   "metadata": {
    "tags": []
   },
   "outputs": [],
   "source": [
    "for obj, nns, npcs in zip(ef_bf1n2_s_us, bf1_neighbours, bf1_pcs):\n",
    "    obj = velo_calc(subset_ad = obj, nns=nns, npcs=npcs)"
   ]
  },
  {
   "cell_type": "code",
   "execution_count": null,
   "id": "7721a788-8006-4528-9600-538584de9184",
   "metadata": {
    "tags": []
   },
   "outputs": [],
   "source": [
    "ef_bf1n2_s_us"
   ]
  },
  {
   "cell_type": "markdown",
   "id": "63a252ea-5731-40c2-bc62-ce837a42152f",
   "metadata": {
    "tags": []
   },
   "source": [
    "## Assessing metrics used in RNA velocity calculaiton and formating gene names to human readable"
   ]
  },
  {
   "cell_type": "markdown",
   "id": "f73804e4-33ce-476b-b7b4-382d9bb76b95",
   "metadata": {},
   "source": [
    "Saving the contents of var as csv"
   ]
  },
  {
   "cell_type": "code",
   "execution_count": null,
   "id": "6576f7ce-fb65-4b47-a996-4fb81f44fe5b",
   "metadata": {
    "tags": []
   },
   "outputs": [],
   "source": [
    "# for obj1, day in zip(ef_qcd_bf1_scv, v3_days):\n",
    "#     obj1.var.to_csv(\"data/processed/PfDB52e/day5/sone_ksc/ef_qcd_bf1_\" + day + \".csv\")\n"
   ]
  },
  {
   "cell_type": "code",
   "execution_count": null,
   "id": "9af3d61c-103c-4419-8d0e-eee4dcc6fd4a",
   "metadata": {},
   "outputs": [],
   "source": [
    "# for obj2, day in zip(ef_bf1n2_s_us, v3_days_fnl):\n",
    "#     obj2.var.to_csv(\"data/processed/PfDB52e/day5/sone_ksc/ef_qcd_bf2_\" + day + \".csv\")"
   ]
  },
  {
   "cell_type": "code",
   "execution_count": null,
   "id": "543fdd07-97f1-4fe9-adc1-f5997f672bb8",
   "metadata": {},
   "outputs": [],
   "source": [
    "# ef_qcd_bf1_d5_scv.var.to_csv(\"pfvelo.csv\")"
   ]
  },
  {
   "cell_type": "code",
   "execution_count": null,
   "id": "eb91497e-d7a1-4d3c-b9d1-7244c3bdf1eb",
   "metadata": {},
   "outputs": [],
   "source": [
    "sc.pl.umap(ef_bf1n2_s_us[0], color=\"stage_bfs\", components='2,3')"
   ]
  },
  {
   "cell_type": "code",
   "execution_count": null,
   "id": "d0a6e12f-1063-423a-b964-0d237c8ed2bf",
   "metadata": {},
   "outputs": [],
   "source": [
    "sc.pl.umap(ef_bf1n2_s_us[1], color=\"stage_bfs\", components='2,3')"
   ]
  },
  {
   "cell_type": "markdown",
   "id": "102f8c51-6020-43ba-92b2-2a930baa1c55",
   "metadata": {},
   "source": [
    "Reading in plasmoDB data to merge with scv objects so as to get human readable gene names"
   ]
  },
  {
   "cell_type": "code",
   "execution_count": null,
   "id": "bb6fda9f-4c6b-4e6d-9612-59068f6cde49",
   "metadata": {},
   "outputs": [],
   "source": [
    "Pf3D7_genes_plasmoDB = pd.read_csv(\"data/raw/Pf3d7_Genes_Summary_190322.csv\")"
   ]
  },
  {
   "cell_type": "code",
   "execution_count": null,
   "id": "565372e4-ee8d-4de8-84f7-9f525678a116",
   "metadata": {},
   "outputs": [],
   "source": [
    "Pf3D7_genes_plasmoDB.columns"
   ]
  },
  {
   "cell_type": "markdown",
   "id": "af9371a9-9e84-429a-a141-76723f6588c5",
   "metadata": {},
   "source": [
    "Rename column name \"Gene Name or Symbol\" to \"Gene\" "
   ]
  },
  {
   "cell_type": "code",
   "execution_count": null,
   "id": "a3a27a74-af18-4bc7-8bde-159628f305e4",
   "metadata": {
    "tags": []
   },
   "outputs": [],
   "source": [
    "Pf3D7_genes_plasmoDB.rename(columns={\"Gene Name or Symbol\" : \"Gene\"}, inplace=True)"
   ]
  },
  {
   "cell_type": "markdown",
   "id": "16bece4e-b611-4e44-8b84-5d34d7a354ce",
   "metadata": {},
   "source": [
    "Set 'Gene ID' as index in preparation for merging with var DF in scvelo anndata object"
   ]
  },
  {
   "cell_type": "code",
   "execution_count": null,
   "id": "e055cf01-db78-46f1-8540-86dd0fb0551a",
   "metadata": {
    "tags": []
   },
   "outputs": [],
   "source": [
    "Pf3D7_genes_plasmoDB.set_index(keys = \"Gene ID\", drop=False, append=False, inplace=True, verify_integrity=False)"
   ]
  },
  {
   "cell_type": "markdown",
   "id": "111c4e59-ed3d-4887-a5d5-ff79c993833b",
   "metadata": {},
   "source": [
    "Remove rows with duplicated index (ie duplicated 'Gene ID')"
   ]
  },
  {
   "cell_type": "code",
   "execution_count": null,
   "id": "1ccf25c0-6d80-4a5b-b637-59f5650e9064",
   "metadata": {},
   "outputs": [],
   "source": [
    "Pf3D7_genes_plasmoDB = Pf3D7_genes_plasmoDB[~Pf3D7_genes_plasmoDB.index.duplicated(keep='first')]"
   ]
  },
  {
   "cell_type": "markdown",
   "id": "19b5bd32-3d45-4239-8945-4fb1c469d5ca",
   "metadata": {},
   "source": [
    "Replacing the NaNs in 'Gene' with pf 'Gene ID' ie the table index"
   ]
  },
  {
   "cell_type": "code",
   "execution_count": null,
   "id": "06f2b5de-9f7b-4274-a58b-102004de6bdb",
   "metadata": {},
   "outputs": [],
   "source": [
    "nan_strings = [\"{}\".format(i) for i in Pf3D7_genes_plasmoDB['Gene ID']]"
   ]
  },
  {
   "cell_type": "code",
   "execution_count": null,
   "id": "b3dcd42c-e0c7-4e1c-abba-4b1d0eb3ed12",
   "metadata": {},
   "outputs": [],
   "source": [
    "Pf_genes_noNA=pd.DataFrame(Pf3D7_genes_plasmoDB['Gene']).apply(lambda c: c.where(c.notnull(), nan_strings))"
   ]
  },
  {
   "cell_type": "code",
   "execution_count": null,
   "id": "6e65f5b4-a7ae-4b79-a311-6d299f7b3380",
   "metadata": {},
   "outputs": [],
   "source": [
    "from socket import socket"
   ]
  },
  {
   "cell_type": "markdown",
   "id": "604d5284-437a-4352-8aee-38887b7dfe6e",
   "metadata": {},
   "source": [
    "Sorting duplicates in 'Gene' such as VAR, RIF, AP2 by merging with 'Gene ID' to get all the gene IDs to be unique"
   ]
  },
  {
   "cell_type": "code",
   "execution_count": null,
   "id": "642e4a6f-ab84-4c82-9d3b-c2adffc151ec",
   "metadata": {
    "tags": []
   },
   "outputs": [],
   "source": [
    "gene_id_name = [m+'_'+str(n) for m,n in zip(Pf3D7_genes_plasmoDB['Gene ID'], Pf3D7_genes_plasmoDB['Gene'])]"
   ]
  },
  {
   "cell_type": "code",
   "execution_count": null,
   "id": "cea60342-2dd2-4ba3-bb67-bd6fe0f64360",
   "metadata": {
    "tags": []
   },
   "outputs": [],
   "source": [
    "Pf_genes_noNA_noDup=Pf_genes_noNA.apply(lambda c: c.where(~c.duplicated(), gene_id_name)).drop_duplicates(keep='first')"
   ]
  },
  {
   "cell_type": "code",
   "execution_count": null,
   "id": "3012a63b-b5c0-422a-ae81-b59f4a95576d",
   "metadata": {
    "tags": []
   },
   "outputs": [],
   "source": [
    "Pf_genes_noNA_noDup"
   ]
  },
  {
   "cell_type": "markdown",
   "id": "991bd7ee-3e56-4dee-9ea7-1e2786f6cec4",
   "metadata": {},
   "source": [
    "Merge Pf_genes_noNA_noDup which is an offshoot of Pf3D7_genes_plasmoDB that has formatted 'Gene' names with its parent table to keep only important variables\n",
    "\n",
    "Need to check to ensure that the was proper copying at the and not just referencing as is common python behavior"
   ]
  },
  {
   "cell_type": "code",
   "execution_count": null,
   "id": "b6f5071a-adf5-4d99-8bf8-3a360b136f83",
   "metadata": {},
   "outputs": [],
   "source": [
    "Pf_genes_cln = pd.merge(Pf_genes_noNA_noDup, Pf3D7_genes_plasmoDB[[\"source_id\", \"Gene ID\", \"NonSyn/Syn SNP Ratio All Strains\", \"# Exons in Gene\", 'Annotated 3\\' UTR length', 'Annotated 5\\' UTR length', 'Gene Strand', 'Transcript Length', 'Computed GO Functions', 'Computed GO Components', 'Computed GO Processes', 'Curated GO Components', 'Curated GO Functions', 'Curated GO Processes']], how='left', left_index = True, right_index = True)"
   ]
  },
  {
   "cell_type": "code",
   "execution_count": null,
   "id": "375f916d-0115-4114-998a-ec276e2a6736",
   "metadata": {
    "tags": []
   },
   "outputs": [],
   "source": [
    "pd.DataFrame(Pf_genes_cln)"
   ]
  },
  {
   "cell_type": "code",
   "execution_count": null,
   "id": "644efb5a-a96d-444a-aac7-be4fffdabf38",
   "metadata": {
    "tags": []
   },
   "outputs": [],
   "source": [
    "# pd.DataFrame(Pf_genes_cln)['Annotated 5\\' UTR length']"
   ]
  },
  {
   "cell_type": "markdown",
   "id": "56858c8e-a270-4ac9-9abd-734a66057911",
   "metadata": {},
   "source": [
    "Merging the formatted PlasmoDB gene names and other metadata with the var DF in the anndata and replacing any NAs in the Gene name with the var index which is the gene ID. "
   ]
  },
  {
   "cell_type": "code",
   "execution_count": null,
   "id": "0d3d2f42-f957-411c-8eef-2ab639423507",
   "metadata": {},
   "outputs": [],
   "source": [
    "##Incorporate Pf gene names\n",
    "# Pf3D7_gene_list_nonNA_bf1 = []\n",
    "for obj1 in ef_bf1n2_s_us:\n",
    "    obj1.var = pd.merge(obj1.var, Pf_genes_cln[[\"source_id\", \"Gene\",  \"Gene ID\", \"NonSyn/Syn SNP Ratio All Strains\", \"# Exons in Gene\", 'Annotated 3\\' UTR length', 'Annotated 5\\' UTR length', 'Gene Strand', 'Transcript Length', 'Computed GO Functions', 'Computed GO Components', 'Computed GO Processes', 'Curated GO Components', 'Curated GO Functions', 'Curated GO Processes']], how='left', left_index = True, right_index = True)\n",
    "    ##Creating a vector of gene ids to use in stead of genes with no gene names\n",
    "    nan_strings = [\"{}\".format(i) for i in obj1.var.index]\n",
    "    obj1.var['Gene'] = pd.DataFrame(obj1.var.Gene).apply(lambda c: c.where(c.notnull(), nan_strings))\n",
    "    "
   ]
  },
  {
   "cell_type": "markdown",
   "id": "a8bbc87b-0031-4f4a-9b94-db4b853eab81",
   "metadata": {},
   "source": [
    "Checking for duplicates in the Gene column of var"
   ]
  },
  {
   "cell_type": "code",
   "execution_count": null,
   "id": "955c9cf7-63fa-4bf9-b1bd-8f6489c40090",
   "metadata": {
    "tags": []
   },
   "outputs": [],
   "source": [
    "for obj1 in ef_bf1n2_s_us:\n",
    "    print(pd.DataFrame(obj1.var.Gene).duplicated().any())\n"
   ]
  },
  {
   "cell_type": "markdown",
   "id": "276da917-b8c6-4eed-bc63-568479f69747",
   "metadata": {},
   "source": [
    "setting Gene column in var DF to index and removing the index name"
   ]
  },
  {
   "cell_type": "markdown",
   "id": "820bcb25-6dde-4917-bae5-9c8c3be19c1f",
   "metadata": {},
   "source": [
    "Adding QC metrics for unspliced, spliced and ambigous counts"
   ]
  },
  {
   "cell_type": "code",
   "execution_count": null,
   "id": "1bf149fd-5cbc-4b3f-8261-084180448474",
   "metadata": {},
   "outputs": [],
   "source": [
    "for obj in ef_bf1n2_s_us:\n",
    "    sc.pp.calculate_qc_metrics(obj, \n",
    "                               expr_type='unspliced', \n",
    "                               var_type='unspliced', \n",
    "                               percent_top=(50, 100), \n",
    "                               layer='unspliced', \n",
    "                               inplace=True, \n",
    "                               log1p=True)\n",
    "    sc.pp.calculate_qc_metrics(obj, \n",
    "                               expr_type='spliced', \n",
    "                               var_type='spliced', \n",
    "                               percent_top=(50, 100), \n",
    "                               layer='spliced', \n",
    "                               inplace=True, \n",
    "                               log1p=True)\n",
    "    sc.pp.calculate_qc_metrics(obj, \n",
    "                               expr_type='ambiguous', \n",
    "                               var_type='ambiguous', \n",
    "                               percent_top=(50, 100), \n",
    "                               layer='ambiguous', \n",
    "                               inplace=True, \n",
    "                               log1p=True)"
   ]
  },
  {
   "cell_type": "code",
   "execution_count": null,
   "id": "e36dd154-0e1d-48e4-8cf2-336ab1754fe0",
   "metadata": {},
   "outputs": [],
   "source": [
    "ef_bf1n2_s_us[1].var.columns"
   ]
  },
  {
   "cell_type": "code",
   "execution_count": null,
   "id": "b12aa66d-e3df-4526-9e94-8c94a4caaf2a",
   "metadata": {},
   "outputs": [],
   "source": [
    "import seaborn as sns"
   ]
  },
  {
   "cell_type": "code",
   "execution_count": null,
   "id": "902cef66-72fa-4dc3-bec0-73abb57b3172",
   "metadata": {},
   "outputs": [],
   "source": [
    "sns.jointplot(\n",
    "    data=ef_bf1n2_s_us[1].var,\n",
    "    x=\"log1p_total_spliced\",\n",
    "    y=\"log1p_total_unspliced\",\n",
    "    kind=\"hex\",\n",
    ")"
   ]
  },
  {
   "cell_type": "code",
   "execution_count": null,
   "id": "9aab5645-29ab-4111-bae9-dbe642e1e093",
   "metadata": {},
   "outputs": [],
   "source": [
    "sns.scatterplot(\n",
    "    data=ef_bf1n2_s_us[1].var,\n",
    "    x=\"total_spliced\",\n",
    "    y=\"total_unspliced\",\n",
    "    # kind=\"hex\",\n",
    ")"
   ]
  },
  {
   "cell_type": "code",
   "execution_count": null,
   "id": "7913df48-7fa9-4f09-8e0c-68f61bfcc06f",
   "metadata": {},
   "outputs": [],
   "source": [
    "sns.jointplot(\n",
    "    data=ef_bf1n2_s_us[1].var,\n",
    "    x=\"# Exons in Gene\",\n",
    "    y=\"total_unspliced\",\n",
    "    kind=\"hex\",\n",
    ")"
   ]
  },
  {
   "cell_type": "code",
   "execution_count": null,
   "id": "0a4859bc-68f5-44df-b9be-2f54fb601c43",
   "metadata": {},
   "outputs": [],
   "source": [
    "sns.scatterplot(\n",
    "    data=ef_bf1n2_s_us[1].var,\n",
    "    x=\"# Exons in Gene\",\n",
    "    y=\"log1p_total_unspliced\",\n",
    "    # kind=\"hex\",\n",
    ")"
   ]
  },
  {
   "cell_type": "code",
   "execution_count": null,
   "id": "1e65c6cf-7e28-4643-b4b1-6b48d75a2518",
   "metadata": {},
   "outputs": [],
   "source": [
    "sns.scatterplot(\n",
    "    data=ef_bf1n2_s_us[1].var,\n",
    "    x=\"Annotated 3' UTR length\",\n",
    "    y=\"total_unspliced\",\n",
    "    # kind=\"hex\",\n",
    ")"
   ]
  },
  {
   "cell_type": "code",
   "execution_count": null,
   "id": "f96595e9-1028-4a83-ae1a-818d6044d6b6",
   "metadata": {},
   "outputs": [],
   "source": [
    "sns.scatterplot(\n",
    "    data=ef_bf1n2_s_us[1].var,\n",
    "    x=\"Annotated 5' UTR length\",\n",
    "    y=\"total_unspliced\",\n",
    "    # kind=\"hex\",\n",
    ")"
   ]
  },
  {
   "cell_type": "code",
   "execution_count": null,
   "id": "722ab00d-d735-4f00-9c7a-130f2dade242",
   "metadata": {},
   "outputs": [],
   "source": [
    "sns.scatterplot(\n",
    "    data=ef_bf1n2_s_us[1].var,\n",
    "    x=\"Transcript Length\",\n",
    "    y=\"total_unspliced\",\n",
    "    # kind=\"hex\",\n",
    ")"
   ]
  },
  {
   "cell_type": "code",
   "execution_count": null,
   "id": "e192ec83-b95e-4c54-82c5-379912e8eeba",
   "metadata": {},
   "outputs": [],
   "source": [
    "sns.scatterplot(\n",
    "    data=ef_bf1n2_s_us[1].var,\n",
    "    x=\"NonSyn/Syn SNP Ratio All Strains\",\n",
    "    y=\"total_unspliced\",\n",
    "    # kind=\"hex\",\n",
    ")"
   ]
  },
  {
   "cell_type": "code",
   "execution_count": null,
   "id": "dafc20cb-cecf-495a-9587-1445d001a9cd",
   "metadata": {
    "tags": []
   },
   "outputs": [],
   "source": [
    "sns.scatterplot(\n",
    "    data=ef_bf1n2_s_us[1].var,\n",
    "    x=\"Transcript Length\",\n",
    "    y=\"total_unspliced\",\n",
    "    # kind=\"hex\",\n",
    ")"
   ]
  },
  {
   "cell_type": "markdown",
   "id": "16cd8e34-9b9d-4e92-a2f7-ee31a19836a8",
   "metadata": {},
   "source": [
    "Plotting correlation of spliced and unspliced counts"
   ]
  },
  {
   "cell_type": "code",
   "execution_count": null,
   "id": "cf5582a3-5940-484c-a295-ff305bdf2383",
   "metadata": {
    "tags": []
   },
   "outputs": [],
   "source": [
    "for obj1 in ef_bf1n2_s_us:\n",
    "    sc.pl.scatter(obj, x= 'initial_size_spliced', y='initial_size_unspliced')"
   ]
  },
  {
   "cell_type": "code",
   "execution_count": null,
   "id": "75203d56-52d6-449f-bd0d-a60c6925b820",
   "metadata": {
    "tags": []
   },
   "outputs": [],
   "source": [
    "ef_bf1n2_s_us[1].var"
   ]
  },
  {
   "cell_type": "markdown",
   "id": "13150539-27ed-4b50-9e55-f70b12cc00b0",
   "metadata": {},
   "source": [
    "Plotting the spliced unspliced distribution"
   ]
  },
  {
   "cell_type": "code",
   "execution_count": null,
   "id": "4b963958-1b36-4476-a74c-b6a944ef39e4",
   "metadata": {
    "tags": []
   },
   "outputs": [],
   "source": [
    "for obj2 in ef_bf1n2_s_us:\n",
    "    sc.pl.violin(obj2, ['initial_size_spliced', 'initial_size_unspliced', 'initial_size'], jitter=0.4, multi_panel=True)"
   ]
  },
  {
   "cell_type": "code",
   "execution_count": null,
   "id": "b827c903-7422-4b26-9af6-f69bb2917ea3",
   "metadata": {},
   "outputs": [],
   "source": [
    "#############      JUMP TO scv.tl.recover_dynamics()################"
   ]
  },
  {
   "cell_type": "markdown",
   "id": "ce3b7be9-bb05-4666-9981-12aabde1e3f2",
   "metadata": {},
   "source": [
    "Check scvelo version"
   ]
  },
  {
   "cell_type": "code",
   "execution_count": null,
   "id": "401e9ca0-0484-4e6b-8e49-67f7edf35f22",
   "metadata": {},
   "outputs": [],
   "source": [
    "scv.logging.print_version()"
   ]
  },
  {
   "cell_type": "code",
   "execution_count": null,
   "id": "ac09346b-654a-4b50-a89e-07e46f65c018",
   "metadata": {},
   "outputs": [],
   "source": [
    "#############      JUMP here scv.tl.recover_dynamics()################"
   ]
  },
  {
   "cell_type": "markdown",
   "id": "4e6f47bd-c9d0-4c3b-a129-2b44712aef6c",
   "metadata": {},
   "source": [
    "Plotting proportion of spliced and unspliced counts"
   ]
  },
  {
   "cell_type": "code",
   "execution_count": null,
   "id": "73b02900-8d5e-41f1-853b-8aad5f7be343",
   "metadata": {},
   "outputs": [],
   "source": [
    "v3_days_fnl = ['bf1','bf2']"
   ]
  },
  {
   "cell_type": "code",
   "execution_count": null,
   "id": "daa56366-529d-4a95-be2e-57d1ae5d4553",
   "metadata": {
    "tags": []
   },
   "outputs": [],
   "source": [
    "for obj2, v3_day in zip(ef_bf1n2_s_us, v3_days_fnl):\n",
    "    scv.pl.proportions(obj2, groupby=\"stage_bfs\", save=\"plots/\"+v3_day+\"_bf2_splices_unsplices_props.png\")\n"
   ]
  },
  {
   "cell_type": "markdown",
   "id": "fb7de4a5-e99d-4dd9-936b-5cd17a2b2f19",
   "metadata": {
    "tags": []
   },
   "source": [
    "### RNA velocity - Stochastic"
   ]
  },
  {
   "cell_type": "code",
   "execution_count": null,
   "id": "c00cbb53-2e73-43cc-aa6d-717f17cb1037",
   "metadata": {},
   "outputs": [],
   "source": [
    "ef_scv_stochastic=[]\n",
    "for obj in ef_bf1n2_s_us:\n",
    "    ef_scv_stochastic.append(obj.copy())"
   ]
  },
  {
   "cell_type": "code",
   "execution_count": null,
   "id": "f9d8231d-2033-45cd-b0c7-4a4fc0406073",
   "metadata": {
    "tags": []
   },
   "outputs": [],
   "source": [
    "ef_bf1n2_s_us"
   ]
  },
  {
   "cell_type": "code",
   "execution_count": null,
   "id": "d1e1ed74-bbd2-4982-80b8-a927b42465c2",
   "metadata": {},
   "outputs": [],
   "source": [
    "for obj1 in ef_scv_stochastic:\n",
    "    scv.tl.velocity(obj1, mode='stochastic', n_jobs=5, min_r2=0.2, perc = [20, 80])\n",
    "    scv.tl.velocity_graph(obj1)"
   ]
  },
  {
   "cell_type": "code",
   "execution_count": null,
   "id": "c4abac8a-02ed-4b01-85a9-c57696eb5694",
   "metadata": {},
   "outputs": [],
   "source": [
    "for obj in ef_scv_stochastic:\n",
    "    scv.pl.velocity_embedding_stream(obj, basis='umap', projection=\"3d\", components='2,3', color='stage_bfs')\n",
    "    # scv.pl.velocity_embedding(obj, basis='umap', components='2,3', arrow_length=2, arrow_size=2)\n",
    "    scv.pl.velocity_embedding_grid(obj, basis='umap', components='2,3', arrow_length=2, arrow_size=2)"
   ]
  },
  {
   "cell_type": "markdown",
   "id": "ec61b4fc-9d79-4160-8af1-7c3fb2ecaf71",
   "metadata": {
    "tags": []
   },
   "source": [
    "### RNA velocity - Dynamical"
   ]
  },
  {
   "cell_type": "code",
   "execution_count": null,
   "id": "9a7234fb-e032-4379-9e1d-4152b6f55b4b",
   "metadata": {},
   "outputs": [],
   "source": [
    "ef_scv_dynamical=[]\n",
    "for obj in ef_bf1n2_s_us:\n",
    "    ef_scv_dynamical.append(obj.copy())"
   ]
  },
  {
   "cell_type": "code",
   "execution_count": null,
   "id": "f015c583-47bb-4f28-82d3-e6288ba327a6",
   "metadata": {},
   "outputs": [],
   "source": [
    "for obj in ef_scv_dynamical:\n",
    "    scv.tl.recover_dynamics(obj, n_jobs=8, max_iter=20, use_raw=True)"
   ]
  },
  {
   "cell_type": "code",
   "execution_count": null,
   "id": "92ff650b-5c28-41b2-9772-aff68a21fdba",
   "metadata": {},
   "outputs": [],
   "source": [
    "ef_scv_dynamical[1].obs['orig.ident']"
   ]
  },
  {
   "cell_type": "code",
   "execution_count": null,
   "id": "44f43524-cace-4181-ad4c-7d41052d896d",
   "metadata": {},
   "outputs": [],
   "source": [
    "for obj in ef_scv_dynamical:\n",
    "    scv.tl.velocity(obj, mode='dynamical', n_jobs=5, groupby='orig.ident', min_likelihood=0.05, min_r2=0.2)\n",
    "    scv.tl.velocity_graph(obj)"
   ]
  },
  {
   "cell_type": "code",
   "execution_count": null,
   "id": "7690b044-e1fe-4368-8241-21e2fd9bdf08",
   "metadata": {},
   "outputs": [],
   "source": [
    "for obj in ef_scv_dynamical:\n",
    "    scv.pl.velocity_embedding_stream(obj, basis='umap', projection=\"3d\", components='1,3', color='stage_bfs')\n",
    "    # scv.pl.velocity_embedding(obj, basis='umap', components='2,3', arrow_length=2, arrow_size=2)\n",
    "    scv.pl.velocity_embedding_grid(obj, basis='umap', components='2,3', arrow_length=2, arrow_size=2)"
   ]
  },
  {
   "cell_type": "markdown",
   "id": "ac6167c9-3feb-476c-8898-1286a92e1d43",
   "metadata": {},
   "source": []
  },
  {
   "cell_type": "markdown",
   "id": "c0a14fa4-c77c-41a1-9134-a20fc263ddb2",
   "metadata": {
    "tags": []
   },
   "source": [
    "# Driver genes at specific clusters"
   ]
  },
  {
   "cell_type": "markdown",
   "id": "a24716e3-4c75-43e3-af2c-9ce8e40b2fa6",
   "metadata": {
    "tags": []
   },
   "source": [
    "## Pseudotime cellrank estimation"
   ]
  },
  {
   "cell_type": "markdown",
   "id": "ae7a4c50-9276-4e42-9c2e-10ded0874ff0",
   "metadata": {},
   "source": [
    "Recovering all splicing kinetics using expectation maximization likelihood but estimating velocity genes using steady state model if the 'velocity_genes' column not present in var. ('If var_names=’velocity_genes’ but there is no column ‘velocity_genes’ in adata.var, velocity genes are estimated using the steady state model').\n",
    "More details on estimation estimation of velocity genes here https://github.com/theislab/scvelo/issues/497\n",
    "\n",
    "Transcription rate (alpha), splicing rate (beta), degradation rate (gamma), switching timepoints, latent time (cell's internal clock), likelihood of model fit and scaling factors etc are iteratively inferred by maximizing joint likelihood.\n",
    "\n",
    "The option use_raw = True can be used to direct the use of raw spliced (.layers[‘sliced’]) counts to be used in estimating the dynamics as opposed to moments in .layers[‘Ms’]. this seems to be recomended here https://www.biorxiv.org/content/10.1101/2022.02.12.480214v1"
   ]
  },
  {
   "cell_type": "code",
   "execution_count": null,
   "id": "bab1e92d-72e9-489f-80fb-f47786949b29",
   "metadata": {},
   "outputs": [],
   "source": [
    "ef_scv_PK=[]\n",
    "for obj in ef_bf1n2_s_us:\n",
    "    ef_scv_PK.append(obj.copy())"
   ]
  },
  {
   "cell_type": "code",
   "execution_count": null,
   "id": "0fc61833-ed6a-4127-93c1-5c9296a08b95",
   "metadata": {
    "tags": []
   },
   "outputs": [],
   "source": [
    "ef_scv_PK[1].obs.pseudo_mg"
   ]
  },
  {
   "cell_type": "code",
   "execution_count": null,
   "id": "b25d279f-81d8-4f99-87bd-6110eea3769a",
   "metadata": {},
   "outputs": [],
   "source": [
    "plt.rcParams[\"figure.figsize\"] = (7, 5)\n",
    "for i, obj in enumerate(ef_scv_PK):\n",
    "    scv.pl.scatter(\n",
    "        obj,\n",
    "        c=\"pseudo_mg\",\n",
    "        basis=\"umap\",\n",
    "        legend_loc=\"right\",\n",
    "        color_map=\"gnuplot2\",\n",
    "        components='2,3'\n",
    ")\n",
    "    plt.rcParams[\"figure.figsize\"] = (7, 5)"
   ]
  },
  {
   "cell_type": "code",
   "execution_count": null,
   "id": "fec632d4-9b51-43a3-8b41-9699d51f8e0b",
   "metadata": {},
   "outputs": [],
   "source": [
    "# for obj, v3_day in zip(ef_scv_PK, v3_days_all_fnl):\n",
    "#     scv.pl.velocity_embedding_stream(\n",
    "#     adata, color=\"Stage\", vkey=\"T_fwd\", basis=\"force_directed\", legend_loc=\"right\"\n",
    "# )"
   ]
  },
  {
   "cell_type": "markdown",
   "id": "becf7d48-fcb8-45b2-aaef-4fd47d4b8be7",
   "metadata": {},
   "source": [
    "End - Kernels and estimators"
   ]
  },
  {
   "cell_type": "code",
   "execution_count": null,
   "id": "5f16fffd-6081-4818-9f7d-26f4d36d0922",
   "metadata": {
    "tags": []
   },
   "outputs": [],
   "source": [
    "# for obj, v3_day in zip(ef_scv_PK, v3_days_all_fnl):\n",
    "#     scv.pl.velocity_embedding_stream(obj, basis='umap', projection=\"3d\", components='2,3', color='stage_bfs')\n",
    "#     # scv.pl.velocity_embedding(obj, basis='umap', components='2,3', arrow_length=2, arrow_size=2)\n",
    "#     scv.pl.velocity_embedding_grid(obj, basis='umap', components='2,3', arrow_length=2, arrow_size=2)"
   ]
  },
  {
   "cell_type": "code",
   "execution_count": null,
   "id": "6b546023-c512-431c-ae5a-185f2c81fd6a",
   "metadata": {},
   "outputs": [],
   "source": [
    "asx_gam_cols = [\"#ECE2F0\", \"#D0D1E6\", \"#6BAED6\", \"#4292C6\", \"#2171B5\", \"#FDAE6B\", \"#E6550D\", \"#A1D99B\", \"#31A354\", \"#02818A\", \"#016C59\"]"
   ]
  },
  {
   "cell_type": "code",
   "execution_count": null,
   "id": "29e49b9b-4c49-4e1c-8fcf-9a94c3b54d8d",
   "metadata": {},
   "outputs": [],
   "source": [
    "asx_gam_cols_dict = dict(zip(ef_scv_PK[0].obs.stage_bfs.cat.categories.tolist(), asx_gam_cols))"
   ]
  },
  {
   "cell_type": "code",
   "execution_count": null,
   "id": "e7bfba7e-21e6-4f16-a23f-3684ef7eca75",
   "metadata": {},
   "outputs": [],
   "source": [
    "ef_scv_PK[1].obs.value_counts('stage_bfs')"
   ]
  },
  {
   "cell_type": "code",
   "execution_count": null,
   "id": "a4ec4854-6612-4fb8-b1d8-ffcb1bc46b77",
   "metadata": {},
   "outputs": [],
   "source": [
    "# scv.pl.velocity_embedding_stream(ef_scv_PK[0], basis='umap', projection=\"3d\", components='2,3', color='stage_bfs', palette=asx_gam_cols_dict)"
   ]
  },
  {
   "cell_type": "code",
   "execution_count": null,
   "id": "0f76073a-8e97-4d7b-9a28-ad8be2e83044",
   "metadata": {
    "tags": []
   },
   "outputs": [],
   "source": [
    "# scv.pl.velocity_embedding_stream(ef_scv_PK[0], basis='umap', projection=\"3d\", components='2,3', color='stage_bfs', palette=asx_gam_cols_dict, add_outline=['early trophozoite', 'Gametocytes (developing)','Gametocytes (branching)','Gametocytes (early male)','Gametocytes (late male)','Gametocytes (early female)','Gametocytes (late female)', 'early schizont'])\n",
    "    # scv.pl.velocity_embedding(obj, basis='umap', components='2,3', arrow_length=2, arrow_size=2)\n",
    "# scv.pl.velocity_embedding_grid(ef_scv_PK_lbld, basis='umap', components='2,3', arrow_length=2, arrow_size=2)"
   ]
  },
  {
   "cell_type": "code",
   "execution_count": null,
   "id": "600eeeed-e30c-4c3e-ac3f-ed99c10df98d",
   "metadata": {
    "tags": []
   },
   "outputs": [],
   "source": [
    "# scv.pl.velocity_embedding_stream(ef_scv_PK[0], basis='umap', projection=\"3d\", components='2,3', color='stage_bfs', palette=asx_gam_cols_dict, add_outline=['early trophozoite', 'late ring', 'Gametocytes (developing)', 'early schizont'])\n",
    "    # scv.pl.velocity_embedding(obj, basis='umap', components='2,3', arrow_length=2, arrow_size=2)\n",
    "# scv.pl.velocity_embedding_grid(ef_scv_PK_lbld, basis='umap', components='2,3', arrow_length=2, arrow_size=2)"
   ]
  },
  {
   "cell_type": "code",
   "execution_count": null,
   "id": "c42daf98-b124-40f6-9b18-894dc96d521d",
   "metadata": {
    "tags": []
   },
   "outputs": [],
   "source": [
    "# scv.pl.velocity_embedding_stream(ef_scv_PK[0], basis='umap', projection=\"3d\", components='2,3', color='stage_bfs', palette=asx_gam_cols_dict, add_outline=['Gametocytes (committed)', 'Gametocytes (developing)', 'Gametocytes (late male)', 'Gametocytes (late female)'])\n",
    "    # scv.pl.velocity_embedding(obj, basis='umap', components='2,3', arrow_length=2, arrow_size=2)\n",
    "# scv.pl.velocity_embedding_grid(ef_scv_PK_lbld, basis='umap', components='2,3', arrow_length=2, arrow_size=2)"
   ]
  },
  {
   "cell_type": "code",
   "execution_count": null,
   "id": "8af00c49-10c5-47f9-94f6-7021e64155e0",
   "metadata": {
    "tags": []
   },
   "outputs": [],
   "source": [
    "# scv.pl.velocity_embedding_stream(ef_scv_PK[0], basis='umap', projection=\"3d\", components='2,3', color='stage_bfs', palette=asx_gam_cols_dict, add_outline=['Gametocytes (developing)','Gametocytes (branching)', 'Gametocytes (late male)', 'Gametocytes (late female)'],size=20, fontsize=1)\n",
    "    # scv.pl.velocity_embedding(obj, basis='umap', components='2,3', arrow_length=2, arrow_size=2)\n",
    "# scv.pl.velocity_embedding_grid(ef_scv_PK_lbld, basis='umap', components='2,3', arrow_length=2, arrow_size=2)"
   ]
  },
  {
   "cell_type": "markdown",
   "id": "c61e8afb-b8b5-4dee-97af-3f21dc8800fd",
   "metadata": {
    "tags": []
   },
   "source": [
    "### Cellrank"
   ]
  },
  {
   "cell_type": "markdown",
   "id": "8c0e414d-afdd-4fd0-b829-c2e321819f90",
   "metadata": {},
   "source": [
    "Start - Kernels and estimators "
   ]
  },
  {
   "cell_type": "markdown",
   "id": "54645239-ddb8-4414-9f32-e0c0d5357c7c",
   "metadata": {},
   "source": [
    "Low level Kernels and estimators"
   ]
  },
  {
   "cell_type": "code",
   "execution_count": null,
   "id": "03a73a0a-a72f-45a0-bd32-dfaf26139340",
   "metadata": {
    "tags": []
   },
   "outputs": [],
   "source": [
    "ptk_bf = []\n",
    "for obj in ef_scv_PK:\n",
    "    ptk_bf.append(PseudotimeKernel(obj, time_key='pseudo_mg').compute_transition_matrix())\n",
    "    \n",
    "    # x = VelocityKernel(obj).compute_transition_matrix()\n",
    "    # vk_bf.append(x)\n",
    "    # # cr.tl.terminal_states(obj, cluster_key=\"Stage\", weight_connectivities=0.2)"
   ]
  },
  {
   "cell_type": "code",
   "execution_count": null,
   "id": "152fb956-3731-4803-8d6a-61131f202cba",
   "metadata": {},
   "outputs": [],
   "source": [
    "ptk_g_bf = []\n",
    "for ptk in ptk_bf:\n",
    "    x = cr.tl.estimators.GPCCA(ptk)\n",
    "    ptk_g_bf.append(x)\n",
    "    "
   ]
  },
  {
   "cell_type": "code",
   "execution_count": null,
   "id": "f612cdc9-c380-4cb4-986c-2af003530a2d",
   "metadata": {},
   "outputs": [],
   "source": [
    "ptk_g_bf"
   ]
  },
  {
   "cell_type": "code",
   "execution_count": null,
   "id": "4a3a545e-7a9a-47a9-9c70-a24a487175e3",
   "metadata": {
    "jupyter": {
     "outputs_hidden": true
    },
    "tags": []
   },
   "outputs": [],
   "source": [
    "for g in ptk_g_bf:\n",
    "    g.compute_schur(n_components=20)\n",
    "    g.plot_spectrum()"
   ]
  },
  {
   "cell_type": "code",
   "execution_count": null,
   "id": "f59ffde5-d7f7-47fe-a7f0-f56513fd6ed5",
   "metadata": {
    "tags": []
   },
   "outputs": [],
   "source": [
    "# for g in ptk_g_bf2:\n",
    "#     g.compute_schur(n_components=20)\n",
    "#     g.plot_spectrum()\n"
   ]
  },
  {
   "cell_type": "code",
   "execution_count": null,
   "id": "14e7ccea-ade1-4621-ad8c-f731dc78ef77",
   "metadata": {},
   "outputs": [],
   "source": [
    "for i, g in enumerate(ptk_g_bf):\n",
    "    if i == 0:\n",
    "        g.compute_macrostates(n_states=5, cluster_key=\"stage_bfs\")\n",
    "        g.plot_macrostates(components = '2,3')\n",
    "    else:\n",
    "        g.compute_macrostates(n_states=3, cluster_key=\"stage_bfs\")\n",
    "        g.plot_macrostates(components = '2,3')\n"
   ]
  },
  {
   "cell_type": "markdown",
   "id": "65fbb042-007d-4915-9af7-0d8ef85ded1a",
   "metadata": {},
   "source": [
    "Manually setting terminal states\n",
    "Combining late males and early males as terminal state for day 5 and using late male for all the other timepoints\n",
    "Using Early female as terminal state for day 5 and using late female for all the other days"
   ]
  },
  {
   "cell_type": "code",
   "execution_count": null,
   "id": "2c057205-6c16-45b6-9465-edd052cff2ca",
   "metadata": {},
   "outputs": [],
   "source": [
    "sc.pl.umap(ef_scv_PK[0], color='stage_bfs', components='2,3')"
   ]
  },
  {
   "cell_type": "code",
   "execution_count": null,
   "id": "03369f22-1596-4d0d-96af-b31be9559f91",
   "metadata": {},
   "outputs": [],
   "source": [
    "ef_scv_PK[1].obs.value_counts(['stage_bfs'])"
   ]
  },
  {
   "cell_type": "code",
   "execution_count": null,
   "id": "7e708fdf-95df-4848-b98f-b977acde919e",
   "metadata": {},
   "outputs": [],
   "source": [
    "# for i,g in enumerate(ptk_g_bf):\n",
    "#     if i == 0:\n",
    "#         g.set_terminal_states_from_macrostates(names= {\"Gametocytes (developing)\":\"Gametocyte\", \"late trophozoite\":\"Asexual\"}, n_cells=1700) \n",
    "#     else:\n",
    "#         g.set_terminal_states_from_macrostates(names= {\"gametocyte (male)\":\"Male\", \"gametocyte (female)\":\"Female\"}, n_cells=1700) \n"
   ]
  },
  {
   "cell_type": "code",
   "execution_count": null,
   "id": "bf9eb82c-5595-4cb7-a371-31a1f9e77fbc",
   "metadata": {},
   "outputs": [],
   "source": [
    "for i,g in enumerate(ptk_g_bf):\n",
    "    if i == 0:\n",
    "        g.set_terminal_states_from_macrostates(names= {\"Gametocytes (developing)\":\"Gametocyte\", \"late trophozoite\":\"Asexual\"}, n_cells=900) \n",
    "    else:\n",
    "        g.set_terminal_states_from_macrostates(names= {\"Gametocytes (late male)\":\"Male\", \"Gametocytes (late female)\":\"Female\"}, n_cells=900) \n"
   ]
  },
  {
   "cell_type": "code",
   "execution_count": null,
   "id": "2bd55324-7c54-4b1b-bc48-9892a693be9e",
   "metadata": {},
   "outputs": [],
   "source": [
    "# # ef_scv_PK[0][ef_scv_PK[0].obs[\"stage_bfs\"].isin([\"Gametocytes (developing)\",\"Gametocytes (branching)\",\"Gametocytes (early male)\",\"Gametocytes (late male)\",\"Gametocytes (early female)\",\"Gametocytes (late female)\" ])].obs.Stage\n",
    "# ef_scv_PK[0][ef_scv_PK[0].obs[\"stage_bfs\"].isin([\"Gametocytes (developing)\",\"Gametocytes (branching)\",\"Gametocytes (early male)\",\"Gametocytes (late male)\",\"Gametocytes (early female)\",\"Gametocytes (late female)\" ])].obs.Stage\n",
    "#                                   obj[obj.obs[\"stage_bfs\"].isin([\"Gametocytes (developing)\",\"Gametocytes (branching)\",\"Gametocytes (early male)\",\"Gametocytes (late male)\",\"Gametocytes (early female)\",\"Gametocytes (late female)\" ])].obs_names, \"Early schizont\": obj[obj.obs[\"stage_bfs\"] == \"early schizont\"].obs_names})"
   ]
  },
  {
   "cell_type": "code",
   "execution_count": null,
   "id": "0c8639a4-5903-433b-b502-17869caea168",
   "metadata": {},
   "outputs": [],
   "source": []
  },
  {
   "cell_type": "markdown",
   "id": "d36c00d7-1a94-4268-b36e-b8c2c49828ba",
   "metadata": {
    "tags": []
   },
   "source": [
    "### Early gam and asexual driver"
   ]
  },
  {
   "cell_type": "code",
   "execution_count": null,
   "id": "355466d5-bb68-4b8c-a0c4-25503bf9dba8",
   "metadata": {},
   "outputs": [],
   "source": []
  },
  {
   "cell_type": "code",
   "execution_count": null,
   "id": "0433acd3-10ca-459a-97d3-9633c8dc2df0",
   "metadata": {
    "tags": []
   },
   "outputs": [],
   "source": [
    "for g in ptk_g_bf:\n",
    "    g.compute_absorption_probabilities()"
   ]
  },
  {
   "cell_type": "code",
   "execution_count": null,
   "id": "0f073afa-9ca7-4c12-afc8-15fc03661886",
   "metadata": {
    "tags": []
   },
   "outputs": [],
   "source": [
    "for g in ptk_g_bf:\n",
    "    g.plot_absorption_probabilities(components ='2,3')"
   ]
  },
  {
   "cell_type": "code",
   "execution_count": null,
   "id": "86524cde-4ddf-4bc7-8fb5-301bc0e4eab4",
   "metadata": {},
   "outputs": [],
   "source": []
  },
  {
   "cell_type": "code",
   "execution_count": null,
   "id": "f5558ddf-7b77-47e9-a7a3-7537eb72a97b",
   "metadata": {},
   "outputs": [],
   "source": [
    "# for i,g in enumerate(ptk_g_bf):\n",
    "#     if i == 0:\n",
    "#         x = g.compute_lineage_drivers(lineages=\"Gametocyte\", return_drivers=True, cluster_key = 'stage_bfs', clusters= ['Gametocytes (committed)', 'early trophozoite'])\n",
    "#         early_gam_drivers.append(x)\n",
    "        \n",
    "#         g.set_terminal_states_from_macrostates(names= {\"Gametocytes (developing)\":\"Gametocyte\", \"late trophozoite\":\"Asexual\"}, n_cells=1700) \n",
    "#     else:\n",
    "#         x = g.compute_lineage_drivers(lineages=\"Late female\", return_drivers=True, cluster_key = 'stage_bfs', clusters= ['Gametocytes (developing)'])\n",
    "#         early_gam_drivers.append(x)\n",
    "        \n",
    "#         g.set_terminal_states_from_macrostates(names= {\"gametocyte (male)\":\"Late male\", \"gametocyte (female)\":\"Late female\"}, n_cells=1700) \n"
   ]
  },
  {
   "cell_type": "code",
   "execution_count": null,
   "id": "c078ed66-0fc9-4586-9c37-c7953cb6eb09",
   "metadata": {},
   "outputs": [],
   "source": [
    "ptk_g_bf_dr=[]\n",
    "ptk_g_bf_dr.append(ptk_g_bf[0])\n",
    "ptk_g_bf_dr.append(ptk_g_bf[0])"
   ]
  },
  {
   "cell_type": "code",
   "execution_count": null,
   "id": "e80c79f4-d880-436a-84dd-79d77b61a750",
   "metadata": {},
   "outputs": [],
   "source": [
    "len(early_gam_drivers)"
   ]
  },
  {
   "cell_type": "code",
   "execution_count": null,
   "id": "56e845f6-2e72-4c1b-b2b0-8367b38157c4",
   "metadata": {},
   "outputs": [],
   "source": [
    "early_gam_drivers = []\n",
    "for i, g in enumerate(ptk_g_bf_dr):\n",
    "    if i == 0:\n",
    "        early_gam_drivers.append(g.compute_lineage_drivers(lineages=\"Gametocyte\", return_drivers=True, cluster_key = 'stage_bfs', clusters= ['late ring','early trophozoite','Gametocytes (committed)']))\n",
    "    else:\n",
    "        early_gam_drivers.append(g.compute_lineage_drivers(lineages=\"Gametocyte\", return_drivers=True))"
   ]
  },
  {
   "cell_type": "code",
   "execution_count": null,
   "id": "d0842ad9-564d-42d9-968f-5b7c5f40d14f",
   "metadata": {},
   "outputs": [],
   "source": [
    "for drvs in early_gam_drivers:\n",
    "    print(drvs.index.tolist()[:10])"
   ]
  },
  {
   "cell_type": "code",
   "execution_count": null,
   "id": "c7238435-5ac5-451e-af77-14d5196dc7de",
   "metadata": {
    "jupyter": {
     "outputs_hidden": true
    },
    "tags": []
   },
   "outputs": [],
   "source": [
    "for g in ptk_g_bf_dr:\n",
    "    g.plot_lineage_drivers(\"Gametocyte\", n_genes=4, components='2,3')"
   ]
  },
  {
   "cell_type": "markdown",
   "id": "2aeeddd2-c674-4b45-afea-0a85ce7edf97",
   "metadata": {},
   "source": [
    "Computing driver genes in the gametocyte(branching) cluster that are driving cells to the male cluster"
   ]
  },
  {
   "cell_type": "markdown",
   "id": "fc6cf154-a561-436d-9757-dab5d3663c74",
   "metadata": {},
   "source": [
    "Plotting top 4 driver genes per timepoint"
   ]
  },
  {
   "cell_type": "markdown",
   "id": "722a4300-b4ce-4bb7-affd-c8cb5359fded",
   "metadata": {},
   "source": [
    "Upset plots to assess driver genes in branching gams that is shared between day10 new and day 10 old datasets and the 2 datasets combined using retaining only genes positively correlated to absorption probabilities towards terminal males where P < 0.001 as qvalue is NA https://github.com/theislab/cellrank/issues/819"
   ]
  },
  {
   "cell_type": "markdown",
   "id": "fe71ae82-78f7-4be6-a0a6-fa6ae36d08ee",
   "metadata": {},
   "source": [
    "Phase potraits highlighting behaviour of gene in 'Gametocytes (branching)' cluster. We should start seeing activation atleast in cells that will then on become female."
   ]
  },
  {
   "cell_type": "code",
   "execution_count": null,
   "id": "d41e9458-95a2-4036-b4d7-dc574decfb59",
   "metadata": {
    "jupyter": {
     "outputs_hidden": true
    },
    "tags": []
   },
   "outputs": [],
   "source": [
    "for i, drvs in enumerate(early_gam_drivers):\n",
    "    scv.pl.scatter(ef_scv_PK[0], drvs.index[0:4].to_list(), color=['stage_bfs'], add_outline=['late ring','early trophozoite','Gametocytes (committed)'])\n",
    "    scv.pl.scatter(ef_scv_PK[0], drvs.index[0:4].to_list(), color=['stage_bfs'], add_outline=['Gametocytes (developing)'])\n",
    "    scv.pl.scatter(ef_scv_PK[0], drvs.index[0:4].to_list(), color=['stage_bfs'], add_outline=['late trophozoite'])"
   ]
  },
  {
   "cell_type": "markdown",
   "id": "b98621e4-993a-488e-95b3-2e0f5c60f4ec",
   "metadata": {},
   "source": [
    "Phase potraits highlighting behaviour of gene in 'Gametocytes (early male)','Gametocytes (late male)' cluster. We should see activation"
   ]
  },
  {
   "cell_type": "markdown",
   "id": "84fb221b-e3db-4fc6-ab2e-dbc72b00c6c1",
   "metadata": {},
   "source": [
    "Summary table of the female driver genes in the 'Gametocytes (committed and developing)' for all timepoints"
   ]
  },
  {
   "cell_type": "code",
   "execution_count": null,
   "id": "c06c90aa-e04c-4f1a-84d9-0f9280b210ee",
   "metadata": {
    "tags": []
   },
   "outputs": [],
   "source": [
    "early_gam_drivers_bf1_pk=[]\n",
    "for drvs in early_gam_drivers:\n",
    "    early_gam_drivers_bf1_pk.append(pd.merge(drvs, Pf_genes_cln, how='left', left_index=True, right_index=True))"
   ]
  },
  {
   "cell_type": "code",
   "execution_count": null,
   "id": "429fc76e-5c86-4266-a9af-8bbddde8db4f",
   "metadata": {},
   "outputs": [],
   "source": [
    "corr_clust = ['bf1', 'all']"
   ]
  },
  {
   "cell_type": "code",
   "execution_count": null,
   "id": "156c03e0-abf2-4d3a-ae4a-4887b46bb667",
   "metadata": {},
   "outputs": [],
   "source": [
    "for drvs, cc in zip(early_gam_drivers_bf1_pk, corr_clust):\n",
    "    drvs.to_csv(processed_data + '../RoadtoUMAP/early_gam_drivers_bf1_pk_' + cc +'.csv')"
   ]
  },
  {
   "cell_type": "markdown",
   "id": "1e0d01ac-3939-466d-8bc4-6c9d7e0b2ec0",
   "metadata": {},
   "source": [
    "#### Asexual drivers"
   ]
  },
  {
   "cell_type": "code",
   "execution_count": null,
   "id": "f82f7468-e201-41d6-bff9-e7dd397a5399",
   "metadata": {},
   "outputs": [],
   "source": [
    "asexual_drivers = []\n",
    "for i, g in enumerate(ptk_g_bf_dr):\n",
    "    if i == 0:\n",
    "        asexual_drivers.append(g.compute_lineage_drivers(lineages=\"Asexual\", return_drivers=True, cluster_key = 'stage_bfs', clusters= ['late ring','early trophozoite','Gametocytes (committed)']))\n",
    "    else:\n",
    "        asexual_drivers.append(g.compute_lineage_drivers(lineages=\"Asexual\", return_drivers=True))"
   ]
  },
  {
   "cell_type": "code",
   "execution_count": null,
   "id": "7e69a639-6e17-4c36-b69e-0bff8afc0ace",
   "metadata": {},
   "outputs": [],
   "source": []
  },
  {
   "cell_type": "code",
   "execution_count": null,
   "id": "350a1647-c2f4-4d4e-83e5-a7e5bbac570a",
   "metadata": {},
   "outputs": [],
   "source": [
    "asexual_drivers[1]"
   ]
  },
  {
   "cell_type": "code",
   "execution_count": null,
   "id": "016bd912-8eaa-449a-b5f0-74c3773c1cbe",
   "metadata": {},
   "outputs": [],
   "source": [
    "for drvs in asexual_drivers:\n",
    "    print(drvs.index.tolist()[:10])"
   ]
  },
  {
   "cell_type": "code",
   "execution_count": null,
   "id": "30790fc5-aff6-4e3c-beaa-e28fdcd8de82",
   "metadata": {},
   "outputs": [],
   "source": [
    "for g in ptk_g_bf_dr:\n",
    "    g.plot_lineage_drivers(\"Asexual\", n_genes=4, components='2,3')"
   ]
  },
  {
   "cell_type": "code",
   "execution_count": null,
   "id": "c3d04cab-e925-423e-bf1d-e6ec06a7693a",
   "metadata": {
    "jupyter": {
     "outputs_hidden": true
    },
    "tags": []
   },
   "outputs": [],
   "source": [
    "for i, drvs in enumerate(asexual_drivers):\n",
    "    scv.pl.scatter(ef_scv_PK[0], drvs.index[0:4].to_list(), color=['stage_bfs'], add_outline=['late ring','early trophozoite','Gametocytes (committed)'])\n",
    "    scv.pl.scatter(ef_scv_PK[0], drvs.index[0:4].to_list(), color=['stage_bfs'], add_outline=['late trophozoite'])\n",
    "    scv.pl.scatter(ef_scv_PK[0], drvs.index[0:4].to_list(), color=['stage_bfs'], add_outline=['Gametocytes (developing)'])"
   ]
  },
  {
   "cell_type": "code",
   "execution_count": null,
   "id": "0a1be4fd-a933-423f-ab36-3043cfa60b19",
   "metadata": {},
   "outputs": [],
   "source": []
  },
  {
   "cell_type": "code",
   "execution_count": null,
   "id": "32ecbddf-298c-406d-a653-41522b971bb2",
   "metadata": {
    "tags": []
   },
   "outputs": [],
   "source": [
    "asexual_drivers_bf1_pk=[]\n",
    "for drvs in asexual_drivers:\n",
    "    asexual_drivers_bf1_pk.append(pd.merge(drvs, Pf_genes_cln, how='left', left_index=True, right_index=True))"
   ]
  },
  {
   "cell_type": "code",
   "execution_count": null,
   "id": "cf84c24b-0622-4e74-ba2f-0086b747d505",
   "metadata": {},
   "outputs": [],
   "source": [
    "for drvs, cc in zip(asexual_drivers_bf1_pk, corr_clust):\n",
    "    drvs.to_csv(processed_data + '../RoadtoUMAP/asexual_drivers_bf1_pk_' + cc +'.csv')"
   ]
  },
  {
   "cell_type": "code",
   "execution_count": null,
   "id": "95809314-ae66-4da4-943b-d4cd21eeee4b",
   "metadata": {
    "jupyter": {
     "outputs_hidden": true
    },
    "tags": []
   },
   "outputs": [],
   "source": [
    "asexual_drivers_bf1_pk[1]"
   ]
  },
  {
   "cell_type": "code",
   "execution_count": null,
   "id": "5c4afc51-d3d4-497f-ab70-591a62714649",
   "metadata": {
    "tags": []
   },
   "outputs": [],
   "source": [
    "sc.pl.umap(ef_scv_PK[0], color='assignment2')"
   ]
  },
  {
   "cell_type": "markdown",
   "id": "24c2fd8d-1eee-49e3-bb20-04e9fb8d0276",
   "metadata": {
    "tags": []
   },
   "source": [
    "### Male female driver analysis"
   ]
  },
  {
   "cell_type": "markdown",
   "id": "686086d8-af15-4dc0-a82c-743170bb55dc",
   "metadata": {},
   "source": [
    "Assessing genes involved in fate determination towards the male and female clusters with higher resolution using chunks generated by pseudotime"
   ]
  },
  {
   "cell_type": "markdown",
   "id": "803fc6b8-008b-4e22-b042-7fcb09a25396",
   "metadata": {},
   "source": [
    "Manually setting terminal states\n",
    "Combining late males and early males as terminal state for day 5 and using late male for all the other timepoints\n",
    "Using Early female as terminal state for day 5 and using late female for all the other days"
   ]
  },
  {
   "cell_type": "code",
   "execution_count": null,
   "id": "e5440271-b9fa-4703-b4d2-e45ca85ec108",
   "metadata": {
    "jupyter": {
     "outputs_hidden": true
    },
    "tags": []
   },
   "outputs": [],
   "source": [
    "for g in ptk_g_bf:\n",
    "    g.plot_absorption_probabilities(components='2,3')"
   ]
  },
  {
   "cell_type": "code",
   "execution_count": null,
   "id": "415f9711-6257-40bc-8480-d2e4cce029ba",
   "metadata": {},
   "outputs": [],
   "source": [
    "ef_scv_PK[0].obs.clusters_gradients"
   ]
  },
  {
   "cell_type": "markdown",
   "id": "1c5122e5-e154-4283-894b-c840c8b506ea",
   "metadata": {
    "tags": []
   },
   "source": [
    "### Computing driver genes in the gametocyte(branching) cluster that are driving cells to the male and female cluster"
   ]
  },
  {
   "cell_type": "markdown",
   "id": "b72c2c9d-89ca-4615-adbd-fb3d55cc9ff4",
   "metadata": {},
   "source": [
    "#### To the male"
   ]
  },
  {
   "cell_type": "code",
   "execution_count": null,
   "id": "d5065f29-f210-4eae-b4a4-891bf11327e3",
   "metadata": {},
   "outputs": [],
   "source": [
    "ptk_g_bf2_dr=[]\n",
    "ptk_g_bf2_dr.append(ptk_g_bf[1])\n",
    "ptk_g_bf2_dr.append(ptk_g_bf[1])"
   ]
  },
  {
   "cell_type": "code",
   "execution_count": null,
   "id": "d1cb0679-092c-42f4-afa4-16faf827177c",
   "metadata": {},
   "outputs": [],
   "source": [
    "male_drivers = []\n",
    "for i, g in enumerate(ptk_g_bf2_dr):\n",
    "    if i == 0:\n",
    "        male_drivers.append(g.compute_lineage_drivers(lineages=\"Male\", return_drivers=True, cluster_key = 'stage_bfs', clusters= ['Gametocytes (developing)', 'Gametocytes (branching)']))\n",
    "    else:\n",
    "        male_drivers.append(g.compute_lineage_drivers(lineages=\"Male\", return_drivers=True))"
   ]
  },
  {
   "cell_type": "code",
   "execution_count": null,
   "id": "36853574-8e4e-428a-ac74-6f94dd3923de",
   "metadata": {},
   "outputs": [],
   "source": [
    "# male_drivers = ptk_g_bf[1].compute_lineage_drivers(lineages=\"Male\", return_drivers=True, cluster_key = 'stage_bfs', clusters= ['Gametocytes (developing)', 'Gametocytes (branching)'])"
   ]
  },
  {
   "cell_type": "code",
   "execution_count": null,
   "id": "7a813613-e682-411b-b3a3-64b2fdf32830",
   "metadata": {},
   "outputs": [],
   "source": [
    "male_drivers[1]"
   ]
  },
  {
   "cell_type": "code",
   "execution_count": null,
   "id": "39210be2-ec5b-4763-a07e-0972f2a15e8b",
   "metadata": {},
   "outputs": [],
   "source": [
    "for drvs in male_drivers:\n",
    "    print(drvs.index.tolist()[:10])"
   ]
  },
  {
   "cell_type": "markdown",
   "id": "ac8c1d96-46ee-45de-8ee9-47be8a5434f0",
   "metadata": {},
   "source": [
    "Plotting top 4 driver genes per timepoint"
   ]
  },
  {
   "cell_type": "code",
   "execution_count": null,
   "id": "c68de09a-4e46-43ce-a842-8f5318cc588a",
   "metadata": {
    "jupyter": {
     "outputs_hidden": true
    },
    "tags": []
   },
   "outputs": [],
   "source": [
    "for g in ptk_g_bf2_dr:\n",
    "    g.plot_lineage_drivers(\"Male\", n_genes=4, components='2,3') "
   ]
  },
  {
   "cell_type": "markdown",
   "id": "e26520bc-410f-47cf-81f0-0cb61e8bb4f8",
   "metadata": {},
   "source": [
    "Phase potraits highlighting behaviour of gene in 'Gametocytes (branching)' cluster. We should start seeing activation atleast in cells that will then on become female."
   ]
  },
  {
   "cell_type": "markdown",
   "id": "f673da64-0ba5-4926-b14b-941c9003a3ee",
   "metadata": {},
   "source": [
    "Phase potraits highlighting behaviour of gene in 'Gametocytes (early male)','Gametocytes (late male)' cluster. We should see activation"
   ]
  },
  {
   "cell_type": "code",
   "execution_count": null,
   "id": "5def7fb0-6847-4505-bdb1-70b5c75b6258",
   "metadata": {
    "jupyter": {
     "outputs_hidden": true
    },
    "tags": []
   },
   "outputs": [],
   "source": [
    "for i, drvs in enumerate(male_drivers):\n",
    "    scv.pl.scatter(ef_scv_PK[1], drvs.index[0:4].to_list(), color=['stage_bfs'], add_outline=['Gametocytes (developing)','Gametocytes (branching)'])\n",
    "    scv.pl.scatter(ef_scv_PK[1], drvs.index[0:4].to_list(), color=['stage_bfs'], add_outline=['Gametocytes (early male)','Gametocytes (late male)'])\n",
    "    scv.pl.scatter(ef_scv_PK[1], drvs.index[0:4].to_list(), color=['stage_bfs'], add_outline=['Gametocytes (early female)','Gametocytes (late female)'])"
   ]
  },
  {
   "cell_type": "markdown",
   "id": "aef0538e-8a67-4019-b9b0-ef01c04e21d4",
   "metadata": {},
   "source": [
    "Upset plots to assess driver genes in branching gams that is shared between day10 new and day 10 old datasets and the 2 datasets combined using retaining only genes positively correlated to absorption probabilities towards terminal males where P < 0.001 as qvalue is NA https://github.com/theislab/cellrank/issues/819"
   ]
  },
  {
   "cell_type": "code",
   "execution_count": null,
   "id": "822ced23-1f73-40ad-810d-350dace37608",
   "metadata": {
    "jupyter": {
     "outputs_hidden": true
    },
    "tags": []
   },
   "outputs": [],
   "source": [
    "for i, drvs in enumerate(male_drivers):\n",
    "    scv.pl.umap(ef_scv_PK[1],  layer='Mu',  color=drvs.index[0:5].to_list(), components='2,3')"
   ]
  },
  {
   "cell_type": "code",
   "execution_count": null,
   "id": "19a71af5-b46d-4e48-97f5-3f493e89a7ff",
   "metadata": {
    "tags": []
   },
   "outputs": [],
   "source": [
    "male_drivers_bf2_pk=[]\n",
    "for drvs in male_drivers:\n",
    "    male_drivers_bf2_pk.append(pd.merge(drvs, Pf_genes_cln, how='left', left_index=True, right_index=True))"
   ]
  },
  {
   "cell_type": "code",
   "execution_count": null,
   "id": "01a01dc2-3819-4e15-9bad-1f7c5a723923",
   "metadata": {},
   "outputs": [],
   "source": [
    "for drvs, cc in zip(male_drivers_bf2_pk, corr_clust):\n",
    "    drvs.to_csv(processed_data + '../RoadtoUMAP/male_drivers_bf2_pk_' + cc +'.csv')"
   ]
  },
  {
   "cell_type": "code",
   "execution_count": null,
   "id": "3bce7df0-7673-48f4-8746-16901f5fd589",
   "metadata": {},
   "outputs": [],
   "source": [
    "# Pf_genes_cln.loc[Pf_genes_cln.Gene.isin(branching_gam_drivers_m[0].index[:5].to_list())]"
   ]
  },
  {
   "cell_type": "markdown",
   "id": "b11a2a0d-d4fa-4150-a063-d377175e408a",
   "metadata": {},
   "source": [
    "#### To the female cluster"
   ]
  },
  {
   "cell_type": "code",
   "execution_count": null,
   "id": "8ee957fd-6b78-4b0c-940b-ecb9d2040fb5",
   "metadata": {},
   "outputs": [],
   "source": [
    "# female_drivers = ptk_g_bf[1].compute_lineage_drivers(lineages=\"Female\", return_drivers=True, cluster_key = 'stage_bfs', clusters= ['Gametocytes (developing)', 'Gametocytes (branching)'])"
   ]
  },
  {
   "cell_type": "code",
   "execution_count": null,
   "id": "f4c4bfcd-9ac5-4f24-a7b1-2784095941eb",
   "metadata": {},
   "outputs": [],
   "source": [
    "female_drivers = []\n",
    "for i, g in enumerate(ptk_g_bf2_dr):\n",
    "    if i == 0:\n",
    "        female_drivers.append(g.compute_lineage_drivers(lineages=\"Female\", return_drivers=True, cluster_key = 'stage_bfs', clusters= ['Gametocytes (developing)', 'Gametocytes (branching)']))\n",
    "    else:\n",
    "        female_drivers.append(g.compute_lineage_drivers(lineages=\"Female\", return_drivers=True))\n"
   ]
  },
  {
   "cell_type": "code",
   "execution_count": null,
   "id": "9543565a-06d0-4a21-8d47-e3c82cd25476",
   "metadata": {},
   "outputs": [],
   "source": [
    "female_drivers[1]"
   ]
  },
  {
   "cell_type": "code",
   "execution_count": null,
   "id": "da294cac-46a3-4ab2-b88b-866cf29359b8",
   "metadata": {},
   "outputs": [],
   "source": [
    "for drvs in female_drivers:\n",
    "    print(drvs.index.tolist()[:10])"
   ]
  },
  {
   "cell_type": "markdown",
   "id": "4285286e-ae07-42df-89b2-6f777905f7db",
   "metadata": {},
   "source": [
    "Plotting top 4 driver genes per timepoint"
   ]
  },
  {
   "cell_type": "code",
   "execution_count": null,
   "id": "fe2ba62c-016a-4837-80f6-2c524fe06acd",
   "metadata": {},
   "outputs": [],
   "source": [
    "ptk_g_bf2_dr[1]"
   ]
  },
  {
   "cell_type": "code",
   "execution_count": null,
   "id": "ff8fbd5c-e93d-4422-b238-589fa0f8918b",
   "metadata": {
    "jupyter": {
     "outputs_hidden": true
    },
    "tags": []
   },
   "outputs": [],
   "source": [
    "for g in ptk_g_bf2_dr:\n",
    "    g.plot_lineage_drivers(\"Female\", n_genes=4, components='2,3') "
   ]
  },
  {
   "cell_type": "markdown",
   "id": "7991418a-3424-4f12-b0d4-d102c69d7010",
   "metadata": {},
   "source": [
    "Phase potraits highlighting behaviour of gene in 'Gametocytes (branching)' cluster. We should start seeing activation atleast in cells that will then on become female."
   ]
  },
  {
   "cell_type": "markdown",
   "id": "52e2d87b-42cb-4576-84d4-4fc3e246c3de",
   "metadata": {},
   "source": [
    "Phase potraits highlighting behaviour of gene in 'Gametocytes (early male)','Gametocytes (late male)' cluster. We should see activation"
   ]
  },
  {
   "cell_type": "code",
   "execution_count": null,
   "id": "ddefd380-9399-4e5a-8f49-1f14a391d03f",
   "metadata": {
    "jupyter": {
     "outputs_hidden": true
    },
    "tags": []
   },
   "outputs": [],
   "source": [
    "for i, drvs in enumerate(female_drivers):\n",
    "    scv.pl.scatter(ef_scv_PK[1], drvs.index[0:4].to_list(), color=['stage_bfs'], add_outline=['Gametocytes (developing)','Gametocytes (branching)'])\n",
    "    scv.pl.scatter(ef_scv_PK[1], drvs.index[0:4].to_list(), color=['stage_bfs'], add_outline=['Gametocytes (early female)','Gametocytes (late female)'])\n",
    "    scv.pl.scatter(ef_scv_PK[1], drvs.index[0:4].to_list(), color=['stage_bfs'], add_outline=['Gametocytes (early male)','Gametocytes (late male)'])"
   ]
  },
  {
   "cell_type": "markdown",
   "id": "ad4d3d2a-ddfd-415c-9e51-9e6191d958e7",
   "metadata": {},
   "source": [
    "Upset plots to assess driver genes in branching gams that is shared between day10 new and day 10 old datasets and the 2 datasets combined using retaining only genes positively correlated to absorption probabilities towards terminal males where P < 0.001 as qvalue is NA https://github.com/theislab/cellrank/issues/819"
   ]
  },
  {
   "cell_type": "code",
   "execution_count": null,
   "id": "ebb87dfc-8b7f-43fc-b670-915283b7bbd8",
   "metadata": {
    "jupyter": {
     "outputs_hidden": true
    },
    "tags": []
   },
   "outputs": [],
   "source": [
    "for i, drvs in enumerate(female_drivers):\n",
    "    scv.pl.umap(ef_scv_PK[1],  layer='Mu',  color=drvs.index[0:5].to_list(), components='2,3')"
   ]
  },
  {
   "cell_type": "code",
   "execution_count": null,
   "id": "63f7c4bd-02c9-4897-8595-d503d58cef34",
   "metadata": {
    "tags": []
   },
   "outputs": [],
   "source": [
    "female_drivers_bf2_pk=[]\n",
    "for drvs in female_drivers:\n",
    "    female_drivers_bf2_pk.append(pd.merge(drvs, Pf_genes_cln, how='left', left_index=True, right_index=True))"
   ]
  },
  {
   "cell_type": "code",
   "execution_count": null,
   "id": "6a4543a7-263d-4863-a6c0-6692b02422c7",
   "metadata": {},
   "outputs": [],
   "source": [
    "for drvs, cc in zip(female_drivers_bf2_pk, corr_clust):\n",
    "    drvs.to_csv(processed_data + '../RoadtoUMAP/female_drivers_bf2_pk_' + cc +'.csv')"
   ]
  },
  {
   "cell_type": "markdown",
   "id": "b380b305-9783-401c-9f6d-b42e820cf0bb",
   "metadata": {},
   "source": [
    "Upset plot for female"
   ]
  },
  {
   "cell_type": "markdown",
   "id": "666d683b-197d-483c-b02d-8dc1073833d5",
   "metadata": {},
   "source": [
    "Upset plots to assess driver genes in branching gams that is shared between day10 new and day 10 old datasets and the 2 datasets combined using retaining only genes positively correlated to absorption probabilities towards terminal males where P < 0.001 as qvalue is NA. bug in scvelo https://github.com/theislab/cellrank/issues/819"
   ]
  },
  {
   "cell_type": "markdown",
   "id": "f4b0b3a2-91cd-4a94-8433-1261008b83dd",
   "metadata": {},
   "source": [
    "Fitting GAMs for assesment of gene expression clusters over latent time"
   ]
  },
  {
   "cell_type": "code",
   "execution_count": null,
   "id": "3c512bf1-d0c6-419c-954d-272ecd1c34d1",
   "metadata": {},
   "outputs": [],
   "source": [
    "modelGAM_male_lineage = []\n",
    "for obj in ef_scv_PK:\n",
    "    model=cr.ul.models.GAM(obj)\n",
    "    modelGAM_male_lineage.append(model)\n"
   ]
  },
  {
   "cell_type": "code",
   "execution_count": null,
   "id": "fb061c03-1ff9-4467-95ff-9ab4df6f2610",
   "metadata": {},
   "outputs": [],
   "source": []
  },
  {
   "cell_type": "code",
   "execution_count": null,
   "id": "10d5e93a-8102-4ef7-b018-a28f343c8439",
   "metadata": {
    "jupyter": {
     "outputs_hidden": true
    },
    "tags": []
   },
   "outputs": [],
   "source": [
    "for i, obj in enumerate(ef_scv_PK):\n",
    "    cr.pl.cluster_lineage(\n",
    "            obj,\n",
    "            model = modelGAM_male_lineage[i],\n",
    "            genes=branching_gam_drivers_m[i].index[(branching_gam_drivers_m[i]['Late male_qval'] < 0.001) & (branching_gam_drivers_m[i]['Late male_corr'] > 0.2)].to_list(),\n",
    "            lineage=\"Late male\",\n",
    "            time_key=\"pseudo_mg\",\n",
    "            show_progress_bar=False,\n",
    "            recompute=True,\n",
    "            sharey=True,\n",
    "            covariate_key=['stage_bfs']\n",
    "        )\n"
   ]
  },
  {
   "cell_type": "code",
   "execution_count": null,
   "id": "0c948a32-6ef5-4b61-876f-bff39bf56264",
   "metadata": {
    "jupyter": {
     "outputs_hidden": true
    },
    "tags": []
   },
   "outputs": [],
   "source": [
    "for i, obj in enumerate(ef_scv_PK):\n",
    "    cr.pl.cluster_lineage(\n",
    "            obj,\n",
    "            model = modelGAM_male_lineage[i],\n",
    "            genes=branching_gam_drivers_m[i].index[(branching_gam_drivers_m[i]['Late male_qval'] < 0.001) & (branching_gam_drivers_m[i]['Late male_corr'] < -0.2)].to_list(),\n",
    "            lineage=\"Late male\",\n",
    "            time_key=\"pseudo_mg\",\n",
    "            show_progress_bar=False,\n",
    "            recompute=True,\n",
    "            sharey=True,\n",
    "            covariate_key=['stage_bfs']\n",
    "        )"
   ]
  },
  {
   "cell_type": "code",
   "execution_count": null,
   "id": "9163a82a-3f57-4eed-bc98-8475e6e7e154",
   "metadata": {},
   "outputs": [],
   "source": [
    "v3_days_all_fnl"
   ]
  },
  {
   "cell_type": "code",
   "execution_count": null,
   "id": "98f74010-ce0e-4f61-b72b-5e1a7045bbf7",
   "metadata": {
    "tags": []
   },
   "outputs": [],
   "source": [
    "# plt.rcParams[\"figure.figsize\"] = (120, 5)\n",
    "for i, obj in enumerate(ef_scv_PK):\n",
    "    cr.pl.gene_trends(\n",
    "        obj,\n",
    "        lineages=['Late female','Late male'],\n",
    "        model=modelGAM_male_lineage[i],\n",
    "        data_key=\"X\",\n",
    "        genes=branching_gam_drivers_m[i].index[(branching_gam_drivers_m[i]['Late male_qval'] < 0.0000000000001) & (branching_gam_drivers_m[i]['Late male_corr'] < -0.3)].to_list(),\n",
    "        ncols=5,\n",
    "        time_key=\"pseudo_mg\",\n",
    "        same_plot=True,\n",
    "        hide_cells=True,\n",
    "        figsize=(50, 6),\n",
    "        n_test_points=200)\n",
    "    \n",
    "# plt.rcParams[\"figure.figsize\"] = (7, 5)"
   ]
  },
  {
   "cell_type": "code",
   "execution_count": null,
   "id": "e11c9846-4239-4c3e-9dc7-1923ab5e00b1",
   "metadata": {},
   "outputs": [],
   "source": [
    "modelGAM_female_lineage_bf2 = []\n",
    "for obj in ef_scv_PK:\n",
    "    model=cr.ul.models.GAM(obj)\n",
    "    modelGAM_female_lineage_bf2.append(model)\n"
   ]
  },
  {
   "cell_type": "code",
   "execution_count": null,
   "id": "33229c7f-be6e-4106-b867-9836b600d85a",
   "metadata": {},
   "outputs": [],
   "source": [
    "modelGAM_female_lineage_bf2 = []\n",
    "for obj in ef_scv_PK:\n",
    "    model=cr.ul.models.GAM(obj)\n",
    "    modelGAM_female_lineage_bf2.append(model)"
   ]
  },
  {
   "cell_type": "markdown",
   "id": "0c349c36-14f8-44c1-ab8f-631105710884",
   "metadata": {},
   "source": [
    "Driver genes in CD positively correlated with progression to female fate"
   ]
  },
  {
   "cell_type": "markdown",
   "id": "0ccb8c6b-8839-4102-93ae-d10a166f285e",
   "metadata": {},
   "source": [
    "Driver genes in gambranch positively correlated with progression to female fate"
   ]
  },
  {
   "cell_type": "code",
   "execution_count": null,
   "id": "8e72251e-8f94-4556-a014-42f963cce6a0",
   "metadata": {
    "jupyter": {
     "outputs_hidden": true
    },
    "tags": []
   },
   "outputs": [],
   "source": [
    "for i, obj in enumerate(ef_scv_PK):\n",
    "    cr.pl.cluster_lineage(\n",
    "            obj,\n",
    "            model = modelGAM_female_lineage_bf2[i],\n",
    "            genes=branching_gam_drivers_f[i].index[(branching_gam_drivers_f[i]['Late female_qval'] < 0.0000000000001) & (branching_gam_drivers_f[i]['Late female_corr'] > -0.2)].to_list(),\n",
    "            lineage=\"Late female\",\n",
    "            time_key=\"pseudo_mg\",\n",
    "            show_progress_bar=False,\n",
    "            recompute=True,\n",
    "            sharey=True,\n",
    "            covariate_key=['stage_bfs']\n",
    "        )"
   ]
  },
  {
   "cell_type": "markdown",
   "id": "a61c35f5-dd33-4e84-b137-a59527fa7c91",
   "metadata": {
    "jupyter": {
     "outputs_hidden": true
    },
    "tags": []
   },
   "source": [
    "branching_gam_drivers_f is the equivalent of female_drivers_CDB for the branching driver list. Care should be taken to avoid being confused by names"
   ]
  },
  {
   "cell_type": "markdown",
   "id": "60afa10d-90b7-4495-a0b7-7ef18e45780f",
   "metadata": {},
   "source": [
    "## Rvelo cellrank"
   ]
  },
  {
   "cell_type": "code",
   "execution_count": null,
   "id": "9d975bda-63a4-43f9-a111-d96dd33b1e51",
   "metadata": {
    "tags": []
   },
   "outputs": [],
   "source": [
    "vtk_bf1n2 = []\n",
    "for obj in ef_scv_stochastic:\n",
    "    vtk_bf1n2.append(VelocityKernel(obj).compute_transition_matrix())\n",
    "    "
   ]
  },
  {
   "cell_type": "code",
   "execution_count": null,
   "id": "53cee13c-d12c-418b-8ccb-105913389f36",
   "metadata": {},
   "outputs": [],
   "source": [
    "ck_bf1n2 = []\n",
    "for obj in ef_scv_stochastic:\n",
    "    x = ConnectivityKernel(obj).compute_transition_matrix()\n",
    "    ck_bf1n2.append(x)"
   ]
  },
  {
   "cell_type": "code",
   "execution_count": null,
   "id": "15f7b2a7-b5e0-40d4-b5d0-b204b61a0692",
   "metadata": {},
   "outputs": [],
   "source": [
    "combined_kernel_bf1n2 = []\n",
    "for obj, vk, ck in zip(ef_scv_stochastic, vtk_bf1n2, ck_bf1n2):\n",
    "    x = 0.5 * vk + 0.5 * ck\n",
    "    combined_kernel_bf1n2.append(x)"
   ]
  },
  {
   "cell_type": "code",
   "execution_count": null,
   "id": "5f792a26-5ee1-4148-949d-4b653e54daec",
   "metadata": {},
   "outputs": [],
   "source": [
    "print(combined_kernel_bf1n2)"
   ]
  },
  {
   "cell_type": "code",
   "execution_count": null,
   "id": "5ccbeaa4-17d7-46d9-9763-0b921bc4dd61",
   "metadata": {},
   "outputs": [],
   "source": [
    "vtk_g_bf1n2 = []\n",
    "for ck in combined_kernel_bf1n2:\n",
    "    x = GPCCA(ck)\n",
    "    vtk_g_bf1n2.append(x)\n",
    "    "
   ]
  },
  {
   "cell_type": "code",
   "execution_count": null,
   "id": "9cba0f06-8dbe-4188-a7e0-afa0b36c5878",
   "metadata": {},
   "outputs": [],
   "source": [
    "# vtk_g_bf1n2 = []\n",
    "# for ptk in vtk_bf1n2:\n",
    "#     x = cr.tl.estimators.GPCCA(ptk)\n",
    "#     vtk_g_bf1n2.append(x)\n",
    "    "
   ]
  },
  {
   "cell_type": "code",
   "execution_count": null,
   "id": "a2dd28fe-a2b7-4c8b-a368-c1abd7519c54",
   "metadata": {
    "jupyter": {
     "outputs_hidden": true
    },
    "tags": []
   },
   "outputs": [],
   "source": [
    "for g in vtk_g_bf1n2:\n",
    "    g.compute_schur(n_components=20)\n",
    "    g.plot_spectrum()"
   ]
  },
  {
   "cell_type": "code",
   "execution_count": null,
   "id": "eca39501-9e2c-4a54-a124-d6a41f652bdc",
   "metadata": {
    "tags": []
   },
   "outputs": [],
   "source": [
    "# for g in vtk_g_bf1n22:\n",
    "#     g.compute_schur(n_components=20)\n",
    "#     g.plot_spectrum()\n"
   ]
  },
  {
   "cell_type": "code",
   "execution_count": null,
   "id": "3e66d4e7-87c9-437b-bebe-52c2efcbd6f0",
   "metadata": {},
   "outputs": [],
   "source": [
    "for i, g in enumerate(vtk_g_bf1n2):\n",
    "    if i == 0:\n",
    "        g.compute_macrostates(n_states=4, cluster_key=\"stage_bfs\")\n",
    "        g.plot_macrostates(components = '2,3')\n",
    "    else:\n",
    "        g.compute_macrostates(n_states=4, cluster_key=\"stage_bfs\")\n",
    "        g.plot_macrostates(components = '2,3')\n"
   ]
  },
  {
   "cell_type": "markdown",
   "id": "9b5b79df-3d99-44e4-a92f-dda00be8ce4e",
   "metadata": {},
   "source": [
    "Manually setting terminal states\n",
    "Combining late males and early males as terminal state for day 5 and using late male for all the other timepoints\n",
    "Using Early female as terminal state for day 5 and using late female for all the other days"
   ]
  },
  {
   "cell_type": "code",
   "execution_count": null,
   "id": "ad936513-dd6b-4c59-bf59-ad69c7aba6b1",
   "metadata": {},
   "outputs": [],
   "source": [
    "ef_scv_stochastic[0].obs.value_counts(['stage_bfs'])"
   ]
  },
  {
   "cell_type": "code",
   "execution_count": null,
   "id": "25f9616a-0aa0-4aa1-b733-41a86449fae3",
   "metadata": {
    "tags": []
   },
   "outputs": [],
   "source": [
    "# for i,g in enumerate(vtk_g_bf1n2):\n",
    "#     if i == 0:\n",
    "#         g.set_terminal_states_from_macrostates(names= {\"Gametocytes (developing)\":\"Gametocyte\", \"late trophozoite\":\"Asexual\"}, n_cells=1700) \n",
    "#     else:\n",
    "#         g.set_terminal_states_from_macrostates(names= {\"gametocyte (male)\":\"Male\", \"gametocyte (female)\":\"Female\"}, n_cells=1700) \n"
   ]
  },
  {
   "cell_type": "code",
   "execution_count": null,
   "id": "51e853c6-8a29-4c61-8652-f16835affcb6",
   "metadata": {},
   "outputs": [],
   "source": [
    "for i,g in enumerate(vtk_g_bf1n2):\n",
    "    if i == 0:\n",
    "        g.set_terminal_states_from_macrostates(names= {\"Gametocytes (developing)\":\"Gametocyte\", \"late trophozoite\":\"Asexual\"}, n_cells=900) \n",
    "    else:\n",
    "        g.set_terminal_states_from_macrostates(names= {\"Gametocytes (late male)\":\"Male\", \"Gametocytes (late female)\":\"Female\"}, n_cells=900) \n"
   ]
  },
  {
   "cell_type": "code",
   "execution_count": null,
   "id": "6122f03b-0036-4bb0-819e-af9ba86cfdda",
   "metadata": {},
   "outputs": [],
   "source": [
    "# # ef_scv_stochastic[0][ef_scv_stochastic[0].obs[\"stage_bfs\"].isin([\"Gametocytes (developing)\",\"Gametocytes (branching)\",\"Gametocytes (early male)\",\"Gametocytes (late male)\",\"Gametocytes (early female)\",\"Gametocytes (late female)\" ])].obs.Stage\n",
    "# ef_scv_stochastic[0][ef_scv_stochastic[0].obs[\"stage_bfs\"].isin([\"Gametocytes (developing)\",\"Gametocytes (branching)\",\"Gametocytes (early male)\",\"Gametocytes (late male)\",\"Gametocytes (early female)\",\"Gametocytes (late female)\" ])].obs.Stage\n",
    "#                                   obj[obj.obs[\"stage_bfs\"].isin([\"Gametocytes (developing)\",\"Gametocytes (branching)\",\"Gametocytes (early male)\",\"Gametocytes (late male)\",\"Gametocytes (early female)\",\"Gametocytes (late female)\" ])].obs_names, \"Early schizont\": obj[obj.obs[\"stage_bfs\"] == \"early schizont\"].obs_names})"
   ]
  },
  {
   "cell_type": "code",
   "execution_count": null,
   "id": "6ba32f76-abd5-4bc8-94c0-49f78f6f1db7",
   "metadata": {},
   "outputs": [],
   "source": []
  },
  {
   "cell_type": "markdown",
   "id": "25f9e365-c50e-4d06-90c5-3c34935a2180",
   "metadata": {
    "tags": []
   },
   "source": [
    "## Early gam and asexual driver"
   ]
  },
  {
   "cell_type": "code",
   "execution_count": null,
   "id": "8b7841cc-1864-42ee-8abd-23c70361e29a",
   "metadata": {
    "tags": []
   },
   "outputs": [],
   "source": [
    "for g in vtk_g_bf1n2:\n",
    "    g.compute_absorption_probabilities()"
   ]
  },
  {
   "cell_type": "code",
   "execution_count": null,
   "id": "6db05709-1ba6-4e47-8399-9de124fb55ff",
   "metadata": {
    "jupyter": {
     "outputs_hidden": true
    },
    "tags": []
   },
   "outputs": [],
   "source": [
    "for g in vtk_g_bf1n2:\n",
    "    g.plot_absorption_probabilities(components ='2,3')"
   ]
  },
  {
   "cell_type": "code",
   "execution_count": null,
   "id": "528ab8f1-a484-4d7a-a040-868913ed854d",
   "metadata": {},
   "outputs": [],
   "source": []
  },
  {
   "cell_type": "code",
   "execution_count": null,
   "id": "3ede6c54-e8df-465c-b6a1-7ef0f1cb7378",
   "metadata": {},
   "outputs": [],
   "source": [
    "vtk_g_bf1_dr=[]\n",
    "vtk_g_bf1_dr.append(vtk_g_bf1n2[0])\n",
    "vtk_g_bf1_dr.append(vtk_g_bf1n2[0])"
   ]
  },
  {
   "cell_type": "markdown",
   "id": "5f7734ac-962a-4cb9-814b-bfe479acd8b7",
   "metadata": {},
   "source": [
    "Computing driver genes in the gametocyte(branching) cluster that are driving cells to the male cluster"
   ]
  },
  {
   "cell_type": "code",
   "execution_count": null,
   "id": "d8d43ed9-a7da-4b07-8b4c-12e9a8bfb078",
   "metadata": {},
   "outputs": [],
   "source": [
    "early_gam_drivers = []\n",
    "for i, g in enumerate(vtk_g_bf1_dr):\n",
    "    if i == 0:\n",
    "        early_gam_drivers.append(g.compute_lineage_drivers(lineages=\"Gametocyte\", return_drivers=True, cluster_key = 'stage_bfs', clusters= ['late ring','early trophozoite','Gametocytes (committed)']))\n",
    "    else:\n",
    "        early_gam_drivers.append(g.compute_lineage_drivers(lineages=\"Gametocyte\", return_drivers=True))"
   ]
  },
  {
   "cell_type": "code",
   "execution_count": null,
   "id": "d1d8acc2-d73c-4e1e-805b-68e4a60999d9",
   "metadata": {},
   "outputs": [],
   "source": [
    "early_gam_drivers[1]"
   ]
  },
  {
   "cell_type": "code",
   "execution_count": null,
   "id": "f79ea1b2-55c2-430f-8069-96a53f6688bc",
   "metadata": {},
   "outputs": [],
   "source": [
    "for drvs in early_gam_drivers:\n",
    "    print(drvs.index.tolist()[:10])"
   ]
  },
  {
   "cell_type": "code",
   "execution_count": null,
   "id": "2e025f10-b73a-4dda-87e9-2001d637da79",
   "metadata": {
    "tags": []
   },
   "outputs": [],
   "source": [
    "for g in vtk_g_bf1_dr:\n",
    "    g.plot_lineage_drivers(\"Gametocyte\", n_genes=4, components='2,3')"
   ]
  },
  {
   "cell_type": "markdown",
   "id": "e46df415-6f4f-4cb5-a890-645f857a0221",
   "metadata": {},
   "source": [
    "Plotting top 4 driver genes per timepoint"
   ]
  },
  {
   "cell_type": "markdown",
   "id": "87ec7203-c5b8-4bc0-84ee-354bb12d69bb",
   "metadata": {},
   "source": [
    "Phase potraits highlighting behaviour of gene in 'Gametocytes (branching)' cluster. We should start seeing activation atleast in cells that will then on become female."
   ]
  },
  {
   "cell_type": "code",
   "execution_count": null,
   "id": "c213a991-ed47-44ed-b2f3-6ef1c9dbfaf8",
   "metadata": {
    "jupyter": {
     "outputs_hidden": true
    },
    "tags": []
   },
   "outputs": [],
   "source": [
    "for i, drvs in enumerate(early_gam_drivers):\n",
    "    scv.pl.scatter(ef_scv_stochastic[0], drvs.index[0:4].to_list(), color=['stage_bfs'], add_outline=['late ring','early trophozoite','Gametocytes (committed)'])\n",
    "    scv.pl.scatter(ef_scv_stochastic[0], drvs.index[0:4].to_list(), color=['stage_bfs'], add_outline=['Gametocytes (developing)'])\n",
    "    scv.pl.scatter(ef_scv_stochastic[0], drvs.index[0:4].to_list(), color=['stage_bfs'], add_outline=['late trophozoite'])"
   ]
  },
  {
   "cell_type": "markdown",
   "id": "65e4b4fc-8dda-43e4-be38-1bb301000713",
   "metadata": {},
   "source": [
    "Phase potraits highlighting behaviour of gene in 'Gametocytes (early male)','Gametocytes (late male)' cluster. We should see activation"
   ]
  },
  {
   "cell_type": "markdown",
   "id": "84043ba3-f740-4e11-9ab9-9e3df5a9e5c3",
   "metadata": {},
   "source": [
    "Summary table of the female driver genes in the 'Gametocytes (committed and developing)' for all timepoints"
   ]
  },
  {
   "cell_type": "code",
   "execution_count": null,
   "id": "a3613ff8-aaa7-4b95-92e4-414a0649a962",
   "metadata": {
    "tags": []
   },
   "outputs": [],
   "source": [
    "early_gam_drivers_bf1_vkck=[]\n",
    "for drvs in early_gam_drivers:\n",
    "    early_gam_drivers_bf1_vkck.append(pd.merge(drvs, Pf_genes_cln, how='left', left_index=True, right_index=True))"
   ]
  },
  {
   "cell_type": "code",
   "execution_count": null,
   "id": "f63a7856-1a45-47f5-b48c-66c0b532e188",
   "metadata": {},
   "outputs": [],
   "source": [
    "for drvs, cc in zip(early_gam_drivers_bf1_vkck, corr_clust):\n",
    "    drvs.to_csv(processed_data + '../RoadtoUMAP/early_gam_drivers_bf1_vkck_' + cc +'.csv')"
   ]
  },
  {
   "cell_type": "code",
   "execution_count": null,
   "id": "ef744ff7-a7d8-4b48-a9d6-16cef580c79d",
   "metadata": {},
   "outputs": [],
   "source": [
    "for drvs in early_gam_drivers:\n",
    "    print(drvs.index.tolist()[:10])"
   ]
  },
  {
   "cell_type": "code",
   "execution_count": null,
   "id": "c87d56db-be40-4475-ac5d-f404e59af147",
   "metadata": {},
   "outputs": [],
   "source": []
  },
  {
   "cell_type": "markdown",
   "id": "d2662f4b-a6b4-4f9e-b9dc-f1e2762b6c0e",
   "metadata": {},
   "source": [
    "#### Asexual drivers"
   ]
  },
  {
   "cell_type": "code",
   "execution_count": null,
   "id": "44a4e518-0679-47d3-8379-2d99a85898a2",
   "metadata": {},
   "outputs": [],
   "source": [
    "asexual_drivers = []\n",
    "for i, g in enumerate(vtk_g_bf1_dr):\n",
    "    if i == 0:\n",
    "        asexual_drivers.append(g.compute_lineage_drivers(lineages=\"Asexual\", return_drivers=True, cluster_key = 'stage_bfs', clusters= ['late ring','early trophozoite','Gametocytes (committed)']))\n",
    "    else:\n",
    "        asexual_drivers.append(g.compute_lineage_drivers(lineages=\"Asexual\", return_drivers=True))"
   ]
  },
  {
   "cell_type": "code",
   "execution_count": null,
   "id": "fa2fd8ad-5f61-4e18-a391-3c46ce3491e9",
   "metadata": {},
   "outputs": [],
   "source": [
    "asexual_drivers[1]"
   ]
  },
  {
   "cell_type": "code",
   "execution_count": null,
   "id": "ce2298ee-abdd-4848-9ecc-c79f0edd0128",
   "metadata": {},
   "outputs": [],
   "source": [
    "for drvs in asexual_drivers:\n",
    "    print(drvs.index.tolist()[:10])"
   ]
  },
  {
   "cell_type": "code",
   "execution_count": null,
   "id": "528e21b5-5225-4c11-a359-948d0f2b7ba9",
   "metadata": {},
   "outputs": [],
   "source": [
    "for g in vtk_g_bf1_dr:\n",
    "    g.plot_lineage_drivers(\"Asexual\", n_genes=4, components='2,3')"
   ]
  },
  {
   "cell_type": "code",
   "execution_count": null,
   "id": "9cca3134-26c6-429b-8669-ef8759f36ddf",
   "metadata": {
    "jupyter": {
     "outputs_hidden": true
    },
    "tags": []
   },
   "outputs": [],
   "source": [
    "for i, drvs in enumerate(asexual_drivers):\n",
    "    scv.pl.scatter(ef_scv_stochastic[0], drvs.index[0:4].to_list(), color=['stage_bfs'], add_outline=['late ring','early trophozoite','Gametocytes (committed)'])\n",
    "    scv.pl.scatter(ef_scv_stochastic[0], drvs.index[0:4].to_list(), color=['stage_bfs'], add_outline=['late trophozoite'])\n",
    "    scv.pl.scatter(ef_scv_stochastic[0], drvs.index[0:4].to_list(), color=['stage_bfs'], add_outline=['Gametocytes (developing)'])"
   ]
  },
  {
   "cell_type": "code",
   "execution_count": null,
   "id": "f3c0af5b-b547-4d93-964e-037182e68c67",
   "metadata": {},
   "outputs": [],
   "source": []
  },
  {
   "cell_type": "code",
   "execution_count": null,
   "id": "e9bc03a2-b390-4e65-9561-34383d5605e3",
   "metadata": {
    "tags": []
   },
   "outputs": [],
   "source": [
    "asexual_drivers_bf1_vkck=[]\n",
    "for drvs in asexual_drivers:\n",
    "    asexual_drivers_bf1_vkck.append(pd.merge(drvs, Pf_genes_cln, how='left', left_index=True, right_index=True))"
   ]
  },
  {
   "cell_type": "code",
   "execution_count": null,
   "id": "7c9442ff-892c-4262-b394-02d2c3f6c87c",
   "metadata": {},
   "outputs": [],
   "source": [
    "for drvs, cc in zip(asexual_drivers_bf1_vkck, corr_clust):\n",
    "    drvs.to_csv(processed_data + '../RoadtoUMAP/asexual_drivers_bf1_vkck_' + cc +'.csv')"
   ]
  },
  {
   "cell_type": "code",
   "execution_count": null,
   "id": "97c67111-996c-4e50-832e-d984ea33d285",
   "metadata": {
    "tags": []
   },
   "outputs": [],
   "source": [
    "sc.pl.umap(ef_scv_stochastic[0], color='assignment2')"
   ]
  },
  {
   "cell_type": "markdown",
   "id": "aedc3e3e-7833-4c71-886c-d1562ecaa989",
   "metadata": {
    "tags": []
   },
   "source": [
    "## Male female driver analysis"
   ]
  },
  {
   "cell_type": "markdown",
   "id": "e0f9dc0f-0cf2-4a2d-88fa-efc270a5c6f3",
   "metadata": {},
   "source": [
    "Assessing genes involved in fate determination towards the male and female clusters with higher resolution using chunks generated by pseudotime"
   ]
  },
  {
   "cell_type": "markdown",
   "id": "d595cee0-64fa-4074-ad89-dfeaab28b990",
   "metadata": {},
   "source": [
    "Manually setting terminal states\n",
    "Combining late males and early males as terminal state for day 5 and using late male for all the other timepoints\n",
    "Using Early female as terminal state for day 5 and using late female for all the other days"
   ]
  },
  {
   "cell_type": "code",
   "execution_count": null,
   "id": "bef0c4b7-2838-4eee-8822-2b5f2f2850f0",
   "metadata": {},
   "outputs": [],
   "source": [
    "ef_scv_stochastic[0].obs.clusters_gradients"
   ]
  },
  {
   "cell_type": "markdown",
   "id": "81b5fdac-a658-45ad-a0fa-38c1aa8acef9",
   "metadata": {
    "tags": []
   },
   "source": [
    "### Computing driver genes in the gametocyte(branching) cluster that are driving cells to the male and female cluster"
   ]
  },
  {
   "cell_type": "markdown",
   "id": "04e47c9e-f559-428c-876a-416eebbaf89f",
   "metadata": {},
   "source": [
    "#### To the male"
   ]
  },
  {
   "cell_type": "code",
   "execution_count": null,
   "id": "7c114481-2ec6-4662-8059-c3dc201a5c85",
   "metadata": {},
   "outputs": [],
   "source": [
    "# male_drivers = vtk_g_bf1n2[1].compute_lineage_drivers(lineages=\"Male\", return_drivers=True, cluster_key = 'stage_bfs', clusters= ['Gametocytes (developing)', 'Gametocytes (branching)'])"
   ]
  },
  {
   "cell_type": "code",
   "execution_count": null,
   "id": "28a177b8-58f8-42ee-b185-89d568ff6621",
   "metadata": {},
   "outputs": [],
   "source": [
    "vtk_g_bf2_dr=[]\n",
    "vtk_g_bf2_dr.append(vtk_g_bf1n2[1])\n",
    "vtk_g_bf2_dr.append(vtk_g_bf1n2[1])"
   ]
  },
  {
   "cell_type": "code",
   "execution_count": null,
   "id": "9616e68a-78d9-456b-b246-5734e8348f06",
   "metadata": {},
   "outputs": [],
   "source": [
    "male_drivers = []\n",
    "for i, g in enumerate(vtk_g_bf2_dr):\n",
    "    if i == 0:\n",
    "        male_drivers.append(g.compute_lineage_drivers(lineages=\"Male\", return_drivers=True, cluster_key = 'stage_bfs', clusters= ['Gametocytes (developing)', 'Gametocytes (branching)']))\n",
    "    else:\n",
    "        male_drivers.append(g.compute_lineage_drivers(lineages=\"Male\", return_drivers=True))"
   ]
  },
  {
   "cell_type": "code",
   "execution_count": null,
   "id": "b654bf1d-f821-42ff-a408-dd1ae591dbe6",
   "metadata": {},
   "outputs": [],
   "source": [
    "male_drivers[1]"
   ]
  },
  {
   "cell_type": "code",
   "execution_count": null,
   "id": "2cf8dcb3-aea3-4636-8edc-722c648f4f20",
   "metadata": {},
   "outputs": [],
   "source": [
    "for drvs in male_drivers:\n",
    "    print(drvs.index.tolist()[:10])"
   ]
  },
  {
   "cell_type": "markdown",
   "id": "78f7f9e1-3afd-4c64-8e8b-8e7797d4c6d3",
   "metadata": {},
   "source": [
    "Plotting top 4 driver genes per timepoint"
   ]
  },
  {
   "cell_type": "code",
   "execution_count": null,
   "id": "11279937-850d-4237-90f5-ed6010028c2c",
   "metadata": {
    "tags": []
   },
   "outputs": [],
   "source": [
    "for g in vtk_g_bf2_dr:\n",
    "    g.plot_lineage_drivers(\"Male\", n_genes=4, components='2,3') "
   ]
  },
  {
   "cell_type": "markdown",
   "id": "a4ab47f4-e7a2-4232-9e13-4a9bf4a08ae2",
   "metadata": {},
   "source": [
    "Phase potraits highlighting behaviour of gene in 'Gametocytes (branching)' cluster. We should start seeing activation atleast in cells that will then on become female."
   ]
  },
  {
   "cell_type": "markdown",
   "id": "63815ff9-eeab-4404-b02d-6ebccbb8c876",
   "metadata": {},
   "source": [
    "Phase potraits highlighting behaviour of gene in 'Gametocytes (early male)','Gametocytes (late male)' cluster. We should see activation"
   ]
  },
  {
   "cell_type": "code",
   "execution_count": null,
   "id": "e2ecc1dc-b285-476d-b533-e34819349586",
   "metadata": {
    "tags": []
   },
   "outputs": [],
   "source": [
    "for i, drvs in enumerate(male_drivers):\n",
    "    scv.pl.scatter(ef_scv_stochastic[1], drvs.index[0:4].to_list(), color=['stage_bfs'], add_outline=['Gametocytes (developing)','Gametocytes (branching)'])\n",
    "    scv.pl.scatter(ef_scv_stochastic[1], drvs.index[0:4].to_list(), color=['stage_bfs'], add_outline=['Gametocytes (early male)','Gametocytes (late male)'])\n",
    "    scv.pl.scatter(ef_scv_stochastic[1], drvs.index[0:4].to_list(), color=['stage_bfs'], add_outline=['Gametocytes (early female)','Gametocytes (late female)'])"
   ]
  },
  {
   "cell_type": "markdown",
   "id": "c40c4427-104e-466d-b031-fbdf26bd3cf2",
   "metadata": {},
   "source": [
    "Upset plots to assess driver genes in branching gams that is shared between day10 new and day 10 old datasets and the 2 datasets combined using retaining only genes positively correlated to absorption probabilities towards terminal males where P < 0.001 as qvalue is NA https://github.com/theislab/cellrank/issues/819"
   ]
  },
  {
   "cell_type": "code",
   "execution_count": null,
   "id": "f5bed3d1-6a73-4bb3-8c0d-80bd0e40a2e4",
   "metadata": {
    "tags": []
   },
   "outputs": [],
   "source": [
    "for i, drvs in enumerate(male_drivers):\n",
    "    scv.pl.umap(ef_scv_stochastic[1],  layer='Mu',  color=drvs.index[0:5].to_list(), components='2,3')"
   ]
  },
  {
   "cell_type": "code",
   "execution_count": null,
   "id": "2a2574cf-3715-4bd5-8678-7466fec09939",
   "metadata": {
    "tags": []
   },
   "outputs": [],
   "source": [
    "male_drivers_bf2_vkck=[]\n",
    "for drvs in male_drivers:\n",
    "    male_drivers_bf2_vkck.append(pd.merge(drvs, Pf_genes_cln, how='left', left_index=True, right_index=True))"
   ]
  },
  {
   "cell_type": "code",
   "execution_count": null,
   "id": "b372f688-9a76-4c43-8d0b-81226d65cc91",
   "metadata": {},
   "outputs": [],
   "source": [
    "for drvs, cc in zip(male_drivers_bf2_vkck, corr_clust):\n",
    "    drvs.to_csv(processed_data + '../RoadtoUMAP/male_drivers_bf2_vkck_' + cc +'.csv')"
   ]
  },
  {
   "cell_type": "markdown",
   "id": "05e5fd29-e091-4b6d-89d8-53c4749e2a56",
   "metadata": {},
   "source": [
    "#### To the female cluster"
   ]
  },
  {
   "cell_type": "code",
   "execution_count": null,
   "id": "67b27591-e275-43fb-97ee-04000b4cd183",
   "metadata": {},
   "outputs": [],
   "source": [
    "female_drivers = []\n",
    "for i, g in enumerate(vtk_g_bf2_dr):\n",
    "    if i == 0:\n",
    "        female_drivers.append(g.compute_lineage_drivers(lineages=\"Female\", return_drivers=True, cluster_key = 'stage_bfs', clusters= ['Gametocytes (developing)', 'Gametocytes (branching)']))\n",
    "    else:\n",
    "        female_drivers.append(g.compute_lineage_drivers(lineages=\"Female\", return_drivers=True))\n"
   ]
  },
  {
   "cell_type": "code",
   "execution_count": null,
   "id": "bb2f7214-7f60-46b6-b641-e58fdc676916",
   "metadata": {},
   "outputs": [],
   "source": [
    "female_drivers[1]"
   ]
  },
  {
   "cell_type": "code",
   "execution_count": null,
   "id": "dcadd22e-5282-4a40-9d01-f91d6e0a45a9",
   "metadata": {},
   "outputs": [],
   "source": [
    "for drvs in female_drivers:\n",
    "    print(drvs.index.tolist()[:10])"
   ]
  },
  {
   "cell_type": "markdown",
   "id": "396e6472-0f87-41c9-8984-b35b5597e1b2",
   "metadata": {},
   "source": [
    "Plotting top 4 driver genes per timepoint"
   ]
  },
  {
   "cell_type": "code",
   "execution_count": null,
   "id": "1d771ad7-1606-4d0d-8bc8-c16b58b72b35",
   "metadata": {
    "tags": []
   },
   "outputs": [],
   "source": [
    "for g in vtk_g_bf2_dr:\n",
    "    g.plot_lineage_drivers(\"Female\", n_genes=4, components='2,3') "
   ]
  },
  {
   "cell_type": "markdown",
   "id": "5a72ada9-2d5d-4cd4-9dd4-979d4d120f0b",
   "metadata": {},
   "source": [
    "Phase potraits highlighting behaviour of gene in 'Gametocytes (branching)' cluster. We should start seeing activation atleast in cells that will then on become female."
   ]
  },
  {
   "cell_type": "markdown",
   "id": "f59a1705-a5db-495d-ae54-9f8ed1bbd943",
   "metadata": {},
   "source": [
    "Phase potraits highlighting behaviour of gene in 'Gametocytes (early male)','Gametocytes (late male)' cluster. We should see activation"
   ]
  },
  {
   "cell_type": "code",
   "execution_count": null,
   "id": "6bbd04fc-a1cf-4aeb-a800-4937c5e4c2e4",
   "metadata": {
    "jupyter": {
     "outputs_hidden": true
    },
    "tags": []
   },
   "outputs": [],
   "source": [
    "for i, drvs in enumerate(female_drivers):\n",
    "    scv.pl.scatter(ef_scv_stochastic[1], drvs.index[0:4].to_list(), color=['stage_bfs'], add_outline=['Gametocytes (developing)','Gametocytes (branching)'])\n",
    "    scv.pl.scatter(ef_scv_stochastic[1], drvs.index[0:4].to_list(), color=['stage_bfs'], add_outline=['Gametocytes (early female)','Gametocytes (late female)'])\n",
    "    scv.pl.scatter(ef_scv_stochastic[1], drvs.index[0:4].to_list(), color=['stage_bfs'], add_outline=['Gametocytes (early male)','Gametocytes (late male)'])"
   ]
  },
  {
   "cell_type": "markdown",
   "id": "26d84b28-7b35-45fb-993e-c05f7a8a2707",
   "metadata": {},
   "source": [
    "Upset plots to assess driver genes in branching gams that is shared between day10 new and day 10 old datasets and the 2 datasets combined using retaining only genes positively correlated to absorption probabilities towards terminal males where P < 0.001 as qvalue is NA https://github.com/theislab/cellrank/issues/819"
   ]
  },
  {
   "cell_type": "code",
   "execution_count": null,
   "id": "69ba717e-0a82-4ebb-91ff-d27cada179a7",
   "metadata": {
    "tags": []
   },
   "outputs": [],
   "source": [
    "for i, drvs in enumerate(female_drivers):\n",
    "    scv.pl.umap(ef_scv_stochastic[1],  layer='Mu',  color=drvs.index[0:5].to_list(), components='2,3')"
   ]
  },
  {
   "cell_type": "code",
   "execution_count": null,
   "id": "ef13af6d-8ce2-45d5-8623-3e0fa93cf21a",
   "metadata": {
    "tags": []
   },
   "outputs": [],
   "source": [
    "female_drivers_bf2_vkck=[]\n",
    "for drvs in female_drivers:\n",
    "    female_drivers_bf2_vkck.append(pd.merge(drvs, Pf_genes_cln, how='left', left_index=True, right_index=True))"
   ]
  },
  {
   "cell_type": "code",
   "execution_count": null,
   "id": "4dfe95b7-d12f-450d-be57-da6653ae8d67",
   "metadata": {},
   "outputs": [],
   "source": [
    "for drvs, cc in zip(female_drivers_bf2_vkck, corr_clust):\n",
    "    drvs.to_csv(processed_data + '../RoadtoUMAP/female_drivers_bf2_vkck_' + cc +'.csv')"
   ]
  },
  {
   "cell_type": "markdown",
   "id": "947b6b80-8ab7-4f5a-a565-da21a90c2bf6",
   "metadata": {},
   "source": [
    "Plotting top 4 driver genes per timepoint"
   ]
  },
  {
   "cell_type": "code",
   "execution_count": null,
   "id": "c52692ad-e989-4773-8b07-84974364cc10",
   "metadata": {},
   "outputs": [],
   "source": [
    "for drvs in female_drivers:\n",
    "    scv.pl.umap(ef_scv_stochastic[1],  layer='velocity',  color=drvs.index[0:5].to_list(), components='2,3')"
   ]
  },
  {
   "cell_type": "markdown",
   "id": "470a54c4-c69e-4794-8d6b-da41a4035343",
   "metadata": {},
   "source": [
    "Upset plot for female"
   ]
  },
  {
   "cell_type": "markdown",
   "id": "5f104395-0cf9-4b23-97ba-96549566783b",
   "metadata": {},
   "source": [
    "Upset plots to assess driver genes in branching gams that is shared between day10 new and day 10 old datasets and the 2 datasets combined using retaining only genes positively correlated to absorption probabilities towards terminal males where P < 0.001 as qvalue is NA. bug in scvelo https://github.com/theislab/cellrank/issues/819"
   ]
  },
  {
   "cell_type": "code",
   "execution_count": null,
   "id": "dbbbae90-aacf-4094-b489-1ba520e05da8",
   "metadata": {},
   "outputs": [],
   "source": [
    "scv.pl.umap(ef_scv_stochastic[1], color='PF3D7_1438800', layer='Mu', legend_loc='right', components='2,3')"
   ]
  },
  {
   "cell_type": "code",
   "execution_count": null,
   "id": "e88e84c2-faf6-4005-9466-e3534c4c78a8",
   "metadata": {},
   "outputs": [],
   "source": [
    "scv.pl.umap(ef_scv_stochastic[0], color='PF3D7_1438800', layer='velocity', legend_loc='right', components='2,3')"
   ]
  },
  {
   "cell_type": "code",
   "execution_count": null,
   "id": "88055652-72f0-4629-8abe-107018d1c7e3",
   "metadata": {
    "tags": []
   },
   "outputs": [],
   "source": [
    "# scv.pl.umap(ef_scv[1], color='PF3D7_0918700', layer='unspliced', legend_loc='right', components='2,3')"
   ]
  },
  {
   "cell_type": "code",
   "execution_count": null,
   "id": "09d87b43-af8f-4957-acfe-f7989a3f8c05",
   "metadata": {
    "tags": []
   },
   "outputs": [],
   "source": [
    "# scv.pl.umap(ef_scv[2], color='PF3D7_0424100', layer='velocity_u', legend_loc='right', components='2,3')"
   ]
  },
  {
   "cell_type": "code",
   "execution_count": null,
   "id": "a2aef87d-34c3-440e-bfd2-8cca8879546b",
   "metadata": {},
   "outputs": [],
   "source": [
    "scv.pl.umap(ef_scv_stochastic[0], color='PF3D7_0918700', layer='velocity', legend_loc='right', components='2,3')"
   ]
  },
  {
   "cell_type": "code",
   "execution_count": null,
   "id": "65608771-70eb-48fd-9b81-666389c19d22",
   "metadata": {},
   "outputs": [],
   "source": [
    "# ef_scv[2].obs.columns"
   ]
  },
  {
   "cell_type": "code",
   "execution_count": null,
   "id": "cf2d89a5-f6ae-4b5d-88a8-24e7fd3fb522",
   "metadata": {},
   "outputs": [],
   "source": [
    "# for obj, dg in zip(ef_scv_stochastic, branching_gam_drivers_f):\n",
    "#     scv.pl.umap(obj,  layer='unspliced',  color=dg.index[0:5].to_list(), components='2,3')"
   ]
  },
  {
   "cell_type": "code",
   "execution_count": null,
   "id": "360b015b-9cc3-48f7-b0c4-47abbc845dc4",
   "metadata": {},
   "outputs": [],
   "source": [
    "scv.pl.scatter(ef_scv_stochastic[1], 'PF3D7_1438800', color='stage_bfs', add_outline=['Gametocytes (committed)', 'Gametocytes (developing)', 'Gametocytes (branching)'], legend_loc='right')"
   ]
  },
  {
   "cell_type": "code",
   "execution_count": null,
   "id": "8af6bf86-71d8-41d1-a5ab-864c7e045023",
   "metadata": {
    "tags": []
   },
   "outputs": [],
   "source": [
    "scv.pl.scatter(ef_scv_stochastic[1], 'PF3D7_1438800', color='stage_bfs', legend_loc='right')"
   ]
  },
  {
   "cell_type": "code",
   "execution_count": null,
   "id": "6b6bb893-c688-409f-be26-4c03a5249794",
   "metadata": {},
   "outputs": [],
   "source": [
    "scv.pl.scatter(obj, 'PF3D7_0603600', color='stage_bfs', add_outline=['Gametocytes (committed)', 'Gametocytes (developing)', 'Gametocytes (branching)'], legend_loc='right')"
   ]
  },
  {
   "cell_type": "markdown",
   "id": "b083eb9e-c434-4807-81b4-fb32e361f0e7",
   "metadata": {},
   "source": [
    "Fitting GAMs for assesment of gene expression clusters over latent time"
   ]
  },
  {
   "cell_type": "code",
   "execution_count": null,
   "id": "e8e1d4e1-4247-4945-b57b-dafa1a2a69ad",
   "metadata": {},
   "outputs": [],
   "source": [
    "modelGAM_male_lineage = []\n",
    "for obj in ef_scv_stochastic:\n",
    "    model=cr.ul.models.GAM(obj)\n",
    "    modelGAM_male_lineage.append(model)\n"
   ]
  },
  {
   "cell_type": "code",
   "execution_count": null,
   "id": "1bb1b2c5-b848-4188-a84a-82087cce519e",
   "metadata": {},
   "outputs": [],
   "source": []
  },
  {
   "cell_type": "code",
   "execution_count": null,
   "id": "77a3ec10-3a10-4c1c-8a78-e0195951dc22",
   "metadata": {
    "tags": []
   },
   "outputs": [],
   "source": [
    "for i, obj in enumerate(ef_scv_stochastic):\n",
    "    cr.pl.cluster_lineage(\n",
    "            obj,\n",
    "            model = modelGAM_male_lineage[i],\n",
    "            genes=branching_gam_drivers_m[i].index[(branching_gam_drivers_m[i]['Late male_qval'] < 0.001) & (branching_gam_drivers_m[i]['Late male_corr'] > 0.2)].to_list(),\n",
    "            lineage=\"Late male\",\n",
    "            time_key=\"pseudo_mg\",\n",
    "            show_progress_bar=False,\n",
    "            recompute=True,\n",
    "            sharey=True,\n",
    "            covariate_key=['stage_bfs']\n",
    "        )\n"
   ]
  },
  {
   "cell_type": "code",
   "execution_count": null,
   "id": "fdc27c9d-a3df-4fbe-aa73-9a6caf1ea5d2",
   "metadata": {
    "tags": []
   },
   "outputs": [],
   "source": [
    "for i, obj in enumerate(ef_scv_stochastic):\n",
    "    cr.pl.cluster_lineage(\n",
    "            obj,\n",
    "            model = modelGAM_male_lineage[i],\n",
    "            genes=branching_gam_drivers_m[i].index[(branching_gam_drivers_m[i]['Late male_qval'] < 0.001) & (branching_gam_drivers_m[i]['Late male_corr'] < -0.2)].to_list(),\n",
    "            lineage=\"Late male\",\n",
    "            time_key=\"pseudo_mg\",\n",
    "            show_progress_bar=False,\n",
    "            recompute=True,\n",
    "            sharey=True,\n",
    "            covariate_key=['stage_bfs']\n",
    "        )"
   ]
  },
  {
   "cell_type": "code",
   "execution_count": null,
   "id": "a942cdaf-5610-4bf2-b429-818e4fd81ef1",
   "metadata": {},
   "outputs": [],
   "source": [
    "v3_days_all_fnl"
   ]
  },
  {
   "cell_type": "code",
   "execution_count": null,
   "id": "eb11481e-2f68-41c3-8769-2454e5f69705",
   "metadata": {
    "tags": []
   },
   "outputs": [],
   "source": [
    "# plt.rcParams[\"figure.figsize\"] = (120, 5)\n",
    "for i, obj in enumerate(ef_scv_stochastic):\n",
    "    cr.pl.gene_trends(\n",
    "        obj,\n",
    "        lineages=['Late female','Late male'],\n",
    "        model=modelGAM_male_lineage[i],\n",
    "        data_key=\"X\",\n",
    "        genes=branching_gam_drivers_m[i].index[(branching_gam_drivers_m[i]['Late male_qval'] < 0.0000000000001) & (branching_gam_drivers_m[i]['Late male_corr'] < -0.3)].to_list(),\n",
    "        ncols=5,\n",
    "        time_key=\"pseudo_mg\",\n",
    "        same_plot=True,\n",
    "        hide_cells=True,\n",
    "        figsize=(50, 6),\n",
    "        n_test_points=200)\n",
    "    \n",
    "# plt.rcParams[\"figure.figsize\"] = (7, 5)"
   ]
  },
  {
   "cell_type": "code",
   "execution_count": null,
   "id": "f25c863b-d8b7-4470-b352-e741f4c9790b",
   "metadata": {},
   "outputs": [],
   "source": [
    "modelGAM_female_lineage_bf2 = []\n",
    "for obj in ef_scv_stochastic:\n",
    "    model=cr.ul.models.GAM(obj)\n",
    "    modelGAM_female_lineage_bf2.append(model)\n"
   ]
  },
  {
   "cell_type": "code",
   "execution_count": null,
   "id": "23678ade-b968-4f04-ab15-f5557eca083c",
   "metadata": {},
   "outputs": [],
   "source": []
  },
  {
   "cell_type": "code",
   "execution_count": null,
   "id": "d618d15c-d528-47dc-a4e6-8500718a41d3",
   "metadata": {},
   "outputs": [],
   "source": [
    "modelGAM_female_lineage_bf2 = []\n",
    "for obj in ef_scv_stochastic:\n",
    "    model=cr.ul.models.GAM(obj)\n",
    "    modelGAM_female_lineage_bf2.append(model)"
   ]
  },
  {
   "cell_type": "markdown",
   "id": "52ea5335-7312-4280-a162-732137c94608",
   "metadata": {},
   "source": [
    "Driver genes in CD positively correlated with progression to female fate"
   ]
  },
  {
   "cell_type": "markdown",
   "id": "82ac4ef5-8f39-4a69-b6c2-8e4249b69737",
   "metadata": {},
   "source": [
    "Driver genes in gambranch positively correlated with progression to female fate"
   ]
  },
  {
   "cell_type": "code",
   "execution_count": null,
   "id": "170aaa1b-55bd-496a-aad9-6086332f2244",
   "metadata": {
    "jupyter": {
     "outputs_hidden": true
    },
    "tags": []
   },
   "outputs": [],
   "source": [
    "for i, obj in enumerate(ef_scv_stochastic):\n",
    "    cr.pl.cluster_lineage(\n",
    "            obj,\n",
    "            model = modelGAM_female_lineage_bf2[i],\n",
    "            genes=branching_gam_drivers_f[i].index[(branching_gam_drivers_f[i]['Late female_qval'] < 0.0000000000001) & (branching_gam_drivers_f[i]['Late female_corr'] > -0.2)].to_list(),\n",
    "            lineage=\"Late female\",\n",
    "            time_key=\"pseudo_mg\",\n",
    "            show_progress_bar=False,\n",
    "            recompute=True,\n",
    "            sharey=True,\n",
    "            covariate_key=['stage_bfs']\n",
    "        )"
   ]
  },
  {
   "cell_type": "markdown",
   "id": "2f552781-c8f3-47fe-ba0b-63e3c947ed20",
   "metadata": {
    "jupyter": {
     "outputs_hidden": true
    },
    "tags": []
   },
   "source": [
    "branching_gam_drivers_f is the equivalent of female_drivers_CDB for the branching driver list. Care should be taken to avoid being confused by names"
   ]
  },
  {
   "cell_type": "code",
   "execution_count": null,
   "id": "ad022820-bb58-4929-b250-dbce7f60a151",
   "metadata": {},
   "outputs": [],
   "source": [
    "##Pseudotime kernel"
   ]
  }
 ],
 "metadata": {
  "kernelspec": {
   "display_name": "Python 3 (ipykernel)",
   "language": "python",
   "name": "python3"
  },
  "language_info": {
   "codemirror_mode": {
    "name": "ipython",
    "version": 3
   },
   "file_extension": ".py",
   "mimetype": "text/x-python",
   "name": "python",
   "nbconvert_exporter": "python",
   "pygments_lexer": "ipython3",
   "version": "3.9.12"
  }
 },
 "nbformat": 4,
 "nbformat_minor": 5
}
