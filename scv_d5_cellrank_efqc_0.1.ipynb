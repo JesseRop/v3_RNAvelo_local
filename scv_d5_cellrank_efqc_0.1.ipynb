{
 "cells": [
  {
   "cell_type": "markdown",
   "id": "7aef9204-8215-4cce-9c7a-9aeed45eeef2",
   "metadata": {},
   "source": [
    "Importing modules from conda environment '/lustre/scratch118/malaria/team222/jr35/phd/envs_py/scv_jupcon/'"
   ]
  },
  {
   "cell_type": "code",
   "execution_count": null,
   "id": "b1105056-6be2-49e0-977e-d80ff3a32c8b",
   "metadata": {},
   "outputs": [],
   "source": [
    "import seaborn as sns\n",
    "import pandas as pd\n",
    "## import scrublet as scr\n",
    "import leidenalg\n",
    "import matplotlib.pyplot as plt\n",
    "import numpy as np\n",
    "import scvelo as scv\n",
    "import scanpy as sc\n",
    "import scipy.io\n",
    "import loompy as lp\n",
    "import anndata\n",
    "import cellrank as cr\n",
    "from cellrank.tl.kernels import VelocityKernel\n",
    "from cellrank.tl.kernels import PseudotimeKernel\n",
    "import bbknn\n",
    "import copy"
   ]
  },
  {
   "cell_type": "code",
   "execution_count": null,
   "id": "18c5c0d2-37b6-47a4-b8bc-a64d13993908",
   "metadata": {},
   "outputs": [],
   "source": [
    "import plotly.express as px\n",
    "import pickle\n",
    "from IPython.display import display\n",
    "from upsetplot import generate_counts, plot \n",
    "import string\n"
   ]
  },
  {
   "cell_type": "code",
   "execution_count": null,
   "id": "9146ec93-a9ab-4f47-b027-c43a1a5e727f",
   "metadata": {},
   "outputs": [],
   "source": [
    "import warnings\n",
    "import re\n",
    "# warnings.filterwarnings(action='ignore')\n",
    "warnings.simplefilter(\"ignore\", category=UserWarning)\n",
    "warnings.simplefilter(\"ignore\", category=FutureWarning)\n",
    "warnings.simplefilter(\"ignore\", category=DeprecationWarning)"
   ]
  },
  {
   "cell_type": "code",
   "execution_count": null,
   "id": "6fd1db4c-8a1a-440b-9ec9-429d14a118a3",
   "metadata": {},
   "outputs": [],
   "source": [
    "import os\n",
    "os.chdir('/Users/jr35/Google Drive/My Drive/PHD_documents/malaria_phd/sc_velo/')"
   ]
  },
  {
   "cell_type": "code",
   "execution_count": null,
   "id": "c8b575c4-6fb5-4940-8c21-6b5ec5dffb59",
   "metadata": {},
   "outputs": [],
   "source": [
    "os.getcwd()"
   ]
  },
  {
   "cell_type": "code",
   "execution_count": null,
   "id": "e46e4422-e6cc-46d2-a52b-9e2911ad50e1",
   "metadata": {},
   "outputs": [],
   "source": []
  },
  {
   "cell_type": "code",
   "execution_count": null,
   "id": "b4c20c8a-8980-4376-bb6c-9ab6e9732d84",
   "metadata": {},
   "outputs": [],
   "source": [
    "# import warnings\n",
    "\n",
    "# def function_that_warns():\n",
    "#     warnings.warn(\"deprecated\", DeprecationWarning)\n",
    "\n",
    "# with warnings.catch_warnings():\n",
    "#     warnings.simplefilter(\"ignore\")\n",
    "#     function_that_warns()  # this will not show a warning\n"
   ]
  },
  {
   "cell_type": "markdown",
   "id": "49cabcb7-5571-4b7b-b1b8-6ddea440b467",
   "metadata": {},
   "source": [
    "Check module version"
   ]
  },
  {
   "cell_type": "code",
   "execution_count": null,
   "id": "8595e0f0-527a-4b7f-b6d3-26546ca44888",
   "metadata": {},
   "outputs": [],
   "source": [
    "# print(cr.__version__)"
   ]
  },
  {
   "cell_type": "code",
   "execution_count": null,
   "id": "f69e66de-7bb4-43ab-b0c5-94f613c11380",
   "metadata": {},
   "outputs": [],
   "source": [
    "# unload module\n",
    "# del str"
   ]
  },
  {
   "cell_type": "code",
   "execution_count": null,
   "id": "8e09c197-fb47-47c2-910d-b17ae5bd3f70",
   "metadata": {},
   "outputs": [],
   "source": [
    "scv.logging.print_versions()"
   ]
  },
  {
   "cell_type": "code",
   "execution_count": null,
   "id": "9a654482-1b60-4fa2-b016-11912139b4fd",
   "metadata": {
    "tags": []
   },
   "outputs": [],
   "source": [
    "# import holoviews as hv  # needed for scatter, scatterc and dpt\n",
    "# hv.extension('bokeh')\n",
    "\n",
    "# import interactive_plotting as ipl  \n",
    "\n",
    "# from bokeh.io import output_notebook\n",
    "# output_notebook()"
   ]
  },
  {
   "cell_type": "code",
   "execution_count": null,
   "id": "2a13fe58-11b1-45ed-8aa0-1648f0ec33c1",
   "metadata": {
    "tags": []
   },
   "outputs": [],
   "source": [
    "# # import scanpy.api as sc\n",
    "# import re\n",
    "# # import interactive_plotting as ipl\n",
    "# import holoviews as hv"
   ]
  },
  {
   "cell_type": "code",
   "execution_count": null,
   "id": "c6574ca8-363a-41a5-a8c2-20927c1641d1",
   "metadata": {
    "tags": []
   },
   "outputs": [],
   "source": [
    "# sc.logging.print_versions()\n",
    "# sc.settings.verbosity = 0"
   ]
  },
  {
   "cell_type": "code",
   "execution_count": null,
   "id": "af6ec55b-cccd-4448-861d-3bc155c50b68",
   "metadata": {
    "tags": []
   },
   "outputs": [],
   "source": [
    "# import interactive_plotting as ipl"
   ]
  },
  {
   "cell_type": "code",
   "execution_count": null,
   "id": "58615c9d-43a1-4e5b-bf0d-d75023dcf2ba",
   "metadata": {
    "tags": []
   },
   "outputs": [],
   "source": [
    "# import holoviews as hv"
   ]
  },
  {
   "cell_type": "code",
   "execution_count": null,
   "id": "7a591aff-a85a-460c-8276-a1ca1e747725",
   "metadata": {
    "tags": []
   },
   "outputs": [],
   "source": [
    "# hv.extension('bokeh')"
   ]
  },
  {
   "cell_type": "code",
   "execution_count": null,
   "id": "a2165d60-ae50-4533-937d-1eb9c070a76b",
   "metadata": {
    "tags": []
   },
   "outputs": [],
   "source": [
    "# from bokeh.io import output_notebook\n",
    "# output_notebook()"
   ]
  },
  {
   "cell_type": "code",
   "execution_count": null,
   "id": "386ee7a3-8aee-47cf-a3cd-c0666f921f56",
   "metadata": {},
   "outputs": [],
   "source": [
    "# scv.settings.verbosity = 3  # show errors(0), warnings(1), info(2), hints(3)\n",
    "# scv.settings.presenter_view = True  # set max width size for presenter view\n",
    "# scv.settings.set_figure_params('scvelo')  # for beautified visualization"
   ]
  },
  {
   "cell_type": "markdown",
   "id": "6bd6d30e-566b-4228-9c45-1876b840cb37",
   "metadata": {},
   "source": [
    "set some figure settings"
   ]
  },
  {
   "cell_type": "code",
   "execution_count": null,
   "id": "4cfb2f26-21b5-4463-8a1f-196c295d9fa0",
   "metadata": {},
   "outputs": [],
   "source": [
    "scv.set_figure_params(transparent=False, facecolor = 'white', frameon=True)"
   ]
  },
  {
   "cell_type": "code",
   "execution_count": null,
   "id": "201345db-53ad-49d5-9780-44b677797a15",
   "metadata": {},
   "outputs": [],
   "source": [
    "# packages installed with scrublet PyWavelets-1.1.1 annoy-1.17.0 cython-0.29.24 imageio-2.9.0 scikit-image-0.18.3 scrublet-0.2.3 tifffile-2021.8.30"
   ]
  },
  {
   "cell_type": "markdown",
   "id": "139f2562-dac7-41a9-abe8-784348ea062d",
   "metadata": {},
   "source": [
    "Initialize variables for some where the raw and processed data is"
   ]
  },
  {
   "cell_type": "code",
   "execution_count": null,
   "id": "b8f47152-a8b1-492c-b9c9-8d62f1563a12",
   "metadata": {},
   "outputs": [],
   "source": [
    "raw_data = 'data/raw/PfDB52e/'\n",
    "processed_data = 'data/processed/PfDB52e/'"
   ]
  },
  {
   "cell_type": "code",
   "execution_count": null,
   "id": "35679e3d-bc0e-4d12-8d2f-cb645df620f4",
   "metadata": {},
   "outputs": [],
   "source": [
    "##Read in in splice and unspliced matrices genereted by velocyto"
   ]
  },
  {
   "cell_type": "code",
   "execution_count": null,
   "id": "fc912f88-47a3-4b8b-972e-4444512e9871",
   "metadata": {},
   "outputs": [],
   "source": [
    "# from pathlib import Path\n",
    "# result = list(Path(\"data/processed/PfDB52e\").rglob(\"*.[lL][oO][oO][mM]\"))"
   ]
  },
  {
   "cell_type": "code",
   "execution_count": null,
   "id": "965c92ba-ae62-446a-bc43-b0b0a6a01831",
   "metadata": {
    "tags": []
   },
   "outputs": [],
   "source": [
    "# result"
   ]
  },
  {
   "cell_type": "markdown",
   "id": "38c223db-a91b-4d52-b0e1-e370fd5e1aeb",
   "metadata": {},
   "source": [
    "Combine day10 looms"
   ]
  },
  {
   "cell_type": "code",
   "execution_count": null,
   "id": "ec31022d-c368-40a8-a595-248d555abafd",
   "metadata": {},
   "outputs": [],
   "source": [
    "# loompy.combine(['data/processed/PfDB52e/day10/vcyto/possorted_genome_bam_7YCS2.loom', 'data/processed/PfDB52e/day10b/vcyto/possorted_genome_bam_09PD6.loom'], '/lustre/scratch118/malaria/team222/jr35/phd/V3_4TP/sc_velodata/processed/PfDB52e/d10_d10b/vcyto/possorted_genome_bam_d10_d10b.loom', key=\"Accession\")"
   ]
  },
  {
   "cell_type": "markdown",
   "id": "089dfbd0-7134-489d-82c7-dbeeac1e3198",
   "metadata": {},
   "source": [
    "Combine all looms"
   ]
  },
  {
   "cell_type": "code",
   "execution_count": null,
   "id": "91dcfd9a-4802-458a-8615-aaf29af2c68f",
   "metadata": {},
   "outputs": [],
   "source": [
    "# loompy.combine(['data/processed/PfDB52e/asexuals/vcyto/possorted_genome_bam_UZNXI.loom', 'data/processed/PfDB52e/day3/vcyto/possorted_genome_bam_ASHFZ.loom', 'data/processed/PfDB52e/day5/vcyto/possorted_genome_bam_H66NQ.loom','data/processed/PfDB52e/day10/vcyto/possorted_genome_bam_7YCS2.loom', 'data/processed/PfDB52e/day10b/vcyto/possorted_genome_bam_09PD6.loom'], '/lustre/scratch118/malaria/team222/jr35/phd/V3_4TP/sc_velodata/processed/PfDB52e/all_days/vcyto/possorted_genome_bam_all_days.loom', key=\"Accession\")"
   ]
  },
  {
   "cell_type": "code",
   "execution_count": null,
   "id": "28100b82-32b5-4171-9672-c616cfef60e5",
   "metadata": {},
   "outputs": [],
   "source": [
    "# d10_d10b_loom = scv.read_loom('/lustre/scratch118/malaria/team222/jr35/phd/V3_4TP/sc_velodata/processed/PfDB52e/d10_d10b/vcyto/possorted_genome_bam_d10_d10b.loom')"
   ]
  },
  {
   "cell_type": "code",
   "execution_count": null,
   "id": "3da335df-396b-46e9-bf55-586ac910a3cb",
   "metadata": {},
   "outputs": [],
   "source": [
    "# d5_filt_lp = scv.read_loom(processed_data + \"vcyto/possorted_genome_bam_H66NQ.loom\")"
   ]
  },
  {
   "cell_type": "markdown",
   "id": "3aa63702-16e6-46df-9ce4-17ce73155b3d",
   "metadata": {},
   "source": [
    "Read both day10s, format barcode names and combine and save as loom"
   ]
  },
  {
   "cell_type": "markdown",
   "id": "ee6639ff-d79c-464f-9d8a-b91d59f68ca8",
   "metadata": {},
   "source": [
    "Initialize variables for the different datasets/batches (days when sample was processed)"
   ]
  },
  {
   "cell_type": "code",
   "execution_count": null,
   "id": "64fa4496-9e3b-43be-9bd2-1149d6b15bbc",
   "metadata": {},
   "outputs": [],
   "source": [
    "# v3_days_d10 = ['day10', 'day10b']"
   ]
  },
  {
   "cell_type": "markdown",
   "id": "7b87d1c7-6307-4cf0-8200-f8d82c759696",
   "metadata": {},
   "source": [
    "Initialize variables for the loom files with spliced and unspliced matrices generated by velocyto for each of the different datasets/batches (days when sample was processed)"
   ]
  },
  {
   "cell_type": "code",
   "execution_count": null,
   "id": "19448329-433d-4669-9c39-4fe3ff2f004b",
   "metadata": {},
   "outputs": [],
   "source": [
    "# lp_name_d10 = [ 'possorted_genome_bam_7YCS2.loom', 'possorted_genome_bam_09PD6.loom']"
   ]
  },
  {
   "cell_type": "markdown",
   "id": "074b4044-40a3-4661-8757-535934d4e634",
   "metadata": {},
   "source": [
    "Reading in the loom files with spliced and unspliced matrices and formating barcodes to allow merging with seurat object"
   ]
  },
  {
   "cell_type": "code",
   "execution_count": null,
   "id": "645b9a22-6b88-4278-b010-45896ab7353a",
   "metadata": {},
   "outputs": [],
   "source": [
    "# bcode_days_d10 = ['D10a','D10b']"
   ]
  },
  {
   "cell_type": "code",
   "execution_count": null,
   "id": "f9f7a78c-37fd-422e-982a-7835345d7859",
   "metadata": {
    "tags": []
   },
   "outputs": [],
   "source": [
    "# filt_lp_d10 = []\n",
    "# for day, lp, v3_day in zip(v3_days_d10, lp_name_d10, bcode_days_d10):\n",
    "#     x = scv.read_loom('data/processed/PfDB52e/' + day + '/vcyto/' + lp)\n",
    "#     # scv.utils.clean_obs_names(x, alphabet='[AGTC]', id_length=12, inplace=True)\n",
    "#     x.obs_names = [v3_day+'_'+re.sub('^.*:|x$', '', i)+'-1' for i in x.obs_names]\n",
    "#     x.write_loom('data/processed/PfDB52e/' + day + '/vcyto/' + 'barcode_fmt_'+lp)\n",
    "#     filt_lp_d10.append(x)"
   ]
  },
  {
   "cell_type": "code",
   "execution_count": null,
   "id": "f350bea7-4d70-4f0c-852b-34322fcac358",
   "metadata": {},
   "outputs": [],
   "source": [
    "# loompy.combine(['data/processed/PfDB52e/day10/vcyto/barcode_fmt_possorted_genome_bam_7YCS2.loom', 'data/processed/PfDB52e/day10b/vcyto/barcode_fmt_possorted_genome_bam_09PD6.loom'], '/lustre/scratch118/malaria/team222/jr35/phd/V3_4TP/sc_velodata/processed/PfDB52e/d10_d10b/vcyto/barcode_fmt_possorted_genome_bam_d10_d10b.loom', key=\"Accession\")"
   ]
  },
  {
   "cell_type": "code",
   "execution_count": null,
   "id": "e20c1d0d-a703-40d5-b500-f77048896cb0",
   "metadata": {},
   "outputs": [],
   "source": [
    "##Copy loom files from farm to local using rsync (Had to set up ssh keys to enable the copying without asking for password)"
   ]
  },
  {
   "cell_type": "code",
   "execution_count": null,
   "id": "4ffd9146-0550-482e-89aa-49ec84043006",
   "metadata": {
    "tags": []
   },
   "outputs": [],
   "source": [
    "# %%bash\n",
    "# destination_day=(\"asexuals\" \"day3\" \"day5\" \"day10\" \"day10b\" \"d10_d10b\" \"all_days\")\n",
    "# lp_name=('possorted_genome_bam_UZNXI.loom' 'possorted_genome_bam_ASHFZ.loom' 'possorted_genome_bam_H66NQ.loom' 'possorted_genome_bam_7YCS2.loom' 'possorted_genome_bam_09PD6.loom' 'possorted_genome_bam_d10_d10b.loom' 'possorted_genome_bam_all_days.loom')\n",
    "# # w_dir='/Volumes/GoogleDrive/My\\ Drive/PHD_documents/malaria_phd/sc_velodata'\n",
    "# # echo $w_dir\n",
    "# for j in \"${!destination_day[@]}\";\n",
    "#     do\n",
    "#         mkdir -p /Volumes/GoogleDrive/My\\ Drive/PHD_documents/malaria_phd/sc_velodata/processed/PfDB52e/${destination_day[j]}/vcyto/\n",
    "#         rsync -av jr35@farm5-head1:/lustre/scratch118/malaria/team222/jr35/phd/V3_4TP/sc_velodata/processed/PfDB52e/${destination_day[j]}/vcyto/${lp_name[j]} /Volumes/GoogleDrive/My\\ Drive/PHD_documents/malaria_phd/sc_velodata/processed/PfDB52e/${destination_day[j]}/vcyto/\n",
    "#     done\n",
    "    "
   ]
  },
  {
   "cell_type": "markdown",
   "id": "18e77f83-5028-4416-a366-2eb665e23b14",
   "metadata": {},
   "source": [
    "Initialize variables for the different datasets/batches (days when sample was processed)"
   ]
  },
  {
   "cell_type": "code",
   "execution_count": null,
   "id": "c066b48f-2226-439b-aac2-0e3b7a20402b",
   "metadata": {},
   "outputs": [],
   "source": [
    "v3_days = ['asexuals', 'day3', 'day5', 'day10', 'day10b', 'd10_d10b', 'all_days']"
   ]
  },
  {
   "cell_type": "code",
   "execution_count": null,
   "id": "63c96d48-810f-4a07-a010-b5a3a2e6932c",
   "metadata": {},
   "outputs": [],
   "source": [
    "v3_days_all = ['asexuals', 'day3', 'day5', 'day10', 'day10b', 'd10_d10b', 'all_days', 'all']"
   ]
  },
  {
   "cell_type": "markdown",
   "id": "f742c430-4eba-4775-9b15-0f863bb1f649",
   "metadata": {},
   "source": [
    "Initialize variables for the loom files with spliced and unspliced matrices generated by velocyto for each of the different datasets/batches (days when sample was processed)"
   ]
  },
  {
   "cell_type": "code",
   "execution_count": null,
   "id": "5b3291aa-74f2-427c-98a1-ac26ab4db898",
   "metadata": {},
   "outputs": [],
   "source": [
    "lp_name = ['possorted_genome_bam_UZNXI.loom', 'possorted_genome_bam_ASHFZ.loom', 'possorted_genome_bam_H66NQ.loom', 'possorted_genome_bam_7YCS2.loom', 'possorted_genome_bam_09PD6.loom', 'possorted_genome_bam_d10_d10b.loom', 'possorted_genome_bam_all_days.loom']"
   ]
  },
  {
   "cell_type": "code",
   "execution_count": null,
   "id": "82190172-1b59-49fd-bd57-588f6d40391c",
   "metadata": {},
   "outputs": [],
   "source": []
  },
  {
   "cell_type": "code",
   "execution_count": null,
   "id": "de1261f3-f4f2-4a95-8d53-d29196771c99",
   "metadata": {},
   "outputs": [],
   "source": [
    "# for day, lp in zip(v3_days[1:4], lp_name):\n",
    "#     print('data/processed/PfDB52e/' + day + '/' + lp)"
   ]
  },
  {
   "cell_type": "markdown",
   "id": "176f7b09-b2ac-441c-b2f2-480b49ec71fb",
   "metadata": {},
   "source": [
    "Reading in the loom files with spliced and unspliced matrices and formating barcodes to allow merging with seurat object"
   ]
  },
  {
   "cell_type": "code",
   "execution_count": null,
   "id": "cae6cbe5-fb0d-48d2-b0b5-94764ce3c490",
   "metadata": {},
   "outputs": [],
   "source": [
    "bcode_days = ['D0','D3','D5','D10a','D10b']"
   ]
  },
  {
   "cell_type": "code",
   "execution_count": null,
   "id": "486a132a-7f94-4492-97c3-bad4055f42af",
   "metadata": {},
   "outputs": [],
   "source": [
    "filt_lp=[]\n",
    "\n",
    "for j, lp in enumerate(lp_name):\n",
    "    if j in range(0,5):\n",
    "        x = scv.read_loom('data/processed/PfDB52e/' + v3_days[j] + '/vcyto/' + lp)\n",
    "        # scv.utils.clean_obs_names(x, alphabet='[AGTC]', id_length=12, inplace=True)\n",
    "        x.obs_names = [bcode_days[j]+'_'+re.sub('^.*:|x$', '', i)+'-1' for i in x.obs_names]\n",
    "        filt_lp.append(x)\n",
    "    else :\n",
    "        x = scv.read_loom('data/processed/PfDB52e/' + v3_days[j] + '/vcyto/' + lp)\n",
    "        # scv.utils.clean_obs_names(x, alphabet='[AGTC]', id_length=12, inplace=True)\n",
    "        x.obs_names = [i.replace('possorted_genome_bam_UZNXI:', 'D0_').replace('possorted_genome_bam_ASHFZ:', 'D3_').replace('possorted_genome_bam_H66NQ:', 'D5_').replace('possorted_genome_bam_7YCS2:', 'D10a_').replace('possorted_genome_bam_09PD6:', 'D10b_').replace('x','-1')  for i in x.obs_names] \n",
    "        filt_lp.append(x)"
   ]
  },
  {
   "cell_type": "code",
   "execution_count": null,
   "id": "ed019cf4-0184-415e-9e11-87324727fa9b",
   "metadata": {
    "tags": []
   },
   "outputs": [],
   "source": [
    "# filt_lp = []\n",
    "# for day, lp, v3_day in zip(v3_days, lp_name, bcode_days):\n",
    "#     x = scv.read_loom('data/processed/PfDB52e/' + day + '/vcyto/' + lp)\n",
    "#     # scv.utils.clean_obs_names(x, alphabet='[AGTC]', id_length=12, inplace=True)\n",
    "#     # x.obs_names = [v3_day+'_'+re.sub('^.*:|x$', '', i)+'-1' for i in x.obs_names]\n",
    "#     filt_lp.append(x)"
   ]
  },
  {
   "cell_type": "code",
   "execution_count": null,
   "id": "831f3231-e70b-40e7-bcad-46dedc0e5ff6",
   "metadata": {
    "tags": []
   },
   "outputs": [],
   "source": [
    "filt_lp[6].obs_names"
   ]
  },
  {
   "cell_type": "markdown",
   "id": "5c04ba63-ce91-4bf2-a948-a7961bfd6f94",
   "metadata": {},
   "source": [
    "checking for duplicates in cell barcodes for merged day10 loom files as it is common for different batches to share the same barcodes"
   ]
  },
  {
   "cell_type": "code",
   "execution_count": null,
   "id": "f89cde81-a3c7-4cd6-9d35-f01d01762eb8",
   "metadata": {},
   "outputs": [],
   "source": [
    "from collections import Counter\n",
    "cc = Counter(filt_lp[6].obs_names)\n",
    "cc.most_common(10)"
   ]
  },
  {
   "cell_type": "code",
   "execution_count": null,
   "id": "6a7ed76e-9f7b-4e08-8134-4097f6bec05b",
   "metadata": {},
   "outputs": [],
   "source": [
    "##scVelo using seurat umap"
   ]
  },
  {
   "cell_type": "markdown",
   "id": "f7ae2fe8-902c-425e-b0ca-23f6548fc833",
   "metadata": {},
   "source": [
    "Reading the raw data QCd by Elias"
   ]
  },
  {
   "cell_type": "code",
   "execution_count": null,
   "id": "832ecbb4-1a36-4c9b-8a5f-fec7f6877ce3",
   "metadata": {},
   "outputs": [],
   "source": [
    "ef_qcd = sc.read_h5ad(processed_data + '../RoadtoUMAP/Road2UMAP_raw.h5ad')"
   ]
  },
  {
   "cell_type": "code",
   "execution_count": null,
   "id": "227fd7fc-5645-4927-91fb-ad04dc9cf9ac",
   "metadata": {},
   "outputs": [],
   "source": [
    "\n",
    "# Raw data (for plotting)\n",
    "\n",
    "# We will use this object for gene trend plotting further down.\n",
    "\n",
    "# adata_raw = adata.copy()\n",
    "# sc.pp.filter_genes(adata_raw, min_cells=10)\n",
    "# scv.pp.normalize_per_cell(adata_raw)\n",
    "# sc.pp.log1p(adata_raw)\n",
    "\n",
    "# # annotate highly variable genes, but don't filter them out\n",
    "# sc.pp.highly_variable_genes(adata_raw)\n",
    "# print(f\"This detected {np.sum(adata_raw.var['highly_variable'])} highly variable genes. \")\n",
    "# adata.raw = adata_raw\n",
    "\n"
   ]
  },
  {
   "cell_type": "code",
   "execution_count": null,
   "id": "7b1cadb1-a37c-477e-8fca-c9a6f3cce53d",
   "metadata": {},
   "outputs": [],
   "source": [
    "ef_qcd_raw = ef_qcd.raw.to_adata().copy()"
   ]
  },
  {
   "cell_type": "code",
   "execution_count": null,
   "id": "5350e62e-f3a5-42fd-9c95-e9f6e53cbbaf",
   "metadata": {
    "tags": []
   },
   "outputs": [],
   "source": [
    "# print(ef_qcd_raw.X)"
   ]
  },
  {
   "cell_type": "code",
   "execution_count": null,
   "id": "0b47b1eb-b281-4254-a0b2-ff6fd66a17cf",
   "metadata": {
    "tags": []
   },
   "outputs": [],
   "source": [
    "ef_qcd_raw.obs.value_counts('Stage')"
   ]
  },
  {
   "cell_type": "code",
   "execution_count": null,
   "id": "dcaaf1cd-14e9-4d53-88a7-eec40be86bcc",
   "metadata": {},
   "outputs": [],
   "source": [
    "type(ef_qcd_raw.obs['Stage'])"
   ]
  },
  {
   "cell_type": "markdown",
   "id": "52e7b0e6-d50a-4d73-a25d-931c1806e96d",
   "metadata": {},
   "source": [
    "Cleaning cell barcodes to remove the strings added at the beginning and end to allow merging with loom files containing spliced and unspliced counts"
   ]
  },
  {
   "cell_type": "code",
   "execution_count": null,
   "id": "27d191c7-20a3-4d03-a2af-5c276275f056",
   "metadata": {},
   "outputs": [],
   "source": [
    "def subset_seu_data(stages, day):\n",
    "    subset_ad = ef_qcd_raw[(ef_qcd_raw.obs['Stage'].isin(stages)) & (ef_qcd_raw.obs['orig.ident'] == day), ]\n",
    "    # scv.utils.clean_obs_names(subset_ad)\n",
    "    # scv.utils.clean_obs_names(subset_ad, alphabet='[AGTC]', id_length=12)\n",
    "    return subset_ad"
   ]
  },
  {
   "cell_type": "code",
   "execution_count": null,
   "id": "f4204f10-d72a-49cd-9a32-3e00ffe86e10",
   "metadata": {},
   "outputs": [],
   "source": [
    "# ef_qc_data = []\n",
    "# for i in ['D0', 'D3', 'D5', 'D10a', 'D10b']:\n",
    "#     x = subset_seu_data(stages= ['late ring', 'early trophozoite', 'late trophozoite', 'gametocyte (developing)'], day= i)\n",
    "#     ef_qc_data.append(x)"
   ]
  },
  {
   "cell_type": "code",
   "execution_count": null,
   "id": "b814a006-58f1-4409-bcf4-38e1cb9d94b5",
   "metadata": {},
   "outputs": [],
   "source": [
    "v3_days"
   ]
  },
  {
   "cell_type": "markdown",
   "id": "760209a1-8fb6-4934-9574-47f6b540e233",
   "metadata": {},
   "source": [
    "Subset datasets to contain only the stages of interest for the first bifurcation point"
   ]
  },
  {
   "cell_type": "code",
   "execution_count": null,
   "id": "ca53e3eb-e6bd-4eb6-bae3-46189c185fcc",
   "metadata": {},
   "outputs": [],
   "source": [
    "# ef_qc_data_bf1 = []\n",
    "# for i in ['D0', 'D3', 'D5', 'D10a', 'D10b']:\n",
    "#     x = subset_seu_data(stages= ['late ring', 'early trophozoite', 'late trophozoite', 'gametocyte (developing)', 'gametocyte (male)', 'gametocyte (female)'], day= i)\n",
    "#     ef_qc_data_bf1.append(x)"
   ]
  },
  {
   "cell_type": "code",
   "execution_count": null,
   "id": "f2f58886-fef7-4b0c-8345-f3a4ed79b1b0",
   "metadata": {},
   "outputs": [],
   "source": [
    "ef_qc_data_bf1 = []\n",
    "for i in ['D0', 'D3', 'D5', 'D10a', 'D10b']:\n",
    "    x = subset_seu_data(stages= ['late ring', 'early trophozoite', 'late trophozoite', 'gametocyte (developing)'], day= i)\n",
    "    ef_qc_data_bf1.append(x)"
   ]
  },
  {
   "cell_type": "markdown",
   "id": "a7d113f7-bebc-4ed0-9389-ff543baf0b49",
   "metadata": {},
   "source": [
    "Merging day10 and day10b(old) datasets and appending this to the list with all the other days ('asexuals', 'day3', 'day5', 'day10', 'day10b') for the first bifurcation point"
   ]
  },
  {
   "cell_type": "code",
   "execution_count": null,
   "id": "31ebd0b6-241e-4f3c-ab01-6d7fc106f1a2",
   "metadata": {
    "tags": []
   },
   "outputs": [],
   "source": [
    "ef_qc_data_bf1.append(ef_qcd_raw[(ef_qcd_raw.obs['Stage'].isin(['late ring', 'early trophozoite', 'late trophozoite','early schizont', 'gametocyte (developing)', 'gametocyte (male)', 'gametocyte (female)'])) & (ef_qcd_raw.obs['orig.ident'].isin(['D10a', 'D10b']))])"
   ]
  },
  {
   "cell_type": "code",
   "execution_count": null,
   "id": "0dfef25f-1535-4959-9e36-d7fb403c28d0",
   "metadata": {},
   "outputs": [],
   "source": [
    "# ef_qc_data_bf1.append(ef_qcd_raw[(ef_qcd_raw.obs['Stage'].isin(['late ring', 'early trophozoite', 'late trophozoite', 'gametocyte (developing)','early schizont'])) & (ef_qcd_raw.obs['orig.ident'].isin(['D10a', 'D10b']))])"
   ]
  },
  {
   "cell_type": "code",
   "execution_count": null,
   "id": "1a27f61a-830e-4a61-a02d-72ad662aade6",
   "metadata": {},
   "outputs": [],
   "source": [
    "ef_qc_data_bf1.append(ef_qcd_raw[ef_qcd_raw.obs['Stage'].isin(['late ring', 'early trophozoite', 'late trophozoite','early schizont', 'gametocyte (developing)', 'gametocyte (male)', 'gametocyte (female)'])])"
   ]
  },
  {
   "cell_type": "code",
   "execution_count": null,
   "id": "a12cafaf-8df9-4411-badb-00eb7ca8e15f",
   "metadata": {},
   "outputs": [],
   "source": [
    "# ef_qc_data_bf1.append(ef_qcd_raw[ef_qcd_raw.obs['Stage'].isin(['late ring', 'early trophozoite', 'late trophozoite', 'gametocyte (developing)','early schizont'])])"
   ]
  },
  {
   "cell_type": "code",
   "execution_count": null,
   "id": "b594d9e6-82df-4743-8afc-9d80c0048a48",
   "metadata": {},
   "outputs": [],
   "source": [
    "ef_qc_data_bf1.append(ef_qcd_raw)"
   ]
  },
  {
   "cell_type": "code",
   "execution_count": null,
   "id": "44128692-608f-4543-b6e1-d3c52c21b789",
   "metadata": {
    "tags": []
   },
   "outputs": [],
   "source": [
    "ef_qc_data_bf1"
   ]
  },
  {
   "cell_type": "code",
   "execution_count": null,
   "id": "7880ed70-bea8-449d-9dad-4810e269294d",
   "metadata": {},
   "outputs": [],
   "source": [
    "# ef_qc_data_bf1.append(ef_qc_data_bf1[3].concatenate(ef_qc_data_bf1[4]))"
   ]
  },
  {
   "cell_type": "code",
   "execution_count": null,
   "id": "e88a8b74-f476-448b-9b80-57d05b0d0eeb",
   "metadata": {},
   "outputs": [],
   "source": [
    "# for obj in ef_qc_data_bf1[5:]:\n",
    "#     obj.obs_names = [re.sub('-0$|-1$|-2$|-3$|-4$','', i) for i in obj.obs_names ]"
   ]
  },
  {
   "cell_type": "code",
   "execution_count": null,
   "id": "e32a9eab-5294-44de-a82b-618cb4ba619b",
   "metadata": {},
   "outputs": [],
   "source": [
    "ef_qc_data_bf1[6].obs_names"
   ]
  },
  {
   "cell_type": "markdown",
   "id": "47c5e070-09e0-49bd-8a02-ab13c723ee12",
   "metadata": {},
   "source": [
    "Cleaning cell barcodes to allow merging with loom files "
   ]
  },
  {
   "cell_type": "code",
   "execution_count": null,
   "id": "6cd2953a-f058-44c6-926c-b0ce06e0eb94",
   "metadata": {},
   "outputs": [],
   "source": [
    "# for obj in ef_qc_data_bf1:\n",
    "#     scv.utils.clean_obs_names(obj)"
   ]
  },
  {
   "cell_type": "code",
   "execution_count": null,
   "id": "27be8a7d-fae3-48f5-bd08-ba2963fb1f6c",
   "metadata": {},
   "outputs": [],
   "source": []
  },
  {
   "cell_type": "markdown",
   "id": "3e503114-831f-437f-b31d-1062562e7bec",
   "metadata": {},
   "source": [
    "Subset datasets to contain only the stages of interest for the second bifurcation point"
   ]
  },
  {
   "cell_type": "code",
   "execution_count": null,
   "id": "aefabae0-2a77-479f-827c-917a6fcc3dca",
   "metadata": {},
   "outputs": [],
   "source": [
    "ef_qc_data_bf2 = []\n",
    "for i in ['D5', 'D10a', 'D10b']:\n",
    "    x = subset_seu_data(stages= ['gametocyte (developing)', 'gametocyte (male)', 'gametocyte (female)'], day= i)\n",
    "    ef_qc_data_bf2.append(x)"
   ]
  },
  {
   "cell_type": "markdown",
   "id": "906953c5-2b03-4444-81ab-aff2edaeb2e7",
   "metadata": {},
   "source": [
    "Merging day10 and day10b(old) datasets and appending this to the list with all the other days ('asexuals', 'day3', 'day5', 'day10', 'day10b') for the second bifurcation point"
   ]
  },
  {
   "cell_type": "code",
   "execution_count": null,
   "id": "b8567f23-3f66-4baf-92c5-ef6db9860230",
   "metadata": {
    "tags": []
   },
   "outputs": [],
   "source": [
    "ef_qc_data_bf2.append(ef_qcd_raw[(ef_qcd_raw.obs['Stage'].isin(['gametocyte (developing)', 'gametocyte (male)', 'gametocyte (female)'])) & (ef_qcd_raw.obs['orig.ident'].isin(['D10a', 'D10b']))])"
   ]
  },
  {
   "cell_type": "code",
   "execution_count": null,
   "id": "ec4f915f-a391-4ae3-90c0-887cdfed41bb",
   "metadata": {},
   "outputs": [],
   "source": [
    "ef_qc_data_bf2.append(ef_qcd_raw[ef_qcd_raw.obs['Stage'].isin(['gametocyte (developing)', 'gametocyte (male)', 'gametocyte (female)'])])"
   ]
  },
  {
   "cell_type": "code",
   "execution_count": null,
   "id": "8eeb61cd-f666-4837-acea-8e339e005ac2",
   "metadata": {
    "tags": []
   },
   "outputs": [],
   "source": [
    "# ef_qc_data_bf2.append(ef_qc_data_bf2[1].concatenate(ef_qc_data_bf2[2]))"
   ]
  },
  {
   "cell_type": "code",
   "execution_count": null,
   "id": "a0baaed2-d0a5-4af9-9891-70cd08f85d58",
   "metadata": {},
   "outputs": [],
   "source": [
    "# for obj in ef_qc_data_bf2[2:]:\n",
    "#     obj.obs_names = [re.sub('-0$|-1$|-2$|-3$|-4$','', i) for i in obj.obs_names ]"
   ]
  },
  {
   "cell_type": "markdown",
   "id": "f0e3778a-1b1f-4991-bd31-9621ce05f910",
   "metadata": {},
   "source": [
    "Cleaning cell barcodes to allow merging with loom files ef_qc_data_bf2[3].obs_names"
   ]
  },
  {
   "cell_type": "code",
   "execution_count": null,
   "id": "b4b2b62a-c422-4f28-ae59-b8ec0ac96e2a",
   "metadata": {},
   "outputs": [],
   "source": [
    "# for obj in ef_qc_data_bf2:\n",
    "#     scv.utils.clean_obs_names(obj)"
   ]
  },
  {
   "cell_type": "code",
   "execution_count": null,
   "id": "1898559d-bb65-4f62-b021-d141602d378e",
   "metadata": {},
   "outputs": [],
   "source": [
    "ef_qc_data_bf2"
   ]
  },
  {
   "cell_type": "markdown",
   "id": "2a6d883b-fd66-4380-aa44-639dab80342d",
   "metadata": {},
   "source": [
    "Plotting umap of the subsetted datasets"
   ]
  },
  {
   "cell_type": "code",
   "execution_count": null,
   "id": "8c028180-e45e-4070-bb95-b9faf4b0b442",
   "metadata": {
    "tags": []
   },
   "outputs": [],
   "source": [
    "for inp in ef_qc_data_bf1:\n",
    "    inp.obs['Stage'] = inp.obs['Stage'].astype('category')\n",
    "    inp.obs['orig.ident'] = inp.obs['orig.ident'].astype('category')\n",
    "    scv.pl.umap(inp, color='Stage', components='2,3')\n",
    "    # print(type(inp.obs['Stage']))"
   ]
  },
  {
   "cell_type": "code",
   "execution_count": null,
   "id": "81cbc41c-bc53-484e-aec9-d51d45f8a1f4",
   "metadata": {
    "tags": []
   },
   "outputs": [],
   "source": [
    "for inp in ef_qc_data_bf2:\n",
    "    inp.obs['Stage'] = inp.obs['Stage'].astype('category')\n",
    "    inp.obs['orig.ident'] = inp.obs['orig.ident'].astype('category')\n",
    "    scv.pl.umap(inp, color='Stage', components='2,3')\n",
    "    # print(type(inp.obs['Stage']))"
   ]
  },
  {
   "cell_type": "code",
   "execution_count": null,
   "id": "8fcfd4e1-90ad-4969-8f48-6c258bbf560f",
   "metadata": {},
   "outputs": [],
   "source": [
    "# ef_qcd_raw_bf1_d5 = ef_qcd_raw[(ef_qcd_raw.obs['Stage'].isin(['gametocyte (developing)', 'gametocyte (male)', 'gametocyte (female)'])) & (ef_qcd_raw.obs['orig.ident'] == 'D5'), ]"
   ]
  },
  {
   "cell_type": "code",
   "execution_count": null,
   "id": "b2a83ba0-267f-4144-afdb-1b1cc12b6b35",
   "metadata": {},
   "outputs": [],
   "source": [
    "# ef_qcd_bf1 = sc.read_h5ad(processed_data + '../../RoadtoUMAP/ef_qcd_bf1.h5ad')"
   ]
  },
  {
   "cell_type": "code",
   "execution_count": null,
   "id": "74a3c08e-1ad2-469a-b644-9798bd1deb3c",
   "metadata": {},
   "outputs": [],
   "source": [
    "# ef_qcd_bf2 = sc.read_h5ad(processed_data + '../../RoadtoUMAP/ef_qcd_bf2.h5ad')"
   ]
  },
  {
   "cell_type": "code",
   "execution_count": null,
   "id": "26904b5d-6941-4896-823e-2f476d86481c",
   "metadata": {
    "tags": []
   },
   "outputs": [],
   "source": [
    "# sc.pl.umap(ef_qc_data_bf2[4].obs['Stage'].astype('category'), color='Stage', cmap='virid.in', projection='3d')"
   ]
  },
  {
   "cell_type": "code",
   "execution_count": null,
   "id": "e3cf0526-318b-491a-a48f-5d3b95fe6f5f",
   "metadata": {
    "tags": []
   },
   "outputs": [],
   "source": [
    "ef_qc_data_bf2[2].obs_names"
   ]
  },
  {
   "cell_type": "markdown",
   "id": "e60bbe2e-ce02-40a5-940c-5ab235e52e36",
   "metadata": {},
   "source": [
    "Plotting 3D umap for one example"
   ]
  },
  {
   "cell_type": "code",
   "execution_count": null,
   "id": "d8863f48-ecb8-4a6c-a321-40347e11f94d",
   "metadata": {},
   "outputs": [],
   "source": [
    "umap = ef_qc_data_bf1[1].obsm['X_umap']"
   ]
  },
  {
   "cell_type": "code",
   "execution_count": null,
   "id": "a884b802-3e8c-4572-baa7-8bcd27fdff98",
   "metadata": {},
   "outputs": [],
   "source": [
    "fig_3d = px.scatter_3d(x =umap[:, 0], y = umap[:, 1], z = umap[:, 2], color = ef_qc_data_bf1[1].obs.Stage)"
   ]
  },
  {
   "cell_type": "code",
   "execution_count": null,
   "id": "f5319891-4785-47f2-9d04-8c6bec58e4ef",
   "metadata": {
    "tags": []
   },
   "outputs": [],
   "source": [
    "fig_3d.update_traces(marker_size=1)\n",
    "\n",
    "\n",
    "fig_3d.show()"
   ]
  },
  {
   "cell_type": "code",
   "execution_count": null,
   "id": "07899b53-794f-404f-9d4a-bdecf8b982c0",
   "metadata": {},
   "outputs": [],
   "source": [
    "# A = [1,2,3,4,5,6,7,8,9]\n",
    "# B = [\"A\",\"B\",\"C\"]\n",
    "# Z = []\n",
    "# for i, a in enumerate(A):\n",
    "#     Z.append((a, B[i % len(B)]))"
   ]
  },
  {
   "cell_type": "code",
   "execution_count": null,
   "id": "c1438b75-e210-4266-a4ba-3f7f3daa63c4",
   "metadata": {},
   "outputs": [],
   "source": []
  },
  {
   "cell_type": "code",
   "execution_count": null,
   "id": "6e412dfd-bc96-4f7c-95cb-0a7ce5882b24",
   "metadata": {},
   "outputs": [],
   "source": [
    "##Write out a cell annotation for soneson replication"
   ]
  },
  {
   "cell_type": "code",
   "execution_count": null,
   "id": "14d4e0dc-9be2-4dd6-a39b-4b6aadc21279",
   "metadata": {},
   "outputs": [],
   "source": [
    "# d5_annotn_soneson = d5_trim_seu.obs[['Stage.course', 'Stage']]\n"
   ]
  },
  {
   "cell_type": "code",
   "execution_count": null,
   "id": "bd662782-75dd-4e15-84eb-75633bee9784",
   "metadata": {},
   "outputs": [],
   "source": [
    "##Formating names to match Soneson et al description\n",
    "# d5_annotn_soneson = d5_annotn_soneson.rename_axis(\"index\").reset_index().rename(columns={'Stage.course' : 'clusters_coarse', 'Stage' : 'clusters'})"
   ]
  },
  {
   "cell_type": "code",
   "execution_count": null,
   "id": "42fbd873-2d5d-4907-9e98-0749f37a44d3",
   "metadata": {},
   "outputs": [],
   "source": []
  },
  {
   "cell_type": "code",
   "execution_count": null,
   "id": "e782536b-1c5d-4d09-b5c8-c76873f4216d",
   "metadata": {},
   "outputs": [],
   "source": [
    "# d5_annotn_soneson.to_csv(\"data/processed/PfDB52e/day5/soneson_output/pf_d5_celltypes.csv\", index=False)"
   ]
  },
  {
   "cell_type": "code",
   "execution_count": null,
   "id": "cde8bb00-ac3b-422f-a27a-a071cb39264e",
   "metadata": {},
   "outputs": [],
   "source": [
    "# textfile = open(\"data/processed/PfDB52e/day5/jr_bif_qc_barcodes.tsv\", \"w\")\n",
    "\n",
    "# for element in d5_trim_seu.obs_names.to_list():\n",
    "\n",
    "#     textfile.write(element + \"\\n\")\n",
    "\n",
    "# textfile.close()"
   ]
  },
  {
   "cell_type": "markdown",
   "id": "316b8bd5-657a-4535-a15e-24cb8c478229",
   "metadata": {},
   "source": [
    "QC checks - Tabulating the number of Stage categories, check for duplicates and glimpse the counts"
   ]
  },
  {
   "cell_type": "code",
   "execution_count": null,
   "id": "1d425ece-34ec-4ba6-aeee-87eaf45b61ab",
   "metadata": {},
   "outputs": [],
   "source": [
    "ef_qc_data_bf2[1].obs['Stage'].value_counts()"
   ]
  },
  {
   "cell_type": "code",
   "execution_count": null,
   "id": "988777aa-8f16-4008-a8bc-bcc8c49c8c3b",
   "metadata": {
    "tags": []
   },
   "outputs": [],
   "source": [
    "for obj1 in ef_qc_data_bf1:\n",
    "    print(np.count_nonzero(obj1.obs_names.duplicated()))"
   ]
  },
  {
   "cell_type": "code",
   "execution_count": null,
   "id": "6c7ca53b-a9c6-4a9b-93f1-f4c6248fb081",
   "metadata": {
    "tags": []
   },
   "outputs": [],
   "source": [
    "for obj2 in ef_qc_data_bf2:\n",
    "    print(np.count_nonzero(obj2.obs_names.duplicated()))"
   ]
  },
  {
   "cell_type": "code",
   "execution_count": null,
   "id": "14b90a48-08d5-4323-addd-b4d2bab82d2b",
   "metadata": {
    "tags": []
   },
   "outputs": [],
   "source": [
    "for obj in filt_lp:\n",
    "    print(np.count_nonzero(obj.obs_names.duplicated()))"
   ]
  },
  {
   "cell_type": "code",
   "execution_count": null,
   "id": "48168799-aa04-41f6-9989-7128335ec9c2",
   "metadata": {
    "tags": []
   },
   "outputs": [],
   "source": [
    "for obj1 in ef_qc_data_bf1:\n",
    "    print(np.count_nonzero(obj1.obs_names.duplicated()))\n",
    "    print(len(obj1.var_names))\n",
    "    print(obj1.var_names[1:2])"
   ]
  },
  {
   "cell_type": "code",
   "execution_count": null,
   "id": "463f2a0a-09ed-4426-b921-ee75af75f9cd",
   "metadata": {
    "tags": []
   },
   "outputs": [],
   "source": [
    "for obj2 in ef_qc_data_bf2:\n",
    "    print(np.count_nonzero(obj2.obs_names.duplicated()))\n",
    "    print(len(obj2.var_names))\n",
    "    print(obj2.var_names[1:2])"
   ]
  },
  {
   "cell_type": "code",
   "execution_count": null,
   "id": "f00830ba-0c06-4a8f-8336-9682769d7ef7",
   "metadata": {
    "tags": []
   },
   "outputs": [],
   "source": [
    "for obj in filt_lp:\n",
    "    print(np.count_nonzero(obj.obs_names.duplicated()))\n",
    "    print(len(obj.var_names))\n",
    "    print(obj.var_names[1:2])"
   ]
  },
  {
   "cell_type": "code",
   "execution_count": null,
   "id": "eb826a74-185b-4424-a84e-b116b057b57b",
   "metadata": {
    "tags": []
   },
   "outputs": [],
   "source": [
    "for obj in filt_lp:\n",
    "    print(obj.X[1:5,1:20])\n",
    "    "
   ]
  },
  {
   "cell_type": "markdown",
   "id": "c0799337-cd01-4ad1-94de-0b721de3dd74",
   "metadata": {},
   "source": [
    "Replacing '-' in variable/gene names with '_'"
   ]
  },
  {
   "cell_type": "code",
   "execution_count": null,
   "id": "6daa6240-679e-4f90-8c30-c9d6f0208334",
   "metadata": {},
   "outputs": [],
   "source": [
    "for obj1 in ef_qc_data_bf1:\n",
    "    obj1.var_names = [i.replace(\"-\", \"_\") for i in obj1.var_names]\n",
    "#     obj.var_names = [i.replace(\"-\", \"_\") for i in obj.var_names]\n",
    "# ef_qcd_bf1_d5.var_names = [i.replace(\"-\", \"_\") for i in ef_qcd_bf1_d5.var_names]"
   ]
  },
  {
   "cell_type": "code",
   "execution_count": null,
   "id": "979aaacd-8128-4ff1-a1d7-00ec6e37a226",
   "metadata": {},
   "outputs": [],
   "source": [
    "for obj2 in ef_qc_data_bf2:\n",
    "    obj2.var_names = [i.replace(\"-\", \"_\") for i in obj2.var_names]\n",
    "#     obj.var_names = [i.replace(\"-\", \"_\") for i in obj.var_names]\n",
    "# ef_qcd_bf1_d5.var_names = [i.replace(\"-\", \"_\") for i in ef_qcd_bf1_d5.var_names]"
   ]
  },
  {
   "cell_type": "code",
   "execution_count": null,
   "id": "e5a3fe39-f6c6-4d10-b748-f98124e3844e",
   "metadata": {},
   "outputs": [],
   "source": [
    "for obj1 in ef_qc_data_bf1:\n",
    "    print(obj1.var_names[1:2])"
   ]
  },
  {
   "cell_type": "code",
   "execution_count": null,
   "id": "460df908-0e23-4620-bcd4-28b828c71a25",
   "metadata": {},
   "outputs": [],
   "source": [
    "for obj2 in ef_qc_data_bf2:\n",
    "    print(obj2.var_names[1:2])"
   ]
  },
  {
   "cell_type": "code",
   "execution_count": null,
   "id": "e07af0bd-9aa9-4969-a6c6-08f57fd890d0",
   "metadata": {},
   "outputs": [],
   "source": [
    "ef_qc_data_bf2"
   ]
  },
  {
   "cell_type": "code",
   "execution_count": null,
   "id": "f845d06b-15f2-4c0b-9f2d-09c5b1e5ed1d",
   "metadata": {},
   "outputs": [],
   "source": [
    "ef_qc_data_bf1"
   ]
  },
  {
   "cell_type": "code",
   "execution_count": null,
   "id": "4630c65d-6fde-46c1-8835-4c20a57e9548",
   "metadata": {},
   "outputs": [],
   "source": [
    "filt_lp[2:][3].obs_names"
   ]
  },
  {
   "cell_type": "markdown",
   "id": "149821ee-c49b-4ff8-afad-cf8349006975",
   "metadata": {},
   "source": [
    "Merge subsetted QCd objects from Elias with loom files with unspliced/spliced matrices\n",
    "\n",
    "The columns \"initial_size\", \"initial_size_unspliced\" and \"initial_size_spliced\" are added when calling scvelo.utils.merge. These are the counts per cell prior to subsetting, i.e. the initial size of the cell."
   ]
  },
  {
   "cell_type": "code",
   "execution_count": null,
   "id": "828a97d2-1f36-4349-b9a7-12c32eed8319",
   "metadata": {},
   "outputs": [],
   "source": [
    "# filt_lp_all = filt_lp.copy\n",
    "# filt_lp_all = filt_lp.append(filt_lp[6])"
   ]
  },
  {
   "cell_type": "code",
   "execution_count": null,
   "id": "0048b93d-3406-4f65-a4b7-ae098ab4e454",
   "metadata": {},
   "outputs": [],
   "source": [
    "filt_lp.append(filt_lp[6])"
   ]
  },
  {
   "cell_type": "code",
   "execution_count": null,
   "id": "ba51b926-8095-4462-8997-7d274cbdf975",
   "metadata": {},
   "outputs": [],
   "source": [
    "ef_qc_data_bf2[2:4]"
   ]
  },
  {
   "cell_type": "code",
   "execution_count": null,
   "id": "c5aea15d-706e-467b-a279-4ac32773ccba",
   "metadata": {},
   "outputs": [],
   "source": [
    "ef_qc_data_bf2[3:]"
   ]
  },
  {
   "cell_type": "code",
   "execution_count": null,
   "id": "989888e1-5e5d-42fa-b395-810868a8544a",
   "metadata": {},
   "outputs": [],
   "source": [
    "filt_lp[5:7]"
   ]
  },
  {
   "cell_type": "code",
   "execution_count": null,
   "id": "9b1c61bd-b43b-4c01-bc56-9af3f7cdc942",
   "metadata": {},
   "outputs": [],
   "source": [
    "# ef_qcd_bf1_scv = []\n",
    "# for obj_bf1, lp in zip(ef_qc_data_bf1, filt_lp):\n",
    "#     x = scv.utils.merge(obj_bf1, lp)\n",
    "#     ef_qcd_bf1_scv.append(x)\n"
   ]
  },
  {
   "cell_type": "code",
   "execution_count": null,
   "id": "d02c5205-baa4-4417-85d9-9f2d94ac0bae",
   "metadata": {},
   "outputs": [],
   "source": [
    "ef_qcd_bf1_scv = []\n",
    "for obj_bf1, lp in zip(ef_qc_data_bf1[6:], filt_lp[6:]):\n",
    "    x = scv.utils.merge(obj_bf1, lp)\n",
    "    ef_qcd_bf1_scv.append(x)"
   ]
  },
  {
   "cell_type": "code",
   "execution_count": null,
   "id": "99278eb8-40c3-48d4-ad96-3399f6ba2cec",
   "metadata": {},
   "outputs": [],
   "source": [
    "# ef_qcd_bf2_scv = []\n",
    "# for obj_bf2, lp2 in zip(ef_qc_data_bf2, filt_lp[2:7]):\n",
    "#     y = scv.utils.merge(obj_bf2, lp2)\n",
    "#     ef_qcd_bf2_scv.append(y)"
   ]
  },
  {
   "cell_type": "code",
   "execution_count": null,
   "id": "bfe99581-2b84-42ea-b5f9-afd0d2bb3852",
   "metadata": {},
   "outputs": [],
   "source": [
    "ef_qcd_bf2_scv = []\n",
    "for obj_bf2, lp2 in zip(ef_qc_data_bf2[2:4], filt_lp[5:7]):\n",
    "    y = scv.utils.merge(obj_bf2, lp2)\n",
    "    ef_qcd_bf2_scv.append(y)"
   ]
  },
  {
   "cell_type": "code",
   "execution_count": null,
   "id": "9a8b0502-bab1-4099-8a5c-313239dd8919",
   "metadata": {},
   "outputs": [],
   "source": [
    "v3_days_fnl = v3_days[5:]"
   ]
  },
  {
   "cell_type": "code",
   "execution_count": null,
   "id": "b1538676-4620-4371-9043-11721b8dbadf",
   "metadata": {},
   "outputs": [],
   "source": [
    "v3_days_all_fnl = v3_days_all[6:]"
   ]
  },
  {
   "cell_type": "code",
   "execution_count": null,
   "id": "8074a67a-0df0-411e-8534-593653ccf131",
   "metadata": {
    "tags": []
   },
   "outputs": [],
   "source": [
    "ef_qcd_bf1_scv"
   ]
  },
  {
   "cell_type": "code",
   "execution_count": null,
   "id": "40b16fa4-0ac7-4069-916c-55d501e3584f",
   "metadata": {},
   "outputs": [],
   "source": [
    "ef_qcd_bf2_scv"
   ]
  },
  {
   "cell_type": "markdown",
   "id": "2646b6e8-5063-4ef3-920f-577d4e4a774a",
   "metadata": {},
   "source": [
    "QC checks"
   ]
  },
  {
   "cell_type": "code",
   "execution_count": null,
   "id": "917db38a-e8aa-4cf8-bfaa-d18d3a2ea04f",
   "metadata": {
    "tags": []
   },
   "outputs": [],
   "source": [
    "# ef_qcd_bf1_scv[7].obs_names[1:20].to_list()"
   ]
  },
  {
   "cell_type": "code",
   "execution_count": null,
   "id": "45fa0e7d-7e6d-43de-bc23-13054eb74033",
   "metadata": {},
   "outputs": [],
   "source": [
    "ef_qcd_bf1_scv[1].X"
   ]
  },
  {
   "cell_type": "code",
   "execution_count": null,
   "id": "d9536e15-2aba-49a0-af04-0c0e5bb0d205",
   "metadata": {},
   "outputs": [],
   "source": [
    "ef_qcd_bf1_scv[1]"
   ]
  },
  {
   "cell_type": "code",
   "execution_count": null,
   "id": "e331aa4b-5b26-4ff9-9e3a-f6b6bf7e3f42",
   "metadata": {},
   "outputs": [],
   "source": [
    "print(ef_qcd_bf1_scv[1][ef_qcd_bf1_scv[1].obs_names.isin(ef_qcd_bf1_scv[1].obs_names[1:10].to_list()),ef_qcd_bf1_scv[1].var_names.isin(ef_qcd_bf1_scv[1].var_names[1:10].to_list())].X)"
   ]
  },
  {
   "cell_type": "code",
   "execution_count": null,
   "id": "c6b54fb5-b352-4a42-a0c5-07fd6310c426",
   "metadata": {},
   "outputs": [],
   "source": [
    "# print(ef_qcd_bf1_scv[1][ef_qcd_bf1_scv[1].obs_names.isin(ef_qcd_bf1_scv[1].obs_names[1:10].to_list()),ef_qcd_bf1_scv[1].var_names.isin(ef_qcd_bf1_scv[1].var_names[1:10].to_list())].layers[\"spliced\"])"
   ]
  },
  {
   "cell_type": "code",
   "execution_count": null,
   "id": "41c59d20-8fc7-4950-bee1-e04a8386c4fd",
   "metadata": {
    "tags": []
   },
   "outputs": [],
   "source": [
    "# print(ef_qcd_bf1_d5_scv[1:3,ef_qcd_bf1_d5_scv.var_names.to_list()[1:30]].layers[\"X\"])"
   ]
  },
  {
   "cell_type": "code",
   "execution_count": null,
   "id": "914ba45a-4422-48d5-a406-f0d8b63b82df",
   "metadata": {
    "tags": []
   },
   "outputs": [],
   "source": [
    "# sc.pp.normalize_total(ef_qcd_bf1_d5_scv, target_sum=1e4)\n",
    "\n",
    "# sc.pp.log1p(ef_qcd_bf1_d5_scv)\n",
    "# print(ef_qcd_bf1_d5_scv[1:3,['PF3D7_0100100', 'PF3D7_0101300', 'PF3D7_0102200', 'PF3D7_0102500']].X)"
   ]
  },
  {
   "cell_type": "code",
   "execution_count": null,
   "id": "e7f74dc9-bcd2-496c-a5d7-04af16591453",
   "metadata": {},
   "outputs": [],
   "source": [
    "# ef_qcd_bf1_scv[1].var"
   ]
  },
  {
   "cell_type": "code",
   "execution_count": null,
   "id": "c92f8081-fff5-4b5d-b635-9711b7f1776d",
   "metadata": {},
   "outputs": [],
   "source": [
    "# (ef_qcd_bf1_d5_scv.layers[\"spliced\"]!=ef_qcd_bf1_d5_scv.X).nnz==0"
   ]
  },
  {
   "cell_type": "markdown",
   "id": "a6bc0733-bfd2-4b19-b04f-82043e1ede1b",
   "metadata": {},
   "source": [
    "Assignment of variables for the number of PCs and number of neighbours to use in calculating neighbours using UMAP as the default or sklearn and other methods\n",
    "The PCs and number of neighbours are also used to calculate first&second order moments for each cell across it's neighbours for spliced and unspliced counts\n",
    "\n",
    "This parameters can be played with to adjust visualization but we are using the default for both which is 30\n",
    "\n",
    "We use UMAPs calculated from seurat. So this step is not that key but to use scv generated UMAP follow there are some instructions here https://github.com/theislab/scvelo/issues/112#issuecomment-1034925572"
   ]
  },
  {
   "cell_type": "code",
   "execution_count": null,
   "id": "f6a29651-ecf7-4db6-afd9-d58734d25997",
   "metadata": {},
   "outputs": [],
   "source": [
    "# bf1_pcs = [6, 6, 6, 6, 6, 6, 6, 6]\n",
    "\n",
    "# bf2_pcs = [6, 6, 6, 6, 6]\n",
    "\n",
    "# bf1_neighbours = [50, 50, 50, 50, 50, 50, 50, 50]\n",
    "# # bf1_neighbours = [20, 20, 20, 20, 20, 20, 20,20]\n",
    "\n",
    "# bf2_neighbours = [30, 30, 30, 30, 30]"
   ]
  },
  {
   "cell_type": "code",
   "execution_count": null,
   "id": "f607de62-ae09-4485-bc21-195f07a8cc38",
   "metadata": {},
   "outputs": [],
   "source": [
    "bf1_pcs = [6, 6, 6, 6, 6, 6, 6, 6]\n",
    "\n",
    "bf2_pcs = [6, 6, 6, 6, 6]\n",
    "\n",
    "bf1_neighbours = [30, 30, 30, 30, 30, 30, 30, 30]\n",
    "# bf1_neighbours = [20, 20, 20, 20, 20, 20, 20,20]\n",
    "\n",
    "bf2_neighbours = [30, 30, 30, 30, 30]"
   ]
  },
  {
   "cell_type": "code",
   "execution_count": null,
   "id": "0671a589-86a4-4e34-a4e0-a629744492be",
   "metadata": {},
   "outputs": [],
   "source": [
    "# bf1_pcs = [10, 10, 10, 10, 10, 10, 10,10]\n",
    "\n",
    "# bf2_pcs = [6, 6, 6, 6, 6]\n",
    "\n",
    "# bf1_neighbours = [30, 30, 30, 30, 30, 30, 30,30]\n",
    "# # bf1_neighbours = [20, 20, 20, 20, 20, 20, 20,20]\n",
    "\n",
    "# bf2_neighbours = [30, 30, 30, 30, 30]"
   ]
  },
  {
   "cell_type": "markdown",
   "id": "01b2c8cd-c531-4e03-8499-e6fd1b7fa0d9",
   "metadata": {
    "tags": []
   },
   "source": [
    "### BBKNN attempt"
   ]
  },
  {
   "cell_type": "code",
   "execution_count": null,
   "id": "a49627c3-d5d2-4465-9775-1282b6e8e6ff",
   "metadata": {
    "tags": []
   },
   "outputs": [],
   "source": [
    "ef_qcd_bf2_scv"
   ]
  },
  {
   "cell_type": "code",
   "execution_count": null,
   "id": "502a6fb0-e1a0-4508-a531-8bff33661ccf",
   "metadata": {},
   "outputs": [],
   "source": [
    "# import bbknn"
   ]
  },
  {
   "cell_type": "code",
   "execution_count": null,
   "id": "fccd9332-e358-4b1e-90f9-66efaf766b56",
   "metadata": {
    "tags": []
   },
   "outputs": [],
   "source": [
    "# ef_qcd_bf2_scv[4]"
   ]
  },
  {
   "cell_type": "code",
   "execution_count": null,
   "id": "dfea116b-68ac-4bb5-803d-89181679fe2c",
   "metadata": {},
   "outputs": [],
   "source": [
    "# d10_bf2 = ef_qcd_bf2_scv[4].copy()"
   ]
  },
  {
   "cell_type": "code",
   "execution_count": null,
   "id": "cc25e6d7-6bf2-448e-af21-2e4522b1cc2d",
   "metadata": {},
   "outputs": [],
   "source": [
    "# d10_bf2"
   ]
  },
  {
   "cell_type": "code",
   "execution_count": null,
   "id": "c4ea3e30-5dda-4f7d-bdb0-efc2cf764cba",
   "metadata": {},
   "outputs": [],
   "source": [
    "# scv.pp.filter_and_normalize(d10_bf2, min_shared_counts=20, n_top_genes=3000)"
   ]
  },
  {
   "cell_type": "code",
   "execution_count": null,
   "id": "b218f491-9edf-4790-8545-e8295c99ff4e",
   "metadata": {},
   "outputs": [],
   "source": [
    "# d10_bf2.obs[['orig.ident', 'Stage']].value_counts()"
   ]
  },
  {
   "cell_type": "code",
   "execution_count": null,
   "id": "97ae87fb-8e4a-4337-ae98-aacd0bbdc30c",
   "metadata": {},
   "outputs": [],
   "source": [
    "# sc.external.pp.bbknn(d10_bf2, batch_key='orig.ident')"
   ]
  },
  {
   "cell_type": "code",
   "execution_count": null,
   "id": "9d6b5220-2b0b-4bd8-baf9-2061adf758ac",
   "metadata": {
    "tags": []
   },
   "outputs": [],
   "source": [
    "\n",
    "# sc.pp.pca(d10_bf2)\n",
    "# sc.tl.leiden(d10_bf2, resolution=0.4)\n",
    "# sc.pl.umap(d10_bf2, color = 'leiden')\n",
    "\n"
   ]
  },
  {
   "cell_type": "code",
   "execution_count": null,
   "id": "9b60033f-408f-4409-9476-5faab722f2fa",
   "metadata": {},
   "outputs": [],
   "source": []
  },
  {
   "cell_type": "code",
   "execution_count": null,
   "id": "9a169fb0-1cdc-4cab-9ac4-1e602aaf7cbb",
   "metadata": {},
   "outputs": [],
   "source": [
    "# bbknn.ridge_regression(d10_bf2, batch_key=['orig.ident'], confounder_key=['Stage'])\n",
    "# sc.pp.pca(d10_bf2)\n",
    "# bbknn.bbknn(d10_bf2, batch_key='orig.ident')\n",
    "# sc.tl.umap(d10_bf2)"
   ]
  },
  {
   "cell_type": "code",
   "execution_count": null,
   "id": "e98e5152-022f-4e8e-b6f1-1cd1bf60f90a",
   "metadata": {},
   "outputs": [],
   "source": [
    "# sc.pl.umap(d10_bf2, color=['orig.ident','Stage'])"
   ]
  },
  {
   "cell_type": "code",
   "execution_count": null,
   "id": "f183228d-ea49-47b6-8f8e-e707a88cd722",
   "metadata": {},
   "outputs": [],
   "source": [
    "# bbknn.ridge_regression(d10_bf2, batch_key=['orig.ident'], confounder_key=['Stage'])"
   ]
  },
  {
   "cell_type": "code",
   "execution_count": null,
   "id": "bad8d6ba-1ef2-498c-b94e-40f9a813697c",
   "metadata": {},
   "outputs": [],
   "source": [
    "# sc.pp.pca(d10_bf2)"
   ]
  },
  {
   "cell_type": "code",
   "execution_count": null,
   "id": "f128bc8c-cc97-4c1e-92d8-da6cd0da8d9a",
   "metadata": {},
   "outputs": [],
   "source": [
    "# sc.external.pp.bbknn(d10_bf2, batch_key='orig.ident')"
   ]
  },
  {
   "cell_type": "code",
   "execution_count": null,
   "id": "3c9053b8-2231-4b1b-baaf-d144676d9df4",
   "metadata": {},
   "outputs": [],
   "source": [
    "# sc.tl.umap(d10_bf2)\n",
    "# sc.pl.umap(d10_bf2, color=['orig.ident','celltype'])"
   ]
  },
  {
   "cell_type": "code",
   "execution_count": null,
   "id": "0c1b7052-ce6a-44d7-a396-6bbf89b74cb5",
   "metadata": {},
   "outputs": [],
   "source": [
    "# bbknn.bbknn(d10_bf2, batch_key='orig.ident')"
   ]
  },
  {
   "cell_type": "code",
   "execution_count": null,
   "id": "5c803a51-d423-4493-95b6-069fd3a4d393",
   "metadata": {},
   "outputs": [],
   "source": [
    "# bbknn.ridge_regression(adata, batch_key=['batch'], confounder_key=['leiden'])\n",
    "# sc.pp.pca(adata)\n",
    "# bbknn.bbknn(adata, batch_key='batch')\n",
    "# sc.tl.umap(adata)\n",
    "# sc.pl.umap(adata, color=['batch','celltype'])"
   ]
  },
  {
   "cell_type": "markdown",
   "id": "9a6f8144-61f8-4235-a8ac-2265ef1f0e86",
   "metadata": {},
   "source": [
    "### Filtering and calculating moments for recovery of dynamics and RNA velocity "
   ]
  },
  {
   "cell_type": "markdown",
   "id": "ac0fb85b-ab30-4f52-af06-72258e3c4189",
   "metadata": {},
   "source": [
    "Defining a function to perform: \n",
    "\n",
    "Filtering based on the minimum number of spliced and unspliced counts required for a gene (20 here. i.e we only want genes with atleast 20 spliced counts and 20 unspliced counts across all cells).\n",
    "Calculate PCs, neighbours, and moments\n",
    "\n",
    "scv.pp.moments returns \n",
    " - Ms (.layers) – dense matrix with first order moments of spliced counts.\n",
    " - Mu (.layers) – dense matrix with first order moments of unspliced counts.\n"
   ]
  },
  {
   "cell_type": "code",
   "execution_count": null,
   "id": "02c06c8b-b749-4adf-8f55-f48a45bc2fef",
   "metadata": {},
   "outputs": [],
   "source": [
    "def velo_calc(subset_ad, nns, npcs):\n",
    "    scv.pp.filter_and_normalize(subset_ad, min_shared_counts=20, n_top_genes=3000)\n",
    "    # print(subset_ad[1:2,subset_ad.var_names.to_list()[1:10]].X)\n",
    "    sc.tl.pca(subset_ad)\n",
    "    sc.pp.neighbors(subset_ad, n_pcs=npcs, n_neighbors=nns)\n",
    "    scv.pp.moments(subset_ad, n_pcs=None, n_neighbors=None)\n",
    "    # print(subset_ad[1:3,subset_ad.var_names.to_list()[1:10]].layers[\"spliced\"])\n",
    "    return subset_ad\n"
   ]
  },
  {
   "cell_type": "code",
   "execution_count": null,
   "id": "b5d7df85-8e7e-4708-8e58-ef4a96eec570",
   "metadata": {
    "tags": []
   },
   "outputs": [],
   "source": [
    "for obj, nns, npcs in zip(ef_qcd_bf1_scv, bf1_neighbours, bf1_pcs):\n",
    "    obj = velo_calc(subset_ad = obj, nns=nns, npcs=npcs)"
   ]
  },
  {
   "cell_type": "code",
   "execution_count": null,
   "id": "7721a788-8006-4528-9600-538584de9184",
   "metadata": {
    "tags": []
   },
   "outputs": [],
   "source": [
    "ef_qcd_bf1_scv"
   ]
  },
  {
   "cell_type": "code",
   "execution_count": null,
   "id": "b5adb28b-e6d0-42b4-87fe-34831a9af116",
   "metadata": {
    "tags": []
   },
   "outputs": [],
   "source": [
    "for obj, nns, npcs in zip(ef_qcd_bf2_scv, bf2_neighbours, bf2_pcs):\n",
    "    obj = velo_calc(subset_ad = obj, nns=nns, npcs=npcs)"
   ]
  },
  {
   "cell_type": "code",
   "execution_count": null,
   "id": "1bca6de5-4408-4f80-9ea4-9e07118b5471",
   "metadata": {
    "tags": []
   },
   "outputs": [],
   "source": [
    "ef_qcd_bf2_scv"
   ]
  },
  {
   "cell_type": "markdown",
   "id": "63a252ea-5731-40c2-bc62-ce837a42152f",
   "metadata": {
    "tags": []
   },
   "source": [
    "## Assessing metrics used in RNA velocity calculaiton and formating gene names to human readable"
   ]
  },
  {
   "cell_type": "code",
   "execution_count": null,
   "id": "39628a33-10c6-41f2-828f-a887a054c98e",
   "metadata": {},
   "outputs": [],
   "source": [
    "# for obj in ef_qcd_bf2_scv:\n",
    "#     obj = velo_calc(subset_ad = obj)"
   ]
  },
  {
   "cell_type": "code",
   "execution_count": null,
   "id": "912d2ae6-d607-497d-9b08-dae75bc0d4ac",
   "metadata": {},
   "outputs": [],
   "source": [
    "# ##Normalization and selection of HVG followed by calculation of moments\n",
    "# # scv.pp.filter_and_normalize(ef_qcd_bf1_d5_scv)\n",
    "# # scv.pp.moments(ef_qcd_bf1_d5_scv)\n",
    "# scv.pp.filter_and_normalize(ef_qcd_bf1_d5_scv, min_shared_counts=20, n_top_genes=3000)\n",
    "# # sc.pp.log1p(ef_qcd_bf1_d5_scv)\n",
    "# print(ef_qcd_bf1_d5_scv[1:3,ef_qcd_bf1_d5_scv.var_names.to_list()[1:10]].X)\n",
    "# sc.tl.pca(ef_qcd_bf1_d5_scv)\n",
    "# sc.pp.neighbors(ef_qcd_bf1_d5_scv, n_pcs=30, n_neighbors=30)\n",
    "# scv.pp.moments(ef_qcd_bf1_d5_scv, n_pcs=None, n_neighbors=None)\n",
    "# print(ef_qcd_bf1_d5_scv[1:3,ef_qcd_bf1_d5_scv.var_names.to_list()[1:10]].layers[\"spliced\"])\n"
   ]
  },
  {
   "cell_type": "markdown",
   "id": "f73804e4-33ce-476b-b7b4-382d9bb76b95",
   "metadata": {},
   "source": [
    "Saving the contents of var as csv"
   ]
  },
  {
   "cell_type": "code",
   "execution_count": null,
   "id": "6576f7ce-fb65-4b47-a996-4fb81f44fe5b",
   "metadata": {
    "tags": []
   },
   "outputs": [],
   "source": [
    "# for obj1, day in zip(ef_qcd_bf1_scv, v3_days):\n",
    "#     obj1.var.to_csv(\"data/processed/PfDB52e/day5/sone_ksc/ef_qcd_bf1_\" + day + \".csv\")\n"
   ]
  },
  {
   "cell_type": "code",
   "execution_count": null,
   "id": "9af3d61c-103c-4419-8d0e-eee4dcc6fd4a",
   "metadata": {},
   "outputs": [],
   "source": [
    "# for obj2, day in zip(ef_qcd_bf2_scv, v3_days_fnl):\n",
    "#     obj2.var.to_csv(\"data/processed/PfDB52e/day5/sone_ksc/ef_qcd_bf2_\" + day + \".csv\")"
   ]
  },
  {
   "cell_type": "code",
   "execution_count": null,
   "id": "543fdd07-97f1-4fe9-adc1-f5997f672bb8",
   "metadata": {},
   "outputs": [],
   "source": [
    "# ef_qcd_bf1_d5_scv.var.to_csv(\"pfvelo.csv\")"
   ]
  },
  {
   "cell_type": "code",
   "execution_count": null,
   "id": "eb91497e-d7a1-4d3c-b9d1-7244c3bdf1eb",
   "metadata": {},
   "outputs": [],
   "source": [
    "sc.pl.umap(ef_qcd_bf1_scv[1], color=\"Stage\", components='2,3')"
   ]
  },
  {
   "cell_type": "code",
   "execution_count": null,
   "id": "d0a6e12f-1063-423a-b964-0d237c8ed2bf",
   "metadata": {},
   "outputs": [],
   "source": [
    "sc.pl.umap(ef_qcd_bf1_scv[1], color=\"Stage\", components='2,3')"
   ]
  },
  {
   "cell_type": "code",
   "execution_count": null,
   "id": "50021ec6-4e37-439b-8999-da820abd7611",
   "metadata": {
    "tags": []
   },
   "outputs": [],
   "source": [
    "ef_qcd_bf1_scv"
   ]
  },
  {
   "cell_type": "markdown",
   "id": "102f8c51-6020-43ba-92b2-2a930baa1c55",
   "metadata": {},
   "source": [
    "Reading in plasmoDB data to merge with scv objects so as to get human readable gene names"
   ]
  },
  {
   "cell_type": "code",
   "execution_count": null,
   "id": "bb6fda9f-4c6b-4e6d-9612-59068f6cde49",
   "metadata": {},
   "outputs": [],
   "source": [
    "Pf3D7_genes_plasmoDB = pd.read_csv(\"data/raw/Pf3d7_Genes_Summary_190322.csv\")"
   ]
  },
  {
   "cell_type": "code",
   "execution_count": null,
   "id": "565372e4-ee8d-4de8-84f7-9f525678a116",
   "metadata": {},
   "outputs": [],
   "source": [
    "Pf3D7_genes_plasmoDB.columns"
   ]
  },
  {
   "cell_type": "markdown",
   "id": "af9371a9-9e84-429a-a141-76723f6588c5",
   "metadata": {},
   "source": [
    "Rename column name \"Gene Name or Symbol\" to \"Gene\" "
   ]
  },
  {
   "cell_type": "code",
   "execution_count": null,
   "id": "a3a27a74-af18-4bc7-8bde-159628f305e4",
   "metadata": {
    "tags": []
   },
   "outputs": [],
   "source": [
    "Pf3D7_genes_plasmoDB.rename(columns={\"Gene Name or Symbol\" : \"Gene\"}, inplace=True)"
   ]
  },
  {
   "cell_type": "markdown",
   "id": "16bece4e-b611-4e44-8b84-5d34d7a354ce",
   "metadata": {},
   "source": [
    "Set 'Gene ID' as index in preparation for merging with var DF in scvelo anndata object"
   ]
  },
  {
   "cell_type": "code",
   "execution_count": null,
   "id": "e055cf01-db78-46f1-8540-86dd0fb0551a",
   "metadata": {
    "tags": []
   },
   "outputs": [],
   "source": [
    "Pf3D7_genes_plasmoDB.set_index(keys = \"Gene ID\", drop=False, append=False, inplace=True, verify_integrity=False)"
   ]
  },
  {
   "cell_type": "markdown",
   "id": "111c4e59-ed3d-4887-a5d5-ff79c993833b",
   "metadata": {},
   "source": [
    "Remove rows with duplicated index (ie duplicated 'Gene ID')"
   ]
  },
  {
   "cell_type": "code",
   "execution_count": null,
   "id": "1ccf25c0-6d80-4a5b-b637-59f5650e9064",
   "metadata": {},
   "outputs": [],
   "source": [
    "Pf3D7_genes_plasmoDB = Pf3D7_genes_plasmoDB[~Pf3D7_genes_plasmoDB.index.duplicated(keep='first')]"
   ]
  },
  {
   "cell_type": "markdown",
   "id": "19b5bd32-3d45-4239-8945-4fb1c469d5ca",
   "metadata": {},
   "source": [
    "Replacing the NaNs in 'Gene' with pf 'Gene ID' ie the table index"
   ]
  },
  {
   "cell_type": "code",
   "execution_count": null,
   "id": "06f2b5de-9f7b-4274-a58b-102004de6bdb",
   "metadata": {},
   "outputs": [],
   "source": [
    "nan_strings = [\"{}\".format(i) for i in Pf3D7_genes_plasmoDB['Gene ID']]"
   ]
  },
  {
   "cell_type": "code",
   "execution_count": null,
   "id": "b3dcd42c-e0c7-4e1c-abba-4b1d0eb3ed12",
   "metadata": {},
   "outputs": [],
   "source": [
    "Pf_genes_noNA=pd.DataFrame(Pf3D7_genes_plasmoDB['Gene']).apply(lambda c: c.where(c.notnull(), nan_strings))"
   ]
  },
  {
   "cell_type": "code",
   "execution_count": null,
   "id": "6e65f5b4-a7ae-4b79-a311-6d299f7b3380",
   "metadata": {},
   "outputs": [],
   "source": [
    "from socket import socket"
   ]
  },
  {
   "cell_type": "markdown",
   "id": "604d5284-437a-4352-8aee-38887b7dfe6e",
   "metadata": {},
   "source": [
    "Sorting duplicates in 'Gene' such as VAR, RIF, AP2 by merging with 'Gene ID' to get all the gene IDs to be unique"
   ]
  },
  {
   "cell_type": "code",
   "execution_count": null,
   "id": "642e4a6f-ab84-4c82-9d3b-c2adffc151ec",
   "metadata": {
    "tags": []
   },
   "outputs": [],
   "source": [
    "gene_id_name = [m+'_'+str(n) for m,n in zip(Pf3D7_genes_plasmoDB['Gene ID'], Pf3D7_genes_plasmoDB['Gene'])]"
   ]
  },
  {
   "cell_type": "code",
   "execution_count": null,
   "id": "cea60342-2dd2-4ba3-bb67-bd6fe0f64360",
   "metadata": {
    "tags": []
   },
   "outputs": [],
   "source": [
    "Pf_genes_noNA_noDup=Pf_genes_noNA.apply(lambda c: c.where(~c.duplicated(), gene_id_name)).drop_duplicates(keep='first')"
   ]
  },
  {
   "cell_type": "code",
   "execution_count": null,
   "id": "3012a63b-b5c0-422a-ae81-b59f4a95576d",
   "metadata": {
    "tags": []
   },
   "outputs": [],
   "source": [
    "Pf_genes_noNA_noDup"
   ]
  },
  {
   "cell_type": "markdown",
   "id": "991bd7ee-3e56-4dee-9ea7-1e2786f6cec4",
   "metadata": {},
   "source": [
    "Merge Pf_genes_noNA_noDup which is an offshoot of Pf3D7_genes_plasmoDB that has formatted 'Gene' names with its parent table to keep only important variables\n",
    "\n",
    "Need to check to ensure that the was proper copying at the and not just referencing as is common python behavior"
   ]
  },
  {
   "cell_type": "code",
   "execution_count": null,
   "id": "b6f5071a-adf5-4d99-8bf8-3a360b136f83",
   "metadata": {},
   "outputs": [],
   "source": [
    "Pf_genes_cln = pd.merge(Pf_genes_noNA_noDup, Pf3D7_genes_plasmoDB[[\"source_id\", \"Gene ID\", \"NonSyn/Syn SNP Ratio All Strains\", \"# Exons in Gene\", 'Annotated 3\\' UTR length', 'Annotated 5\\' UTR length', 'Gene Strand', 'Transcript Length', 'Computed GO Functions', 'Computed GO Components', 'Computed GO Processes', 'Curated GO Components', 'Curated GO Functions', 'Curated GO Processes']], how='left', left_index = True, right_index = True)"
   ]
  },
  {
   "cell_type": "code",
   "execution_count": null,
   "id": "375f916d-0115-4114-998a-ec276e2a6736",
   "metadata": {
    "tags": []
   },
   "outputs": [],
   "source": [
    "pd.DataFrame(Pf_genes_cln)"
   ]
  },
  {
   "cell_type": "code",
   "execution_count": null,
   "id": "644efb5a-a96d-444a-aac7-be4fffdabf38",
   "metadata": {
    "tags": []
   },
   "outputs": [],
   "source": [
    "# pd.DataFrame(Pf_genes_cln)['Annotated 5\\' UTR length']"
   ]
  },
  {
   "cell_type": "markdown",
   "id": "56858c8e-a270-4ac9-9abd-734a66057911",
   "metadata": {},
   "source": [
    "Merging the formatted PlasmoDB gene names and other metadata with the var DF in the anndata and replacing any NAs in the Gene name with the var index which is the gene ID. "
   ]
  },
  {
   "cell_type": "code",
   "execution_count": null,
   "id": "0d3d2f42-f957-411c-8eef-2ab639423507",
   "metadata": {},
   "outputs": [],
   "source": [
    "##Incorporate Pf gene names\n",
    "# Pf3D7_gene_list_nonNA_bf1 = []\n",
    "# Pf3D7_gene_list_nonNA_bf2 = []\n",
    "for obj1 in ef_qcd_bf1_scv:\n",
    "    obj1.var = pd.merge(obj1.var, Pf_genes_cln[[\"source_id\", \"Gene\",  \"Gene ID\", \"NonSyn/Syn SNP Ratio All Strains\", \"# Exons in Gene\", 'Annotated 3\\' UTR length', 'Annotated 5\\' UTR length', 'Gene Strand', 'Transcript Length', 'Computed GO Functions', 'Computed GO Components', 'Computed GO Processes', 'Curated GO Components', 'Curated GO Functions', 'Curated GO Processes']], how='left', left_index = True, right_index = True)\n",
    "    ##Creating a vector of gene ids to use in stead of genes with no gene names\n",
    "    nan_strings = [\"{}\".format(i) for i in obj1.var.index]\n",
    "    ##Replacing the NaNs with pf gene IDS\n",
    "    obj1.var['Gene'] = pd.DataFrame(obj1.var.Gene).apply(lambda c: c.where(c.notnull(), nan_strings))\n",
    "    # Pf3D7_gene_list_nonNA_bf1.append(x)\n",
    "    # Pf3D7_gene_list_nonNA_bf2.append(y)\n",
    "    "
   ]
  },
  {
   "cell_type": "code",
   "execution_count": null,
   "id": "b95f0a8f-5b86-4eac-b8a3-34f8e6194ac1",
   "metadata": {},
   "outputs": [],
   "source": [
    "##Incorporate Pf gene names\n",
    "# Pf3D7_gene_list_nonNA_bf1 = []\n",
    "# Pf3D7_gene_list_nonNA_bf2 = []\n",
    "for obj2 in ef_qcd_bf2_scv:\n",
    "    obj2.var = pd.merge(obj2.var, Pf_genes_cln[[\"source_id\", \"Gene\",  \"Gene ID\", \"NonSyn/Syn SNP Ratio All Strains\", \"# Exons in Gene\", 'Annotated 3\\' UTR length', 'Annotated 5\\' UTR length', 'Gene Strand', 'Transcript Length', 'Computed GO Functions', 'Computed GO Components', 'Computed GO Processes', 'Curated GO Components', 'Curated GO Functions', 'Curated GO Processes']], how='left', left_index = True, right_index = True)\n",
    "    ##Creating a vector of gene ids to use in stead of genes with no gene names\n",
    "    ##Replacing the NaNs with pf gene IDS\n",
    "    # Pf3D7_gene_list_nonNA_bf1.append(x)\n",
    "    nan_strings = [\"{}\".format(i) for i in obj2.var.index]\n",
    "    obj2.var['Gene'] = pd.DataFrame(obj2.var.Gene).apply(lambda c: c.where(c.notnull(), nan_strings))\n",
    "    # Pf3D7_gene_list_nonNA_bf2.append(y)\n",
    "    "
   ]
  },
  {
   "cell_type": "markdown",
   "id": "a8bbc87b-0031-4f4a-9b94-db4b853eab81",
   "metadata": {},
   "source": [
    "Checking for duplicates in the Gene column of var"
   ]
  },
  {
   "cell_type": "code",
   "execution_count": null,
   "id": "955c9cf7-63fa-4bf9-b1bd-8f6489c40090",
   "metadata": {
    "tags": []
   },
   "outputs": [],
   "source": [
    "for obj1 in ef_qcd_bf1_scv:\n",
    "    print(pd.DataFrame(obj1.var.Gene).duplicated().any())\n"
   ]
  },
  {
   "cell_type": "code",
   "execution_count": null,
   "id": "cba2d51d-1161-44a5-9c84-c1ebbe22e23e",
   "metadata": {},
   "outputs": [],
   "source": [
    "for obj2 in ef_qcd_bf2_scv:\n",
    "    print(pd.DataFrame(obj2.var.Gene).duplicated().any())"
   ]
  },
  {
   "cell_type": "markdown",
   "id": "276da917-b8c6-4eed-bc63-568479f69747",
   "metadata": {},
   "source": [
    "setting Gene column in var DF to index and removing the index name"
   ]
  },
  {
   "cell_type": "code",
   "execution_count": null,
   "id": "87b81434-82f2-4aa0-bf76-23b1268b6fa9",
   "metadata": {},
   "outputs": [],
   "source": [
    "# for obj1 in ef_qcd_bf1_scv:\n",
    "#     obj1.var['Gene_ID'] = obj1.var.index\n",
    "#     obj1.var.set_index(keys='Gene', append=False, inplace=True, verify_integrity=True, drop = False)\n",
    "#     obj1.var.index.name = None"
   ]
  },
  {
   "cell_type": "code",
   "execution_count": null,
   "id": "6e5c6d0c-d6c0-4e88-a757-1ae5b3fe8103",
   "metadata": {},
   "outputs": [],
   "source": [
    "# for obj2 in ef_qcd_bf2_scv:\n",
    "#     obj2.var['Gene_ID'] = obj2.var.index\n",
    "#     obj2.var.set_index(keys='Gene', append=False, inplace=True, verify_integrity=True, drop = False)\n",
    "#     obj2.var.index.name = None"
   ]
  },
  {
   "cell_type": "code",
   "execution_count": null,
   "id": "11618039-3d9a-4dbb-949a-ad1f217989ca",
   "metadata": {
    "tags": []
   },
   "outputs": [],
   "source": [
    "# ef_qcd_bf2_scv[3]"
   ]
  },
  {
   "cell_type": "code",
   "execution_count": null,
   "id": "563f8d8b-7345-4cc8-9616-05959871fb6e",
   "metadata": {
    "tags": []
   },
   "outputs": [],
   "source": [
    "# if (duplicated := Pf3D7_gene_list_nonNA.duplicated(keep=False)).any():\n",
    "#     some_duplicates = Pf3D7_gene_list_nonNA[duplicated].sort_values(by=Pf3D7_gene_list_nonNA.columns.to_list())\n",
    "#     print(f\"Dataframe has one or more duplicated rows, for example:\\n{some_duplicates}\")"
   ]
  },
  {
   "cell_type": "code",
   "execution_count": null,
   "id": "dbfe76bc-a088-4e1c-a9bb-87d931b51b07",
   "metadata": {},
   "outputs": [],
   "source": [
    "ef_qcd_bf1_scv[0]"
   ]
  },
  {
   "cell_type": "markdown",
   "id": "820bcb25-6dde-4917-bae5-9c8c3be19c1f",
   "metadata": {},
   "source": [
    "Adding QC metrics for unspliced, spliced and ambigous counts"
   ]
  },
  {
   "cell_type": "code",
   "execution_count": null,
   "id": "1bf149fd-5cbc-4b3f-8261-084180448474",
   "metadata": {},
   "outputs": [],
   "source": [
    "for obj in ef_qcd_bf1_scv:\n",
    "    sc.pp.calculate_qc_metrics(obj, \n",
    "                               expr_type='unspliced', \n",
    "                               var_type='unspliced', \n",
    "                               percent_top=(50, 100), \n",
    "                               layer='unspliced', \n",
    "                               inplace=True, \n",
    "                               log1p=True)\n",
    "    sc.pp.calculate_qc_metrics(obj, \n",
    "                               expr_type='spliced', \n",
    "                               var_type='spliced', \n",
    "                               percent_top=(50, 100), \n",
    "                               layer='spliced', \n",
    "                               inplace=True, \n",
    "                               log1p=True)\n",
    "    sc.pp.calculate_qc_metrics(obj, \n",
    "                               expr_type='ambiguous', \n",
    "                               var_type='ambiguous', \n",
    "                               percent_top=(50, 100), \n",
    "                               layer='ambiguous', \n",
    "                               inplace=True, \n",
    "                               log1p=True)"
   ]
  },
  {
   "cell_type": "code",
   "execution_count": null,
   "id": "e83a5a25-63b3-49b9-903e-99b8fcc7326a",
   "metadata": {
    "tags": []
   },
   "outputs": [],
   "source": [
    "for obj in ef_qcd_bf2_scv:\n",
    "    sc.pp.calculate_qc_metrics(obj, \n",
    "                               expr_type='unspliced', \n",
    "                               var_type='unspliced', \n",
    "                               percent_top=(50, 100), \n",
    "                               layer='unspliced', \n",
    "                               inplace=True, \n",
    "                               log1p=True)\n",
    "    sc.pp.calculate_qc_metrics(obj, \n",
    "                               expr_type='spliced', \n",
    "                               var_type='spliced', \n",
    "                               percent_top=(50, 100), \n",
    "                               layer='spliced', \n",
    "                               inplace=True, \n",
    "                               log1p=True)\n",
    "    sc.pp.calculate_qc_metrics(obj, \n",
    "                               expr_type='ambiguous', \n",
    "                               var_type='ambiguous', \n",
    "                               percent_top=(50, 100), \n",
    "                               layer='ambiguous', \n",
    "                               inplace=True, \n",
    "                               log1p=True)"
   ]
  },
  {
   "cell_type": "code",
   "execution_count": null,
   "id": "e36dd154-0e1d-48e4-8cf2-336ab1754fe0",
   "metadata": {},
   "outputs": [],
   "source": [
    "ef_qcd_bf2_scv[1].var.columns"
   ]
  },
  {
   "cell_type": "code",
   "execution_count": null,
   "id": "b12aa66d-e3df-4526-9e94-8c94a4caaf2a",
   "metadata": {},
   "outputs": [],
   "source": [
    "import seaborn as sns"
   ]
  },
  {
   "cell_type": "code",
   "execution_count": null,
   "id": "902cef66-72fa-4dc3-bec0-73abb57b3172",
   "metadata": {},
   "outputs": [],
   "source": [
    "sns.jointplot(\n",
    "    data=ef_qcd_bf1_scv[1].var,\n",
    "    x=\"log1p_total_spliced\",\n",
    "    y=\"log1p_total_unspliced\",\n",
    "    kind=\"hex\",\n",
    ")"
   ]
  },
  {
   "cell_type": "code",
   "execution_count": null,
   "id": "9aab5645-29ab-4111-bae9-dbe642e1e093",
   "metadata": {},
   "outputs": [],
   "source": [
    "sns.scatterplot(\n",
    "    data=ef_qcd_bf1_scv[1].var,\n",
    "    x=\"total_spliced\",\n",
    "    y=\"total_unspliced\",\n",
    "    # kind=\"hex\",\n",
    ")"
   ]
  },
  {
   "cell_type": "code",
   "execution_count": null,
   "id": "7913df48-7fa9-4f09-8e0c-68f61bfcc06f",
   "metadata": {},
   "outputs": [],
   "source": [
    "sns.jointplot(\n",
    "    data=ef_qcd_bf2_scv[1].var,\n",
    "    x=\"# Exons in Gene\",\n",
    "    y=\"total_unspliced\",\n",
    "    kind=\"hex\",\n",
    ")"
   ]
  },
  {
   "cell_type": "code",
   "execution_count": null,
   "id": "0a4859bc-68f5-44df-b9be-2f54fb601c43",
   "metadata": {},
   "outputs": [],
   "source": [
    "sns.scatterplot(\n",
    "    data=ef_qcd_bf2_scv[1].var,\n",
    "    x=\"# Exons in Gene\",\n",
    "    y=\"log1p_total_unspliced\",\n",
    "    # kind=\"hex\",\n",
    ")"
   ]
  },
  {
   "cell_type": "code",
   "execution_count": null,
   "id": "1e65c6cf-7e28-4643-b4b1-6b48d75a2518",
   "metadata": {},
   "outputs": [],
   "source": [
    "sns.scatterplot(\n",
    "    data=ef_qcd_bf2_scv[1].var,\n",
    "    x=\"Annotated 3' UTR length\",\n",
    "    y=\"total_unspliced\",\n",
    "    # kind=\"hex\",\n",
    ")"
   ]
  },
  {
   "cell_type": "code",
   "execution_count": null,
   "id": "f96595e9-1028-4a83-ae1a-818d6044d6b6",
   "metadata": {},
   "outputs": [],
   "source": [
    "sns.scatterplot(\n",
    "    data=ef_qcd_bf2_scv[1].var,\n",
    "    x=\"Annotated 5' UTR length\",\n",
    "    y=\"total_unspliced\",\n",
    "    # kind=\"hex\",\n",
    ")"
   ]
  },
  {
   "cell_type": "code",
   "execution_count": null,
   "id": "722ab00d-d735-4f00-9c7a-130f2dade242",
   "metadata": {},
   "outputs": [],
   "source": [
    "sns.scatterplot(\n",
    "    data=ef_qcd_bf2_scv[1].var,\n",
    "    x=\"Transcript Length\",\n",
    "    y=\"total_unspliced\",\n",
    "    # kind=\"hex\",\n",
    ")"
   ]
  },
  {
   "cell_type": "code",
   "execution_count": null,
   "id": "e192ec83-b95e-4c54-82c5-379912e8eeba",
   "metadata": {},
   "outputs": [],
   "source": [
    "sns.scatterplot(\n",
    "    data=ef_qcd_bf2_scv[1].var,\n",
    "    x=\"NonSyn/Syn SNP Ratio All Strains\",\n",
    "    y=\"total_unspliced\",\n",
    "    # kind=\"hex\",\n",
    ")"
   ]
  },
  {
   "cell_type": "code",
   "execution_count": null,
   "id": "dafc20cb-cecf-495a-9587-1445d001a9cd",
   "metadata": {
    "tags": []
   },
   "outputs": [],
   "source": [
    "sns.scatterplot(\n",
    "    data=ef_qcd_bf2_scv[1].var,\n",
    "    x=\"Transcript Length\",\n",
    "    y=\"total_unspliced\",\n",
    "    # kind=\"hex\",\n",
    ")"
   ]
  },
  {
   "cell_type": "markdown",
   "id": "16cd8e34-9b9d-4e92-a2f7-ee31a19836a8",
   "metadata": {},
   "source": [
    "Plotting correlation of spliced and unspliced counts"
   ]
  },
  {
   "cell_type": "code",
   "execution_count": null,
   "id": "9ce28cb8-303e-458c-89b3-ee25fc818b0a",
   "metadata": {
    "tags": []
   },
   "outputs": [],
   "source": [
    "for obj1 in ef_qcd_bf1_scv:\n",
    "    sc.pl.scatter(obj, x= 'initial_size_spliced', y='initial_size_unspliced')"
   ]
  },
  {
   "cell_type": "code",
   "execution_count": null,
   "id": "cf5582a3-5940-484c-a295-ff305bdf2383",
   "metadata": {
    "tags": []
   },
   "outputs": [],
   "source": [
    "for obj1 in ef_qcd_bf2_scv:\n",
    "    sc.pl.scatter(obj, x= 'initial_size_spliced', y='initial_size_unspliced')"
   ]
  },
  {
   "cell_type": "code",
   "execution_count": null,
   "id": "75203d56-52d6-449f-bd0d-a60c6925b820",
   "metadata": {
    "tags": []
   },
   "outputs": [],
   "source": [
    "ef_qcd_bf2_scv[1].var"
   ]
  },
  {
   "cell_type": "code",
   "execution_count": null,
   "id": "661c21fe-f95d-484f-b1d1-0d7f9b17a881",
   "metadata": {
    "tags": []
   },
   "outputs": [],
   "source": [
    "for obj2 in ef_qcd_bf1_scv:\n",
    "    sc.pl.scatter(obj, x= 'initial_size_spliced', y='initial_size')"
   ]
  },
  {
   "cell_type": "markdown",
   "id": "13150539-27ed-4b50-9e55-f70b12cc00b0",
   "metadata": {},
   "source": [
    "Plotting the spliced unspliced distribution"
   ]
  },
  {
   "cell_type": "code",
   "execution_count": null,
   "id": "390e96d1-c90b-41a1-a278-ab84175e3dd2",
   "metadata": {
    "tags": []
   },
   "outputs": [],
   "source": [
    "for obj1 in ef_qcd_bf1_scv:\n",
    "    sc.pl.violin(obj1, ['initial_size_spliced', 'initial_size_unspliced', 'initial_size'], jitter=0.4, multi_panel=True)\n"
   ]
  },
  {
   "cell_type": "code",
   "execution_count": null,
   "id": "16afb8b8-6b3f-4eb0-80fa-7f15475135cd",
   "metadata": {},
   "outputs": [],
   "source": [
    "\n",
    "\n",
    "# print(f\"Cd24a has unspliced counts in {(adata_raw[:, 'Cd24a'].layers['unspliced'] > 0).sum()}/{adata.n_obs} cells.\")\n",
    "# print(f\"Cd24a has spliced counts in {(adata_raw[:, 'Cd24a'].layers['spliced'] > 0).sum()}/{adata.n_obs} cells.\")\n",
    "\n"
   ]
  },
  {
   "cell_type": "code",
   "execution_count": null,
   "id": "4b963958-1b36-4476-a74c-b6a944ef39e4",
   "metadata": {
    "tags": []
   },
   "outputs": [],
   "source": [
    "for obj2 in ef_qcd_bf2_scv:\n",
    "    sc.pl.violin(obj2, ['initial_size_spliced', 'initial_size_unspliced', 'initial_size'], jitter=0.4, multi_panel=True)"
   ]
  },
  {
   "cell_type": "code",
   "execution_count": null,
   "id": "b827c903-7422-4b26-9af6-f69bb2917ea3",
   "metadata": {},
   "outputs": [],
   "source": [
    "#############      JUMP TO scv.tl.recover_dynamics()################"
   ]
  },
  {
   "cell_type": "markdown",
   "id": "ce3b7be9-bb05-4666-9981-12aabde1e3f2",
   "metadata": {},
   "source": [
    "Check scvelo version"
   ]
  },
  {
   "cell_type": "code",
   "execution_count": null,
   "id": "401e9ca0-0484-4e6b-8e49-67f7edf35f22",
   "metadata": {},
   "outputs": [],
   "source": [
    "scv.logging.print_version()"
   ]
  },
  {
   "cell_type": "code",
   "execution_count": null,
   "id": "ac09346b-654a-4b50-a89e-07e46f65c018",
   "metadata": {},
   "outputs": [],
   "source": [
    "#############      JUMP here scv.tl.recover_dynamics()################"
   ]
  },
  {
   "cell_type": "markdown",
   "id": "4e6f47bd-c9d0-4c3b-a129-2b44712aef6c",
   "metadata": {},
   "source": [
    "Plotting proportion of spliced and unspliced counts"
   ]
  },
  {
   "cell_type": "code",
   "execution_count": null,
   "id": "beae3d7a-69d9-48e2-9fe7-6863a570786b",
   "metadata": {
    "tags": []
   },
   "outputs": [],
   "source": [
    "for obj1, v3_day in zip(ef_qcd_bf1_scv, v3_days_all_fnl):\n",
    "    scv.pl.proportions(obj1, groupby=\"Stage\", save=\"plots/\"+v3_day+\"_bf1_splices_unsplices_props.png\")\n"
   ]
  },
  {
   "cell_type": "code",
   "execution_count": null,
   "id": "bc906004-0d87-4a0e-a890-2f4b0d8d8cd6",
   "metadata": {},
   "outputs": [],
   "source": [
    "v3_days_all_fnl"
   ]
  },
  {
   "cell_type": "code",
   "execution_count": null,
   "id": "daa56366-529d-4a95-be2e-57d1ae5d4553",
   "metadata": {
    "tags": []
   },
   "outputs": [],
   "source": [
    "for obj2, v3_day in zip(ef_qcd_bf2_scv, v3_days_fnl):\n",
    "    scv.pl.proportions(obj2, groupby=\"anno_300cells\", save=\"plots/\"+v3_day+\"_bf2_splices_unsplices_props.png\")\n"
   ]
  },
  {
   "cell_type": "code",
   "execution_count": null,
   "id": "e6ef691f-ce50-4f7a-9389-2b00a33a0aab",
   "metadata": {},
   "outputs": [],
   "source": [
    "ef_qcd_bf1_scv[1].obs.columns"
   ]
  },
  {
   "cell_type": "code",
   "execution_count": null,
   "id": "a0a603ea-2088-49f5-8b34-3a3fddb45d5c",
   "metadata": {},
   "outputs": [],
   "source": [
    "# for col in adata.obs.columns:\n",
    "#     if pd.api.types.is_categorical_dtype(adata.obs[col]):\n",
    "#         adata.obs[col]=adata.obs[col].cat.add_categories(\"selfdefinedNA\").fillna('selfdefinedNA')"
   ]
  },
  {
   "cell_type": "code",
   "execution_count": null,
   "id": "f82d1fa2-041b-4ff9-8aa1-411a3531c7b6",
   "metadata": {
    "tags": []
   },
   "outputs": [],
   "source": [
    "# print(ef_qcd_bf2_scv[2].obs.head)"
   ]
  },
  {
   "cell_type": "code",
   "execution_count": null,
   "id": "13a887b6-bb09-4147-a58c-b256ff553d3c",
   "metadata": {},
   "outputs": [],
   "source": [
    "# ef_qcd_bf2_scv[2].obs.select_dtypes(include='number')"
   ]
  },
  {
   "cell_type": "code",
   "execution_count": null,
   "id": "272a2bf3-0e85-4542-bf90-4ed0fd5dc11d",
   "metadata": {
    "tags": []
   },
   "outputs": [],
   "source": [
    "# ef_qcd_bf2_scv[2].obs.drop(['pseudo_asex', 'pseudo_male', 'pseudo_female', 'rank2'], axis=1)"
   ]
  },
  {
   "cell_type": "code",
   "execution_count": null,
   "id": "495f3ea1-17eb-4a1c-8849-d1e06d453aa2",
   "metadata": {
    "tags": []
   },
   "outputs": [],
   "source": [
    "# ef_qcd_bf2_scv[2].obs.loc[:, ef_qcd_bf2_scv[2].obs.columns != ['pseudo_asex', 'pseudo_male', 'pseudo_female']]"
   ]
  },
  {
   "cell_type": "code",
   "execution_count": null,
   "id": "7269169e-21c6-48c1-8dc0-e7e6fa300552",
   "metadata": {},
   "outputs": [],
   "source": [
    "# ef_qcd_bf2_scv[2].obs.columns"
   ]
  },
  {
   "cell_type": "code",
   "execution_count": null,
   "id": "be774275-3adb-4a90-bff7-b6eb994abd57",
   "metadata": {
    "tags": []
   },
   "outputs": [],
   "source": [
    "# ef_qcd_bf2_scv[2].obs[['orig.ident', 'nCount_RNA', 'nFeature_RNA', 'seurat_clusters', 'Stage', 'anno_300cells', 'initial_size_spliced', 'initial_size_unspliced', 'initial_size', 'n_counts']]"
   ]
  },
  {
   "cell_type": "code",
   "execution_count": null,
   "id": "1027148d-b292-4600-8e77-213118e3d5f8",
   "metadata": {},
   "outputs": [],
   "source": [
    "# ef_qcd_bf2_scv[2].var"
   ]
  },
  {
   "cell_type": "code",
   "execution_count": null,
   "id": "47522358-cafc-46b4-87c5-c337beada849",
   "metadata": {
    "tags": []
   },
   "outputs": [],
   "source": [
    "# for col in ef_qcd_bf2_scv[1].obs.columns:\n",
    "#         if pd.api.types.is_categorical_dtype(ef_qcd_bf2_scv[1].obs[col]):\n",
    "#             ef_qcd_bf2_scv[1].obs[col].cat.add_categories(\"selfdefinedNA\").fillna('selfdefinedNA')\n",
    "#             print(ef_qcd_bf2_scv[1].obs.head)"
   ]
  },
  {
   "cell_type": "code",
   "execution_count": null,
   "id": "87f45d9c-8b46-4941-9c26-d3f52a8d65a0",
   "metadata": {},
   "outputs": [],
   "source": [
    "ef_qcd_bf1_scv[1].var"
   ]
  },
  {
   "cell_type": "markdown",
   "id": "14b3615e-2d9b-4a78-932f-a0782d07f054",
   "metadata": {
    "tags": []
   },
   "source": [
    "## RNA velocity estimation"
   ]
  },
  {
   "cell_type": "markdown",
   "id": "8952b81d-aa07-4871-8009-28e7ab8c7a11",
   "metadata": {
    "tags": []
   },
   "source": [
    "### stochastic estimation"
   ]
  },
  {
   "cell_type": "markdown",
   "id": "dea651ea-78e2-42b4-a944-9dbc74b954a6",
   "metadata": {},
   "source": [
    "Recovering all splicing kinetics using expectation maximization likelihood but estimating velocity genes using steady state model if the 'velocity_genes' column not present in var. ('If var_names=’velocity_genes’ but there is no column ‘velocity_genes’ in adata.var, velocity genes are estimated using the steady state model').\n",
    "More details on estimation estimation of velocity genes here https://github.com/theislab/scvelo/issues/497\n",
    "\n",
    "Transcription rate (alpha), splicing rate (beta), degradation rate (gamma), switching timepoints, latent time (cell's internal clock), likelihood of model fit and scaling factors etc are iteratively inferred by maximizing joint likelihood.\n",
    "\n",
    "The option use_raw = True can be used to direct the use of raw spliced (.layers[‘sliced’]) counts to be used in estimating the dynamics as opposed to moments in .layers[‘Ms’]. this seems to be recomended here https://www.biorxiv.org/content/10.1101/2022.02.12.480214v1"
   ]
  },
  {
   "cell_type": "code",
   "execution_count": null,
   "id": "26e80f75-fe30-4931-a3be-a951383d501c",
   "metadata": {
    "tags": []
   },
   "outputs": [],
   "source": [
    "# ef_qcd_bf1_scv[0].layers['velocity']"
   ]
  },
  {
   "cell_type": "code",
   "execution_count": null,
   "id": "2b93bdf0-32b8-4afe-be82-745f4d4fc3e1",
   "metadata": {},
   "outputs": [],
   "source": [
    "ef_scv_stochastic=[]\n",
    "for obj in ef_qcd_bf1_scv:\n",
    "    ef_scv_stochastic.append(obj.copy())"
   ]
  },
  {
   "cell_type": "code",
   "execution_count": null,
   "id": "381ca046-e122-43a7-b011-264485498896",
   "metadata": {
    "tags": []
   },
   "outputs": [],
   "source": [
    "# ef_qcd_bf1_scv[1]"
   ]
  },
  {
   "cell_type": "code",
   "execution_count": null,
   "id": "f7ea00c0-eee8-41ea-a11b-f5fc88554fbc",
   "metadata": {},
   "outputs": [],
   "source": [
    "### Stochastic model as main/best performing"
   ]
  },
  {
   "cell_type": "code",
   "execution_count": null,
   "id": "5e6a280f-d788-4201-a932-a1ad8b4ebc03",
   "metadata": {
    "tags": []
   },
   "outputs": [],
   "source": [
    "for obj1 in ef_scv_stochastic:\n",
    "    scv.tl.velocity(obj1, mode='stochastic', n_jobs=5, min_r2=0.2, perc = [20, 80])\n",
    "    scv.tl.velocity_graph(obj1)"
   ]
  },
  {
   "cell_type": "code",
   "execution_count": null,
   "id": "115d2057-eea3-4ba8-9d46-23148efda3ac",
   "metadata": {},
   "outputs": [],
   "source": [
    "ef_scv_stochastic[0]"
   ]
  },
  {
   "cell_type": "code",
   "execution_count": null,
   "id": "67a92a80-18f9-4ebd-92a7-8a9ad3d93a65",
   "metadata": {},
   "outputs": [],
   "source": [
    "# scv.pl.scatter(ef_scv_stochastic[0], basis='umap',  components='2,3', color='Stage')"
   ]
  },
  {
   "cell_type": "code",
   "execution_count": null,
   "id": "6014f721-3b83-491d-b3fa-68399fa84472",
   "metadata": {},
   "outputs": [],
   "source": [
    "## Creating a new column with the fine grained gametocyte labels and course asexual ones\n",
    "for i, obj1 in enumerate(ef_scv_stochastic):\n",
    "    obj1.obs['stage_bfs'] = obj1.obs['anno_300cells']\n",
    "    obj1.obs = obj1.obs.astype({\"stage_bfs\": str}, errors='raise')\n",
    "    obj1.obs.loc[obj1.obs['stage_bfs'] == 'no assignment', 'stage_bfs'] = obj1.obs['Stage']\n",
    "    obj1.obs.loc[obj1.obs['stage_bfs'] == 'Gametocytes (comitted)', 'stage_bfs'] = 'Gametocytes (committed)'\n",
    "    obj1.obs['stage_bfs'] = obj1.obs['stage_bfs'].astype('category')\n",
    "    if i == 0:\n",
    "        obj1.obs.stage_bfs.cat.reorder_categories(['late ring', 'early trophozoite', 'Gametocytes (committed)', 'Gametocytes (developing)', 'Gametocytes (branching)', 'Gametocytes (early female)', 'Gametocytes (late female)', 'Gametocytes (early male)', 'Gametocytes (late male)', 'late trophozoite', 'early schizont'], inplace=True)\n",
    "    \n",
    "    else:\n",
    "        obj1.obs.stage_bfs.cat.reorder_categories(['late ring', 'early trophozoite', 'Gametocytes (committed)', 'Gametocytes (developing)', 'Gametocytes (branching)', 'Gametocytes (early female)', 'Gametocytes (late female)', 'Gametocytes (early male)', 'Gametocytes (late male)', 'late trophozoite', 'early schizont', 'late schizont', 'early ring'], inplace=True)\n"
   ]
  },
  {
   "cell_type": "code",
   "execution_count": null,
   "id": "78601b10-5c99-4299-b965-e5537cc98afd",
   "metadata": {},
   "outputs": [],
   "source": [
    "ef_scv_stochastic[0].obs.value_counts(['stage_bfs', 'Stage'])"
   ]
  },
  {
   "cell_type": "code",
   "execution_count": null,
   "id": "5f16fffd-6081-4818-9f7d-26f4d36d0922",
   "metadata": {},
   "outputs": [],
   "source": [
    "for obj, v3_day in zip(ef_scv_stochastic, v3_days_all_fnl):\n",
    "    scv.pl.velocity_embedding_stream(obj, basis='umap', projection=\"3d\", components='2,3', color='stage_bfs')\n",
    "    # scv.pl.velocity_embedding(obj, basis='umap', components='2,3', arrow_length=2, arrow_size=2)\n",
    "    scv.pl.velocity_embedding_grid(obj, basis='umap', components='2,3', arrow_length=2, arrow_size=2)"
   ]
  },
  {
   "cell_type": "code",
   "execution_count": null,
   "id": "8fa6137e-ba97-47e2-8574-4dcae0a35e38",
   "metadata": {},
   "outputs": [],
   "source": [
    "for obj, v3_day in zip(ef_scv_stochastic, v3_days_all_fnl):\n",
    "    scv.pl.velocity_embedding_stream(obj, basis='umap', projection=\"3d\", components='2,3', color='stage_bfs')\n",
    "    # scv.pl.velocity_embedding(obj, basis='umap', components='2,3', arrow_length=2, arrow_size=2)\n",
    "    scv.pl.velocity_embedding_grid(obj, basis='umap', components='2,3', arrow_length=2, arrow_size=2)"
   ]
  },
  {
   "cell_type": "code",
   "execution_count": null,
   "id": "6b546023-c512-431c-ae5a-185f2c81fd6a",
   "metadata": {},
   "outputs": [],
   "source": [
    "asx_gam_cols = [\"#ECE2F0\", \"#D0D1E6\", \"#6BAED6\", \"#4292C6\", \"#2171B5\", \"#FDAE6B\", \"#E6550D\", \"#A1D99B\", \"#31A354\", \"#02818A\", \"#016C59\"]"
   ]
  },
  {
   "cell_type": "code",
   "execution_count": null,
   "id": "29e49b9b-4c49-4e1c-8fcf-9a94c3b54d8d",
   "metadata": {},
   "outputs": [],
   "source": [
    "asx_gam_cols_dict = dict(zip(ef_scv_stochastic[0].obs.stage_bfs.cat.categories.tolist(), asx_gam_cols))"
   ]
  },
  {
   "cell_type": "code",
   "execution_count": null,
   "id": "e7bfba7e-21e6-4f16-a23f-3684ef7eca75",
   "metadata": {},
   "outputs": [],
   "source": [
    "ef_scv_stochastic[1].obs.value_counts('Stage')"
   ]
  },
  {
   "cell_type": "code",
   "execution_count": null,
   "id": "a4ec4854-6612-4fb8-b1d8-ffcb1bc46b77",
   "metadata": {},
   "outputs": [],
   "source": [
    "scv.pl.velocity_embedding_stream(ef_scv_stochastic[0], basis='umap', projection=\"3d\", components='2,3', color='stage_bfs', palette=asx_gam_cols_dict)"
   ]
  },
  {
   "cell_type": "code",
   "execution_count": null,
   "id": "0f76073a-8e97-4d7b-9a28-ad8be2e83044",
   "metadata": {},
   "outputs": [],
   "source": [
    "scv.pl.velocity_embedding_stream(ef_scv_stochastic[0], basis='umap', projection=\"3d\", components='2,3', color='stage_bfs', palette=asx_gam_cols_dict, add_outline=['early trophozoite', 'Gametocytes (developing)','Gametocytes (branching)','Gametocytes (early male)','Gametocytes (late male)','Gametocytes (early female)','Gametocytes (late female)', 'early schizont'])\n",
    "    # scv.pl.velocity_embedding(obj, basis='umap', components='2,3', arrow_length=2, arrow_size=2)\n",
    "# scv.pl.velocity_embedding_grid(ef_scv_stochastic_lbld, basis='umap', components='2,3', arrow_length=2, arrow_size=2)"
   ]
  },
  {
   "cell_type": "code",
   "execution_count": null,
   "id": "600eeeed-e30c-4c3e-ac3f-ed99c10df98d",
   "metadata": {},
   "outputs": [],
   "source": [
    "scv.pl.velocity_embedding_stream(ef_scv_stochastic[0], basis='umap', projection=\"3d\", components='2,3', color='stage_bfs', palette=asx_gam_cols_dict, add_outline=['early trophozoite', 'late ring', 'Gametocytes (developing)', 'early schizont'])\n",
    "    # scv.pl.velocity_embedding(obj, basis='umap', components='2,3', arrow_length=2, arrow_size=2)\n",
    "# scv.pl.velocity_embedding_grid(ef_scv_stochastic_lbld, basis='umap', components='2,3', arrow_length=2, arrow_size=2)"
   ]
  },
  {
   "cell_type": "code",
   "execution_count": null,
   "id": "c42daf98-b124-40f6-9b18-894dc96d521d",
   "metadata": {},
   "outputs": [],
   "source": [
    "scv.pl.velocity_embedding_stream(ef_scv_stochastic[0], basis='umap', projection=\"3d\", components='2,3', color='stage_bfs', palette=asx_gam_cols_dict, add_outline=['Gametocytes (committed)', 'Gametocytes (developing)', 'Gametocytes (late male)', 'Gametocytes (late female)'])\n",
    "    # scv.pl.velocity_embedding(obj, basis='umap', components='2,3', arrow_length=2, arrow_size=2)\n",
    "# scv.pl.velocity_embedding_grid(ef_scv_stochastic_lbld, basis='umap', components='2,3', arrow_length=2, arrow_size=2)"
   ]
  },
  {
   "cell_type": "code",
   "execution_count": null,
   "id": "8af00c49-10c5-47f9-94f6-7021e64155e0",
   "metadata": {},
   "outputs": [],
   "source": [
    "scv.pl.velocity_embedding_stream(ef_scv_stochastic[0], basis='umap', projection=\"3d\", components='2,3', color='stage_bfs', palette=asx_gam_cols_dict, add_outline=['Gametocytes (developing)','Gametocytes (branching)', 'Gametocytes (late male)', 'Gametocytes (late female)'],size=20, fontsize=1)\n",
    "    # scv.pl.velocity_embedding(obj, basis='umap', components='2,3', arrow_length=2, arrow_size=2)\n",
    "# scv.pl.velocity_embedding_grid(ef_scv_stochastic_lbld, basis='umap', components='2,3', arrow_length=2, arrow_size=2)"
   ]
  },
  {
   "cell_type": "code",
   "execution_count": null,
   "id": "b7ca0eec-c25b-4f17-a3e9-bdef39b3d0cc",
   "metadata": {},
   "outputs": [],
   "source": [
    "for obj in ef_scv_stochastic:\n",
    "    print(obj.var['velocity_genes'].sum(), obj.n_vars)"
   ]
  },
  {
   "cell_type": "code",
   "execution_count": null,
   "id": "909393d6-c10b-45ec-b449-919829e87994",
   "metadata": {},
   "outputs": [],
   "source": []
  },
  {
   "cell_type": "code",
   "execution_count": null,
   "id": "97344d9e-f59f-42c9-bb32-adcfebb189f1",
   "metadata": {},
   "outputs": [],
   "source": [
    "# ef_scv_stochastic_lbld.obs.value_counts(['Stage', 'stage_bfs'])"
   ]
  },
  {
   "cell_type": "code",
   "execution_count": null,
   "id": "02015122-a3b1-4681-ba90-2b0852de8b2c",
   "metadata": {},
   "outputs": [],
   "source": [
    "ef_scv_stochastic[0].var.velocity_gamma"
   ]
  },
  {
   "cell_type": "code",
   "execution_count": null,
   "id": "33271fa5-7533-4799-8c0c-5e589b0a9b11",
   "metadata": {},
   "outputs": [],
   "source": [
    "ef_scv_stochastic[0].obs.velocity_self_transition"
   ]
  },
  {
   "cell_type": "code",
   "execution_count": null,
   "id": "15a41f7e-3dbc-417d-b624-d7b8cea8de6a",
   "metadata": {},
   "outputs": [],
   "source": [
    "# for obj,v3_day in zip(ef_scv_stochastic, v3_days_all_fnl):\n",
    "#     pickle.dump( obj, open( \"data/processed/PfDB52e/\"+v3_day+\"/scv_bf1_b4CR_stocha.p\", \"wb\" ) )\n"
   ]
  },
  {
   "cell_type": "code",
   "execution_count": null,
   "id": "ae568aae-0060-4961-8149-11e981c85f98",
   "metadata": {},
   "outputs": [],
   "source": [
    "# for obj,v3_day in zip(ef_qcd_bf2_scv, v3_days_fnl):\n",
    "#     pickle.dump( obj, open( \"data/processed/PfDB52e/\"+v3_day+\"/scv_bf2_b4CR_stocha.p\", \"wb\" ) )"
   ]
  },
  {
   "cell_type": "code",
   "execution_count": null,
   "id": "4fc6aeec-c722-4ac9-9fcb-b4e7c38fb473",
   "metadata": {
    "tags": []
   },
   "outputs": [],
   "source": [
    "# writeh5ad for velovix\n",
    "for v3_day, obj in zip(v3_days_all_fnl, ef_scv_stochastic):\n",
    "    obj.write(\"data/processed/PfDB52e/\"+v3_day+\"/scv_bf1_b4CR_stocha.h5ad\")"
   ]
  },
  {
   "cell_type": "code",
   "execution_count": null,
   "id": "20d6e423-ceb6-4467-8416-5da2be77da07",
   "metadata": {},
   "outputs": [],
   "source": [
    "# for obj in ef_scv_stochastic:\n",
    "#     scv.tl.differential_kinetic_test(obj, groupby='stage_bfs')"
   ]
  },
  {
   "cell_type": "code",
   "execution_count": null,
   "id": "c389dd16-299f-4d77-880d-da461faff9c0",
   "metadata": {},
   "outputs": [],
   "source": [
    "# for obj in ef_scv_stochastic:\n",
    "#     del obj.uns['coarse_fwd']['coarse_init_dist']\n",
    "#     try:\n",
    "#         del obj.uns['coarse_fwd']['coarse_stat_dist']\n",
    "#     except KeyError:\n",
    "#         pass"
   ]
  },
  {
   "cell_type": "code",
   "execution_count": null,
   "id": "2002ecfc-0f79-4f8c-9723-5197a5e60f87",
   "metadata": {
    "jupyter": {
     "outputs_hidden": true
    },
    "tags": []
   },
   "outputs": [],
   "source": [
    "# writeh5ad for velovix\n",
    "for v3_day, obj in zip(v3_days_all_fnl, ef_scv_stochastic):\n",
    "    obj.write(\"data/processed/PfDB52e/\"+v3_day+\"/scv_bf1_b4CR_stocha_VK.h5ad\")"
   ]
  },
  {
   "cell_type": "markdown",
   "id": "1ffb7bcc-d8ac-46e0-a843-f6b979057d39",
   "metadata": {},
   "source": [
    "Writing out h5ad files for Veloviz visuals generation. Some formatting to remove NAs in var and obs columns as suggested here to solve errors cropping up when importing into seurat. DO NOT DELETE"
   ]
  },
  {
   "cell_type": "code",
   "execution_count": null,
   "id": "3323d4bc-b0f5-4727-a754-be0da0d5b000",
   "metadata": {
    "tags": []
   },
   "outputs": [],
   "source": [
    "umap = ef_scv_stochastic[1].obsm['X_umap']\n",
    "\n",
    "fig_3d = px.scatter_3d(x =umap[:, 0], y = umap[:, 1], z = umap[:, 2], color = ef_scv_stochastic[1].obs.Stage)\n",
    "\n",
    "fig_3d.update_traces(marker_size=1)\n",
    "\n",
    "\n",
    "fig_3d.show()"
   ]
  },
  {
   "cell_type": "markdown",
   "id": "0106be5d-8d5a-4327-b7f0-ff3b20020bed",
   "metadata": {
    "tags": []
   },
   "source": [
    "### Deterministic model accounting for batch/days"
   ]
  },
  {
   "cell_type": "code",
   "execution_count": null,
   "id": "6eae3dc2-a1e2-47b3-9600-144389e4a842",
   "metadata": {},
   "outputs": [],
   "source": [
    "ef_scv_det = []\n",
    "for obj in ef_qcd_bf1_scv:\n",
    "    ef_scv_det.append(obj.copy())"
   ]
  },
  {
   "cell_type": "code",
   "execution_count": null,
   "id": "729e13cd-aef9-44b9-bbbe-3f1ded424153",
   "metadata": {
    "jupyter": {
     "outputs_hidden": true
    },
    "tags": []
   },
   "outputs": [],
   "source": [
    "# GOOD\n",
    "for obj1 in ef_scv_det:\n",
    "    scv.tl.velocity(obj1, mode='deterministic', n_jobs=5, min_r2=0.2, perc = [20, 80], r2_adjusted = 'adjusted', groupby='orig.ident')\n",
    "    scv.tl.velocity_graph(obj1)"
   ]
  },
  {
   "cell_type": "code",
   "execution_count": null,
   "id": "85a4a692-bd5d-4dac-8502-29aaa68abe12",
   "metadata": {
    "tags": []
   },
   "outputs": [],
   "source": [
    "for obj, v3_day in zip(ef_scv_det, v3_days_all_fnl):\n",
    "    scv.pl.velocity_embedding_stream(obj, basis='umap', projection=\"3d\", components='2,3')"
   ]
  },
  {
   "cell_type": "code",
   "execution_count": null,
   "id": "d67c9ea4-2bdb-47d0-93e7-2bf1f09666c8",
   "metadata": {},
   "outputs": [],
   "source": [
    "for obj in ef_scv_det:\n",
    "    print(obj.var['velocity_genes'].sum(), obj.n_vars)"
   ]
  },
  {
   "cell_type": "markdown",
   "id": "efe476b1-7262-4165-9535-044e17ded0de",
   "metadata": {
    "tags": []
   },
   "source": [
    "## Dynamical model "
   ]
  },
  {
   "cell_type": "code",
   "execution_count": null,
   "id": "c851cedd-5f8b-47e6-bc6e-17f06fce6a29",
   "metadata": {},
   "outputs": [],
   "source": [
    "ef_scv_dyn = []\n",
    "for obj in ef_qcd_bf1_scv:\n",
    "    ef_scv_dyn.append(obj.copy())"
   ]
  },
  {
   "cell_type": "code",
   "execution_count": null,
   "id": "ed96248a-25ca-4fe5-b8ed-07efcee74350",
   "metadata": {},
   "outputs": [],
   "source": [
    "scv.tl.recover_dynamics(ef_scv_dyn[0], n_jobs=8, max_iter=20, use_raw=True)"
   ]
  },
  {
   "cell_type": "code",
   "execution_count": null,
   "id": "09a553d8-bd04-407d-ad94-d2d625ba4240",
   "metadata": {},
   "outputs": [],
   "source": [
    "scv.tl.velocity(ef_scv_dyn[0], mode='dynamical', n_jobs=8, min_r2=0.3, perc = [20, 80], r2_adjusted = 'adjusted'6)"
   ]
  },
  {
   "cell_type": "code",
   "execution_count": null,
   "id": "1f123c5b-b112-42e8-9d21-6b30e8149c71",
   "metadata": {},
   "outputs": [],
   "source": [
    "ef_scv_dyn[0].layers['velocity']"
   ]
  },
  {
   "cell_type": "code",
   "execution_count": null,
   "id": "6af36052-07b1-4249-b002-207cd91bb342",
   "metadata": {},
   "outputs": [],
   "source": [
    "scv.tl.velocity_graph(ef_scv_dyn[0])"
   ]
  },
  {
   "cell_type": "code",
   "execution_count": null,
   "id": "6f0e67ed-ab8c-418f-a9bc-e2278e189b91",
   "metadata": {},
   "outputs": [],
   "source": [
    "scv.pl.velocity_embedding_stream(ef_scv_dyn[0], basis='umap', projection=\"3d\", components='2,3', use_raw=True)"
   ]
  },
  {
   "cell_type": "code",
   "execution_count": null,
   "id": "3ce98b1c-640e-4da2-acdc-baae8f82fda9",
   "metadata": {},
   "outputs": [],
   "source": [
    "## Creating a new column with the fine grained gametocyte labels and course asexual ones\n",
    "for i, obj1 in enumerate(ef_scv_dyn):\n",
    "    obj1.obs['stage_bfs'] = obj1.obs['anno_300cells']\n",
    "    obj1.obs = obj1.obs.astype({\"stage_bfs\": str}, errors='raise')\n",
    "    obj1.obs.loc[obj1.obs['stage_bfs'] == 'no assignment', 'stage_bfs'] = obj1.obs['Stage']\n",
    "    obj1.obs.loc[obj1.obs['stage_bfs'] == 'Gametocytes (comitted)', 'stage_bfs'] = 'Gametocytes (committed)'\n",
    "    obj1.obs['stage_bfs'] = obj1.obs['stage_bfs'].astype('category')\n",
    "    if i == 0:\n",
    "        obj1.obs.stage_bfs.cat.reorder_categories(['late ring', 'early trophozoite', 'Gametocytes (committed)', 'Gametocytes (developing)', 'Gametocytes (branching)', 'Gametocytes (early female)', 'Gametocytes (late female)', 'Gametocytes (early male)', 'Gametocytes (late male)', 'late trophozoite', 'early schizont'], inplace=True)\n",
    "    \n",
    "    else:\n",
    "        obj1.obs.stage_bfs.cat.reorder_categories(['late ring', 'early trophozoite', 'Gametocytes (committed)', 'Gametocytes (developing)', 'Gametocytes (branching)', 'Gametocytes (early female)', 'Gametocytes (late female)', 'Gametocytes (early male)', 'Gametocytes (late male)', 'late trophozoite', 'early schizont', 'late schizont', 'early ring'], inplace=True)\n"
   ]
  },
  {
   "cell_type": "code",
   "execution_count": null,
   "id": "0c3603c1-99a8-472d-a05c-63f9437143b7",
   "metadata": {},
   "outputs": [],
   "source": [
    "scv.tl.differential_kinetic_test(ef_scv_dyn[0], groupby='stage_bfs')"
   ]
  },
  {
   "cell_type": "code",
   "execution_count": null,
   "id": "03168cef-6e3e-4c9d-a899-ca64b2ae23e5",
   "metadata": {
    "jupyter": {
     "outputs_hidden": true
    },
    "tags": []
   },
   "outputs": [],
   "source": [
    "scv.tl.velocity(ef_scv_dyn[0], mode='stochastic', n_jobs=5, min_r2=0.2, perc = [20, 80], diff_kinetics=True,groupby='orig.ident', min_likelihood=0.1)"
   ]
  },
  {
   "cell_type": "code",
   "execution_count": null,
   "id": "65b38d62-af5b-4d58-9774-1b7b1f99ed48",
   "metadata": {},
   "outputs": [],
   "source": [
    "scv.tl.velocity(ef_scv_dyn[0], mode='stochastic', diff_kinetics=True, groupby='orig.ident', min_likelihood=0.1, use_raw=True)"
   ]
  },
  {
   "cell_type": "code",
   "execution_count": null,
   "id": "60ba6459-9c71-4874-9525-444ea2a9919d",
   "metadata": {},
   "outputs": [],
   "source": [
    "ef_scv_dyn[0].var.fit_likelihood.sort_values(ascending=False)"
   ]
  },
  {
   "cell_type": "code",
   "execution_count": null,
   "id": "019f0791-a266-4efc-bec8-0ccb4aed3cfb",
   "metadata": {},
   "outputs": [],
   "source": [
    "ef_scv_dyn[0].obs.velocity_self_transition"
   ]
  },
  {
   "cell_type": "code",
   "execution_count": null,
   "id": "c7e5f77c-c9e9-4a10-b26b-0e2e39ba9a0d",
   "metadata": {},
   "outputs": [],
   "source": [
    "ef_scv_dyn[0].layers['velocity']"
   ]
  },
  {
   "cell_type": "code",
   "execution_count": null,
   "id": "f79363df-2e58-4533-aa69-9c99063fa99d",
   "metadata": {},
   "outputs": [],
   "source": [
    "scv.pl.velocity_embedding_stream(ef_scv_dyn[0], basis='umap', projection=\"3d\", components='2,3', use_raw=True)"
   ]
  },
  {
   "cell_type": "code",
   "execution_count": null,
   "id": "7828f36f-f873-45ab-8305-090b1815f8b0",
   "metadata": {},
   "outputs": [],
   "source": [
    "scv.pl.velocity_embedding_grid(ef_scv_dyn[0], basis='umap', projection=\"3d\", components='2,3', use_raw=True)"
   ]
  },
  {
   "cell_type": "code",
   "execution_count": null,
   "id": "71a13f8f-26bb-4a9f-b971-f5e4c3bf8289",
   "metadata": {},
   "outputs": [],
   "source": [
    "scv.pl.velocity_embedding_grid(ef_scv_dyn[0], basis='umap', components='2,3', arrow_length=2, arrow_size=2)"
   ]
  },
  {
   "cell_type": "code",
   "execution_count": null,
   "id": "7e69d60f-b78c-44b9-b2b3-32c652bfc067",
   "metadata": {
    "jupyter": {
     "outputs_hidden": true
    },
    "tags": []
   },
   "outputs": [],
   "source": [
    "for obj1 in ef_scv_dyn:\n",
    "    scv.tl.recover_dynamics(obj1, n_jobs=, max_iter=20, use_raw=True)"
   ]
  },
  {
   "cell_type": "code",
   "execution_count": null,
   "id": "355eff1c-b850-49d8-93a7-a74db9e6d6c6",
   "metadata": {},
   "outputs": [],
   "source": [
    "# for obj in ef_scv_stochastic:\n",
    "#     scv.tl.differential_kinetic_test(obj, groupby='stage_bfs')"
   ]
  },
  {
   "cell_type": "code",
   "execution_count": null,
   "id": "644c9480-09f4-46df-aefe-7697b8c02d56",
   "metadata": {
    "tags": []
   },
   "outputs": [],
   "source": [
    "# for obj2 in ef_qcd_bf2_scv_dyn:\n",
    "#     scv.tl.recover_dynamics(obj2, n_jobs=-1, max_iter=20)"
   ]
  },
  {
   "cell_type": "code",
   "execution_count": null,
   "id": "721cf39a-9a47-47aa-b6be-4472be6b107a",
   "metadata": {
    "tags": []
   },
   "outputs": [],
   "source": [
    "for obj1 in ef_scv_dyn:\n",
    "    scv.tl.velocity(obj1, mode='dynamical', n_jobs=5, min_r2=0.2, perc = [20, 80], r2_adjusted = 'adjusted')\n",
    "    scv.tl.velocity_graph(obj1)"
   ]
  },
  {
   "cell_type": "code",
   "execution_count": null,
   "id": "850b7ca1-1f65-4abb-921e-c7daf7bfc2ee",
   "metadata": {},
   "outputs": [],
   "source": [
    "for obj, v3_day in zip(ef_scv_dyn, v3_days_all_fnl):\n",
    "    scv.pl.velocity_embedding_stream(obj, basis='umap', projection=\"3d\", components='2,3')"
   ]
  },
  {
   "cell_type": "code",
   "execution_count": null,
   "id": "55616940-f3c5-44af-8fb2-aacb9bc66f46",
   "metadata": {},
   "outputs": [],
   "source": [
    "for obj in ef_scv_dyn:\n",
    "    print(obj.var['velocity_genes'].sum(), obj.n_vars)"
   ]
  },
  {
   "cell_type": "code",
   "execution_count": null,
   "id": "3b12ed0f-3f96-44eb-beef-99f574a9081b",
   "metadata": {},
   "outputs": [],
   "source": [
    "scv.tl.recover_dynamics(ef_scv_dyn[1], n_jobs=7, max_iter=20)"
   ]
  },
  {
   "cell_type": "code",
   "execution_count": null,
   "id": "511da09d-1a17-4050-a703-a0099da72a1b",
   "metadata": {},
   "outputs": [],
   "source": []
  },
  {
   "cell_type": "code",
   "execution_count": null,
   "id": "46526c86-4e42-4b48-8124-86dd368ba460",
   "metadata": {},
   "outputs": [],
   "source": [
    "scv.tl.velocity(ef_scv_dyn[1], mode='dynamical', n_jobs=8,min_likelihood=0.2)"
   ]
  },
  {
   "cell_type": "code",
   "execution_count": null,
   "id": "dfb12ac4-acbb-4e22-bb00-a82de766171c",
   "metadata": {},
   "outputs": [],
   "source": [
    "scv.tl.velocity_graph(ef_scv_dyn[1])"
   ]
  },
  {
   "cell_type": "code",
   "execution_count": null,
   "id": "23ef38cc-7cd5-4b3b-a941-e261c2dca295",
   "metadata": {},
   "outputs": [],
   "source": [
    "scv.pl.velocity_embedding_stream(ef_scv_dyn[1], basis='umap', projection=\"3d\", components='2,3', n_neighbors=50)"
   ]
  },
  {
   "cell_type": "code",
   "execution_count": null,
   "id": "c8e382ba-dbbc-4b5a-8655-8fa2d664c666",
   "metadata": {},
   "outputs": [],
   "source": [
    "scv.tl.velocity(ef_scv_dyn[1], mode='stochastic', n_jobs=5, min_r2=0.2, perc = [20, 80], diff_kinetics=True, use_raw=True)\n",
    "\n",
    "scv.tl.velocity_graph(ef_scv_dyn[1])\n",
    "scv.pl.velocity_embedding_stream(ef_scv_dyn[1], basis='umap', projection=\"3d\", components='2,3' )"
   ]
  },
  {
   "cell_type": "code",
   "execution_count": null,
   "id": "3bab7f9d-f7fb-4241-bd8d-3eac706bf6e1",
   "metadata": {},
   "outputs": [],
   "source": [
    "scv.tl.differential_kinetic_test(ef_scv_dyn[1], groupby='Stage')"
   ]
  },
  {
   "cell_type": "code",
   "execution_count": null,
   "id": "35b7ebe3-54dc-41a3-8c09-2237503cbeca",
   "metadata": {},
   "outputs": [],
   "source": [
    "scv.tl.velocity(ef_scv_dyn[1], mode='stochastic', n_jobs=5, min_r2=0.2, perc = [20, 80], diff_kinetics=True, use_latent_time=True)"
   ]
  },
  {
   "cell_type": "code",
   "execution_count": null,
   "id": "f8f28681-0437-4209-bacc-54fab3df8711",
   "metadata": {},
   "outputs": [],
   "source": [
    "scv.tl.velocity_graph(ef_scv_dyn[1])"
   ]
  },
  {
   "cell_type": "code",
   "execution_count": null,
   "id": "dd622fc4-9c46-4731-bef9-feddf810930a",
   "metadata": {},
   "outputs": [],
   "source": [
    "scv.pl.velocity_embedding_stream(ef_scv_dyn[1], basis='umap', projection=\"3d\", components='2,3', )"
   ]
  },
  {
   "cell_type": "code",
   "execution_count": null,
   "id": "025d3e32-8ee6-4e90-8f4b-921bc3865a71",
   "metadata": {},
   "outputs": [],
   "source": [
    "##Removing variable kinetics genes in rings from the model\n",
    "\n",
    "ef_scv_dyn[1].var['velocity_genes2'] = ef_scv_dyn[1].var['velocity_genes'].copy()\n",
    "# ef_scv_dyn[1].obs = ef_scv_dyn[1].obs.astype({\"velocity_genes2\": str}, errors='raise')\n",
    "# ef_scv_dyn[1]['velocity_genes2'].replace({True: False})"
   ]
  },
  {
   "cell_type": "code",
   "execution_count": null,
   "id": "639aca42-5292-4dad-b5ae-abd40a7f5708",
   "metadata": {},
   "outputs": [],
   "source": []
  },
  {
   "cell_type": "code",
   "execution_count": null,
   "id": "ab07675b-9445-40f6-812b-66115e5e889c",
   "metadata": {},
   "outputs": [],
   "source": [
    "ef_scv_dyn[1].var.loc[ef_scv_dyn[1].var['fit_diff_kinetics'].str.contains('early ring'), 'velocity_genes2'] = ef_scv_dyn[1].var.loc[ef_scv_dyn[1].var['fit_diff_kinetics'].str.contains('early ring'), 'velocity_genes2'].replace({True: False})"
   ]
  },
  {
   "cell_type": "code",
   "execution_count": null,
   "id": "7f9f6810-020d-40e6-ac2c-a128218f4227",
   "metadata": {},
   "outputs": [],
   "source": [
    "ef_scv_dyn[1].var.loc[ef_scv_dyn[1].var['fit_diff_kinetics'].str.contains('early ring'), 'velocity_genes2']"
   ]
  },
  {
   "cell_type": "code",
   "execution_count": null,
   "id": "216f1a40-73b3-4d9b-b9a4-73ce82f47c17",
   "metadata": {},
   "outputs": [],
   "source": [
    "ef_scv_dyn[1].var.value_counts('velocity_genes2')"
   ]
  },
  {
   "cell_type": "code",
   "execution_count": null,
   "id": "4540dadd-58c2-4155-9c4d-f0f41a694bea",
   "metadata": {},
   "outputs": [],
   "source": [
    "scv.tl.recover_dynamics(ef_scv_dyn[1], n_jobs=7, max_iter=20, use_raw=True, var_names = 'velocity_genes2')"
   ]
  },
  {
   "cell_type": "code",
   "execution_count": null,
   "id": "b2a1508e-8651-4199-b505-02c546962440",
   "metadata": {
    "jupyter": {
     "outputs_hidden": true
    },
    "tags": []
   },
   "outputs": [],
   "source": [
    "scv.tl.velocity(ef_scv_dyn[1], mode='stochastic', n_jobs=5, min_r2=0.2, perc = [20, 80], diff_kinetics=True, use_raw=True)"
   ]
  },
  {
   "cell_type": "code",
   "execution_count": null,
   "id": "fd0e6d7a-3f8c-4cb2-a871-6ac73ae9792c",
   "metadata": {
    "jupyter": {
     "outputs_hidden": true
    },
    "tags": []
   },
   "outputs": [],
   "source": [
    "scv.tl.velocity_graph(ef_scv_dyn[1])\n",
    "scv.pl.velocity_embedding_stream(ef_scv_dyn[1], basis='umap', projection=\"3d\", components='2,3', )"
   ]
  },
  {
   "cell_type": "code",
   "execution_count": null,
   "id": "7dae4f9b-ad87-4565-9360-69acbc3e8517",
   "metadata": {},
   "outputs": [],
   "source": [
    "## Creating a new column with the fine grained gametocyte labels and course asexual ones\n",
    "# for i, obj1 in enumerate(ef_scv_dyn[1]):\n",
    "#     obj1.obs['velocity_genes2'] = obj1.obs['velocity_genes']\n",
    "#     obj1.obs = obj1.obs.astype({\"velocity_genes2\": str}, errors='raise')\n",
    "#     obj1['velocity_genes2'].replace({True: False})\n",
    "#     a.loc[a['fit_diff_kinetics'].str.contains('early ring'), 'velocity_genes'].replace({True: False})\n",
    "    \n",
    "#     obj1.obs.loc[obj1.obs['stage_bfs'] == 'no assignment', 'stage_bfs'] = obj1.obs['Stage']\n",
    "#     obj1.obs.loc[obj1.obs['stage_bfs'] == 'Gametocytes (comitted)', 'stage_bfs'] = 'Gametocytes (committed)'\n",
    "#     obj1.obs['stage_bfs'] = obj1.obs['stage_bfs'].astype('category')\n",
    "#     if i == 0:\n",
    "#         obj1.obs.stage_bfs.cat.reorder_categories(['late ring', 'early trophozoite', 'Gametocytes (committed)', 'Gametocytes (developing)', 'Gametocytes (branching)', 'Gametocytes (early female)', 'Gametocytes (late female)', 'Gametocytes (early male)', 'Gametocytes (late male)', 'late trophozoite', 'early schizont'], inplace=True)\n",
    "    \n",
    "#     else:\n",
    "#         obj1.obs.stage_bfs.cat.reorder_categories(['late ring', 'early trophozoite', 'Gametocytes (committed)', 'Gametocytes (developing)', 'Gametocytes (branching)', 'Gametocytes (early female)', 'Gametocytes (late female)', 'Gametocytes (early male)', 'Gametocytes (late male)', 'late trophozoite', 'early schizont', 'late schizont', 'early ring'], inplace=True)\n"
   ]
  },
  {
   "cell_type": "code",
   "execution_count": null,
   "id": "18cde716-2a7b-4de8-8785-b7111c900802",
   "metadata": {},
   "outputs": [],
   "source": [
    "a=ef_scv_dyn[1].var.copy()"
   ]
  },
  {
   "cell_type": "code",
   "execution_count": null,
   "id": "ce4c35ba-b165-4399-a59b-2b4534e6b6e8",
   "metadata": {
    "tags": []
   },
   "outputs": [],
   "source": [
    "a.loc[a['fit_diff_kinetics'].str.contains('early ring'), ['fit_diff_kinetics', 'velocity_genes']]"
   ]
  },
  {
   "cell_type": "code",
   "execution_count": null,
   "id": "0057dabe-be5a-40ec-b655-5770d4d0c2a7",
   "metadata": {},
   "outputs": [],
   "source": [
    "a.loc[a['fit_diff_kinetics'].str.contains('early ring'), 'velocity_genes'].replace({True: False})"
   ]
  },
  {
   "cell_type": "code",
   "execution_count": null,
   "id": "2c38e200-a114-4cbe-b19c-9a260909456c",
   "metadata": {},
   "outputs": [],
   "source": [
    "cat.rename_categories({'Yes':1, 'No':0})"
   ]
  },
  {
   "cell_type": "code",
   "execution_count": null,
   "id": "9150a5f9-17ae-4c95-b6cc-1faef6cb841d",
   "metadata": {
    "jupyter": {
     "outputs_hidden": true
    },
    "tags": []
   },
   "outputs": [],
   "source": [
    "a.loc[a['fit_diff_kinetics'].str.contains('early ring'), ['fit_diff_kinetics', 'velocity_genes']] = 'False'"
   ]
  },
  {
   "cell_type": "code",
   "execution_count": null,
   "id": "b182d6a1-41a5-4661-bf07-fd437f137d56",
   "metadata": {},
   "outputs": [],
   "source": [
    "df['decision'].cat.rename_categories({'Yes':1, 'No':0})"
   ]
  },
  {
   "cell_type": "code",
   "execution_count": null,
   "id": "3362e9c9-2665-400b-a219-a6948472dad0",
   "metadata": {},
   "outputs": [],
   "source": [
    "a['velocity_genes1'] = pd.Categorical(a['velocity_genes'])"
   ]
  },
  {
   "cell_type": "code",
   "execution_count": null,
   "id": "e1dbba33-d6b9-4c03-bb5f-50c226ff107e",
   "metadata": {},
   "outputs": [],
   "source": [
    "a['velocity_genes1'].astype(int).replace({0: 1})"
   ]
  },
  {
   "cell_type": "code",
   "execution_count": null,
   "id": "bbd7c800-dd99-4108-a95c-c5deeea40b6e",
   "metadata": {},
   "outputs": [],
   "source": [
    "a['velocity_genes1'].replace({True: False})"
   ]
  },
  {
   "cell_type": "code",
   "execution_count": null,
   "id": "d0659e10-2d65-4ab8-a8b5-f8630e86df0b",
   "metadata": {},
   "outputs": [],
   "source": [
    "ef_[1]"
   ]
  },
  {
   "cell_type": "code",
   "execution_count": null,
   "id": "77ddc31b-61c8-44d8-87cd-064b9723e4ee",
   "metadata": {},
   "outputs": [],
   "source": [
    "ef_scv_dyn[1].var[['fit_pval_kinetics','fit_diff_kinetics']][ef_scv_dyn[1].var['fit_diff_kinetics'].str.contains('early ring')].index"
   ]
  },
  {
   "cell_type": "code",
   "execution_count": null,
   "id": "71b7e0a6-f335-4582-950b-2ff77cec5058",
   "metadata": {},
   "outputs": [],
   "source": [
    "ef_scv_dyn[1].var[['fit_diff_kinetics', 'fit_pval_kinetics']].dropna().sort_values(\"fit_pval_kinetics\")"
   ]
  },
  {
   "cell_type": "code",
   "execution_count": null,
   "id": "3a36e82a-00a2-4b24-b1b3-a165dddc4585",
   "metadata": {},
   "outputs": [],
   "source": [
    "ef_scv_dyn[1].var[['velocity_genes', 'fit_diff_kinetics']][ef_scv_dyn[1].var_names.isin(ef_scv_dyn[1].var[['fit_pval_kinetics','fit_diff_kinetics']][ef_scv_dyn[1].var['fit_diff_kinetics'].str.contains('early ring')].index)].value_counts('velocity_genes')"
   ]
  },
  {
   "cell_type": "code",
   "execution_count": null,
   "id": "68977ca7-ce5c-4fa3-8ee0-059b181837f1",
   "metadata": {},
   "outputs": [],
   "source": [
    "ef_scv_dyn[1].var[['velocity_genes', 'fit_diff_kinetics']][ef_scv_dyn[1].var_names.isin(ef_scv_dyn[1].var[['fit_pval_kinetics','fit_diff_kinetics']][ef_scv_dyn[1].var['fit_diff_kinetics'].str.contains('early ring')].index)].value_counts('velocity_genes')"
   ]
  },
  {
   "cell_type": "code",
   "execution_count": null,
   "id": "4cc459eb-f3da-495e-8787-8a83bf61be63",
   "metadata": {},
   "outputs": [],
   "source": [
    "ef_scv_dyn[1].var[['velocity_genes', 'fit_diff_kinetics']][ef_scv_dyn[1].var['fit_diff_kinetics'].str.contains('early ring')].value_counts('velocity_genes')"
   ]
  },
  {
   "cell_type": "code",
   "execution_count": null,
   "id": "7b70c0d6-d2ee-49c6-b0ff-5066d224fc38",
   "metadata": {},
   "outputs": [],
   "source": [
    "ef_scv_dyn[1].var[['velocity_genes', 'fit_diff_kinetics']][ef_scv_dyn[1].var['fit_pval_kinetics']<0.0000000001].value_counts('velocity_genes')"
   ]
  },
  {
   "cell_type": "code",
   "execution_count": null,
   "id": "f2e6302b-b812-44dc-b32a-60eec8b97c8b",
   "metadata": {},
   "outputs": [],
   "source": [
    "ef_scv_dyn[1].var.value_counts(['velocity_genes', 'fit_diff_kinetics'])"
   ]
  },
  {
   "cell_type": "code",
   "execution_count": null,
   "id": "f62d7d47-18de-442c-9107-348f2ea584a2",
   "metadata": {},
   "outputs": [],
   "source": [
    "scv.tl.velocity(ef_scv_dyn[1], mode='stochastic', n_jobs=5, min_r2=0.2, perc = [20, 80], diff_kinetics=True)"
   ]
  },
  {
   "cell_type": "markdown",
   "id": "5b9256e0-32d5-4e60-8ebd-f5e7af83c47b",
   "metadata": {
    "tags": []
   },
   "source": [
    "Estimates gene-specific velocities.\n",
    "\n",
    "3 methods (set by 'mode' argument) for estimating velocities (The deviation of a cell's ratio of unspliced to spliced counts for a specific gene to the steady state for the same gene estimated from cells at both extreme quantiles of expression in the instance of the steady-state model). A positive velocity value indicates upregulation of a gene in the cell and negative indicates the downregulation of the gene in the cell. Using a combination of velocities of all the genes in the cell and with the known trajectory/lifecycle of the dynamics of each gene, the near future state of the cell can be estimated.\n",
    "\n",
    "1. Steady-state/detemerministic - Old way which uses the cells at the extreme quantiles to fit a linear regression to estmate steady state equilibrium. This is therefore dependent on th observation of both steady state ends in the dataset. It is also influenced by differential transcriptional kinetics such as transcription boosts in some developmental stages or slow changes in transcription rate along developmental stages.\n",
    "2. Stochastic - similar to steady state but includes second order moments and exploits not only the balance of unspliced to spliced mRNA levels but also their covariation \n",
    "3. Dynamical - Solves/learns the full splicing kinetics from the data such as, transcription rate, degradation rate, steady state and latent time to calculate the velocity. Is able to estimate unobserved steady states and generalizes to transient systems.\n",
    "\n",
    "To use the dynamical model, the previous step (tl.recover_dynamics) has to be run to estimate relevant parameters. Raising an issue on github as not clear from documentation\n",
    "I'm not sure whether some of the arguments to this function detailed below are needed when using the dynamical model which we are using\n",
    "\n",
    " - min_r2 : float (default: 0.01) Minimum threshold for coefficient of determination\n",
    " - min_likelihood : float (default: None) Minimal likelihood for velocity genes to fit the model on.\n",
    " - r2_adjusted : bool (default: None) Whether to compute coefficient of determination on full data fit (adjusted) or extreme quantile fit (None) \n",
    " \n",
    "Other relevant arguments\n",
    " - use_highly_variable : bool (default: True)\n",
    " - groups : str, list (default: None) : Subset of groups, e.g. [‘g1’, ‘g2’, ‘g3’], to which velocity analysis shall be restricted.\n",
    " - use_raw : bool (default: False) : Whether to use raw data for estimation.\n",
    "\n",
    "Returns:\n",
    " - velocity (.layers) – velocity vectors for each individual cell\n",
    " - velocity_genes, velocity_beta, velocity_gamma, velocity_r2 (.var) – parameters (Some of these may only be generated by the old models and not scvelo dynamical model since they are estimated in the tl.recover_dynamics function above)\n"
   ]
  },
  {
   "cell_type": "code",
   "execution_count": null,
   "id": "049fce3c-215d-426f-badc-9a1fcef01845",
   "metadata": {
    "jupyter": {
     "outputs_hidden": true
    },
    "tags": []
   },
   "outputs": [],
   "source": [
    "# for obj1 in ef_scv_dyn:\n",
    "#     scv.tl.velocity(obj1, mode='stochastic', n_jobs=-1, min_r2=0.1, groupby='Stage', perc = [7.5, 92.5])\n",
    "#     scv.tl.velocity_graph(obj1)"
   ]
  },
  {
   "cell_type": "markdown",
   "id": "21e43b80-d30e-4bf8-a432-5269c023f8fb",
   "metadata": {
    "tags": []
   },
   "source": [
    "### Latent time"
   ]
  },
  {
   "cell_type": "markdown",
   "id": "c2414171-2752-4a64-8147-297b77e549d5",
   "metadata": {
    "tags": []
   },
   "source": [
    "The dynamical model recovers the latent time of the underlying cellular processes. This latent time represents the cell’s internal clock and approximates the real time experienced by cells as they differentiate, based only on its transcriptional dynamics."
   ]
  },
  {
   "cell_type": "code",
   "execution_count": null,
   "id": "d53d65a2-defa-422f-ba42-acc7911f6897",
   "metadata": {},
   "outputs": [],
   "source": [
    "# scv.tl.latent_time(ef_scv_dyn[7])\n",
    "# scv.pl.scatter(ef_scv_dyn[7], color='latent_time', color_map='gnuplot', size=80, components='2,3')"
   ]
  },
  {
   "cell_type": "code",
   "execution_count": null,
   "id": "3c12975a-a55c-4067-ad7a-80aaa1898033",
   "metadata": {
    "jupyter": {
     "outputs_hidden": true
    },
    "tags": []
   },
   "outputs": [],
   "source": [
    "# for obj in ef_scv_dyn:\n",
    "#     scv.tl.latent_time(obj)\n",
    "#     scv.pl.scatter(obj, color='latent_time', color_map='gnuplot', size=80, components='2,3')"
   ]
  },
  {
   "cell_type": "code",
   "execution_count": null,
   "id": "807e9da3-ebe3-4a97-b401-dedf48c225d3",
   "metadata": {},
   "outputs": [],
   "source": [
    "##Stochastic for comparison with dynamical"
   ]
  },
  {
   "cell_type": "markdown",
   "id": "bde259a1-770f-4801-bb7a-3766f9e34d47",
   "metadata": {
    "jp-MarkdownHeadingCollapsed": true,
    "tags": []
   },
   "source": [
    "### Differential Kinetic Test"
   ]
  },
  {
   "cell_type": "markdown",
   "id": "6c8d8fac-f712-4744-894d-36d40e8e74d9",
   "metadata": {},
   "source": [
    "Test to detect cell types / lineages with different kinetics.\n",
    "\n",
    "Likelihood ratio test for differential kinetics to detect clusters/lineages that display kinetic behavior that cannot be sufficiently explained by a single model for the overall dynamics. Each cell type is tested whether an independent fit yields a significantly improved likelihood."
   ]
  },
  {
   "cell_type": "code",
   "execution_count": null,
   "id": "ccc6df7c-ff8d-4ef2-a6c6-67e17b55ae43",
   "metadata": {
    "jupyter": {
     "outputs_hidden": true
    },
    "tags": []
   },
   "outputs": [],
   "source": [
    "# for obj in ef_qcd_bf1_scv:\n",
    "#     scv.tl.differential_kinetic_test(obj, groupby='Stage')"
   ]
  },
  {
   "cell_type": "code",
   "execution_count": null,
   "id": "4abdd851-4829-40d7-8c6c-04dc070cba9a",
   "metadata": {
    "tags": []
   },
   "outputs": [],
   "source": [
    "# for obj in ef_qcd_bf2_scv:\n",
    "#     scv.tl.differential_kinetic_test(obj, groupby='anno_300cells')"
   ]
  },
  {
   "cell_type": "code",
   "execution_count": null,
   "id": "81438d12-46c4-4170-a1aa-fdbe6ee7e402",
   "metadata": {},
   "outputs": [],
   "source": []
  },
  {
   "cell_type": "code",
   "execution_count": null,
   "id": "71714097-2516-4529-9733-76384f1736e6",
   "metadata": {
    "tags": []
   },
   "outputs": [],
   "source": [
    "for obj in ef_scv_dyn:\n",
    "    scv.tl.differential_kinetic_test(obj, groupby='Stage')"
   ]
  },
  {
   "cell_type": "markdown",
   "id": "511dab17-5832-49ec-81ab-609565c0bd44",
   "metadata": {},
   "source": [
    "#### rerun dynamical model accounting for differential kinetics"
   ]
  },
  {
   "cell_type": "code",
   "execution_count": null,
   "id": "44e31862-dee0-4e13-81bf-66df10ac65fa",
   "metadata": {},
   "outputs": [],
   "source": [
    "# # writeh5ad for bf1 and bf2 where I have first run the stochastic to get velocities followed by dynamical to get the differential velocities. Fewer genes taken into consideration. Can we use all genes for downstream?\n",
    "# for v3_day, obj in zip(v3_days_all_fnl, ef_scv_dyn):\n",
    "#     obj.write(\"data/processed/PfDB52e/\"+v3_day+\"/scv_b4_DiffKine_CR_stocha.h5ad\")"
   ]
  },
  {
   "cell_type": "code",
   "execution_count": null,
   "id": "a36809bf-da83-4967-b399-27fd6bcf00e3",
   "metadata": {},
   "outputs": [],
   "source": [
    "# writeh5ad for bf1 and bf2 where I have first run the stochastic to get velocities followed by dynamical to get the differential velocities. Fewer genes taken into consideration. Can we use all genes for downstream?\n",
    "for obj in ef_scv_dyn:\n",
    "    scv.tl.velocity(obj, diff_kinetics=True, mode='stochastic', perc = [7.5, 92.5], min_r2=0.1, n_jobs=-1)"
   ]
  },
  {
   "cell_type": "code",
   "execution_count": null,
   "id": "3b8bb595-a533-474e-8a3f-707e6d8cc303",
   "metadata": {
    "jupyter": {
     "outputs_hidden": true
    },
    "tags": []
   },
   "outputs": [],
   "source": [
    "## Visualize velocity streams after accounting for differential kinetics\n",
    "for obj in ef_scv_dyn:\n",
    "    scv.pl.velocity_embedding_stream(obj, basis='umap', projection=\"3d\", components='2,3')"
   ]
  },
  {
   "cell_type": "code",
   "execution_count": null,
   "id": "81a0dcc0-5eb8-45a4-888c-2979c7c20edc",
   "metadata": {},
   "outputs": [],
   "source": [
    "# # writeh5ad for bf1 where I have first run the stochastic to get velocities followed by dynamical to get the differential velocities. Fewer genes taken into consideration. Can we use all genes for downstream?\n",
    "# for v3_day, obj in zip(v3_days_all_fnl, ef_scv_dyn):\n",
    "#     obj.write(\"data/processed/PfDB52e/\"+v3_day+\"/scv_b4_CR_stocha.h5ad\")"
   ]
  },
  {
   "cell_type": "markdown",
   "id": "15a34ede-f5c9-487a-b7c1-a6f58cfb04a5",
   "metadata": {},
   "source": [
    "##### Reading in files to assess effect on accounting for differetial velocities on velocity of genes per cell. These are basically made zero"
   ]
  },
  {
   "cell_type": "code",
   "execution_count": null,
   "id": "98a89969-9810-4e5a-b10e-2b0afdf49d43",
   "metadata": {},
   "outputs": [],
   "source": [
    "ef_bf1_b4DKCR =[]\n",
    "for v3_day in v3_days_all_fnl:\n",
    "    ef_bf1_b4DKCR.append(scv.read(\"data/processed/PfDB52e/\"+v3_day+\"/scv_b4_DiffKine_CR_stocha.h5ad\"))"
   ]
  },
  {
   "cell_type": "code",
   "execution_count": null,
   "id": "70b254a8-68a7-421b-a660-f9eb5fac6371",
   "metadata": {},
   "outputs": [],
   "source": [
    "ef_bf1_b4CR =[]\n",
    "for v3_day in v3_days_all_fnl:\n",
    "    ef_bf1_b4CR_stocha.append(scv.read(\"data/processed/PfDB52e/\"+v3_day+\"/scv_b4_CR_stocha.h5ad\"))"
   ]
  },
  {
   "cell_type": "code",
   "execution_count": null,
   "id": "c5c24b4e-1d45-4b48-b2bd-aa201478ebf6",
   "metadata": {},
   "outputs": [],
   "source": [
    "ef_bf1_b4DKCR[1].layers['velocity']"
   ]
  },
  {
   "cell_type": "code",
   "execution_count": null,
   "id": "b6e95d7a-8c47-44ce-84a4-d59598717d1a",
   "metadata": {},
   "outputs": [],
   "source": [
    "ef_bf1_b4CR[1].layers['velocity']"
   ]
  },
  {
   "cell_type": "code",
   "execution_count": null,
   "id": "cbf01359-def7-4a90-b217-155f0140e305",
   "metadata": {},
   "outputs": [],
   "source": [
    "comparison = ef_bf1_b4DKCR[1].layers['velocity'] == ef_bf1_b4CR[1].layers['velocity']"
   ]
  },
  {
   "cell_type": "code",
   "execution_count": null,
   "id": "785ca143-0536-440e-831f-78224fbccfab",
   "metadata": {},
   "outputs": [],
   "source": [
    "comparison"
   ]
  },
  {
   "cell_type": "code",
   "execution_count": null,
   "id": "62fabe97-442a-4c07-935e-6495e1d15df4",
   "metadata": {
    "jupyter": {
     "outputs_hidden": true
    },
    "tags": []
   },
   "outputs": [],
   "source": [
    "for obj in ef_bf1_b4DKCR:\n",
    "    print(obj.var.value_counts('fit_diff_kinetics'))"
   ]
  },
  {
   "cell_type": "code",
   "execution_count": null,
   "id": "bc1d7437-8cb5-4928-914a-eecb87193d94",
   "metadata": {
    "jupyter": {
     "outputs_hidden": true
    },
    "tags": []
   },
   "outputs": [],
   "source": [
    "for obj in ef_bf1_b4CR:\n",
    "    print(obj.var.value_counts('fit_diff_kinetics'))"
   ]
  },
  {
   "cell_type": "code",
   "execution_count": null,
   "id": "3c641c8e-bccc-494c-accb-989c338efca1",
   "metadata": {
    "jupyter": {
     "outputs_hidden": true
    },
    "tags": []
   },
   "outputs": [],
   "source": [
    "for obj in ef_bf1_b4CR:\n",
    "    print(obj.var)"
   ]
  },
  {
   "cell_type": "code",
   "execution_count": null,
   "id": "9af5a5b6-2674-4f64-a02a-1774081cca0d",
   "metadata": {
    "jupyter": {
     "outputs_hidden": true
    },
    "tags": []
   },
   "outputs": [],
   "source": [
    "for obj_ndk, obj_dk in zip(ef_bf1_b4CR, ef_bf1_b4DKCR):\n",
    "    plotdf = sc.get.obs_df(\n",
    "        obj_ndk,\n",
    "        keys=obj_ndk.var[~obj_ndk.var.fit_pval_kinetics.isna()].index.tolist(),\n",
    "        layer='velocity'\n",
    "    )\n",
    "    plotdf1 = sc.get.obs_df(\n",
    "        obj_dk,\n",
    "        keys=obj_dk.var[~obj_dk.var.fit_pval_kinetics.isna()].index.tolist(),\n",
    "        layer='velocity'\n",
    "    )\n",
    "    print(plotdf.corrwith(plotdf1, axis=0))\n",
    "    df_dk = pd.merge(plotdf, plotdf1, left_index=True, right_index=True, suffixes=('_ndk','_dk'))\n",
    "    gns_dk = obj_dk.var[~obj_dk.var.fit_pval_kinetics.isna()].index.tolist()\n",
    "    scv.pl.scatter(obj_ndk, basis = gns_dk[:4], add_outline='fit_diff_kinetics',ncols=5, add_linfit=True)\n",
    "    # scv.pl.scatter(obj_dk, basis = gns_dk[:4], add_outline='fit_diff_kinetics',ncols=5, add_linfit=True)\n",
    "    # plt.subplot(1, 2, 1)\n",
    "    for gn in gns_dk[:4]:\n",
    "        df_dk.plot.scatter(gn+'_ndk',gn+'_dk')\n",
    "    # plt.subplot()\n",
    "    "
   ]
  },
  {
   "cell_type": "code",
   "execution_count": null,
   "id": "6abe4dae-4a91-4ff2-916b-420a38967367",
   "metadata": {},
   "outputs": [],
   "source": [
    "dict(zip(ef_bf1_b4CR[7].obs.value_counts('Stage').index.tolist(), sns.color_palette(\"colorblind\", 9, as_cmap=True)))"
   ]
  },
  {
   "cell_type": "code",
   "execution_count": null,
   "id": "7998321b-d561-4363-a884-932a96f8663b",
   "metadata": {
    "tags": []
   },
   "outputs": [],
   "source": [
    "cmap = dict(zip(ef_bf1_b4CR[7].obs.value_counts('Stage').index.tolist(), sns.color_palette(\"colorblind\", 9, as_cmap=True)))"
   ]
  },
  {
   "cell_type": "code",
   "execution_count": null,
   "id": "84b458c2-7bdf-4d2e-af98-fcdca30ab707",
   "metadata": {},
   "outputs": [],
   "source": [
    "ef_bf1_b4DKCR[1].var.fit_diff_kinetics"
   ]
  },
  {
   "cell_type": "code",
   "execution_count": null,
   "id": "4e6c436b-426e-47a7-b42b-210b165fc381",
   "metadata": {},
   "outputs": [],
   "source": [
    "ef_bf1_b4DKCR[1].var[~ef_bf1_b4DKCR[1].var.fit_pval_kinetics.isna()].fit_diff_kinetics.tolist()"
   ]
  },
  {
   "cell_type": "code",
   "execution_count": null,
   "id": "dc8f1f96-b588-468e-8ba2-78508597ab79",
   "metadata": {
    "jupyter": {
     "outputs_hidden": true
    },
    "tags": []
   },
   "outputs": [],
   "source": [
    "for obj_ndk, obj_dk in zip(ef_bf1_b4CR, ef_bf1_b4DKCR):\n",
    "    gns_ndk = obj_ndk.var[~obj_ndk.var.fit_pval_kinetics.isna()].index.tolist()\n",
    "    gns_ndk.append('Stage')\n",
    "    plotdf = sc.get.obs_df(\n",
    "        obj_ndk,\n",
    "        keys=gns_ndk,\n",
    "        layer='velocity'\n",
    "    )\n",
    "    # print(gns_ndk[:4])\n",
    "    gns_dk = obj_dk.var[~obj_dk.var.fit_pval_kinetics.isna()].index.tolist()\n",
    "    gns_dk.append('Stage')\n",
    "    plotdf1 = sc.get.obs_df(\n",
    "        obj_dk,\n",
    "        keys=gns_dk,\n",
    "        layer='velocity'\n",
    "    )\n",
    "    # print(plotdf.corrwith(plotdf1, axis=0))\n",
    "    df_dk = pd.merge(plotdf, plotdf1, left_index=True, right_index=True, suffixes=('_ndk','_dk'))\n",
    "    dk_stage = obj_ndk.var[~obj_ndk.var.fit_pval_kinetics.isna()].fit_diff_kinetics.tolist()\n",
    "    \n",
    "    fig, axs = plt.subplots(1, ncols=len(gns_ndk[:4]), figsize=(20,4))\n",
    "    gns_ndk.remove('Stage')\n",
    "    print(gns_ndk[:4])\n",
    "    for i, gn in enumerate(gns_ndk[:4]):\n",
    "        # print(df_dk.Stage)\n",
    "        df_dk.plot(x=gn+'_ndk',y=gn+'_dk', kind='scatter',c=[cmap.get(col, 'black') for col in df_dk.Stage_ndk], title=dk_stage[i], ax=axs[i])\n",
    "  \n",
    "    plt.show\n",
    "    "
   ]
  },
  {
   "cell_type": "code",
   "execution_count": null,
   "id": "a931c50b-6999-4b04-ac6a-5909e1acea9c",
   "metadata": {
    "jupyter": {
     "outputs_hidden": true
    },
    "tags": []
   },
   "outputs": [],
   "source": [
    "for obj_ndk, obj_dk in zip(ef_bf1_b4CR, ef_bf1_b4DKCR):\n",
    "    obs_tbl = pd.merge(obj_ndk.obs,obj_dk.obs, left_index=True, right_index=True, suffixes=('_ndk','_dk'))\n",
    "    obs_tbl.plot.scatter('velocity_self_transition_ndk', 'velocity_self_transition_dk')"
   ]
  },
  {
   "cell_type": "code",
   "execution_count": null,
   "id": "c096b3ad-36b9-418c-8ebe-1d0f099166ad",
   "metadata": {},
   "outputs": [],
   "source": [
    "scv.pl.scatter(ef_bf1_b4DKCR[1], basis = ef_bf1_b4CR[1].var[~ef_bf1_b4CR[1].var.fit_pval_kinetics.isna()].index.tolist()[:4], add_outline='fit_diff_kinetics',ncols=5, add_linfit=True)"
   ]
  },
  {
   "cell_type": "code",
   "execution_count": null,
   "id": "00aee4e0-6cc1-4b13-bfc0-57e34425da0a",
   "metadata": {
    "jupyter": {
     "outputs_hidden": true
    },
    "tags": []
   },
   "outputs": [],
   "source": [
    "plotdf.corrwith(plotdf1, axis=0)"
   ]
  },
  {
   "cell_type": "code",
   "execution_count": null,
   "id": "eb93dda3-9843-425b-bb4f-4485f3c051f4",
   "metadata": {},
   "outputs": [],
   "source": [
    "scv.pl.scatter(ef_bf1_b4DKCR[1], basis = ef_bf1_b4CR[1].var[~ef_bf1_b4CR[1].var.fit_pval_kinetics.isna()].index.tolist()[:4], add_outline='fit_diff_kinetics',ncols=5, add_linfit=True)"
   ]
  },
  {
   "cell_type": "code",
   "execution_count": null,
   "id": "c0c55e17-cf68-4462-bd90-5a5a65dfbb3c",
   "metadata": {},
   "outputs": [],
   "source": [
    "scv.pl.scatter(ef_bf1_b4CR[1], basis = ef_bf1_b4CR[1].var[~ef_bf1_b4CR[1].var.fit_pval_kinetics.isna()].index.tolist()[:4], add_outline='fit_diff_kinetics',ncols=5, add_linfit=True)"
   ]
  },
  {
   "cell_type": "code",
   "execution_count": null,
   "id": "5c8422e8-16df-4864-90a9-9934e0fcc1cf",
   "metadata": {},
   "outputs": [],
   "source": [
    "print(ef_bf1_b4CR[1].uns['velocity_graph'].todense)"
   ]
  },
  {
   "cell_type": "code",
   "execution_count": null,
   "id": "40a8985b-85c5-4763-98d5-8de94cda19a5",
   "metadata": {
    "tags": []
   },
   "outputs": [],
   "source": [
    "for obj in ef_scv_dyn:\n",
    "    scv.tl.latent_time(obj)\n",
    "    scv.pl.scatter(obj, color='latent_time', color_map='gnuplot', size=80, components='2,3')"
   ]
  },
  {
   "cell_type": "markdown",
   "id": "1c20302a-550f-47bf-8812-80930ffacf10",
   "metadata": {
    "tags": []
   },
   "source": [
    "### Cluster-specific top-likelihood genes\n",
    "\n",
    "Moreover, partial gene likelihoods can be computed for a each cluster of cells to enable cluster-specific identification of potential drivers."
   ]
  },
  {
   "cell_type": "code",
   "execution_count": null,
   "id": "b8bda2e3-0f6a-486e-bebd-43f54b5c19d7",
   "metadata": {},
   "outputs": [],
   "source": [
    "# scv.tl.rank_dynamical_genes(ef_scv_dyn[1], groupby='Stage')"
   ]
  },
  {
   "cell_type": "code",
   "execution_count": null,
   "id": "89631492-e3e9-4d61-a1c9-887bbbd97f3d",
   "metadata": {
    "jupyter": {
     "outputs_hidden": true
    },
    "tags": []
   },
   "outputs": [],
   "source": [
    "for obj in ef_scv_dyn:\n",
    "    scv.tl.rank_dynamical_genes(obj, groupby='Stage')"
   ]
  },
  {
   "cell_type": "code",
   "execution_count": null,
   "id": "81359f15-9397-4f7b-9887-3511d1a8a536",
   "metadata": {},
   "outputs": [],
   "source": [
    "# for obj in ef_qcd_bf2_scv:\n",
    "#     scv.tl.rank_dynamical_genes(obj, groupby='anno_300cells')"
   ]
  },
  {
   "cell_type": "markdown",
   "id": "0bffa614-9118-4b71-9de6-cbbc4601a54a",
   "metadata": {},
   "source": [
    "Saving files as pickle to avoid rerunning velocity determination as it is time consuming.\n",
    "Commented to ensure that the we don't overwrite with other things when reruning cells. DO NOT DELETE"
   ]
  },
  {
   "cell_type": "code",
   "execution_count": null,
   "id": "be8c70f9-197c-4e26-8c0a-e7fcc73a6570",
   "metadata": {},
   "outputs": [],
   "source": [
    "# pickle.dump( ef_scv_dyn[1], open( \"data/processed/PfDB52e/scv_all_bf1_b4CR_stocha.p\", \"wb\" ) )"
   ]
  },
  {
   "cell_type": "code",
   "execution_count": null,
   "id": "08e39760-6f88-4f94-8038-556b70684bfe",
   "metadata": {},
   "outputs": [],
   "source": [
    "for obj,v3_day in zip(ef_scv_dyn, v3_days_all_fnl):\n",
    "    pickle.dump( obj, open( \"data/processed/PfDB52e/\"+v3_day+\"/scv_bf1_b4CR_stocha.p\", \"wb\" ) )\n"
   ]
  },
  {
   "cell_type": "code",
   "execution_count": null,
   "id": "926ed7e6-c2c4-4b5f-b46a-e6ed5d014dca",
   "metadata": {},
   "outputs": [],
   "source": [
    "# for obj,v3_day in zip(ef_qcd_bf2_scv, v3_days_fnl):\n",
    "#     pickle.dump( obj, open( \"data/processed/PfDB52e/\"+v3_day+\"/scv_bf2_b4CR_stocha.p\", \"wb\" ) )"
   ]
  },
  {
   "cell_type": "code",
   "execution_count": null,
   "id": "58388a4f-8be3-4792-9bfb-49235a0f18bc",
   "metadata": {},
   "outputs": [],
   "source": [
    "# ef_scv_dyn[1].write(\"data/processed/PfDB52e/scv_all_bf1_b4CR_stocha.h5ad\")"
   ]
  },
  {
   "cell_type": "markdown",
   "id": "73d38924-5612-475f-8221-ee37854c4856",
   "metadata": {},
   "source": [
    "Writing out h5ad files for Veloviz visuals generation. Some formatting to remove NAs in var and obs columns as suggested here to solve errors cropping up when importing into seurat. DO NOT DELETE"
   ]
  },
  {
   "cell_type": "code",
   "execution_count": null,
   "id": "44ce8df1-5f25-44c3-b0ef-d95e21de304c",
   "metadata": {
    "tags": []
   },
   "outputs": [],
   "source": [
    "# writeh5ad for velovix\n",
    "for v3_day, obj in zip(v3_days_all_fnl, ef_scv_dyn):\n",
    "    # # obj.__dict__['_var'] = obj.__dict__['_raw'].__dict__['_var'].rename(columns={'_index': 'features'})\n",
    "    # # obj.__dict__['_var'].index.name = None\n",
    "    # # obj.__dict__['_var'].index.rename('features')\n",
    "    # # del obj.raw\n",
    "    # # obj.obs=obj.obs[['orig.ident', 'Stage']]\n",
    "    # # ef_qcd_bf2_scv[2].obs[['orig.ident', 'nCount_RNA', 'nFeature_RNA', 'seurat_clusters', 'Stage', 'anno_300cells', 'initial_size_spliced', 'initial_size_unspliced', 'initial_size', 'n_counts']]\n",
    "    # # obj.obs.drop(['pseudo_asex', 'pseudo_male', 'pseudo_female', 'rank2'], axis=1, inplace=True)\n",
    "    # obj11 = obj.copy()\n",
    "    # obj11.obs.drop('n_unspliced_by_unspliced', axis=1, inplace=True)\n",
    "    # obj11.__dict__['_var'].index.name = None\n",
    "    # for col in obj11.obs.columns:\n",
    "    #     if pd.api.types.is_categorical_dtype(obj11.obs[col]):\n",
    "    #         obj11.obs[col]=obj11.obs[col].cat.add_categories(\"selfdefinedNA\").fillna('selfdefinedNA')\n",
    "    # for col in obj11.var.columns:\n",
    "    #     if pd.api.types.is_categorical_dtype(obj11.var[col]):\n",
    "    #         obj11.var[col]=obj11.var[col].cat.add_categories(\"selfdefinedNA\").fillna('selfdefinedNA')\n",
    "    obj.write(\"data/processed/PfDB52e/\"+v3_day+\"/scv_bf1_b4CR_stocha.h5ad\")"
   ]
  },
  {
   "cell_type": "code",
   "execution_count": null,
   "id": "2d0cc0af-e902-4c08-a33d-87c9d28894c6",
   "metadata": {},
   "outputs": [],
   "source": [
    "# # writeh5ad for velovix\n",
    "# for v3_day, obj in zip(v3_days_fnl, ef_qcd_bf2_scv):\n",
    "#     # # obj.__dict__['_var'] = obj.__dict__['_raw'].__dict__['_var'].rename(columns={'_index': 'features'})\n",
    "#     # # obj.__dict__['_var'].index.name = None\n",
    "#     # # obj.__dict__['_var'].index.rename('features')\n",
    "#     # # del obj.raw\n",
    "#     # # obj.obs=obj.obs[['orig.ident', 'Stage']]\n",
    "#     # # ef_qcd_bf2_scv[2].obs[['orig.ident', 'nCount_RNA', 'nFeature_RNA', 'seurat_clusters', 'Stage', 'anno_300cells', 'initial_size_spliced', 'initial_size_unspliced', 'initial_size', 'n_counts']]\n",
    "#     # # obj.obs.drop(['pseudo_asex', 'pseudo_male', 'pseudo_female', 'rank2'], axis=1, inplace=True)\n",
    "#     obj22 = obj.copy()\n",
    "#     # obj22.__dict__['_var'].index.name = None\n",
    "#     # for col in obj22.obs.columns:\n",
    "#     #     if pd.api.types.is_categorical_dtype(obj22.obs[col]):\n",
    "#     #         obj22.obs[col]=obj22.obs[col].cat.add_categories(\"selfdefinedNA\").fillna('selfdefinedNA')\n",
    "#     # for col in obj22.var.columns:\n",
    "#     #     if pd.api.types.is_categorical_dtype(obj22.var[col]):\n",
    "#     #         obj22.var[col]=obj22.var[col].cat.add_categories(\"selfdefinedNA\").fillna('selfdefinedNA')\n",
    "#     obj22.write(\"data/processed/PfDB52e/\"+v3_day+\"/scv_bf2_b4CR_stocha.h5ad\")\n",
    "        "
   ]
  },
  {
   "cell_type": "code",
   "execution_count": null,
   "id": "09288033-0c5b-4f8b-a78f-604201bc1bec",
   "metadata": {},
   "outputs": [],
   "source": [
    "v3_days_fnl"
   ]
  },
  {
   "cell_type": "code",
   "execution_count": null,
   "id": "fc1dc680-8fee-4360-9319-384d40821120",
   "metadata": {},
   "outputs": [],
   "source": [
    "# # Load the dictionary back from the pickle file.\n",
    "ef_scv_dyn_b4CR_loaded=[]\n",
    "for v3_day in v3_days_all_fnl:\n",
    "    x = pickle.load(open( \"data/processed/PfDB52e/\"+v3_day+\"/scv_bf1_b4CR_stocha.p\", \"rb\" ) )\n",
    "    ef_scv_dyn_b4CR_loaded.append(x)\n"
   ]
  },
  {
   "cell_type": "code",
   "execution_count": null,
   "id": "9f6bd906-5ecd-4a38-abb0-b958fcfcee19",
   "metadata": {},
   "outputs": [],
   "source": [
    "# # # Load the dictionary back from the pickle file.\n",
    "# ef_qcd_bf2_scv_b4CR_loaded=[]\n",
    "# for v3_day in v3_days_fnl:\n",
    "#     x = pickle.load(open( \"data/processed/PfDB52e/\"+v3_day+\"/scv_bf2_b4CR_stocha.p\", \"rb\" ) )\n",
    "#     ef_qcd_bf2_scv_b4CR_loaded.append(x)"
   ]
  },
  {
   "cell_type": "code",
   "execution_count": null,
   "id": "f8f7caf0-66f4-4667-a8f9-c6835d0f4663",
   "metadata": {
    "tags": []
   },
   "outputs": [],
   "source": [
    "# ef_qcd_bf2_scv_b4CR_loaded[1].obs.columns"
   ]
  },
  {
   "cell_type": "code",
   "execution_count": null,
   "id": "fc798f37-f0a1-4a25-9a0a-536c1d29cbd7",
   "metadata": {},
   "outputs": [],
   "source": [
    "# ef_qcd_bf1_d5_scv.__dict__['_raw'].__dict__['_var'] = ef_qcd_bf1_d5_scv.__dict__['_raw'].__dict__['_var'].rename(columns={'_index': 'features'})\n",
    "# ef_qcd_bf1_d5_scv.write('processed_data + '../../RoadtoUMAP/ef_qcd_bf1_d5_scv_dynavelo_lbl.h5ad', compression='gzip')"
   ]
  },
  {
   "cell_type": "code",
   "execution_count": null,
   "id": "302c9600-afa5-4311-9cee-155ebbdf380a",
   "metadata": {
    "tags": []
   },
   "outputs": [],
   "source": [
    "# ef_scv_dyn_b4CR_loaded[1].write_h5ad('ef_scv_dyn_b4CR_loaded_1.h5ad')"
   ]
  },
  {
   "cell_type": "code",
   "execution_count": null,
   "id": "30853150-3988-42fd-b33c-e13cb24c9a6a",
   "metadata": {},
   "outputs": [],
   "source": [
    "# ef_scv_dyn = ef_scv_dyn_b4CR_loaded.copy()"
   ]
  },
  {
   "cell_type": "code",
   "execution_count": null,
   "id": "f2286225-ae7e-47de-b6a4-c60dc83a53e1",
   "metadata": {},
   "outputs": [],
   "source": [
    "# ef_qcd_bf2_scv = ef_qcd_bf2_scv_b4CR_loaded.copy()"
   ]
  },
  {
   "cell_type": "code",
   "execution_count": null,
   "id": "71dc34b8-0713-4bfd-8a87-553b5d273fcc",
   "metadata": {},
   "outputs": [],
   "source": [
    "# scv.pl.scatter(x=ef_qcd_bf2_scv[1].var.fit_steady_u, y=ef_qcd_bf2_scv[2].var.fit_steady_u)"
   ]
  },
  {
   "cell_type": "code",
   "execution_count": null,
   "id": "92106b07-53a5-4753-8720-2b6e7e086676",
   "metadata": {
    "jupyter": {
     "outputs_hidden": true
    },
    "tags": []
   },
   "outputs": [],
   "source": [
    "ef_scv_dyn"
   ]
  },
  {
   "cell_type": "code",
   "execution_count": null,
   "id": "06104e80-2b7d-4683-9328-3fd2e7b2434e",
   "metadata": {
    "tags": []
   },
   "outputs": [],
   "source": [
    "for obj in ef_scv_dyn:\n",
    "    sc.pl.scatter(obj, x= 'fit_beta', y='fit_gamma')"
   ]
  },
  {
   "cell_type": "code",
   "execution_count": null,
   "id": "75eaa1f4-3197-4aea-83f4-2bed85945ee7",
   "metadata": {
    "jupyter": {
     "outputs_hidden": true
    },
    "tags": []
   },
   "outputs": [],
   "source": [
    "# for obj in ef_qcd_bf2_scv:\n",
    "#     sc.pl.scatter(obj, x= 'fit_alpha', y='fit_likelihood')"
   ]
  },
  {
   "cell_type": "code",
   "execution_count": null,
   "id": "352b7826-d9e8-49fb-aacb-99d789771685",
   "metadata": {},
   "outputs": [],
   "source": [
    "pd.merge(pd.DataFrame(ef_scv_dyn[1].var.fit_steady_u), pd.DataFrame(ef_scv_dyn[2].var.fit_steady_u), left_index=True, right_index=True).plot.scatter(x='fit_steady_u_x', y='fit_steady_u_y')"
   ]
  },
  {
   "cell_type": "code",
   "execution_count": null,
   "id": "da856c81-129e-4cbe-bc0e-b49a1f148b95",
   "metadata": {},
   "outputs": [],
   "source": [
    "sc.pl.umap(ef_scv_dyn[1], components='2,3', color='Stage')"
   ]
  },
  {
   "cell_type": "markdown",
   "id": "5d57fa84-ec7d-4faf-920a-9626803ba00d",
   "metadata": {
    "tags": []
   },
   "source": [
    "### Kinetic rate paramters\n",
    "\n",
    "The rates of RNA transcription, splicing and degradation are estimated without the need of any experimental data.\n",
    "\n",
    "They can be useful to better understand the cell identity and phenotypic heterogeneity."
   ]
  },
  {
   "cell_type": "code",
   "execution_count": null,
   "id": "27c79e98-cf3f-4a05-8760-fd5b41fb353a",
   "metadata": {
    "tags": []
   },
   "outputs": [],
   "source": [
    "for obj in ef_scv_dyn:\n",
    "    \n",
    "    df = obj.var\n",
    "    df = df[(df['fit_likelihood'] > .1) & df['velocity_genes'] == True]\n",
    "\n",
    "    kwargs = dict(xscale='log', fontsize=16)\n",
    "    with scv.GridSpec(ncols=3) as pl:\n",
    "        pl.hist(df['fit_alpha'], xlabel='transcription rate', **kwargs)\n",
    "        pl.hist(df['fit_beta'] * df['fit_scaling'], xlabel='splicing rate', xticks=[.1, .4, 1], **kwargs)\n",
    "        pl.hist(df['fit_gamma'], xlabel='degradation rate', xticks=[.1, .4, 1], **kwargs)\n",
    "\n",
    "    # scv.get_df(obj, 'fit*', dropna=True).head()\n",
    "\n"
   ]
  },
  {
   "cell_type": "code",
   "execution_count": null,
   "id": "19326ca4-8c35-4478-9a88-7351e5b75d39",
   "metadata": {
    "jupyter": {
     "outputs_hidden": true
    },
    "tags": []
   },
   "outputs": [],
   "source": [
    "# for obj in ef_qcd_bf2_scv:\n",
    "    \n",
    "#     df = obj.var\n",
    "#     df = df[(df['fit_likelihood'] > .1) & df['velocity_genes'] == True]\n",
    "\n",
    "#     kwargs = dict(xscale='log', fontsize=16)\n",
    "#     with scv.GridSpec(ncols=3) as pl:\n",
    "#         pl.hist(df['fit_alpha'], xlabel='transcription rate', **kwargs)\n",
    "#         pl.hist(df['fit_beta'] * df['fit_scaling'], xlabel='splicing rate', xticks=[.1, .4, 1], **kwargs)\n",
    "#         pl.hist(df['fit_gamma'], xlabel='degradation rate', xticks=[.1, .4, 1], **kwargs)\n",
    "\n",
    "#     # print(scv.get_df(obj, 'fit*', dropna=True).head())\n",
    "\n"
   ]
  },
  {
   "cell_type": "markdown",
   "id": "02c5a244-4c47-47d9-a5e0-00ff818d1ece",
   "metadata": {},
   "source": [
    "The estimated gene-specific parameters comprise rates of transription (fit_alpha), splicing (fit_beta), degradation (fit_gamma), switching time point (fit_t_), a scaling parameter to adjust for under-represented unspliced reads (fit_scaling), standard deviation of unspliced and spliced reads (fit_std_u, fit_std_s), the gene likelihood (fit_likelihood), inferred steady-state levels (fit_steady_u, fit_steady_s) with their corresponding p-values (fit_pval_steady_u, fit_pval_steady_s), the overall model variance (fit_variance), and a scaling factor to align the gene-wise latent times to a universal, gene-shared latent time (fit_alignment_scaling)."
   ]
  },
  {
   "cell_type": "code",
   "execution_count": null,
   "id": "63b2a97e-34b2-48f2-ad50-f481a5e4f955",
   "metadata": {},
   "outputs": [],
   "source": [
    "# scv.pl.heatmap(ef_scv_dyn[1], var_names=top_genes, sortby='latent_time', col_color='Stage', n_convolve=100)"
   ]
  },
  {
   "cell_type": "code",
   "execution_count": null,
   "id": "f9724e07-9325-4736-8abe-2c4ba65a63c2",
   "metadata": {
    "jupyter": {
     "outputs_hidden": true
    },
    "tags": []
   },
   "outputs": [],
   "source": [
    "for obj in ef_scv_dyn:\n",
    "    top_genes = obj.var['fit_likelihood'].sort_values(ascending=False).index[:100]\n",
    "    scv.pl.heatmap(obj, var_names=top_genes, sortby='latent_time', col_color='anno_300cells', n_convolve=100)"
   ]
  },
  {
   "cell_type": "code",
   "execution_count": null,
   "id": "8d79e389-f33d-4b3e-a141-eadf1074f251",
   "metadata": {
    "tags": []
   },
   "outputs": [],
   "source": [
    "# for obj in ef_qcd_bf2_scv:\n",
    "#     top_genes = obj.var['fit_likelihood'].sort_values(ascending=False).index[:100]\n",
    "#     scv.pl.heatmap(obj, var_names=top_genes, sortby='latent_time', col_color='anno_300cells', n_convolve=100)"
   ]
  },
  {
   "cell_type": "markdown",
   "id": "37f12584-ee2f-4bb9-bc67-238c2463a2cb",
   "metadata": {},
   "source": [
    "### Top-likelihood genes\n",
    "\n",
    "Driver genes display pronounced dynamic behavior and are systematically detected via their characterization by high likelihoods in the dynamic model."
   ]
  },
  {
   "cell_type": "code",
   "execution_count": null,
   "id": "59edf952-53e2-4201-8bf0-aa4ca726b67d",
   "metadata": {},
   "outputs": [],
   "source": [
    "# kwargs = dict(size=10, linewidth=1.5, add_outline='Female')\n",
    "# top_genes = ef_scv_dyn[1].var['fit_likelihood'].sort_values(ascending=False).index\n",
    "# scv.pl.scatter(ef_scv_dyn[1], basis=top_genes[:20], ncols=5, frameon=False, outline_width=(.8, .2), color = \"Stage\", **kwargs)"
   ]
  },
  {
   "cell_type": "code",
   "execution_count": null,
   "id": "3d162811-33ae-4f6c-98a2-42555e742bdd",
   "metadata": {
    "jupyter": {
     "outputs_hidden": true
    },
    "tags": []
   },
   "outputs": [],
   "source": [
    "for obj in ef_scv_dyn:\n",
    "    kwargs = dict(size=10, linewidth=1.5, add_outline='Female')\n",
    "    top_genes = obj.var['fit_likelihood'].sort_values(ascending=False).index\n",
    "    scv.pl.scatter(obj, basis=top_genes[:5], ncols=5, frameon=False, outline_width=(.8, .2), color = \"Stage\", **kwargs)"
   ]
  },
  {
   "cell_type": "code",
   "execution_count": null,
   "id": "832c04b3-f3bd-41b8-9df9-1807b7865889",
   "metadata": {
    "jupyter": {
     "outputs_hidden": true
    },
    "tags": []
   },
   "outputs": [],
   "source": [
    "for obj in ef_qcd_bf2_scv:\n",
    "    kwargs = dict(size=10, linewidth=1.5, add_outline='Female')\n",
    "    top_genes = obj.var['fit_likelihood'].sort_values(ascending=False).index\n",
    "    scv.pl.scatter(obj, basis=top_genes[:5], ncols=5, frameon=False, outline_width=(.8, .2), color = \"Stage\", **kwargs)"
   ]
  },
  {
   "cell_type": "markdown",
   "id": "26e87194-45a9-4d42-8b35-10333c529d7e",
   "metadata": {
    "tags": []
   },
   "source": [
    "### Cluster-specific top-likelihood genes\n",
    "\n",
    "Moreover, partial gene likelihoods can be computed for a each cluster of cells to enable cluster-specific identification of potential drivers."
   ]
  },
  {
   "cell_type": "code",
   "execution_count": null,
   "id": "72ea7a71-f5d3-4bb1-bede-6d865f3e7cf4",
   "metadata": {
    "jupyter": {
     "outputs_hidden": true
    },
    "tags": []
   },
   "outputs": [],
   "source": [
    "plt.rcParams[\"figure.figsize\"] = (16, 8)\n",
    "for obj in ef_qcd_bf2_scv:\n",
    "    df = scv.get_df(obj, 'rank_dynamical_genes/names')\n",
    "    # print(df.head(5))\n",
    "    for cluster in ['Gametocytes (developing)', 'Gametocytes (branching)']:\n",
    "        scv.pl.scatter(obj, df[cluster][:5], ylabel=cluster, frameon=False, color= 'Stage', add_outline=cluster)\n",
    "\n",
    "# plt.rcParams[\"figure.figsize\"] = (16, 3)"
   ]
  },
  {
   "cell_type": "code",
   "execution_count": null,
   "id": "8722a376-046e-4d27-9afd-2fba4739deae",
   "metadata": {},
   "outputs": [],
   "source": [
    "for obj in ef_qcd_bf2_scv[0:1]:\n",
    "    df = scv.get_df(obj, 'rank_dynamical_genes/names')\n",
    "    # print(df.head(5))\n",
    "    for cluster in ['Gametocytes (developing)', 'Gametocytes (branching)']:\n",
    "        scv.pl.scatter(obj, df[cluster][:5], ylabel=cluster, frameon=False, color= 'Stage', add_outline=cluster)\n"
   ]
  },
  {
   "cell_type": "code",
   "execution_count": null,
   "id": "00a1c2f6-be8f-4648-b020-af01162e61dd",
   "metadata": {},
   "outputs": [],
   "source": [
    "# scv.get_df(ef_qcd_bf2_scv[4], 'rank_dynamical_genes/names')"
   ]
  },
  {
   "cell_type": "code",
   "execution_count": null,
   "id": "c44236c5-ec77-4e9b-9f2e-d75b7602e45e",
   "metadata": {},
   "outputs": [],
   "source": [
    "ef_scv_dyn[6].obs.value_counts('Stage')"
   ]
  },
  {
   "cell_type": "code",
   "execution_count": null,
   "id": "d9ae64c4-9f2a-40aa-b550-09af3ec5b5ad",
   "metadata": {},
   "outputs": [],
   "source": [
    "plt.rcParams[\"figure.figsize\"] = (25, 5)\n",
    "df = scv.get_df(ef_qcd_bf1_scv[7], 'rank_dynamical_genes/names')\n",
    "# print(df.head(5))\n",
    "for cluster in ['gametocyte (developing)', 'gametocyte (male)', 'gametocyte (female)']:\n",
    "        # scv.pl.scatter(ef_qcd_bf2_scv[4], df[cluster][:5], ylabel=cluster, frameon=False, color= 'Stage', add_outline=cluster)\n",
    "        \n",
    "        kwargs = dict(frameon=False,size=40, linewidth=1.5, add_outline=cluster, color= 'Stage', fontsize = 25, legend_fontsize = 25)\n",
    "        fig, ax = plt.subplots(ncols=5)\n",
    "\n",
    "        for j  in range(0,5):\n",
    "            if j == 0:\n",
    "                scv.pl.scatter(ef_qcd_bf1_scv[7], df[cluster][j], ylabel=cluster, ax=ax[j], size=40, linewidth=1.5, fontsize = 25, legend_fontsize = 25, add_outline=cluster, color= 'Stage',show=False)\n",
    "                plt.setp(ax[j].spines.values(), visible=False)\n",
    "                ax[j].get_legend().remove()\n",
    "                ax[j].xaxis.set_visible(False)\n",
    "                ax[j].tick_params(left=False, labelleft=False, right=False)\n",
    "            elif j in range(1,4):\n",
    "                scv.pl.scatter(ef_qcd_bf1_scv[7], df[cluster][j], ax=ax[j], **kwargs,show=False)\n",
    "                ax[j].get_legend().remove()\n",
    "            else:\n",
    "                scv.pl.scatter(ef_qcd_bf1_scv[7], df[cluster][j], legend_loc='right', ax=ax[j], **kwargs)\n",
    "\n",
    "plt.rcParams[\"figure.figsize\"] = (16, 5)"
   ]
  },
  {
   "cell_type": "code",
   "execution_count": null,
   "id": "bbd38857-dd30-4778-ba30-d47286b21ff7",
   "metadata": {
    "tags": []
   },
   "outputs": [],
   "source": [
    "plt.rcParams[\"figure.figsize\"] = (25, 5)\n",
    "df = scv.get_df(ef_qcd_bf2_scv[4], 'rank_dynamical_genes/names')\n",
    "# print(df.head(5))\n",
    "for cluster in ['Gametocytes (committed)', 'Gametocytes (developing)', 'Gametocytes (branching)', 'Gametocytes (late female)', 'Gametocytes (late male)']:\n",
    "        # scv.pl.scatter(ef_qcd_bf2_scv[4], df[cluster][:5], ylabel=cluster, frameon=False, color= 'Stage', add_outline=cluster)\n",
    "        \n",
    "        kwargs = dict(frameon=False,size=40, linewidth=1.5, add_outline=cluster, color= 'anno_300cells', fontsize = 25, legend_fontsize = 25)\n",
    "        fig, ax = plt.subplots(ncols=5)\n",
    "\n",
    "        for j  in range(0,5):\n",
    "            if j == 0:\n",
    "                scv.pl.scatter(ef_qcd_bf2_scv[4], df[cluster][j], ylabel=cluster, ax=ax[j], size=40, linewidth=1.5, fontsize = 25, legend_fontsize = 25, add_outline=cluster, color= 'anno_300cells',show=False)\n",
    "                plt.setp(ax[j].spines.values(), visible=False)\n",
    "                ax[j].get_legend().remove()\n",
    "                ax[j].xaxis.set_visible(False)\n",
    "                ax[j].tick_params(left=False, labelleft=False, right=False)\n",
    "            elif j in range(1,4):\n",
    "                scv.pl.scatter(ef_qcd_bf2_scv[4], df[cluster][j], ax=ax[j], **kwargs,show=False)\n",
    "                ax[j].get_legend().remove()\n",
    "            else:\n",
    "                scv.pl.scatter(ef_qcd_bf2_scv[4], df[cluster][j], legend_loc='right', ax=ax[j], **kwargs)\n",
    "\n",
    "plt.rcParams[\"figure.figsize\"] = (16, 5)"
   ]
  },
  {
   "cell_type": "code",
   "execution_count": null,
   "id": "a63011a8-0d0f-4296-ba08-5051636c2c96",
   "metadata": {},
   "outputs": [],
   "source": [
    "# list(set(ef_qcd_bf2_scv[4].obs.Stage))"
   ]
  },
  {
   "cell_type": "code",
   "execution_count": null,
   "id": "ee9c0245-f6c4-4711-810a-2ef720b97fdd",
   "metadata": {
    "tags": []
   },
   "outputs": [],
   "source": [
    "plt.rcParams[\"figure.figsize\"] = (25, 5)\n",
    "df = scv.get_df(ef_qcd_bf2_scv[4], 'rank_dynamical_genes/names')\n",
    "# print(df.head(5))\n",
    "for cluster in list(set(ef_qcd_bf2_scv[4].obs.Stage)):\n",
    "        # scv.pl.scatter(ef_qcd_bf2_scv[4], df[cluster][:5], ylabel=cluster, frameon=False, color= 'Stage', add_outline=cluster)\n",
    "        \n",
    "        kwargs = dict(frameon=False,size=40, linewidth=1.5, color= 'Stage', fontsize = 25, legend_fontsize = 25)\n",
    "        fig, ax = plt.subplots(ncols=5)\n",
    "\n",
    "        for j  in range(0,5):\n",
    "            if j == 0:\n",
    "                scv.pl.scatter(ef_qcd_bf2_scv[4], df[cluster][j], ylabel=cluster, ax=ax[j], size=40, linewidth=1.5, fontsize = 25, legend_fontsize = 25, color= 'Stage',show=False)\n",
    "                plt.setp(ax[j].spines.values(), visible=False)\n",
    "                ax[j].get_legend().remove()\n",
    "                ax[j].xaxis.set_visible(False)\n",
    "                ax[j].tick_params(left=False, labelleft=False, right=False)\n",
    "            elif j in range(1,4):\n",
    "                scv.pl.scatter(ef_qcd_bf2_scv[4], df[cluster][j], ax=ax[j], **kwargs,show=False)\n",
    "                ax[j].get_legend().remove()\n",
    "            else:\n",
    "                scv.pl.scatter(ef_qcd_bf2_scv[4], df[cluster][j], legend_loc='right', ax=ax[j], **kwargs)\n",
    "\n",
    "plt.rcParams[\"figure.figsize\"] = (16, 5)"
   ]
  },
  {
   "cell_type": "code",
   "execution_count": null,
   "id": "09fa3785-0833-406a-bf90-d101b1578367",
   "metadata": {},
   "outputs": [],
   "source": []
  },
  {
   "cell_type": "markdown",
   "id": "2f206bc5-45cc-4f9f-9c1a-9881b9d482f1",
   "metadata": {},
   "source": [
    "### Differential Kinetic Test Visualization"
   ]
  },
  {
   "cell_type": "markdown",
   "id": "9e17b355-6b4b-4f65-a81d-930a9334a5b9",
   "metadata": {},
   "source": [
    "Test to detect cell types / lineages with different kinetics.\n",
    "\n",
    "Likelihood ratio test for differential kinetics to detect clusters/lineages that display kinetic behavior that cannot be sufficiently explained by a single model for the overall dynamics. Each cell type is tested whether an independent fit yields a significantly improved likelihood."
   ]
  },
  {
   "cell_type": "code",
   "execution_count": null,
   "id": "76632caf-c843-4f94-be45-2018f6cbce6b",
   "metadata": {},
   "outputs": [],
   "source": [
    "ef_qcd_bf2_scv[1].var[['fit_diff_kinetics', 'fit_pval_kinetics','Chromosome']].dropna().sort_values(\"fit_pval_kinetics\").iloc[:5,]"
   ]
  },
  {
   "cell_type": "code",
   "execution_count": null,
   "id": "d8cc7fac-1d34-4f91-9ad1-cd7af66d0246",
   "metadata": {},
   "outputs": [],
   "source": [
    "ef_qcd_bf2_scv[1]"
   ]
  },
  {
   "cell_type": "markdown",
   "id": "cddf621d-3885-41c6-9667-7a0e5e3c9842",
   "metadata": {},
   "source": [
    "Upset plot for female"
   ]
  },
  {
   "cell_type": "markdown",
   "id": "4106bb49-5432-4a1b-9097-1e44b036f615",
   "metadata": {},
   "source": [
    "Upset plots to assess driver genes in branching gams that is shared between day10 new and day 10 old datasets and the 2 datasets combined using retaining only genes positively correlated to absorption probabilities towards terminal males where P < 0.001 as qvalue is NA. bug in scvelo https://github.com/theislab/cellrank/issues/819"
   ]
  },
  {
   "cell_type": "code",
   "execution_count": null,
   "id": "ee352f8e-5a38-4892-8bc9-dbe20c768211",
   "metadata": {},
   "outputs": [],
   "source": [
    "varkine_gns=[]\n",
    "for dg in ef_qcd_bf1_scv:\n",
    "        # sig_gns = set(scv.get_df(dg,  ['fit_diff_kinetics', 'fit_pval_kinetics'], precision=2).dropna().sort_values(\"fit_pval_kinetics\").index.to_list())\n",
    "        sig_gns = set(dg.var[['fit_diff_kinetics', 'fit_pval_kinetics','Chromosome']].dropna().sort_values(\"fit_pval_kinetics\").index.to_list())\n",
    "        varkine_gns.append(sig_gns)"
   ]
  },
  {
   "cell_type": "code",
   "execution_count": null,
   "id": "34be416b-676a-4368-a538-459ca819d815",
   "metadata": {},
   "outputs": [],
   "source": [
    "set_names= v3_days\n"
   ]
  },
  {
   "cell_type": "code",
   "execution_count": null,
   "id": "7c0726c8-84c3-43b6-bb6e-64cea7eb0b72",
   "metadata": {},
   "outputs": [],
   "source": [
    "all_elems = list(set().union(*varkine_gns))\n",
    "\n",
    "df = pd.DataFrame([[e in st for st in varkine_gns] for e in all_elems], columns = set_names)\n",
    "\n",
    "df_up = df.groupby(set_names).size()"
   ]
  },
  {
   "cell_type": "code",
   "execution_count": null,
   "id": "ae445d9c-c082-4c61-baee-950e6ec09a70",
   "metadata": {},
   "outputs": [],
   "source": [
    "plot(df_up, orientation='horizontal')"
   ]
  },
  {
   "cell_type": "code",
   "execution_count": null,
   "id": "61e1bd2b-bf67-41c6-8c77-7ed5b0ff40a2",
   "metadata": {},
   "outputs": [],
   "source": [
    "varkine_gns=[]\n",
    "for dg in ef_qcd_bf2_scv:\n",
    "        # sig_gns = set(scv.get_df(dg,  ['fit_diff_kinetics', 'fit_pval_kinetics'], precision=2).dropna().sort_values(\"fit_pval_kinetics\").index.to_list())\n",
    "        sig_gns = set(dg.var[['fit_diff_kinetics', 'fit_pval_kinetics','Chromosome']].dropna().sort_values(\"fit_pval_kinetics\").index.to_list())\n",
    "        varkine_gns.append(sig_gns)"
   ]
  },
  {
   "cell_type": "code",
   "execution_count": null,
   "id": "523c831d-a8c0-43e3-915b-1158a574c087",
   "metadata": {},
   "outputs": [],
   "source": [
    "v3_days_fnl"
   ]
  },
  {
   "cell_type": "code",
   "execution_count": null,
   "id": "946b802f-698e-4bf6-bb2f-a9de6f14cad0",
   "metadata": {},
   "outputs": [],
   "source": [
    "set_names= v3_days_fnl\n"
   ]
  },
  {
   "cell_type": "code",
   "execution_count": null,
   "id": "846697df-5dc8-4112-aee4-ac909d3dd07f",
   "metadata": {},
   "outputs": [],
   "source": [
    "all_elems = list(set().union(*varkine_gns))\n",
    "\n",
    "df = pd.DataFrame([[e in st for st in varkine_gns] for e in all_elems], columns = set_names)\n",
    "\n",
    "df_up = df.groupby(set_names).size()"
   ]
  },
  {
   "cell_type": "code",
   "execution_count": null,
   "id": "d4e2a6b1-223d-44f5-b008-bcbc860a7a59",
   "metadata": {},
   "outputs": [],
   "source": [
    "plot(df_up, orientation='horizontal')"
   ]
  },
  {
   "cell_type": "code",
   "execution_count": null,
   "id": "153e2ed7-592d-42b4-9b41-b0bfa0c36a04",
   "metadata": {},
   "outputs": [],
   "source": [
    "ef_qcd_bf1_scv[1]"
   ]
  },
  {
   "cell_type": "code",
   "execution_count": null,
   "id": "cc0114ed-f8f4-477c-b62a-f33da08f46b7",
   "metadata": {
    "tags": []
   },
   "outputs": [],
   "source": [
    "ef_qcd_bf1_scv[1].var[['fit_diff_kinetics', 'fit_pval_kinetics','Chromosome']].sort_values(\"fit_pval_kinetics\").iloc[:5,].index.to_list()"
   ]
  },
  {
   "cell_type": "code",
   "execution_count": null,
   "id": "4b7edaf3-151f-4dab-83e4-ddfe4082dffe",
   "metadata": {},
   "outputs": [],
   "source": [
    "ef_qcd_bf1_scv[1].var[['fit_diff_kinetics', 'fit_pval_kinetics','Chromosome']][ef_qcd_bf1_scv[1].var.fit_diff_kinetics.isin(['gametocyte (developing)', 'gametocyte (male)', 'gametocyte (female)'])].sort_values(\"fit_pval_kinetics\").iloc[:5,].index.to_list()"
   ]
  },
  {
   "cell_type": "code",
   "execution_count": null,
   "id": "004a8d71-c391-404c-9f46-badf975a7011",
   "metadata": {
    "jupyter": {
     "outputs_hidden": true
    },
    "tags": []
   },
   "outputs": [],
   "source": [
    "ef_qcd_bf1_scv[7].var[['fit_diff_kinetics', 'fit_pval_kinetics','Chromosome']][ef_qcd_bf1_scv[7].var.fit_diff_kinetics.isin(['gametocyte (developing)', 'gametocyte (male)', 'gametocyte (female)'])].sort_values(\"fit_pval_kinetics\").iloc[:20,]"
   ]
  },
  {
   "cell_type": "code",
   "execution_count": null,
   "id": "0c2ca986-58ac-4f4d-8abd-ca20f057214b",
   "metadata": {},
   "outputs": [],
   "source": [
    "# plt.rcParams[\"figure.figsize\"] = (5, 4)\n",
    "\n",
    "# kwargs = dict(linewidth=2, add_linfit=True, frameon=False)\n",
    "# top5_m_varkinetics = ef_qcd_bf1_scv[7].var[['fit_diff_kinetics', 'fit_pval_kinetics','Chromosome']][ef_qcd_bf1_scv[7].var.fit_diff_kinetics.isin(['gametocyte (developing)', 'gametocyte (male)', 'gametocyte (female)'])].sort_values(\"fit_pval_kinetics\").iloc[:20,].index.to_list()\n",
    "# scv.pl.scatter(ef_qcd_bf1_scv[7], basis=top5_m_varkinetics, ncols=5, add_outline='fit_diff_kinetics', **kwargs, legend_loc='right')\n"
   ]
  },
  {
   "cell_type": "code",
   "execution_count": null,
   "id": "00d3e195-1739-4d3f-bf21-21a49c43b78d",
   "metadata": {
    "jupyter": {
     "outputs_hidden": true
    },
    "tags": []
   },
   "outputs": [],
   "source": [
    "plt.rcParams[\"figure.figsize\"] = (5, 4)\n",
    "\n",
    "kwargs = dict(linewidth=2, add_linfit=True, frameon=False)\n",
    "for obj in ef_qcd_bf1_scv:\n",
    "    top5_m_varkinetics = obj.var[['fit_diff_kinetics', 'fit_pval_kinetics','Chromosome']][obj.var.fit_diff_kinetics.isin(['gametocyte (developing)', 'gametocyte (male)', 'gametocyte (female)'])].sort_values(\"fit_pval_kinetics\").iloc[:5,].index.to_list()\n",
    "    scv.pl.scatter(obj, basis=top5_m_varkinetics, ncols=5, add_outline='fit_diff_kinetics', **kwargs, legend_loc='right')\n",
    "\n",
    "plt.rcParams[\"figure.figsize\"] = (7, 5)"
   ]
  },
  {
   "cell_type": "code",
   "execution_count": null,
   "id": "321105c5-ecbb-4cf1-9628-6729bb87fe40",
   "metadata": {
    "jupyter": {
     "outputs_hidden": true
    },
    "tags": []
   },
   "outputs": [],
   "source": [
    "kwargs = dict(linewidth=2, add_linfit=True, frameon=False)\n",
    "for obj in ef_qcd_bf2_scv:\n",
    "    top5_m_varkinetics = obj.var[['fit_diff_kinetics', 'fit_pval_kinetics','Chromosome']][obj.var.fit_diff_kinetics.isin(['Gametocytes (early male)', 'Gametocytes (late male)', 'Gametocytes (early male),Gametocytes (late male)'])].sort_values(\"fit_pval_kinetics\").iloc[:5,].index.to_list()\n",
    "    scv.pl.scatter(obj, basis=top5_m_varkinetics, ncols=5, add_outline='fit_diff_kinetics', **kwargs, legend_loc='right')"
   ]
  },
  {
   "cell_type": "code",
   "execution_count": null,
   "id": "534326bf-c869-4902-abe4-5ef5df7a0346",
   "metadata": {
    "tags": []
   },
   "outputs": [],
   "source": [
    "plt.rcParams[\"figure.figsize\"] = (7, 7)\n",
    "scv.pl.umap(ef_qcd_bf1_scv[4], color='ALBA1', layer='spliced', legend_loc='right', components='2,3')\n",
    "plt.rcParams[\"figure.figsize\"] = (7, 7)"
   ]
  },
  {
   "cell_type": "code",
   "execution_count": null,
   "id": "841dae64-1a34-4cda-90f2-2cd660fc89be",
   "metadata": {
    "tags": []
   },
   "outputs": [],
   "source": [
    "plt.rcParams[\"figure.figsize\"] = (7, 7)\n",
    "scv.pl.scatter(ef_qcd_bf2_scv[4], basis='ALBA1', add_outline='fit_diff_kinetics', legend_loc='right')\n",
    "plt.rcParams[\"figure.figsize\"] = (7, 7)"
   ]
  },
  {
   "cell_type": "code",
   "execution_count": null,
   "id": "abf70857-c40e-4a37-98f1-06153dbc0157",
   "metadata": {},
   "outputs": [],
   "source": []
  },
  {
   "cell_type": "code",
   "execution_count": null,
   "id": "21c484d7-b8e0-41c1-a5c3-ea6942fcbe72",
   "metadata": {},
   "outputs": [],
   "source": [
    "VK_gene_list = [ 'PF3D7_1342000', 'KIC3', 'PM6', 'ISP1', 'PF3D7_1447000']"
   ]
  },
  {
   "cell_type": "code",
   "execution_count": null,
   "id": "59e78ec4-8bdf-4f07-b126-ce5cb7683496",
   "metadata": {},
   "outputs": [],
   "source": [
    "plt.rcParams[\"figure.figsize\"] = (25, 5)\n",
    "for i, obj in enumerate(ef_qcd_bf1_scv[1:7]):\n",
    "        # scv.pl.scatter(ef_qcd_bf2_scv_varKine[4], VK_gene_list[:5], ylabel=cluster, frameon=False, color= 'Stage', add_outline=cluster)\n",
    "        \n",
    "        kwargs = dict(frameon=False,size=150, linewidth=1.5, add_linfit=True, color= 'Stage', fontsize = 25, legend_fontsize = 25)\n",
    "        fig, ax = plt.subplots(ncols=5)\n",
    "\n",
    "        for j  in range(0,5):\n",
    "            if j == 0:\n",
    "                # scv.pl.scatter(ef_qcd_bf2_scv_varKine[4], VK_gene_list[j], ylabel=v3_days[i], ax=ax[j], size=40, linewidth=1.5, fontsize = 25, legend_fontsize = 25, color= 'Stage',show=False)\n",
    "                scv.pl.scatter(obj, basis=VK_gene_list[j],  ylabel=v3_days[1:7][i], ax=ax[j], size=150, linewidth=1.5, add_linfit=True, fontsize = 25, legend_fontsize = 25, color= 'Stage',show=False)                \n",
    "                plt.setp(ax[j].spines.values(), visible=False)\n",
    "                ax[j].get_legend().remove()\n",
    "                ax[j].xaxis.set_visible(False)\n",
    "                ax[j].tick_params(left=False, labelleft=False, right=False)\n",
    "            elif j in range(1,4):\n",
    "                scv.pl.scatter(obj, VK_gene_list[j], ax=ax[j], **kwargs,show=False)\n",
    "                ax[j].get_legend().remove()\n",
    "            else:\n",
    "                scv.pl.scatter(obj, VK_gene_list[j], legend_loc='right', ax=ax[j], **kwargs)\n",
    "\n",
    "plt.rcParams[\"figure.figsize\"] = (16, 5)"
   ]
  },
  {
   "cell_type": "code",
   "execution_count": null,
   "id": "13be32d4-0835-4285-94a5-5ec7d30b0b4a",
   "metadata": {
    "tags": []
   },
   "outputs": [],
   "source": [
    "plt.rcParams[\"figure.figsize\"] = (25, 5)\n",
    "for i, obj in enumerate(ef_qcd_bf2_scv[0:3]):\n",
    "        # scv.pl.scatter(ef_qcd_bf2_scv_varKine[4], VK_gene_list[:5], ylabel=cluster, frameon=False, color= 'Stage', add_outline=cluster)\n",
    "        \n",
    "        kwargs = dict(frameon=False,size=150, linewidth=1.5, add_linfit=True, color= 'anno_300cells', fontsize = 25, legend_fontsize = 25)\n",
    "        fig, ax = plt.subplots(ncols=5)\n",
    "\n",
    "        for j  in range(0,5):\n",
    "            if j == 0:\n",
    "                # scv.pl.scatter(ef_qcd_bf2_scv_varKine[4], VK_gene_list[j], ylabel=v3_days[i], ax=ax[j], size=40, linewidth=1.5, fontsize = 25, legend_fontsize = 25, color= 'Stage',show=False)\n",
    "                scv.pl.scatter(obj, basis=VK_gene_list[j],  ylabel=v3_days[2:][i], ax=ax[j], size=150, linewidth=1.5, add_linfit=True, fontsize = 25, legend_fontsize = 25, color= 'anno_300cells',show=False)                \n",
    "                plt.setp(ax[j].spines.values(), visible=False)\n",
    "                ax[j].get_legend().remove()\n",
    "                ax[j].xaxis.set_visible(False)\n",
    "                ax[j].tick_params(left=False, labelleft=False, right=False)\n",
    "            elif j in range(1,4):\n",
    "                scv.pl.scatter(obj, VK_gene_list[j], ax=ax[j], **kwargs,show=False)\n",
    "                ax[j].get_legend().remove()\n",
    "            else:\n",
    "                scv.pl.scatter(obj, VK_gene_list[j], legend_loc='right', ax=ax[j], **kwargs)\n",
    "\n",
    "plt.rcParams[\"figure.figsize\"] = (16, 5)"
   ]
  },
  {
   "cell_type": "code",
   "execution_count": null,
   "id": "fd3f8058-e4d6-4e39-942b-ab8e30860aa7",
   "metadata": {},
   "outputs": [],
   "source": [
    "ef_qcd_bf2_scv[4]"
   ]
  },
  {
   "cell_type": "code",
   "execution_count": null,
   "id": "5289e966-7059-4ccb-9fc3-91cb3d5e3980",
   "metadata": {},
   "outputs": [],
   "source": [
    "literature_gene_list = [ 'PF3D7_1146800', 'PDI8', 'RPL35', 'PF3D7_0402000', 'MESA', 'PF3D7_0901700']"
   ]
  },
  {
   "cell_type": "code",
   "execution_count": null,
   "id": "507ca43a-de15-4d3c-b342-92d881117be6",
   "metadata": {
    "tags": []
   },
   "outputs": [],
   "source": [
    "plt.rcParams[\"figure.figsize\"] = (25, 5)\n",
    "\n",
    "kwargs = dict(frameon=False,size=150, linewidth=1.5, add_linfit=True, color= 'anno_300cells', fontsize = 25, legend_fontsize = 25)\n",
    "fig, ax = plt.subplots(ncols=6)\n",
    "\n",
    "for j  in range(0,6):\n",
    "            if j == 0:\n",
    "                # scv.pl.scatter(ef_qcd_bf2_scv_varKine[4], VK_gene_list[j], ylabel=v3_days[i], ax=ax[j], size=40, linewidth=1.5, fontsize = 25, legend_fontsize = 25, color= 'Stage',show=False)\n",
    "                scv.pl.scatter(ef_qcd_bf2_scv[4], basis=literature_gene_list[j],  ylabel='Femaleness correlated genes', ax=ax[j], size=150, linewidth=1.5, add_linfit=True, fontsize = 25, legend_fontsize = 25, color= 'anno_300cells',show=False)                \n",
    "                plt.setp(ax[j].spines.values(), visible=False)\n",
    "                ax[j].get_legend().remove()\n",
    "                ax[j].xaxis.set_visible(False)\n",
    "                ax[j].tick_params(left=False, labelleft=False, right=False)\n",
    "            elif j in range(1,5):\n",
    "                scv.pl.scatter(ef_qcd_bf2_scv[4], literature_gene_list[j], ax=ax[j], **kwargs,show=False)\n",
    "                ax[j].get_legend().remove()\n",
    "            else:\n",
    "                scv.pl.scatter(ef_qcd_bf2_scv[4], literature_gene_list[j], legend_loc='right', ax=ax[j], **kwargs)\n",
    "\n",
    "plt.rcParams[\"figure.figsize\"] = (16, 5)"
   ]
  },
  {
   "cell_type": "code",
   "execution_count": null,
   "id": "a9b8c478-05d9-4f0f-80b8-00f4e9caf2f5",
   "metadata": {},
   "outputs": [],
   "source": [
    "# plt.rcParams[\"figure.figsize\"] = (7, 5)\n",
    "# scv.pl.umap(ef_qcd_bf1_scv[7], color=literature_gene_list, layer='unspliced', components='2,3', size=150, fontsize = 25, legend_fontsize = 25, show=False)\n",
    "# plt.rcParams[\"figure.figsize\"] = (16, 5)"
   ]
  },
  {
   "cell_type": "code",
   "execution_count": null,
   "id": "aa8a27be-d29d-4af2-8fd4-7de883b519db",
   "metadata": {
    "tags": []
   },
   "outputs": [],
   "source": [
    "# plt.rcParams[\"figure.figsize\"] = (25, 5)\n",
    "# literature_gene_list = [  'PF3D7_0402000',  'PF3D7_0901700']\n",
    "# kwargs = dict(frameon=False, layer='spliced', components='2,3', size=150, fontsize = 25, legend_fontsize = 25, show=False)\n",
    "# fig, ax = plt.subplots(ncols=6)\n",
    "\n",
    "# for j  in range(0,6):\n",
    "#             if j == 0:\n",
    "#                 # scv.pl.scatter(ef_qcd_bf2_scv_varKine[4], VK_gene_list[j], ylabel=v3_days[i], ax=ax[j], size=40, linewidth=1.5, fontsize = 25, legend_fontsize = 25, color= 'Stage',show=False)\n",
    "#                 scv.pl.umap(ef_qcd_bf2_scv[4],  ylabel='Femaleness correlated genes', color=literature_gene_list[j], layer='spliced', components='2,3', ax=ax[j], size=150, fontsize = 25, legend_fontsize = 25, show=False)\n",
    "#                 plt.setp(ax[j].spines.values(), visible=False)\n",
    "#                 # ax[j].get_legend().remove()\n",
    "#                 ax[j].xaxis.set_visible(False)\n",
    "#                 ax[j].tick_params(left=False, labelleft=False, right=False)\n",
    "#             elif j in range(1,5):\n",
    "#                 scv.pl.umap(ef_qcd_bf2_scv[4], color=literature_gene_list[j], ax=ax[j], **kwargs,show=False)\n",
    "#                 # ax[j].get_legend().remove()\n",
    "#             else:\n",
    "#                 scv.pl.umap(ef_qcd_bf2_scv[4], color=literature_gene_list[j], ax=ax[j], legend_loc='right', **kwargs)\n",
    "\n",
    "# plt.rcParams[\"figure.figsize\"] = (16, 5)"
   ]
  },
  {
   "cell_type": "code",
   "execution_count": null,
   "id": "d47f695a-2cfa-4760-af04-06805de548f0",
   "metadata": {},
   "outputs": [],
   "source": [
    "male_lit_gene_list = [ 'Pfg14-748', 'AP2-LT', 'SOC3', 'Pf11-1', 'PF3D7_1143500','GCbeta', 'MISFIT' ]"
   ]
  },
  {
   "cell_type": "code",
   "execution_count": null,
   "id": "30fb0fcf-6995-4638-843e-6f56dc15d57f",
   "metadata": {},
   "outputs": [],
   "source": [
    "# plt.rcParams[\"figure.figsize\"] = (7, 5)\n",
    "# scv.pl.umap(ef_qcd_bf1_scv[7], color=male_lit_gene_list, layer='unspliced', components='2,3', size=150, fontsize = 25, legend_fontsize = 25, show=False)\n",
    "# plt.rcParams[\"figure.figsize\"] = (16, 5)"
   ]
  },
  {
   "cell_type": "code",
   "execution_count": null,
   "id": "b1c7350e-ccb3-4978-9cd1-7e214506a0ee",
   "metadata": {},
   "outputs": [],
   "source": [
    "plt.rcParams[\"figure.figsize\"] = (25, 5)\n",
    "\n",
    "kwargs = dict(frameon=False,size=150, linewidth=1.5, add_linfit=True, color= 'anno_300cells', fontsize = 25, legend_fontsize = 25)\n",
    "fig, ax = plt.subplots(ncols=7)\n",
    "\n",
    "for j  in range(0,7):\n",
    "            if j == 0:\n",
    "                # scv.pl.scatter(ef_qcd_bf2_scv_varKine[4], VK_gene_list[j], ylabel=v3_days[i], ax=ax[j], size=40, linewidth=1.5, fontsize = 25, legend_fontsize = 25, color= 'Stage',show=False)\n",
    "                scv.pl.scatter(ef_qcd_bf2_scv[4], basis=male_lit_gene_list[j],  ylabel='Male correlated genes', ax=ax[j], size=150, linewidth=1.5, add_linfit=True, fontsize = 25, legend_fontsize = 25, color= 'anno_300cells',show=False)                \n",
    "                plt.setp(ax[j].spines.values(), visible=False)\n",
    "                ax[j].get_legend().remove()\n",
    "                ax[j].xaxis.set_visible(False)\n",
    "                ax[j].tick_params(left=False, labelleft=False, right=False)\n",
    "            elif j in range(1,6):\n",
    "                scv.pl.scatter(ef_qcd_bf2_scv[4], male_lit_gene_list[j], ax=ax[j], **kwargs,show=False)\n",
    "                ax[j].get_legend().remove()\n",
    "            else:\n",
    "                scv.pl.scatter(ef_qcd_bf2_scv[4], male_lit_gene_list[j], legend_loc='right', ax=ax[j], **kwargs)\n",
    "\n",
    "plt.rcParams[\"figure.figsize\"] = (16, 5)"
   ]
  },
  {
   "cell_type": "code",
   "execution_count": null,
   "id": "512fcc98-fbca-41ba-99e7-55a7fa1ed3cf",
   "metadata": {},
   "outputs": [],
   "source": [
    "plt.rcParams[\"figure.figsize\"] = (7, 5)\n",
    "scv.pl.umap(ef_qcd_bf2_scv[4], color=male_lit_gene_list, layer='unspliced', components='2,3', size=150, fontsize = 25, legend_fontsize = 25, show=False)\n",
    "plt.rcParams[\"figure.figsize\"] = (16, 5)"
   ]
  },
  {
   "cell_type": "code",
   "execution_count": null,
   "id": "5fb7cc0e-f72c-469f-b720-0a91e558f128",
   "metadata": {
    "jupyter": {
     "outputs_hidden": true
    },
    "tags": []
   },
   "outputs": [],
   "source": [
    "ef_qcd_bf2_scv[1].layers['unspliced'][ef_qcd_bf2_scv[1].var_names == 'AP2-LT',:].todense().tolist()"
   ]
  },
  {
   "cell_type": "code",
   "execution_count": null,
   "id": "7963d31e-95b5-47b9-b73a-efe0cb1d8bea",
   "metadata": {},
   "outputs": [],
   "source": [
    "ef_qcd_bf2_scv[4].layers['unspliced']"
   ]
  },
  {
   "cell_type": "code",
   "execution_count": null,
   "id": "cd7b28a7-930b-4f05-adf0-6a408a442545",
   "metadata": {},
   "outputs": [],
   "source": [
    "plt.rcParams[\"figure.figsize\"] = (7, 5)\n",
    "scv.pl.umap(ef_qcd_bf2_scv[4], color=male_lit_gene_list, layer='velocity', components='2,3', size=20, fontsize = 25, legend_fontsize = 25, show=False)\n",
    "plt.rcParams[\"figure.figsize\"] = (16, 5)"
   ]
  },
  {
   "cell_type": "code",
   "execution_count": null,
   "id": "9a714201-9cdc-4b2e-95a8-690b3763ca9c",
   "metadata": {},
   "outputs": [],
   "source": [
    "ef_qcd_bf2_scv[4].obs.columns"
   ]
  },
  {
   "cell_type": "code",
   "execution_count": null,
   "id": "cfe5450a-94b2-4351-9888-19b8906bd291",
   "metadata": {},
   "outputs": [],
   "source": [
    "plt.rcParams[\"figure.figsize\"] = (7, 5)\n",
    "scv.pl.umap(ef_qcd_bf1_scv[7], color='latent_time',  components='2,3', size=20, fontsize = 25, legend_fontsize = 25, show=False)\n",
    "plt.rcParams[\"figure.figsize\"] = (7, 5)"
   ]
  },
  {
   "cell_type": "code",
   "execution_count": null,
   "id": "71681dbe-58ee-48ed-8445-9d15ae97de51",
   "metadata": {
    "jupyter": {
     "outputs_hidden": true
    },
    "tags": []
   },
   "outputs": [],
   "source": [
    "# kwargs = dict(linewidth=2, add_linfit=True, frameon=False)\n",
    "for obj in ef_qcd_bf2_scv:\n",
    "    scv.pl.scatter(obj, basis='DOZI', color='anno_300cells', legend_loc='upper left', size=150)\n"
   ]
  },
  {
   "cell_type": "code",
   "execution_count": null,
   "id": "c0bd054a-1c48-4510-b201-c7b49e7e6a98",
   "metadata": {
    "jupyter": {
     "outputs_hidden": true
    },
    "tags": []
   },
   "outputs": [],
   "source": [
    "for i, obj in enumerate( [elem for a, elem in enumerate(ef_qcd_bf2_scv) if a not in [3]]):\n",
    "    print(obj.obs_names)"
   ]
  },
  {
   "cell_type": "code",
   "execution_count": null,
   "id": "369da61c-d38d-4412-a59f-16db54f632be",
   "metadata": {},
   "outputs": [],
   "source": [
    "v3_days_report = v3_days[2:5]+v3_days[6:]"
   ]
  },
  {
   "cell_type": "code",
   "execution_count": null,
   "id": "319e1ae9-3287-4161-9e73-46a34a697150",
   "metadata": {},
   "outputs": [],
   "source": [
    "VK_gene_list = [ 'DOZI', 'ALBA1']"
   ]
  },
  {
   "cell_type": "code",
   "execution_count": null,
   "id": "fc950bb3-2450-49be-afe9-48efd248da44",
   "metadata": {},
   "outputs": [],
   "source": [
    "plt.rcParams[\"figure.figsize\"] = (10, 7)\n",
    "scv.pl.scatter(ef_qcd_bf1_scv[7], basis=VK_gene_list, ncols=5, add_outline='fit_diff_kinetics', **kwargs, legend_loc='right')\n"
   ]
  },
  {
   "cell_type": "code",
   "execution_count": null,
   "id": "fe58b986-3cb6-43d1-81fa-a8cb4e67e966",
   "metadata": {
    "tags": []
   },
   "outputs": [],
   "source": [
    "plt.rcParams[\"figure.figsize\"] = (15, 5)\n",
    "for i, obj in enumerate( [elem for a, elem in enumerate(ef_qcd_bf2_scv) if a not in [3]]):\n",
    "        # scv.pl.scatter(ef_qcd_bf2_scv_varKine[4], VK_gene_list[:5], ylabel=cluster, frameon=False, color= 'Stage', add_outline=cluster)\n",
    "        \n",
    "        kwargs = dict(frameon=False,size=150, linewidth=1.5, add_linfit=True, color= 'anno_300cells', fontsize = 25, legend_fontsize = 25)\n",
    "        fig, ax = plt.subplots(ncols=2)\n",
    "\n",
    "        for j  in range(0,2):\n",
    "            if j == 0:\n",
    "                # scv.pl.scatter(ef_qcd_bf2_scv_varKine[4], VK_gene_list[j], ylabel=v3_days[i], ax=ax[j], size=40, linewidth=1.5, fontsize = 25, legend_fontsize = 25, color= 'Stage',show=False)\n",
    "                scv.pl.scatter(obj, basis=VK_gene_list[j],  ylabel=v3_days_report[i], ax=ax[j], size=150, linewidth=1.5, add_linfit=True, fontsize = 25, legend_fontsize = 25, color= 'anno_300cells',show=False)                \n",
    "                plt.setp(ax[j].spines.values(), visible=False)\n",
    "                ax[j].get_legend().remove()\n",
    "                ax[j].xaxis.set_visible(False)\n",
    "                ax[j].tick_params(left=False, labelleft=False, right=False)\n",
    "            elif j in range(1):\n",
    "                scv.pl.scatter(obj, VK_gene_list[j], ax=ax[j], **kwargs,show=False)\n",
    "                ax[j].get_legend().remove()\n",
    "            else:\n",
    "                scv.pl.scatter(obj, VK_gene_list[j], legend_loc='right', ax=ax[j], **kwargs)\n",
    "\n",
    "plt.rcParams[\"figure.figsize\"] = (16, 5)"
   ]
  },
  {
   "cell_type": "code",
   "execution_count": null,
   "id": "628d7a2f-cb92-4481-99b9-9ffe61b3f901",
   "metadata": {},
   "outputs": [],
   "source": [
    "plt.rcParams[\"figure.figsize\"] = (25, 5)\n",
    "\n",
    "kwargs = dict(frameon=False,size=150, linewidth=1.5, add_linfit=True, color= 'anno_300cells', fontsize = 25, legend_fontsize = 25)\n",
    "fig, ax = plt.subplots(ncols=7)\n",
    "\n",
    "for j  in range(0,7):\n",
    "            if j == 0:\n",
    "                # scv.pl.scatter(ef_qcd_bf2_scv_varKine[4], VK_gene_list[j], ylabel=v3_days[i], ax=ax[j], size=40, linewidth=1.5, fontsize = 25, legend_fontsize = 25, color= 'Stage',show=False)\n",
    "                scv.pl.scatter(ef_qcd_bf2_scv[4], basis=male_lit_gene_list[j],  ylabel='Male correlated genes', ax=ax[j], size=150, linewidth=1.5, add_linfit=True, fontsize = 25, legend_fontsize = 25, color= 'anno_300cells',show=False)                \n",
    "                plt.setp(ax[j].spines.values(), visible=False)\n",
    "                ax[j].get_legend().remove()\n",
    "                ax[j].xaxis.set_visible(False)\n",
    "                ax[j].tick_params(left=False, labelleft=False, right=False)\n",
    "            elif j in range(1,6):\n",
    "                scv.pl.scatter(ef_qcd_bf2_scv[4], male_lit_gene_list[j], ax=ax[j], **kwargs,show=False)\n",
    "                ax[j].get_legend().remove()\n",
    "            else:\n",
    "                scv.pl.scatter(ef_qcd_bf2_scv[4], male_lit_gene_list[j], legend_loc='right', ax=ax[j], **kwargs)\n",
    "\n",
    "plt.rcParams[\"figure.figsize\"] = (16, 5)"
   ]
  },
  {
   "cell_type": "code",
   "execution_count": null,
   "id": "11e01501-4e0b-4525-aac6-cbe9a4266115",
   "metadata": {},
   "outputs": [],
   "source": [
    "plt.rcParams[\"figure.figsize\"] = (6.1, 4)\n",
    "scv.pl.scatter(ef_qcd_bf2_scv[1], basis='DOZI', color= 'anno_300cells',legend_loc='upper left', size=150)"
   ]
  },
  {
   "cell_type": "code",
   "execution_count": null,
   "id": "6e9bfbe8-447b-46da-b0f0-b88dd8d3121c",
   "metadata": {},
   "outputs": [],
   "source": [
    "scv.pl.scatter(ef_qcd_bf2_scv[2], basis='ALBA1', color= 'anno_300cells', legend_loc='upper left', size=150)"
   ]
  },
  {
   "cell_type": "code",
   "execution_count": null,
   "id": "ef094f51-3e0a-4694-bebc-e8469e69f4fc",
   "metadata": {},
   "outputs": [],
   "source": [
    "scv.pl.scatter(ef_qcd_bf2_scv_varKine[4], basis='ENO', add_outline='fit_diff_kinetics', legend_loc='right')"
   ]
  },
  {
   "cell_type": "code",
   "execution_count": null,
   "id": "92be3573-e255-4587-85d8-057bddd39e62",
   "metadata": {},
   "outputs": [],
   "source": [
    "scv.pl.scatter(ef_qcd_bf2_scv_varKine[2], basis='PF3D7_1447000', add_outline='fit_diff_kinetics', legend_loc='right')"
   ]
  },
  {
   "cell_type": "code",
   "execution_count": null,
   "id": "ba20772d-0ad0-42ba-980e-ab87dd8cde9a",
   "metadata": {},
   "outputs": [],
   "source": [
    "scv.pl.scatter(ef_qcd_bf2_scv_varKine[3], basis='EF-1gamma', add_outline='fit_diff_kinetics', legend_loc='right')"
   ]
  },
  {
   "cell_type": "code",
   "execution_count": null,
   "id": "031525f5-86b1-4c4e-aeae-83d86f62487a",
   "metadata": {},
   "outputs": [],
   "source": [
    "scv.pl.scatter(ef_qcd_bf2_scv_varKine[3], basis='eIF4A', add_outline='fit_diff_kinetics', legend_loc='right')"
   ]
  },
  {
   "cell_type": "code",
   "execution_count": null,
   "id": "b5e5d50f-b7d5-4840-88ec-d624a9dcb699",
   "metadata": {},
   "outputs": [],
   "source": [
    "scv.pl.scatter(ef_qcd_bf2_scv_varKine[3], basis='PF3D7_1465900', add_outline='fit_diff_kinetics', legend_loc='right')"
   ]
  },
  {
   "cell_type": "code",
   "execution_count": null,
   "id": "58481544-5224-48c6-82d4-d29feb7d0759",
   "metadata": {},
   "outputs": [],
   "source": [
    "scv.pl.scatter(ef_qcd_bf2_scv_varKine[2], basis='PSOP6', add_outline='fit_diff_kinetics', legend_loc='right')"
   ]
  },
  {
   "cell_type": "code",
   "execution_count": null,
   "id": "7bcca595-9fcd-4cce-b98a-458201a5f220",
   "metadata": {},
   "outputs": [],
   "source": [
    "scv.pl.scatter(ef_qcd_bf2_scv_varKine[1], basis='PSOP20', add_outline='fit_diff_kinetics', legend_loc='right')"
   ]
  },
  {
   "cell_type": "code",
   "execution_count": null,
   "id": "6f445984-3a35-4136-8800-cc46f5ece43b",
   "metadata": {},
   "outputs": [],
   "source": [
    "scv.pl.scatter(ef_qcd_bf2_scv_varKine[2], basis='PF3D7_1429300', add_outline='fit_diff_kinetics', legend_loc='right')"
   ]
  },
  {
   "cell_type": "code",
   "execution_count": null,
   "id": "1faeff3b-eb12-4c17-a756-95ad3b18d6a3",
   "metadata": {},
   "outputs": [],
   "source": [
    "scv.pl.scatter(ef_qcd_bf2_scv_varKine[1], basis='PM6', add_outline='fit_diff_kinetics', legend_loc='right')"
   ]
  },
  {
   "cell_type": "code",
   "execution_count": null,
   "id": "a9d5c366-8cdb-43bc-b012-1fbeeaa8e1ce",
   "metadata": {},
   "outputs": [],
   "source": [
    "scv.pl.scatter(ef_qcd_bf2_scv_varKine[2], basis='PPM7', add_outline='fit_diff_kinetics', legend_loc='right')"
   ]
  },
  {
   "cell_type": "code",
   "execution_count": null,
   "id": "979c30ee-3532-4a91-9c1d-be872b1bfa5d",
   "metadata": {},
   "outputs": [],
   "source": [
    "scv.pl.scatter(ef_qcd_bf2_scv_varKine[1], basis='FIKK7.1', add_outline='fit_diff_kinetics', legend_loc='right')"
   ]
  },
  {
   "cell_type": "code",
   "execution_count": null,
   "id": "748cee0d-98a3-4b83-929c-ad102e9fd7e2",
   "metadata": {},
   "outputs": [],
   "source": [
    "scv.pl.scatter(ef_qcd_bf2_scv_varKine[1], basis='GEXP5', add_outline='fit_diff_kinetics', legend_loc='right')"
   ]
  },
  {
   "cell_type": "code",
   "execution_count": null,
   "id": "992c9842-e482-463a-a09a-4445e873e095",
   "metadata": {},
   "outputs": [],
   "source": [
    "scv.pl.scatter(ef_qcd_bf2_scv_varKine[2], basis='DOZI', add_outline='fit_diff_kinetics', legend_loc='right')"
   ]
  },
  {
   "cell_type": "code",
   "execution_count": null,
   "id": "671ba631-92b4-4d4c-ae9f-02f404f487d4",
   "metadata": {},
   "outputs": [],
   "source": [
    "ef_qcd_bf2_scv[1].var.fit_steady_u"
   ]
  },
  {
   "cell_type": "code",
   "execution_count": null,
   "id": "1edab2d1-6d76-4c00-afa2-0a4273f8a07e",
   "metadata": {},
   "outputs": [],
   "source": [
    "ef_qcd_bf2_scv[1]"
   ]
  },
  {
   "cell_type": "code",
   "execution_count": null,
   "id": "69a83802-6c5a-4f7d-8eac-a89f2ae80fbb",
   "metadata": {
    "jupyter": {
     "outputs_hidden": true
    },
    "tags": []
   },
   "outputs": [],
   "source": [
    "for obj in ef_qcd_bf2_scv:\n",
    "    # scv.tl.latent_time(obj)\n",
    "    scv.pl.scatter(obj, color='latent_time', color_map='gnuplot', size=80, components='2,3')"
   ]
  },
  {
   "cell_type": "code",
   "execution_count": null,
   "id": "22b2bed6-475f-438e-8045-00728874f467",
   "metadata": {
    "tags": []
   },
   "outputs": [],
   "source": [
    "for obj in ef_qcd_bf2_scv:\n",
    "    print(obj.obs.Stage.value_counts())"
   ]
  },
  {
   "cell_type": "markdown",
   "id": "c61e8afb-b8b5-4dee-97af-3f21dc8800fd",
   "metadata": {},
   "source": [
    "## Cellrank"
   ]
  },
  {
   "cell_type": "markdown",
   "id": "8c0e414d-afdd-4fd0-b829-c2e321819f90",
   "metadata": {},
   "source": [
    "Start - Kernels and estimators "
   ]
  },
  {
   "cell_type": "markdown",
   "id": "54645239-ddb8-4414-9f32-e0c0d5357c7c",
   "metadata": {},
   "source": [
    "Low level Kernels and estimators"
   ]
  },
  {
   "cell_type": "code",
   "execution_count": null,
   "id": "0f95a65e-6ca6-459e-b3c5-8fa9c6ce15c6",
   "metadata": {},
   "outputs": [],
   "source": [
    "ef_scv_stochastic[0]"
   ]
  },
  {
   "cell_type": "code",
   "execution_count": null,
   "id": "03a73a0a-a72f-45a0-bd32-dfaf26139340",
   "metadata": {
    "tags": []
   },
   "outputs": [],
   "source": [
    "vk_bf = []\n",
    "for obj in ef_scv_stochastic:\n",
    "    x = VelocityKernel(obj).compute_transition_matrix()\n",
    "    vk_bf.append(x)\n",
    "    # cr.tl.terminal_states(obj, cluster_key=\"Stage\", weight_connectivities=0.2)"
   ]
  },
  {
   "cell_type": "code",
   "execution_count": null,
   "id": "f6fcb4d8-4a0c-487a-914d-bd4fe5812abd",
   "metadata": {},
   "outputs": [],
   "source": [
    "vk_bf"
   ]
  },
  {
   "cell_type": "code",
   "execution_count": null,
   "id": "89168108-363d-4ab1-bce8-b3b1bece2472",
   "metadata": {},
   "outputs": [],
   "source": [
    "# vk_bf2 = []\n",
    "# for obj in ef_qcd_bf2_scv:\n",
    "#     x = VelocityKernel(obj).compute_transition_matrix()\n",
    "#     vk_bf2.append(x)\n",
    "#     # cr.tl.terminal_states(obj, cluster_key=\"Stage\", weight_connectivities=0.2)"
   ]
  },
  {
   "cell_type": "code",
   "execution_count": null,
   "id": "d6e138a4-056f-414c-a7e0-0399a39ba84f",
   "metadata": {},
   "outputs": [],
   "source": [
    "# vk_bf2"
   ]
  },
  {
   "cell_type": "code",
   "execution_count": null,
   "id": "c2d2dc7f-fe7f-41c6-9a02-51ca2dbc5154",
   "metadata": {},
   "outputs": [],
   "source": [
    "# vk = VelocityKernel(ef_qcd_bf_d5_scv)"
   ]
  },
  {
   "cell_type": "code",
   "execution_count": null,
   "id": "2055c9e1-f5f2-4938-a6e9-981a0cf1ac52",
   "metadata": {},
   "outputs": [],
   "source": [
    "from cellrank.tl.kernels import ConnectivityKernel"
   ]
  },
  {
   "cell_type": "code",
   "execution_count": null,
   "id": "0bc3d77f-ee77-40e9-9bf6-7bd6ae79a5ec",
   "metadata": {},
   "outputs": [],
   "source": [
    "ck_bf = []\n",
    "for obj in ef_scv_stochastic:\n",
    "    x = ConnectivityKernel(obj).compute_transition_matrix()\n",
    "    ck_bf.append(x)"
   ]
  },
  {
   "cell_type": "code",
   "execution_count": null,
   "id": "25fd1810-b029-4997-b81c-87489bfe55fa",
   "metadata": {
    "tags": []
   },
   "outputs": [],
   "source": [
    "# ck_bf2 = []\n",
    "# for obj in ef_qcd_bf2_scv:\n",
    "#     x = ConnectivityKernel(obj).compute_transition_matrix()\n",
    "#     ck_bf2.append(x)"
   ]
  },
  {
   "cell_type": "code",
   "execution_count": null,
   "id": "05dcd89a-741e-45fd-bffb-9d4441fe156d",
   "metadata": {},
   "outputs": [],
   "source": [
    "# from cellrank.tl.kernels import ConnectivityKernel\n",
    "\n",
    "# ck = ConnectivityKernel(ef_qcd_bf_d5_scv).compute_transition_matrix()"
   ]
  },
  {
   "cell_type": "code",
   "execution_count": null,
   "id": "ac382d6c-6693-4b39-80b6-be06579c7344",
   "metadata": {},
   "outputs": [],
   "source": [
    "combined_kernel_bf = []\n",
    "for obj, vk, ck in zip(ef_scv_stochastic, vk_bf, ck_bf):\n",
    "    x = 0.5 * vk + 0.5 * ck\n",
    "    combined_kernel_bf.append(x)"
   ]
  },
  {
   "cell_type": "code",
   "execution_count": null,
   "id": "805e87be-ca07-4dce-84c4-db483e294922",
   "metadata": {},
   "outputs": [],
   "source": [
    "# combined_kernel_bf2 = []\n",
    "# for obj, vk, ck in zip(ef_qcd_bf2_scv, vk_bf2, ck_bf2):\n",
    "#     x = 0.6 * vk + 0.4 * ck\n",
    "#     combined_kernel_bf2.append(x)"
   ]
  },
  {
   "cell_type": "code",
   "execution_count": null,
   "id": "7d9160be-c51d-40b5-a403-6bbcc172024c",
   "metadata": {},
   "outputs": [],
   "source": [
    "print(combined_kernel_bf)"
   ]
  },
  {
   "cell_type": "code",
   "execution_count": null,
   "id": "4b8e802b-3a6e-43e3-9cf1-7d21e4565ca4",
   "metadata": {},
   "outputs": [],
   "source": [
    "from cellrank.tl.estimators import GPCCA"
   ]
  },
  {
   "cell_type": "code",
   "execution_count": null,
   "id": "152fb956-3731-4803-8d6a-61131f202cba",
   "metadata": {},
   "outputs": [],
   "source": [
    "g_bf = []\n",
    "for ck in ck_bf:\n",
    "    x = GPCCA(ck)\n",
    "    g_bf.append(x)\n",
    "    "
   ]
  },
  {
   "cell_type": "code",
   "execution_count": null,
   "id": "57be28d7-b4d3-4134-b479-73805fb65903",
   "metadata": {},
   "outputs": [],
   "source": [
    "# g_bf2 = []\n",
    "# for ck in ck_bf2:\n",
    "#     x = GPCCA(ck)\n",
    "#     g_bf2.append(x)\n",
    "    "
   ]
  },
  {
   "cell_type": "code",
   "execution_count": null,
   "id": "f612cdc9-c380-4cb4-986c-2af003530a2d",
   "metadata": {},
   "outputs": [],
   "source": [
    "g_bf"
   ]
  },
  {
   "cell_type": "code",
   "execution_count": null,
   "id": "4a3a545e-7a9a-47a9-9c70-a24a487175e3",
   "metadata": {
    "tags": []
   },
   "outputs": [],
   "source": [
    "for g in g_bf:\n",
    "    g.compute_schur(n_components=20)\n",
    "    g.plot_spectrum()"
   ]
  },
  {
   "cell_type": "code",
   "execution_count": null,
   "id": "f59ffde5-d7f7-47fe-a7f0-f56513fd6ed5",
   "metadata": {
    "tags": []
   },
   "outputs": [],
   "source": [
    "# for g in g_bf2:\n",
    "#     g.compute_schur(n_components=20)\n",
    "#     g.plot_spectrum()\n"
   ]
  },
  {
   "cell_type": "code",
   "execution_count": null,
   "id": "14e7ccea-ade1-4621-ad8c-f731dc78ef77",
   "metadata": {},
   "outputs": [],
   "source": [
    "for i, g in enumerate(g_bf):\n",
    "    if i == 0:\n",
    "        g.compute_macrostates(n_states=4, cluster_key=\"stage_bfs\")\n",
    "        g.plot_macrostates(components = '2,3')\n",
    "    else:\n",
    "        g.compute_macrostates(n_states=9, cluster_key=\"stage_bfs\")\n",
    "        g.plot_macrostates(components = '2,3')\n"
   ]
  },
  {
   "cell_type": "code",
   "execution_count": null,
   "id": "94501721-96f7-4e30-9315-2f6bf5057620",
   "metadata": {},
   "outputs": [],
   "source": []
  },
  {
   "cell_type": "markdown",
   "id": "65fbb042-007d-4915-9af7-0d8ef85ded1a",
   "metadata": {},
   "source": [
    "Manually setting terminal states\n",
    "Combining late males and early males as terminal state for day 5 and using late male for all the other timepoints\n",
    "Using Early female as terminal state for day 5 and using late female for all the other days"
   ]
  },
  {
   "cell_type": "code",
   "execution_count": null,
   "id": "be82d97d-d0b7-4cdd-98e3-05f551cb491e",
   "metadata": {
    "tags": []
   },
   "outputs": [],
   "source": []
  },
  {
   "cell_type": "code",
   "execution_count": null,
   "id": "f43df258-481b-4560-8066-2a6abce2e53f",
   "metadata": {},
   "outputs": [],
   "source": []
  },
  {
   "cell_type": "code",
   "execution_count": null,
   "id": "b1698e62-c32f-4468-b356-9fa02660e233",
   "metadata": {},
   "outputs": [],
   "source": [
    "# g.set_terminal_states({\"Male\": ef_qcd_bf_d5_scv[ef_qcd_bf_d5_scv.obs[\"Stage\"] == \"Male\"].obs_names, \"Female\": ef_qcd_bf_d5_scv[ef_qcd_bf_d5_scv.obs[\"Stage\"] == \"Female\"].obs_names, \"Trophozoite\": ef_qcd_bf_d5_scv[ef_qcd_bf_d5_scv.obs[\"Stage\"] == \"Female\"].obs_names})"
   ]
  },
  {
   "cell_type": "code",
   "execution_count": null,
   "id": "2c057205-6c16-45b6-9465-edd052cff2ca",
   "metadata": {},
   "outputs": [],
   "source": [
    "sc.pl.umap(ef_scv_stochastic[0], color='Stage', components='2,3')"
   ]
  },
  {
   "cell_type": "code",
   "execution_count": null,
   "id": "2bd55324-7c54-4b1b-bc48-9892a693be9e",
   "metadata": {},
   "outputs": [],
   "source": [
    "# # ef_scv_stochastic[0][ef_scv_stochastic[0].obs[\"stage_bfs\"].isin([\"Gametocytes (developing)\",\"Gametocytes (branching)\",\"Gametocytes (early male)\",\"Gametocytes (late male)\",\"Gametocytes (early female)\",\"Gametocytes (late female)\" ])].obs.Stage\n",
    "# ef_scv_stochastic[0][ef_scv_stochastic[0].obs[\"stage_bfs\"].isin([\"Gametocytes (developing)\",\"Gametocytes (branching)\",\"Gametocytes (early male)\",\"Gametocytes (late male)\",\"Gametocytes (early female)\",\"Gametocytes (late female)\" ])].obs.Stage\n",
    "#                                   obj[obj.obs[\"stage_bfs\"].isin([\"Gametocytes (developing)\",\"Gametocytes (branching)\",\"Gametocytes (early male)\",\"Gametocytes (late male)\",\"Gametocytes (early female)\",\"Gametocytes (late female)\" ])].obs_names, \"Early schizont\": obj[obj.obs[\"stage_bfs\"] == \"early schizont\"].obs_names})"
   ]
  },
  {
   "cell_type": "markdown",
   "id": "d36c00d7-1a94-4268-b36e-b8c2c49828ba",
   "metadata": {
    "tags": []
   },
   "source": [
    "## Early gam and asexual driver"
   ]
  },
  {
   "cell_type": "code",
   "execution_count": null,
   "id": "a231a224-4a53-4a5c-9822-f5ec298c457f",
   "metadata": {},
   "outputs": [],
   "source": [
    "for g, obj in zip(g_bf, ef_scv_stochastic):\n",
    "    g.set_terminal_states({\"Gametocyte\": obj[obj.obs[\"stage_bfs\"].isin([\"Gametocytes (developing)\",\"Gametocytes (branching)\",\"Gametocytes (early male)\",\"Gametocytes (late male)\",\"Gametocytes (early female)\",\"Gametocytes (late female)\" ])].obs_names, \"Early schizont\": obj[obj.obs[\"stage_bfs\"] == \"early schizont\"].obs_names})"
   ]
  },
  {
   "cell_type": "code",
   "execution_count": null,
   "id": "6093ddb8-1110-41c8-bb90-e7639888d5f7",
   "metadata": {},
   "outputs": [],
   "source": [
    "# for g in g_bf:\n",
    "#     g.set_terminal_states_from_macrostates(names= {[\"Gametocytes (late male)\":\"Gametocyte\", \"Gametocytes (late female)\":\"Late female\", \"early schizont\":\"Early schizont\"}, n_cells=400) "
   ]
  },
  {
   "cell_type": "code",
   "execution_count": null,
   "id": "9e635c5d-5160-4edc-9c5b-96d0dab67045",
   "metadata": {
    "tags": []
   },
   "outputs": [],
   "source": [
    "# for g in g_bf:\n",
    "#     g.plot_terminal_states()"
   ]
  },
  {
   "cell_type": "code",
   "execution_count": null,
   "id": "ee531e23-f7fa-4bf7-b8ef-b837763c2447",
   "metadata": {},
   "outputs": [],
   "source": [
    "v3_days_fnl"
   ]
  },
  {
   "cell_type": "code",
   "execution_count": null,
   "id": "bf62c43c-238c-4dd2-af58-65a7fd1e059e",
   "metadata": {},
   "outputs": [],
   "source": [
    "# for obj,v3_day in zip(ef_scv_stochastic, v3_days):\n",
    "#     pickle.dump( obj, open( \"data/processed/PfDB52e/\"+v3_day+\"/scv_velocities.p\", \"wb\" ) )\n"
   ]
  },
  {
   "cell_type": "code",
   "execution_count": null,
   "id": "d902a302-62dd-4216-a973-c2a470a7844a",
   "metadata": {},
   "outputs": [],
   "source": [
    "# for obj,v3_day in zip(ef_qcd_bf2_scv, v3_days_fnl):\n",
    "#     pickle.dump( obj, open( \"data/processed/PfDB52e/\"+v3_day+\"/scv_velocities.p\", \"wb\" ) )"
   ]
  },
  {
   "cell_type": "code",
   "execution_count": null,
   "id": "d02a35af-b040-453b-a698-8ab4ba057138",
   "metadata": {},
   "outputs": [],
   "source": [
    "# # Load the dictionary back from the pickle file.\n",
    "# ef_scv_stochastic_loaded=[]\n",
    "# for v3_day in v3_days:\n",
    "#     x = pickle.load(open( \"data/processed/PfDB52e/\"+v3_day+\"/scv_velocities.p\", \"rb\" ) )\n",
    "#     ef_scv_stochastic_loaded.append(x)\n"
   ]
  },
  {
   "cell_type": "code",
   "execution_count": null,
   "id": "2fdb12e6-39e5-479d-9265-df627b88d86a",
   "metadata": {},
   "outputs": [],
   "source": [
    "# g.set_terminal_states({\"gametocyte (developing)\": ef_qcd_bf_d5_scv[ef_qcd_bf_d5_scv.obs[\"Stage\"] == \"gametocyte (developing)\"].obs_names, \"late trophozoite\": ef_qcd_bf_d5_scv[ef_qcd_bf_d5_scv.obs[\"Stage\"] == \"late trophozoite\"].obs_names})"
   ]
  },
  {
   "cell_type": "code",
   "execution_count": null,
   "id": "0433acd3-10ca-459a-97d3-9633c8dc2df0",
   "metadata": {
    "tags": []
   },
   "outputs": [],
   "source": [
    "for g in g_bf:\n",
    "    g.compute_absorption_probabilities()"
   ]
  },
  {
   "cell_type": "code",
   "execution_count": null,
   "id": "0f073afa-9ca7-4c12-afc8-15fc03661886",
   "metadata": {
    "tags": []
   },
   "outputs": [],
   "source": [
    "for g in g_bf:\n",
    "    g.plot_absorption_probabilities(components ='2,3')"
   ]
  },
  {
   "cell_type": "code",
   "execution_count": null,
   "id": "56e845f6-2e72-4c1b-b2b0-8367b38157c4",
   "metadata": {},
   "outputs": [],
   "source": [
    "early_gam_drivers = []\n",
    "for g in g_bf:\n",
    "    x = g.compute_lineage_drivers(lineages=\"Gametocyte\", return_drivers=True, cluster_key = 'stage_bfs', clusters= ['Gametocytes (committed)', 'early trophozoite'])\n",
    "    early_gam_drivers.append(x)"
   ]
  },
  {
   "cell_type": "code",
   "execution_count": null,
   "id": "394c4661-f0b7-439d-acae-6d9741b3b2d5",
   "metadata": {},
   "outputs": [],
   "source": []
  },
  {
   "cell_type": "code",
   "execution_count": null,
   "id": "68756257-a949-4c1d-ab5f-90e7229c3c3d",
   "metadata": {
    "tags": []
   },
   "outputs": [],
   "source": [
    "early_gam_drivers[0].index.tolist()[:10]"
   ]
  },
  {
   "cell_type": "code",
   "execution_count": null,
   "id": "c6aedf13-25a5-47f0-a3fc-d19fd2ebc647",
   "metadata": {},
   "outputs": [],
   "source": [
    "early_gam_drivers[1]"
   ]
  },
  {
   "cell_type": "markdown",
   "id": "2aeeddd2-c674-4b45-afea-0a85ce7edf97",
   "metadata": {},
   "source": [
    "Computing driver genes in the gametocyte(branching) cluster that are driving cells to the male cluster"
   ]
  },
  {
   "cell_type": "code",
   "execution_count": null,
   "id": "cde44971-aa18-40c0-ac49-3e50bcb30bf6",
   "metadata": {
    "tags": []
   },
   "outputs": [],
   "source": [
    "early_gam_drivers[1]"
   ]
  },
  {
   "cell_type": "code",
   "execution_count": null,
   "id": "991b3a8d-eb84-4f89-a9ea-c73411f11a1b",
   "metadata": {},
   "outputs": [],
   "source": [
    "for g in g_bf:\n",
    "    g.plot_lineage_drivers(\"Gametocyte\", n_genes=4, components='2,3')"
   ]
  },
  {
   "cell_type": "markdown",
   "id": "fc6cf154-a561-436d-9757-dab5d3663c74",
   "metadata": {},
   "source": [
    "Plotting top 4 driver genes per timepoint"
   ]
  },
  {
   "cell_type": "markdown",
   "id": "722a4300-b4ce-4bb7-affd-c8cb5359fded",
   "metadata": {},
   "source": [
    "Upset plots to assess driver genes in branching gams that is shared between day10 new and day 10 old datasets and the 2 datasets combined using retaining only genes positively correlated to absorption probabilities towards terminal males where P < 0.001 as qvalue is NA https://github.com/theislab/cellrank/issues/819"
   ]
  },
  {
   "cell_type": "markdown",
   "id": "fe71ae82-78f7-4be6-a0a6-fa6ae36d08ee",
   "metadata": {},
   "source": [
    "Phase potraits highlighting behaviour of gene in 'Gametocytes (branching)' cluster. We should start seeing activation atleast in cells that will then on become female."
   ]
  },
  {
   "cell_type": "code",
   "execution_count": null,
   "id": "ede21fd1-eed1-43cf-9d1b-0722618038d4",
   "metadata": {
    "tags": []
   },
   "outputs": [],
   "source": [
    "for obj, dg in zip(ef_scv_stochastic, early_gam_drivers):\n",
    "    scv.pl.scatter(obj, dg.index[0:4].to_list(), color=['stage_bfs'], add_outline=['Gametocytes (committed)','Gametocytes (developing)','Gametocytes (branching)'])"
   ]
  },
  {
   "cell_type": "markdown",
   "id": "b98621e4-993a-488e-95b3-2e0f5c60f4ec",
   "metadata": {},
   "source": [
    "Phase potraits highlighting behaviour of gene in 'Gametocytes (early male)','Gametocytes (late male)' cluster. We should see activation"
   ]
  },
  {
   "cell_type": "code",
   "execution_count": null,
   "id": "620e4e4b-930d-4b89-9079-ed60493f7b56",
   "metadata": {
    "tags": []
   },
   "outputs": [],
   "source": [
    "# for obj, dg in zip(ef_qcd_bf2_scv, branching_gam_drivers_m):\n",
    "#     scv.pl.scatter(obj, dg.index[0:5].to_list(), color='anno_300cells', add_outline=['Gametocytes (early male)','Gametocytes (late male)'])"
   ]
  },
  {
   "cell_type": "code",
   "execution_count": null,
   "id": "1a1eef46-53e6-4f80-a00e-03fc1e8ee335",
   "metadata": {},
   "outputs": [],
   "source": [
    "early_gam_drivers_in_lReT_stbl = []"
   ]
  },
  {
   "cell_type": "code",
   "execution_count": null,
   "id": "abd19df9-093b-4745-b1f1-a64b1e372fd1",
   "metadata": {},
   "outputs": [],
   "source": [
    "v3_days_fnl"
   ]
  },
  {
   "cell_type": "markdown",
   "id": "84fb221b-e3db-4fc6-ab2e-dbc72b00c6c1",
   "metadata": {},
   "source": [
    "Summary table of the female driver genes in the 'Gametocytes (committed and developing)' for all timepoints"
   ]
  },
  {
   "cell_type": "code",
   "execution_count": null,
   "id": "fd3ea3f1-843c-4fd4-b8ce-60d9d1967c77",
   "metadata": {
    "tags": []
   },
   "outputs": [],
   "source": [
    "for i, dg in enumerate(early_gam_drivers):\n",
    "    df =dg.copy()\n",
    "    # df = dg[(dg['Late female_pval'] < 0.001) & (dg['Late female_corr'] > 0)]\n",
    "    # df.columns = df.columns.str.replace('Late female', 'Female')\n",
    "    # df['Female composition'] = 'Late'\n",
    "    early_gam_drivers_in_lReT_stbl.append(df)"
   ]
  },
  {
   "cell_type": "code",
   "execution_count": null,
   "id": "78b9bb80-e648-49f5-9d7b-ded39dcf046c",
   "metadata": {},
   "outputs": [],
   "source": [
    "early_gam_drivers_in_lReT = pd.concat(early_gam_drivers_in_lReT_stbl, keys=v3_days_all_fnl).reset_index(level=0).rename(columns={'level_0':'Timepoint'})"
   ]
  },
  {
   "cell_type": "code",
   "execution_count": null,
   "id": "d2b1179c-3e12-46ed-a769-617166a60869",
   "metadata": {
    "tags": []
   },
   "outputs": [],
   "source": [
    "f_d_g_freq = pd.DataFrame(pd.concat(early_gam_drivers_in_lReT_stbl, keys=v3_days_all_fnl).groupby(level=[1]).size()).rename(columns={0 : 'Timepoint_freq'})"
   ]
  },
  {
   "cell_type": "code",
   "execution_count": null,
   "id": "06773e2a-ab80-4e14-892d-347cae026162",
   "metadata": {},
   "outputs": [],
   "source": [
    "early_gam_drivers_in_lReT_freq = pd.merge(early_gam_drivers_in_lReT, f_d_g_freq, how = 'left', left_index=True, right_index=True)"
   ]
  },
  {
   "cell_type": "code",
   "execution_count": null,
   "id": "2ac995f1-2e7e-44f6-a627-7dfcb3ba3d92",
   "metadata": {
    "tags": []
   },
   "outputs": [],
   "source": [
    "early_gam_drivers_in_lReT_PfDB_stocha =pd.merge(early_gam_drivers_in_lReT_freq, Pf_genes_cln, how='left', left_index=True, right_index=True)"
   ]
  },
  {
   "cell_type": "code",
   "execution_count": null,
   "id": "76ac6019-9de6-416f-aabf-72e5ec9e46bc",
   "metadata": {},
   "outputs": [],
   "source": [
    "early_gam_drivers_in_lReT_PfDB_stocha.to_csv(processed_data + '../RoadtoUMAP/early_gam_drivers_in_lReT_PfDB_stocha.csv')"
   ]
  },
  {
   "cell_type": "code",
   "execution_count": null,
   "id": "7776ad47-bb52-4d8a-9a3e-db6166256221",
   "metadata": {},
   "outputs": [],
   "source": [
    "early_gam_drivers_in_lReT_PfDB_stocha"
   ]
  },
  {
   "cell_type": "code",
   "execution_count": null,
   "id": "02bf3683-cd3d-4f93-9b9a-6353063997a5",
   "metadata": {},
   "outputs": [],
   "source": [
    "early_gam_drivers_in_RT = []\n",
    "for i, dg in enumerate(early_gam_drivers):\n",
    "    sig_gns = set(dg[(dg['Gametocyte_qval'] < 0.001) & (dg['Gametocyte_corr'] > 0)].index.to_list())\n",
    "    early_gam_drivers_in_RT.append(sig_gns)"
   ]
  },
  {
   "cell_type": "code",
   "execution_count": null,
   "id": "9f379d2c-988c-4a8c-85cd-779951df29a1",
   "metadata": {},
   "outputs": [],
   "source": [
    "set_names= v3_days_all_fnl\n"
   ]
  },
  {
   "cell_type": "code",
   "execution_count": null,
   "id": "9a8423ee-1542-4a94-b29d-81fc0dfa45f7",
   "metadata": {},
   "outputs": [],
   "source": [
    "all_elems = list(set().union(*early_gam_drivers_in_RT))\n",
    "\n",
    "df = pd.DataFrame([[e in st for st in early_gam_drivers_in_RT] for e in all_elems], columns = set_names)\n",
    "\n",
    "df_up = df.groupby(set_names).size()"
   ]
  },
  {
   "cell_type": "code",
   "execution_count": null,
   "id": "f2187fbf-8589-401c-896a-559918f0da02",
   "metadata": {},
   "outputs": [],
   "source": [
    "plot(df_up, orientation='horizontal')"
   ]
  },
  {
   "cell_type": "code",
   "execution_count": null,
   "id": "d4d73a70-f48f-4463-9b18-b55eff7e42d9",
   "metadata": {},
   "outputs": [],
   "source": [
    "early_schizont_drivers = []\n",
    "for g in g_bf:\n",
    "    x = g.compute_lineage_drivers(lineages=\"Early schizont\", return_drivers=True, cluster_key = 'stage_bfs', clusters= ['Gametocytes (committed)', 'early trophozoite'])\n",
    "    early_schizont_drivers.append(x)"
   ]
  },
  {
   "cell_type": "code",
   "execution_count": null,
   "id": "843811d5-c51a-4eb8-9f3a-b394cf3e9f6b",
   "metadata": {},
   "outputs": [],
   "source": [
    "early_schizont_drivers[0]"
   ]
  },
  {
   "cell_type": "code",
   "execution_count": null,
   "id": "016bd912-8eaa-449a-b5f0-74c3773c1cbe",
   "metadata": {},
   "outputs": [],
   "source": [
    "early_schizont_drivers[0].index.tolist()[:10]"
   ]
  },
  {
   "cell_type": "code",
   "execution_count": null,
   "id": "2e2da5e6-e209-45c5-b00c-0dd61843562f",
   "metadata": {
    "tags": []
   },
   "outputs": [],
   "source": [
    "for g in g_bf:\n",
    "    g.plot_lineage_drivers(\"Early schizont\", n_genes=4, components='2,3')"
   ]
  },
  {
   "cell_type": "code",
   "execution_count": null,
   "id": "c3d04cab-e925-423e-bf1d-e6ec06a7693a",
   "metadata": {
    "tags": []
   },
   "outputs": [],
   "source": [
    "for obj, dg in zip(ef_scv_stochastic, early_schizont_drivers):\n",
    "    scv.pl.scatter(obj, dg.index[0:4].to_list(), color=['Stage'], add_outline=['late ring','early schizont'])"
   ]
  },
  {
   "cell_type": "code",
   "execution_count": null,
   "id": "0a1be4fd-a933-423f-ab36-3043cfa60b19",
   "metadata": {},
   "outputs": [],
   "source": []
  },
  {
   "cell_type": "code",
   "execution_count": null,
   "id": "9170da53-3a08-48f9-b0e4-5c5d84251043",
   "metadata": {},
   "outputs": [],
   "source": [
    "early_schizont_drivers_in_lReT_stbl = []"
   ]
  },
  {
   "cell_type": "markdown",
   "id": "5580b364-9c10-435f-8bb0-4cbdd12b7c26",
   "metadata": {},
   "source": [
    "Summary table of the female driver genes in the 'Gametocytes (committed and developing)' for all timepoints"
   ]
  },
  {
   "cell_type": "code",
   "execution_count": null,
   "id": "5be2ffc5-bb81-4729-ac9f-434cbe8d679f",
   "metadata": {
    "tags": []
   },
   "outputs": [],
   "source": [
    "for i, dg in enumerate(early_schizont_drivers):\n",
    "    df =dg.copy()\n",
    "    # df = dg[(dg['Late female_qval'] < 0.001) & (dg['Late female_corr'] > 0)]\n",
    "    # df.columns = df.columns.str.replace('Late female', 'Female')\n",
    "    # df['Female composition'] = 'Late'\n",
    "    early_schizont_drivers_in_lReT_stbl.append(df)"
   ]
  },
  {
   "cell_type": "code",
   "execution_count": null,
   "id": "791df6dd-e0a4-4705-8ab8-11887c3442fc",
   "metadata": {},
   "outputs": [],
   "source": [
    "early_schizont_drivers_in_lReT = pd.concat(early_schizont_drivers_in_lReT_stbl, keys=v3_days_all_fnl).reset_index(level=0).rename(columns={'level_0':'Timepoint'})"
   ]
  },
  {
   "cell_type": "code",
   "execution_count": null,
   "id": "ccfc72cd-fc55-470d-9521-8a0fc930d33a",
   "metadata": {
    "tags": []
   },
   "outputs": [],
   "source": [
    "f_d_g_freq = pd.DataFrame(pd.concat(early_schizont_drivers_in_lReT_stbl, keys=v3_days_all_fnl).groupby(level=[1]).size()).rename(columns={0 : 'Timepoint_freq'})"
   ]
  },
  {
   "cell_type": "code",
   "execution_count": null,
   "id": "8422fc67-171f-423d-b284-a3965c51de32",
   "metadata": {},
   "outputs": [],
   "source": [
    "early_schizont_drivers_in_lReT_freq = pd.merge(early_schizont_drivers_in_lReT, f_d_g_freq, how = 'left', left_index=True, right_index=True)"
   ]
  },
  {
   "cell_type": "code",
   "execution_count": null,
   "id": "9c6d822b-e61b-4581-86eb-c2bcddcebb60",
   "metadata": {
    "tags": []
   },
   "outputs": [],
   "source": [
    "early_schizont_drivers_in_lReT_PfDB_stocha =pd.merge(early_schizont_drivers_in_lReT_freq, Pf_genes_cln, how='left', left_index=True, right_index=True)"
   ]
  },
  {
   "cell_type": "code",
   "execution_count": null,
   "id": "7487ec2f-da10-4c76-86a8-7894be1091e7",
   "metadata": {},
   "outputs": [],
   "source": [
    "early_schizont_drivers_in_lReT_PfDB_stocha.to_csv(processed_data + '../RoadtoUMAP/early_schizont_drivers_in_lReT_PfDB_stocha.csv')"
   ]
  },
  {
   "cell_type": "code",
   "execution_count": null,
   "id": "5ac54bbb-2a0c-4ffe-9ad8-98eba5118a1e",
   "metadata": {
    "tags": []
   },
   "outputs": [],
   "source": [
    "early_schizont_drivers_in_lReT_PfDB_stocha"
   ]
  },
  {
   "cell_type": "code",
   "execution_count": null,
   "id": "5ed3b2c9-ad50-4ac8-ba03-b41d8ce42b51",
   "metadata": {},
   "outputs": [],
   "source": [
    "early_schizont_drivers_in_RT = []\n",
    "for i, dg in enumerate(early_schizont_drivers):\n",
    "    sig_gns = set(dg[(dg['Early schizont_qval'] < 0.001) & (dg['Early schizont_corr'] > 0.2)].index.to_list())\n",
    "    early_schizont_drivers_in_RT.append(sig_gns)"
   ]
  },
  {
   "cell_type": "code",
   "execution_count": null,
   "id": "e5959cac-fca2-44df-a459-4d48064cde95",
   "metadata": {},
   "outputs": [],
   "source": [
    "set_names= v3_days_all_fnl\n"
   ]
  },
  {
   "cell_type": "code",
   "execution_count": null,
   "id": "2809f75c-521b-4407-81ca-585173ba5162",
   "metadata": {},
   "outputs": [],
   "source": [
    "all_elems = list(set().union(*early_schizont_drivers_in_RT))\n",
    "\n",
    "df = pd.DataFrame([[e in st for st in early_schizont_drivers_in_RT] for e in all_elems], columns = set_names)\n",
    "\n",
    "df_up = df.groupby(set_names).size()"
   ]
  },
  {
   "cell_type": "code",
   "execution_count": null,
   "id": "8e5c846d-c3bc-403e-8a9b-88ccf6a99d48",
   "metadata": {},
   "outputs": [],
   "source": [
    "plot(df_up, orientation='horizontal')"
   ]
  },
  {
   "cell_type": "code",
   "execution_count": null,
   "id": "ff43767f-514e-4eab-add1-bbdd32918c38",
   "metadata": {},
   "outputs": [],
   "source": [
    "scv.pl.scatter(ef_scv_stochastic[0], ['PF3D7_0802100', 'PF3D7_1456000', 'PF3D7_0613800', 'PF3D7_1102500', 'PF3D7_1102600', 'PF3D7_1477700'], color=['Stage'], add_outline=['early trophozoite','early schizont'])"
   ]
  },
  {
   "cell_type": "code",
   "execution_count": null,
   "id": "d9c056a8-379e-442e-8c71-9c62f2f572a7",
   "metadata": {},
   "outputs": [],
   "source": [
    "scv.pl.scatter(ef_scv_stochastic[0], ['PF3D7_0802100', 'PF3D7_1456000', 'PF3D7_0613800', 'PF3D7_1102500', 'PF3D7_1102600', 'PF3D7_1477700'], color=['Stage'], add_outline=['gametocyte (developing)'])"
   ]
  },
  {
   "cell_type": "code",
   "execution_count": null,
   "id": "09dcde11-3b49-458c-84c4-a2d1b13769ca",
   "metadata": {},
   "outputs": [],
   "source": []
  },
  {
   "cell_type": "code",
   "execution_count": null,
   "id": "5c4afc51-d3d4-497f-ab70-591a62714649",
   "metadata": {
    "tags": []
   },
   "outputs": [],
   "source": [
    "sc.pl.umap(ef_scv_stochastic[0], color='assignment2')"
   ]
  },
  {
   "cell_type": "code",
   "execution_count": null,
   "id": "4de2a500-9636-4fcc-b686-14113e70df0d",
   "metadata": {},
   "outputs": [],
   "source": [
    "ef_scv_stochastic[1].obs.anno_300cells"
   ]
  },
  {
   "cell_type": "markdown",
   "id": "24c2fd8d-1eee-49e3-bb20-04e9fb8d0276",
   "metadata": {
    "tags": []
   },
   "source": [
    "## Male female driver analysis"
   ]
  },
  {
   "cell_type": "markdown",
   "id": "686086d8-af15-4dc0-a82c-743170bb55dc",
   "metadata": {},
   "source": [
    "Assessing genes involved in fate determination towards the male and female clusters with higher resolution using chunks generated by pseudotime"
   ]
  },
  {
   "cell_type": "markdown",
   "id": "9dc202d0-e431-4f66-b387-b1ee40629d76",
   "metadata": {},
   "source": [
    "day 5 has no late female and very few late male"
   ]
  },
  {
   "cell_type": "code",
   "execution_count": null,
   "id": "5446ce89-7fd5-4f1a-baee-750db62ff634",
   "metadata": {
    "tags": []
   },
   "outputs": [],
   "source": [
    "sc.pl.umap(ef_scv_stochastic[0], color='assignment2', components = '2,3', add_outline='10')"
   ]
  },
  {
   "cell_type": "code",
   "execution_count": null,
   "id": "54499a9f-d145-4c96-b856-27aee11a2310",
   "metadata": {},
   "outputs": [],
   "source": [
    "sc.pl.umap(ef_scv_stochastic[0], color='Stage', components = '2,3')"
   ]
  },
  {
   "cell_type": "code",
   "execution_count": null,
   "id": "4f6c39b0-9454-442e-9963-bdb90751f4e3",
   "metadata": {},
   "outputs": [],
   "source": [
    "# for g in g_bf:\n",
    "#     g.compute_macrostates(n_states=8, cluster_key=\"stage_bfs\")\n",
    "#     g.plot_macrostates(components = '2,3')"
   ]
  },
  {
   "cell_type": "code",
   "execution_count": null,
   "id": "7e4d9a51-a92e-4dac-959b-c8b8be478aab",
   "metadata": {},
   "outputs": [],
   "source": [
    "for i, g in enumerate(g_bf):\n",
    "    if i == 0:\n",
    "        g.compute_macrostates(n_states=4, cluster_key=\"Stage\")\n",
    "        g.plot_macrostates(components = '2,3')\n",
    "    else:\n",
    "        g.compute_macrostates(n_states=8, cluster_key=\"Stage\")\n",
    "        g.plot_macrostates(components = '2,3')\n"
   ]
  },
  {
   "cell_type": "code",
   "execution_count": null,
   "id": "b54cbb94-0e12-4fc3-97b1-3c6c3c372c6b",
   "metadata": {},
   "outputs": [],
   "source": [
    "ef_scv_stochastic[0].obs.value_counts('Stage')"
   ]
  },
  {
   "cell_type": "markdown",
   "id": "803fc6b8-008b-4e22-b042-7fcb09a25396",
   "metadata": {},
   "source": [
    "Manually setting terminal states\n",
    "Combining late males and early males as terminal state for day 5 and using late male for all the other timepoints\n",
    "Using Early female as terminal state for day 5 and using late female for all the other days"
   ]
  },
  {
   "cell_type": "code",
   "execution_count": null,
   "id": "d8db13d8-61ee-48b4-935a-e97c2130f9e8",
   "metadata": {},
   "outputs": [],
   "source": [
    "for g in g_bf:\n",
    "    g.set_terminal_states_from_macrostates(names= {\"gametocyte (male)\":\"Late male\", \"gametocyte (female)\":\"Late female\", \"early schizont\":\"Early schizont\"}, n_cells=1700) "
   ]
  },
  {
   "cell_type": "code",
   "execution_count": null,
   "id": "1ff84b4c-4f19-44bc-9804-9727c45bcfde",
   "metadata": {},
   "outputs": [],
   "source": [
    "for g in g_bf:\n",
    "    g.set_terminal_states_from_macrostates(names= {\"gametocyte (male)\":\"Late male\", \"gametocyte (female)\":\"Late female\"}, n_cells=1700) "
   ]
  },
  {
   "cell_type": "code",
   "execution_count": null,
   "id": "d1b58cd2-6720-4134-b6d5-dc471f063c9e",
   "metadata": {
    "tags": []
   },
   "outputs": [],
   "source": [
    "# for g in g_bf:\n",
    "#     g.set_terminal_states_from_macrostates(names= {\"Gametocytes (late male)\":\"Late male\", \"Gametocytes (late female)\":\"Late female\", \"early schizont\":\"Early schizont\"}, n_cells=1700) "
   ]
  },
  {
   "cell_type": "code",
   "execution_count": null,
   "id": "29e864ba-3aa4-4045-916e-0af8a331f756",
   "metadata": {},
   "outputs": [],
   "source": [
    "for g in g_bf:\n",
    "        g.compute_absorption_probabilities()"
   ]
  },
  {
   "cell_type": "code",
   "execution_count": null,
   "id": "2554f9fe-17e1-425d-be44-465da7bceb58",
   "metadata": {},
   "outputs": [],
   "source": [
    "# for g in g_bf:\n",
    "#     g.set_terminal_states({\"Late male\": ef_scv_stochastic[0][ef_scv_stochastic[0].obs.anno_300cells.isin([\"Gametocytes (early male)\", \"Gametocytes (late male)\"])].obs_names, \n",
    "#                            \"Late female\": ef_scv_stochastic[0][ef_scv_stochastic[0].obs.anno_300cells.isin([\"Gametocytes (early female)\", \"Gametocytes (late female)\"])].obs_names, \n",
    "#                            \"Early schizont\": ef_scv_stochastic[0][ef_scv_stochastic[0].obs[\"Stage\"].isin([\"early schizont\",])].obs_names\n",
    "#                           })        "
   ]
  },
  {
   "cell_type": "code",
   "execution_count": null,
   "id": "e5440271-b9fa-4703-b4d2-e45ca85ec108",
   "metadata": {
    "tags": []
   },
   "outputs": [],
   "source": [
    "for g in g_bf:\n",
    "    g.plot_absorption_probabilities(components='2,3')"
   ]
  },
  {
   "cell_type": "code",
   "execution_count": null,
   "id": "415f9711-6257-40bc-8480-d2e4cce029ba",
   "metadata": {},
   "outputs": [],
   "source": [
    "ef_scv_stochastic[0].obs.clusters_gradients"
   ]
  },
  {
   "cell_type": "markdown",
   "id": "1c5122e5-e154-4283-894b-c840c8b506ea",
   "metadata": {
    "tags": []
   },
   "source": [
    "### Computing driver genes in the gametocyte(branching) cluster that are driving cells to the male and female cluster"
   ]
  },
  {
   "cell_type": "markdown",
   "id": "b72c2c9d-89ca-4615-adbd-fb3d55cc9ff4",
   "metadata": {},
   "source": [
    "#### To the male"
   ]
  },
  {
   "cell_type": "code",
   "execution_count": null,
   "id": "3a3d893d-b04a-46da-a4fd-e1672301a417",
   "metadata": {},
   "outputs": [],
   "source": [
    "branching_gam_drivers_m = []\n",
    "for i, g in enumerate(g_bf):\n",
    "    branching_gam_drivers_m.append(g.compute_lineage_drivers(lineages=\"Late male\", return_drivers=True, cluster_key = 'stage_bfs', clusters= [\"Gametocytes (developing)\",'Gametocytes (branching)']))"
   ]
  },
  {
   "cell_type": "code",
   "execution_count": null,
   "id": "678eb4d6-933f-4cf0-a93e-93f12db8fb1c",
   "metadata": {},
   "outputs": [],
   "source": [
    "branching_gam_drivers_m[0]"
   ]
  },
  {
   "cell_type": "code",
   "execution_count": null,
   "id": "d45e50ec-ac9e-4d87-be01-9e4e23cdb369",
   "metadata": {},
   "outputs": [],
   "source": [
    "branching_gam_drivers_m[1]"
   ]
  },
  {
   "cell_type": "code",
   "execution_count": null,
   "id": "0c98fc9d-108b-424b-8d8a-a96895611e76",
   "metadata": {},
   "outputs": [],
   "source": [
    "branching_gam_drivers_m[1]"
   ]
  },
  {
   "cell_type": "markdown",
   "id": "ac8c1d96-46ee-45de-8ee9-47be8a5434f0",
   "metadata": {},
   "source": [
    "Plotting top 4 driver genes per timepoint"
   ]
  },
  {
   "cell_type": "code",
   "execution_count": null,
   "id": "b95766ef-c4f7-44dd-9329-9e4c95170a92",
   "metadata": {
    "tags": []
   },
   "outputs": [],
   "source": [
    "for i, g in enumerate(g_bf):\n",
    "    g.plot_lineage_drivers(\"Late male\", n_genes=4, components='2,3') "
   ]
  },
  {
   "cell_type": "markdown",
   "id": "aef0538e-8a67-4019-b9b0-ef01c04e21d4",
   "metadata": {},
   "source": [
    "Upset plots to assess driver genes in branching gams that is shared between day10 new and day 10 old datasets and the 2 datasets combined using retaining only genes positively correlated to absorption probabilities towards terminal males where P < 0.001 as qvalue is NA https://github.com/theislab/cellrank/issues/819"
   ]
  },
  {
   "cell_type": "code",
   "execution_count": null,
   "id": "1ed96949-aad3-43ec-a977-086f9d883de2",
   "metadata": {},
   "outputs": [],
   "source": [
    "branching_gam_drivers_m[1]['Late male_corr'].notna()"
   ]
  },
  {
   "cell_type": "code",
   "execution_count": null,
   "id": "294ff788-aff5-4bf5-b9c9-93d3e91161c5",
   "metadata": {},
   "outputs": [],
   "source": [
    "for obj, dg in zip(ef_scv_stochastic, branching_gam_drivers_m):\n",
    "    scv.pl.scatter(obj, dg.index[0:5].to_list(), color=['stage_bfs'], add_outline=['Gametocytes (commited)','Gametocytes (developing)','Gametocytes (branching)'])"
   ]
  },
  {
   "cell_type": "markdown",
   "id": "6be437ff-ffc6-483e-bc6f-ba46dacb392c",
   "metadata": {},
   "source": [
    "Phase potraits highlighting behaviour of gene in 'Gametocytes (branching)' cluster. We should start seeing activation atleast in cells that will then on become female."
   ]
  },
  {
   "cell_type": "code",
   "execution_count": null,
   "id": "3868ea17-59ea-42c4-b5d4-de63a26f0188",
   "metadata": {
    "tags": []
   },
   "outputs": [],
   "source": [
    "for obj, dg in zip(ef_scv_stochastic, branching_gam_drivers_m):\n",
    "    scv.pl.scatter(obj, dg.index[0:5].to_list(), color=['stage_bfs'], add_outline=['Gametocytes (early male)','Gametocytes (late male)'])"
   ]
  },
  {
   "cell_type": "markdown",
   "id": "a2362f7a-3b91-4348-a450-827c0296ee15",
   "metadata": {},
   "source": [
    "Phase potraits highlighting behaviour of gene in 'Gametocytes (early male)','Gametocytes (late male)' cluster. We should see activation"
   ]
  },
  {
   "cell_type": "code",
   "execution_count": null,
   "id": "4fb7ad22-85ee-4c5d-a65e-a9625a8c1d46",
   "metadata": {},
   "outputs": [],
   "source": [
    "for obj, dg in zip(ef_scv_stochastic, branching_gam_drivers_m):\n",
    "    scv.pl.scatter(obj, dg.index[0:5].to_list(), color='stage_bfs', add_outline=['Gametocytes (late female)'])"
   ]
  },
  {
   "cell_type": "code",
   "execution_count": null,
   "id": "e8bd21e8-47a4-40f1-816b-5f5a0ef0b8b0",
   "metadata": {},
   "outputs": [],
   "source": [
    "male_driver_in_gambranch = []\n",
    "for i, dg in enumerate(branching_gam_drivers_m):\n",
    "    sig_gns = set(dg[(dg['Late male_qval'] < 0.001) & (dg['Late male_corr'] > 0.2)].index.to_list())\n",
    "    male_driver_in_gambranch.append(sig_gns)"
   ]
  },
  {
   "cell_type": "code",
   "execution_count": null,
   "id": "47b315e6-f96f-4a42-97a3-40ffef1832d0",
   "metadata": {},
   "outputs": [],
   "source": [
    "set_names= v3_days_all_fnl\n"
   ]
  },
  {
   "cell_type": "code",
   "execution_count": null,
   "id": "f943f17f-b24f-437a-9a9b-2d26e39706cb",
   "metadata": {},
   "outputs": [],
   "source": [
    "all_elems = list(set().union(*male_driver_in_gambranch))\n",
    "\n",
    "df = pd.DataFrame([[e in st for st in male_driver_in_gambranch] for e in all_elems], columns = set_names)\n",
    "\n",
    "df_up = df.groupby(set_names).size()"
   ]
  },
  {
   "cell_type": "code",
   "execution_count": null,
   "id": "2ce49c84-bb13-4134-ab23-bd57a2a42de6",
   "metadata": {},
   "outputs": [],
   "source": [
    "plot(df_up, orientation='horizontal')"
   ]
  },
  {
   "cell_type": "code",
   "execution_count": null,
   "id": "b4cf3201-8cec-4321-a33d-792295539b8d",
   "metadata": {},
   "outputs": [],
   "source": [
    "male_driver_in_gambranch_sgnf = []"
   ]
  },
  {
   "cell_type": "code",
   "execution_count": null,
   "id": "f54a5694-f33e-43c2-af56-90d962a5693a",
   "metadata": {
    "tags": []
   },
   "outputs": [],
   "source": [
    "for i, dg in enumerate(branching_gam_drivers_m):\n",
    "    df=dg.copy()\n",
    "    # df = dg[(dg['Late male_qval'] < 0.001) & (dg['Late male_corr'] > 0)]\n",
    "    df.columns = df.columns.str.replace('Late male', 'Male')\n",
    "    df['Male composition'] = 'Late'\n",
    "    male_driver_in_gambranch_sgnf.append(df)"
   ]
  },
  {
   "cell_type": "code",
   "execution_count": null,
   "id": "287b7e2c-b0fd-42b0-8a9e-c22e3cb0edcf",
   "metadata": {},
   "outputs": [],
   "source": [
    "male_drivers_in_gambranch = pd.concat(male_driver_in_gambranch_sgnf, keys=v3_days_all_fnl).reset_index(level=0).rename(columns={'level_0':'Timepoint'})"
   ]
  },
  {
   "cell_type": "code",
   "execution_count": null,
   "id": "fcf5f397-2510-4dc9-aa33-d13d9371dcd5",
   "metadata": {
    "tags": []
   },
   "outputs": [],
   "source": [
    "m_d_g_freq = pd.DataFrame(pd.concat(male_driver_in_gambranch_sgnf, keys=v3_days_all_fnl).groupby(level=[1]).size()).rename(columns={0 : 'Timepoint_freq'})"
   ]
  },
  {
   "cell_type": "code",
   "execution_count": null,
   "id": "c0e29752-f9ce-44b5-a37b-e27ce0007cce",
   "metadata": {},
   "outputs": [],
   "source": [
    "male_drivers_in_gambranch_freq = pd.merge(male_drivers_in_gambranch, m_d_g_freq, how = 'left', left_index=True, right_index=True)"
   ]
  },
  {
   "cell_type": "code",
   "execution_count": null,
   "id": "5796dfdf-d75d-4266-b716-4801097df3e4",
   "metadata": {
    "tags": []
   },
   "outputs": [],
   "source": [
    "male_drivers_in_gambranch_PfDB_stocha =pd.merge(male_drivers_in_gambranch_freq, Pf_genes_cln, how='left', left_index=True, right_index=True)"
   ]
  },
  {
   "cell_type": "code",
   "execution_count": null,
   "id": "4c47d111-9b38-4258-9bca-5b35fcf41f6f",
   "metadata": {},
   "outputs": [],
   "source": [
    "male_drivers_in_gambranch_PfDB_stocha.to_csv(processed_data + '../RoadtoUMAP/male_drivers_in_gambranch_PfDB_stocha.csv')"
   ]
  },
  {
   "cell_type": "code",
   "execution_count": null,
   "id": "73faf72e-f11b-4ce2-82d5-a32b84ba1cc3",
   "metadata": {},
   "outputs": [],
   "source": [
    "male_drivers_in_gambranch_PfDB_stocha.sort_values('Male_corr')"
   ]
  },
  {
   "cell_type": "code",
   "execution_count": null,
   "id": "3bce7df0-7673-48f4-8746-16901f5fd589",
   "metadata": {},
   "outputs": [],
   "source": [
    "# Pf_genes_cln.loc[Pf_genes_cln.Gene.isin(branching_gam_drivers_m[0].index[:5].to_list())]"
   ]
  },
  {
   "cell_type": "markdown",
   "id": "b11a2a0d-d4fa-4150-a063-d377175e408a",
   "metadata": {},
   "source": [
    "#### To the female cluster"
   ]
  },
  {
   "cell_type": "code",
   "execution_count": null,
   "id": "0277d36e-8381-4b17-b1ff-f9805bf1c1df",
   "metadata": {},
   "outputs": [],
   "source": [
    "branching_gam_drivers_f = []\n",
    "for i, g in enumerate(g_bf):\n",
    "    x = g.compute_lineage_drivers(lineages=\"Late female\", return_drivers=True, cluster_key = 'stage_bfs', clusters= [\"Gametocytes (developing)\",'Gametocytes (branching)'])\n",
    "    branching_gam_drivers_f.append(x)"
   ]
  },
  {
   "cell_type": "code",
   "execution_count": null,
   "id": "5719762c-4f40-4b58-b85a-a21e3fb20b54",
   "metadata": {},
   "outputs": [],
   "source": [
    "branching_gam_drivers_f[0]"
   ]
  },
  {
   "cell_type": "code",
   "execution_count": null,
   "id": "dbdb10d8-2872-4100-b22d-e3044929f342",
   "metadata": {},
   "outputs": [],
   "source": [
    "branching_gam_drivers_f[1]"
   ]
  },
  {
   "cell_type": "markdown",
   "id": "793ed866-7406-40cf-864d-c23fdd3b22dd",
   "metadata": {},
   "source": [
    "Plotting top 4 driver genes per timepoint"
   ]
  },
  {
   "cell_type": "code",
   "execution_count": null,
   "id": "614fbce7-8759-4989-b1ec-b587afb79a0e",
   "metadata": {
    "tags": []
   },
   "outputs": [],
   "source": [
    "for i, g in enumerate(g_bf):\n",
    "    g.plot_lineage_drivers(\"Late female\", n_genes=4, components = '2,3') "
   ]
  },
  {
   "cell_type": "code",
   "execution_count": null,
   "id": "9c820e6f-61d8-450b-8384-b0bd8f62e0fc",
   "metadata": {},
   "outputs": [],
   "source": [
    "for obj, dg in zip(ef_scv_stochastic, branching_gam_drivers_f):\n",
    "    scv.pl.umap(obj,  layer='unspliced',  color=dg.index[0:5].to_list(), components='2,3')\n",
    "    # scv.pl.umap(ef_scv_stochastic[], layer)"
   ]
  },
  {
   "cell_type": "code",
   "execution_count": null,
   "id": "0496b009-6d7a-45a2-949a-51ee5f5a655f",
   "metadata": {},
   "outputs": [],
   "source": [
    "for obj, dg in zip(ef_scv_stochastic, branching_gam_drivers_f):\n",
    "    scv.pl.umap(obj,  layer='velocity',  color=dg.index[0:5].to_list(), components='2,3')"
   ]
  },
  {
   "cell_type": "code",
   "execution_count": null,
   "id": "1704a85a-215d-4662-b170-1ae647ec0844",
   "metadata": {
    "tags": []
   },
   "outputs": [],
   "source": [
    "for obj, dg in zip(ef_scv_stochastic, branching_gam_drivers_f):\n",
    "    scv.pl.umap(obj,  layer='velocity',  color=dg.index[0:5].to_list(), components='2,3')"
   ]
  },
  {
   "cell_type": "code",
   "execution_count": null,
   "id": "de7b5562-0131-44e4-ad5a-42170afab443",
   "metadata": {
    "tags": []
   },
   "outputs": [],
   "source": [
    "# for obj, dg in zip(ef_scv_stochastic, branching_gam_drivers_f):\n",
    "#     scv.pl.heatmap(obj,  layer='spliced',  var_names=dg.index.to_list())"
   ]
  },
  {
   "cell_type": "markdown",
   "id": "3aa22f18-20b4-40ad-b703-09b356a4bcb7",
   "metadata": {},
   "source": [
    "Phase potraits highlighting behaviour of gene in 'Gametocytes (branching)' cluster. We should start seeing activation atleast in cells that will then on become female."
   ]
  },
  {
   "cell_type": "markdown",
   "id": "8fb2382b-4e9e-413d-80e6-50f95e53dd53",
   "metadata": {},
   "source": []
  },
  {
   "cell_type": "code",
   "execution_count": null,
   "id": "c28b525d-c398-41f4-a8c9-fe7ed4333582",
   "metadata": {
    "tags": []
   },
   "outputs": [],
   "source": [
    "for obj, dg in zip(ef_scv_stochastic, branching_gam_drivers_f):\n",
    "    scv.pl.scatter(obj, dg.index[0:5].to_list(), color=['stage_bfs'], add_outline=['Gametocytes (branching)'])"
   ]
  },
  {
   "cell_type": "code",
   "execution_count": null,
   "id": "a23c00ae-8475-4bbf-bfec-0393c5b3ae19",
   "metadata": {},
   "outputs": [],
   "source": [
    "# scv.pl.umap(ef_scv_stochastic[3], color='PF3D7_1416400', layer='unspliced', legend_loc='right', components='2,3')"
   ]
  },
  {
   "cell_type": "code",
   "execution_count": null,
   "id": "51540be0-9ea7-49fe-8ef6-16e53e7ddd42",
   "metadata": {},
   "outputs": [],
   "source": [
    "for obj, dg in zip(ef_scv_stochastic, branching_gam_drivers_f):\n",
    "    scv.pl.scatter(obj, dg.index[0:5].to_list(), color=['stage_bfs'], add_outline=['Gametocytes (early female)','Gametocytes (late female)'])"
   ]
  },
  {
   "cell_type": "markdown",
   "id": "9161279b-0a1e-4591-acd5-78b8ce59e8b3",
   "metadata": {},
   "source": [
    "Phase potraits highlighting behaviour of gene in 'Gametocytes (late male)' cluster. Most should be repressed. "
   ]
  },
  {
   "cell_type": "code",
   "execution_count": null,
   "id": "95895f41-0110-4b3f-93f5-d05c66ec5569",
   "metadata": {
    "tags": []
   },
   "outputs": [],
   "source": [
    "for obj, dg in zip(ef_scv_stochastic, branching_gam_drivers_f):\n",
    "    scv.pl.scatter(obj, dg.index[0:5].to_list(), color=['stage_bfs'], add_outline='Gametocytes (late male)')"
   ]
  },
  {
   "cell_type": "markdown",
   "id": "b380b305-9783-401c-9f6d-b42e820cf0bb",
   "metadata": {},
   "source": [
    "Upset plot for female"
   ]
  },
  {
   "cell_type": "markdown",
   "id": "666d683b-197d-483c-b02d-8dc1073833d5",
   "metadata": {},
   "source": [
    "Upset plots to assess driver genes in branching gams that is shared between day10 new and day 10 old datasets and the 2 datasets combined using retaining only genes positively correlated to absorption probabilities towards terminal males where P < 0.001 as qvalue is NA. bug in scvelo https://github.com/theislab/cellrank/issues/819"
   ]
  },
  {
   "cell_type": "code",
   "execution_count": null,
   "id": "194b00e1-6b04-4ff1-9970-9c5b92563752",
   "metadata": {},
   "outputs": [],
   "source": [
    "female_driver_in_gambranch = []\n",
    "for i, dg in enumerate(branching_gam_drivers_f):\n",
    "    sig_gns = set(dg[(dg['Late female_qval'] < 0.0001) & (dg['Late female_corr'] > -0.2)].index.to_list())\n",
    "    female_driver_in_gambranch.append(sig_gns)"
   ]
  },
  {
   "cell_type": "code",
   "execution_count": null,
   "id": "be90a14f-fe3d-44ef-af86-89fc485c29d6",
   "metadata": {
    "jupyter": {
     "outputs_hidden": true
    },
    "tags": []
   },
   "outputs": [],
   "source": []
  },
  {
   "cell_type": "code",
   "execution_count": null,
   "id": "cf390a1d-6e66-4b58-a32a-bdb14ba082eb",
   "metadata": {},
   "outputs": [],
   "source": [
    "set_names= v3_days_all_fnl\n"
   ]
  },
  {
   "cell_type": "code",
   "execution_count": null,
   "id": "c4a2430e-e21a-4941-9830-82b5ad067c9e",
   "metadata": {},
   "outputs": [],
   "source": [
    "all_elems = list(set().union(*female_driver_in_gambranch))\n",
    "\n",
    "df = pd.DataFrame([[e in st for st in female_driver_in_gambranch] for e in all_elems], columns = set_names)\n",
    "\n",
    "df_up = df.groupby(set_names).size()"
   ]
  },
  {
   "cell_type": "code",
   "execution_count": null,
   "id": "5110970d-a69b-4137-865a-236836cd6171",
   "metadata": {},
   "outputs": [],
   "source": [
    "plot(df_up, orientation='horizontal')"
   ]
  },
  {
   "cell_type": "code",
   "execution_count": null,
   "id": "ba0285d2-0a54-480e-9c28-8a3f1d9c4e4a",
   "metadata": {},
   "outputs": [],
   "source": [
    "female_driver_in_gambranch_sgnf = []"
   ]
  },
  {
   "cell_type": "markdown",
   "id": "bab96a86-3896-4221-8a6e-033a643224d7",
   "metadata": {},
   "source": [
    "Summary table of the female driver genes in the 'Gametocytes (branching)' for all timepoints"
   ]
  },
  {
   "cell_type": "code",
   "execution_count": null,
   "id": "54563464-19a9-4c4a-8f6b-356c282ade5e",
   "metadata": {
    "tags": []
   },
   "outputs": [],
   "source": [
    "for i, dg in enumerate(branching_gam_drivers_f):\n",
    "    df=dg.copy()\n",
    "    # df = dg[(dg['Late female_qval'] < 0.001) & (dg['Late female_corr'] > 0)]\n",
    "    df.columns = df.columns.str.replace('Late female', 'Female')\n",
    "    df['Female composition'] = 'Late'\n",
    "    female_driver_in_gambranch_sgnf.append(df)\n",
    "        \n"
   ]
  },
  {
   "cell_type": "code",
   "execution_count": null,
   "id": "63f0e45b-5491-453b-992f-11d89b1bc172",
   "metadata": {},
   "outputs": [],
   "source": [
    "female_drivers_in_gambranch = pd.concat(female_driver_in_gambranch_sgnf, keys=v3_days_all_fnl).reset_index(level=0).rename(columns={'level_0':'Timepoint'})"
   ]
  },
  {
   "cell_type": "code",
   "execution_count": null,
   "id": "e1705d86-d063-4c39-8aa5-8d1f83b89134",
   "metadata": {
    "tags": []
   },
   "outputs": [],
   "source": [
    "f_d_g_freq = pd.DataFrame(pd.concat(female_driver_in_gambranch_sgnf, keys=v3_days_all_fnl).groupby(level=[1]).size()).rename(columns={0 : 'Timepoint_freq'})"
   ]
  },
  {
   "cell_type": "code",
   "execution_count": null,
   "id": "379fedc1-c4f6-4d10-aba7-3dd267d64d4e",
   "metadata": {},
   "outputs": [],
   "source": [
    "female_drivers_in_gambranch_freq = pd.merge(female_drivers_in_gambranch, f_d_g_freq, how = 'left', left_index=True, right_index=True)"
   ]
  },
  {
   "cell_type": "code",
   "execution_count": null,
   "id": "90a4b86b-a306-45e7-9685-9b868cf78d22",
   "metadata": {
    "tags": []
   },
   "outputs": [],
   "source": [
    "female_drivers_in_gambranch_PfDB_stocha =pd.merge(female_drivers_in_gambranch_freq, Pf_genes_cln, how='left', left_index=True, right_index=True)"
   ]
  },
  {
   "cell_type": "code",
   "execution_count": null,
   "id": "1dfd0610-e8e4-4e7d-8270-2ad89feb65d5",
   "metadata": {
    "tags": []
   },
   "outputs": [],
   "source": [
    "female_drivers_in_gambranch_PfDB_stocha.to_csv(processed_data + '../RoadtoUMAP/female_drivers_in_gambranch_PfDB_stocha.csv')"
   ]
  },
  {
   "cell_type": "code",
   "execution_count": null,
   "id": "0edb8ebd-454c-46c7-958c-132582ad2978",
   "metadata": {
    "tags": []
   },
   "outputs": [],
   "source": [
    "female_drivers_in_gambranch_PfDB_stocha.sort_values('Female_corr', ascending=False)"
   ]
  },
  {
   "cell_type": "code",
   "execution_count": null,
   "id": "e19fca02-85bc-47c8-907a-4de5b3683cfb",
   "metadata": {
    "tags": []
   },
   "outputs": [],
   "source": [
    "Pf_genes_cln.loc[Pf_genes_cln.Gene.isin(branching_gam_drivers_f[0].index[:5].to_list())]"
   ]
  },
  {
   "cell_type": "code",
   "execution_count": null,
   "id": "68304d64-2faf-428b-ae0c-0db21c9f3f6f",
   "metadata": {},
   "outputs": [],
   "source": []
  },
  {
   "cell_type": "markdown",
   "id": "91b29f3c-788f-4529-a2b8-865129835030",
   "metadata": {},
   "source": [
    "### Computing driver genes in the 'Gametocytes (committed)', 'Gametocytes (developing)' cluster that are driving cells to the male or female cluster"
   ]
  },
  {
   "cell_type": "markdown",
   "id": "3edbf8c1-070d-4fa9-a650-c80f795e486f",
   "metadata": {},
   "source": [
    "#### To the male cluster"
   ]
  },
  {
   "cell_type": "code",
   "execution_count": null,
   "id": "916f30db-0d48-4545-8326-052126db3507",
   "metadata": {},
   "outputs": [],
   "source": [
    "male_drivers_CDB = []\n",
    "for i, g in enumerate(g_bf):\n",
    "    x = g.compute_lineage_drivers(lineages=\"Late male\", return_drivers=True, cluster_key = 'stage_bfs', clusters= ['Gametocytes (committed)','Gametocytes (developing)'])\n",
    "    male_drivers_CDB.append(x)"
   ]
  },
  {
   "cell_type": "code",
   "execution_count": null,
   "id": "ae19d659-fd20-4d85-aff2-02b1f89fd19c",
   "metadata": {},
   "outputs": [],
   "source": [
    "male_drivers_CDB[0]"
   ]
  },
  {
   "cell_type": "code",
   "execution_count": null,
   "id": "123038fa-0b84-4d26-9457-5d25251476c9",
   "metadata": {},
   "outputs": [],
   "source": [
    "male_drivers_CDB[1]"
   ]
  },
  {
   "cell_type": "markdown",
   "id": "baf7aee5-d80a-4784-918e-7376b326dedb",
   "metadata": {},
   "source": [
    "Plotting top 4 driver genes per timepoint"
   ]
  },
  {
   "cell_type": "code",
   "execution_count": null,
   "id": "7c24d686-e310-4186-99ff-6ddf48845216",
   "metadata": {
    "tags": []
   },
   "outputs": [],
   "source": [
    "for i, g in enumerate(g_bf):\n",
    "    g.plot_lineage_drivers(\"Late male\", n_genes=4, components='2,3')"
   ]
  },
  {
   "cell_type": "markdown",
   "id": "95f504e3-32da-44b8-bca5-6b5bc6966bff",
   "metadata": {},
   "source": [
    "Phase potraits highlighting behaviour of gene in 'Gametocytes (branching)' cluster. We should start seeing activation atleast in cells that will then on become female."
   ]
  },
  {
   "cell_type": "code",
   "execution_count": null,
   "id": "4e470c14-ba39-4dc2-97bb-1efd18bc8bfb",
   "metadata": {
    "tags": []
   },
   "outputs": [],
   "source": [
    "for obj, dg in zip(ef_scv_stochastic, male_drivers_CDB):\n",
    "    scv.pl.scatter(obj, dg.index[0:5].to_list(), color=['stage_bfs'], add_outline=['Gametocytes (committed)', 'Gametocytes (developing)', 'Gametocytes (branching)', 'Gametocytes (early male)', 'Gametocytes (late male)'])"
   ]
  },
  {
   "cell_type": "markdown",
   "id": "2fadf1a4-e994-49e3-b8f8-e579eeecf455",
   "metadata": {},
   "source": [
    "Phase potraits highlighting behaviour of gene in 'Gametocytes (early male)','Gametocytes (late male)' cluster. We should see activation"
   ]
  },
  {
   "cell_type": "code",
   "execution_count": null,
   "id": "ca4ec2b2-ae63-4eb3-87d2-ba5879b8231a",
   "metadata": {},
   "outputs": [],
   "source": [
    "for obj, dg in zip(ef_scv_stochastic, male_drivers_CDB):\n",
    "    scv.pl.scatter(obj, dg.index[0:5].to_list(), color='stage_bfs', add_outline=['Gametocytes (early female)','Gametocytes (late female)'])"
   ]
  },
  {
   "cell_type": "code",
   "execution_count": null,
   "id": "335f839d-4a9e-4d67-b3a3-e61e3d035352",
   "metadata": {},
   "outputs": [],
   "source": [
    "scv.pl.umap(ef_scv_stochastic[0], color='PF3D7_1438800', layer='unspliced', legend_loc='right', components='2,3')"
   ]
  },
  {
   "cell_type": "code",
   "execution_count": null,
   "id": "fd40ec1a-b74d-46ff-92ec-324ea0120fd4",
   "metadata": {},
   "outputs": [],
   "source": [
    "scv.pl.umap(ef_scv_stochastic[0], color='PF3D7_1438800', layer='velocity', legend_loc='right', components='2,3')"
   ]
  },
  {
   "cell_type": "code",
   "execution_count": null,
   "id": "ad1c95db-96c6-4917-9a53-7c3c0ad5c3b8",
   "metadata": {
    "tags": []
   },
   "outputs": [],
   "source": [
    "# scv.pl.umap(ef_qcd_bf2_scv[1], color='PF3D7_0918700', layer='unspliced', legend_loc='right', components='2,3')"
   ]
  },
  {
   "cell_type": "code",
   "execution_count": null,
   "id": "ba221e9a-3947-412e-b406-8f6ad329cc89",
   "metadata": {
    "tags": []
   },
   "outputs": [],
   "source": [
    "# scv.pl.umap(ef_qcd_bf2_scv[2], color='PF3D7_0424100', layer='velocity_u', legend_loc='right', components='2,3')"
   ]
  },
  {
   "cell_type": "code",
   "execution_count": null,
   "id": "1e80c3f0-07f0-4160-aab3-96d1b47e70e2",
   "metadata": {},
   "outputs": [],
   "source": [
    "scv.pl.umap(ef_scv_stochastic[0], color='PF3D7_0918700', layer='velocity', legend_loc='right', components='2,3')"
   ]
  },
  {
   "cell_type": "code",
   "execution_count": null,
   "id": "f9cbdeb8-490b-43fe-8b30-aeafcec52316",
   "metadata": {},
   "outputs": [],
   "source": [
    "# ef_qcd_bf2_scv[2].obs.columns"
   ]
  },
  {
   "cell_type": "code",
   "execution_count": null,
   "id": "8e3e2ada-529a-49d5-9ef4-2e2dca25d0f7",
   "metadata": {},
   "outputs": [],
   "source": [
    "# for obj, dg in zip(ef_scv_stochastic, branching_gam_drivers_f):\n",
    "#     scv.pl.umap(obj,  layer='unspliced',  color=dg.index[0:5].to_list(), components='2,3')"
   ]
  },
  {
   "cell_type": "code",
   "execution_count": null,
   "id": "5df469d5-cb89-4d8b-86be-7e85aa5c18e0",
   "metadata": {},
   "outputs": [],
   "source": [
    "scv.pl.scatter(ef_scv_stochastic[1], 'PF3D7_1438800', color='stage_bfs', add_outline=['Gametocytes (committed)', 'Gametocytes (developing)', 'Gametocytes (branching)'], legend_loc='right')"
   ]
  },
  {
   "cell_type": "code",
   "execution_count": null,
   "id": "ef6b449c-caab-4919-9e53-9de265673fc5",
   "metadata": {
    "tags": []
   },
   "outputs": [],
   "source": [
    "scv.pl.scatter(ef_scv_stochastic[1], 'PF3D7_1438800', color='stage_bfs', legend_loc='right')"
   ]
  },
  {
   "cell_type": "code",
   "execution_count": null,
   "id": "fff0240b-4d23-4edc-8abe-fca30e878ad1",
   "metadata": {},
   "outputs": [],
   "source": [
    "scv.pl.scatter(obj, 'PF3D7_0603600', color='stage_bfs', add_outline=['Gametocytes (committed)', 'Gametocytes (developing)', 'Gametocytes (branching)'], legend_loc='right')"
   ]
  },
  {
   "cell_type": "markdown",
   "id": "db331475-417a-4357-818d-ee180ef7ee07",
   "metadata": {},
   "source": [
    "Upset plots to assess driver genes in branching gams that is shared between day10 new and day 10 old datasets and the 2 datasets combined using retaining only genes positively correlated to absorption probabilities towards terminal males where P < 0.001 as qvalue is NA https://github.com/theislab/cellrank/issues/819"
   ]
  },
  {
   "cell_type": "code",
   "execution_count": null,
   "id": "2300fe91-175f-4c84-9e2c-b72c6854582b",
   "metadata": {},
   "outputs": [],
   "source": [
    "male_drivers_in_CDB_gns = []\n",
    "for i, dg in enumerate(male_drivers_CDB):\n",
    "    sig_gns = set(dg[(dg['Late male_qval'] < 0.001) & (dg['Late male_corr'] > 0)].index.to_list())\n",
    "    male_drivers_in_CDB_gns.append(sig_gns)"
   ]
  },
  {
   "cell_type": "code",
   "execution_count": null,
   "id": "06d2d609-d929-4b98-b634-ceceae223aa5",
   "metadata": {
    "tags": []
   },
   "outputs": [],
   "source": [
    "# male_drivers_in_CDB_gns = []\n",
    "# set_names= v3_days_all_fnl\n",
    "# for v3_day, dg in zip(v3_days_all_fnl, male_drivers_CDB):\n",
    "#     v3_day = set(dg[(dg['Late male_qval'] < 0.001) & (dg['Late male_corr'] > 0) & (dg['Late male_corr'].notna()) ].index.to_list())\n",
    "#     male_drivers_in_CDB_gns.append(v3_day)"
   ]
  },
  {
   "cell_type": "code",
   "execution_count": null,
   "id": "8c27564f-d46c-44a6-abbe-d00346d97172",
   "metadata": {},
   "outputs": [],
   "source": [
    "set_names= v3_days_all_fnl"
   ]
  },
  {
   "cell_type": "code",
   "execution_count": null,
   "id": "0345cedb-9c3e-4e39-bd91-25f651eed6e2",
   "metadata": {},
   "outputs": [],
   "source": [
    "all_elems = list(set().union(*male_drivers_in_CDB_gns))\n",
    "\n",
    "df = pd.DataFrame([[e in st for st in male_drivers_in_CDB_gns] for e in all_elems], columns = set_names)\n",
    "\n",
    "df_up = df.groupby(set_names).size()"
   ]
  },
  {
   "cell_type": "code",
   "execution_count": null,
   "id": "6c547863-9e5b-4dcd-816e-eeecfd6eaf99",
   "metadata": {},
   "outputs": [],
   "source": [
    "plot(df_up, orientation='horizontal')"
   ]
  },
  {
   "cell_type": "code",
   "execution_count": null,
   "id": "ac7fdd7f-ffa1-48af-b16f-1282fdf752fc",
   "metadata": {},
   "outputs": [],
   "source": [
    "male_drivers_in_CDB_stbl = []"
   ]
  },
  {
   "cell_type": "code",
   "execution_count": null,
   "id": "bae5644a-4a1a-4215-a5bc-dd5d13c30474",
   "metadata": {
    "tags": []
   },
   "outputs": [],
   "source": [
    "for i, dg in enumerate(male_drivers_CDB):\n",
    "    df =dg.copy()\n",
    "    # df = dg[(dg['Late male_qval'] < 0.001) & (dg['Late male_corr'] > 0)]\n",
    "    df.columns = df.columns.str.replace('Late male', 'Male')\n",
    "    df['Male composition'] = 'Late'\n",
    "    male_drivers_in_CDB_stbl.append(df)"
   ]
  },
  {
   "cell_type": "code",
   "execution_count": null,
   "id": "f56cc40a-2e8a-4a71-96d8-ee9e92d05bd1",
   "metadata": {},
   "outputs": [],
   "source": [
    "male_drivers_in_CDB = pd.concat(male_drivers_in_CDB_stbl, keys=v3_days_all_fnl).reset_index(level=0).rename(columns={'level_0':'Timepoint'})"
   ]
  },
  {
   "cell_type": "code",
   "execution_count": null,
   "id": "1691569c-4261-4e0f-b0e7-69cb2f320b91",
   "metadata": {
    "tags": []
   },
   "outputs": [],
   "source": [
    "m_d_g_freq = pd.DataFrame(pd.concat(male_drivers_in_CDB_stbl, keys=v3_days_all_fnl).groupby(level=[1]).size()).rename(columns={0 : 'Timepoint_freq'})"
   ]
  },
  {
   "cell_type": "code",
   "execution_count": null,
   "id": "0557e4d5-6dc2-43ff-80b4-791fbd8c1f47",
   "metadata": {},
   "outputs": [],
   "source": [
    "male_drivers_in_CDB_freq = pd.merge(male_drivers_in_CDB, m_d_g_freq, how = 'left', left_index=True, right_index=True)"
   ]
  },
  {
   "cell_type": "code",
   "execution_count": null,
   "id": "71b88f11-5fe4-4b18-8fdd-2c199e54f12c",
   "metadata": {
    "tags": []
   },
   "outputs": [],
   "source": [
    "male_drivers_in_CDB_PfDB_stocha =pd.merge(male_drivers_in_CDB_freq, Pf_genes_cln, how='left', left_index=True, right_index=True)"
   ]
  },
  {
   "cell_type": "code",
   "execution_count": null,
   "id": "b2e5c7bc-0eb4-4336-b7cd-d9c5bfcfb2d8",
   "metadata": {},
   "outputs": [],
   "source": [
    "male_drivers_in_CDB_PfDB_stocha.to_csv('data/processed/RoadtoUMAP/male_drivers_in_CDB_PfDB_stocha.csv')"
   ]
  },
  {
   "cell_type": "code",
   "execution_count": null,
   "id": "18498874-f632-4348-8a67-4e265a93c216",
   "metadata": {
    "tags": []
   },
   "outputs": [],
   "source": [
    "# Pf_genes_cln.loc[Pf_genes_cln.Gene.isin(male_drivers_CDB[2].index[:5].to_list())]"
   ]
  },
  {
   "cell_type": "code",
   "execution_count": null,
   "id": "aa558680-4ea4-40fc-99c2-38cfb23d64c5",
   "metadata": {},
   "outputs": [],
   "source": []
  },
  {
   "cell_type": "markdown",
   "id": "945840dd-466a-4d4a-8191-475ce6fb9a20",
   "metadata": {},
   "source": [
    "Computing driver genes in the gametocyte(branching) cluster that are driving cells to the female cluster"
   ]
  },
  {
   "cell_type": "code",
   "execution_count": null,
   "id": "ec4abf25-6e69-416d-97b9-0dd0c09476ff",
   "metadata": {},
   "outputs": [],
   "source": [
    "female_drivers_CDB = []\n",
    "for i, g in enumerate(g_bf):\n",
    "    x = g.compute_lineage_drivers(lineages=\"Late female\", return_drivers=True, cluster_key = 'stage_bfs', clusters= [ 'Gametocytes (committed)','Gametocytes (developing)'])\n",
    "    female_drivers_CDB.append(x)"
   ]
  },
  {
   "cell_type": "code",
   "execution_count": null,
   "id": "8213ac05-9b95-49ab-b82b-744ae5bd6ca2",
   "metadata": {},
   "outputs": [],
   "source": [
    "female_drivers_CDB[0]"
   ]
  },
  {
   "cell_type": "code",
   "execution_count": null,
   "id": "aee657b7-84d4-4dd3-95c0-40c127e22c38",
   "metadata": {},
   "outputs": [],
   "source": [
    "female_drivers_CDB[1]"
   ]
  },
  {
   "cell_type": "markdown",
   "id": "8c48d4d8-32e3-4ab9-a39c-2e9575626323",
   "metadata": {},
   "source": [
    "Plotting top 4 driver genes per timepoint"
   ]
  },
  {
   "cell_type": "code",
   "execution_count": null,
   "id": "fd720a4b-d0e3-4d7d-91d3-df3f54691d89",
   "metadata": {
    "tags": []
   },
   "outputs": [],
   "source": [
    "for i, g in enumerate(g_bf):\n",
    "    g.plot_lineage_drivers(\"Late female\", n_genes=4, components='2,3') "
   ]
  },
  {
   "cell_type": "markdown",
   "id": "ac0401e9-c7e5-45e3-9ed4-64c135c12fce",
   "metadata": {},
   "source": [
    "Phase potraits highlighting behaviour of gene in 'Gametocytes (branching)' cluster. We should start seeing activation atleast in cells that will then on become female."
   ]
  },
  {
   "cell_type": "code",
   "execution_count": null,
   "id": "115b81bb-2c6f-4322-ad40-c13a2b71fb4e",
   "metadata": {
    "tags": []
   },
   "outputs": [],
   "source": [
    "for obj, dg in zip(ef_scv_stochastic, female_drivers_CDB):\n",
    "    scv.pl.scatter(obj, dg.index[0:5].to_list(), color=['stage_bfs'], add_outline=[ 'Gametocytes (early female)', 'Gametocytes (late female)'])"
   ]
  },
  {
   "cell_type": "markdown",
   "id": "1b464a1d-902b-4119-9ea7-92098ca804d9",
   "metadata": {},
   "source": [
    "Phase potraits highlighting behaviour of gene in 'Gametocytes (late female)' cluster. Most should be active "
   ]
  },
  {
   "cell_type": "code",
   "execution_count": null,
   "id": "3fc811cc-f437-4264-909b-22ead709327f",
   "metadata": {
    "tags": []
   },
   "outputs": [],
   "source": [
    "for obj, dg in zip(ef_scv_stochastic, female_drivers_CDB):\n",
    "    scv.pl.scatter(obj, dg.index[0:5].to_list(), color='stage_bfs', add_outline=['Gametocytes (early male)','Gametocytes (late male)'])"
   ]
  },
  {
   "cell_type": "markdown",
   "id": "6a39fbd2-38f8-4087-a1d5-92b89a2c7dfd",
   "metadata": {},
   "source": [
    "Phase potraits highlighting behaviour of gene in 'Gametocytes (late male)' cluster. Most should be repressed. "
   ]
  },
  {
   "cell_type": "markdown",
   "id": "f1905edf-fbbe-4bc2-b568-ee9c821f8c12",
   "metadata": {},
   "source": [
    "Upset plot for female"
   ]
  },
  {
   "cell_type": "markdown",
   "id": "8d17bf70-bcec-4423-a4e7-abddf475d13e",
   "metadata": {},
   "source": [
    "Upset plots to assess driver genes in branching gams that is shared between day10 new and day 10 old datasets and the 2 datasets combined using retaining only genes positively correlated to absorption probabilities towards terminal males where P < 0.001 as qvalue is NA. bug in scvelo https://github.com/theislab/cellrank/issues/819"
   ]
  },
  {
   "cell_type": "code",
   "execution_count": null,
   "id": "e26a4c7e-487d-4f49-85c3-b70df6259724",
   "metadata": {},
   "outputs": [],
   "source": [
    "female_drivers_in_CDB_gns = []\n",
    "for i, dg in enumerate(female_drivers_CDB):\n",
    "    sig_gns = set(dg[(dg['Late female_qval'] < 0.001) & (dg['Late female_corr'] > 0.2)].index.to_list())\n",
    "    female_drivers_in_CDB_gns.append(sig_gns)"
   ]
  },
  {
   "cell_type": "code",
   "execution_count": null,
   "id": "6b621180-d4cc-4373-bbf9-6c657ca4dc44",
   "metadata": {},
   "outputs": [],
   "source": [
    "set_names= v3_days_all_fnl\n"
   ]
  },
  {
   "cell_type": "code",
   "execution_count": null,
   "id": "0e3df223-f993-4b90-9b58-ec30571df049",
   "metadata": {},
   "outputs": [],
   "source": [
    "all_elems = list(set().union(*female_drivers_in_CDB_gns))\n",
    "\n",
    "df = pd.DataFrame([[e in st for st in female_drivers_in_CDB_gns] for e in all_elems], columns = set_names)\n",
    "\n",
    "df_up = df.groupby(set_names).size()"
   ]
  },
  {
   "cell_type": "code",
   "execution_count": null,
   "id": "9891646c-c6c0-4275-a549-8b08aeed122d",
   "metadata": {},
   "outputs": [],
   "source": [
    "plot(df_up, orientation='horizontal')"
   ]
  },
  {
   "cell_type": "code",
   "execution_count": null,
   "id": "1f4ce7e0-39cd-40bb-8153-a53b995280ce",
   "metadata": {},
   "outputs": [],
   "source": [
    "female_drivers_in_CDB_stbl = []"
   ]
  },
  {
   "cell_type": "markdown",
   "id": "4d47ddc9-f409-42b7-97f1-246cb5b61a6e",
   "metadata": {},
   "source": [
    "Summary table of the female driver genes in the 'Gametocytes (committed and developing)' for all timepoints"
   ]
  },
  {
   "cell_type": "code",
   "execution_count": null,
   "id": "48892857-407a-45da-a345-7d3357806377",
   "metadata": {
    "tags": []
   },
   "outputs": [],
   "source": [
    "for i, dg in enumerate(female_drivers_CDB):\n",
    "    df =dg.copy()\n",
    "    # df = dg[(dg['Late female_qval'] < 0.001) & (dg['Late female_corr'] > 0)]\n",
    "    df.columns = df.columns.str.replace('Late female', 'Female')\n",
    "    df['Female composition'] = 'Late'\n",
    "    female_drivers_in_CDB_stbl.append(df)"
   ]
  },
  {
   "cell_type": "code",
   "execution_count": null,
   "id": "fb286558-0d17-4443-abef-3e41b7a20f57",
   "metadata": {},
   "outputs": [],
   "source": [
    "female_drivers_in_CDB = pd.concat(female_drivers_in_CDB_stbl, keys=v3_days_all_fnl).reset_index(level=0).rename(columns={'level_0':'Timepoint'})"
   ]
  },
  {
   "cell_type": "code",
   "execution_count": null,
   "id": "338c9864-9f57-41e0-aec4-811761da65a0",
   "metadata": {
    "tags": []
   },
   "outputs": [],
   "source": [
    "f_d_g_freq = pd.DataFrame(pd.concat(female_drivers_in_CDB_stbl, keys=v3_days_all_fnl).groupby(level=[1]).size()).rename(columns={0 : 'Timepoint_freq'})"
   ]
  },
  {
   "cell_type": "code",
   "execution_count": null,
   "id": "b27d907a-a556-4fa0-b5e3-9126d81de28e",
   "metadata": {},
   "outputs": [],
   "source": [
    "female_drivers_in_CDB_freq = pd.merge(female_drivers_in_CDB, f_d_g_freq, how = 'left', left_index=True, right_index=True)"
   ]
  },
  {
   "cell_type": "code",
   "execution_count": null,
   "id": "da959957-ab2a-4320-96cf-79d428cf3952",
   "metadata": {
    "tags": []
   },
   "outputs": [],
   "source": [
    "female_drivers_in_CDB_PfDB_stocha =pd.merge(female_drivers_in_CDB_freq, Pf_genes_cln, how='left', left_index=True, right_index=True)"
   ]
  },
  {
   "cell_type": "code",
   "execution_count": null,
   "id": "f0b4ba9a-fd54-4ad2-bf9e-746f055da680",
   "metadata": {},
   "outputs": [],
   "source": [
    "female_drivers_in_CDB_PfDB_stocha.to_csv(processed_data + '../RoadtoUMAP/female_drivers_in_CDB_PfDB_stocha.csv')"
   ]
  },
  {
   "cell_type": "code",
   "execution_count": null,
   "id": "dfc1cead-c6d3-486f-9b88-9376e37a9cd5",
   "metadata": {
    "tags": []
   },
   "outputs": [],
   "source": [
    "# female_drivers_in_CDB_PfDB_stocha.sort_values('Female_corr', ascending=False)"
   ]
  },
  {
   "cell_type": "code",
   "execution_count": null,
   "id": "a68acf22-785f-49c3-a5d9-ef1657bf3c3d",
   "metadata": {
    "tags": []
   },
   "outputs": [],
   "source": [
    "# Pf_genes_cln.loc[Pf_genes_cln.Gene.isin(female_drivers_CDB[0].index[:5].to_list())]"
   ]
  },
  {
   "cell_type": "code",
   "execution_count": null,
   "id": "2c97f910-91ea-4462-a87f-2f773d5ac926",
   "metadata": {},
   "outputs": [],
   "source": [
    "# female_drivers_in_CDB_gns = []\n",
    "# for i, dg in enumerate(female_drivers_CDB):\n",
    "#     if i == 0:\n",
    "#         sig_gns = set(dg[(dg['Early female_qval'] < 0.001) & (dg['Early female_corr'] > 0)].index.to_list())\n",
    "#         female_drivers_in_CDB_gns.append(sig_gns)\n",
    "#     else:\n",
    "#         sig_gns = set(dg[(dg['Late female_qval'] < 0.001) & (dg['Late female_corr'] > 0)].index.to_list())\n",
    "#         female_drivers_in_CDB_gns.append(sig_gns)"
   ]
  },
  {
   "cell_type": "markdown",
   "id": "f4b0b3a2-91cd-4a94-8433-1261008b83dd",
   "metadata": {},
   "source": [
    "Fitting GAMs for assesment of gene expression clusters over latent time"
   ]
  },
  {
   "cell_type": "code",
   "execution_count": null,
   "id": "3587b06d-5a9b-45fe-9760-33ed6b6e868e",
   "metadata": {},
   "outputs": [],
   "source": [
    "a = ef_scv_stochastic[0].obs[['pseudo_asex',\n",
    "       'pseudo_male', 'pseudo_female']].copy()"
   ]
  },
  {
   "cell_type": "code",
   "execution_count": null,
   "id": "5bbea67f-faea-4547-9e7b-c439d1895493",
   "metadata": {
    "tags": []
   },
   "outputs": [],
   "source": [
    "for obj in ef_scv_stochastic:\n",
    "    obj.obs['pseudo_amf'] = obj.obs.pseudo_asex.fillna(obj.obs.pseudo_male).fillna(obj.obs.pseudo_female)"
   ]
  },
  {
   "cell_type": "code",
   "execution_count": null,
   "id": "c680ef2e-1d61-41c3-9795-98ed6f82ca48",
   "metadata": {},
   "outputs": [],
   "source": [
    "ef_scv_stochastic[0]"
   ]
  },
  {
   "cell_type": "code",
   "execution_count": null,
   "id": "3c512bf1-d0c6-419c-954d-272ecd1c34d1",
   "metadata": {},
   "outputs": [],
   "source": [
    "modelGAM_male_lineage = []\n",
    "for obj in ef_scv_stochastic:\n",
    "    model=cr.ul.models.GAM(obj)\n",
    "    modelGAM_male_lineage.append(model)\n"
   ]
  },
  {
   "cell_type": "code",
   "execution_count": null,
   "id": "000e2ed4-e4ae-4327-97d2-61e9c8b6ee1a",
   "metadata": {
    "jupyter": {
     "outputs_hidden": true
    },
    "tags": []
   },
   "outputs": [],
   "source": [
    "branching_gam_drivers_m"
   ]
  },
  {
   "cell_type": "code",
   "execution_count": null,
   "id": "fb061c03-1ff9-4467-95ff-9ab4df6f2610",
   "metadata": {},
   "outputs": [],
   "source": []
  },
  {
   "cell_type": "code",
   "execution_count": null,
   "id": "10d5e93a-8102-4ef7-b018-a28f343c8439",
   "metadata": {
    "jupyter": {
     "outputs_hidden": true
    },
    "tags": []
   },
   "outputs": [],
   "source": [
    "for i, obj in enumerate(ef_scv_stochastic):\n",
    "    cr.pl.cluster_lineage(\n",
    "            obj,\n",
    "            model = modelGAM_male_lineage[i],\n",
    "            genes=branching_gam_drivers_m[i].index[(branching_gam_drivers_m[i]['Late male_qval'] < 0.001) & (branching_gam_drivers_m[i]['Late male_corr'] > 0.2)].to_list(),\n",
    "            lineage=\"Late male\",\n",
    "            time_key=\"pseudo_amf\",\n",
    "            show_progress_bar=False,\n",
    "            recompute=True,\n",
    "            sharey=True,\n",
    "            covariate_key=['stage_bfs']\n",
    "        )\n"
   ]
  },
  {
   "cell_type": "code",
   "execution_count": null,
   "id": "0c948a32-6ef5-4b61-876f-bff39bf56264",
   "metadata": {
    "jupyter": {
     "outputs_hidden": true
    },
    "tags": []
   },
   "outputs": [],
   "source": [
    "for i, obj in enumerate(ef_scv_stochastic):\n",
    "    cr.pl.cluster_lineage(\n",
    "            obj,\n",
    "            model = modelGAM_male_lineage[i],\n",
    "            genes=branching_gam_drivers_m[i].index[(branching_gam_drivers_m[i]['Late male_qval'] < 0.001) & (branching_gam_drivers_m[i]['Late male_corr'] < -0.2)].to_list(),\n",
    "            lineage=\"Late male\",\n",
    "            time_key=\"pseudo_amf\",\n",
    "            show_progress_bar=False,\n",
    "            recompute=True,\n",
    "            sharey=True,\n",
    "            covariate_key=['stage_bfs']\n",
    "        )"
   ]
  },
  {
   "cell_type": "code",
   "execution_count": null,
   "id": "e11c9846-4239-4c3e-9dc7-1923ab5e00b1",
   "metadata": {},
   "outputs": [],
   "source": [
    "modelGAM_female_lineage_bf2 = []\n",
    "for obj in ef_scv_stochastic:\n",
    "    model=cr.ul.models.GAM(obj)\n",
    "    modelGAM_female_lineage_bf2.append(model)\n"
   ]
  },
  {
   "cell_type": "code",
   "execution_count": null,
   "id": "9163a82a-3f57-4eed-bc98-8475e6e7e154",
   "metadata": {},
   "outputs": [],
   "source": [
    "v3_days_all_fnl"
   ]
  },
  {
   "cell_type": "code",
   "execution_count": null,
   "id": "98f74010-ce0e-4f61-b72b-5e1a7045bbf7",
   "metadata": {
    "tags": []
   },
   "outputs": [],
   "source": [
    "# plt.rcParams[\"figure.figsize\"] = (120, 5)\n",
    "for i, obj in enumerate(ef_scv_stochastic):\n",
    "    cr.pl.gene_trends(\n",
    "        obj,\n",
    "        lineages=['Late female','Late male'],\n",
    "        model=modelGAM_male_lineage[i],\n",
    "        data_key=\"X\",\n",
    "        genes=branching_gam_drivers_m[i].index[(branching_gam_drivers_m[i]['Late male_qval'] < 0.0000000000001) & (branching_gam_drivers_m[i]['Late male_corr'] < -0.3)].to_list(),\n",
    "        ncols=5,\n",
    "        time_key=\"pseudo_amf\",\n",
    "        same_plot=True,\n",
    "        hide_cells=True,\n",
    "        figsize=(50, 6),\n",
    "        n_test_points=200)\n",
    "    \n",
    "# plt.rcParams[\"figure.figsize\"] = (7, 5)"
   ]
  },
  {
   "cell_type": "code",
   "execution_count": null,
   "id": "5ec76b7b-8f7c-4160-9b50-04cfc0ea1b38",
   "metadata": {},
   "outputs": [],
   "source": []
  },
  {
   "cell_type": "markdown",
   "id": "0c349c36-14f8-44c1-ab8f-631105710884",
   "metadata": {},
   "source": [
    "Driver genes in CD positively correlated with progression to female fate"
   ]
  },
  {
   "cell_type": "markdown",
   "id": "0ccb8c6b-8839-4102-93ae-d10a166f285e",
   "metadata": {},
   "source": [
    "Driver genes in gambranch positively correlated with progression to female fate"
   ]
  },
  {
   "cell_type": "code",
   "execution_count": null,
   "id": "8e72251e-8f94-4556-a014-42f963cce6a0",
   "metadata": {
    "jupyter": {
     "outputs_hidden": true
    },
    "tags": []
   },
   "outputs": [],
   "source": [
    "for i, obj in enumerate(ef_scv_stochastic):\n",
    "    cr.pl.cluster_lineage(\n",
    "            obj,\n",
    "            model = modelGAM_female_lineage_bf2[i],\n",
    "            genes=branching_gam_drivers_f[i].index[(branching_gam_drivers_f[i]['Late female_qval'] < 0.0000000000001) & (branching_gam_drivers_f[i]['Late female_corr'] > -0.2)].to_list(),\n",
    "            lineage=\"Late female\",\n",
    "            time_key=\"pseudo_amf\",\n",
    "            show_progress_bar=False,\n",
    "            recompute=True,\n",
    "            sharey=True,\n",
    "            covariate_key=['stage_bfs']\n",
    "        )"
   ]
  },
  {
   "cell_type": "code",
   "execution_count": null,
   "id": "f8e9ad95-f9ae-42b3-9887-ab22cdd31698",
   "metadata": {},
   "outputs": [],
   "source": []
  },
  {
   "cell_type": "code",
   "execution_count": null,
   "id": "ca3a262e-6dae-45bd-9dae-12c641fd107f",
   "metadata": {
    "jupyter": {
     "outputs_hidden": true
    },
    "tags": []
   },
   "outputs": [],
   "source": [
    "# for i, obj in enumerate(ef_scv_stochastic):\n",
    "#     if i == 0:\n",
    "#         cr.pl.cluster_lineage( \n",
    "#             obj,\n",
    "#             model = modelGAM_female_lineage_bf2[i],\n",
    "#             genes=female_drivers_CDB[i].index[(female_drivers_CDB[i]['Early female_qval'] < 0.001) & (female_drivers_CDB[i]['Early female_corr'] > 0)].to_list(),\n",
    "#             lineage=\"Early female\",\n",
    "#             time_key=\"pseudo_amf\",\n",
    "#             show_progress_bar=False,\n",
    "#             recompute=True,\n",
    "#             sharey=True,\n",
    "#             covariate_key=['stage_bfs']\n",
    "#         )\n",
    "#     else:\n",
    "#         cr.pl.cluster_lineage(\n",
    "#             obj,\n",
    "#             model = modelGAM_female_lineage_bf2[i],\n",
    "#             genes=female_drivers_CDB[i].index[(female_drivers_CDB[i]['Late female_qval'] < 0.001) & (female_drivers_CDB[i]['Late female_corr'] > 0)].to_list(),\n",
    "#             lineage=\"Late female\",\n",
    "#             time_key=\"pseudo_amf\",\n",
    "#             show_progress_bar=False,\n",
    "#             recompute=True,\n",
    "#             sharey=True,\n",
    "#             covariate_key=['anno_300cells']\n",
    "#         )\n"
   ]
  },
  {
   "cell_type": "code",
   "execution_count": null,
   "id": "11daa38e-7a44-41af-8078-074a07241d2c",
   "metadata": {},
   "outputs": [],
   "source": []
  },
  {
   "cell_type": "markdown",
   "id": "a61c35f5-dd33-4e84-b137-a59527fa7c91",
   "metadata": {
    "jupyter": {
     "outputs_hidden": true
    },
    "tags": []
   },
   "source": [
    "branching_gam_drivers_f is the equivalent of female_drivers_CDB for the branching driver list. Care should be taken to avoid being confused by names"
   ]
  },
  {
   "cell_type": "code",
   "execution_count": null,
   "id": "b25d279f-81d8-4f99-87bd-6110eea3769a",
   "metadata": {},
   "outputs": [],
   "source": [
    "plt.rcParams[\"figure.figsize\"] = (7, 5)\n",
    "for i, obj in enumerate(ef_scv_stochastic):\n",
    "    scv.pl.scatter(\n",
    "        obj,\n",
    "        c=\"pseudo_amf\",\n",
    "        basis=\"umap\",\n",
    "        legend_loc=\"right\",\n",
    "        color_map=\"gnuplot2\",\n",
    "        components='2,3'\n",
    ")\n",
    "    plt.rcParams[\"figure.figsize\"] = (7, 5)"
   ]
  },
  {
   "cell_type": "code",
   "execution_count": null,
   "id": "0c8b6c7b-1cc2-497b-811b-bd80ef2d7678",
   "metadata": {},
   "outputs": [],
   "source": [
    "##Pseudotime kernel"
   ]
  },
  {
   "cell_type": "code",
   "execution_count": null,
   "id": "bab1e92d-72e9-489f-80fb-f47786949b29",
   "metadata": {},
   "outputs": [],
   "source": [
    "ef_scv_PK=[]\n",
    "for obj in ef_qcd_bf1_scv:\n",
    "    ef_scv_PK.append(obj.copy())"
   ]
  },
  {
   "cell_type": "code",
   "execution_count": null,
   "id": "52f23d4f-eff8-4524-879c-39fb7c3d7567",
   "metadata": {},
   "outputs": [],
   "source": [
    "# scv.pl.scatter(ef_scv_PK[0], basis='umap',  components='2,3', color='Stage')"
   ]
  },
  {
   "cell_type": "code",
   "execution_count": null,
   "id": "6c793596-7ee3-411b-8d38-c05571075b62",
   "metadata": {},
   "outputs": [],
   "source": [
    "## Creating a new column with the fine grained gametocyte labels and course asexual ones\n",
    "for i, obj1 in enumerate(ef_scv_PK):\n",
    "    obj1.obs['stage_bfs'] = obj1.obs['anno_300cells']\n",
    "    obj1.obs = obj1.obs.astype({\"stage_bfs\": str}, errors='raise')\n",
    "    obj1.obs.loc[obj1.obs['stage_bfs'] == 'no assignment', 'stage_bfs'] = obj1.obs['Stage']\n",
    "    obj1.obs.loc[obj1.obs['stage_bfs'] == 'Gametocytes (comitted)', 'stage_bfs'] = 'Gametocytes (committed)'\n",
    "    obj1.obs['stage_bfs'] = obj1.obs['stage_bfs'].astype('category')\n",
    "    if i == 0:\n",
    "        obj1.obs.stage_bfs.cat.reorder_categories(['late ring', 'early trophozoite', 'Gametocytes (committed)', 'Gametocytes (developing)', 'Gametocytes (branching)', 'Gametocytes (early female)', 'Gametocytes (late female)', 'Gametocytes (early male)', 'Gametocytes (late male)', 'late trophozoite', 'early schizont'], inplace=True)\n",
    "    \n",
    "    else:\n",
    "        obj1.obs.stage_bfs.cat.reorder_categories(['late ring', 'early trophozoite', 'Gametocytes (committed)', 'Gametocytes (developing)', 'Gametocytes (branching)', 'Gametocytes (early female)', 'Gametocytes (late female)', 'Gametocytes (early male)', 'Gametocytes (late male)', 'late trophozoite', 'early schizont', 'late schizont', 'early ring'], inplace=True)\n"
   ]
  },
  {
   "cell_type": "code",
   "execution_count": null,
   "id": "ca824a50-a29e-4a8a-8817-c3222dce2369",
   "metadata": {},
   "outputs": [],
   "source": [
    "for obj in ef_scv_PK:\n",
    "    obj.obs['pseudo_amf'] = obj.obs.pseudo_asex.fillna(obj.obs.pseudo_male).fillna(obj.obs.pseudo_female)"
   ]
  },
  {
   "cell_type": "code",
   "execution_count": null,
   "id": "d3e02345-9ca2-43fc-9b1a-1dc2607c328a",
   "metadata": {},
   "outputs": [],
   "source": [
    "for obj in ef_scv_PK:\n",
    "    PseudotimeKernel(obj, time_key='pseudo_amf').compute_transition_matrix(threshold_scheme='hard')"
   ]
  },
  {
   "cell_type": "code",
   "execution_count": null,
   "id": "62d239c1-6a51-4202-a848-7fb5bc24b90f",
   "metadata": {},
   "outputs": [],
   "source": []
  },
  {
   "cell_type": "code",
   "execution_count": null,
   "id": "33229c7f-be6e-4106-b867-9836b600d85a",
   "metadata": {},
   "outputs": [],
   "source": [
    "modelGAM_female_lineage_bf2 = []\n",
    "for obj in ef_scv_stochastic:\n",
    "    model=cr.ul.models.GAM(obj)\n",
    "    modelGAM_female_lineage_bf2.append(model)"
   ]
  },
  {
   "cell_type": "markdown",
   "id": "2f16fa63-bfc3-47ff-81ac-32350ffbf334",
   "metadata": {},
   "source": [
    "End - Kernels and estimators"
   ]
  },
  {
   "cell_type": "markdown",
   "id": "4324ce6d-695c-4eda-a790-5e9ad090c746",
   "metadata": {},
   "source": [
    "## RNA velocity accounting for differential kinetics"
   ]
  },
  {
   "cell_type": "markdown",
   "id": "da145ca5-22e9-4261-8181-53968ea708ba",
   "metadata": {},
   "source": [
    "Analysis as per scvelo tuitorial and Accounting for differential kinetics before cellrank"
   ]
  },
  {
   "cell_type": "code",
   "execution_count": null,
   "id": "b7e39d02-c4d1-4d3b-9ead-8f18d031e628",
   "metadata": {},
   "outputs": [],
   "source": [
    "# # Load the dictionary back from the pickle file.\n",
    "ef_qcd_bf_scv_b4CR_loaded=[]\n",
    "for v3_day in v3_days:\n",
    "    x = pickle.load(open( \"data/processed/PfDB52e/\"+v3_day+\"/scv_velocities_bf_b4KE.p\", \"rb\" ) )\n",
    "    ef_qcd_bf_scv_b4CR_loaded.append(x)\n"
   ]
  },
  {
   "cell_type": "code",
   "execution_count": null,
   "id": "bbfb1353-b9e6-4421-b34e-fe67b65b164c",
   "metadata": {},
   "outputs": [],
   "source": [
    "# # Load the dictionary back from the pickle file.\n",
    "ef_qcd_bf2_scv_b4CR_loaded=[]\n",
    "for v3_day in v3_days_fnl:\n",
    "    x = pickle.load(open( \"data/processed/PfDB52e/\"+v3_day+\"/scv_velocities_bf2_b4KE.p\", \"rb\" ) )\n",
    "    ef_qcd_bf2_scv_b4CR_loaded.append(x)"
   ]
  },
  {
   "cell_type": "code",
   "execution_count": null,
   "id": "0e939cd1-ba32-4a76-aae0-80baf5ad5739",
   "metadata": {
    "tags": []
   },
   "outputs": [],
   "source": [
    "ef_qcd_bf2_scv_b4CR_loaded[1].obs.columns"
   ]
  },
  {
   "cell_type": "code",
   "execution_count": null,
   "id": "65af35c3-2edb-4da3-a527-4012c9f42294",
   "metadata": {},
   "outputs": [],
   "source": [
    "ef_qcd_bf_scv_varKine = ef_qcd_bf1_scv_b4CR_loaded.copy()"
   ]
  },
  {
   "cell_type": "code",
   "execution_count": null,
   "id": "2ca8d235-1b46-4137-94a8-fb325e4a2da5",
   "metadata": {},
   "outputs": [],
   "source": [
    "ef_qcd_bf2_scv_varKine = ef_qcd_bf2_scv_b4CR_loaded.copy()"
   ]
  },
  {
   "cell_type": "code",
   "execution_count": null,
   "id": "cc1a20fd-080b-4c51-8012-5ff95c672a50",
   "metadata": {},
   "outputs": [],
   "source": []
  },
  {
   "cell_type": "code",
   "execution_count": null,
   "id": "b2d09e03-c825-4142-b8e8-bb7ed7b15c29",
   "metadata": {},
   "outputs": [],
   "source": [
    "d10_dyn_varK = pd.merge(pd.DataFrame(ef_qcd_bf2_scv[2].var.velocity_genes), pd.DataFrame(ef_qcd_bf2_scv_varKine[2].var.velocity_genes), left_index=True, right_index=True)"
   ]
  },
  {
   "cell_type": "code",
   "execution_count": null,
   "id": "438d494e-3f0f-4c19-bde5-2f9b9958c94e",
   "metadata": {},
   "outputs": [],
   "source": [
    "d10_dyn_varK"
   ]
  },
  {
   "cell_type": "code",
   "execution_count": null,
   "id": "71a065cf-c36e-4e1a-af84-78a836e9a2a1",
   "metadata": {},
   "outputs": [],
   "source": []
  },
  {
   "cell_type": "code",
   "execution_count": null,
   "id": "5579fa96-9995-4a30-a168-d5fa203bdeb0",
   "metadata": {},
   "outputs": [],
   "source": [
    "d10_dyn_varK.plot(x = 'fit_gamma', y= 'velocity_gamma')"
   ]
  },
  {
   "cell_type": "code",
   "execution_count": null,
   "id": "c6e7c0c5-9b56-4769-86cd-721999f37ef5",
   "metadata": {},
   "outputs": [],
   "source": [
    "ef_qcd_bf2_scv_varKine[1].var.fit_alpha"
   ]
  },
  {
   "cell_type": "markdown",
   "id": "48b5882f-ac41-4dd7-8070-7f2be515b9b7",
   "metadata": {},
   "source": [
    "Start - Kernels and estimators "
   ]
  },
  {
   "cell_type": "markdown",
   "id": "f8cf44e2-b1e3-47a8-b906-8a0bc17a2b89",
   "metadata": {},
   "source": [
    "Low level Kernels and estimators"
   ]
  },
  {
   "cell_type": "code",
   "execution_count": null,
   "id": "03f36adb-b2ee-4b85-8082-c671375464f5",
   "metadata": {
    "tags": []
   },
   "outputs": [],
   "source": [
    "vk_bf1 = []\n",
    "for obj in ef_qcd_bf1_scv_varKine:\n",
    "    x = VelocityKernel(obj).compute_transition_matrix()\n",
    "    vk_bf1.append(x)\n",
    "    # cr.tl.terminal_states(obj, cluster_key=\"Stage\", weight_connectivities=0.2)"
   ]
  },
  {
   "cell_type": "code",
   "execution_count": null,
   "id": "99410460-8975-484a-8eb7-014308df4e05",
   "metadata": {},
   "outputs": [],
   "source": [
    "vk_bf1"
   ]
  },
  {
   "cell_type": "code",
   "execution_count": null,
   "id": "760d3917-aca2-415b-a84a-94c19f634c12",
   "metadata": {},
   "outputs": [],
   "source": [
    "vk_bf2 = []\n",
    "for obj in ef_qcd_bf2_scv_varKine:\n",
    "    x = VelocityKernel(obj).compute_transition_matrix()\n",
    "    vk_bf2.append(x)\n",
    "    # cr.tl.terminal_states(obj, cluster_key=\"Stage\", weight_connectivities=0.2)"
   ]
  },
  {
   "cell_type": "code",
   "execution_count": null,
   "id": "61c9de79-a4d6-4845-9b04-c03e12e75c40",
   "metadata": {},
   "outputs": [],
   "source": [
    "vk_bf2"
   ]
  },
  {
   "cell_type": "code",
   "execution_count": null,
   "id": "c8e77d0e-4f51-4094-b518-81b0b764e31d",
   "metadata": {},
   "outputs": [],
   "source": [
    "# vk = VelocityKernel(ef_qcd_bf1_d5_scv)"
   ]
  },
  {
   "cell_type": "code",
   "execution_count": null,
   "id": "97aa6cde-12c9-423d-93d0-6f966fcc50e4",
   "metadata": {},
   "outputs": [],
   "source": [
    "from cellrank.tl.kernels import ConnectivityKernel"
   ]
  },
  {
   "cell_type": "code",
   "execution_count": null,
   "id": "fef0a25f-d3d6-4185-bb32-9a2497aa4035",
   "metadata": {},
   "outputs": [],
   "source": [
    "ck_bf1 = []\n",
    "for obj in ef_qcd_bf1_scv_varKine:\n",
    "    x = ConnectivityKernel(obj).compute_transition_matrix()\n",
    "    ck_bf1.append(x)"
   ]
  },
  {
   "cell_type": "code",
   "execution_count": null,
   "id": "0760cbb3-3681-4d9b-a86a-a3b13ee4b004",
   "metadata": {
    "tags": []
   },
   "outputs": [],
   "source": [
    "ck_bf2 = []\n",
    "for obj in ef_qcd_bf2_scv_varKine:\n",
    "    x = ConnectivityKernel(obj).compute_transition_matrix()\n",
    "    ck_bf2.append(x)"
   ]
  },
  {
   "cell_type": "code",
   "execution_count": null,
   "id": "586bdf36-dc96-4fc1-8316-ae465be5349f",
   "metadata": {},
   "outputs": [],
   "source": [
    "# from cellrank.tl.kernels import ConnectivityKernel\n",
    "\n",
    "# ck = ConnectivityKernel(ef_qcd_bf1_d5_scv).compute_transition_matrix()"
   ]
  },
  {
   "cell_type": "code",
   "execution_count": null,
   "id": "54535c56-bb6e-403a-8d2a-a9d12cc6f706",
   "metadata": {},
   "outputs": [],
   "source": [
    "combined_kernel_bf1 = []\n",
    "for obj, vk, ck in zip(ef_qcd_bf1_scv_varKine, vk_bf1, ck_bf1):\n",
    "    x = 0.8 * vk + 0.2 * ck\n",
    "    combined_kernel_bf1.append(x)"
   ]
  },
  {
   "cell_type": "code",
   "execution_count": null,
   "id": "912a2dff-d16a-4388-a244-ebc22e31dd85",
   "metadata": {},
   "outputs": [],
   "source": [
    "combined_kernel_bf2 = []\n",
    "for obj, vk, ck in zip(ef_qcd_bf2_scv_varKine, vk_bf2, ck_bf2):\n",
    "    x = 0.8 * vk + 0.2 * ck\n",
    "    combined_kernel_bf2.append(x)"
   ]
  },
  {
   "cell_type": "code",
   "execution_count": null,
   "id": "395aba6d-ad52-45eb-8ebd-4538e7bee877",
   "metadata": {},
   "outputs": [],
   "source": [
    "# combined_kernel = 0.8 * vk + 0.2 * ck"
   ]
  },
  {
   "cell_type": "code",
   "execution_count": null,
   "id": "8fdf4773-d2f0-4991-9684-164fa3239b8a",
   "metadata": {},
   "outputs": [],
   "source": [
    "print(combined_kernel_bf2)"
   ]
  },
  {
   "cell_type": "code",
   "execution_count": null,
   "id": "6f09fe21-be41-47f6-9072-066af85698e8",
   "metadata": {},
   "outputs": [],
   "source": [
    "from cellrank.tl.estimators import GPCCA"
   ]
  },
  {
   "cell_type": "code",
   "execution_count": null,
   "id": "6832705b-6edd-41e0-ac31-ddcdcb01acad",
   "metadata": {},
   "outputs": [],
   "source": [
    "g_bf1 = []\n",
    "for ck in ck_bf1:\n",
    "    x = GPCCA(ck)\n",
    "    g_bf1.append(x)\n",
    "    "
   ]
  },
  {
   "cell_type": "code",
   "execution_count": null,
   "id": "42f2d03b-1c27-4b7f-92c2-397568a95b94",
   "metadata": {},
   "outputs": [],
   "source": [
    "g_bf2 = []\n",
    "for ck in ck_bf2:\n",
    "    x = GPCCA(ck)\n",
    "    g_bf2.append(x)\n",
    "    "
   ]
  },
  {
   "cell_type": "code",
   "execution_count": null,
   "id": "632c3531-85e9-4ebe-85ca-d9c83920e970",
   "metadata": {},
   "outputs": [],
   "source": [
    "g_bf2"
   ]
  },
  {
   "cell_type": "code",
   "execution_count": null,
   "id": "72608f9f-aa39-4112-b226-f6769542167a",
   "metadata": {
    "jupyter": {
     "outputs_hidden": true
    },
    "tags": []
   },
   "outputs": [],
   "source": [
    "for g in g_bf1:\n",
    "    g.compute_schur(n_components=20)\n",
    "    g.plot_spectrum()"
   ]
  },
  {
   "cell_type": "code",
   "execution_count": null,
   "id": "7c3d53a7-9f27-450a-88f7-853101967c47",
   "metadata": {
    "jupyter": {
     "outputs_hidden": true
    },
    "tags": []
   },
   "outputs": [],
   "source": [
    "for g in g_bf2:\n",
    "    g.compute_schur(n_components=20)\n",
    "    g.plot_spectrum()\n"
   ]
  },
  {
   "cell_type": "code",
   "execution_count": null,
   "id": "85813de8-8755-4cb0-8b4e-4524851d6250",
   "metadata": {
    "tags": []
   },
   "outputs": [],
   "source": [
    "for g in g_bf1:\n",
    "    g.compute_macrostates(n_states=4, cluster_key=\"Stage\")\n",
    "    g.plot_macrostates()"
   ]
  },
  {
   "cell_type": "code",
   "execution_count": null,
   "id": "5bbf408f-9c79-495d-82fa-d482d97fa053",
   "metadata": {
    "tags": []
   },
   "outputs": [],
   "source": [
    "for g in g_bf2:\n",
    "    g.compute_macrostates(n_states=3, cluster_key=\"anno_300cells\")\n",
    "    g.plot_macrostates()"
   ]
  },
  {
   "cell_type": "code",
   "execution_count": null,
   "id": "75936a66-1b6e-4ba1-89de-2c361cde536c",
   "metadata": {},
   "outputs": [],
   "source": []
  },
  {
   "cell_type": "code",
   "execution_count": null,
   "id": "8f107ac2-10e6-4403-882d-938be5977809",
   "metadata": {
    "tags": []
   },
   "outputs": [],
   "source": [
    "for g in g_bf2:\n",
    "    g.compute_macrostates(n_states=3, cluster_key=\"Stage\")\n",
    "    g.plot_macrostates()"
   ]
  },
  {
   "cell_type": "code",
   "execution_count": null,
   "id": "0777e70c-651f-4592-bf08-92e784161cbc",
   "metadata": {},
   "outputs": [],
   "source": [
    "# g.compute_macrostates(n_states=2, cluster_key=\"Stage\")\n",
    "# g.plot_macrostates()\n"
   ]
  },
  {
   "cell_type": "code",
   "execution_count": null,
   "id": "b2770342-b4b1-4b83-a97e-4f36303bf7c2",
   "metadata": {
    "tags": []
   },
   "outputs": [],
   "source": [
    "for g in g_bf2:\n",
    "    g.plot_macrostates(same_plot=False)"
   ]
  },
  {
   "cell_type": "code",
   "execution_count": null,
   "id": "9fb6a623-9f70-442a-8f94-2d01a8697759",
   "metadata": {
    "tags": []
   },
   "outputs": [],
   "source": [
    "for g in g_bf2:\n",
    "    g.plot_macrostates(discrete=True)\n"
   ]
  },
  {
   "cell_type": "code",
   "execution_count": null,
   "id": "f5c70423-f061-424f-86d9-0dadc65675d2",
   "metadata": {
    "tags": []
   },
   "outputs": [],
   "source": [
    "for g in g_bf2:\n",
    "    g.compute_terminal_states()\n"
   ]
  },
  {
   "cell_type": "code",
   "execution_count": null,
   "id": "78c80c66-4928-4423-9a5c-a37d8ed5ea4a",
   "metadata": {
    "tags": []
   },
   "outputs": [],
   "source": [
    "# for g in g_bf2:\n",
    "#     scv.pl.scatter(g, c=['terminal_states', 'terminal_states_probs'], color_map='viridis')\n"
   ]
  },
  {
   "cell_type": "code",
   "execution_count": null,
   "id": "9890a75b-20ff-4cba-96fe-eb351a6a476e",
   "metadata": {},
   "outputs": [],
   "source": [
    "# sc.pl.umap(ef_qcd_bf1_d5_scv, color=\"Stage\")"
   ]
  },
  {
   "cell_type": "code",
   "execution_count": null,
   "id": "5442d37b-0a6d-4119-81c1-f47d1ca5367c",
   "metadata": {},
   "outputs": [],
   "source": [
    "# g.set_terminal_states({\"Male\": ef_qcd_bf1_d5_scv[ef_qcd_bf1_d5_scv.obs[\"Stage\"] == \"Male\"].obs_names, \"Female\": ef_qcd_bf1_d5_scv[ef_qcd_bf1_d5_scv.obs[\"Stage\"] == \"Female\"].obs_names, \"Trophozoite\": ef_qcd_bf1_d5_scv[ef_qcd_bf1_d5_scv.obs[\"Stage\"] == \"Female\"].obs_names})"
   ]
  },
  {
   "cell_type": "code",
   "execution_count": null,
   "id": "aff80177-8e33-4189-8515-2171a403a27d",
   "metadata": {},
   "outputs": [],
   "source": []
  },
  {
   "cell_type": "code",
   "execution_count": null,
   "id": "b1c23977-e75d-4e77-8fa9-cad0e97d87b7",
   "metadata": {},
   "outputs": [],
   "source": [
    "for g, obj in zip(g_bf1, ef_qcd_bf1_scv_varKine):\n",
    "    g.set_terminal_states({\"Gametocyte\": obj[obj.obs[\"Stage\"] == \"gametocyte (developing)\"].obs_names, \"Asexual commited Trophozoite\": obj[obj.obs[\"Stage\"] == \"late trophozoite\"].obs_names})"
   ]
  },
  {
   "cell_type": "code",
   "execution_count": null,
   "id": "b57d0e5e-ad18-490a-9859-24407a6edbe2",
   "metadata": {},
   "outputs": [],
   "source": [
    "v3_days_fnl"
   ]
  },
  {
   "cell_type": "code",
   "execution_count": null,
   "id": "f6fcd194-cc0d-41d3-af72-57ab06695726",
   "metadata": {},
   "outputs": [],
   "source": [
    "# for obj,v3_day in zip(ef_qcd_bf1_scv_varKine, v3_days):\n",
    "#     pickle.dump( obj, open( \"data/processed/PfDB52e/\"+v3_day+\"/scv_velocities.p\", \"wb\" ) )\n"
   ]
  },
  {
   "cell_type": "code",
   "execution_count": null,
   "id": "7866e135-fcb1-413d-8b43-00641effd55e",
   "metadata": {},
   "outputs": [],
   "source": [
    "# for obj,v3_day in zip(ef_qcd_bf2_scv_varKine, v3_days_fnl):\n",
    "#     pickle.dump( obj, open( \"data/processed/PfDB52e/\"+v3_day+\"/scv_velocities.p\", \"wb\" ) )"
   ]
  },
  {
   "cell_type": "code",
   "execution_count": null,
   "id": "6df4edab-e3d3-417a-82fd-0a32bb8de118",
   "metadata": {},
   "outputs": [],
   "source": [
    "# # Load the dictionary back from the pickle file.\n",
    "# ef_qcd_bf1_scv_loaded=[]\n",
    "# for v3_day in v3_days:\n",
    "#     x = pickle.load(open( \"data/processed/PfDB52e/\"+v3_day+\"/scv_velocities.p\", \"rb\" ) )\n",
    "#     ef_qcd_bf1_scv_loaded.append(x)\n"
   ]
  },
  {
   "cell_type": "code",
   "execution_count": null,
   "id": "301c10e4-d302-4253-8a48-f50255a32e11",
   "metadata": {},
   "outputs": [],
   "source": [
    "# g.set_terminal_states({\"gametocyte (developing)\": ef_qcd_bf1_d5_scv[ef_qcd_bf1_d5_scv.obs[\"Stage\"] == \"gametocyte (developing)\"].obs_names, \"late trophozoite\": ef_qcd_bf1_d5_scv[ef_qcd_bf1_d5_scv.obs[\"Stage\"] == \"late trophozoite\"].obs_names})"
   ]
  },
  {
   "cell_type": "code",
   "execution_count": null,
   "id": "ad2ce65b-82af-420f-870e-c651a3f7f3eb",
   "metadata": {
    "tags": []
   },
   "outputs": [],
   "source": [
    "for g in g_bf1:\n",
    "    g.compute_absorption_probabilities()"
   ]
  },
  {
   "cell_type": "code",
   "execution_count": null,
   "id": "c6ce463d-0a5f-4b5b-bea0-482d60fc36ed",
   "metadata": {},
   "outputs": [],
   "source": [
    "# g.compute_absorption_probabilities()"
   ]
  },
  {
   "cell_type": "code",
   "execution_count": null,
   "id": "c73edcb8-48a8-49f9-9ed2-5269f3629429",
   "metadata": {},
   "outputs": [],
   "source": [
    "early_gam_drivers = []\n",
    "for g in g_bf1:\n",
    "    x = g.compute_lineage_drivers(lineages=\"Gametocyte\", return_drivers=True)\n",
    "    early_gam_drivers.append(x)"
   ]
  },
  {
   "cell_type": "code",
   "execution_count": null,
   "id": "b9ed24ec-2e18-47ab-9303-ca4bd6072462",
   "metadata": {
    "tags": []
   },
   "outputs": [],
   "source": [
    "early_gam_drivers"
   ]
  },
  {
   "cell_type": "code",
   "execution_count": null,
   "id": "f4a10fca-74b3-47a0-92f0-9fa1b6f8e74a",
   "metadata": {
    "tags": []
   },
   "outputs": [],
   "source": [
    "for g in g_bf1:\n",
    "    g.plot_lineage_drivers(\"Gametocyte\", n_genes=4)"
   ]
  },
  {
   "cell_type": "code",
   "execution_count": null,
   "id": "c01b4b2d-b675-4196-a936-07e36512b622",
   "metadata": {},
   "outputs": [],
   "source": [
    "for g, obj in zip(g_bf2, ef_qcd_bf2_scv_varKine):\n",
    "    g.set_terminal_states({\"Male\": obj[obj.obs[\"Stage\"] == \"gametocyte (male)\"].obs_names, \"Female\": obj[obj.obs[\"Stage\"] == \"gametocyte (female)\"].obs_names})"
   ]
  },
  {
   "cell_type": "code",
   "execution_count": null,
   "id": "4d9bf8a6-2ed6-4549-8cb0-e4d605c623ea",
   "metadata": {},
   "outputs": [],
   "source": [
    "# for g, obj in zip(g_bf2[1:], ef_qcd_bf2_scv_varKine[1:]):\n",
    "#     g.set_terminal_states({\"Late male\": obj[obj.obs[\"anno_300cells\"] == \"Gametocytes (late male)\"].obs_names, \"Late female\": obj[obj.obs[\"anno_300cells\"] == \"Gametocytes (late female)\"].obs_names})"
   ]
  },
  {
   "cell_type": "code",
   "execution_count": null,
   "id": "afc58f88-029f-4fa0-9fb1-6152a037039b",
   "metadata": {
    "tags": []
   },
   "outputs": [],
   "source": [
    "for g in g_bf2:\n",
    "    g.compute_absorption_probabilities()"
   ]
  },
  {
   "cell_type": "code",
   "execution_count": null,
   "id": "a74b17cb-7c11-407a-b1f9-b7b7bafaa19c",
   "metadata": {
    "tags": []
   },
   "outputs": [],
   "source": [
    "male_drivers = []\n",
    "for g in g_bf2:\n",
    "    x = g.compute_lineage_drivers(lineages=\"Male\", return_drivers=True)\n",
    "    male_drivers.append(x)"
   ]
  },
  {
   "cell_type": "code",
   "execution_count": null,
   "id": "21de0852-b12b-4a8b-97c4-65fa4a0c803c",
   "metadata": {
    "tags": []
   },
   "outputs": [],
   "source": [
    "# Male_drivers = g.compute_lineage_drivers(lineages=\"gametocyte (developing)\", return_drivers=True)\n",
    "male_drivers[0]"
   ]
  },
  {
   "cell_type": "code",
   "execution_count": null,
   "id": "519f8704-abd6-4c17-938c-f8811e35e070",
   "metadata": {
    "tags": []
   },
   "outputs": [],
   "source": [
    "for g in g_bf2:\n",
    "    g.plot_lineage_drivers(\"Male\", n_genes=4)"
   ]
  },
  {
   "cell_type": "code",
   "execution_count": null,
   "id": "153936f3-cfcf-465a-acb6-dc74cf98ce44",
   "metadata": {},
   "outputs": [],
   "source": [
    "female_drivers = []\n",
    "for g in g_bf2:\n",
    "    x = g.compute_lineage_drivers(lineages=\"Female\", return_drivers=True)\n",
    "    female_drivers.append(x)"
   ]
  },
  {
   "cell_type": "code",
   "execution_count": null,
   "id": "beefaaa4-d6ec-4ddd-9b15-818de37894a3",
   "metadata": {
    "tags": []
   },
   "outputs": [],
   "source": [
    "# Male_drivers = g.compute_lineage_drivers(lineages=\"gametocyte (developing)\", return_drivers=True)\n",
    "female_drivers[3]"
   ]
  },
  {
   "cell_type": "code",
   "execution_count": null,
   "id": "24f15cda-0c85-461a-8bcb-bf6b41c399ee",
   "metadata": {
    "tags": []
   },
   "outputs": [],
   "source": [
    "for g in g_bf2:\n",
    "    g.plot_lineage_drivers(\"Female\", n_genes=4)"
   ]
  },
  {
   "cell_type": "code",
   "execution_count": null,
   "id": "14ec1d45-6de7-42ef-8d4d-372b8cab67b8",
   "metadata": {},
   "outputs": [],
   "source": [
    "sc.pl.umap(ef_qcd_bf1_scv_varKine[1], color='assignment2')"
   ]
  },
  {
   "cell_type": "code",
   "execution_count": null,
   "id": "e515f806-7a6f-4701-960b-edaed2f5b2ff",
   "metadata": {},
   "outputs": [],
   "source": [
    "ef_qcd_bf2_scv_varKine[1].obs.anno_300cells"
   ]
  },
  {
   "cell_type": "markdown",
   "id": "409674a4-6ca3-4090-8b39-644a3b66423a",
   "metadata": {},
   "source": [
    "day 5 has no late female and very few late male"
   ]
  },
  {
   "cell_type": "code",
   "execution_count": null,
   "id": "d4b43e09-33c8-4fc6-be57-0d77b443ae71",
   "metadata": {},
   "outputs": [],
   "source": [
    "sc.pl.umap(ef_qcd_bf2_scv_varKine[0], color='anno_300cells')"
   ]
  },
  {
   "cell_type": "code",
   "execution_count": null,
   "id": "48a0c0e2-e304-4ea1-b985-cd171996808b",
   "metadata": {
    "tags": []
   },
   "outputs": [],
   "source": [
    "for i, g in enumerate(g_bf2):\n",
    "    if i == 0:\n",
    "        g.set_terminal_states({\"Male (early+late)\": ef_qcd_bf2_scv_varKine[i][ef_qcd_bf2_scv_varKine[i].obs[\"anno_300cells\"].isin([\"Gametocytes (late male)\", \"Gametocytes (early male)\"])].obs_names, \"Early female\": ef_qcd_bf2_scv_varKine[i][ef_qcd_bf2_scv_varKine[i].obs[\"anno_300cells\"] == \"Gametocytes (early female)\"].obs_names})\n",
    "    else:\n",
    "        g.set_terminal_states({\"Late male\": ef_qcd_bf2_scv_varKine[i][ef_qcd_bf2_scv_varKine[i].obs[\"anno_300cells\"] == \"Gametocytes (late male)\"].obs_names, \"Late female\": ef_qcd_bf2_scv_varKine[i][ef_qcd_bf2_scv_varKine[i].obs[\"anno_300cells\"] == \"Gametocytes (late female)\"].obs_names})        "
   ]
  },
  {
   "cell_type": "code",
   "execution_count": null,
   "id": "f9e3b79f-e924-43a8-a260-42b19fe99723",
   "metadata": {},
   "outputs": [],
   "source": [
    "# for g, obj in zip(g_bf2[1:], ef_qcd_bf2_scv_varKine[1:]):\n",
    "#     g.set_terminal_states({\"Late male\": obj[obj.obs[\"anno_300cells\"] == \"Gametocytes (late male)\"].obs_names, \"Late female\": obj[obj.obs[\"anno_300cells\"] == \"Gametocytes (late female)\"].obs_names})"
   ]
  },
  {
   "cell_type": "code",
   "execution_count": null,
   "id": "5858eebd-9f0b-4176-81c8-2b707bb4b2a1",
   "metadata": {},
   "outputs": [],
   "source": [
    "# for g, obj in g_bf2[1:]:\n",
    "#     g.compute_initial_states()\n"
   ]
  },
  {
   "cell_type": "code",
   "execution_count": null,
   "id": "19ce9805-560a-4232-92e3-da0641d9e41a",
   "metadata": {
    "tags": []
   },
   "outputs": [],
   "source": [
    "for g in g_bf2:\n",
    "    g.compute_absorption_probabilities()"
   ]
  },
  {
   "cell_type": "code",
   "execution_count": null,
   "id": "429f5914-fc82-4b33-a55d-82035efafa87",
   "metadata": {
    "tags": []
   },
   "outputs": [],
   "source": [
    "for g in g_bf2:\n",
    "    g.plot_absorption_probabilities()"
   ]
  },
  {
   "cell_type": "code",
   "execution_count": null,
   "id": "61b2a12f-f398-46f3-b221-9f49c86cc72b",
   "metadata": {},
   "outputs": [],
   "source": [
    "branching_gam_drivers_m = []\n",
    "for i, g in enumerate(g_bf2):\n",
    "    if i == 0:\n",
    "        x = g.compute_lineage_drivers(lineages=\"Male (early+late)\", return_drivers=True, cluster_key = 'anno_300cells', clusters= 'Gametocytes (branching)')\n",
    "        branching_gam_drivers_m.append(x)    \n",
    "    else:\n",
    "        x = g.compute_lineage_drivers(lineages=\"Late male\", return_drivers=True, cluster_key = 'anno_300cells', clusters= 'Gametocytes (branching)')\n",
    "        branching_gam_drivers_m.append(x)"
   ]
  },
  {
   "cell_type": "code",
   "execution_count": null,
   "id": "e8ecfbcf-d923-4274-a563-dc8b2576822f",
   "metadata": {},
   "outputs": [],
   "source": [
    "# branching_gam_drivers_m = []\n",
    "# for g in g_bf2[1:]:\n",
    "#     x = g.compute_lineage_drivers(lineages=\"Late male\", return_drivers=True, cluster_key = 'anno_300cells', clusters= 'Gametocytes (branching)')\n",
    "#     branching_gam_drivers_m.append(x)"
   ]
  },
  {
   "cell_type": "code",
   "execution_count": null,
   "id": "8b0f7c76-8ee0-48ea-b096-86c9eaf032f2",
   "metadata": {},
   "outputs": [],
   "source": [
    "branching_gam_drivers_m[2]"
   ]
  },
  {
   "cell_type": "code",
   "execution_count": null,
   "id": "a0224be9-4cff-44e7-9e37-f779c003862a",
   "metadata": {
    "tags": []
   },
   "outputs": [],
   "source": [
    "for i, g in enumerate(g_bf2):\n",
    "    if i == 0:\n",
    "        g.plot_lineage_drivers(\"Male (early+late)\", n_genes=4)\n",
    "    else:\n",
    "        g.plot_lineage_drivers(\"Late male\", n_genes=4) "
   ]
  },
  {
   "cell_type": "code",
   "execution_count": null,
   "id": "a7c0b6c0-7d4a-4ac7-bc0c-ae4374efccfe",
   "metadata": {},
   "outputs": [],
   "source": [
    "Pf_genes_cln.loc[Pf_genes_cln.Gene.isin(branching_gam_drivers_m[2].index[:5].to_list())]"
   ]
  },
  {
   "cell_type": "code",
   "execution_count": null,
   "id": "b8076369-8c80-42bc-bcac-56efbefe0a4a",
   "metadata": {},
   "outputs": [],
   "source": [
    "for obj, dg in zip(ef_qcd_bf2_scv_varKine, branching_gam_drivers_m):\n",
    "    scv.pl.scatter(obj, dg.index[0:5].to_list(), color=['anno_300cells'], add_outline='Gametocytes (branching)')"
   ]
  },
  {
   "cell_type": "code",
   "execution_count": null,
   "id": "f495983b-8f57-4d91-bf01-b44e52b43db5",
   "metadata": {},
   "outputs": [],
   "source": [
    "for obj, dg in zip(ef_qcd_bf2_scv_varKine, branching_gam_drivers_m):\n",
    "    scv.pl.scatter(obj, dg.index[0:5].to_list(), color=['anno_300cells'], add_outline='Gametocytes (branching)')"
   ]
  },
  {
   "cell_type": "code",
   "execution_count": null,
   "id": "446c10f8-b8c0-4e03-9266-2935dac3f6a5",
   "metadata": {},
   "outputs": [],
   "source": [
    "branching_gam_drivers_f = []\n",
    "for i, g in enumerate(g_bf2):\n",
    "    if i == 0:\n",
    "        x = g.compute_lineage_drivers(lineages=\"Early female\", return_drivers=True, cluster_key = 'anno_300cells', clusters= 'Gametocytes (branching)')\n",
    "        branching_gam_drivers_f.append(x)    \n",
    "    else:\n",
    "        x = g.compute_lineage_drivers(lineages=\"Late female\", return_drivers=True, cluster_key = 'anno_300cells', clusters= 'Gametocytes (branching)')\n",
    "        branching_gam_drivers_f.append(x)"
   ]
  },
  {
   "cell_type": "code",
   "execution_count": null,
   "id": "a30f83ed-1675-4cdd-8239-469160748882",
   "metadata": {
    "jupyter": {
     "outputs_hidden": true
    },
    "tags": []
   },
   "outputs": [],
   "source": [
    "for i, g in enumerate(g_bf2):\n",
    "    if i == 0:\n",
    "        g.plot_lineage_drivers(\"Early female\", n_genes=4)\n",
    "    else:\n",
    "        g.plot_lineage_drivers(\"Late female\", n_genes=4) "
   ]
  },
  {
   "cell_type": "code",
   "execution_count": null,
   "id": "dc5b53f3-a98e-446d-b886-8dd0005c70e5",
   "metadata": {},
   "outputs": [],
   "source": [
    "# branching_gam_drivers_f = []\n",
    "# for g in g_bf2[1:]:\n",
    "#     x = g.compute_lineage_drivers(lineages=\"Late female\", return_drivers=True, cluster_key = 'anno_300cells', clusters= 'Gametocytes (branching)')\n",
    "#     branching_gam_drivers_f.append(x)"
   ]
  },
  {
   "cell_type": "code",
   "execution_count": null,
   "id": "5165e312-d009-432f-a1ab-c609d9d33c28",
   "metadata": {
    "jupyter": {
     "outputs_hidden": true
    },
    "tags": []
   },
   "outputs": [],
   "source": [
    "# branching_gam_drivers_f[2]['Late female_pval']"
   ]
  },
  {
   "cell_type": "code",
   "execution_count": null,
   "id": "a54d3e9a-1803-48dd-982d-ad37ecf3ccfd",
   "metadata": {},
   "outputs": [],
   "source": [
    "Pf_genes_cln.loc[Pf_genes_cln.Gene.isin(branching_gam_drivers_f[0].index[:5].to_list())]"
   ]
  },
  {
   "cell_type": "code",
   "execution_count": null,
   "id": "bf5804e7-af9f-42d3-9b0f-0b0b21f45065",
   "metadata": {},
   "outputs": [],
   "source": [
    "ef_qcd_bf2_scv_varKine[1].obs.columns"
   ]
  },
  {
   "cell_type": "code",
   "execution_count": null,
   "id": "19a36e02-d547-4583-ab29-e74c66ec4a1f",
   "metadata": {},
   "outputs": [],
   "source": [
    "for obj, dg in zip(ef_qcd_bf2_scv_varKine, branching_gam_drivers_f):\n",
    "    scv.pl.scatter(obj, dg.index[0:5].to_list(), color=['anno_300cells'], add_outline='Gametocytes (branching)')"
   ]
  },
  {
   "cell_type": "code",
   "execution_count": null,
   "id": "ecd2b282-85b0-460c-97e4-e530e4cd8573",
   "metadata": {},
   "outputs": [],
   "source": [
    "for obj, dg in zip(ef_qcd_bf2_scv_varKine, branching_gam_drivers_f):\n",
    "    scv.pl.scatter(obj, dg.index[0:5].to_list(), color=['anno_300cells'], add_outline='Gametocytes (late male)')"
   ]
  },
  {
   "cell_type": "code",
   "execution_count": null,
   "id": "e85ce49f-7c97-4273-8a34-49ad011e1301",
   "metadata": {},
   "outputs": [],
   "source": [
    "for obj, dg in zip(ef_qcd_bf2_scv_varKine, branching_gam_drivers_f):\n",
    "    scv.pl.scatter(obj, dg.index[0:5].to_list(), color='anno_300cells', add_outline=['Gametocytes (early female)','Gametocytes (late female)'])"
   ]
  },
  {
   "cell_type": "code",
   "execution_count": null,
   "id": "f21738c1-530c-4e5b-bdaa-4f07d007436f",
   "metadata": {},
   "outputs": [],
   "source": []
  },
  {
   "cell_type": "code",
   "execution_count": null,
   "id": "cc1a3226-25ea-461e-86b7-94cf3f4f1f82",
   "metadata": {},
   "outputs": [],
   "source": [
    "branching_gam_drivers_fd = []\n",
    "for i, g in enumerate(g_bf2):\n",
    "    if i == 0:\n",
    "        x = g.compute_lineage_drivers(lineages=\"Early female\", return_drivers=True, cluster_key = 'anno_300cells', clusters= 'Gametocytes (developing)')\n",
    "        branching_gam_drivers_fd.append(x)    \n",
    "    else:\n",
    "        x = g.compute_lineage_drivers(lineages=\"Late female\", return_drivers=True, cluster_key = 'anno_300cells', clusters= 'Gametocytes (developing)')\n",
    "        branching_gam_drivers_fd.append(x)"
   ]
  },
  {
   "cell_type": "code",
   "execution_count": null,
   "id": "e9427239-174d-4d1e-8917-0a530bef8306",
   "metadata": {
    "jupyter": {
     "outputs_hidden": true
    },
    "tags": []
   },
   "outputs": [],
   "source": [
    "for i, g in enumerate(g_bf2):\n",
    "    if i == 0:\n",
    "        g.plot_lineage_drivers(\"Early female\", n_genes=4)\n",
    "    else:\n",
    "        g.plot_lineage_drivers(\"Late female\", n_genes=4) "
   ]
  },
  {
   "cell_type": "code",
   "execution_count": null,
   "id": "ac8b1b08-79be-46f6-bb26-00f90b0390f4",
   "metadata": {},
   "outputs": [],
   "source": [
    "# branching_gam_drivers_f = []\n",
    "# for g in g_bf2[1:]:\n",
    "#     x = g.compute_lineage_drivers(lineages=\"Late female\", return_drivers=True, cluster_key = 'anno_300cells', clusters= 'Gametocytes (branching)')\n",
    "#     branching_gam_drivers_f.append(x)"
   ]
  },
  {
   "cell_type": "code",
   "execution_count": null,
   "id": "e5d29556-6116-4008-9572-75bfc93b086c",
   "metadata": {
    "jupyter": {
     "outputs_hidden": true
    },
    "tags": []
   },
   "outputs": [],
   "source": [
    "# branching_gam_drivers_f[2]['Late female_pval']"
   ]
  },
  {
   "cell_type": "code",
   "execution_count": null,
   "id": "6960cb0e-b818-4356-82d6-e649c1bea509",
   "metadata": {},
   "outputs": [],
   "source": [
    "Pf_genes_cln.loc[Pf_genes_cln.Gene.isin(branching_gam_drivers_f[0].index[:5].to_list())]"
   ]
  },
  {
   "cell_type": "code",
   "execution_count": null,
   "id": "42920d58-6ac8-4ff8-9c2d-035f4441e12f",
   "metadata": {},
   "outputs": [],
   "source": [
    "ef_qcd_bf2_scv_varKine[1].obs.columns"
   ]
  },
  {
   "cell_type": "code",
   "execution_count": null,
   "id": "e1eb59cc-bbad-430c-9125-810095593669",
   "metadata": {},
   "outputs": [],
   "source": [
    "for obj, dg in zip(ef_qcd_bf2_scv_varKine, branching_gam_drivers_fd):\n",
    "    scv.pl.scatter(obj, dg.index[0:5].to_list(), color=['anno_300cells'], add_outline='Gametocytes (developing)')"
   ]
  },
  {
   "cell_type": "code",
   "execution_count": null,
   "id": "0da2e87d-d672-4184-be4e-7ecef02a7f24",
   "metadata": {},
   "outputs": [],
   "source": [
    "for obj, dg in zip(ef_qcd_bf2_scv_varKine, branching_gam_drivers_fd):\n",
    "    scv.pl.scatter(obj, dg.index[0:5].to_list(), color=['anno_300cells'], add_outline='Gametocytes (late male)')"
   ]
  },
  {
   "cell_type": "code",
   "execution_count": null,
   "id": "3bfa0e7d-4ff8-4b9d-af49-9024d78ea995",
   "metadata": {},
   "outputs": [],
   "source": [
    "for obj, dg in zip(ef_qcd_bf2_scv_varKine, branching_gam_drivers_f):\n",
    "    scv.pl.scatter(obj, dg.index[0:5].to_list(), color='anno_300cells', add_outline=['Gametocytes (early female)','Gametocytes (late female)'])"
   ]
  },
  {
   "cell_type": "code",
   "execution_count": null,
   "id": "7446d7b3-6d60-43c0-ae5e-94b74655aff9",
   "metadata": {
    "jupyter": {
     "outputs_hidden": true
    },
    "tags": []
   },
   "outputs": [],
   "source": [
    "ef_qcd_bf2_scv_varKine[1].obs"
   ]
  },
  {
   "cell_type": "code",
   "execution_count": null,
   "id": "be557cb3-7386-4e60-80be-cfd5e50ead8d",
   "metadata": {},
   "outputs": [],
   "source": [
    "# for g in g_bf1:\n",
    "#     g.compute_projection(basis=\"umap\")"
   ]
  },
  {
   "cell_type": "code",
   "execution_count": null,
   "id": "4ff04e7b-89b6-4b0d-9e08-674271d5ce9e",
   "metadata": {
    "tags": []
   },
   "outputs": [],
   "source": [
    "# for obj in ef_qcd_bf1_scv:    \n",
    "#     k = cr.tl.transition_matrix(\n",
    "#         obj, weight_connectivities=0.2, softmax_scale=4, show_progress_bar=False\n",
    "#     )\n",
    "#     k.compute_projection(basis=\"umap\")\n",
    "#     scv.pl.velocity_embedding_stream(obj, vkey=\"T_fwd\", basis=\"umap\")"
   ]
  },
  {
   "cell_type": "code",
   "execution_count": null,
   "id": "81fe8e45-6804-44b9-85c3-39a07817dfc1",
   "metadata": {},
   "outputs": [],
   "source": [
    "# for obj in ef_qcd_bf1_scv:   \n",
    "#     model = cr.ul.models.GAM(obj)\n",
    "#     cr.pl.cluster_lineage(\n",
    "#         obj,\n",
    "#         model,\n",
    "#         obj.var_names[:10],\n",
    "#         lineage=\"gametocyte (developing)\",\n",
    "#         time_key=\"dpt_pseudotime\",\n",
    "#         show_progress_bar=False,\n",
    "#     )\n"
   ]
  },
  {
   "cell_type": "code",
   "execution_count": null,
   "id": "7571812e-626d-44b6-a128-0685a3fe3aa3",
   "metadata": {},
   "outputs": [],
   "source": [
    "End - Kernels and estimators"
   ]
  }
 ],
 "metadata": {
  "kernelspec": {
   "display_name": "Python 3 (ipykernel)",
   "language": "python",
   "name": "python3"
  },
  "language_info": {
   "codemirror_mode": {
    "name": "ipython",
    "version": 3
   },
   "file_extension": ".py",
   "mimetype": "text/x-python",
   "name": "python",
   "nbconvert_exporter": "python",
   "pygments_lexer": "ipython3",
   "version": "3.9.12"
  }
 },
 "nbformat": 4,
 "nbformat_minor": 5
}
